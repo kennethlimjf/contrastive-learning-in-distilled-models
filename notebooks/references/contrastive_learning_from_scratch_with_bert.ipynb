{
 "cells": [
  {
   "cell_type": "markdown",
   "metadata": {},
   "source": [
    "# Contrastive Learning From Scratch\n",
    "\n",
    "An attempt to build contrastive learning model from scratch. Parts include:\n",
    "\n",
    "- Loading and preparing Wiki-1M data for model input\n",
    "- Contrastive learning model\n",
    "  - Forward passing using pre-trained model\n",
    "  - Constrastive layer\n",
    "  - Calculate loss\n",
    "- Training procedure\n",
    "  - Default trainer optimizer\n",
    "  - Default trainer hyper-parameters"
   ]
  },
  {
   "cell_type": "code",
   "execution_count": 1,
   "metadata": {},
   "outputs": [
    {
     "output_type": "stream",
     "name": "stdout",
     "text": [
      "/workspace/gatech/cs7643-deep-learning/contrastive-learning-in-distilled-models\n"
     ]
    }
   ],
   "source": [
    "import os\n",
    "\n",
    "# Set Project home\n",
    "PROJECT_HOME = os.path.join('/',\n",
    "                            'workspace',\n",
    "                            'gatech',\n",
    "                            'cs7643-deep-learning',\n",
    "                            'contrastive-learning-in-distilled-models')\n",
    "%cd {PROJECT_HOME}\n",
    "\n",
    "# Load project code\n",
    "%reload_ext autoreload\n",
    "%autoreload 2\n",
    "\n",
    "import sys\n",
    "sys.path.insert(0, './src')\n",
    "\n",
    "import distilface"
   ]
  },
  {
   "cell_type": "markdown",
   "metadata": {},
   "source": [
    "## 1. Loading and Preparing Wiki-1M data\n",
    "\n",
    "Use huggingface `datasets` library to load local file data."
   ]
  },
  {
   "cell_type": "code",
   "execution_count": 2,
   "metadata": {},
   "outputs": [
    {
     "output_type": "stream",
     "name": "stderr",
     "text": [
      "Using custom data configuration default-6f9f73136c15fb9f\n",
      "Reusing dataset text (./data/text/default-6f9f73136c15fb9f/0.0.0/4b86d314f7236db91f0a0f5cda32d4375445e64c5eda2692655dd99c2dac68e8)\n"
     ]
    },
    {
     "output_type": "display_data",
     "data": {
      "text/plain": "  0%|          | 0/1 [00:00<?, ?it/s]",
      "application/vnd.jupyter.widget-view+json": {
       "version_major": 2,
       "version_minor": 0,
       "model_id": "a3f16d431eff4b95b95965adc5f2e3c7"
      }
     },
     "metadata": {}
    }
   ],
   "source": [
    "import numpy as np\n",
    "\n",
    "from datasets import load_dataset\n",
    "\n",
    "# data_files = {'train': 'data/training/wiki1m_for_simcse.txt'}\n",
    "# data_files = {'train': 'data/training/wiki5k.txt'}\n",
    "data_files = {'train': 'data/training/wiki5n.txt'}\n",
    "datasets = load_dataset('text', data_files=data_files, cache_dir='./data/')"
   ]
  },
  {
   "cell_type": "code",
   "execution_count": 3,
   "metadata": {},
   "outputs": [
    {
     "output_type": "stream",
     "name": "stdout",
     "text": [
      "column_names: ['text']\nsent0_cname: text | sent1_cname: text\n"
     ]
    }
   ],
   "source": [
    "# Unsupervised / Self-supervised dataset\n",
    "\n",
    "column_names = datasets[\"train\"].column_names\n",
    "sent0_cname = column_names[0]\n",
    "sent1_cname = column_names[0]\n",
    "\n",
    "print('column_names:', column_names)\n",
    "print('sent0_cname:', sent0_cname, '| sent1_cname:', sent1_cname)"
   ]
  },
  {
   "cell_type": "code",
   "execution_count": 4,
   "metadata": {},
   "outputs": [],
   "source": [
    "from transformers import AutoTokenizer\n",
    "\n",
    "tokenizer = AutoTokenizer.from_pretrained('bert-base-uncased')"
   ]
  },
  {
   "cell_type": "code",
   "execution_count": 5,
   "metadata": {},
   "outputs": [],
   "source": [
    "def prepare_features(examples):\n",
    "    total = len(examples[sent0_cname])\n",
    "\n",
    "    # Avoid \"None\" fields \n",
    "    for idx in range(total):\n",
    "        if examples[sent0_cname][idx] is None:\n",
    "            examples[sent0_cname][idx] = \" \"\n",
    "        if examples[sent1_cname][idx] is None:\n",
    "            examples[sent1_cname][idx] = \" \"\n",
    "\n",
    "    sentences = examples[sent0_cname] + examples[sent1_cname]\n",
    "\n",
    "    sent_features = tokenizer(\n",
    "        sentences,\n",
    "        max_length=32,\n",
    "        truncation=True,\n",
    "        padding=True,\n",
    "    )\n",
    "\n",
    "    features = {}\n",
    "    for key in sent_features:\n",
    "        features[key] = [[sent_features[key][i], sent_features[key][i+total]] for i in range(total)]\n",
    "\n",
    "    return features"
   ]
  },
  {
   "cell_type": "code",
   "execution_count": 6,
   "metadata": {
    "tags": []
   },
   "outputs": [
    {
     "output_type": "stream",
     "name": "stderr",
     "text": [
      "Loading cached processed dataset at ./data/text/default-6f9f73136c15fb9f/0.0.0/4b86d314f7236db91f0a0f5cda32d4375445e64c5eda2692655dd99c2dac68e8/cache-3de2cf246b8c327b.arrow\n"
     ]
    }
   ],
   "source": [
    "train_dataset = datasets[\"train\"].map(prepare_features,\n",
    "                                      batched=True,\n",
    "                                    #   num_proc=24,\n",
    "                                      remove_columns=column_names)"
   ]
  },
  {
   "cell_type": "code",
   "execution_count": 7,
   "metadata": {},
   "outputs": [
    {
     "output_type": "execute_result",
     "data": {
      "text/plain": [
       "5"
      ]
     },
     "metadata": {},
     "execution_count": 7
    }
   ],
   "source": [
    "train_dataset.num_rows"
   ]
  },
  {
   "cell_type": "code",
   "execution_count": 8,
   "metadata": {},
   "outputs": [
    {
     "output_type": "execute_result",
     "data": {
      "text/plain": [
       "'[101, 26866, 1999, 2148, 2660, 102, 0, 0, 0, 0, 0, 0, 0, 0, 0, 0, 0, 0, 0, 0, 0, 0, 0, 0, 0, 0, 0, 0, 0, 0, 0, 0]'"
      ]
     },
     "metadata": {},
     "execution_count": 8
    }
   ],
   "source": [
    "str(train_dataset['input_ids'][0][0])"
   ]
  },
  {
   "cell_type": "code",
   "execution_count": 9,
   "metadata": {},
   "outputs": [
    {
     "output_type": "execute_result",
     "data": {
      "text/plain": [
       "'[101, 26866, 1999, 2148, 2660, 102, 0, 0, 0, 0, 0, 0, 0, 0, 0, 0, 0, 0, 0, 0, 0, 0, 0, 0, 0, 0, 0, 0, 0, 0, 0, 0]'"
      ]
     },
     "metadata": {},
     "execution_count": 9
    }
   ],
   "source": [
    "str(train_dataset['input_ids'][0][1])"
   ]
  },
  {
   "cell_type": "code",
   "execution_count": 10,
   "metadata": {},
   "outputs": [
    {
     "output_type": "execute_result",
     "data": {
      "text/plain": [
       "dict_keys(['input_ids', 'token_type_ids', 'attention_mask'])"
      ]
     },
     "metadata": {},
     "execution_count": 10
    }
   ],
   "source": [
    "train_dataset.features.keys()"
   ]
  },
  {
   "cell_type": "markdown",
   "metadata": {},
   "source": [
    "Sentence 1 and Sentence 2 are the same sentence"
   ]
  },
  {
   "cell_type": "markdown",
   "metadata": {},
   "source": [
    "## 2. Contrastive Learning Model"
   ]
  },
  {
   "cell_type": "code",
   "execution_count": 13,
   "metadata": {
    "tags": []
   },
   "outputs": [
    {
     "output_type": "stream",
     "name": "stderr",
     "text": [
      "Some weights of the model checkpoint at bert-base-uncased were not used when initializing BertCLModel: ['cls.seq_relationship.weight', 'cls.seq_relationship.bias', 'cls.predictions.bias', 'cls.predictions.transform.LayerNorm.weight', 'cls.predictions.decoder.weight', 'bert.pooler.dense.bias', 'bert.pooler.dense.weight', 'cls.predictions.transform.dense.bias', 'cls.predictions.transform.dense.weight', 'cls.predictions.transform.LayerNorm.bias']\n- This IS expected if you are initializing BertCLModel from the checkpoint of a model trained on another task or with another architecture (e.g. initializing a BertForSequenceClassification model from a BertForPreTraining model).\n- This IS NOT expected if you are initializing BertCLModel from the checkpoint of a model that you expect to be exactly identical (initializing a BertForSequenceClassification model from a BertForSequenceClassification model).\n"
     ]
    }
   ],
   "source": [
    "import torch\n",
    "from transformers import AutoTokenizer, BertModel, BertPreTrainedModel, AutoConfig\n",
    "from src.distilface.models.cl_bert import BertCLModel\n",
    "\n",
    "pretrained_model_name = 'bert-base-uncased'\n",
    "\n",
    "device = torch.device(\"cuda\" if torch.cuda.is_available() else \"cpu\")\n",
    "config = AutoConfig.from_pretrained(pretrained_model_name)\n",
    "\n",
    "model = BertCLModel.from_pretrained(pretrained_model_name, config=config).to(device)\n",
    "tokenizer = AutoTokenizer.from_pretrained(pretrained_model_name)\n",
    "\n",
    "model.eval();"
   ]
  },
  {
   "cell_type": "markdown",
   "metadata": {},
   "source": [
    "## 3. Trainer"
   ]
  },
  {
   "cell_type": "code",
   "execution_count": 14,
   "metadata": {},
   "outputs": [
    {
     "output_type": "stream",
     "name": "stderr",
     "text": [
      "max_steps is given, it will override any value given in num_train_epochs\n"
     ]
    }
   ],
   "source": [
    "# import mlflow\n",
    "\n",
    "from transformers import Trainer, TrainingArguments\n",
    "from transformers import default_data_collator\n",
    "\n",
    "training_args = TrainingArguments(\n",
    "    output_dir='output',\n",
    "    overwrite_output_dir=True,\n",
    "    learning_rate=5e-05,\n",
    "    weight_decay=0.0,\n",
    "    num_train_epochs=1,\n",
    "    eval_steps=100,\n",
    "    max_steps=5,\n",
    ")\n",
    "\n",
    "\n",
    "trainer = Trainer(\n",
    "    model=model,\n",
    "    args=training_args,\n",
    "    train_dataset=train_dataset,\n",
    "    tokenizer=tokenizer,\n",
    "    data_collator=default_data_collator\n",
    ")"
   ]
  },
  {
   "cell_type": "code",
   "execution_count": 16,
   "metadata": {},
   "outputs": [
    {
     "output_type": "stream",
     "name": "stderr",
     "text": [
      "***** Running training *****\n",
      "  Num examples = 5\n",
      "  Num Epochs = 5\n",
      "  Instantaneous batch size per device = 8\n",
      "  Total train batch size (w. parallel, distributed & accumulation) = 8\n",
      "  Gradient Accumulation steps = 1\n",
      "  Total optimization steps = 5\n",
      "Before input shape torch.Size([5, 2, 32])\n",
      "After input shape torch.Size([10, 32])\n",
      "pooler_output before: torch.Size([10, 768])\n",
      "pooler_output after: torch.Size([5, 2, 768])\n",
      "z1 torch.Size([5, 768])\n",
      "z2 torch.Size([5, 768])\n",
      "\n",
      "\n",
      "\n",
      "z1.unsqueeze(1): torch.Size([5, 1, 768])\n",
      "z2.unsqueeze(0): torch.Size([1, 5, 768])\n"
     ]
    },
    {
     "output_type": "display_data",
     "data": {
      "text/plain": "<IPython.core.display.HTML object>",
      "text/html": "\n    <div>\n      \n      <progress value='2' max='5' style='width:300px; height:20px; vertical-align: middle;'></progress>\n      [2/5 : < :, Epoch 1/5]\n    </div>\n    <table border=\"1\" class=\"dataframe\">\n  <thead>\n <tr style=\"text-align: left;\">\n      <th>Step</th>\n      <th>Training Loss</th>\n    </tr>\n  </thead>\n  <tbody>\n  </tbody>\n</table><p>"
     },
     "metadata": {}
    },
    {
     "output_type": "stream",
     "name": "stdout",
     "text": [
      "Before input shape torch.Size([5, 2, 32])\n",
      "After input shape torch.Size([10, 32])\n",
      "pooler_output before: torch.Size([10, 768])\n",
      "pooler_output after: torch.Size([5, 2, 768])\n",
      "z1 torch.Size([5, 768])\n",
      "z2 torch.Size([5, 768])\n",
      "\n",
      "\n",
      "\n",
      "z1.unsqueeze(1): torch.Size([5, 1, 768])\n",
      "z2.unsqueeze(0): torch.Size([1, 5, 768])\n",
      "Before input shape torch.Size([5, 2, 32])\n",
      "After input shape torch.Size([10, 32])\n",
      "pooler_output before: torch.Size([10, 768])\n",
      "pooler_output after: torch.Size([5, 2, 768])\n",
      "z1 torch.Size([5, 768])\n",
      "z2 torch.Size([5, 768])\n",
      "\n",
      "\n",
      "\n",
      "z1.unsqueeze(1): torch.Size([5, 1, 768])\n",
      "z2.unsqueeze(0): torch.Size([1, 5, 768])\n",
      "Before input shape torch.Size([5, 2, 32])\n",
      "After input shape torch.Size([10, 32])\n",
      "pooler_output before: torch.Size([10, 768])\n",
      "pooler_output after: torch.Size([5, 2, 768])\n",
      "z1 torch.Size([5, 768])\n",
      "z2 torch.Size([5, 768])\n",
      "\n",
      "\n",
      "\n",
      "z1.unsqueeze(1): torch.Size([5, 1, 768])\n",
      "z2.unsqueeze(0): torch.Size([1, 5, 768])\n",
      "Before input shape torch.Size([5, 2, 32])\n",
      "After input shape torch.Size([10, 32])\n",
      "pooler_output before: torch.Size([10, 768])\n",
      "pooler_output after: torch.Size([5, 2, 768])\n",
      "z1 torch.Size([5, 768])\n",
      "z2 torch.Size([5, 768])\n",
      "\n",
      "\n",
      "\n",
      "z1.unsqueeze(1): torch.Size([5, 1, 768])\n",
      "z2.unsqueeze(0): torch.Size([1, 5, 768])\n",
      "\n",
      "\n",
      "Training completed. Do not forget to share your model on huggingface.co/models =)\n",
      "\n",
      "\n"
     ]
    }
   ],
   "source": [
    "model.train()\n",
    "train_result = trainer.train()"
   ]
  },
  {
   "cell_type": "code",
   "execution_count": 56,
   "metadata": {},
   "outputs": [],
   "source": [
    "cos_sim = nn.CosineSimilarity(dim=-1)"
   ]
  },
  {
   "cell_type": "code",
   "execution_count": null,
   "metadata": {},
   "outputs": [],
   "source": []
  },
  {
   "cell_type": "markdown",
   "metadata": {},
   "source": [
    "## 4. Evaluate Bert CL Model performance"
   ]
  },
  {
   "cell_type": "code",
   "execution_count": 55,
   "metadata": {},
   "outputs": [],
   "source": [
    "import senteval\n",
    "\n",
    "\n",
    "def prepare(params, samples):\n",
    "    return\n",
    "\n",
    "def batcher(params, batch):\n",
    "    sentences = [\" \".join(s) for s in batch]\n",
    "    batch = tokenizer.batch_encode_plus(\n",
    "        sentences,\n",
    "        return_tensors=\"pt\",\n",
    "        padding=True,\n",
    "    )\n",
    "\n",
    "    for k in batch:\n",
    "        batch[k] = batch[k].to(device)\n",
    "\n",
    "    model.eval()\n",
    "    with torch.no_grad():\n",
    "        outputs = model(**batch)\n",
    "    model.train()\n",
    "\n",
    "    pooled_result = outputs.pooler_output.cpu()\n",
    "\n",
    "    return pooled_result\n",
    "\n",
    "\n",
    "def evaluate_model():\n",
    "    PATH_TO_DATA = \"./data\"\n",
    "\n",
    "    params = {\"task_path\": PATH_TO_DATA, \"usepytorch\": True, \"kfold\": 10}\n",
    "    tasks = [\"STSBenchmark\", 'STS12', 'STS13', 'STS14', 'STS15']\n",
    "\n",
    "    se = senteval.engine.SE(params, batcher, prepare)\n",
    "    results = se.eval(tasks)\n",
    "\n",
    "    print('STS12: ', results[\"STS12\"][\"all\"][\"spearman\"][\"all\"])\n",
    "    print('STS13: ', results[\"STS13\"][\"all\"][\"spearman\"][\"all\"])\n",
    "    print('STS14: ', results[\"STS14\"][\"all\"][\"spearman\"][\"all\"])\n",
    "    print('STS15: ', results[\"STS15\"][\"all\"][\"spearman\"][\"all\"])\n",
    "    print('STSB: ', results[\"STSBenchmark\"][\"test\"][\"spearman\"][0])\n",
    "\n",
    "    return results"
   ]
  },
  {
   "cell_type": "code",
   "execution_count": 17,
   "metadata": {},
   "outputs": [
    {
     "name": "stdout",
     "output_type": "stream",
     "text": [
      "STS12:  0.5675054534807098\n",
      "STS13:  0.7281554777556237\n",
      "STS14:  0.6335945639499094\n",
      "STS15:  0.7600618289222154\n",
      "STSB:  0.7113600318308351\n"
     ]
    },
    {
     "data": {
      "text/plain": [
       "{'STSBenchmark': {'train': {'pearson': (0.7414994287646051, 0.0),\n",
       "   'spearman': SpearmanrResult(correlation=0.7102657603877065, pvalue=0.0),\n",
       "   'nsamples': 5749},\n",
       "  'dev': {'pearson': (0.7561389569108177, 3.798134217661319e-278),\n",
       "   'spearman': SpearmanrResult(correlation=0.7619754084096394, pvalue=5.964770119842861e-285),\n",
       "   'nsamples': 1500},\n",
       "  'test': {'pearson': (0.7272632396921386, 2.519373640229751e-227),\n",
       "   'spearman': SpearmanrResult(correlation=0.7113600318308351, pvalue=3.899147457192333e-213),\n",
       "   'nsamples': 1379},\n",
       "  'all': {'pearson': {'all': 0.7409343456431441,\n",
       "    'mean': 0.7416338751225204,\n",
       "    'wmean': 0.7417692001471257},\n",
       "   'spearman': {'all': 0.7242768878083036,\n",
       "    'mean': 0.7278670668760604,\n",
       "    'wmean': 0.7194305114717322}}},\n",
       " 'STS12': {'MSRpar': {'pearson': (0.4222923718591043, 8.57578903746429e-34),\n",
       "   'spearman': SpearmanrResult(correlation=0.44805503021367254, pvalue=2.5934246235314064e-38),\n",
       "   'nsamples': 750},\n",
       "  'MSRvid': {'pearson': (0.8216320722327597, 9.008398593888601e-185),\n",
       "   'spearman': SpearmanrResult(correlation=0.8224521757114495, pvalue=1.9001860085853616e-185),\n",
       "   'nsamples': 750},\n",
       "  'SMTeuroparl': {'pearson': (0.515932053409946, 1.38994143544846e-32),\n",
       "   'spearman': SpearmanrResult(correlation=0.6361195670121766, pvalue=2.0073558639855149e-53),\n",
       "   'nsamples': 459},\n",
       "  'surprise.OnWN': {'pearson': (0.7063674433121332, 2.339608699650211e-114),\n",
       "   'spearman': SpearmanrResult(correlation=0.6730993478716646, pvalue=4.214053033034443e-100),\n",
       "   'nsamples': 750},\n",
       "  'surprise.SMTnews': {'pearson': (0.6377911909856145, 6.021450884970318e-47),\n",
       "   'spearman': SpearmanrResult(correlation=0.592244370741714, pvalue=3.900329830774243e-39),\n",
       "   'nsamples': 399},\n",
       "  'all': {'pearson': {'all': 0.5997480478874818,\n",
       "    'mean': 0.6208030263599116,\n",
       "    'wmean': 0.6287034791735596},\n",
       "   'spearman': {'all': 0.5675054534807098,\n",
       "    'mean': 0.6343940983101355,\n",
       "    'wmean': 0.638992696438907}}},\n",
       " 'STS13': {'FNWN': {'pearson': (0.5694793932541152, 1.2214646800640155e-17),\n",
       "   'spearman': SpearmanrResult(correlation=0.5961879275288781, pvalue=1.4193953559878053e-19),\n",
       "   'nsamples': 189},\n",
       "  'headlines': {'pearson': (0.7420908383714201, 4.395069615722071e-132),\n",
       "   'spearman': SpearmanrResult(correlation=0.7354621848399308, pvalue=1.4108626665057556e-128),\n",
       "   'nsamples': 750},\n",
       "  'OnWN': {'pearson': (0.7227932372149044, 9.102418326515145e-92),\n",
       "   'spearman': SpearmanrResult(correlation=0.7306309556286554, pvalue=1.056805898338835e-94),\n",
       "   'nsamples': 561},\n",
       "  'all': {'pearson': {'all': 0.7164135927850692,\n",
       "    'mean': 0.6781211562801466,\n",
       "    'wmean': 0.7131244934541028},\n",
       "   'spearman': {'all': 0.7281554777556237,\n",
       "    'mean': 0.6874270226658213,\n",
       "    'wmean': 0.7161067486937212}}},\n",
       " 'STS14': {'deft-forum': {'pearson': (0.5019017369809224,\n",
       "    4.3539754826687756e-30),\n",
       "   'spearman': SpearmanrResult(correlation=0.4946313770319897, pvalue=3.825933770320795e-29),\n",
       "   'nsamples': 450},\n",
       "  'deft-news': {'pearson': (0.7697641789575917, 4.789342131169548e-60),\n",
       "   'spearman': SpearmanrResult(correlation=0.7385259182396289, pvalue=6.008500685858838e-53),\n",
       "   'nsamples': 300},\n",
       "  'headlines': {'pearson': (0.7049380312712636, 1.0535980470866028e-113),\n",
       "   'spearman': SpearmanrResult(correlation=0.6637393508292739, pvalue=2.0176872615970892e-96),\n",
       "   'nsamples': 750},\n",
       "  'images': {'pearson': (0.790724748035009, 1.405211241125639e-161),\n",
       "   'spearman': SpearmanrResult(correlation=0.7471930174723529, pvalue=7.405524469828097e-135),\n",
       "   'nsamples': 750},\n",
       "  'OnWN': {'pearson': (0.791700818533508, 2.9948952846341616e-162),\n",
       "   'spearman': SpearmanrResult(correlation=0.7992326565124671, pvalue=1.4849531102438301e-167),\n",
       "   'nsamples': 750},\n",
       "  'tweet-news': {'pearson': (0.7202080658733282, 6.768588341161651e-121),\n",
       "   'spearman': SpearmanrResult(correlation=0.6381107170508609, pvalue=5.380284170286621e-87),\n",
       "   'nsamples': 750},\n",
       "  'all': {'pearson': {'all': 0.6736347978764035,\n",
       "    'mean': 0.7132062632752706,\n",
       "    'wmean': 0.7233236754969398},\n",
       "   'spearman': {'all': 0.6335945639499094,\n",
       "    'mean': 0.6802388395227622,\n",
       "    'wmean': 0.6880929870760001}}},\n",
       " 'STS15': {'answers-forums': {'pearson': (0.7030912320822422,\n",
       "    3.448821341945262e-57),\n",
       "   'spearman': SpearmanrResult(correlation=0.7006192528198204, pvalue=1.2390629001684323e-56),\n",
       "   'nsamples': 375},\n",
       "  'answers-students': {'pearson': (0.6914119650712299, 1.041188331753728e-107),\n",
       "   'spearman': SpearmanrResult(correlation=0.6911753670565828, pvalue=1.3165619927070525e-107),\n",
       "   'nsamples': 750},\n",
       "  'belief': {'pearson': (0.7852944161965156, 1.1290529417546076e-79),\n",
       "   'spearman': SpearmanrResult(correlation=0.7975877148297975, pvalue=6.702458024498846e-84),\n",
       "   'nsamples': 375},\n",
       "  'headlines': {'pearson': (0.7721763192760744, 1.820970919218139e-149),\n",
       "   'spearman': SpearmanrResult(correlation=0.769377927402412, pvalue=9.730567470252223e-148),\n",
       "   'nsamples': 750},\n",
       "  'images': {'pearson': (0.8366643492131784, 9.582482417372567e-198),\n",
       "   'spearman': SpearmanrResult(correlation=0.8456620741198532, pvalue=3.69071021206184e-206),\n",
       "   'nsamples': 750},\n",
       "  'all': {'pearson': {'all': 0.7535023298767061,\n",
       "    'mean': 0.7577276563678481,\n",
       "    'wmean': 0.7611113644249654},\n",
       "   'spearman': {'all': 0.7600618289222154,\n",
       "    'mean': 0.7608844672456933,\n",
       "    'wmean': 0.7638297131009143}}}}"
      ]
     },
     "execution_count": 17,
     "metadata": {},
     "output_type": "execute_result"
    }
   ],
   "source": [
    "model.eval()\n",
    "\n",
    "results = evaluate_model()\n",
    "results"
   ]
  }
 ],
 "metadata": {
  "kernelspec": {
   "display_name": "cl-distilled",
   "language": "python",
   "name": "cl-distilled"
  },
  "language_info": {
   "codemirror_mode": {
    "name": "ipython",
    "version": 3
   },
   "file_extension": ".py",
   "mimetype": "text/x-python",
   "name": "python",
   "nbconvert_exporter": "python",
   "pygments_lexer": "ipython3",
   "version": "3.8.12"
  },
  "toc": {
   "base_numbering": 1,
   "nav_menu": {},
   "number_sections": false,
   "sideBar": true,
   "skip_h1_title": false,
   "title_cell": "Table of Contents",
   "title_sidebar": "Contents",
   "toc_cell": false,
   "toc_position": {},
   "toc_section_display": true,
   "toc_window_display": false
  }
 },
 "nbformat": 4,
 "nbformat_minor": 4
}