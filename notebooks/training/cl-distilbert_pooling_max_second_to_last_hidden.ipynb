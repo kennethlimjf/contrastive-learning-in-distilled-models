{
 "cells": [
  {
   "cell_type": "markdown",
   "id": "974650d7",
   "metadata": {
    "papermill": {
     "duration": 0.022131,
     "end_time": "2022-04-09T04:32:54.199495",
     "exception": false,
     "start_time": "2022-04-09T04:32:54.177364",
     "status": "completed"
    },
    "tags": []
   },
   "source": [
    "# Contrastive Learning From Scratch - DistilBERT\n",
    "\n",
    "An attempt to build contrastive learning model from scratch. Parts include:\n",
    "\n",
    "- Loading and preparing Wiki-1M data for model input\n",
    "- Contrastive learning model\n",
    "  - Forward passing using pre-trained model\n",
    "  - Constrastive layer\n",
    "  - Calculate loss\n",
    "- Training procedure\n",
    "  - Default trainer optimizer\n",
    "  - Default trainer hyper-parameters"
   ]
  },
  {
   "cell_type": "code",
   "execution_count": 1,
   "id": "431ddd5b",
   "metadata": {
    "execution": {
     "iopub.execute_input": "2022-04-09T04:32:54.237814Z",
     "iopub.status.busy": "2022-04-09T04:32:54.237136Z",
     "iopub.status.idle": "2022-04-09T04:32:54.258292Z",
     "shell.execute_reply": "2022-04-09T04:32:54.257235Z"
    },
    "papermill": {
     "duration": 0.039589,
     "end_time": "2022-04-09T04:32:54.259642",
     "exception": false,
     "start_time": "2022-04-09T04:32:54.220053",
     "status": "completed"
    },
    "tags": []
   },
   "outputs": [
    {
     "name": "stdout",
     "output_type": "stream",
     "text": [
      "/notebooks/contrastive-learning-in-distilled-models\n"
     ]
    }
   ],
   "source": [
    "import os\n",
    "\n",
    "# Set Project home\n",
    "PROJECT_HOME = os.path.join('/',\n",
    "                            'notebooks',\n",
    "                            'contrastive-learning-in-distilled-models')\n",
    "%cd {PROJECT_HOME}\n",
    "\n",
    "# Load project code\n",
    "%reload_ext autoreload\n",
    "%autoreload 2\n",
    "\n",
    "import sys\n",
    "sys.path.insert(0, f'{PROJECT_HOME}/src')\n",
    "\n",
    "import distilface"
   ]
  },
  {
   "cell_type": "code",
   "execution_count": 2,
   "id": "4e0b26d8",
   "metadata": {
    "execution": {
     "iopub.execute_input": "2022-04-09T04:32:54.300529Z",
     "iopub.status.busy": "2022-04-09T04:32:54.299813Z",
     "iopub.status.idle": "2022-04-09T04:32:54.310140Z",
     "shell.execute_reply": "2022-04-09T04:32:54.309241Z"
    },
    "papermill": {
     "duration": 0.030113,
     "end_time": "2022-04-09T04:32:54.311330",
     "exception": false,
     "start_time": "2022-04-09T04:32:54.281217",
     "status": "completed"
    },
    "tags": [
     "parameters"
    ]
   },
   "outputs": [],
   "source": [
    "# Hyperparameters\n",
    "\n",
    "pooling_method = 'avg_first_last'\n",
    "batch_size = 64\n",
    "epochs = 2\n",
    "max_steps = 30_000\n",
    "temperature = 0.05\n",
    "learning_rate = 5e-5\n",
    "max_len = 32\n",
    "fp16 = True"
   ]
  },
  {
   "cell_type": "code",
   "execution_count": 3,
   "id": "8bbc2aa0",
   "metadata": {
    "execution": {
     "iopub.execute_input": "2022-04-09T04:32:54.347007Z",
     "iopub.status.busy": "2022-04-09T04:32:54.346699Z",
     "iopub.status.idle": "2022-04-09T04:32:54.355302Z",
     "shell.execute_reply": "2022-04-09T04:32:54.354599Z"
    },
    "papermill": {
     "duration": 0.024866,
     "end_time": "2022-04-09T04:32:54.356457",
     "exception": false,
     "start_time": "2022-04-09T04:32:54.331591",
     "status": "completed"
    },
    "tags": [
     "injected-parameters"
    ]
   },
   "outputs": [],
   "source": [
    "# Parameters\n",
    "pooling_method = \"max_second_to_last_hidden\"\n"
   ]
  },
  {
   "cell_type": "markdown",
   "id": "11b30403",
   "metadata": {
    "papermill": {
     "duration": 0.016569,
     "end_time": "2022-04-09T04:32:54.396512",
     "exception": false,
     "start_time": "2022-04-09T04:32:54.379943",
     "status": "completed"
    },
    "tags": []
   },
   "source": [
    "## 1. Loading and Preparing Wiki-1M data\n",
    "\n",
    "Use huggingface `datasets` library to load local file data."
   ]
  },
  {
   "cell_type": "code",
   "execution_count": 4,
   "id": "4bd649e8",
   "metadata": {
    "execution": {
     "iopub.execute_input": "2022-04-09T04:32:54.429085Z",
     "iopub.status.busy": "2022-04-09T04:32:54.428510Z",
     "iopub.status.idle": "2022-04-09T04:32:55.749101Z",
     "shell.execute_reply": "2022-04-09T04:32:55.748509Z"
    },
    "papermill": {
     "duration": 1.336146,
     "end_time": "2022-04-09T04:32:55.750469",
     "exception": false,
     "start_time": "2022-04-09T04:32:54.414323",
     "status": "completed"
    },
    "tags": []
   },
   "outputs": [
    {
     "name": "stderr",
     "output_type": "stream",
     "text": [
      "Using custom data configuration default-235a9b97f9ebd10e\n"
     ]
    },
    {
     "name": "stderr",
     "output_type": "stream",
     "text": [
      "Reusing dataset text (./data/text/default-235a9b97f9ebd10e/0.0.0/4b86d314f7236db91f0a0f5cda32d4375445e64c5eda2692655dd99c2dac68e8)\n"
     ]
    },
    {
     "data": {
      "application/vnd.jupyter.widget-view+json": {
       "model_id": "69dbe34d8a78404686fdd9c19d448090",
       "version_major": 2,
       "version_minor": 0
      },
      "text/plain": [
       "  0%|          | 0/1 [00:00<?, ?it/s]"
      ]
     },
     "metadata": {},
     "output_type": "display_data"
    }
   ],
   "source": [
    "import numpy as np\n",
    "\n",
    "from datasets import load_dataset\n",
    "\n",
    "data_files = {'train': 'data/training/wiki1m_for_simcse.txt'}\n",
    "# data_files = {'train': 'data/training/wiki5k.txt'}\n",
    "datasets = load_dataset('text', data_files=data_files, cache_dir='./data/')"
   ]
  },
  {
   "cell_type": "code",
   "execution_count": 5,
   "id": "9e09ab71",
   "metadata": {
    "execution": {
     "iopub.execute_input": "2022-04-09T04:32:55.784986Z",
     "iopub.status.busy": "2022-04-09T04:32:55.784802Z",
     "iopub.status.idle": "2022-04-09T04:32:55.805281Z",
     "shell.execute_reply": "2022-04-09T04:32:55.804638Z"
    },
    "papermill": {
     "duration": 0.039032,
     "end_time": "2022-04-09T04:32:55.806524",
     "exception": false,
     "start_time": "2022-04-09T04:32:55.767492",
     "status": "completed"
    },
    "tags": []
   },
   "outputs": [],
   "source": [
    "# Unsupervised / Self-supervised dataset\n",
    "\n",
    "column_names = datasets[\"train\"].column_names\n",
    "sent0_cname = column_names[0]\n",
    "sent1_cname = column_names[0]"
   ]
  },
  {
   "cell_type": "code",
   "execution_count": 6,
   "id": "68be7b44",
   "metadata": {
    "execution": {
     "iopub.execute_input": "2022-04-09T04:32:55.845844Z",
     "iopub.status.busy": "2022-04-09T04:32:55.845674Z",
     "iopub.status.idle": "2022-04-09T04:32:56.714592Z",
     "shell.execute_reply": "2022-04-09T04:32:56.714009Z"
    },
    "papermill": {
     "duration": 0.886838,
     "end_time": "2022-04-09T04:32:56.716352",
     "exception": false,
     "start_time": "2022-04-09T04:32:55.829514",
     "status": "completed"
    },
    "tags": []
   },
   "outputs": [],
   "source": [
    "from transformers import AutoTokenizer\n",
    "\n",
    "tokenizer = AutoTokenizer.from_pretrained('distilbert-base-uncased')"
   ]
  },
  {
   "cell_type": "code",
   "execution_count": 7,
   "id": "0cd75c59",
   "metadata": {
    "execution": {
     "iopub.execute_input": "2022-04-09T04:32:56.752936Z",
     "iopub.status.busy": "2022-04-09T04:32:56.752405Z",
     "iopub.status.idle": "2022-04-09T04:32:56.775494Z",
     "shell.execute_reply": "2022-04-09T04:32:56.774944Z"
    },
    "papermill": {
     "duration": 0.04223,
     "end_time": "2022-04-09T04:32:56.776680",
     "exception": false,
     "start_time": "2022-04-09T04:32:56.734450",
     "status": "completed"
    },
    "tags": []
   },
   "outputs": [],
   "source": [
    "def prepare_features(examples):\n",
    "    total = len(examples[sent0_cname])\n",
    "\n",
    "    # Avoid \"None\" fields \n",
    "    for idx in range(total):\n",
    "        if examples[sent0_cname][idx] is None:\n",
    "            examples[sent0_cname][idx] = \" \"\n",
    "        if examples[sent1_cname][idx] is None:\n",
    "            examples[sent1_cname][idx] = \" \"\n",
    "\n",
    "    sentences = examples[sent0_cname] + examples[sent1_cname]\n",
    "\n",
    "    sent_features = tokenizer(\n",
    "        sentences,\n",
    "        max_length=max_len,\n",
    "        truncation=True,\n",
    "        padding=True,\n",
    "    )\n",
    "\n",
    "    features = {}\n",
    "    for key in sent_features:\n",
    "        features[key] = [[sent_features[key][i], sent_features[key][i+total]] for i in range(total)]\n",
    "\n",
    "    return features"
   ]
  },
  {
   "cell_type": "code",
   "execution_count": 8,
   "id": "4db93acc",
   "metadata": {
    "execution": {
     "iopub.execute_input": "2022-04-09T04:32:56.810516Z",
     "iopub.status.busy": "2022-04-09T04:32:56.809938Z",
     "iopub.status.idle": "2022-04-09T04:32:56.853549Z",
     "shell.execute_reply": "2022-04-09T04:32:56.852922Z"
    },
    "papermill": {
     "duration": 0.062209,
     "end_time": "2022-04-09T04:32:56.854820",
     "exception": false,
     "start_time": "2022-04-09T04:32:56.792611",
     "status": "completed"
    },
    "tags": []
   },
   "outputs": [
    {
     "name": "stderr",
     "output_type": "stream",
     "text": [
      "Loading cached processed dataset at ./data/text/default-235a9b97f9ebd10e/0.0.0/4b86d314f7236db91f0a0f5cda32d4375445e64c5eda2692655dd99c2dac68e8/cache-305eab4ce3c7d88c.arrow\n"
     ]
    }
   ],
   "source": [
    "train_dataset = datasets[\"train\"].map(prepare_features,\n",
    "                                      batched=True,\n",
    "                                    #   num_proc=24,\n",
    "                                      remove_columns=column_names)"
   ]
  },
  {
   "cell_type": "code",
   "execution_count": 9,
   "id": "7f27f82b",
   "metadata": {
    "execution": {
     "iopub.execute_input": "2022-04-09T04:32:56.892643Z",
     "iopub.status.busy": "2022-04-09T04:32:56.891919Z",
     "iopub.status.idle": "2022-04-09T04:32:56.916397Z",
     "shell.execute_reply": "2022-04-09T04:32:56.916019Z"
    },
    "papermill": {
     "duration": 0.044781,
     "end_time": "2022-04-09T04:32:56.917555",
     "exception": false,
     "start_time": "2022-04-09T04:32:56.872774",
     "status": "completed"
    },
    "tags": []
   },
   "outputs": [
    {
     "data": {
      "text/plain": [
       "1000000"
      ]
     },
     "execution_count": 9,
     "metadata": {},
     "output_type": "execute_result"
    }
   ],
   "source": [
    "train_dataset.num_rows"
   ]
  },
  {
   "cell_type": "markdown",
   "id": "d6165cde",
   "metadata": {
    "papermill": {
     "duration": 0.016903,
     "end_time": "2022-04-09T04:32:56.951276",
     "exception": false,
     "start_time": "2022-04-09T04:32:56.934373",
     "status": "completed"
    },
    "tags": []
   },
   "source": [
    "## 2. Contrastive Learning Model"
   ]
  },
  {
   "cell_type": "code",
   "execution_count": 10,
   "id": "b8264e77",
   "metadata": {
    "execution": {
     "iopub.execute_input": "2022-04-09T04:32:56.986414Z",
     "iopub.status.busy": "2022-04-09T04:32:56.986084Z",
     "iopub.status.idle": "2022-04-09T04:33:01.012129Z",
     "shell.execute_reply": "2022-04-09T04:33:01.011372Z"
    },
    "papermill": {
     "duration": 4.045958,
     "end_time": "2022-04-09T04:33:01.014000",
     "exception": false,
     "start_time": "2022-04-09T04:32:56.968042",
     "status": "completed"
    },
    "tags": []
   },
   "outputs": [
    {
     "name": "stderr",
     "output_type": "stream",
     "text": [
      "Some weights of the model checkpoint at distilbert-base-uncased were not used when initializing DistilBertCLModel: ['vocab_layer_norm.weight', 'vocab_layer_norm.bias', 'vocab_transform.bias', 'vocab_projector.bias', 'vocab_projector.weight', 'vocab_transform.weight']\n",
      "- This IS expected if you are initializing DistilBertCLModel from the checkpoint of a model trained on another task or with another architecture (e.g. initializing a BertForSequenceClassification model from a BertForPreTraining model).\n",
      "- This IS NOT expected if you are initializing DistilBertCLModel from the checkpoint of a model that you expect to be exactly identical (initializing a BertForSequenceClassification model from a BertForSequenceClassification model).\n"
     ]
    }
   ],
   "source": [
    "import torch\n",
    "import torch.nn as nn\n",
    "\n",
    "from transformers import AutoTokenizer, DistilBertModel, DistilBertPreTrainedModel, AutoConfig\n",
    "from transformers.modeling_outputs import SequenceClassifierOutput, BaseModelOutputWithPooling\n",
    "\n",
    "from distilface.modules.pooler import Pooler\n",
    "from distilface.modules.similarity import Similarity\n",
    "\n",
    "\n",
    "class DistilBertCLModel(DistilBertPreTrainedModel):\n",
    "    def __init__(self, config, pooler_type=pooling_method, temp=temperature):\n",
    "        super().__init__(config)\n",
    "\n",
    "        self.config = config\n",
    "        self.pooler_type = pooler_type\n",
    "        self.temp = temperature\n",
    "\n",
    "        self.distilbert = DistilBertModel(config)\n",
    "        self.pooler = Pooler(pooler_type)\n",
    "        self.sim = Similarity(temp=temp)\n",
    "\n",
    "        self.init_weights()\n",
    "\n",
    "    def forward(self, input_ids=None, attention_mask=None):\n",
    "        if self.training:\n",
    "            return self.cl_forward(self.distilbert, input_ids, attention_mask)\n",
    "        else:\n",
    "            return self.sent_emb(self.distilbert, input_ids, attention_mask)\n",
    "\n",
    "    def cl_forward(self, encoder, input_ids=None, attention_mask=None):\n",
    "        batch_size = input_ids.size(0)\n",
    "        num_sent = input_ids.size(1)  # Number of sentences in one instance: 2 sentences\n",
    "\n",
    "        # Flatten all input tensors\n",
    "        input_ids = input_ids.view((-1, input_ids.size(-1))) # (bs * num_sent, len)\n",
    "        attention_mask = attention_mask.view((-1, attention_mask.size(-1))) # (bs * num_sent len)\n",
    "\n",
    "        # Pre-trained Model Encoder\n",
    "        outputs = encoder(\n",
    "            input_ids,\n",
    "            attention_mask=attention_mask,\n",
    "            output_hidden_states=True,\n",
    "            return_dict=True,\n",
    "        )\n",
    "\n",
    "        # Pooling\n",
    "        pooler_output = self.pooler(attention_mask, outputs)\n",
    "        pooler_output = pooler_output.view((batch_size, num_sent, pooler_output.size(-1)))  # (bs, num_sent, hidden)\n",
    "\n",
    "        # Separate representation\n",
    "        z1, z2 = pooler_output[:, 0], pooler_output[:, 1]\n",
    "\n",
    "        # Cosine similarity\n",
    "        cos_sim = self.sim(z1.unsqueeze(1), z2.unsqueeze(0))\n",
    "\n",
    "        # Calculate contrastive loss\n",
    "        criterion = nn.CrossEntropyLoss()\n",
    "        labels = torch.arange(cos_sim.size(0)).long().to(self.device)\n",
    "        loss = criterion(cos_sim, labels)\n",
    "\n",
    "        return SequenceClassifierOutput(\n",
    "            loss=loss,\n",
    "            logits=cos_sim,\n",
    "            hidden_states=outputs.hidden_states,\n",
    "            attentions=outputs.attentions,\n",
    "        )\n",
    "\n",
    "    def sent_emb(self, encoder, input_ids=None, attention_mask=None):\n",
    "        outputs = encoder(\n",
    "            input_ids,\n",
    "            attention_mask=attention_mask,\n",
    "            output_hidden_states=True,\n",
    "            return_dict=True,\n",
    "        )\n",
    "        pooler_output = self.pooler(attention_mask, outputs)\n",
    "\n",
    "        return BaseModelOutputWithPooling(\n",
    "            pooler_output=pooler_output,\n",
    "            last_hidden_state=outputs.last_hidden_state,\n",
    "            hidden_states=outputs.hidden_states,\n",
    "        )\n",
    "\n",
    "\n",
    "pretrained_model_name = 'distilbert-base-uncased'\n",
    "\n",
    "device = torch.device(\"cuda\" if torch.cuda.is_available() else \"cpu\")\n",
    "config = AutoConfig.from_pretrained(pretrained_model_name)\n",
    "\n",
    "model = DistilBertCLModel.from_pretrained(pretrained_model_name, config=config).to(device)\n",
    "tokenizer = AutoTokenizer.from_pretrained(pretrained_model_name)\n",
    "\n",
    "model.eval();"
   ]
  },
  {
   "cell_type": "markdown",
   "id": "8abbdf3e",
   "metadata": {
    "papermill": {
     "duration": 0.016812,
     "end_time": "2022-04-09T04:33:01.066595",
     "exception": false,
     "start_time": "2022-04-09T04:33:01.049783",
     "status": "completed"
    },
    "tags": []
   },
   "source": [
    "### 2.1 Initial DistilBERT embeddings performance"
   ]
  },
  {
   "cell_type": "code",
   "execution_count": 11,
   "id": "39bff93d",
   "metadata": {
    "execution": {
     "iopub.execute_input": "2022-04-09T04:33:01.103575Z",
     "iopub.status.busy": "2022-04-09T04:33:01.102895Z",
     "iopub.status.idle": "2022-04-09T04:33:01.505459Z",
     "shell.execute_reply": "2022-04-09T04:33:01.504551Z"
    },
    "papermill": {
     "duration": 0.423204,
     "end_time": "2022-04-09T04:33:01.507256",
     "exception": false,
     "start_time": "2022-04-09T04:33:01.084052",
     "status": "completed"
    },
    "tags": []
   },
   "outputs": [],
   "source": [
    "import senteval\n",
    "\n",
    "\n",
    "def prepare(params, samples):\n",
    "    return\n",
    "\n",
    "def batcher(params, batch):\n",
    "    sentences = [\" \".join(s) for s in batch]\n",
    "    batch = tokenizer.batch_encode_plus(\n",
    "        sentences,\n",
    "        return_tensors=\"pt\",\n",
    "        padding=True,\n",
    "    )\n",
    "\n",
    "    for k in batch:\n",
    "        batch[k] = batch[k].to(device)\n",
    "\n",
    "    with torch.no_grad():\n",
    "        outputs = model(**batch)\n",
    "\n",
    "    pooled_result = outputs.pooler_output.cpu()\n",
    "\n",
    "    return pooled_result\n",
    "\n",
    "\n",
    "def evaluate_model():\n",
    "    PATH_TO_DATA = \"./data\"\n",
    "\n",
    "    params = {\"task_path\": PATH_TO_DATA, \"usepytorch\": True, \"kfold\": 10}\n",
    "    tasks = [\"STSBenchmark\", 'STS12', 'STS13', 'STS14', 'STS15']\n",
    "\n",
    "    se = senteval.engine.SE(params, batcher, prepare)\n",
    "    results = se.eval(tasks)\n",
    "\n",
    "    print('STS12: ', results[\"STS12\"][\"all\"][\"spearman\"][\"all\"])\n",
    "    print('STS13: ', results[\"STS13\"][\"all\"][\"spearman\"][\"all\"])\n",
    "    print('STS14: ', results[\"STS14\"][\"all\"][\"spearman\"][\"all\"])\n",
    "    print('STS15: ', results[\"STS15\"][\"all\"][\"spearman\"][\"all\"])\n",
    "    print('STSB: ', results[\"STSBenchmark\"][\"test\"][\"spearman\"][0])\n",
    "\n",
    "    return results"
   ]
  },
  {
   "cell_type": "code",
   "execution_count": 12,
   "id": "38c00692",
   "metadata": {
    "execution": {
     "iopub.execute_input": "2022-04-09T04:33:01.554587Z",
     "iopub.status.busy": "2022-04-09T04:33:01.553817Z",
     "iopub.status.idle": "2022-04-09T04:33:19.425223Z",
     "shell.execute_reply": "2022-04-09T04:33:19.424194Z"
    },
    "papermill": {
     "duration": 17.900233,
     "end_time": "2022-04-09T04:33:19.426662",
     "exception": false,
     "start_time": "2022-04-09T04:33:01.526429",
     "status": "completed"
    },
    "tags": []
   },
   "outputs": [
    {
     "name": "stderr",
     "output_type": "stream",
     "text": [
      "/opt/conda/lib/python3.8/site-packages/SentEval-0.1.0-py3.8.egg/senteval/sts.py:42: VisibleDeprecationWarning: Creating an ndarray from ragged nested sequences (which is a list-or-tuple of lists-or-tuples-or ndarrays with different lengths or shapes) is deprecated. If you meant to do this, you must specify 'dtype=object' when creating the ndarray.\n",
      "/opt/conda/lib/python3.8/site-packages/SentEval-0.1.0-py3.8.egg/senteval/sts.py:43: VisibleDeprecationWarning: Creating an ndarray from ragged nested sequences (which is a list-or-tuple of lists-or-tuples-or ndarrays with different lengths or shapes) is deprecated. If you meant to do this, you must specify 'dtype=object' when creating the ndarray.\n"
     ]
    },
    {
     "name": "stdout",
     "output_type": "stream",
     "text": [
      "STS12:  0.45932236961417205\n",
      "STS13:  0.6290435344050521\n",
      "STS14:  0.5514138412040057\n",
      "STS15:  0.6857679919765348\n",
      "STSB:  0.5899033711808911\n"
     ]
    },
    {
     "data": {
      "text/plain": [
       "{'STSBenchmark': {'train': {'pearson': (0.6300203329552283, 0.0),\n",
       "   'spearman': SpearmanrResult(correlation=0.6004833847476772, pvalue=0.0),\n",
       "   'nsamples': 5749},\n",
       "  'dev': {'pearson': (0.6947433418386892, 1.216241349590226e-216),\n",
       "   'spearman': SpearmanrResult(correlation=0.7020477620707247, pvalue=3.991399712271885e-223),\n",
       "   'nsamples': 1500},\n",
       "  'test': {'pearson': (0.5883675976180325, 3.211862754175328e-129),\n",
       "   'spearman': SpearmanrResult(correlation=0.5899033711808911, pvalue=4.752489516349233e-130),\n",
       "   'nsamples': 1379},\n",
       "  'all': {'pearson': {'all': 0.637250734025079,\n",
       "    'mean': 0.6377104241373167,\n",
       "    'wmean': 0.6346153018118809},\n",
       "   'spearman': {'all': 0.6224121407141205,\n",
       "    'mean': 0.6308115059997643,\n",
       "    'wmean': 0.6164496257393292}}},\n",
       " 'STS12': {'MSRpar': {'pearson': (0.3729688624131484, 3.6381650197906554e-26),\n",
       "   'spearman': SpearmanrResult(correlation=0.4208917531276387, pvalue=1.4722523920403766e-33),\n",
       "   'nsamples': 750},\n",
       "  'MSRvid': {'pearson': (0.6111083071919625, 5.474350106957209e-78),\n",
       "   'spearman': SpearmanrResult(correlation=0.6182496918583322, pvalue=2.762312730129e-80),\n",
       "   'nsamples': 750},\n",
       "  'SMTeuroparl': {'pearson': (0.4928713942532673, 1.8185095011813117e-29),\n",
       "   'spearman': SpearmanrResult(correlation=0.5935220290650733, pvalue=5.01604962216026e-45),\n",
       "   'nsamples': 459},\n",
       "  'surprise.OnWN': {'pearson': (0.6700438274598244, 6.932599356353726e-99),\n",
       "   'spearman': SpearmanrResult(correlation=0.6709251694968897, pvalue=3.1016234794059194e-99),\n",
       "   'nsamples': 750},\n",
       "  'surprise.SMTnews': {'pearson': (0.6650706024637855, 2.7267621607643817e-52),\n",
       "   'spearman': SpearmanrResult(correlation=0.5322724729963274, pvalue=1.4329087405953533e-30),\n",
       "   'nsamples': 399},\n",
       "  'all': {'pearson': {'all': 0.466675049088828,\n",
       "    'mean': 0.5624125987563977,\n",
       "    'wmean': 0.5573300798404123},\n",
       "   'spearman': {'all': 0.45932236961417205,\n",
       "    'mean': 0.5671722233088523,\n",
       "    'wmean': 0.56864648935925}}},\n",
       " 'STS13': {'FNWN': {'pearson': (0.39928472050722424, 1.2604377107603564e-08),\n",
       "   'spearman': SpearmanrResult(correlation=0.42596701261434106, pvalue=9.910110468373682e-10),\n",
       "   'nsamples': 189},\n",
       "  'headlines': {'pearson': (0.691601837155471, 8.62328308932548e-108),\n",
       "   'spearman': SpearmanrResult(correlation=0.6767940403945083, pvalue=1.3627047313929449e-101),\n",
       "   'nsamples': 750},\n",
       "  'OnWN': {'pearson': (0.5363712574558834, 4.139732827130012e-43),\n",
       "   'spearman': SpearmanrResult(correlation=0.5636364599565478, pvalue=2.3658661414976382e-48),\n",
       "   'nsamples': 561},\n",
       "  'all': {'pearson': {'all': 0.6147081621067356,\n",
       "    'mean': 0.5424192717061929,\n",
       "    'wmean': 0.5967136436501461},\n",
       "   'spearman': {'all': 0.6290435344050521,\n",
       "    'mean': 0.5554658376551324,\n",
       "    'wmean': 0.60286889981041}}},\n",
       " 'STS14': {'deft-forum': {'pearson': (0.361939983851606,\n",
       "    2.247023316322169e-15),\n",
       "   'spearman': SpearmanrResult(correlation=0.38242067420077214, pvalue=4.042402380099187e-17),\n",
       "   'nsamples': 450},\n",
       "  'deft-news': {'pearson': (0.7585021026116014, 2.3111561904147892e-57),\n",
       "   'spearman': SpearmanrResult(correlation=0.7234993474468382, pvalue=6.945549137129049e-50),\n",
       "   'nsamples': 300},\n",
       "  'headlines': {'pearson': (0.6573354764124255, 5.582884893282668e-94),\n",
       "   'spearman': SpearmanrResult(correlation=0.6143363148539069, pvalue=5.0970781768893937e-79),\n",
       "   'nsamples': 750},\n",
       "  'images': {'pearson': (0.6494800519079016, 4.590455686116945e-91),\n",
       "   'spearman': SpearmanrResult(correlation=0.628036182437184, pvalue=1.5688847258728412e-83),\n",
       "   'nsamples': 750},\n",
       "  'OnWN': {'pearson': (0.6819315490778002, 1.0603575313229225e-103),\n",
       "   'spearman': SpearmanrResult(correlation=0.720060966863626, pvalue=7.981205626703783e-121),\n",
       "   'nsamples': 750},\n",
       "  'tweet-news': {'pearson': (0.6805334338788612, 4.014832174423699e-103),\n",
       "   'spearman': SpearmanrResult(correlation=0.6299053901722358, pvalue=3.65091038545798e-84),\n",
       "   'nsamples': 750},\n",
       "  'all': {'pearson': {'all': 0.5745407143106421,\n",
       "    'mean': 0.6316204329566993,\n",
       "    'wmean': 0.6379690685265185},\n",
       "   'spearman': {'all': 0.5514138412040057,\n",
       "    'mean': 0.6163764793290939,\n",
       "    'wmean': 0.6222381995652303}}},\n",
       " 'STS15': {'answers-forums': {'pearson': (0.578814960140449,\n",
       "    6.367417164587122e-35),\n",
       "   'spearman': SpearmanrResult(correlation=0.5778736247109016, pvalue=8.653146034549974e-35),\n",
       "   'nsamples': 375},\n",
       "  'answers-students': {'pearson': (0.7137203527792398, 8.789014232549549e-118),\n",
       "   'spearman': SpearmanrResult(correlation=0.7184782766304457, pvalue=4.668938159464456e-120),\n",
       "   'nsamples': 750},\n",
       "  'belief': {'pearson': (0.6604188412568691, 2.432548779937018e-48),\n",
       "   'spearman': SpearmanrResult(correlation=0.7013543877323193, pvalue=8.482349419453193e-57),\n",
       "   'nsamples': 375},\n",
       "  'headlines': {'pearson': (0.705299283860797, 7.209101625602446e-114),\n",
       "   'spearman': SpearmanrResult(correlation=0.6955826774951558, pvalue=1.6021983055455098e-109),\n",
       "   'nsamples': 750},\n",
       "  'images': {'pearson': (0.756104278024142, 7.277907306112012e-140),\n",
       "   'spearman': SpearmanrResult(correlation=0.7644956406893523, pvalue=8.805751546276245e-145),\n",
       "   'nsamples': 750},\n",
       "  'all': {'pearson': {'all': 0.6668604951480916,\n",
       "    'mean': 0.6828715432122994,\n",
       "    'wmean': 0.6986852038407096},\n",
       "   'spearman': {'all': 0.6857679919765348,\n",
       "    'mean': 0.691556921451635,\n",
       "    'wmean': 0.7045426502591411}}}}"
      ]
     },
     "execution_count": 12,
     "metadata": {},
     "output_type": "execute_result"
    }
   ],
   "source": [
    "results = evaluate_model()\n",
    "results"
   ]
  },
  {
   "cell_type": "markdown",
   "id": "afeecf40",
   "metadata": {
    "papermill": {
     "duration": 0.020195,
     "end_time": "2022-04-09T04:33:19.467704",
     "exception": false,
     "start_time": "2022-04-09T04:33:19.447509",
     "status": "completed"
    },
    "tags": []
   },
   "source": [
    "## 3. Trainer"
   ]
  },
  {
   "cell_type": "code",
   "execution_count": 13,
   "id": "7457276b",
   "metadata": {
    "execution": {
     "iopub.execute_input": "2022-04-09T04:33:19.505760Z",
     "iopub.status.busy": "2022-04-09T04:33:19.505572Z",
     "iopub.status.idle": "2022-04-09T04:33:19.744151Z",
     "shell.execute_reply": "2022-04-09T04:33:19.743061Z"
    },
    "papermill": {
     "duration": 0.260113,
     "end_time": "2022-04-09T04:33:19.745636",
     "exception": false,
     "start_time": "2022-04-09T04:33:19.485523",
     "status": "completed"
    },
    "tags": []
   },
   "outputs": [
    {
     "name": "stderr",
     "output_type": "stream",
     "text": [
      "max_steps is given, it will override any value given in num_train_epochs\n"
     ]
    },
    {
     "name": "stderr",
     "output_type": "stream",
     "text": [
      "Using amp half precision backend\n"
     ]
    }
   ],
   "source": [
    "# import mlflow\n",
    "\n",
    "from transformers import Trainer, TrainingArguments\n",
    "from transformers import default_data_collator\n",
    "\n",
    "training_args = TrainingArguments(\n",
    "    output_dir='output',\n",
    "    overwrite_output_dir=True,\n",
    "    learning_rate=learning_rate,\n",
    "    num_train_epochs=epochs,\n",
    "    max_steps=max_steps,\n",
    "    per_device_train_batch_size=batch_size,\n",
    "    per_device_eval_batch_size=batch_size,\n",
    "    save_strategy='steps',\n",
    "    save_steps=max_steps,\n",
    "    fp16=fp16,\n",
    ")\n",
    "\n",
    "model.train()\n",
    "\n",
    "trainer = Trainer(\n",
    "    model=model,\n",
    "    args=training_args,\n",
    "    train_dataset=train_dataset,\n",
    "    tokenizer=tokenizer,\n",
    "    data_collator=default_data_collator\n",
    ")"
   ]
  },
  {
   "cell_type": "code",
   "execution_count": 14,
   "id": "460efe49",
   "metadata": {
    "execution": {
     "iopub.execute_input": "2022-04-09T04:33:19.798689Z",
     "iopub.status.busy": "2022-04-09T04:33:19.798498Z",
     "iopub.status.idle": "2022-04-09T05:11:14.493593Z",
     "shell.execute_reply": "2022-04-09T05:11:14.492622Z"
    },
    "papermill": {
     "duration": 2274.729062,
     "end_time": "2022-04-09T05:11:14.495005",
     "exception": false,
     "start_time": "2022-04-09T04:33:19.765943",
     "status": "completed"
    },
    "tags": []
   },
   "outputs": [
    {
     "name": "stderr",
     "output_type": "stream",
     "text": [
      "/opt/conda/lib/python3.8/site-packages/transformers/optimization.py:306: FutureWarning: This implementation of AdamW is deprecated and will be removed in a future version. Use the PyTorch implementation torch.optim.AdamW instead, or set `no_deprecation_warning=True` to disable this warning\n",
      "  warnings.warn(\n",
      "***** Running training *****\n"
     ]
    },
    {
     "name": "stderr",
     "output_type": "stream",
     "text": [
      "  Num examples = 1000000\n"
     ]
    },
    {
     "name": "stderr",
     "output_type": "stream",
     "text": [
      "  Num Epochs = 2\n"
     ]
    },
    {
     "name": "stderr",
     "output_type": "stream",
     "text": [
      "  Instantaneous batch size per device = 64\n"
     ]
    },
    {
     "name": "stderr",
     "output_type": "stream",
     "text": [
      "  Total train batch size (w. parallel, distributed & accumulation) = 64\n"
     ]
    },
    {
     "name": "stderr",
     "output_type": "stream",
     "text": [
      "  Gradient Accumulation steps = 1\n"
     ]
    },
    {
     "name": "stderr",
     "output_type": "stream",
     "text": [
      "  Total optimization steps = 30000\n"
     ]
    },
    {
     "data": {
      "text/html": [
       "\n",
       "    <div>\n",
       "      \n",
       "      <progress value='30000' max='30000' style='width:300px; height:20px; vertical-align: middle;'></progress>\n",
       "      [30000/30000 37:54, Epoch 1/2]\n",
       "    </div>\n",
       "    <table border=\"1\" class=\"dataframe\">\n",
       "  <thead>\n",
       " <tr style=\"text-align: left;\">\n",
       "      <th>Step</th>\n",
       "      <th>Training Loss</th>\n",
       "    </tr>\n",
       "  </thead>\n",
       "  <tbody>\n",
       "    <tr>\n",
       "      <td>500</td>\n",
       "      <td>0.028900</td>\n",
       "    </tr>\n",
       "    <tr>\n",
       "      <td>1000</td>\n",
       "      <td>0.001600</td>\n",
       "    </tr>\n",
       "    <tr>\n",
       "      <td>1500</td>\n",
       "      <td>0.001100</td>\n",
       "    </tr>\n",
       "    <tr>\n",
       "      <td>2000</td>\n",
       "      <td>0.000800</td>\n",
       "    </tr>\n",
       "    <tr>\n",
       "      <td>2500</td>\n",
       "      <td>0.000700</td>\n",
       "    </tr>\n",
       "    <tr>\n",
       "      <td>3000</td>\n",
       "      <td>0.000600</td>\n",
       "    </tr>\n",
       "    <tr>\n",
       "      <td>3500</td>\n",
       "      <td>0.000500</td>\n",
       "    </tr>\n",
       "    <tr>\n",
       "      <td>4000</td>\n",
       "      <td>0.000400</td>\n",
       "    </tr>\n",
       "    <tr>\n",
       "      <td>4500</td>\n",
       "      <td>0.000400</td>\n",
       "    </tr>\n",
       "    <tr>\n",
       "      <td>5000</td>\n",
       "      <td>0.000300</td>\n",
       "    </tr>\n",
       "    <tr>\n",
       "      <td>5500</td>\n",
       "      <td>0.000200</td>\n",
       "    </tr>\n",
       "    <tr>\n",
       "      <td>6000</td>\n",
       "      <td>0.000200</td>\n",
       "    </tr>\n",
       "    <tr>\n",
       "      <td>6500</td>\n",
       "      <td>0.000300</td>\n",
       "    </tr>\n",
       "    <tr>\n",
       "      <td>7000</td>\n",
       "      <td>0.000400</td>\n",
       "    </tr>\n",
       "    <tr>\n",
       "      <td>7500</td>\n",
       "      <td>0.000200</td>\n",
       "    </tr>\n",
       "    <tr>\n",
       "      <td>8000</td>\n",
       "      <td>0.000100</td>\n",
       "    </tr>\n",
       "    <tr>\n",
       "      <td>8500</td>\n",
       "      <td>0.000200</td>\n",
       "    </tr>\n",
       "    <tr>\n",
       "      <td>9000</td>\n",
       "      <td>0.000200</td>\n",
       "    </tr>\n",
       "    <tr>\n",
       "      <td>9500</td>\n",
       "      <td>0.000200</td>\n",
       "    </tr>\n",
       "    <tr>\n",
       "      <td>10000</td>\n",
       "      <td>0.000100</td>\n",
       "    </tr>\n",
       "    <tr>\n",
       "      <td>10500</td>\n",
       "      <td>0.000400</td>\n",
       "    </tr>\n",
       "    <tr>\n",
       "      <td>11000</td>\n",
       "      <td>0.000200</td>\n",
       "    </tr>\n",
       "    <tr>\n",
       "      <td>11500</td>\n",
       "      <td>0.000300</td>\n",
       "    </tr>\n",
       "    <tr>\n",
       "      <td>12000</td>\n",
       "      <td>0.000100</td>\n",
       "    </tr>\n",
       "    <tr>\n",
       "      <td>12500</td>\n",
       "      <td>0.000300</td>\n",
       "    </tr>\n",
       "    <tr>\n",
       "      <td>13000</td>\n",
       "      <td>0.000100</td>\n",
       "    </tr>\n",
       "    <tr>\n",
       "      <td>13500</td>\n",
       "      <td>0.000100</td>\n",
       "    </tr>\n",
       "    <tr>\n",
       "      <td>14000</td>\n",
       "      <td>0.000100</td>\n",
       "    </tr>\n",
       "    <tr>\n",
       "      <td>14500</td>\n",
       "      <td>0.000100</td>\n",
       "    </tr>\n",
       "    <tr>\n",
       "      <td>15000</td>\n",
       "      <td>0.000100</td>\n",
       "    </tr>\n",
       "    <tr>\n",
       "      <td>15500</td>\n",
       "      <td>0.000100</td>\n",
       "    </tr>\n",
       "    <tr>\n",
       "      <td>16000</td>\n",
       "      <td>0.000200</td>\n",
       "    </tr>\n",
       "    <tr>\n",
       "      <td>16500</td>\n",
       "      <td>0.000200</td>\n",
       "    </tr>\n",
       "    <tr>\n",
       "      <td>17000</td>\n",
       "      <td>0.000100</td>\n",
       "    </tr>\n",
       "    <tr>\n",
       "      <td>17500</td>\n",
       "      <td>0.000200</td>\n",
       "    </tr>\n",
       "    <tr>\n",
       "      <td>18000</td>\n",
       "      <td>0.000100</td>\n",
       "    </tr>\n",
       "    <tr>\n",
       "      <td>18500</td>\n",
       "      <td>0.000100</td>\n",
       "    </tr>\n",
       "    <tr>\n",
       "      <td>19000</td>\n",
       "      <td>0.000200</td>\n",
       "    </tr>\n",
       "    <tr>\n",
       "      <td>19500</td>\n",
       "      <td>0.000100</td>\n",
       "    </tr>\n",
       "    <tr>\n",
       "      <td>20000</td>\n",
       "      <td>0.000200</td>\n",
       "    </tr>\n",
       "    <tr>\n",
       "      <td>20500</td>\n",
       "      <td>0.000100</td>\n",
       "    </tr>\n",
       "    <tr>\n",
       "      <td>21000</td>\n",
       "      <td>0.000200</td>\n",
       "    </tr>\n",
       "    <tr>\n",
       "      <td>21500</td>\n",
       "      <td>0.000100</td>\n",
       "    </tr>\n",
       "    <tr>\n",
       "      <td>22000</td>\n",
       "      <td>0.000000</td>\n",
       "    </tr>\n",
       "    <tr>\n",
       "      <td>22500</td>\n",
       "      <td>0.000100</td>\n",
       "    </tr>\n",
       "    <tr>\n",
       "      <td>23000</td>\n",
       "      <td>0.000200</td>\n",
       "    </tr>\n",
       "    <tr>\n",
       "      <td>23500</td>\n",
       "      <td>0.000000</td>\n",
       "    </tr>\n",
       "    <tr>\n",
       "      <td>24000</td>\n",
       "      <td>0.000200</td>\n",
       "    </tr>\n",
       "    <tr>\n",
       "      <td>24500</td>\n",
       "      <td>0.000000</td>\n",
       "    </tr>\n",
       "    <tr>\n",
       "      <td>25000</td>\n",
       "      <td>0.000000</td>\n",
       "    </tr>\n",
       "    <tr>\n",
       "      <td>25500</td>\n",
       "      <td>0.000100</td>\n",
       "    </tr>\n",
       "    <tr>\n",
       "      <td>26000</td>\n",
       "      <td>0.000200</td>\n",
       "    </tr>\n",
       "    <tr>\n",
       "      <td>26500</td>\n",
       "      <td>0.000100</td>\n",
       "    </tr>\n",
       "    <tr>\n",
       "      <td>27000</td>\n",
       "      <td>0.000000</td>\n",
       "    </tr>\n",
       "    <tr>\n",
       "      <td>27500</td>\n",
       "      <td>0.000000</td>\n",
       "    </tr>\n",
       "    <tr>\n",
       "      <td>28000</td>\n",
       "      <td>0.000100</td>\n",
       "    </tr>\n",
       "    <tr>\n",
       "      <td>28500</td>\n",
       "      <td>0.000100</td>\n",
       "    </tr>\n",
       "    <tr>\n",
       "      <td>29000</td>\n",
       "      <td>0.000100</td>\n",
       "    </tr>\n",
       "    <tr>\n",
       "      <td>29500</td>\n",
       "      <td>0.000100</td>\n",
       "    </tr>\n",
       "    <tr>\n",
       "      <td>30000</td>\n",
       "      <td>0.000100</td>\n",
       "    </tr>\n",
       "  </tbody>\n",
       "</table><p>"
      ],
      "text/plain": [
       "<IPython.core.display.HTML object>"
      ]
     },
     "metadata": {},
     "output_type": "display_data"
    },
    {
     "name": "stderr",
     "output_type": "stream",
     "text": [
      "Saving model checkpoint to output/checkpoint-30000\n"
     ]
    },
    {
     "name": "stderr",
     "output_type": "stream",
     "text": [
      "Configuration saved in output/checkpoint-30000/config.json\n"
     ]
    },
    {
     "name": "stderr",
     "output_type": "stream",
     "text": [
      "Model weights saved in output/checkpoint-30000/pytorch_model.bin\n"
     ]
    },
    {
     "name": "stderr",
     "output_type": "stream",
     "text": [
      "tokenizer config file saved in output/checkpoint-30000/tokenizer_config.json\n"
     ]
    },
    {
     "name": "stderr",
     "output_type": "stream",
     "text": [
      "Special tokens file saved in output/checkpoint-30000/special_tokens_map.json\n"
     ]
    },
    {
     "name": "stderr",
     "output_type": "stream",
     "text": [
      "\n",
      "\n",
      "Training completed. Do not forget to share your model on huggingface.co/models =)\n",
      "\n",
      "\n"
     ]
    }
   ],
   "source": [
    "train_result = trainer.train()"
   ]
  },
  {
   "cell_type": "code",
   "execution_count": 15,
   "id": "222b8ab8",
   "metadata": {
    "execution": {
     "iopub.execute_input": "2022-04-09T05:11:14.542358Z",
     "iopub.status.busy": "2022-04-09T05:11:14.541674Z",
     "iopub.status.idle": "2022-04-09T05:11:14.573979Z",
     "shell.execute_reply": "2022-04-09T05:11:14.573123Z"
    },
    "papermill": {
     "duration": 0.057235,
     "end_time": "2022-04-09T05:11:14.575235",
     "exception": false,
     "start_time": "2022-04-09T05:11:14.518000",
     "status": "completed"
    },
    "tags": []
   },
   "outputs": [],
   "source": [
    "import pandas as pd\n",
    "\n",
    "pd.DataFrame(trainer.state.log_history).to_csv(f'logs/cl-distilled_pooling_{pooling_method}_fp16.csv', index=False)"
   ]
  },
  {
   "cell_type": "markdown",
   "id": "fe1ee952",
   "metadata": {
    "papermill": {
     "duration": 0.020763,
     "end_time": "2022-04-09T05:11:14.616928",
     "exception": false,
     "start_time": "2022-04-09T05:11:14.596165",
     "status": "completed"
    },
    "tags": []
   },
   "source": [
    "## 4. Evaluate DistilBert CL Model performance"
   ]
  },
  {
   "cell_type": "code",
   "execution_count": 16,
   "id": "518ae3d6",
   "metadata": {
    "execution": {
     "iopub.execute_input": "2022-04-09T05:11:14.663034Z",
     "iopub.status.busy": "2022-04-09T05:11:14.662799Z",
     "iopub.status.idle": "2022-04-09T05:11:31.548072Z",
     "shell.execute_reply": "2022-04-09T05:11:31.547283Z"
    },
    "papermill": {
     "duration": 16.910094,
     "end_time": "2022-04-09T05:11:31.549430",
     "exception": false,
     "start_time": "2022-04-09T05:11:14.639336",
     "status": "completed"
    },
    "tags": []
   },
   "outputs": [
    {
     "name": "stderr",
     "output_type": "stream",
     "text": [
      "/opt/conda/lib/python3.8/site-packages/SentEval-0.1.0-py3.8.egg/senteval/sts.py:42: VisibleDeprecationWarning: Creating an ndarray from ragged nested sequences (which is a list-or-tuple of lists-or-tuples-or ndarrays with different lengths or shapes) is deprecated. If you meant to do this, you must specify 'dtype=object' when creating the ndarray.\n",
      "/opt/conda/lib/python3.8/site-packages/SentEval-0.1.0-py3.8.egg/senteval/sts.py:43: VisibleDeprecationWarning: Creating an ndarray from ragged nested sequences (which is a list-or-tuple of lists-or-tuples-or ndarrays with different lengths or shapes) is deprecated. If you meant to do this, you must specify 'dtype=object' when creating the ndarray.\n"
     ]
    },
    {
     "name": "stdout",
     "output_type": "stream",
     "text": [
      "STS12:  0.6134643471598759\n",
      "STS13:  0.7563401220007914\n",
      "STS14:  0.6755771968148468\n",
      "STS15:  0.7722234228892432\n",
      "STSB:  0.6715235766197254\n"
     ]
    },
    {
     "data": {
      "text/plain": [
       "{'STSBenchmark': {'train': {'pearson': (0.763413276520004, 0.0),\n",
       "   'spearman': SpearmanrResult(correlation=0.7339679080217164, pvalue=0.0),\n",
       "   'nsamples': 5749},\n",
       "  'dev': {'pearson': (0.7757001969100432, 9.395700855599434e-302),\n",
       "   'spearman': SpearmanrResult(correlation=0.7748862974137122, pvalue=1.005679402678796e-300),\n",
       "   'nsamples': 1500},\n",
       "  'test': {'pearson': (0.6870668654601525, 3.1190461657403613e-193),\n",
       "   'spearman': SpearmanrResult(correlation=0.6715235766197254, pvalue=1.7023745183906218e-181),\n",
       "   'nsamples': 1379},\n",
       "  'all': {'pearson': {'all': 0.7528348785728755,\n",
       "    'mean': 0.7420601129633999,\n",
       "    'wmean': 0.7533470595211078},\n",
       "   'spearman': {'all': 0.735848276612005,\n",
       "    'mean': 0.7267925940183847,\n",
       "    'wmean': 0.7311012936365343}}},\n",
       " 'STS12': {'MSRpar': {'pearson': (0.5525594005388889, 3.533693250758462e-61),\n",
       "   'spearman': SpearmanrResult(correlation=0.5464349293770862, pvalue=1.315843576020782e-59),\n",
       "   'nsamples': 750},\n",
       "  'MSRvid': {'pearson': (0.8420975427706486, 9.196231010157325e-203),\n",
       "   'spearman': SpearmanrResult(correlation=0.8370259416870725, pvalue=4.500781379102735e-198),\n",
       "   'nsamples': 750},\n",
       "  'SMTeuroparl': {'pearson': (0.4397681226485688, 3.949612516472621e-23),\n",
       "   'spearman': SpearmanrResult(correlation=0.548919949771201, pvalue=1.7727230982553758e-37),\n",
       "   'nsamples': 459},\n",
       "  'surprise.OnWN': {'pearson': (0.7105637701835945, 2.676354320296889e-116),\n",
       "   'spearman': SpearmanrResult(correlation=0.6702469605410892, pvalue=5.760951440611612e-99),\n",
       "   'nsamples': 750},\n",
       "  'surprise.SMTnews': {'pearson': (0.5106889199101374, 6.917691542714715e-28),\n",
       "   'spearman': SpearmanrResult(correlation=0.4842876652298522, pvalue=7.463044007961488e-25),\n",
       "   'nsamples': 399},\n",
       "  'all': {'pearson': {'all': 0.6676086537544231,\n",
       "    'mean': 0.6111355512103677,\n",
       "    'wmean': 0.6385244473808516},\n",
       "   'spearman': {'all': 0.6134643471598759,\n",
       "    'mean': 0.6173830893212602,\n",
       "    'wmean': 0.6388242950693784}}},\n",
       " 'STS13': {'FNWN': {'pearson': (0.5733395005499814, 6.577487165189644e-18),\n",
       "   'spearman': SpearmanrResult(correlation=0.5839501893862635, pvalue=1.1498716796398916e-18),\n",
       "   'nsamples': 189},\n",
       "  'headlines': {'pearson': (0.7497074416565529, 3.00680332389479e-136),\n",
       "   'spearman': SpearmanrResult(correlation=0.7429762182673528, pvalue=1.4669820703326647e-132),\n",
       "   'nsamples': 750},\n",
       "  'OnWN': {'pearson': (0.7914087452746712, 1.3815075758500427e-121),\n",
       "   'spearman': SpearmanrResult(correlation=0.7775530870465445, pvalue=1.027993112053749e-114),\n",
       "   'nsamples': 561},\n",
       "  'all': {'pearson': {'all': 0.7504165402455973,\n",
       "    'mean': 0.7048185624937352,\n",
       "    'wmean': 0.7430813686303012},\n",
       "   'spearman': {'all': 0.7563401220007914,\n",
       "    'mean': 0.7014931649000536,\n",
       "    'wmean': 0.7358706875517532}}},\n",
       " 'STS14': {'deft-forum': {'pearson': (0.4835023115090291,\n",
       "    9.647900475433558e-28),\n",
       "   'spearman': SpearmanrResult(correlation=0.4662780609845853, pvalue=1.1351104793562674e-25),\n",
       "   'nsamples': 450},\n",
       "  'deft-news': {'pearson': (0.7725302335814672, 9.946313261651593e-61),\n",
       "   'spearman': SpearmanrResult(correlation=0.7333034654219192, pvalue=7.359576071656937e-52),\n",
       "   'nsamples': 300},\n",
       "  'headlines': {'pearson': (0.7328292020576369, 3.2589558625338704e-127),\n",
       "   'spearman': SpearmanrResult(correlation=0.7126747222799653, pvalue=2.7391508443839997e-117),\n",
       "   'nsamples': 750},\n",
       "  'images': {'pearson': (0.7942272525759225, 5.269691250211567e-164),\n",
       "   'spearman': SpearmanrResult(correlation=0.7508263415152493, pvalue=7.137773102764723e-137),\n",
       "   'nsamples': 750},\n",
       "  'OnWN': {'pearson': (0.8255146979768788, 5.293875165345713e-188),\n",
       "   'spearman': SpearmanrResult(correlation=0.8170627877204563, pvalue=4.5459589620199565e-181),\n",
       "   'nsamples': 750},\n",
       "  'tweet-news': {'pearson': (0.748508239823642, 1.392496715528742e-135),\n",
       "   'spearman': SpearmanrResult(correlation=0.6957507637991319, pvalue=1.3520823472376856e-109),\n",
       "   'nsamples': 750},\n",
       "  'all': {'pearson': {'all': 0.7147608330890997,\n",
       "    'mean': 0.7261853229207628,\n",
       "    'wmean': 0.7400385745544168},\n",
       "   'spearman': {'all': 0.6755771968148468,\n",
       "    'mean': 0.6959826902868845,\n",
       "    'wmean': 0.7098805676148643}}},\n",
       " 'STS15': {'answers-forums': {'pearson': (0.6577039850355706,\n",
       "    7.947923958324366e-48),\n",
       "   'spearman': SpearmanrResult(correlation=0.6583541525804758, pvalue=5.99236858535388e-48),\n",
       "   'nsamples': 375},\n",
       "  'answers-students': {'pearson': (0.7089726973043122, 1.471623217600559e-115),\n",
       "   'spearman': SpearmanrResult(correlation=0.713529942850165, pvalue=1.0814443050786704e-117),\n",
       "   'nsamples': 750},\n",
       "  'belief': {'pearson': (0.7193710017034226, 5.381684606391506e-61),\n",
       "   'spearman': SpearmanrResult(correlation=0.7374963217905965, pvalue=1.4508613297676035e-65),\n",
       "   'nsamples': 375},\n",
       "  'headlines': {'pearson': (0.7867883712424072, 6.595511337131342e-159),\n",
       "   'spearman': SpearmanrResult(correlation=0.7899696061204294, pvalue=4.620448029461509e-161),\n",
       "   'nsamples': 750},\n",
       "  'images': {'pearson': (0.8358240140351519, 5.509268956780487e-197),\n",
       "   'spearman': SpearmanrResult(correlation=0.8405979725026097, pvalue=2.3299978506450514e-201),\n",
       "   'nsamples': 750},\n",
       "  'all': {'pearson': {'all': 0.7670833620155417,\n",
       "    'mean': 0.7417320138641729,\n",
       "    'wmean': 0.7550306439878419},\n",
       "   'spearman': {'all': 0.7722234228892432,\n",
       "    'mean': 0.7479895991688553,\n",
       "    'wmean': 0.760505689664685}}}}"
      ]
     },
     "execution_count": 16,
     "metadata": {},
     "output_type": "execute_result"
    }
   ],
   "source": [
    "model.eval()\n",
    "\n",
    "results = evaluate_model()\n",
    "results"
   ]
  },
  {
   "cell_type": "code",
   "execution_count": null,
   "id": "c2f3cc08",
   "metadata": {
    "papermill": {
     "duration": 0.023776,
     "end_time": "2022-04-09T05:11:31.598392",
     "exception": false,
     "start_time": "2022-04-09T05:11:31.574616",
     "status": "completed"
    },
    "tags": []
   },
   "outputs": [],
   "source": []
  }
 ],
 "metadata": {
  "celltoolbar": "Tags",
  "kernelspec": {
   "display_name": "Python 3 (ipykernel)",
   "language": "python",
   "name": "python3"
  },
  "language_info": {
   "codemirror_mode": {
    "name": "ipython",
    "version": 3
   },
   "file_extension": ".py",
   "mimetype": "text/x-python",
   "name": "python",
   "nbconvert_exporter": "python",
   "pygments_lexer": "ipython3",
   "version": "3.8.12"
  },
  "papermill": {
   "default_parameters": {},
   "duration": 2319.327111,
   "end_time": "2022-04-09T05:11:32.441337",
   "environment_variables": {},
   "exception": null,
   "input_path": "notebooks/training/cl-distilbert_pooling_avg-first-last.ipynb",
   "output_path": "notebooks/training/cl-distilbert_pooling_max_second_to_last_hidden.ipynb",
   "parameters": {
    "pooling_method": "max_second_to_last_hidden"
   },
   "start_time": "2022-04-09T04:32:53.114226",
   "version": "2.3.4"
  },
  "toc": {
   "base_numbering": 1,
   "nav_menu": {},
   "number_sections": false,
   "sideBar": true,
   "skip_h1_title": false,
   "title_cell": "Table of Contents",
   "title_sidebar": "Contents",
   "toc_cell": false,
   "toc_position": {},
   "toc_section_display": true,
   "toc_window_display": false
  },
  "widgets": {
   "application/vnd.jupyter.widget-state+json": {
    "state": {
     "0795892a65d945c19042b223040023e7": {
      "model_module": "@jupyter-widgets/base",
      "model_module_version": "1.2.0",
      "model_name": "LayoutModel",
      "state": {
       "_model_module": "@jupyter-widgets/base",
       "_model_module_version": "1.2.0",
       "_model_name": "LayoutModel",
       "_view_count": null,
       "_view_module": "@jupyter-widgets/base",
       "_view_module_version": "1.2.0",
       "_view_name": "LayoutView",
       "align_content": null,
       "align_items": null,
       "align_self": null,
       "border": null,
       "bottom": null,
       "display": null,
       "flex": null,
       "flex_flow": null,
       "grid_area": null,
       "grid_auto_columns": null,
       "grid_auto_flow": null,
       "grid_auto_rows": null,
       "grid_column": null,
       "grid_gap": null,
       "grid_row": null,
       "grid_template_areas": null,
       "grid_template_columns": null,
       "grid_template_rows": null,
       "height": null,
       "justify_content": null,
       "justify_items": null,
       "left": null,
       "margin": null,
       "max_height": null,
       "max_width": null,
       "min_height": null,
       "min_width": null,
       "object_fit": null,
       "object_position": null,
       "order": null,
       "overflow": null,
       "overflow_x": null,
       "overflow_y": null,
       "padding": null,
       "right": null,
       "top": null,
       "visibility": null,
       "width": null
      }
     },
     "17118c7f15ec4d2fa33f138770fed3f0": {
      "model_module": "@jupyter-widgets/controls",
      "model_module_version": "1.5.0",
      "model_name": "FloatProgressModel",
      "state": {
       "_dom_classes": [],
       "_model_module": "@jupyter-widgets/controls",
       "_model_module_version": "1.5.0",
       "_model_name": "FloatProgressModel",
       "_view_count": null,
       "_view_module": "@jupyter-widgets/controls",
       "_view_module_version": "1.5.0",
       "_view_name": "ProgressView",
       "bar_style": "success",
       "description": "",
       "description_tooltip": null,
       "layout": "IPY_MODEL_0795892a65d945c19042b223040023e7",
       "max": 1,
       "min": 0,
       "orientation": "horizontal",
       "style": "IPY_MODEL_5ba8392307f54a9bb80fd894d9ada4a9",
       "value": 1
      }
     },
     "5ba8392307f54a9bb80fd894d9ada4a9": {
      "model_module": "@jupyter-widgets/controls",
      "model_module_version": "1.5.0",
      "model_name": "ProgressStyleModel",
      "state": {
       "_model_module": "@jupyter-widgets/controls",
       "_model_module_version": "1.5.0",
       "_model_name": "ProgressStyleModel",
       "_view_count": null,
       "_view_module": "@jupyter-widgets/base",
       "_view_module_version": "1.2.0",
       "_view_name": "StyleView",
       "bar_color": null,
       "description_width": ""
      }
     },
     "69dbe34d8a78404686fdd9c19d448090": {
      "model_module": "@jupyter-widgets/controls",
      "model_module_version": "1.5.0",
      "model_name": "HBoxModel",
      "state": {
       "_dom_classes": [],
       "_model_module": "@jupyter-widgets/controls",
       "_model_module_version": "1.5.0",
       "_model_name": "HBoxModel",
       "_view_count": null,
       "_view_module": "@jupyter-widgets/controls",
       "_view_module_version": "1.5.0",
       "_view_name": "HBoxView",
       "box_style": "",
       "children": [
        "IPY_MODEL_9e545d7b530d47b099503d5d720b00d6",
        "IPY_MODEL_17118c7f15ec4d2fa33f138770fed3f0",
        "IPY_MODEL_d4ae32406e7440ce888424b9bee35d80"
       ],
       "layout": "IPY_MODEL_e2bd8c41c93e4ca4967ebc95f8280e36"
      }
     },
     "7b631bc3c14d48f19235d5a42d656764": {
      "model_module": "@jupyter-widgets/controls",
      "model_module_version": "1.5.0",
      "model_name": "DescriptionStyleModel",
      "state": {
       "_model_module": "@jupyter-widgets/controls",
       "_model_module_version": "1.5.0",
       "_model_name": "DescriptionStyleModel",
       "_view_count": null,
       "_view_module": "@jupyter-widgets/base",
       "_view_module_version": "1.2.0",
       "_view_name": "StyleView",
       "description_width": ""
      }
     },
     "8efdc7f4c3d6415592fe7ca9af043888": {
      "model_module": "@jupyter-widgets/controls",
      "model_module_version": "1.5.0",
      "model_name": "DescriptionStyleModel",
      "state": {
       "_model_module": "@jupyter-widgets/controls",
       "_model_module_version": "1.5.0",
       "_model_name": "DescriptionStyleModel",
       "_view_count": null,
       "_view_module": "@jupyter-widgets/base",
       "_view_module_version": "1.2.0",
       "_view_name": "StyleView",
       "description_width": ""
      }
     },
     "9e545d7b530d47b099503d5d720b00d6": {
      "model_module": "@jupyter-widgets/controls",
      "model_module_version": "1.5.0",
      "model_name": "HTMLModel",
      "state": {
       "_dom_classes": [],
       "_model_module": "@jupyter-widgets/controls",
       "_model_module_version": "1.5.0",
       "_model_name": "HTMLModel",
       "_view_count": null,
       "_view_module": "@jupyter-widgets/controls",
       "_view_module_version": "1.5.0",
       "_view_name": "HTMLView",
       "description": "",
       "description_tooltip": null,
       "layout": "IPY_MODEL_bc655ef80db74673b092df3b37c9cd27",
       "placeholder": "​",
       "style": "IPY_MODEL_8efdc7f4c3d6415592fe7ca9af043888",
       "value": "100%"
      }
     },
     "bc655ef80db74673b092df3b37c9cd27": {
      "model_module": "@jupyter-widgets/base",
      "model_module_version": "1.2.0",
      "model_name": "LayoutModel",
      "state": {
       "_model_module": "@jupyter-widgets/base",
       "_model_module_version": "1.2.0",
       "_model_name": "LayoutModel",
       "_view_count": null,
       "_view_module": "@jupyter-widgets/base",
       "_view_module_version": "1.2.0",
       "_view_name": "LayoutView",
       "align_content": null,
       "align_items": null,
       "align_self": null,
       "border": null,
       "bottom": null,
       "display": null,
       "flex": null,
       "flex_flow": null,
       "grid_area": null,
       "grid_auto_columns": null,
       "grid_auto_flow": null,
       "grid_auto_rows": null,
       "grid_column": null,
       "grid_gap": null,
       "grid_row": null,
       "grid_template_areas": null,
       "grid_template_columns": null,
       "grid_template_rows": null,
       "height": null,
       "justify_content": null,
       "justify_items": null,
       "left": null,
       "margin": null,
       "max_height": null,
       "max_width": null,
       "min_height": null,
       "min_width": null,
       "object_fit": null,
       "object_position": null,
       "order": null,
       "overflow": null,
       "overflow_x": null,
       "overflow_y": null,
       "padding": null,
       "right": null,
       "top": null,
       "visibility": null,
       "width": null
      }
     },
     "d4ae32406e7440ce888424b9bee35d80": {
      "model_module": "@jupyter-widgets/controls",
      "model_module_version": "1.5.0",
      "model_name": "HTMLModel",
      "state": {
       "_dom_classes": [],
       "_model_module": "@jupyter-widgets/controls",
       "_model_module_version": "1.5.0",
       "_model_name": "HTMLModel",
       "_view_count": null,
       "_view_module": "@jupyter-widgets/controls",
       "_view_module_version": "1.5.0",
       "_view_name": "HTMLView",
       "description": "",
       "description_tooltip": null,
       "layout": "IPY_MODEL_fa469d39dfb74db8836105870737dba9",
       "placeholder": "​",
       "style": "IPY_MODEL_7b631bc3c14d48f19235d5a42d656764",
       "value": " 1/1 [00:00&lt;00:00, 52.19it/s]"
      }
     },
     "e2bd8c41c93e4ca4967ebc95f8280e36": {
      "model_module": "@jupyter-widgets/base",
      "model_module_version": "1.2.0",
      "model_name": "LayoutModel",
      "state": {
       "_model_module": "@jupyter-widgets/base",
       "_model_module_version": "1.2.0",
       "_model_name": "LayoutModel",
       "_view_count": null,
       "_view_module": "@jupyter-widgets/base",
       "_view_module_version": "1.2.0",
       "_view_name": "LayoutView",
       "align_content": null,
       "align_items": null,
       "align_self": null,
       "border": null,
       "bottom": null,
       "display": null,
       "flex": null,
       "flex_flow": null,
       "grid_area": null,
       "grid_auto_columns": null,
       "grid_auto_flow": null,
       "grid_auto_rows": null,
       "grid_column": null,
       "grid_gap": null,
       "grid_row": null,
       "grid_template_areas": null,
       "grid_template_columns": null,
       "grid_template_rows": null,
       "height": null,
       "justify_content": null,
       "justify_items": null,
       "left": null,
       "margin": null,
       "max_height": null,
       "max_width": null,
       "min_height": null,
       "min_width": null,
       "object_fit": null,
       "object_position": null,
       "order": null,
       "overflow": null,
       "overflow_x": null,
       "overflow_y": null,
       "padding": null,
       "right": null,
       "top": null,
       "visibility": null,
       "width": null
      }
     },
     "fa469d39dfb74db8836105870737dba9": {
      "model_module": "@jupyter-widgets/base",
      "model_module_version": "1.2.0",
      "model_name": "LayoutModel",
      "state": {
       "_model_module": "@jupyter-widgets/base",
       "_model_module_version": "1.2.0",
       "_model_name": "LayoutModel",
       "_view_count": null,
       "_view_module": "@jupyter-widgets/base",
       "_view_module_version": "1.2.0",
       "_view_name": "LayoutView",
       "align_content": null,
       "align_items": null,
       "align_self": null,
       "border": null,
       "bottom": null,
       "display": null,
       "flex": null,
       "flex_flow": null,
       "grid_area": null,
       "grid_auto_columns": null,
       "grid_auto_flow": null,
       "grid_auto_rows": null,
       "grid_column": null,
       "grid_gap": null,
       "grid_row": null,
       "grid_template_areas": null,
       "grid_template_columns": null,
       "grid_template_rows": null,
       "height": null,
       "justify_content": null,
       "justify_items": null,
       "left": null,
       "margin": null,
       "max_height": null,
       "max_width": null,
       "min_height": null,
       "min_width": null,
       "object_fit": null,
       "object_position": null,
       "order": null,
       "overflow": null,
       "overflow_x": null,
       "overflow_y": null,
       "padding": null,
       "right": null,
       "top": null,
       "visibility": null,
       "width": null
      }
     }
    },
    "version_major": 2,
    "version_minor": 0
   }
  }
 },
 "nbformat": 4,
 "nbformat_minor": 5
}
