{
 "cells": [
  {
   "cell_type": "markdown",
   "id": "3aaea09e",
   "metadata": {
    "papermill": {
     "duration": 0.151202,
     "end_time": "2022-04-15T10:38:41.261029",
     "exception": false,
     "start_time": "2022-04-15T10:38:41.109827",
     "status": "completed"
    },
    "tags": []
   },
   "source": [
    "# Contrastive Learning From Scratch - DistilBERT\n",
    "\n",
    "An attempt to build contrastive learning model from scratch. Parts include:\n",
    "\n",
    "- Loading and preparing Wiki-1M data for model input\n",
    "- Contrastive learning model\n",
    "  - Forward passing using pre-trained model\n",
    "  - Constrastive layer\n",
    "  - Calculate loss\n",
    "- Training procedure\n",
    "  - Default trainer optimizer\n",
    "  - Default trainer hyper-parameters"
   ]
  },
  {
   "cell_type": "code",
   "execution_count": 1,
   "id": "0d43afb6",
   "metadata": {
    "execution": {
     "iopub.execute_input": "2022-04-15T10:38:41.533192Z",
     "iopub.status.busy": "2022-04-15T10:38:41.532929Z",
     "iopub.status.idle": "2022-04-15T10:38:41.552821Z",
     "shell.execute_reply": "2022-04-15T10:38:41.552450Z"
    },
    "papermill": {
     "duration": 0.166163,
     "end_time": "2022-04-15T10:38:41.554100",
     "exception": false,
     "start_time": "2022-04-15T10:38:41.387937",
     "status": "completed"
    },
    "tags": []
   },
   "outputs": [
    {
     "name": "stdout",
     "output_type": "stream",
     "text": [
      "/notebooks/contrastive-learning-in-distilled-models\n"
     ]
    }
   ],
   "source": [
    "import os\n",
    "\n",
    "# Set Project home\n",
    "PROJECT_HOME = os.path.join('/',\n",
    "                            'notebooks',\n",
    "                            'contrastive-learning-in-distilled-models')\n",
    "%cd {PROJECT_HOME}\n",
    "\n",
    "# Load project code\n",
    "%reload_ext autoreload\n",
    "%autoreload 2\n",
    "\n",
    "import sys\n",
    "sys.path.insert(0, f'{PROJECT_HOME}/src')\n",
    "\n",
    "import distilface"
   ]
  },
  {
   "cell_type": "code",
   "execution_count": 2,
   "id": "2d632a85",
   "metadata": {
    "execution": {
     "iopub.execute_input": "2022-04-15T10:38:41.966325Z",
     "iopub.status.busy": "2022-04-15T10:38:41.966115Z",
     "iopub.status.idle": "2022-04-15T10:38:42.899695Z",
     "shell.execute_reply": "2022-04-15T10:38:42.898907Z"
    },
    "papermill": {
     "duration": 1.148893,
     "end_time": "2022-04-15T10:38:42.901592",
     "exception": false,
     "start_time": "2022-04-15T10:38:41.752699",
     "status": "completed"
    },
    "tags": []
   },
   "outputs": [],
   "source": [
    "def seed_everything(seed: int):\n",
    "    import random, os\n",
    "    import numpy as np\n",
    "    import torch\n",
    "    \n",
    "    random.seed(seed)\n",
    "    os.environ['PYTHONHASHSEED'] = str(seed)\n",
    "    np.random.seed(seed)\n",
    "    torch.manual_seed(seed)\n",
    "    torch.cuda.manual_seed(seed)\n",
    "    torch.backends.cudnn.deterministic = True\n",
    "    torch.backends.cudnn.benchmark = True\n",
    "    \n",
    "seed_everything(42)"
   ]
  },
  {
   "cell_type": "code",
   "execution_count": 3,
   "id": "e31cc1f4",
   "metadata": {
    "execution": {
     "iopub.execute_input": "2022-04-15T10:38:43.401310Z",
     "iopub.status.busy": "2022-04-15T10:38:43.400786Z",
     "iopub.status.idle": "2022-04-15T10:38:43.418811Z",
     "shell.execute_reply": "2022-04-15T10:38:43.418060Z"
    },
    "papermill": {
     "duration": 0.308422,
     "end_time": "2022-04-15T10:38:43.420118",
     "exception": false,
     "start_time": "2022-04-15T10:38:43.111696",
     "status": "completed"
    },
    "tags": [
     "parameters"
    ]
   },
   "outputs": [],
   "source": [
    "# Hyperparameters\n",
    "\n",
    "pooling_method = 'avg_last4'\n",
    "batch_size = 128\n",
    "learning_rate = 1e-5\n",
    "epochs = 1\n",
    "max_steps = 30_000\n",
    "temperature = 0.05\n",
    "max_len = 32\n",
    "fp16 = False"
   ]
  },
  {
   "cell_type": "code",
   "execution_count": 4,
   "id": "3c41c80e",
   "metadata": {
    "execution": {
     "iopub.execute_input": "2022-04-15T10:38:43.895664Z",
     "iopub.status.busy": "2022-04-15T10:38:43.894817Z",
     "iopub.status.idle": "2022-04-15T10:38:43.911736Z",
     "shell.execute_reply": "2022-04-15T10:38:43.910837Z"
    },
    "papermill": {
     "duration": 0.215598,
     "end_time": "2022-04-15T10:38:43.912923",
     "exception": false,
     "start_time": "2022-04-15T10:38:43.697325",
     "status": "completed"
    },
    "tags": [
     "injected-parameters"
    ]
   },
   "outputs": [],
   "source": [
    "# Parameters\n",
    "max_steps = 3000\n"
   ]
  },
  {
   "cell_type": "markdown",
   "id": "b73bc8b0",
   "metadata": {
    "papermill": {
     "duration": 0.169972,
     "end_time": "2022-04-15T10:38:44.321768",
     "exception": false,
     "start_time": "2022-04-15T10:38:44.151796",
     "status": "completed"
    },
    "tags": []
   },
   "source": [
    "## 1. Loading and Preparing Wiki-1M data\n",
    "\n",
    "Use huggingface `datasets` library to load local file data."
   ]
  },
  {
   "cell_type": "code",
   "execution_count": 5,
   "id": "2b3f2e41",
   "metadata": {
    "execution": {
     "iopub.execute_input": "2022-04-15T10:38:44.756737Z",
     "iopub.status.busy": "2022-04-15T10:38:44.755934Z",
     "iopub.status.idle": "2022-04-15T10:38:45.300045Z",
     "shell.execute_reply": "2022-04-15T10:38:45.299235Z"
    },
    "papermill": {
     "duration": 0.735401,
     "end_time": "2022-04-15T10:38:45.301520",
     "exception": false,
     "start_time": "2022-04-15T10:38:44.566119",
     "status": "completed"
    },
    "tags": []
   },
   "outputs": [
    {
     "name": "stderr",
     "output_type": "stream",
     "text": [
      "Using custom data configuration default-235a9b97f9ebd10e\n"
     ]
    },
    {
     "name": "stderr",
     "output_type": "stream",
     "text": [
      "Reusing dataset text (./data/text/default-235a9b97f9ebd10e/0.0.0/4b86d314f7236db91f0a0f5cda32d4375445e64c5eda2692655dd99c2dac68e8)\n"
     ]
    },
    {
     "data": {
      "application/vnd.jupyter.widget-view+json": {
       "model_id": "363805ff045242b8bc1a2ac2952159d7",
       "version_major": 2,
       "version_minor": 0
      },
      "text/plain": [
       "  0%|          | 0/1 [00:00<?, ?it/s]"
      ]
     },
     "metadata": {},
     "output_type": "display_data"
    }
   ],
   "source": [
    "import numpy as np\n",
    "\n",
    "from datasets import load_dataset\n",
    "\n",
    "data_files = {'train': 'data/training/wiki1m_for_simcse.txt'}\n",
    "# data_files = {'train': 'data/training/wiki5k.txt'}\n",
    "datasets = load_dataset('text', data_files=data_files, cache_dir='./data/')"
   ]
  },
  {
   "cell_type": "code",
   "execution_count": 6,
   "id": "faf7bd93",
   "metadata": {
    "execution": {
     "iopub.execute_input": "2022-04-15T10:38:45.684953Z",
     "iopub.status.busy": "2022-04-15T10:38:45.683979Z",
     "iopub.status.idle": "2022-04-15T10:38:45.704309Z",
     "shell.execute_reply": "2022-04-15T10:38:45.703659Z"
    },
    "papermill": {
     "duration": 0.255193,
     "end_time": "2022-04-15T10:38:45.705568",
     "exception": false,
     "start_time": "2022-04-15T10:38:45.450375",
     "status": "completed"
    },
    "tags": []
   },
   "outputs": [],
   "source": [
    "# Unsupervised / Self-supervised dataset\n",
    "\n",
    "column_names = datasets[\"train\"].column_names\n",
    "sent0_cname = column_names[0]\n",
    "sent1_cname = column_names[0]"
   ]
  },
  {
   "cell_type": "code",
   "execution_count": 7,
   "id": "b37e730e",
   "metadata": {
    "execution": {
     "iopub.execute_input": "2022-04-15T10:38:46.056497Z",
     "iopub.status.busy": "2022-04-15T10:38:46.056037Z",
     "iopub.status.idle": "2022-04-15T10:38:47.040447Z",
     "shell.execute_reply": "2022-04-15T10:38:47.035537Z"
    },
    "papermill": {
     "duration": 1.129958,
     "end_time": "2022-04-15T10:38:47.044772",
     "exception": false,
     "start_time": "2022-04-15T10:38:45.914814",
     "status": "completed"
    },
    "tags": []
   },
   "outputs": [],
   "source": [
    "from transformers import AutoTokenizer\n",
    "\n",
    "tokenizer = AutoTokenizer.from_pretrained('distilbert-base-uncased')"
   ]
  },
  {
   "cell_type": "code",
   "execution_count": 8,
   "id": "2a783d72",
   "metadata": {
    "execution": {
     "iopub.execute_input": "2022-04-15T10:38:47.455525Z",
     "iopub.status.busy": "2022-04-15T10:38:47.455288Z",
     "iopub.status.idle": "2022-04-15T10:38:47.478488Z",
     "shell.execute_reply": "2022-04-15T10:38:47.477954Z"
    },
    "papermill": {
     "duration": 0.216028,
     "end_time": "2022-04-15T10:38:47.480030",
     "exception": false,
     "start_time": "2022-04-15T10:38:47.264002",
     "status": "completed"
    },
    "tags": []
   },
   "outputs": [],
   "source": [
    "def prepare_features(examples):\n",
    "    total = len(examples[sent0_cname])\n",
    "\n",
    "    # Avoid \"None\" fields \n",
    "    for idx in range(total):\n",
    "        if examples[sent0_cname][idx] is None:\n",
    "            examples[sent0_cname][idx] = \" \"\n",
    "        if examples[sent1_cname][idx] is None:\n",
    "            examples[sent1_cname][idx] = \" \"\n",
    "\n",
    "    sentences = examples[sent0_cname] + examples[sent1_cname]\n",
    "\n",
    "    sent_features = tokenizer(\n",
    "        sentences,\n",
    "        max_length=max_len,\n",
    "        truncation=True,\n",
    "        padding=True,\n",
    "    )\n",
    "\n",
    "    features = {}\n",
    "    for key in sent_features:\n",
    "        features[key] = [[sent_features[key][i], sent_features[key][i+total]] for i in range(total)]\n",
    "\n",
    "    return features"
   ]
  },
  {
   "cell_type": "code",
   "execution_count": 9,
   "id": "5a868678",
   "metadata": {
    "execution": {
     "iopub.execute_input": "2022-04-15T10:38:48.201079Z",
     "iopub.status.busy": "2022-04-15T10:38:48.200574Z",
     "iopub.status.idle": "2022-04-15T10:38:48.244358Z",
     "shell.execute_reply": "2022-04-15T10:38:48.243872Z"
    },
    "papermill": {
     "duration": 0.298827,
     "end_time": "2022-04-15T10:38:48.245817",
     "exception": false,
     "start_time": "2022-04-15T10:38:47.946990",
     "status": "completed"
    },
    "tags": []
   },
   "outputs": [
    {
     "name": "stderr",
     "output_type": "stream",
     "text": [
      "Loading cached processed dataset at ./data/text/default-235a9b97f9ebd10e/0.0.0/4b86d314f7236db91f0a0f5cda32d4375445e64c5eda2692655dd99c2dac68e8/cache-305eab4ce3c7d88c.arrow\n"
     ]
    }
   ],
   "source": [
    "train_dataset = datasets[\"train\"].map(prepare_features,\n",
    "                                      batched=True,\n",
    "                                    #   num_proc=24,\n",
    "                                      remove_columns=column_names)"
   ]
  },
  {
   "cell_type": "code",
   "execution_count": 10,
   "id": "c361c149",
   "metadata": {
    "execution": {
     "iopub.execute_input": "2022-04-15T10:38:48.749842Z",
     "iopub.status.busy": "2022-04-15T10:38:48.749191Z",
     "iopub.status.idle": "2022-04-15T10:38:48.776888Z",
     "shell.execute_reply": "2022-04-15T10:38:48.776090Z"
    },
    "papermill": {
     "duration": 0.249095,
     "end_time": "2022-04-15T10:38:48.778122",
     "exception": false,
     "start_time": "2022-04-15T10:38:48.529027",
     "status": "completed"
    },
    "tags": []
   },
   "outputs": [
    {
     "data": {
      "text/plain": [
       "1000000"
      ]
     },
     "execution_count": 10,
     "metadata": {},
     "output_type": "execute_result"
    }
   ],
   "source": [
    "train_dataset.num_rows"
   ]
  },
  {
   "cell_type": "markdown",
   "id": "dbff4559",
   "metadata": {
    "papermill": {
     "duration": 0.221764,
     "end_time": "2022-04-15T10:38:49.122889",
     "exception": false,
     "start_time": "2022-04-15T10:38:48.901125",
     "status": "completed"
    },
    "tags": []
   },
   "source": [
    "## 2. Contrastive Learning Model"
   ]
  },
  {
   "cell_type": "code",
   "execution_count": 11,
   "id": "27e13790",
   "metadata": {
    "execution": {
     "iopub.execute_input": "2022-04-15T10:38:49.439304Z",
     "iopub.status.busy": "2022-04-15T10:38:49.438407Z",
     "iopub.status.idle": "2022-04-15T10:38:53.903950Z",
     "shell.execute_reply": "2022-04-15T10:38:53.903225Z"
    },
    "papermill": {
     "duration": 4.589473,
     "end_time": "2022-04-15T10:38:53.905832",
     "exception": false,
     "start_time": "2022-04-15T10:38:49.316359",
     "status": "completed"
    },
    "tags": []
   },
   "outputs": [
    {
     "name": "stderr",
     "output_type": "stream",
     "text": [
      "Some weights of the model checkpoint at distilbert-base-uncased were not used when initializing DistilBertCLModel: ['vocab_projector.bias', 'vocab_transform.weight', 'vocab_transform.bias', 'vocab_projector.weight', 'vocab_layer_norm.bias', 'vocab_layer_norm.weight']\n",
      "- This IS expected if you are initializing DistilBertCLModel from the checkpoint of a model trained on another task or with another architecture (e.g. initializing a BertForSequenceClassification model from a BertForPreTraining model).\n",
      "- This IS NOT expected if you are initializing DistilBertCLModel from the checkpoint of a model that you expect to be exactly identical (initializing a BertForSequenceClassification model from a BertForSequenceClassification model).\n"
     ]
    }
   ],
   "source": [
    "import torch\n",
    "import torch.nn as nn\n",
    "\n",
    "from transformers import AutoTokenizer, DistilBertModel, DistilBertPreTrainedModel, AutoConfig\n",
    "from transformers.modeling_outputs import SequenceClassifierOutput, BaseModelOutputWithPooling\n",
    "\n",
    "from distilface.modules.pooler import Pooler\n",
    "from distilface.modules.similarity import Similarity\n",
    "\n",
    "\n",
    "class DistilBertCLModel(DistilBertPreTrainedModel):\n",
    "    def __init__(self, config, pooler_type=pooling_method, temp=temperature):\n",
    "        super().__init__(config)\n",
    "\n",
    "        self.config = config\n",
    "        self.pooler_type = pooler_type\n",
    "        self.temp = temperature\n",
    "\n",
    "        self.distilbert = DistilBertModel(config)\n",
    "        self.pooler = Pooler(pooler_type)\n",
    "        self.sim = Similarity(temp=temp)\n",
    "\n",
    "        self.init_weights()\n",
    "\n",
    "    def forward(self, input_ids=None, attention_mask=None):\n",
    "        if self.training:\n",
    "            return self.cl_forward(self.distilbert, input_ids, attention_mask)\n",
    "        else:\n",
    "            return self.sent_emb(self.distilbert, input_ids, attention_mask)\n",
    "\n",
    "    def cl_forward(self, encoder, input_ids=None, attention_mask=None):\n",
    "        batch_size = input_ids.size(0)\n",
    "        num_sent = input_ids.size(1)  # Number of sentences in one instance: 2 sentences\n",
    "\n",
    "        # Flatten all input tensors\n",
    "        input_ids = input_ids.view((-1, input_ids.size(-1))) # (bs * num_sent, len)\n",
    "        attention_mask = attention_mask.view((-1, attention_mask.size(-1))) # (bs * num_sent len)\n",
    "\n",
    "        # Pre-trained Model Encoder\n",
    "        outputs = encoder(\n",
    "            input_ids,\n",
    "            attention_mask=attention_mask,\n",
    "            output_hidden_states=True,\n",
    "            return_dict=True,\n",
    "        )\n",
    "\n",
    "        # Pooling\n",
    "        pooler_output = self.pooler(attention_mask, outputs)\n",
    "        pooler_output = pooler_output.view((batch_size, num_sent, pooler_output.size(-1)))  # (bs, num_sent, hidden)\n",
    "\n",
    "        # Separate representation\n",
    "        z1, z2 = pooler_output[:, 0], pooler_output[:, 1]\n",
    "\n",
    "        # Cosine similarity\n",
    "        cos_sim = self.sim(z1.unsqueeze(1), z2.unsqueeze(0))\n",
    "\n",
    "        # Calculate contrastive loss\n",
    "        criterion = nn.CrossEntropyLoss()\n",
    "        labels = torch.arange(cos_sim.size(0)).long().to(self.device)\n",
    "        loss = criterion(cos_sim, labels)\n",
    "\n",
    "        return SequenceClassifierOutput(\n",
    "            loss=loss,\n",
    "            logits=cos_sim,\n",
    "            hidden_states=outputs.hidden_states,\n",
    "            attentions=outputs.attentions,\n",
    "        )\n",
    "\n",
    "    def sent_emb(self, encoder, input_ids=None, attention_mask=None):\n",
    "        outputs = encoder(\n",
    "            input_ids,\n",
    "            attention_mask=attention_mask,\n",
    "            output_hidden_states=True,\n",
    "            return_dict=True,\n",
    "        )\n",
    "        pooler_output = self.pooler(attention_mask, outputs)\n",
    "\n",
    "        return BaseModelOutputWithPooling(\n",
    "            pooler_output=pooler_output,\n",
    "            last_hidden_state=outputs.last_hidden_state,\n",
    "            hidden_states=outputs.hidden_states,\n",
    "        )\n",
    "\n",
    "\n",
    "pretrained_model_name = 'distilbert-base-uncased'\n",
    "\n",
    "device = torch.device(\"cuda\" if torch.cuda.is_available() else \"cpu\")\n",
    "config = AutoConfig.from_pretrained(pretrained_model_name)\n",
    "\n",
    "model = DistilBertCLModel.from_pretrained(pretrained_model_name, config=config).to(device)\n",
    "tokenizer = AutoTokenizer.from_pretrained(pretrained_model_name)\n",
    "\n",
    "model.eval();"
   ]
  },
  {
   "cell_type": "markdown",
   "id": "ff1d4001",
   "metadata": {
    "papermill": {
     "duration": 0.207547,
     "end_time": "2022-04-15T10:38:54.356364",
     "exception": false,
     "start_time": "2022-04-15T10:38:54.148817",
     "status": "completed"
    },
    "tags": []
   },
   "source": [
    "### 2.1 Initial DistilBERT embeddings performance"
   ]
  },
  {
   "cell_type": "code",
   "execution_count": 12,
   "id": "eba7800d",
   "metadata": {
    "execution": {
     "iopub.execute_input": "2022-04-15T10:38:54.831521Z",
     "iopub.status.busy": "2022-04-15T10:38:54.830530Z",
     "iopub.status.idle": "2022-04-15T10:38:55.221858Z",
     "shell.execute_reply": "2022-04-15T10:38:55.220866Z"
    },
    "papermill": {
     "duration": 0.679944,
     "end_time": "2022-04-15T10:38:55.223666",
     "exception": false,
     "start_time": "2022-04-15T10:38:54.543722",
     "status": "completed"
    },
    "tags": []
   },
   "outputs": [],
   "source": [
    "import senteval\n",
    "\n",
    "\n",
    "def prepare(params, samples):\n",
    "    return\n",
    "\n",
    "def batcher(params, batch):\n",
    "    sentences = [\" \".join(s) for s in batch]\n",
    "    batch = tokenizer.batch_encode_plus(\n",
    "        sentences,\n",
    "        return_tensors=\"pt\",\n",
    "        padding=True,\n",
    "    )\n",
    "\n",
    "    for k in batch:\n",
    "        batch[k] = batch[k].to(device)\n",
    "\n",
    "    with torch.no_grad():\n",
    "        outputs = model(**batch)\n",
    "\n",
    "    pooled_result = outputs.pooler_output.cpu()\n",
    "\n",
    "    return pooled_result\n",
    "\n",
    "\n",
    "def evaluate_model():\n",
    "    PATH_TO_DATA = \"./data\"\n",
    "\n",
    "    params = {\"task_path\": PATH_TO_DATA, \"usepytorch\": True, \"kfold\": 10}\n",
    "    tasks = [\"STSBenchmark\", 'STS12', 'STS13', 'STS14', 'STS15']\n",
    "\n",
    "    se = senteval.engine.SE(params, batcher, prepare)\n",
    "    results = se.eval(tasks)\n",
    "\n",
    "    print('STS12: ', results[\"STS12\"][\"all\"][\"spearman\"][\"all\"])\n",
    "    print('STS13: ', results[\"STS13\"][\"all\"][\"spearman\"][\"all\"])\n",
    "    print('STS14: ', results[\"STS14\"][\"all\"][\"spearman\"][\"all\"])\n",
    "    print('STS15: ', results[\"STS15\"][\"all\"][\"spearman\"][\"all\"])\n",
    "    print('STSB: ', results[\"STSBenchmark\"][\"test\"][\"spearman\"][0])\n",
    "\n",
    "    return results"
   ]
  },
  {
   "cell_type": "markdown",
   "id": "2c04d97c",
   "metadata": {
    "papermill": {
     "duration": 0.381795,
     "end_time": "2022-04-15T10:38:55.778862",
     "exception": false,
     "start_time": "2022-04-15T10:38:55.397067",
     "status": "completed"
    },
    "tags": []
   },
   "source": [
    "## 3. Trainer"
   ]
  },
  {
   "cell_type": "code",
   "execution_count": 13,
   "id": "b48cee55",
   "metadata": {
    "execution": {
     "iopub.execute_input": "2022-04-15T10:38:56.354335Z",
     "iopub.status.busy": "2022-04-15T10:38:56.353541Z",
     "iopub.status.idle": "2022-04-15T10:38:56.485997Z",
     "shell.execute_reply": "2022-04-15T10:38:56.485299Z"
    },
    "papermill": {
     "duration": 0.536366,
     "end_time": "2022-04-15T10:38:56.487392",
     "exception": false,
     "start_time": "2022-04-15T10:38:55.951026",
     "status": "completed"
    },
    "tags": []
   },
   "outputs": [
    {
     "name": "stderr",
     "output_type": "stream",
     "text": [
      "max_steps is given, it will override any value given in num_train_epochs\n"
     ]
    }
   ],
   "source": [
    "# import mlflow\n",
    "\n",
    "from transformers import Trainer, TrainingArguments\n",
    "from transformers import default_data_collator\n",
    "\n",
    "training_args = TrainingArguments(\n",
    "    output_dir='output',\n",
    "    overwrite_output_dir=True,\n",
    "    learning_rate=learning_rate,\n",
    "    num_train_epochs=epochs,\n",
    "    max_steps=max_steps,\n",
    "    per_device_train_batch_size=batch_size,\n",
    "    per_device_eval_batch_size=batch_size,\n",
    "    save_strategy='steps',\n",
    "    save_steps=max_steps,\n",
    "    fp16=fp16,\n",
    ")\n",
    "\n",
    "model.train()\n",
    "\n",
    "trainer = Trainer(\n",
    "    model=model,\n",
    "    args=training_args,\n",
    "    train_dataset=train_dataset,\n",
    "    tokenizer=tokenizer,\n",
    "    data_collator=default_data_collator\n",
    ")"
   ]
  },
  {
   "cell_type": "code",
   "execution_count": 14,
   "id": "245ede50",
   "metadata": {
    "execution": {
     "iopub.execute_input": "2022-04-15T10:38:56.958676Z",
     "iopub.status.busy": "2022-04-15T10:38:56.957858Z",
     "iopub.status.idle": "2022-04-15T11:00:44.551458Z",
     "shell.execute_reply": "2022-04-15T11:00:44.550522Z"
    },
    "papermill": {
     "duration": 1307.855592,
     "end_time": "2022-04-15T11:00:44.552750",
     "exception": false,
     "start_time": "2022-04-15T10:38:56.697158",
     "status": "completed"
    },
    "tags": []
   },
   "outputs": [
    {
     "name": "stderr",
     "output_type": "stream",
     "text": [
      "/opt/conda/lib/python3.8/site-packages/transformers/optimization.py:306: FutureWarning: This implementation of AdamW is deprecated and will be removed in a future version. Use the PyTorch implementation torch.optim.AdamW instead, or set `no_deprecation_warning=True` to disable this warning\n",
      "  warnings.warn(\n",
      "***** Running training *****\n"
     ]
    },
    {
     "name": "stderr",
     "output_type": "stream",
     "text": [
      "  Num examples = 1000000\n"
     ]
    },
    {
     "name": "stderr",
     "output_type": "stream",
     "text": [
      "  Num Epochs = 1\n"
     ]
    },
    {
     "name": "stderr",
     "output_type": "stream",
     "text": [
      "  Instantaneous batch size per device = 128\n"
     ]
    },
    {
     "name": "stderr",
     "output_type": "stream",
     "text": [
      "  Total train batch size (w. parallel, distributed & accumulation) = 128\n"
     ]
    },
    {
     "name": "stderr",
     "output_type": "stream",
     "text": [
      "  Gradient Accumulation steps = 1\n"
     ]
    },
    {
     "name": "stderr",
     "output_type": "stream",
     "text": [
      "  Total optimization steps = 3000\n"
     ]
    },
    {
     "data": {
      "text/html": [
       "\n",
       "    <div>\n",
       "      \n",
       "      <progress value='3000' max='3000' style='width:300px; height:20px; vertical-align: middle;'></progress>\n",
       "      [3000/3000 21:46, Epoch 0/1]\n",
       "    </div>\n",
       "    <table border=\"1\" class=\"dataframe\">\n",
       "  <thead>\n",
       " <tr style=\"text-align: left;\">\n",
       "      <th>Step</th>\n",
       "      <th>Training Loss</th>\n",
       "    </tr>\n",
       "  </thead>\n",
       "  <tbody>\n",
       "    <tr>\n",
       "      <td>500</td>\n",
       "      <td>0.032200</td>\n",
       "    </tr>\n",
       "    <tr>\n",
       "      <td>1000</td>\n",
       "      <td>0.000400</td>\n",
       "    </tr>\n",
       "    <tr>\n",
       "      <td>1500</td>\n",
       "      <td>0.000300</td>\n",
       "    </tr>\n",
       "    <tr>\n",
       "      <td>2000</td>\n",
       "      <td>0.000200</td>\n",
       "    </tr>\n",
       "    <tr>\n",
       "      <td>2500</td>\n",
       "      <td>0.000200</td>\n",
       "    </tr>\n",
       "    <tr>\n",
       "      <td>3000</td>\n",
       "      <td>0.000200</td>\n",
       "    </tr>\n",
       "  </tbody>\n",
       "</table><p>"
      ],
      "text/plain": [
       "<IPython.core.display.HTML object>"
      ]
     },
     "metadata": {},
     "output_type": "display_data"
    },
    {
     "name": "stderr",
     "output_type": "stream",
     "text": [
      "Saving model checkpoint to output/checkpoint-3000\n"
     ]
    },
    {
     "name": "stderr",
     "output_type": "stream",
     "text": [
      "Configuration saved in output/checkpoint-3000/config.json\n"
     ]
    },
    {
     "name": "stderr",
     "output_type": "stream",
     "text": [
      "Model weights saved in output/checkpoint-3000/pytorch_model.bin\n"
     ]
    },
    {
     "name": "stderr",
     "output_type": "stream",
     "text": [
      "tokenizer config file saved in output/checkpoint-3000/tokenizer_config.json\n"
     ]
    },
    {
     "name": "stderr",
     "output_type": "stream",
     "text": [
      "Special tokens file saved in output/checkpoint-3000/special_tokens_map.json\n"
     ]
    },
    {
     "name": "stderr",
     "output_type": "stream",
     "text": [
      "\n",
      "\n",
      "Training completed. Do not forget to share your model on huggingface.co/models =)\n",
      "\n",
      "\n"
     ]
    }
   ],
   "source": [
    "train_result = trainer.train()"
   ]
  },
  {
   "cell_type": "code",
   "execution_count": 15,
   "id": "de510253",
   "metadata": {
    "execution": {
     "iopub.execute_input": "2022-04-15T11:00:45.053163Z",
     "iopub.status.busy": "2022-04-15T11:00:45.052952Z",
     "iopub.status.idle": "2022-04-15T11:00:45.106668Z",
     "shell.execute_reply": "2022-04-15T11:00:45.105818Z"
    },
    "papermill": {
     "duration": 0.290514,
     "end_time": "2022-04-15T11:00:45.108034",
     "exception": false,
     "start_time": "2022-04-15T11:00:44.817520",
     "status": "completed"
    },
    "tags": []
   },
   "outputs": [],
   "source": [
    "import pandas as pd\n",
    "\n",
    "pd.DataFrame(trainer.state.log_history).to_csv(f'logs/cl-distilled_tuning_v1_ms{max_steps}_fp16.csv', index=False)"
   ]
  },
  {
   "cell_type": "markdown",
   "id": "6d7898aa",
   "metadata": {
    "papermill": {
     "duration": 0.260127,
     "end_time": "2022-04-15T11:00:45.652372",
     "exception": false,
     "start_time": "2022-04-15T11:00:45.392245",
     "status": "completed"
    },
    "tags": []
   },
   "source": [
    "## 4. Evaluate DistilBert CL Model performance"
   ]
  },
  {
   "cell_type": "code",
   "execution_count": 16,
   "id": "dc7abf02",
   "metadata": {
    "execution": {
     "iopub.execute_input": "2022-04-15T11:00:46.211229Z",
     "iopub.status.busy": "2022-04-15T11:00:46.210997Z",
     "iopub.status.idle": "2022-04-15T11:01:08.924886Z",
     "shell.execute_reply": "2022-04-15T11:01:08.924295Z"
    },
    "papermill": {
     "duration": 22.942892,
     "end_time": "2022-04-15T11:01:08.926297",
     "exception": false,
     "start_time": "2022-04-15T11:00:45.983405",
     "status": "completed"
    },
    "tags": []
   },
   "outputs": [
    {
     "name": "stderr",
     "output_type": "stream",
     "text": [
      "/opt/conda/lib/python3.8/site-packages/SentEval-0.1.0-py3.8.egg/senteval/sts.py:42: VisibleDeprecationWarning: Creating an ndarray from ragged nested sequences (which is a list-or-tuple of lists-or-tuples-or ndarrays with different lengths or shapes) is deprecated. If you meant to do this, you must specify 'dtype=object' when creating the ndarray.\n",
      "/opt/conda/lib/python3.8/site-packages/SentEval-0.1.0-py3.8.egg/senteval/sts.py:43: VisibleDeprecationWarning: Creating an ndarray from ragged nested sequences (which is a list-or-tuple of lists-or-tuples-or ndarrays with different lengths or shapes) is deprecated. If you meant to do this, you must specify 'dtype=object' when creating the ndarray.\n"
     ]
    },
    {
     "name": "stdout",
     "output_type": "stream",
     "text": [
      "STS12:  0.5927882442777758\n",
      "STS13:  0.694267363116653\n",
      "STS14:  0.6392470253994471\n",
      "STS15:  0.7457811570712143\n",
      "STSB:  0.7127960591097264\n"
     ]
    },
    {
     "data": {
      "text/plain": [
       "{'STSBenchmark': {'train': {'pearson': (0.7379198602841927, 0.0),\n",
       "   'spearman': SpearmanrResult(correlation=0.7058020994901186, pvalue=0.0),\n",
       "   'nsamples': 5749},\n",
       "  'dev': {'pearson': (0.7483224388520896, 2.488003347102216e-269),\n",
       "   'spearman': SpearmanrResult(correlation=0.7542531005892891, pvalue=5.457830355219032e-276),\n",
       "   'nsamples': 1500},\n",
       "  'test': {'pearson': (0.7223400339726975, 7.945264175122858e-223),\n",
       "   'spearman': SpearmanrResult(correlation=0.7127960591097264, pvalue=2.23642784921944e-214),\n",
       "   'nsamples': 1379},\n",
       "  'all': {'pearson': {'all': 0.7341869006471511,\n",
       "    'mean': 0.7361941110363266,\n",
       "    'wmean': 0.7372382756027247},\n",
       "   'spearman': {'all': 0.7199881290629858,\n",
       "    'mean': 0.7242837530630447,\n",
       "    'wmean': 0.7153432645300114}}},\n",
       " 'STS12': {'MSRpar': {'pearson': (0.47800546843141994, 4.4604977174223706e-44),\n",
       "   'spearman': SpearmanrResult(correlation=0.5146758643312975, pvalue=5.850788616281061e-52),\n",
       "   'nsamples': 750},\n",
       "  'MSRvid': {'pearson': (0.805838052310028, 2.135680741836774e-172),\n",
       "   'spearman': SpearmanrResult(correlation=0.8034682042772996, pvalue=1.2246412187185007e-170),\n",
       "   'nsamples': 750},\n",
       "  'SMTeuroparl': {'pearson': (0.5407682627530905, 3.2265580194118234e-36),\n",
       "   'spearman': SpearmanrResult(correlation=0.6225098160681207, pvalue=1.3392599405770355e-50),\n",
       "   'nsamples': 459},\n",
       "  'surprise.OnWN': {'pearson': (0.7090128395417647, 1.4098792509025128e-115),\n",
       "   'spearman': SpearmanrResult(correlation=0.6885952274523707, pvalue=1.6766700322212402e-106),\n",
       "   'nsamples': 750},\n",
       "  'surprise.SMTnews': {'pearson': (0.5986053038032815, 3.7567251201844345e-40),\n",
       "   'spearman': SpearmanrResult(correlation=0.5318690636758061, pvalue=1.614967254007895e-30),\n",
       "   'nsamples': 399},\n",
       "  'all': {'pearson': {'all': 0.6341324537475075,\n",
       "    'mean': 0.6264459853679168,\n",
       "    'wmean': 0.6376121039361607},\n",
       "   'spearman': {'all': 0.5927882442777758,\n",
       "    'mean': 0.6322236351609789,\n",
       "    'wmean': 0.6444666132650064}}},\n",
       " 'STS13': {'FNWN': {'pearson': (0.5854706674582052, 8.9092932278514e-19),\n",
       "   'spearman': SpearmanrResult(correlation=0.6095936676156516, pvalue=1.2923805129473798e-20),\n",
       "   'nsamples': 189},\n",
       "  'headlines': {'pearson': (0.7292509593804535, 2.1897308054039076e-125),\n",
       "   'spearman': SpearmanrResult(correlation=0.723827320622598, pvalue=1.1348472465068081e-122),\n",
       "   'nsamples': 750},\n",
       "  'OnWN': {'pearson': (0.6550166674003951, 4.792906763403615e-70),\n",
       "   'spearman': SpearmanrResult(correlation=0.6677882785047385, pvalue=1.062453446406343e-73),\n",
       "   'nsamples': 561},\n",
       "  'all': {'pearson': {'all': 0.677937987888402,\n",
       "    'mean': 0.656579431413018,\n",
       "    'wmean': 0.6833710173977083},\n",
       "   'spearman': {'all': 0.694267363116653,\n",
       "    'mean': 0.6670697555809961,\n",
       "    'wmean': 0.6884752785916434}}},\n",
       " 'STS14': {'deft-forum': {'pearson': (0.5177526002316423,\n",
       "    3.1682329678218415e-32),\n",
       "   'spearman': SpearmanrResult(correlation=0.5153431439824406, pvalue=6.809122656130083e-32),\n",
       "   'nsamples': 450},\n",
       "  'deft-news': {'pearson': (0.7743682815640335, 3.457023640346432e-61),\n",
       "   'spearman': SpearmanrResult(correlation=0.7575414422969524, pvalue=3.854015148926085e-57),\n",
       "   'nsamples': 300},\n",
       "  'headlines': {'pearson': (0.6998635461189757, 2.047857164976099e-111),\n",
       "   'spearman': SpearmanrResult(correlation=0.6509005793695134, pvalue=1.3840227450051767e-91),\n",
       "   'nsamples': 750},\n",
       "  'images': {'pearson': (0.7697569528922988, 5.695735638658128e-148),\n",
       "   'spearman': SpearmanrResult(correlation=0.7367649328085185, pvalue=2.942650030400291e-129),\n",
       "   'nsamples': 750},\n",
       "  'OnWN': {'pearson': (0.7699400249736457, 4.395899595858149e-148),\n",
       "   'spearman': SpearmanrResult(correlation=0.788613168188859, pvalue=3.8718363105699504e-160),\n",
       "   'nsamples': 750},\n",
       "  'tweet-news': {'pearson': (0.7589075196798662, 1.745037315394174e-141),\n",
       "   'spearman': SpearmanrResult(correlation=0.6863195944187073, pvalue=1.5469330644784595e-105),\n",
       "   'nsamples': 750},\n",
       "  'all': {'pearson': {'all': 0.6682651545655378,\n",
       "    'mean': 0.7150981542434103,\n",
       "    'wmean': 0.723773383285877},\n",
       "   'spearman': {'all': 0.6392470253994471,\n",
       "    'mean': 0.6892471435108319,\n",
       "    'wmean': 0.6949641476187688}}},\n",
       " 'STS15': {'answers-forums': {'pearson': (0.7202380629607398,\n",
       "    3.315847204884251e-61),\n",
       "   'spearman': SpearmanrResult(correlation=0.7171450650994833, pvalue=1.8503111098439337e-60),\n",
       "   'nsamples': 375},\n",
       "  'answers-students': {'pearson': (0.6856103901315573,\n",
       "    3.0790028486591185e-105),\n",
       "   'spearman': SpearmanrResult(correlation=0.6854482173464421, pvalue=3.60286300326652e-105),\n",
       "   'nsamples': 750},\n",
       "  'belief': {'pearson': (0.7786334093653605, 1.6913636342471851e-77),\n",
       "   'spearman': SpearmanrResult(correlation=0.7847551045802108, pvalue=1.705039735470593e-79),\n",
       "   'nsamples': 375},\n",
       "  'headlines': {'pearson': (0.7612075457790081, 7.866233372421856e-143),\n",
       "   'spearman': SpearmanrResult(correlation=0.7543692694545526, pvalue=7.141850396039315e-139),\n",
       "   'nsamples': 750},\n",
       "  'images': {'pearson': (0.8338455084190444, 3.2560585596875703e-195),\n",
       "   'spearman': SpearmanrResult(correlation=0.8387961428076851, pvalue=1.0837148069660963e-199),\n",
       "   'nsamples': 750},\n",
       "  'all': {'pearson': {'all': 0.739989791414245,\n",
       "    'mean': 0.755906983331142,\n",
       "    'wmean': 0.757524795123165},\n",
       "   'spearman': {'all': 0.7457811570712143,\n",
       "    'mean': 0.7561027598576747,\n",
       "    'wmean': 0.7573909286121318}}}}"
      ]
     },
     "execution_count": 16,
     "metadata": {},
     "output_type": "execute_result"
    }
   ],
   "source": [
    "model.eval()\n",
    "\n",
    "results = evaluate_model()\n",
    "results"
   ]
  }
 ],
 "metadata": {
  "celltoolbar": "Tags",
  "kernelspec": {
   "display_name": "Python 3 (ipykernel)",
   "language": "python",
   "name": "python3"
  },
  "language_info": {
   "codemirror_mode": {
    "name": "ipython",
    "version": 3
   },
   "file_extension": ".py",
   "mimetype": "text/x-python",
   "name": "python",
   "nbconvert_exporter": "python",
   "pygments_lexer": "ipython3",
   "version": "3.8.12"
  },
  "papermill": {
   "default_parameters": {},
   "duration": 1350.489511,
   "end_time": "2022-04-15T11:01:10.619836",
   "environment_variables": {},
   "exception": null,
   "input_path": "notebooks/training/cl-distilbert_tuning_v1.ipynb",
   "output_path": "notebooks/training/cl-distilbert_tuning_v1_ms3000.ipynb",
   "parameters": {
    "max_steps": 3000
   },
   "start_time": "2022-04-15T10:38:40.130325",
   "version": "2.3.4"
  },
  "toc": {
   "base_numbering": 1,
   "nav_menu": {},
   "number_sections": false,
   "sideBar": true,
   "skip_h1_title": false,
   "title_cell": "Table of Contents",
   "title_sidebar": "Contents",
   "toc_cell": false,
   "toc_position": {},
   "toc_section_display": true,
   "toc_window_display": false
  },
  "widgets": {
   "application/vnd.jupyter.widget-state+json": {
    "state": {
     "0f806602dce141218365e804aed828ce": {
      "model_module": "@jupyter-widgets/controls",
      "model_module_version": "1.5.0",
      "model_name": "HTMLModel",
      "state": {
       "_dom_classes": [],
       "_model_module": "@jupyter-widgets/controls",
       "_model_module_version": "1.5.0",
       "_model_name": "HTMLModel",
       "_view_count": null,
       "_view_module": "@jupyter-widgets/controls",
       "_view_module_version": "1.5.0",
       "_view_name": "HTMLView",
       "description": "",
       "description_tooltip": null,
       "layout": "IPY_MODEL_3aab598adc1b449ca663c48b3a14a631",
       "placeholder": "​",
       "style": "IPY_MODEL_8cc5bcb923304d2085aaf86fbf11b923",
       "value": "100%"
      }
     },
     "363805ff045242b8bc1a2ac2952159d7": {
      "model_module": "@jupyter-widgets/controls",
      "model_module_version": "1.5.0",
      "model_name": "HBoxModel",
      "state": {
       "_dom_classes": [],
       "_model_module": "@jupyter-widgets/controls",
       "_model_module_version": "1.5.0",
       "_model_name": "HBoxModel",
       "_view_count": null,
       "_view_module": "@jupyter-widgets/controls",
       "_view_module_version": "1.5.0",
       "_view_name": "HBoxView",
       "box_style": "",
       "children": [
        "IPY_MODEL_0f806602dce141218365e804aed828ce",
        "IPY_MODEL_859bf43833ed479da4d327a1c8a5b257",
        "IPY_MODEL_9c1e37b84577461b95d0a55daf13173b"
       ],
       "layout": "IPY_MODEL_8282f6ed9350476f940ca96a0000d815"
      }
     },
     "3aab598adc1b449ca663c48b3a14a631": {
      "model_module": "@jupyter-widgets/base",
      "model_module_version": "1.2.0",
      "model_name": "LayoutModel",
      "state": {
       "_model_module": "@jupyter-widgets/base",
       "_model_module_version": "1.2.0",
       "_model_name": "LayoutModel",
       "_view_count": null,
       "_view_module": "@jupyter-widgets/base",
       "_view_module_version": "1.2.0",
       "_view_name": "LayoutView",
       "align_content": null,
       "align_items": null,
       "align_self": null,
       "border": null,
       "bottom": null,
       "display": null,
       "flex": null,
       "flex_flow": null,
       "grid_area": null,
       "grid_auto_columns": null,
       "grid_auto_flow": null,
       "grid_auto_rows": null,
       "grid_column": null,
       "grid_gap": null,
       "grid_row": null,
       "grid_template_areas": null,
       "grid_template_columns": null,
       "grid_template_rows": null,
       "height": null,
       "justify_content": null,
       "justify_items": null,
       "left": null,
       "margin": null,
       "max_height": null,
       "max_width": null,
       "min_height": null,
       "min_width": null,
       "object_fit": null,
       "object_position": null,
       "order": null,
       "overflow": null,
       "overflow_x": null,
       "overflow_y": null,
       "padding": null,
       "right": null,
       "top": null,
       "visibility": null,
       "width": null
      }
     },
     "3cf9e96bcc914de4821d7e6ae453bd32": {
      "model_module": "@jupyter-widgets/base",
      "model_module_version": "1.2.0",
      "model_name": "LayoutModel",
      "state": {
       "_model_module": "@jupyter-widgets/base",
       "_model_module_version": "1.2.0",
       "_model_name": "LayoutModel",
       "_view_count": null,
       "_view_module": "@jupyter-widgets/base",
       "_view_module_version": "1.2.0",
       "_view_name": "LayoutView",
       "align_content": null,
       "align_items": null,
       "align_self": null,
       "border": null,
       "bottom": null,
       "display": null,
       "flex": null,
       "flex_flow": null,
       "grid_area": null,
       "grid_auto_columns": null,
       "grid_auto_flow": null,
       "grid_auto_rows": null,
       "grid_column": null,
       "grid_gap": null,
       "grid_row": null,
       "grid_template_areas": null,
       "grid_template_columns": null,
       "grid_template_rows": null,
       "height": null,
       "justify_content": null,
       "justify_items": null,
       "left": null,
       "margin": null,
       "max_height": null,
       "max_width": null,
       "min_height": null,
       "min_width": null,
       "object_fit": null,
       "object_position": null,
       "order": null,
       "overflow": null,
       "overflow_x": null,
       "overflow_y": null,
       "padding": null,
       "right": null,
       "top": null,
       "visibility": null,
       "width": null
      }
     },
     "5403ce67efd341518528e071fe90e1e4": {
      "model_module": "@jupyter-widgets/controls",
      "model_module_version": "1.5.0",
      "model_name": "DescriptionStyleModel",
      "state": {
       "_model_module": "@jupyter-widgets/controls",
       "_model_module_version": "1.5.0",
       "_model_name": "DescriptionStyleModel",
       "_view_count": null,
       "_view_module": "@jupyter-widgets/base",
       "_view_module_version": "1.2.0",
       "_view_name": "StyleView",
       "description_width": ""
      }
     },
     "8282f6ed9350476f940ca96a0000d815": {
      "model_module": "@jupyter-widgets/base",
      "model_module_version": "1.2.0",
      "model_name": "LayoutModel",
      "state": {
       "_model_module": "@jupyter-widgets/base",
       "_model_module_version": "1.2.0",
       "_model_name": "LayoutModel",
       "_view_count": null,
       "_view_module": "@jupyter-widgets/base",
       "_view_module_version": "1.2.0",
       "_view_name": "LayoutView",
       "align_content": null,
       "align_items": null,
       "align_self": null,
       "border": null,
       "bottom": null,
       "display": null,
       "flex": null,
       "flex_flow": null,
       "grid_area": null,
       "grid_auto_columns": null,
       "grid_auto_flow": null,
       "grid_auto_rows": null,
       "grid_column": null,
       "grid_gap": null,
       "grid_row": null,
       "grid_template_areas": null,
       "grid_template_columns": null,
       "grid_template_rows": null,
       "height": null,
       "justify_content": null,
       "justify_items": null,
       "left": null,
       "margin": null,
       "max_height": null,
       "max_width": null,
       "min_height": null,
       "min_width": null,
       "object_fit": null,
       "object_position": null,
       "order": null,
       "overflow": null,
       "overflow_x": null,
       "overflow_y": null,
       "padding": null,
       "right": null,
       "top": null,
       "visibility": null,
       "width": null
      }
     },
     "859bf43833ed479da4d327a1c8a5b257": {
      "model_module": "@jupyter-widgets/controls",
      "model_module_version": "1.5.0",
      "model_name": "FloatProgressModel",
      "state": {
       "_dom_classes": [],
       "_model_module": "@jupyter-widgets/controls",
       "_model_module_version": "1.5.0",
       "_model_name": "FloatProgressModel",
       "_view_count": null,
       "_view_module": "@jupyter-widgets/controls",
       "_view_module_version": "1.5.0",
       "_view_name": "ProgressView",
       "bar_style": "success",
       "description": "",
       "description_tooltip": null,
       "layout": "IPY_MODEL_3cf9e96bcc914de4821d7e6ae453bd32",
       "max": 1,
       "min": 0,
       "orientation": "horizontal",
       "style": "IPY_MODEL_ba1a4d65765d413cbc1860b53808a53e",
       "value": 1
      }
     },
     "8cc5bcb923304d2085aaf86fbf11b923": {
      "model_module": "@jupyter-widgets/controls",
      "model_module_version": "1.5.0",
      "model_name": "DescriptionStyleModel",
      "state": {
       "_model_module": "@jupyter-widgets/controls",
       "_model_module_version": "1.5.0",
       "_model_name": "DescriptionStyleModel",
       "_view_count": null,
       "_view_module": "@jupyter-widgets/base",
       "_view_module_version": "1.2.0",
       "_view_name": "StyleView",
       "description_width": ""
      }
     },
     "9c1e37b84577461b95d0a55daf13173b": {
      "model_module": "@jupyter-widgets/controls",
      "model_module_version": "1.5.0",
      "model_name": "HTMLModel",
      "state": {
       "_dom_classes": [],
       "_model_module": "@jupyter-widgets/controls",
       "_model_module_version": "1.5.0",
       "_model_name": "HTMLModel",
       "_view_count": null,
       "_view_module": "@jupyter-widgets/controls",
       "_view_module_version": "1.5.0",
       "_view_name": "HTMLView",
       "description": "",
       "description_tooltip": null,
       "layout": "IPY_MODEL_d70dc2d1206d441793bd1aefd128a153",
       "placeholder": "​",
       "style": "IPY_MODEL_5403ce67efd341518528e071fe90e1e4",
       "value": " 1/1 [00:00&lt;00:00, 19.16it/s]"
      }
     },
     "ba1a4d65765d413cbc1860b53808a53e": {
      "model_module": "@jupyter-widgets/controls",
      "model_module_version": "1.5.0",
      "model_name": "ProgressStyleModel",
      "state": {
       "_model_module": "@jupyter-widgets/controls",
       "_model_module_version": "1.5.0",
       "_model_name": "ProgressStyleModel",
       "_view_count": null,
       "_view_module": "@jupyter-widgets/base",
       "_view_module_version": "1.2.0",
       "_view_name": "StyleView",
       "bar_color": null,
       "description_width": ""
      }
     },
     "d70dc2d1206d441793bd1aefd128a153": {
      "model_module": "@jupyter-widgets/base",
      "model_module_version": "1.2.0",
      "model_name": "LayoutModel",
      "state": {
       "_model_module": "@jupyter-widgets/base",
       "_model_module_version": "1.2.0",
       "_model_name": "LayoutModel",
       "_view_count": null,
       "_view_module": "@jupyter-widgets/base",
       "_view_module_version": "1.2.0",
       "_view_name": "LayoutView",
       "align_content": null,
       "align_items": null,
       "align_self": null,
       "border": null,
       "bottom": null,
       "display": null,
       "flex": null,
       "flex_flow": null,
       "grid_area": null,
       "grid_auto_columns": null,
       "grid_auto_flow": null,
       "grid_auto_rows": null,
       "grid_column": null,
       "grid_gap": null,
       "grid_row": null,
       "grid_template_areas": null,
       "grid_template_columns": null,
       "grid_template_rows": null,
       "height": null,
       "justify_content": null,
       "justify_items": null,
       "left": null,
       "margin": null,
       "max_height": null,
       "max_width": null,
       "min_height": null,
       "min_width": null,
       "object_fit": null,
       "object_position": null,
       "order": null,
       "overflow": null,
       "overflow_x": null,
       "overflow_y": null,
       "padding": null,
       "right": null,
       "top": null,
       "visibility": null,
       "width": null
      }
     }
    },
    "version_major": 2,
    "version_minor": 0
   }
  }
 },
 "nbformat": 4,
 "nbformat_minor": 5
}
