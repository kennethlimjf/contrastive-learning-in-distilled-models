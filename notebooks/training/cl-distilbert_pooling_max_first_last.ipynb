{
 "cells": [
  {
   "cell_type": "markdown",
   "id": "58d3ae1e",
   "metadata": {
    "papermill": {
     "duration": 0.015416,
     "end_time": "2022-04-09T05:11:33.402476",
     "exception": false,
     "start_time": "2022-04-09T05:11:33.387060",
     "status": "completed"
    },
    "tags": []
   },
   "source": [
    "# Contrastive Learning From Scratch - DistilBERT\n",
    "\n",
    "An attempt to build contrastive learning model from scratch. Parts include:\n",
    "\n",
    "- Loading and preparing Wiki-1M data for model input\n",
    "- Contrastive learning model\n",
    "  - Forward passing using pre-trained model\n",
    "  - Constrastive layer\n",
    "  - Calculate loss\n",
    "- Training procedure\n",
    "  - Default trainer optimizer\n",
    "  - Default trainer hyper-parameters"
   ]
  },
  {
   "cell_type": "code",
   "execution_count": 1,
   "id": "a2053e21",
   "metadata": {
    "execution": {
     "iopub.execute_input": "2022-04-09T05:11:33.435316Z",
     "iopub.status.busy": "2022-04-09T05:11:33.435036Z",
     "iopub.status.idle": "2022-04-09T05:11:33.456229Z",
     "shell.execute_reply": "2022-04-09T05:11:33.455334Z"
    },
    "papermill": {
     "duration": 0.03805,
     "end_time": "2022-04-09T05:11:33.457492",
     "exception": false,
     "start_time": "2022-04-09T05:11:33.419442",
     "status": "completed"
    },
    "tags": []
   },
   "outputs": [
    {
     "name": "stdout",
     "output_type": "stream",
     "text": [
      "/notebooks/contrastive-learning-in-distilled-models\n"
     ]
    }
   ],
   "source": [
    "import os\n",
    "\n",
    "# Set Project home\n",
    "PROJECT_HOME = os.path.join('/',\n",
    "                            'notebooks',\n",
    "                            'contrastive-learning-in-distilled-models')\n",
    "%cd {PROJECT_HOME}\n",
    "\n",
    "# Load project code\n",
    "%reload_ext autoreload\n",
    "%autoreload 2\n",
    "\n",
    "import sys\n",
    "sys.path.insert(0, f'{PROJECT_HOME}/src')\n",
    "\n",
    "import distilface"
   ]
  },
  {
   "cell_type": "code",
   "execution_count": 2,
   "id": "8a182e19",
   "metadata": {
    "execution": {
     "iopub.execute_input": "2022-04-09T05:11:33.487707Z",
     "iopub.status.busy": "2022-04-09T05:11:33.487536Z",
     "iopub.status.idle": "2022-04-09T05:11:33.498093Z",
     "shell.execute_reply": "2022-04-09T05:11:33.497168Z"
    },
    "papermill": {
     "duration": 0.027567,
     "end_time": "2022-04-09T05:11:33.499304",
     "exception": false,
     "start_time": "2022-04-09T05:11:33.471737",
     "status": "completed"
    },
    "tags": [
     "parameters"
    ]
   },
   "outputs": [],
   "source": [
    "# Hyperparameters\n",
    "\n",
    "pooling_method = 'avg_first_last'\n",
    "batch_size = 64\n",
    "epochs = 2\n",
    "max_steps = 30_000\n",
    "temperature = 0.05\n",
    "learning_rate = 5e-5\n",
    "max_len = 32\n",
    "fp16 = True"
   ]
  },
  {
   "cell_type": "code",
   "execution_count": 3,
   "id": "1934024a",
   "metadata": {
    "execution": {
     "iopub.execute_input": "2022-04-09T05:11:33.530935Z",
     "iopub.status.busy": "2022-04-09T05:11:33.530779Z",
     "iopub.status.idle": "2022-04-09T05:11:33.539701Z",
     "shell.execute_reply": "2022-04-09T05:11:33.539113Z"
    },
    "papermill": {
     "duration": 0.0275,
     "end_time": "2022-04-09T05:11:33.541134",
     "exception": false,
     "start_time": "2022-04-09T05:11:33.513634",
     "status": "completed"
    },
    "tags": [
     "injected-parameters"
    ]
   },
   "outputs": [],
   "source": [
    "# Parameters\n",
    "pooling_method = \"max_first_last\"\n"
   ]
  },
  {
   "cell_type": "markdown",
   "id": "0b69b860",
   "metadata": {
    "papermill": {
     "duration": 0.01613,
     "end_time": "2022-04-09T05:11:33.573152",
     "exception": false,
     "start_time": "2022-04-09T05:11:33.557022",
     "status": "completed"
    },
    "tags": []
   },
   "source": [
    "## 1. Loading and Preparing Wiki-1M data\n",
    "\n",
    "Use huggingface `datasets` library to load local file data."
   ]
  },
  {
   "cell_type": "code",
   "execution_count": 4,
   "id": "b623b9b7",
   "metadata": {
    "execution": {
     "iopub.execute_input": "2022-04-09T05:11:33.604636Z",
     "iopub.status.busy": "2022-04-09T05:11:33.604030Z",
     "iopub.status.idle": "2022-04-09T05:11:34.895612Z",
     "shell.execute_reply": "2022-04-09T05:11:34.894732Z"
    },
    "papermill": {
     "duration": 1.308524,
     "end_time": "2022-04-09T05:11:34.896936",
     "exception": false,
     "start_time": "2022-04-09T05:11:33.588412",
     "status": "completed"
    },
    "tags": []
   },
   "outputs": [
    {
     "name": "stderr",
     "output_type": "stream",
     "text": [
      "Using custom data configuration default-235a9b97f9ebd10e\n"
     ]
    },
    {
     "name": "stderr",
     "output_type": "stream",
     "text": [
      "Reusing dataset text (./data/text/default-235a9b97f9ebd10e/0.0.0/4b86d314f7236db91f0a0f5cda32d4375445e64c5eda2692655dd99c2dac68e8)\n"
     ]
    },
    {
     "data": {
      "application/vnd.jupyter.widget-view+json": {
       "model_id": "c031071cd6844da8a5413c27932f4f4c",
       "version_major": 2,
       "version_minor": 0
      },
      "text/plain": [
       "  0%|          | 0/1 [00:00<?, ?it/s]"
      ]
     },
     "metadata": {},
     "output_type": "display_data"
    }
   ],
   "source": [
    "import numpy as np\n",
    "\n",
    "from datasets import load_dataset\n",
    "\n",
    "data_files = {'train': 'data/training/wiki1m_for_simcse.txt'}\n",
    "# data_files = {'train': 'data/training/wiki5k.txt'}\n",
    "datasets = load_dataset('text', data_files=data_files, cache_dir='./data/')"
   ]
  },
  {
   "cell_type": "code",
   "execution_count": 5,
   "id": "c71746fa",
   "metadata": {
    "execution": {
     "iopub.execute_input": "2022-04-09T05:11:34.938716Z",
     "iopub.status.busy": "2022-04-09T05:11:34.938534Z",
     "iopub.status.idle": "2022-04-09T05:11:34.958506Z",
     "shell.execute_reply": "2022-04-09T05:11:34.957592Z"
    },
    "papermill": {
     "duration": 0.037916,
     "end_time": "2022-04-09T05:11:34.959816",
     "exception": false,
     "start_time": "2022-04-09T05:11:34.921900",
     "status": "completed"
    },
    "tags": []
   },
   "outputs": [],
   "source": [
    "# Unsupervised / Self-supervised dataset\n",
    "\n",
    "column_names = datasets[\"train\"].column_names\n",
    "sent0_cname = column_names[0]\n",
    "sent1_cname = column_names[0]"
   ]
  },
  {
   "cell_type": "code",
   "execution_count": 6,
   "id": "693bc1cf",
   "metadata": {
    "execution": {
     "iopub.execute_input": "2022-04-09T05:11:35.042401Z",
     "iopub.status.busy": "2022-04-09T05:11:35.041903Z",
     "iopub.status.idle": "2022-04-09T05:11:35.820205Z",
     "shell.execute_reply": "2022-04-09T05:11:35.819621Z"
    },
    "papermill": {
     "duration": 0.795457,
     "end_time": "2022-04-09T05:11:35.821953",
     "exception": false,
     "start_time": "2022-04-09T05:11:35.026496",
     "status": "completed"
    },
    "tags": []
   },
   "outputs": [],
   "source": [
    "from transformers import AutoTokenizer\n",
    "\n",
    "tokenizer = AutoTokenizer.from_pretrained('distilbert-base-uncased')"
   ]
  },
  {
   "cell_type": "code",
   "execution_count": 7,
   "id": "049c6561",
   "metadata": {
    "execution": {
     "iopub.execute_input": "2022-04-09T05:11:35.857122Z",
     "iopub.status.busy": "2022-04-09T05:11:35.856395Z",
     "iopub.status.idle": "2022-04-09T05:11:35.879758Z",
     "shell.execute_reply": "2022-04-09T05:11:35.879170Z"
    },
    "papermill": {
     "duration": 0.040964,
     "end_time": "2022-04-09T05:11:35.881212",
     "exception": false,
     "start_time": "2022-04-09T05:11:35.840248",
     "status": "completed"
    },
    "tags": []
   },
   "outputs": [],
   "source": [
    "def prepare_features(examples):\n",
    "    total = len(examples[sent0_cname])\n",
    "\n",
    "    # Avoid \"None\" fields \n",
    "    for idx in range(total):\n",
    "        if examples[sent0_cname][idx] is None:\n",
    "            examples[sent0_cname][idx] = \" \"\n",
    "        if examples[sent1_cname][idx] is None:\n",
    "            examples[sent1_cname][idx] = \" \"\n",
    "\n",
    "    sentences = examples[sent0_cname] + examples[sent1_cname]\n",
    "\n",
    "    sent_features = tokenizer(\n",
    "        sentences,\n",
    "        max_length=max_len,\n",
    "        truncation=True,\n",
    "        padding=True,\n",
    "    )\n",
    "\n",
    "    features = {}\n",
    "    for key in sent_features:\n",
    "        features[key] = [[sent_features[key][i], sent_features[key][i+total]] for i in range(total)]\n",
    "\n",
    "    return features"
   ]
  },
  {
   "cell_type": "code",
   "execution_count": 8,
   "id": "de74f2ff",
   "metadata": {
    "execution": {
     "iopub.execute_input": "2022-04-09T05:11:35.912591Z",
     "iopub.status.busy": "2022-04-09T05:11:35.911726Z",
     "iopub.status.idle": "2022-04-09T05:11:35.956281Z",
     "shell.execute_reply": "2022-04-09T05:11:35.955845Z"
    },
    "papermill": {
     "duration": 0.061544,
     "end_time": "2022-04-09T05:11:35.957722",
     "exception": false,
     "start_time": "2022-04-09T05:11:35.896178",
     "status": "completed"
    },
    "tags": []
   },
   "outputs": [
    {
     "name": "stderr",
     "output_type": "stream",
     "text": [
      "Loading cached processed dataset at ./data/text/default-235a9b97f9ebd10e/0.0.0/4b86d314f7236db91f0a0f5cda32d4375445e64c5eda2692655dd99c2dac68e8/cache-305eab4ce3c7d88c.arrow\n"
     ]
    }
   ],
   "source": [
    "train_dataset = datasets[\"train\"].map(prepare_features,\n",
    "                                      batched=True,\n",
    "                                    #   num_proc=24,\n",
    "                                      remove_columns=column_names)"
   ]
  },
  {
   "cell_type": "code",
   "execution_count": 9,
   "id": "387a9f02",
   "metadata": {
    "execution": {
     "iopub.execute_input": "2022-04-09T05:11:36.002205Z",
     "iopub.status.busy": "2022-04-09T05:11:36.001399Z",
     "iopub.status.idle": "2022-04-09T05:11:36.026791Z",
     "shell.execute_reply": "2022-04-09T05:11:36.026406Z"
    },
    "papermill": {
     "duration": 0.050572,
     "end_time": "2022-04-09T05:11:36.027972",
     "exception": false,
     "start_time": "2022-04-09T05:11:35.977400",
     "status": "completed"
    },
    "tags": []
   },
   "outputs": [
    {
     "data": {
      "text/plain": [
       "1000000"
      ]
     },
     "execution_count": 9,
     "metadata": {},
     "output_type": "execute_result"
    }
   ],
   "source": [
    "train_dataset.num_rows"
   ]
  },
  {
   "cell_type": "markdown",
   "id": "93eada58",
   "metadata": {
    "papermill": {
     "duration": 0.015784,
     "end_time": "2022-04-09T05:11:36.059604",
     "exception": false,
     "start_time": "2022-04-09T05:11:36.043820",
     "status": "completed"
    },
    "tags": []
   },
   "source": [
    "## 2. Contrastive Learning Model"
   ]
  },
  {
   "cell_type": "code",
   "execution_count": 10,
   "id": "097af298",
   "metadata": {
    "execution": {
     "iopub.execute_input": "2022-04-09T05:11:36.091723Z",
     "iopub.status.busy": "2022-04-09T05:11:36.091022Z",
     "iopub.status.idle": "2022-04-09T05:11:39.997056Z",
     "shell.execute_reply": "2022-04-09T05:11:39.996077Z"
    },
    "papermill": {
     "duration": 3.924395,
     "end_time": "2022-04-09T05:11:39.999008",
     "exception": false,
     "start_time": "2022-04-09T05:11:36.074613",
     "status": "completed"
    },
    "tags": []
   },
   "outputs": [
    {
     "name": "stderr",
     "output_type": "stream",
     "text": [
      "Some weights of the model checkpoint at distilbert-base-uncased were not used when initializing DistilBertCLModel: ['vocab_transform.weight', 'vocab_transform.bias', 'vocab_projector.bias', 'vocab_layer_norm.weight', 'vocab_layer_norm.bias', 'vocab_projector.weight']\n",
      "- This IS expected if you are initializing DistilBertCLModel from the checkpoint of a model trained on another task or with another architecture (e.g. initializing a BertForSequenceClassification model from a BertForPreTraining model).\n",
      "- This IS NOT expected if you are initializing DistilBertCLModel from the checkpoint of a model that you expect to be exactly identical (initializing a BertForSequenceClassification model from a BertForSequenceClassification model).\n"
     ]
    }
   ],
   "source": [
    "import torch\n",
    "import torch.nn as nn\n",
    "\n",
    "from transformers import AutoTokenizer, DistilBertModel, DistilBertPreTrainedModel, AutoConfig\n",
    "from transformers.modeling_outputs import SequenceClassifierOutput, BaseModelOutputWithPooling\n",
    "\n",
    "from distilface.modules.pooler import Pooler\n",
    "from distilface.modules.similarity import Similarity\n",
    "\n",
    "\n",
    "class DistilBertCLModel(DistilBertPreTrainedModel):\n",
    "    def __init__(self, config, pooler_type=pooling_method, temp=temperature):\n",
    "        super().__init__(config)\n",
    "\n",
    "        self.config = config\n",
    "        self.pooler_type = pooler_type\n",
    "        self.temp = temperature\n",
    "\n",
    "        self.distilbert = DistilBertModel(config)\n",
    "        self.pooler = Pooler(pooler_type)\n",
    "        self.sim = Similarity(temp=temp)\n",
    "\n",
    "        self.init_weights()\n",
    "\n",
    "    def forward(self, input_ids=None, attention_mask=None):\n",
    "        if self.training:\n",
    "            return self.cl_forward(self.distilbert, input_ids, attention_mask)\n",
    "        else:\n",
    "            return self.sent_emb(self.distilbert, input_ids, attention_mask)\n",
    "\n",
    "    def cl_forward(self, encoder, input_ids=None, attention_mask=None):\n",
    "        batch_size = input_ids.size(0)\n",
    "        num_sent = input_ids.size(1)  # Number of sentences in one instance: 2 sentences\n",
    "\n",
    "        # Flatten all input tensors\n",
    "        input_ids = input_ids.view((-1, input_ids.size(-1))) # (bs * num_sent, len)\n",
    "        attention_mask = attention_mask.view((-1, attention_mask.size(-1))) # (bs * num_sent len)\n",
    "\n",
    "        # Pre-trained Model Encoder\n",
    "        outputs = encoder(\n",
    "            input_ids,\n",
    "            attention_mask=attention_mask,\n",
    "            output_hidden_states=True,\n",
    "            return_dict=True,\n",
    "        )\n",
    "\n",
    "        # Pooling\n",
    "        pooler_output = self.pooler(attention_mask, outputs)\n",
    "        pooler_output = pooler_output.view((batch_size, num_sent, pooler_output.size(-1)))  # (bs, num_sent, hidden)\n",
    "\n",
    "        # Separate representation\n",
    "        z1, z2 = pooler_output[:, 0], pooler_output[:, 1]\n",
    "\n",
    "        # Cosine similarity\n",
    "        cos_sim = self.sim(z1.unsqueeze(1), z2.unsqueeze(0))\n",
    "\n",
    "        # Calculate contrastive loss\n",
    "        criterion = nn.CrossEntropyLoss()\n",
    "        labels = torch.arange(cos_sim.size(0)).long().to(self.device)\n",
    "        loss = criterion(cos_sim, labels)\n",
    "\n",
    "        return SequenceClassifierOutput(\n",
    "            loss=loss,\n",
    "            logits=cos_sim,\n",
    "            hidden_states=outputs.hidden_states,\n",
    "            attentions=outputs.attentions,\n",
    "        )\n",
    "\n",
    "    def sent_emb(self, encoder, input_ids=None, attention_mask=None):\n",
    "        outputs = encoder(\n",
    "            input_ids,\n",
    "            attention_mask=attention_mask,\n",
    "            output_hidden_states=True,\n",
    "            return_dict=True,\n",
    "        )\n",
    "        pooler_output = self.pooler(attention_mask, outputs)\n",
    "\n",
    "        return BaseModelOutputWithPooling(\n",
    "            pooler_output=pooler_output,\n",
    "            last_hidden_state=outputs.last_hidden_state,\n",
    "            hidden_states=outputs.hidden_states,\n",
    "        )\n",
    "\n",
    "\n",
    "pretrained_model_name = 'distilbert-base-uncased'\n",
    "\n",
    "device = torch.device(\"cuda\" if torch.cuda.is_available() else \"cpu\")\n",
    "config = AutoConfig.from_pretrained(pretrained_model_name)\n",
    "\n",
    "model = DistilBertCLModel.from_pretrained(pretrained_model_name, config=config).to(device)\n",
    "tokenizer = AutoTokenizer.from_pretrained(pretrained_model_name)\n",
    "\n",
    "model.eval();"
   ]
  },
  {
   "cell_type": "markdown",
   "id": "135dbf1e",
   "metadata": {
    "papermill": {
     "duration": 0.017507,
     "end_time": "2022-04-09T05:11:40.035085",
     "exception": false,
     "start_time": "2022-04-09T05:11:40.017578",
     "status": "completed"
    },
    "tags": []
   },
   "source": [
    "### 2.1 Initial DistilBERT embeddings performance"
   ]
  },
  {
   "cell_type": "code",
   "execution_count": 11,
   "id": "3d82f7ff",
   "metadata": {
    "execution": {
     "iopub.execute_input": "2022-04-09T05:11:40.069136Z",
     "iopub.status.busy": "2022-04-09T05:11:40.068899Z",
     "iopub.status.idle": "2022-04-09T05:11:40.460650Z",
     "shell.execute_reply": "2022-04-09T05:11:40.459707Z"
    },
    "papermill": {
     "duration": 0.4106,
     "end_time": "2022-04-09T05:11:40.462083",
     "exception": false,
     "start_time": "2022-04-09T05:11:40.051483",
     "status": "completed"
    },
    "tags": []
   },
   "outputs": [],
   "source": [
    "import senteval\n",
    "\n",
    "\n",
    "def prepare(params, samples):\n",
    "    return\n",
    "\n",
    "def batcher(params, batch):\n",
    "    sentences = [\" \".join(s) for s in batch]\n",
    "    batch = tokenizer.batch_encode_plus(\n",
    "        sentences,\n",
    "        return_tensors=\"pt\",\n",
    "        padding=True,\n",
    "    )\n",
    "\n",
    "    for k in batch:\n",
    "        batch[k] = batch[k].to(device)\n",
    "\n",
    "    with torch.no_grad():\n",
    "        outputs = model(**batch)\n",
    "\n",
    "    pooled_result = outputs.pooler_output.cpu()\n",
    "\n",
    "    return pooled_result\n",
    "\n",
    "\n",
    "def evaluate_model():\n",
    "    PATH_TO_DATA = \"./data\"\n",
    "\n",
    "    params = {\"task_path\": PATH_TO_DATA, \"usepytorch\": True, \"kfold\": 10}\n",
    "    tasks = [\"STSBenchmark\", 'STS12', 'STS13', 'STS14', 'STS15']\n",
    "\n",
    "    se = senteval.engine.SE(params, batcher, prepare)\n",
    "    results = se.eval(tasks)\n",
    "\n",
    "    print('STS12: ', results[\"STS12\"][\"all\"][\"spearman\"][\"all\"])\n",
    "    print('STS13: ', results[\"STS13\"][\"all\"][\"spearman\"][\"all\"])\n",
    "    print('STS14: ', results[\"STS14\"][\"all\"][\"spearman\"][\"all\"])\n",
    "    print('STS15: ', results[\"STS15\"][\"all\"][\"spearman\"][\"all\"])\n",
    "    print('STSB: ', results[\"STSBenchmark\"][\"test\"][\"spearman\"][0])\n",
    "\n",
    "    return results"
   ]
  },
  {
   "cell_type": "code",
   "execution_count": 12,
   "id": "7033173e",
   "metadata": {
    "execution": {
     "iopub.execute_input": "2022-04-09T05:11:40.500127Z",
     "iopub.status.busy": "2022-04-09T05:11:40.499538Z",
     "iopub.status.idle": "2022-04-09T05:11:58.181651Z",
     "shell.execute_reply": "2022-04-09T05:11:58.181149Z"
    },
    "papermill": {
     "duration": 17.701995,
     "end_time": "2022-04-09T05:11:58.183138",
     "exception": false,
     "start_time": "2022-04-09T05:11:40.481143",
     "status": "completed"
    },
    "tags": []
   },
   "outputs": [
    {
     "name": "stderr",
     "output_type": "stream",
     "text": [
      "/opt/conda/lib/python3.8/site-packages/SentEval-0.1.0-py3.8.egg/senteval/sts.py:42: VisibleDeprecationWarning: Creating an ndarray from ragged nested sequences (which is a list-or-tuple of lists-or-tuples-or ndarrays with different lengths or shapes) is deprecated. If you meant to do this, you must specify 'dtype=object' when creating the ndarray.\n",
      "/opt/conda/lib/python3.8/site-packages/SentEval-0.1.0-py3.8.egg/senteval/sts.py:43: VisibleDeprecationWarning: Creating an ndarray from ragged nested sequences (which is a list-or-tuple of lists-or-tuples-or ndarrays with different lengths or shapes) is deprecated. If you meant to do this, you must specify 'dtype=object' when creating the ndarray.\n"
     ]
    },
    {
     "name": "stdout",
     "output_type": "stream",
     "text": [
      "STS12:  0.4590923596234164\n",
      "STS13:  0.6322823498140554\n",
      "STS14:  0.5451425792363797\n",
      "STS15:  0.6859944707630287\n",
      "STSB:  0.5980393002435409\n"
     ]
    },
    {
     "data": {
      "text/plain": [
       "{'STSBenchmark': {'train': {'pearson': (0.6294175189054548, 0.0),\n",
       "   'spearman': SpearmanrResult(correlation=0.6039179234864295, pvalue=0.0),\n",
       "   'nsamples': 5749},\n",
       "  'dev': {'pearson': (0.693638330628637, 1.1192778589356476e-215),\n",
       "   'spearman': SpearmanrResult(correlation=0.7027857121332295, pvalue=8.610401536719286e-224),\n",
       "   'nsamples': 1500},\n",
       "  'test': {'pearson': (0.5881691773573242, 4.108151162232856e-129),\n",
       "   'spearman': SpearmanrResult(correlation=0.5980393002435409, pvalue=1.6049743831711917e-134),\n",
       "   'nsamples': 1379},\n",
       "  'all': {'pearson': {'all': 0.6353924724080976,\n",
       "    'mean': 0.6370750089638054,\n",
       "    'wmean': 0.6339898131323789},\n",
       "   'spearman': {'all': 0.6250342042557911,\n",
       "    'mean': 0.6349143119544,\n",
       "    'wmean': 0.6201667715993475}}},\n",
       " 'STS12': {'MSRpar': {'pearson': (0.39338927769571236, 3.617319074691656e-29),\n",
       "   'spearman': SpearmanrResult(correlation=0.4364283332332977, pvalue=3.174596448138318e-36),\n",
       "   'nsamples': 750},\n",
       "  'MSRvid': {'pearson': (0.623524457984768, 5.084408119612257e-82),\n",
       "   'spearman': SpearmanrResult(correlation=0.6288840515052517, pvalue=8.108007604115772e-84),\n",
       "   'nsamples': 750},\n",
       "  'SMTeuroparl': {'pearson': (0.483202853933507, 3.14436307710124e-28),\n",
       "   'spearman': SpearmanrResult(correlation=0.5916917514960663, pvalue=1.0801311807086546e-44),\n",
       "   'nsamples': 459},\n",
       "  'surprise.OnWN': {'pearson': (0.6626349064717713, 5.3743485722063995e-96),\n",
       "   'spearman': SpearmanrResult(correlation=0.6737830537127993, pvalue=2.241590824596865e-100),\n",
       "   'nsamples': 750},\n",
       "  'surprise.SMTnews': {'pearson': (0.641945720755034, 1.0018557421488968e-47),\n",
       "   'spearman': SpearmanrResult(correlation=0.5347890785442436, pvalue=6.769942038111058e-31),\n",
       "   'nsamples': 399},\n",
       "  'all': {'pearson': {'all': 0.4600651659548844,\n",
       "    'mean': 0.5609394433681585,\n",
       "    'wmean': 0.5590694768825376},\n",
       "   'spearman': {'all': 0.4590923596234164,\n",
       "    'mean': 0.5731152536983317,\n",
       "    'wmean': 0.5757042905773357}}},\n",
       " 'STS13': {'FNWN': {'pearson': (0.3990169752666573, 1.2915753694684846e-08),\n",
       "   'spearman': SpearmanrResult(correlation=0.4260142316097952, pvalue=9.863638009319568e-10),\n",
       "   'nsamples': 189},\n",
       "  'headlines': {'pearson': (0.7051513693078685, 8.421436322506354e-114),\n",
       "   'spearman': SpearmanrResult(correlation=0.6896496860675562, pvalue=5.946391089117021e-107),\n",
       "   'nsamples': 750},\n",
       "  'OnWN': {'pearson': (0.5463327141864353, 5.715781576072746e-45),\n",
       "   'spearman': SpearmanrResult(correlation=0.5737794033702972, pvalue=1.978626108283267e-50),\n",
       "   'nsamples': 561},\n",
       "  'all': {'pearson': {'all': 0.622090275876911,\n",
       "    'mean': 0.5501670195869871,\n",
       "    'wmean': 0.6071802586432599},\n",
       "   'spearman': {'all': 0.6322823498140554,\n",
       "    'mean': 0.5631477736825495,\n",
       "    'wmean': 0.6130961330771034}}},\n",
       " 'STS14': {'deft-forum': {'pearson': (0.38058002048642703,\n",
       "    5.869098531898644e-17),\n",
       "   'spearman': SpearmanrResult(correlation=0.3938359561403217, pvalue=3.795307440312183e-18),\n",
       "   'nsamples': 450},\n",
       "  'deft-news': {'pearson': (0.7681801816648117, 1.1665127872645873e-59),\n",
       "   'spearman': SpearmanrResult(correlation=0.7266380718602096, pvalue=1.6551093943135108e-50),\n",
       "   'nsamples': 300},\n",
       "  'headlines': {'pearson': (0.6747395602362045, 9.242422953885079e-101),\n",
       "   'spearman': SpearmanrResult(correlation=0.6323705773681298, pvalue=5.256073153638064e-85),\n",
       "   'nsamples': 750},\n",
       "  'images': {'pearson': (0.6515686968208699, 7.857180329845885e-92),\n",
       "   'spearman': SpearmanrResult(correlation=0.6320079102440131, pvalue=6.997985643609486e-85),\n",
       "   'nsamples': 750},\n",
       "  'OnWN': {'pearson': (0.6695838403020711, 1.0537242419243246e-98),\n",
       "   'spearman': SpearmanrResult(correlation=0.7076570133852362, pvalue=5.972411239378736e-115),\n",
       "   'nsamples': 750},\n",
       "  'tweet-news': {'pearson': (0.6495453022730866, 4.345088767758977e-91),\n",
       "   'spearman': SpearmanrResult(correlation=0.6115462960473301, pvalue=3.9731843445278196e-78),\n",
       "   'nsamples': 750},\n",
       "  'all': {'pearson': {'all': 0.5611588910102413,\n",
       "    'mean': 0.6323662669639117,\n",
       "    'wmean': 0.6362114969180026},\n",
       "   'spearman': {'all': 0.5451425792363797,\n",
       "    'mean': 0.61734263750754,\n",
       "    'wmean': 0.6221077198945971}}},\n",
       " 'STS15': {'answers-forums': {'pearson': (0.5902044588218118,\n",
       "    1.4368724546142131e-36),\n",
       "   'spearman': SpearmanrResult(correlation=0.5772789199373789, pvalue=1.049808720151655e-34),\n",
       "   'nsamples': 375},\n",
       "  'answers-students': {'pearson': (0.7162439620113166, 5.536830656336986e-119),\n",
       "   'spearman': SpearmanrResult(correlation=0.7206038280315523, pvalue=4.342230571848042e-121),\n",
       "   'nsamples': 750},\n",
       "  'belief': {'pearson': (0.6395367528282991, 1.615629635334128e-44),\n",
       "   'spearman': SpearmanrResult(correlation=0.6742586921721364, pvalue=4.778386948205385e-51),\n",
       "   'nsamples': 375},\n",
       "  'headlines': {'pearson': (0.7174843157286693, 1.4070382191515058e-119),\n",
       "   'spearman': SpearmanrResult(correlation=0.7073378031499976, pvalue=8.37985519068551e-115),\n",
       "   'nsamples': 750},\n",
       "  'images': {'pearson': (0.7633827927393187, 4.0610771295228604e-144),\n",
       "   'spearman': SpearmanrResult(correlation=0.7702157998377485, pvalue=2.9742689366130456e-148),\n",
       "   'nsamples': 750},\n",
       "  'all': {'pearson': {'all': 0.6686857670338899,\n",
       "    'mean': 0.6853704564258831,\n",
       "    'wmean': 0.70299541907609},\n",
       "   'spearman': {'all': 0.6859944707630287,\n",
       "    'mean': 0.6899390086257627,\n",
       "    'wmean': 0.705981559268514}}}}"
      ]
     },
     "execution_count": 12,
     "metadata": {},
     "output_type": "execute_result"
    }
   ],
   "source": [
    "results = evaluate_model()\n",
    "results"
   ]
  },
  {
   "cell_type": "markdown",
   "id": "a1cd433b",
   "metadata": {
    "papermill": {
     "duration": 0.017422,
     "end_time": "2022-04-09T05:11:58.218650",
     "exception": false,
     "start_time": "2022-04-09T05:11:58.201228",
     "status": "completed"
    },
    "tags": []
   },
   "source": [
    "## 3. Trainer"
   ]
  },
  {
   "cell_type": "code",
   "execution_count": 13,
   "id": "53b37064",
   "metadata": {
    "execution": {
     "iopub.execute_input": "2022-04-09T05:11:58.254031Z",
     "iopub.status.busy": "2022-04-09T05:11:58.253857Z",
     "iopub.status.idle": "2022-04-09T05:11:58.489998Z",
     "shell.execute_reply": "2022-04-09T05:11:58.489351Z"
    },
    "papermill": {
     "duration": 0.255849,
     "end_time": "2022-04-09T05:11:58.491530",
     "exception": false,
     "start_time": "2022-04-09T05:11:58.235681",
     "status": "completed"
    },
    "tags": []
   },
   "outputs": [
    {
     "name": "stderr",
     "output_type": "stream",
     "text": [
      "max_steps is given, it will override any value given in num_train_epochs\n"
     ]
    },
    {
     "name": "stderr",
     "output_type": "stream",
     "text": [
      "Using amp half precision backend\n"
     ]
    }
   ],
   "source": [
    "# import mlflow\n",
    "\n",
    "from transformers import Trainer, TrainingArguments\n",
    "from transformers import default_data_collator\n",
    "\n",
    "training_args = TrainingArguments(\n",
    "    output_dir='output',\n",
    "    overwrite_output_dir=True,\n",
    "    learning_rate=learning_rate,\n",
    "    num_train_epochs=epochs,\n",
    "    max_steps=max_steps,\n",
    "    per_device_train_batch_size=batch_size,\n",
    "    per_device_eval_batch_size=batch_size,\n",
    "    save_strategy='steps',\n",
    "    save_steps=max_steps,\n",
    "    fp16=fp16,\n",
    ")\n",
    "\n",
    "model.train()\n",
    "\n",
    "trainer = Trainer(\n",
    "    model=model,\n",
    "    args=training_args,\n",
    "    train_dataset=train_dataset,\n",
    "    tokenizer=tokenizer,\n",
    "    data_collator=default_data_collator\n",
    ")"
   ]
  },
  {
   "cell_type": "code",
   "execution_count": 14,
   "id": "99dffef5",
   "metadata": {
    "execution": {
     "iopub.execute_input": "2022-04-09T05:11:58.533647Z",
     "iopub.status.busy": "2022-04-09T05:11:58.533473Z",
     "iopub.status.idle": "2022-04-09T05:49:22.520896Z",
     "shell.execute_reply": "2022-04-09T05:49:22.520277Z"
    },
    "papermill": {
     "duration": 2244.011782,
     "end_time": "2022-04-09T05:49:22.522268",
     "exception": false,
     "start_time": "2022-04-09T05:11:58.510486",
     "status": "completed"
    },
    "tags": []
   },
   "outputs": [
    {
     "name": "stderr",
     "output_type": "stream",
     "text": [
      "/opt/conda/lib/python3.8/site-packages/transformers/optimization.py:306: FutureWarning: This implementation of AdamW is deprecated and will be removed in a future version. Use the PyTorch implementation torch.optim.AdamW instead, or set `no_deprecation_warning=True` to disable this warning\n",
      "  warnings.warn(\n",
      "***** Running training *****\n"
     ]
    },
    {
     "name": "stderr",
     "output_type": "stream",
     "text": [
      "  Num examples = 1000000\n"
     ]
    },
    {
     "name": "stderr",
     "output_type": "stream",
     "text": [
      "  Num Epochs = 2\n"
     ]
    },
    {
     "name": "stderr",
     "output_type": "stream",
     "text": [
      "  Instantaneous batch size per device = 64\n"
     ]
    },
    {
     "name": "stderr",
     "output_type": "stream",
     "text": [
      "  Total train batch size (w. parallel, distributed & accumulation) = 64\n"
     ]
    },
    {
     "name": "stderr",
     "output_type": "stream",
     "text": [
      "  Gradient Accumulation steps = 1\n"
     ]
    },
    {
     "name": "stderr",
     "output_type": "stream",
     "text": [
      "  Total optimization steps = 30000\n"
     ]
    },
    {
     "data": {
      "text/html": [
       "\n",
       "    <div>\n",
       "      \n",
       "      <progress value='30000' max='30000' style='width:300px; height:20px; vertical-align: middle;'></progress>\n",
       "      [30000/30000 37:23, Epoch 1/2]\n",
       "    </div>\n",
       "    <table border=\"1\" class=\"dataframe\">\n",
       "  <thead>\n",
       " <tr style=\"text-align: left;\">\n",
       "      <th>Step</th>\n",
       "      <th>Training Loss</th>\n",
       "    </tr>\n",
       "  </thead>\n",
       "  <tbody>\n",
       "    <tr>\n",
       "      <td>500</td>\n",
       "      <td>0.012700</td>\n",
       "    </tr>\n",
       "    <tr>\n",
       "      <td>1000</td>\n",
       "      <td>0.001600</td>\n",
       "    </tr>\n",
       "    <tr>\n",
       "      <td>1500</td>\n",
       "      <td>0.000900</td>\n",
       "    </tr>\n",
       "    <tr>\n",
       "      <td>2000</td>\n",
       "      <td>0.000500</td>\n",
       "    </tr>\n",
       "    <tr>\n",
       "      <td>2500</td>\n",
       "      <td>0.000400</td>\n",
       "    </tr>\n",
       "    <tr>\n",
       "      <td>3000</td>\n",
       "      <td>0.000400</td>\n",
       "    </tr>\n",
       "    <tr>\n",
       "      <td>3500</td>\n",
       "      <td>0.000200</td>\n",
       "    </tr>\n",
       "    <tr>\n",
       "      <td>4000</td>\n",
       "      <td>0.000200</td>\n",
       "    </tr>\n",
       "    <tr>\n",
       "      <td>4500</td>\n",
       "      <td>0.000200</td>\n",
       "    </tr>\n",
       "    <tr>\n",
       "      <td>5000</td>\n",
       "      <td>0.000200</td>\n",
       "    </tr>\n",
       "    <tr>\n",
       "      <td>5500</td>\n",
       "      <td>0.000100</td>\n",
       "    </tr>\n",
       "    <tr>\n",
       "      <td>6000</td>\n",
       "      <td>0.000100</td>\n",
       "    </tr>\n",
       "    <tr>\n",
       "      <td>6500</td>\n",
       "      <td>0.000200</td>\n",
       "    </tr>\n",
       "    <tr>\n",
       "      <td>7000</td>\n",
       "      <td>0.000200</td>\n",
       "    </tr>\n",
       "    <tr>\n",
       "      <td>7500</td>\n",
       "      <td>0.000100</td>\n",
       "    </tr>\n",
       "    <tr>\n",
       "      <td>8000</td>\n",
       "      <td>0.000000</td>\n",
       "    </tr>\n",
       "    <tr>\n",
       "      <td>8500</td>\n",
       "      <td>0.000100</td>\n",
       "    </tr>\n",
       "    <tr>\n",
       "      <td>9000</td>\n",
       "      <td>0.000100</td>\n",
       "    </tr>\n",
       "    <tr>\n",
       "      <td>9500</td>\n",
       "      <td>0.000100</td>\n",
       "    </tr>\n",
       "    <tr>\n",
       "      <td>10000</td>\n",
       "      <td>0.000100</td>\n",
       "    </tr>\n",
       "    <tr>\n",
       "      <td>10500</td>\n",
       "      <td>0.000300</td>\n",
       "    </tr>\n",
       "    <tr>\n",
       "      <td>11000</td>\n",
       "      <td>0.000200</td>\n",
       "    </tr>\n",
       "    <tr>\n",
       "      <td>11500</td>\n",
       "      <td>0.000300</td>\n",
       "    </tr>\n",
       "    <tr>\n",
       "      <td>12000</td>\n",
       "      <td>0.000000</td>\n",
       "    </tr>\n",
       "    <tr>\n",
       "      <td>12500</td>\n",
       "      <td>0.000200</td>\n",
       "    </tr>\n",
       "    <tr>\n",
       "      <td>13000</td>\n",
       "      <td>0.000100</td>\n",
       "    </tr>\n",
       "    <tr>\n",
       "      <td>13500</td>\n",
       "      <td>0.000100</td>\n",
       "    </tr>\n",
       "    <tr>\n",
       "      <td>14000</td>\n",
       "      <td>0.000100</td>\n",
       "    </tr>\n",
       "    <tr>\n",
       "      <td>14500</td>\n",
       "      <td>0.000100</td>\n",
       "    </tr>\n",
       "    <tr>\n",
       "      <td>15000</td>\n",
       "      <td>0.000100</td>\n",
       "    </tr>\n",
       "    <tr>\n",
       "      <td>15500</td>\n",
       "      <td>0.000000</td>\n",
       "    </tr>\n",
       "    <tr>\n",
       "      <td>16000</td>\n",
       "      <td>0.000200</td>\n",
       "    </tr>\n",
       "    <tr>\n",
       "      <td>16500</td>\n",
       "      <td>0.000200</td>\n",
       "    </tr>\n",
       "    <tr>\n",
       "      <td>17000</td>\n",
       "      <td>0.000100</td>\n",
       "    </tr>\n",
       "    <tr>\n",
       "      <td>17500</td>\n",
       "      <td>0.000100</td>\n",
       "    </tr>\n",
       "    <tr>\n",
       "      <td>18000</td>\n",
       "      <td>0.000100</td>\n",
       "    </tr>\n",
       "    <tr>\n",
       "      <td>18500</td>\n",
       "      <td>0.000100</td>\n",
       "    </tr>\n",
       "    <tr>\n",
       "      <td>19000</td>\n",
       "      <td>0.000200</td>\n",
       "    </tr>\n",
       "    <tr>\n",
       "      <td>19500</td>\n",
       "      <td>0.000000</td>\n",
       "    </tr>\n",
       "    <tr>\n",
       "      <td>20000</td>\n",
       "      <td>0.000200</td>\n",
       "    </tr>\n",
       "    <tr>\n",
       "      <td>20500</td>\n",
       "      <td>0.000000</td>\n",
       "    </tr>\n",
       "    <tr>\n",
       "      <td>21000</td>\n",
       "      <td>0.000200</td>\n",
       "    </tr>\n",
       "    <tr>\n",
       "      <td>21500</td>\n",
       "      <td>0.000100</td>\n",
       "    </tr>\n",
       "    <tr>\n",
       "      <td>22000</td>\n",
       "      <td>0.000000</td>\n",
       "    </tr>\n",
       "    <tr>\n",
       "      <td>22500</td>\n",
       "      <td>0.000100</td>\n",
       "    </tr>\n",
       "    <tr>\n",
       "      <td>23000</td>\n",
       "      <td>0.000100</td>\n",
       "    </tr>\n",
       "    <tr>\n",
       "      <td>23500</td>\n",
       "      <td>0.000000</td>\n",
       "    </tr>\n",
       "    <tr>\n",
       "      <td>24000</td>\n",
       "      <td>0.000200</td>\n",
       "    </tr>\n",
       "    <tr>\n",
       "      <td>24500</td>\n",
       "      <td>0.000000</td>\n",
       "    </tr>\n",
       "    <tr>\n",
       "      <td>25000</td>\n",
       "      <td>0.000000</td>\n",
       "    </tr>\n",
       "    <tr>\n",
       "      <td>25500</td>\n",
       "      <td>0.000100</td>\n",
       "    </tr>\n",
       "    <tr>\n",
       "      <td>26000</td>\n",
       "      <td>0.000100</td>\n",
       "    </tr>\n",
       "    <tr>\n",
       "      <td>26500</td>\n",
       "      <td>0.000100</td>\n",
       "    </tr>\n",
       "    <tr>\n",
       "      <td>27000</td>\n",
       "      <td>0.000000</td>\n",
       "    </tr>\n",
       "    <tr>\n",
       "      <td>27500</td>\n",
       "      <td>0.000000</td>\n",
       "    </tr>\n",
       "    <tr>\n",
       "      <td>28000</td>\n",
       "      <td>0.000100</td>\n",
       "    </tr>\n",
       "    <tr>\n",
       "      <td>28500</td>\n",
       "      <td>0.000100</td>\n",
       "    </tr>\n",
       "    <tr>\n",
       "      <td>29000</td>\n",
       "      <td>0.000100</td>\n",
       "    </tr>\n",
       "    <tr>\n",
       "      <td>29500</td>\n",
       "      <td>0.000000</td>\n",
       "    </tr>\n",
       "    <tr>\n",
       "      <td>30000</td>\n",
       "      <td>0.000100</td>\n",
       "    </tr>\n",
       "  </tbody>\n",
       "</table><p>"
      ],
      "text/plain": [
       "<IPython.core.display.HTML object>"
      ]
     },
     "metadata": {},
     "output_type": "display_data"
    },
    {
     "name": "stderr",
     "output_type": "stream",
     "text": [
      "Saving model checkpoint to output/checkpoint-30000\n"
     ]
    },
    {
     "name": "stderr",
     "output_type": "stream",
     "text": [
      "Configuration saved in output/checkpoint-30000/config.json\n"
     ]
    },
    {
     "name": "stderr",
     "output_type": "stream",
     "text": [
      "Model weights saved in output/checkpoint-30000/pytorch_model.bin\n"
     ]
    },
    {
     "name": "stderr",
     "output_type": "stream",
     "text": [
      "tokenizer config file saved in output/checkpoint-30000/tokenizer_config.json\n"
     ]
    },
    {
     "name": "stderr",
     "output_type": "stream",
     "text": [
      "Special tokens file saved in output/checkpoint-30000/special_tokens_map.json\n"
     ]
    },
    {
     "name": "stderr",
     "output_type": "stream",
     "text": [
      "\n",
      "\n",
      "Training completed. Do not forget to share your model on huggingface.co/models =)\n",
      "\n",
      "\n"
     ]
    }
   ],
   "source": [
    "train_result = trainer.train()"
   ]
  },
  {
   "cell_type": "code",
   "execution_count": 15,
   "id": "b3cb2ce4",
   "metadata": {
    "execution": {
     "iopub.execute_input": "2022-04-09T05:49:22.569008Z",
     "iopub.status.busy": "2022-04-09T05:49:22.568480Z",
     "iopub.status.idle": "2022-04-09T05:49:22.601042Z",
     "shell.execute_reply": "2022-04-09T05:49:22.600505Z"
    },
    "papermill": {
     "duration": 0.057178,
     "end_time": "2022-04-09T05:49:22.602405",
     "exception": false,
     "start_time": "2022-04-09T05:49:22.545227",
     "status": "completed"
    },
    "tags": []
   },
   "outputs": [],
   "source": [
    "import pandas as pd\n",
    "\n",
    "pd.DataFrame(trainer.state.log_history).to_csv(f'logs/cl-distilled_pooling_{pooling_method}_fp16.csv', index=False)"
   ]
  },
  {
   "cell_type": "markdown",
   "id": "c8a16619",
   "metadata": {
    "papermill": {
     "duration": 0.024154,
     "end_time": "2022-04-09T05:49:22.648314",
     "exception": false,
     "start_time": "2022-04-09T05:49:22.624160",
     "status": "completed"
    },
    "tags": []
   },
   "source": [
    "## 4. Evaluate DistilBert CL Model performance"
   ]
  },
  {
   "cell_type": "code",
   "execution_count": 16,
   "id": "a016785f",
   "metadata": {
    "execution": {
     "iopub.execute_input": "2022-04-09T05:49:22.695601Z",
     "iopub.status.busy": "2022-04-09T05:49:22.695086Z",
     "iopub.status.idle": "2022-04-09T05:49:39.728990Z",
     "shell.execute_reply": "2022-04-09T05:49:39.728355Z"
    },
    "papermill": {
     "duration": 17.059173,
     "end_time": "2022-04-09T05:49:39.730423",
     "exception": false,
     "start_time": "2022-04-09T05:49:22.671250",
     "status": "completed"
    },
    "tags": []
   },
   "outputs": [
    {
     "name": "stderr",
     "output_type": "stream",
     "text": [
      "/opt/conda/lib/python3.8/site-packages/SentEval-0.1.0-py3.8.egg/senteval/sts.py:42: VisibleDeprecationWarning: Creating an ndarray from ragged nested sequences (which is a list-or-tuple of lists-or-tuples-or ndarrays with different lengths or shapes) is deprecated. If you meant to do this, you must specify 'dtype=object' when creating the ndarray.\n",
      "/opt/conda/lib/python3.8/site-packages/SentEval-0.1.0-py3.8.egg/senteval/sts.py:43: VisibleDeprecationWarning: Creating an ndarray from ragged nested sequences (which is a list-or-tuple of lists-or-tuples-or ndarrays with different lengths or shapes) is deprecated. If you meant to do this, you must specify 'dtype=object' when creating the ndarray.\n"
     ]
    },
    {
     "name": "stdout",
     "output_type": "stream",
     "text": [
      "STS12:  0.6146979451111422\n",
      "STS13:  0.7372206764236565\n",
      "STS14:  0.6579626449411411\n",
      "STS15:  0.771462620797253\n",
      "STSB:  0.6860167455071575\n"
     ]
    },
    {
     "data": {
      "text/plain": [
       "{'STSBenchmark': {'train': {'pearson': (0.7572210914229885, 0.0),\n",
       "   'spearman': SpearmanrResult(correlation=0.7304161830377457, pvalue=0.0),\n",
       "   'nsamples': 5749},\n",
       "  'dev': {'pearson': (0.7594813119256195, 5.0928684418522235e-282),\n",
       "   'spearman': SpearmanrResult(correlation=0.7605511647578257, pvalue=2.8441071502885476e-283),\n",
       "   'nsamples': 1500},\n",
       "  'test': {'pearson': (0.7022476041550859, 1.9682548992950628e-205),\n",
       "   'spearman': SpearmanrResult(correlation=0.6860167455071575, pvalue=2.0428148801220553e-192),\n",
       "   'nsamples': 1379},\n",
       "  'all': {'pearson': {'all': 0.7465555323402195,\n",
       "    'mean': 0.7396500025012314,\n",
       "    'wmean': 0.7488277084618746},\n",
       "   'spearman': {'all': 0.7333379085338145,\n",
       "    'mean': 0.725661364434243,\n",
       "    'wmean': 0.7285589331797762}}},\n",
       " 'STS12': {'MSRpar': {'pearson': (0.6230781623028983, 7.150369776765274e-82),\n",
       "   'spearman': SpearmanrResult(correlation=0.6077753968005429, pvalue=6.1721553748737546e-77),\n",
       "   'nsamples': 750},\n",
       "  'MSRvid': {'pearson': (0.8137671630555902, 1.8390099504546772e-178),\n",
       "   'spearman': SpearmanrResult(correlation=0.8069491158238729, pvalue=3.1384470752940333e-173),\n",
       "   'nsamples': 750},\n",
       "  'SMTeuroparl': {'pearson': (0.4379670915248137, 6.202928108070627e-23),\n",
       "   'spearman': SpearmanrResult(correlation=0.5347032855937722, pvalue=2.655717600467608e-35),\n",
       "   'nsamples': 459},\n",
       "  'surprise.OnWN': {'pearson': (0.6945719299511847, 4.4350388861282315e-109),\n",
       "   'spearman': SpearmanrResult(correlation=0.6693807283187482, pvalue=1.2673954145582471e-98),\n",
       "   'nsamples': 750},\n",
       "  'surprise.SMTnews': {'pearson': (0.6003103709848424, 1.988445419283834e-40),\n",
       "   'spearman': SpearmanrResult(correlation=0.5807413029241816, pvalue=2.3590505282260188e-37),\n",
       "   'nsamples': 399},\n",
       "  'all': {'pearson': {'all': 0.6607424092022087,\n",
       "    'mean': 0.6339389435638658,\n",
       "    'wmean': 0.6560854808607132},\n",
       "   'spearman': {'all': 0.6146979451111422,\n",
       "    'mean': 0.6399099658922236,\n",
       "    'wmean': 0.6564425735719637}}},\n",
       " 'STS13': {'FNWN': {'pearson': (0.5648454710286996, 2.5408775640253616e-17),\n",
       "   'spearman': SpearmanrResult(correlation=0.5770357247877754, pvalue=3.608488955307612e-18),\n",
       "   'nsamples': 189},\n",
       "  'headlines': {'pearson': (0.7750863598037582, 2.7359319254718634e-151),\n",
       "   'spearman': SpearmanrResult(correlation=0.7699358615644617, pvalue=4.4218849391501674e-148),\n",
       "   'nsamples': 750},\n",
       "  'OnWN': {'pearson': (0.7147644144736719, 7.28990946066871e-89),\n",
       "   'spearman': SpearmanrResult(correlation=0.7147993380144806, pvalue=7.084516053868633e-89),\n",
       "   'nsamples': 561},\n",
       "  'all': {'pearson': {'all': 0.7287005508780043,\n",
       "    'mean': 0.6848987484353767,\n",
       "    'wmean': 0.7260356002646485},\n",
       "   'spearman': {'all': 0.7372206764236565,\n",
       "    'mean': 0.6872569747889058,\n",
       "    'wmean': 0.7250093845229063}}},\n",
       " 'STS14': {'deft-forum': {'pearson': (0.48884609011096425,\n",
       "    2.078737131910923e-28),\n",
       "   'spearman': SpearmanrResult(correlation=0.48486727228793125, pvalue=6.53534594784185e-28),\n",
       "   'nsamples': 450},\n",
       "  'deft-news': {'pearson': (0.801644608827889, 1.4912192680146513e-68),\n",
       "   'spearman': SpearmanrResult(correlation=0.7523401062218211, pvalue=5.896424701538297e-56),\n",
       "   'nsamples': 300},\n",
       "  'headlines': {'pearson': (0.7424881036521532, 2.687738437949587e-132),\n",
       "   'spearman': SpearmanrResult(correlation=0.7131901085461466, pvalue=1.5651745586834918e-117),\n",
       "   'nsamples': 750},\n",
       "  'images': {'pearson': (0.7415180366236467, 8.91710956005268e-132),\n",
       "   'spearman': SpearmanrResult(correlation=0.7078028165010892, pvalue=5.1156376169670275e-115),\n",
       "   'nsamples': 750},\n",
       "  'OnWN': {'pearson': (0.7779084583252346, 4.3916504436543965e-153),\n",
       "   'spearman': SpearmanrResult(correlation=0.78886088607039, pvalue=2.629185622944112e-160),\n",
       "   'nsamples': 750},\n",
       "  'tweet-news': {'pearson': (0.747062405130906, 8.737440322437539e-135),\n",
       "   'spearman': SpearmanrResult(correlation=0.6954426480251943, pvalue=1.8453818429457155e-109),\n",
       "   'nsamples': 750},\n",
       "  'all': {'pearson': {'all': 0.684812934420266,\n",
       "    'mean': 0.7165779504451324,\n",
       "    'wmean': 0.7245885002659349},\n",
       "   'spearman': {'all': 0.6579626449411411,\n",
       "    'mean': 0.6904173062754287,\n",
       "    'wmean': 0.6994305730008614}}},\n",
       " 'STS15': {'answers-forums': {'pearson': (0.6616494377933969,\n",
       "    1.4165048836088326e-48),\n",
       "   'spearman': SpearmanrResult(correlation=0.6622723149088328, pvalue=1.0762810903752695e-48),\n",
       "   'nsamples': 375},\n",
       "  'answers-students': {'pearson': (0.7559138432155688, 9.35996500210542e-140),\n",
       "   'spearman': SpearmanrResult(correlation=0.7548113589287035, pvalue=3.9983658452688125e-139),\n",
       "   'nsamples': 750},\n",
       "  'belief': {'pearson': (0.7366006153980068, 2.490487145934251e-65),\n",
       "   'spearman': SpearmanrResult(correlation=0.7342361065020814, pvalue=1.0260247848184696e-64),\n",
       "   'nsamples': 375},\n",
       "  'headlines': {'pearson': (0.8065868238656467, 5.8731803427514436e-173),\n",
       "   'spearman': SpearmanrResult(correlation=0.8073063538065092, pvalue=1.689609978470901e-173),\n",
       "   'nsamples': 750},\n",
       "  'images': {'pearson': (0.8211411338162454, 2.2780952770396406e-184),\n",
       "   'spearman': SpearmanrResult(correlation=0.8247452094385925, pvalue=2.3465468700497956e-187),\n",
       "   'nsamples': 750},\n",
       "  'all': {'pearson': {'all': 0.7697382392409317,\n",
       "    'mean': 0.7563783708177729,\n",
       "    'wmean': 0.7706917068732907},\n",
       "   'spearman': {'all': 0.771462620797253,\n",
       "    'mean': 0.7566742687169439,\n",
       "    'wmean': 0.7712792832198156}}}}"
      ]
     },
     "execution_count": 16,
     "metadata": {},
     "output_type": "execute_result"
    }
   ],
   "source": [
    "model.eval()\n",
    "\n",
    "results = evaluate_model()\n",
    "results"
   ]
  },
  {
   "cell_type": "code",
   "execution_count": null,
   "id": "0cb0371d",
   "metadata": {
    "papermill": {
     "duration": 0.024861,
     "end_time": "2022-04-09T05:49:39.780201",
     "exception": false,
     "start_time": "2022-04-09T05:49:39.755340",
     "status": "completed"
    },
    "tags": []
   },
   "outputs": [],
   "source": []
  }
 ],
 "metadata": {
  "celltoolbar": "Tags",
  "kernelspec": {
   "display_name": "Python 3 (ipykernel)",
   "language": "python",
   "name": "python3"
  },
  "language_info": {
   "codemirror_mode": {
    "name": "ipython",
    "version": 3
   },
   "file_extension": ".py",
   "mimetype": "text/x-python",
   "name": "python",
   "nbconvert_exporter": "python",
   "pygments_lexer": "ipython3",
   "version": "3.8.12"
  },
  "papermill": {
   "default_parameters": {},
   "duration": 2288.100187,
   "end_time": "2022-04-09T05:49:40.623327",
   "environment_variables": {},
   "exception": null,
   "input_path": "notebooks/training/cl-distilbert_pooling_avg-first-last.ipynb",
   "output_path": "notebooks/training/cl-distilbert_pooling_max_first_last.ipynb",
   "parameters": {
    "pooling_method": "max_first_last"
   },
   "start_time": "2022-04-09T05:11:32.523140",
   "version": "2.3.4"
  },
  "toc": {
   "base_numbering": 1,
   "nav_menu": {},
   "number_sections": false,
   "sideBar": true,
   "skip_h1_title": false,
   "title_cell": "Table of Contents",
   "title_sidebar": "Contents",
   "toc_cell": false,
   "toc_position": {},
   "toc_section_display": true,
   "toc_window_display": false
  },
  "widgets": {
   "application/vnd.jupyter.widget-state+json": {
    "state": {
     "0a803dc0234d4ca49064f218b0f2735f": {
      "model_module": "@jupyter-widgets/base",
      "model_module_version": "1.2.0",
      "model_name": "LayoutModel",
      "state": {
       "_model_module": "@jupyter-widgets/base",
       "_model_module_version": "1.2.0",
       "_model_name": "LayoutModel",
       "_view_count": null,
       "_view_module": "@jupyter-widgets/base",
       "_view_module_version": "1.2.0",
       "_view_name": "LayoutView",
       "align_content": null,
       "align_items": null,
       "align_self": null,
       "border": null,
       "bottom": null,
       "display": null,
       "flex": null,
       "flex_flow": null,
       "grid_area": null,
       "grid_auto_columns": null,
       "grid_auto_flow": null,
       "grid_auto_rows": null,
       "grid_column": null,
       "grid_gap": null,
       "grid_row": null,
       "grid_template_areas": null,
       "grid_template_columns": null,
       "grid_template_rows": null,
       "height": null,
       "justify_content": null,
       "justify_items": null,
       "left": null,
       "margin": null,
       "max_height": null,
       "max_width": null,
       "min_height": null,
       "min_width": null,
       "object_fit": null,
       "object_position": null,
       "order": null,
       "overflow": null,
       "overflow_x": null,
       "overflow_y": null,
       "padding": null,
       "right": null,
       "top": null,
       "visibility": null,
       "width": null
      }
     },
     "122b8fa7625c4e408efbcbd441f3b1f1": {
      "model_module": "@jupyter-widgets/base",
      "model_module_version": "1.2.0",
      "model_name": "LayoutModel",
      "state": {
       "_model_module": "@jupyter-widgets/base",
       "_model_module_version": "1.2.0",
       "_model_name": "LayoutModel",
       "_view_count": null,
       "_view_module": "@jupyter-widgets/base",
       "_view_module_version": "1.2.0",
       "_view_name": "LayoutView",
       "align_content": null,
       "align_items": null,
       "align_self": null,
       "border": null,
       "bottom": null,
       "display": null,
       "flex": null,
       "flex_flow": null,
       "grid_area": null,
       "grid_auto_columns": null,
       "grid_auto_flow": null,
       "grid_auto_rows": null,
       "grid_column": null,
       "grid_gap": null,
       "grid_row": null,
       "grid_template_areas": null,
       "grid_template_columns": null,
       "grid_template_rows": null,
       "height": null,
       "justify_content": null,
       "justify_items": null,
       "left": null,
       "margin": null,
       "max_height": null,
       "max_width": null,
       "min_height": null,
       "min_width": null,
       "object_fit": null,
       "object_position": null,
       "order": null,
       "overflow": null,
       "overflow_x": null,
       "overflow_y": null,
       "padding": null,
       "right": null,
       "top": null,
       "visibility": null,
       "width": null
      }
     },
     "376dc910b56b466fbd7a72bbab7b4e57": {
      "model_module": "@jupyter-widgets/controls",
      "model_module_version": "1.5.0",
      "model_name": "HTMLModel",
      "state": {
       "_dom_classes": [],
       "_model_module": "@jupyter-widgets/controls",
       "_model_module_version": "1.5.0",
       "_model_name": "HTMLModel",
       "_view_count": null,
       "_view_module": "@jupyter-widgets/controls",
       "_view_module_version": "1.5.0",
       "_view_name": "HTMLView",
       "description": "",
       "description_tooltip": null,
       "layout": "IPY_MODEL_0a803dc0234d4ca49064f218b0f2735f",
       "placeholder": "​",
       "style": "IPY_MODEL_c29c63588de94aaf989927729aef0fe4",
       "value": "100%"
      }
     },
     "388a12ea482c40d5b4e2bca1553e5422": {
      "model_module": "@jupyter-widgets/controls",
      "model_module_version": "1.5.0",
      "model_name": "ProgressStyleModel",
      "state": {
       "_model_module": "@jupyter-widgets/controls",
       "_model_module_version": "1.5.0",
       "_model_name": "ProgressStyleModel",
       "_view_count": null,
       "_view_module": "@jupyter-widgets/base",
       "_view_module_version": "1.2.0",
       "_view_name": "StyleView",
       "bar_color": null,
       "description_width": ""
      }
     },
     "3c1fe1d19cba4256912d9ee51118f83f": {
      "model_module": "@jupyter-widgets/controls",
      "model_module_version": "1.5.0",
      "model_name": "HTMLModel",
      "state": {
       "_dom_classes": [],
       "_model_module": "@jupyter-widgets/controls",
       "_model_module_version": "1.5.0",
       "_model_name": "HTMLModel",
       "_view_count": null,
       "_view_module": "@jupyter-widgets/controls",
       "_view_module_version": "1.5.0",
       "_view_name": "HTMLView",
       "description": "",
       "description_tooltip": null,
       "layout": "IPY_MODEL_be84ee67553142d3805390fe331ccc80",
       "placeholder": "​",
       "style": "IPY_MODEL_9c2098eb823b47c5a8ca09abc06a4369",
       "value": " 1/1 [00:00&lt;00:00, 50.93it/s]"
      }
     },
     "8124d93fd34a4650b132886476bccb6e": {
      "model_module": "@jupyter-widgets/controls",
      "model_module_version": "1.5.0",
      "model_name": "FloatProgressModel",
      "state": {
       "_dom_classes": [],
       "_model_module": "@jupyter-widgets/controls",
       "_model_module_version": "1.5.0",
       "_model_name": "FloatProgressModel",
       "_view_count": null,
       "_view_module": "@jupyter-widgets/controls",
       "_view_module_version": "1.5.0",
       "_view_name": "ProgressView",
       "bar_style": "success",
       "description": "",
       "description_tooltip": null,
       "layout": "IPY_MODEL_f0a6c7f3842448dd818adffede54ee3c",
       "max": 1,
       "min": 0,
       "orientation": "horizontal",
       "style": "IPY_MODEL_388a12ea482c40d5b4e2bca1553e5422",
       "value": 1
      }
     },
     "9c2098eb823b47c5a8ca09abc06a4369": {
      "model_module": "@jupyter-widgets/controls",
      "model_module_version": "1.5.0",
      "model_name": "DescriptionStyleModel",
      "state": {
       "_model_module": "@jupyter-widgets/controls",
       "_model_module_version": "1.5.0",
       "_model_name": "DescriptionStyleModel",
       "_view_count": null,
       "_view_module": "@jupyter-widgets/base",
       "_view_module_version": "1.2.0",
       "_view_name": "StyleView",
       "description_width": ""
      }
     },
     "be84ee67553142d3805390fe331ccc80": {
      "model_module": "@jupyter-widgets/base",
      "model_module_version": "1.2.0",
      "model_name": "LayoutModel",
      "state": {
       "_model_module": "@jupyter-widgets/base",
       "_model_module_version": "1.2.0",
       "_model_name": "LayoutModel",
       "_view_count": null,
       "_view_module": "@jupyter-widgets/base",
       "_view_module_version": "1.2.0",
       "_view_name": "LayoutView",
       "align_content": null,
       "align_items": null,
       "align_self": null,
       "border": null,
       "bottom": null,
       "display": null,
       "flex": null,
       "flex_flow": null,
       "grid_area": null,
       "grid_auto_columns": null,
       "grid_auto_flow": null,
       "grid_auto_rows": null,
       "grid_column": null,
       "grid_gap": null,
       "grid_row": null,
       "grid_template_areas": null,
       "grid_template_columns": null,
       "grid_template_rows": null,
       "height": null,
       "justify_content": null,
       "justify_items": null,
       "left": null,
       "margin": null,
       "max_height": null,
       "max_width": null,
       "min_height": null,
       "min_width": null,
       "object_fit": null,
       "object_position": null,
       "order": null,
       "overflow": null,
       "overflow_x": null,
       "overflow_y": null,
       "padding": null,
       "right": null,
       "top": null,
       "visibility": null,
       "width": null
      }
     },
     "c031071cd6844da8a5413c27932f4f4c": {
      "model_module": "@jupyter-widgets/controls",
      "model_module_version": "1.5.0",
      "model_name": "HBoxModel",
      "state": {
       "_dom_classes": [],
       "_model_module": "@jupyter-widgets/controls",
       "_model_module_version": "1.5.0",
       "_model_name": "HBoxModel",
       "_view_count": null,
       "_view_module": "@jupyter-widgets/controls",
       "_view_module_version": "1.5.0",
       "_view_name": "HBoxView",
       "box_style": "",
       "children": [
        "IPY_MODEL_376dc910b56b466fbd7a72bbab7b4e57",
        "IPY_MODEL_8124d93fd34a4650b132886476bccb6e",
        "IPY_MODEL_3c1fe1d19cba4256912d9ee51118f83f"
       ],
       "layout": "IPY_MODEL_122b8fa7625c4e408efbcbd441f3b1f1"
      }
     },
     "c29c63588de94aaf989927729aef0fe4": {
      "model_module": "@jupyter-widgets/controls",
      "model_module_version": "1.5.0",
      "model_name": "DescriptionStyleModel",
      "state": {
       "_model_module": "@jupyter-widgets/controls",
       "_model_module_version": "1.5.0",
       "_model_name": "DescriptionStyleModel",
       "_view_count": null,
       "_view_module": "@jupyter-widgets/base",
       "_view_module_version": "1.2.0",
       "_view_name": "StyleView",
       "description_width": ""
      }
     },
     "f0a6c7f3842448dd818adffede54ee3c": {
      "model_module": "@jupyter-widgets/base",
      "model_module_version": "1.2.0",
      "model_name": "LayoutModel",
      "state": {
       "_model_module": "@jupyter-widgets/base",
       "_model_module_version": "1.2.0",
       "_model_name": "LayoutModel",
       "_view_count": null,
       "_view_module": "@jupyter-widgets/base",
       "_view_module_version": "1.2.0",
       "_view_name": "LayoutView",
       "align_content": null,
       "align_items": null,
       "align_self": null,
       "border": null,
       "bottom": null,
       "display": null,
       "flex": null,
       "flex_flow": null,
       "grid_area": null,
       "grid_auto_columns": null,
       "grid_auto_flow": null,
       "grid_auto_rows": null,
       "grid_column": null,
       "grid_gap": null,
       "grid_row": null,
       "grid_template_areas": null,
       "grid_template_columns": null,
       "grid_template_rows": null,
       "height": null,
       "justify_content": null,
       "justify_items": null,
       "left": null,
       "margin": null,
       "max_height": null,
       "max_width": null,
       "min_height": null,
       "min_width": null,
       "object_fit": null,
       "object_position": null,
       "order": null,
       "overflow": null,
       "overflow_x": null,
       "overflow_y": null,
       "padding": null,
       "right": null,
       "top": null,
       "visibility": null,
       "width": null
      }
     }
    },
    "version_major": 2,
    "version_minor": 0
   }
  }
 },
 "nbformat": 4,
 "nbformat_minor": 5
}
