{
 "cells": [
  {
   "cell_type": "markdown",
   "id": "30e6a230",
   "metadata": {
    "papermill": {
     "duration": 0.181079,
     "end_time": "2022-04-15T14:17:03.958340",
     "exception": false,
     "start_time": "2022-04-15T14:17:03.777261",
     "status": "completed"
    },
    "tags": []
   },
   "source": [
    "# Contrastive Learning From Scratch - DistilBERT\n",
    "\n",
    "An attempt to build contrastive learning model from scratch. Parts include:\n",
    "\n",
    "- Loading and preparing Wiki-1M data for model input\n",
    "- Contrastive learning model\n",
    "  - Forward passing using pre-trained model\n",
    "  - Constrastive layer\n",
    "  - Calculate loss\n",
    "- Training procedure\n",
    "  - Default trainer optimizer\n",
    "  - Default trainer hyper-parameters"
   ]
  },
  {
   "cell_type": "code",
   "execution_count": 1,
   "id": "a0f49de1",
   "metadata": {
    "execution": {
     "iopub.execute_input": "2022-04-15T14:17:04.387784Z",
     "iopub.status.busy": "2022-04-15T14:17:04.387494Z",
     "iopub.status.idle": "2022-04-15T14:17:04.407864Z",
     "shell.execute_reply": "2022-04-15T14:17:04.407332Z"
    },
    "papermill": {
     "duration": 0.236394,
     "end_time": "2022-04-15T14:17:04.409381",
     "exception": false,
     "start_time": "2022-04-15T14:17:04.172987",
     "status": "completed"
    },
    "tags": []
   },
   "outputs": [
    {
     "name": "stdout",
     "output_type": "stream",
     "text": [
      "/notebooks/contrastive-learning-in-distilled-models\n"
     ]
    }
   ],
   "source": [
    "import os\n",
    "\n",
    "# Set Project home\n",
    "PROJECT_HOME = os.path.join('/',\n",
    "                            'notebooks',\n",
    "                            'contrastive-learning-in-distilled-models')\n",
    "%cd {PROJECT_HOME}\n",
    "\n",
    "# Load project code\n",
    "%reload_ext autoreload\n",
    "%autoreload 2\n",
    "\n",
    "import sys\n",
    "sys.path.insert(0, f'{PROJECT_HOME}/src')\n",
    "\n",
    "import distilface"
   ]
  },
  {
   "cell_type": "code",
   "execution_count": 2,
   "id": "4888f468",
   "metadata": {
    "execution": {
     "iopub.execute_input": "2022-04-15T14:17:04.776339Z",
     "iopub.status.busy": "2022-04-15T14:17:04.775729Z",
     "iopub.status.idle": "2022-04-15T14:17:05.690897Z",
     "shell.execute_reply": "2022-04-15T14:17:05.690051Z"
    },
    "papermill": {
     "duration": 1.142047,
     "end_time": "2022-04-15T14:17:05.692749",
     "exception": false,
     "start_time": "2022-04-15T14:17:04.550702",
     "status": "completed"
    },
    "tags": []
   },
   "outputs": [],
   "source": [
    "def seed_everything(seed: int):\n",
    "    import random, os\n",
    "    import numpy as np\n",
    "    import torch\n",
    "    \n",
    "    random.seed(seed)\n",
    "    os.environ['PYTHONHASHSEED'] = str(seed)\n",
    "    np.random.seed(seed)\n",
    "    torch.manual_seed(seed)\n",
    "    torch.cuda.manual_seed(seed)\n",
    "    torch.backends.cudnn.deterministic = True\n",
    "    torch.backends.cudnn.benchmark = True\n",
    "    \n",
    "seed_everything(42)"
   ]
  },
  {
   "cell_type": "code",
   "execution_count": 3,
   "id": "6d79044f",
   "metadata": {
    "execution": {
     "iopub.execute_input": "2022-04-15T14:17:06.028928Z",
     "iopub.status.busy": "2022-04-15T14:17:06.028433Z",
     "iopub.status.idle": "2022-04-15T14:17:06.046733Z",
     "shell.execute_reply": "2022-04-15T14:17:06.046043Z"
    },
    "papermill": {
     "duration": 0.200934,
     "end_time": "2022-04-15T14:17:06.048052",
     "exception": false,
     "start_time": "2022-04-15T14:17:05.847118",
     "status": "completed"
    },
    "tags": [
     "parameters"
    ]
   },
   "outputs": [],
   "source": [
    "# Hyperparameters\n",
    "\n",
    "pooling_method = 'avg_last4'\n",
    "batch_size = 128\n",
    "learning_rate = 1e-5\n",
    "epochs = 1\n",
    "max_steps = 30_000\n",
    "temperature = 0.05\n",
    "max_len = 32\n",
    "fp16 = False"
   ]
  },
  {
   "cell_type": "code",
   "execution_count": 4,
   "id": "0f98203f",
   "metadata": {
    "execution": {
     "iopub.execute_input": "2022-04-15T14:17:06.324017Z",
     "iopub.status.busy": "2022-04-15T14:17:06.323469Z",
     "iopub.status.idle": "2022-04-15T14:17:06.340846Z",
     "shell.execute_reply": "2022-04-15T14:17:06.340108Z"
    },
    "papermill": {
     "duration": 0.174581,
     "end_time": "2022-04-15T14:17:06.342577",
     "exception": false,
     "start_time": "2022-04-15T14:17:06.167996",
     "status": "completed"
    },
    "tags": [
     "injected-parameters"
    ]
   },
   "outputs": [],
   "source": [
    "# Parameters\n",
    "max_steps = 10000\n"
   ]
  },
  {
   "cell_type": "markdown",
   "id": "ca2b33fd",
   "metadata": {
    "papermill": {
     "duration": 0.185378,
     "end_time": "2022-04-15T14:17:06.801570",
     "exception": false,
     "start_time": "2022-04-15T14:17:06.616192",
     "status": "completed"
    },
    "tags": []
   },
   "source": [
    "## 1. Loading and Preparing Wiki-1M data\n",
    "\n",
    "Use huggingface `datasets` library to load local file data."
   ]
  },
  {
   "cell_type": "code",
   "execution_count": 5,
   "id": "42626694",
   "metadata": {
    "execution": {
     "iopub.execute_input": "2022-04-15T14:17:07.172086Z",
     "iopub.status.busy": "2022-04-15T14:17:07.171522Z",
     "iopub.status.idle": "2022-04-15T14:17:07.761576Z",
     "shell.execute_reply": "2022-04-15T14:17:07.760718Z"
    },
    "papermill": {
     "duration": 0.774186,
     "end_time": "2022-04-15T14:17:07.763269",
     "exception": false,
     "start_time": "2022-04-15T14:17:06.989083",
     "status": "completed"
    },
    "tags": []
   },
   "outputs": [
    {
     "name": "stderr",
     "output_type": "stream",
     "text": [
      "Using custom data configuration default-235a9b97f9ebd10e\n"
     ]
    },
    {
     "name": "stderr",
     "output_type": "stream",
     "text": [
      "Reusing dataset text (./data/text/default-235a9b97f9ebd10e/0.0.0/4b86d314f7236db91f0a0f5cda32d4375445e64c5eda2692655dd99c2dac68e8)\n"
     ]
    },
    {
     "data": {
      "application/vnd.jupyter.widget-view+json": {
       "model_id": "166db5487a774b09a96ea21378b0cf54",
       "version_major": 2,
       "version_minor": 0
      },
      "text/plain": [
       "  0%|          | 0/1 [00:00<?, ?it/s]"
      ]
     },
     "metadata": {},
     "output_type": "display_data"
    }
   ],
   "source": [
    "import numpy as np\n",
    "\n",
    "from datasets import load_dataset\n",
    "\n",
    "data_files = {'train': 'data/training/wiki1m_for_simcse.txt'}\n",
    "# data_files = {'train': 'data/training/wiki5k.txt'}\n",
    "datasets = load_dataset('text', data_files=data_files, cache_dir='./data/')"
   ]
  },
  {
   "cell_type": "code",
   "execution_count": 6,
   "id": "6d80a2bf",
   "metadata": {
    "execution": {
     "iopub.execute_input": "2022-04-15T14:17:08.162740Z",
     "iopub.status.busy": "2022-04-15T14:17:08.161781Z",
     "iopub.status.idle": "2022-04-15T14:17:08.184397Z",
     "shell.execute_reply": "2022-04-15T14:17:08.183810Z"
    },
    "papermill": {
     "duration": 0.213116,
     "end_time": "2022-04-15T14:17:08.185680",
     "exception": false,
     "start_time": "2022-04-15T14:17:07.972564",
     "status": "completed"
    },
    "tags": []
   },
   "outputs": [],
   "source": [
    "# Unsupervised / Self-supervised dataset\n",
    "\n",
    "column_names = datasets[\"train\"].column_names\n",
    "sent0_cname = column_names[0]\n",
    "sent1_cname = column_names[0]"
   ]
  },
  {
   "cell_type": "code",
   "execution_count": 7,
   "id": "de0b5bd7",
   "metadata": {
    "execution": {
     "iopub.execute_input": "2022-04-15T14:17:08.537138Z",
     "iopub.status.busy": "2022-04-15T14:17:08.536883Z",
     "iopub.status.idle": "2022-04-15T14:17:09.881145Z",
     "shell.execute_reply": "2022-04-15T14:17:09.880629Z"
    },
    "papermill": {
     "duration": 1.538358,
     "end_time": "2022-04-15T14:17:09.882928",
     "exception": false,
     "start_time": "2022-04-15T14:17:08.344570",
     "status": "completed"
    },
    "tags": []
   },
   "outputs": [],
   "source": [
    "from transformers import AutoTokenizer\n",
    "\n",
    "tokenizer = AutoTokenizer.from_pretrained('distilbert-base-uncased')"
   ]
  },
  {
   "cell_type": "code",
   "execution_count": 8,
   "id": "10715f45",
   "metadata": {
    "execution": {
     "iopub.execute_input": "2022-04-15T14:17:10.359773Z",
     "iopub.status.busy": "2022-04-15T14:17:10.359335Z",
     "iopub.status.idle": "2022-04-15T14:17:10.382520Z",
     "shell.execute_reply": "2022-04-15T14:17:10.381858Z"
    },
    "papermill": {
     "duration": 0.270151,
     "end_time": "2022-04-15T14:17:10.383817",
     "exception": false,
     "start_time": "2022-04-15T14:17:10.113666",
     "status": "completed"
    },
    "tags": []
   },
   "outputs": [],
   "source": [
    "def prepare_features(examples):\n",
    "    total = len(examples[sent0_cname])\n",
    "\n",
    "    # Avoid \"None\" fields \n",
    "    for idx in range(total):\n",
    "        if examples[sent0_cname][idx] is None:\n",
    "            examples[sent0_cname][idx] = \" \"\n",
    "        if examples[sent1_cname][idx] is None:\n",
    "            examples[sent1_cname][idx] = \" \"\n",
    "\n",
    "    sentences = examples[sent0_cname] + examples[sent1_cname]\n",
    "\n",
    "    sent_features = tokenizer(\n",
    "        sentences,\n",
    "        max_length=max_len,\n",
    "        truncation=True,\n",
    "        padding=True,\n",
    "    )\n",
    "\n",
    "    features = {}\n",
    "    for key in sent_features:\n",
    "        features[key] = [[sent_features[key][i], sent_features[key][i+total]] for i in range(total)]\n",
    "\n",
    "    return features"
   ]
  },
  {
   "cell_type": "code",
   "execution_count": 9,
   "id": "505cda0e",
   "metadata": {
    "execution": {
     "iopub.execute_input": "2022-04-15T14:17:11.010858Z",
     "iopub.status.busy": "2022-04-15T14:17:11.009080Z",
     "iopub.status.idle": "2022-04-15T14:17:11.053160Z",
     "shell.execute_reply": "2022-04-15T14:17:11.052741Z"
    },
    "papermill": {
     "duration": 0.298932,
     "end_time": "2022-04-15T14:17:11.054425",
     "exception": false,
     "start_time": "2022-04-15T14:17:10.755493",
     "status": "completed"
    },
    "tags": []
   },
   "outputs": [
    {
     "name": "stderr",
     "output_type": "stream",
     "text": [
      "Loading cached processed dataset at ./data/text/default-235a9b97f9ebd10e/0.0.0/4b86d314f7236db91f0a0f5cda32d4375445e64c5eda2692655dd99c2dac68e8/cache-305eab4ce3c7d88c.arrow\n"
     ]
    }
   ],
   "source": [
    "train_dataset = datasets[\"train\"].map(prepare_features,\n",
    "                                      batched=True,\n",
    "                                    #   num_proc=24,\n",
    "                                      remove_columns=column_names)"
   ]
  },
  {
   "cell_type": "code",
   "execution_count": 10,
   "id": "984d2cf8",
   "metadata": {
    "execution": {
     "iopub.execute_input": "2022-04-15T14:17:11.447062Z",
     "iopub.status.busy": "2022-04-15T14:17:11.446238Z",
     "iopub.status.idle": "2022-04-15T14:17:11.472074Z",
     "shell.execute_reply": "2022-04-15T14:17:11.471663Z"
    },
    "papermill": {
     "duration": 0.256787,
     "end_time": "2022-04-15T14:17:11.473287",
     "exception": false,
     "start_time": "2022-04-15T14:17:11.216500",
     "status": "completed"
    },
    "tags": []
   },
   "outputs": [
    {
     "data": {
      "text/plain": [
       "1000000"
      ]
     },
     "execution_count": 10,
     "metadata": {},
     "output_type": "execute_result"
    }
   ],
   "source": [
    "train_dataset.num_rows"
   ]
  },
  {
   "cell_type": "markdown",
   "id": "f100d45a",
   "metadata": {
    "papermill": {
     "duration": 0.239042,
     "end_time": "2022-04-15T14:17:12.115361",
     "exception": false,
     "start_time": "2022-04-15T14:17:11.876319",
     "status": "completed"
    },
    "tags": []
   },
   "source": [
    "## 2. Contrastive Learning Model"
   ]
  },
  {
   "cell_type": "code",
   "execution_count": 11,
   "id": "dbb2379f",
   "metadata": {
    "execution": {
     "iopub.execute_input": "2022-04-15T14:17:12.564179Z",
     "iopub.status.busy": "2022-04-15T14:17:12.563266Z",
     "iopub.status.idle": "2022-04-15T14:17:16.607095Z",
     "shell.execute_reply": "2022-04-15T14:17:16.606585Z"
    },
    "papermill": {
     "duration": 4.288005,
     "end_time": "2022-04-15T14:17:16.608759",
     "exception": false,
     "start_time": "2022-04-15T14:17:12.320754",
     "status": "completed"
    },
    "tags": []
   },
   "outputs": [
    {
     "name": "stderr",
     "output_type": "stream",
     "text": [
      "Some weights of the model checkpoint at distilbert-base-uncased were not used when initializing DistilBertCLModel: ['vocab_projector.bias', 'vocab_transform.bias', 'vocab_layer_norm.bias', 'vocab_projector.weight', 'vocab_transform.weight', 'vocab_layer_norm.weight']\n",
      "- This IS expected if you are initializing DistilBertCLModel from the checkpoint of a model trained on another task or with another architecture (e.g. initializing a BertForSequenceClassification model from a BertForPreTraining model).\n",
      "- This IS NOT expected if you are initializing DistilBertCLModel from the checkpoint of a model that you expect to be exactly identical (initializing a BertForSequenceClassification model from a BertForSequenceClassification model).\n"
     ]
    }
   ],
   "source": [
    "import torch\n",
    "import torch.nn as nn\n",
    "\n",
    "from transformers import AutoTokenizer, DistilBertModel, DistilBertPreTrainedModel, AutoConfig\n",
    "from transformers.modeling_outputs import SequenceClassifierOutput, BaseModelOutputWithPooling\n",
    "\n",
    "from distilface.modules.pooler import Pooler\n",
    "from distilface.modules.similarity import Similarity\n",
    "\n",
    "\n",
    "class DistilBertCLModel(DistilBertPreTrainedModel):\n",
    "    def __init__(self, config, pooler_type=pooling_method, temp=temperature):\n",
    "        super().__init__(config)\n",
    "\n",
    "        self.config = config\n",
    "        self.pooler_type = pooler_type\n",
    "        self.temp = temperature\n",
    "\n",
    "        self.distilbert = DistilBertModel(config)\n",
    "        self.pooler = Pooler(pooler_type)\n",
    "        self.sim = Similarity(temp=temp)\n",
    "\n",
    "        self.init_weights()\n",
    "\n",
    "    def forward(self, input_ids=None, attention_mask=None):\n",
    "        if self.training:\n",
    "            return self.cl_forward(self.distilbert, input_ids, attention_mask)\n",
    "        else:\n",
    "            return self.sent_emb(self.distilbert, input_ids, attention_mask)\n",
    "\n",
    "    def cl_forward(self, encoder, input_ids=None, attention_mask=None):\n",
    "        batch_size = input_ids.size(0)\n",
    "        num_sent = input_ids.size(1)  # Number of sentences in one instance: 2 sentences\n",
    "\n",
    "        # Flatten all input tensors\n",
    "        input_ids = input_ids.view((-1, input_ids.size(-1))) # (bs * num_sent, len)\n",
    "        attention_mask = attention_mask.view((-1, attention_mask.size(-1))) # (bs * num_sent len)\n",
    "\n",
    "        # Pre-trained Model Encoder\n",
    "        outputs = encoder(\n",
    "            input_ids,\n",
    "            attention_mask=attention_mask,\n",
    "            output_hidden_states=True,\n",
    "            return_dict=True,\n",
    "        )\n",
    "\n",
    "        # Pooling\n",
    "        pooler_output = self.pooler(attention_mask, outputs)\n",
    "        pooler_output = pooler_output.view((batch_size, num_sent, pooler_output.size(-1)))  # (bs, num_sent, hidden)\n",
    "\n",
    "        # Separate representation\n",
    "        z1, z2 = pooler_output[:, 0], pooler_output[:, 1]\n",
    "\n",
    "        # Cosine similarity\n",
    "        cos_sim = self.sim(z1.unsqueeze(1), z2.unsqueeze(0))\n",
    "\n",
    "        # Calculate contrastive loss\n",
    "        criterion = nn.CrossEntropyLoss()\n",
    "        labels = torch.arange(cos_sim.size(0)).long().to(self.device)\n",
    "        loss = criterion(cos_sim, labels)\n",
    "\n",
    "        return SequenceClassifierOutput(\n",
    "            loss=loss,\n",
    "            logits=cos_sim,\n",
    "            hidden_states=outputs.hidden_states,\n",
    "            attentions=outputs.attentions,\n",
    "        )\n",
    "\n",
    "    def sent_emb(self, encoder, input_ids=None, attention_mask=None):\n",
    "        outputs = encoder(\n",
    "            input_ids,\n",
    "            attention_mask=attention_mask,\n",
    "            output_hidden_states=True,\n",
    "            return_dict=True,\n",
    "        )\n",
    "        pooler_output = self.pooler(attention_mask, outputs)\n",
    "\n",
    "        return BaseModelOutputWithPooling(\n",
    "            pooler_output=pooler_output,\n",
    "            last_hidden_state=outputs.last_hidden_state,\n",
    "            hidden_states=outputs.hidden_states,\n",
    "        )\n",
    "\n",
    "\n",
    "pretrained_model_name = 'distilbert-base-uncased'\n",
    "\n",
    "device = torch.device(\"cuda\" if torch.cuda.is_available() else \"cpu\")\n",
    "config = AutoConfig.from_pretrained(pretrained_model_name)\n",
    "\n",
    "model = DistilBertCLModel.from_pretrained(pretrained_model_name, config=config).to(device)\n",
    "tokenizer = AutoTokenizer.from_pretrained(pretrained_model_name)\n",
    "\n",
    "model.eval();"
   ]
  },
  {
   "cell_type": "markdown",
   "id": "475c0c46",
   "metadata": {
    "papermill": {
     "duration": 0.190526,
     "end_time": "2022-04-15T14:17:17.039903",
     "exception": false,
     "start_time": "2022-04-15T14:17:16.849377",
     "status": "completed"
    },
    "tags": []
   },
   "source": [
    "### 2.1 Initial DistilBERT embeddings performance"
   ]
  },
  {
   "cell_type": "code",
   "execution_count": 12,
   "id": "fc1b012f",
   "metadata": {
    "execution": {
     "iopub.execute_input": "2022-04-15T14:17:17.436130Z",
     "iopub.status.busy": "2022-04-15T14:17:17.435317Z",
     "iopub.status.idle": "2022-04-15T14:17:17.837027Z",
     "shell.execute_reply": "2022-04-15T14:17:17.836547Z"
    },
    "papermill": {
     "duration": 0.600613,
     "end_time": "2022-04-15T14:17:17.838789",
     "exception": false,
     "start_time": "2022-04-15T14:17:17.238176",
     "status": "completed"
    },
    "tags": []
   },
   "outputs": [],
   "source": [
    "import senteval\n",
    "\n",
    "\n",
    "def prepare(params, samples):\n",
    "    return\n",
    "\n",
    "def batcher(params, batch):\n",
    "    sentences = [\" \".join(s) for s in batch]\n",
    "    batch = tokenizer.batch_encode_plus(\n",
    "        sentences,\n",
    "        return_tensors=\"pt\",\n",
    "        padding=True,\n",
    "    )\n",
    "\n",
    "    for k in batch:\n",
    "        batch[k] = batch[k].to(device)\n",
    "\n",
    "    with torch.no_grad():\n",
    "        outputs = model(**batch)\n",
    "\n",
    "    pooled_result = outputs.pooler_output.cpu()\n",
    "\n",
    "    return pooled_result\n",
    "\n",
    "\n",
    "def evaluate_model():\n",
    "    PATH_TO_DATA = \"./data\"\n",
    "\n",
    "    params = {\"task_path\": PATH_TO_DATA, \"usepytorch\": True, \"kfold\": 10}\n",
    "    tasks = [\"STSBenchmark\", 'STS12', 'STS13', 'STS14', 'STS15']\n",
    "\n",
    "    se = senteval.engine.SE(params, batcher, prepare)\n",
    "    results = se.eval(tasks)\n",
    "\n",
    "    print('STS12: ', results[\"STS12\"][\"all\"][\"spearman\"][\"all\"])\n",
    "    print('STS13: ', results[\"STS13\"][\"all\"][\"spearman\"][\"all\"])\n",
    "    print('STS14: ', results[\"STS14\"][\"all\"][\"spearman\"][\"all\"])\n",
    "    print('STS15: ', results[\"STS15\"][\"all\"][\"spearman\"][\"all\"])\n",
    "    print('STSB: ', results[\"STSBenchmark\"][\"test\"][\"spearman\"][0])\n",
    "\n",
    "    return results"
   ]
  },
  {
   "cell_type": "markdown",
   "id": "83225ac7",
   "metadata": {
    "papermill": {
     "duration": 0.394223,
     "end_time": "2022-04-15T14:17:18.456082",
     "exception": false,
     "start_time": "2022-04-15T14:17:18.061859",
     "status": "completed"
    },
    "tags": []
   },
   "source": [
    "## 3. Trainer"
   ]
  },
  {
   "cell_type": "code",
   "execution_count": 13,
   "id": "29295687",
   "metadata": {
    "execution": {
     "iopub.execute_input": "2022-04-15T14:17:18.910572Z",
     "iopub.status.busy": "2022-04-15T14:17:18.909698Z",
     "iopub.status.idle": "2022-04-15T14:17:19.040341Z",
     "shell.execute_reply": "2022-04-15T14:17:19.039906Z"
    },
    "papermill": {
     "duration": 0.350033,
     "end_time": "2022-04-15T14:17:19.041667",
     "exception": false,
     "start_time": "2022-04-15T14:17:18.691634",
     "status": "completed"
    },
    "tags": []
   },
   "outputs": [
    {
     "name": "stderr",
     "output_type": "stream",
     "text": [
      "max_steps is given, it will override any value given in num_train_epochs\n"
     ]
    }
   ],
   "source": [
    "# import mlflow\n",
    "\n",
    "from transformers import Trainer, TrainingArguments\n",
    "from transformers import default_data_collator\n",
    "\n",
    "training_args = TrainingArguments(\n",
    "    output_dir='output',\n",
    "    overwrite_output_dir=True,\n",
    "    learning_rate=learning_rate,\n",
    "    num_train_epochs=epochs,\n",
    "    max_steps=max_steps,\n",
    "    per_device_train_batch_size=batch_size,\n",
    "    per_device_eval_batch_size=batch_size,\n",
    "    save_strategy='steps',\n",
    "    save_steps=max_steps,\n",
    "    fp16=fp16,\n",
    ")\n",
    "\n",
    "model.train()\n",
    "\n",
    "trainer = Trainer(\n",
    "    model=model,\n",
    "    args=training_args,\n",
    "    train_dataset=train_dataset,\n",
    "    tokenizer=tokenizer,\n",
    "    data_collator=default_data_collator\n",
    ")"
   ]
  },
  {
   "cell_type": "code",
   "execution_count": 14,
   "id": "d3d84802",
   "metadata": {
    "execution": {
     "iopub.execute_input": "2022-04-15T14:17:19.485496Z",
     "iopub.status.busy": "2022-04-15T14:17:19.484654Z",
     "iopub.status.idle": "2022-04-15T15:06:42.362286Z",
     "shell.execute_reply": "2022-04-15T15:06:42.361769Z"
    },
    "papermill": {
     "duration": 2963.138241,
     "end_time": "2022-04-15T15:06:42.363660",
     "exception": false,
     "start_time": "2022-04-15T14:17:19.225419",
     "status": "completed"
    },
    "tags": []
   },
   "outputs": [
    {
     "name": "stderr",
     "output_type": "stream",
     "text": [
      "/opt/conda/lib/python3.8/site-packages/transformers/optimization.py:306: FutureWarning: This implementation of AdamW is deprecated and will be removed in a future version. Use the PyTorch implementation torch.optim.AdamW instead, or set `no_deprecation_warning=True` to disable this warning\n",
      "  warnings.warn(\n",
      "***** Running training *****\n"
     ]
    },
    {
     "name": "stderr",
     "output_type": "stream",
     "text": [
      "  Num examples = 1000000\n"
     ]
    },
    {
     "name": "stderr",
     "output_type": "stream",
     "text": [
      "  Num Epochs = 2\n"
     ]
    },
    {
     "name": "stderr",
     "output_type": "stream",
     "text": [
      "  Instantaneous batch size per device = 128\n"
     ]
    },
    {
     "name": "stderr",
     "output_type": "stream",
     "text": [
      "  Total train batch size (w. parallel, distributed & accumulation) = 128\n"
     ]
    },
    {
     "name": "stderr",
     "output_type": "stream",
     "text": [
      "  Gradient Accumulation steps = 1\n"
     ]
    },
    {
     "name": "stderr",
     "output_type": "stream",
     "text": [
      "  Total optimization steps = 10000\n"
     ]
    },
    {
     "data": {
      "text/html": [
       "\n",
       "    <div>\n",
       "      \n",
       "      <progress value='10000' max='10000' style='width:300px; height:20px; vertical-align: middle;'></progress>\n",
       "      [10000/10000 49:21, Epoch 1/2]\n",
       "    </div>\n",
       "    <table border=\"1\" class=\"dataframe\">\n",
       "  <thead>\n",
       " <tr style=\"text-align: left;\">\n",
       "      <th>Step</th>\n",
       "      <th>Training Loss</th>\n",
       "    </tr>\n",
       "  </thead>\n",
       "  <tbody>\n",
       "    <tr>\n",
       "      <td>500</td>\n",
       "      <td>0.032100</td>\n",
       "    </tr>\n",
       "    <tr>\n",
       "      <td>1000</td>\n",
       "      <td>0.000400</td>\n",
       "    </tr>\n",
       "    <tr>\n",
       "      <td>1500</td>\n",
       "      <td>0.000300</td>\n",
       "    </tr>\n",
       "    <tr>\n",
       "      <td>2000</td>\n",
       "      <td>0.000200</td>\n",
       "    </tr>\n",
       "    <tr>\n",
       "      <td>2500</td>\n",
       "      <td>0.000200</td>\n",
       "    </tr>\n",
       "    <tr>\n",
       "      <td>3000</td>\n",
       "      <td>0.000200</td>\n",
       "    </tr>\n",
       "    <tr>\n",
       "      <td>3500</td>\n",
       "      <td>0.000100</td>\n",
       "    </tr>\n",
       "    <tr>\n",
       "      <td>4000</td>\n",
       "      <td>0.000200</td>\n",
       "    </tr>\n",
       "    <tr>\n",
       "      <td>4500</td>\n",
       "      <td>0.000200</td>\n",
       "    </tr>\n",
       "    <tr>\n",
       "      <td>5000</td>\n",
       "      <td>0.000100</td>\n",
       "    </tr>\n",
       "    <tr>\n",
       "      <td>5500</td>\n",
       "      <td>0.000300</td>\n",
       "    </tr>\n",
       "    <tr>\n",
       "      <td>6000</td>\n",
       "      <td>0.000200</td>\n",
       "    </tr>\n",
       "    <tr>\n",
       "      <td>6500</td>\n",
       "      <td>0.000200</td>\n",
       "    </tr>\n",
       "    <tr>\n",
       "      <td>7000</td>\n",
       "      <td>0.000200</td>\n",
       "    </tr>\n",
       "    <tr>\n",
       "      <td>7500</td>\n",
       "      <td>0.000200</td>\n",
       "    </tr>\n",
       "    <tr>\n",
       "      <td>8000</td>\n",
       "      <td>0.000200</td>\n",
       "    </tr>\n",
       "    <tr>\n",
       "      <td>8500</td>\n",
       "      <td>0.000200</td>\n",
       "    </tr>\n",
       "    <tr>\n",
       "      <td>9000</td>\n",
       "      <td>0.000100</td>\n",
       "    </tr>\n",
       "    <tr>\n",
       "      <td>9500</td>\n",
       "      <td>0.000200</td>\n",
       "    </tr>\n",
       "    <tr>\n",
       "      <td>10000</td>\n",
       "      <td>0.000100</td>\n",
       "    </tr>\n",
       "  </tbody>\n",
       "</table><p>"
      ],
      "text/plain": [
       "<IPython.core.display.HTML object>"
      ]
     },
     "metadata": {},
     "output_type": "display_data"
    },
    {
     "name": "stderr",
     "output_type": "stream",
     "text": [
      "Saving model checkpoint to output/checkpoint-10000\n"
     ]
    },
    {
     "name": "stderr",
     "output_type": "stream",
     "text": [
      "Configuration saved in output/checkpoint-10000/config.json\n"
     ]
    },
    {
     "name": "stderr",
     "output_type": "stream",
     "text": [
      "Model weights saved in output/checkpoint-10000/pytorch_model.bin\n"
     ]
    },
    {
     "name": "stderr",
     "output_type": "stream",
     "text": [
      "tokenizer config file saved in output/checkpoint-10000/tokenizer_config.json\n"
     ]
    },
    {
     "name": "stderr",
     "output_type": "stream",
     "text": [
      "Special tokens file saved in output/checkpoint-10000/special_tokens_map.json\n"
     ]
    },
    {
     "name": "stderr",
     "output_type": "stream",
     "text": [
      "\n",
      "\n",
      "Training completed. Do not forget to share your model on huggingface.co/models =)\n",
      "\n",
      "\n"
     ]
    }
   ],
   "source": [
    "train_result = trainer.train()"
   ]
  },
  {
   "cell_type": "code",
   "execution_count": 15,
   "id": "e67196db",
   "metadata": {
    "execution": {
     "iopub.execute_input": "2022-04-15T15:06:42.886439Z",
     "iopub.status.busy": "2022-04-15T15:06:42.886221Z",
     "iopub.status.idle": "2022-04-15T15:06:42.942684Z",
     "shell.execute_reply": "2022-04-15T15:06:42.942076Z"
    },
    "papermill": {
     "duration": 0.337454,
     "end_time": "2022-04-15T15:06:42.944039",
     "exception": false,
     "start_time": "2022-04-15T15:06:42.606585",
     "status": "completed"
    },
    "tags": []
   },
   "outputs": [],
   "source": [
    "import pandas as pd\n",
    "\n",
    "pd.DataFrame(trainer.state.log_history).to_csv(f'logs/cl-distilled_tuning_v1_ms{max_steps}_fp16.csv', index=False)"
   ]
  },
  {
   "cell_type": "markdown",
   "id": "9e9f2eea",
   "metadata": {
    "papermill": {
     "duration": 0.213754,
     "end_time": "2022-04-15T15:06:43.343905",
     "exception": false,
     "start_time": "2022-04-15T15:06:43.130151",
     "status": "completed"
    },
    "tags": []
   },
   "source": [
    "## 4. Evaluate DistilBert CL Model performance"
   ]
  },
  {
   "cell_type": "code",
   "execution_count": 16,
   "id": "8080ee8d",
   "metadata": {
    "execution": {
     "iopub.execute_input": "2022-04-15T15:06:43.829896Z",
     "iopub.status.busy": "2022-04-15T15:06:43.829665Z",
     "iopub.status.idle": "2022-04-15T15:07:00.843952Z",
     "shell.execute_reply": "2022-04-15T15:07:00.843295Z"
    },
    "papermill": {
     "duration": 17.283418,
     "end_time": "2022-04-15T15:07:00.845282",
     "exception": false,
     "start_time": "2022-04-15T15:06:43.561864",
     "status": "completed"
    },
    "tags": []
   },
   "outputs": [
    {
     "name": "stderr",
     "output_type": "stream",
     "text": [
      "/opt/conda/lib/python3.8/site-packages/SentEval-0.1.0-py3.8.egg/senteval/sts.py:42: VisibleDeprecationWarning: Creating an ndarray from ragged nested sequences (which is a list-or-tuple of lists-or-tuples-or ndarrays with different lengths or shapes) is deprecated. If you meant to do this, you must specify 'dtype=object' when creating the ndarray.\n",
      "/opt/conda/lib/python3.8/site-packages/SentEval-0.1.0-py3.8.egg/senteval/sts.py:43: VisibleDeprecationWarning: Creating an ndarray from ragged nested sequences (which is a list-or-tuple of lists-or-tuples-or ndarrays with different lengths or shapes) is deprecated. If you meant to do this, you must specify 'dtype=object' when creating the ndarray.\n"
     ]
    },
    {
     "name": "stdout",
     "output_type": "stream",
     "text": [
      "STS12:  0.6154629439965532\n",
      "STS13:  0.7324339033670121\n",
      "STS14:  0.6743082261231929\n",
      "STS15:  0.76887974711849\n",
      "STSB:  0.7185391049715779\n"
     ]
    },
    {
     "data": {
      "text/plain": [
       "{'STSBenchmark': {'train': {'pearson': (0.7525123683381483, 0.0),\n",
       "   'spearman': SpearmanrResult(correlation=0.7312665847401808, pvalue=0.0),\n",
       "   'nsamples': 5749},\n",
       "  'dev': {'pearson': (0.7651013403960187, 1.1224711661378215e-288),\n",
       "   'spearman': SpearmanrResult(correlation=0.7702440326483259, pvalue=6.207824172920356e-295),\n",
       "   'nsamples': 1500},\n",
       "  'test': {'pearson': (0.7231478660898631, 1.4744014637223305e-223),\n",
       "   'spearman': SpearmanrResult(correlation=0.7185391049715779, pvalue=2.0288338440054193e-219),\n",
       "   'nsamples': 1379},\n",
       "  'all': {'pearson': {'all': 0.7471478640603628,\n",
       "    'mean': 0.7469205249413434,\n",
       "    'wmean': 0.7500077101886837},\n",
       "   'spearman': {'all': 0.7395028969577404,\n",
       "    'mean': 0.7400165741200282,\n",
       "    'wmean': 0.7360087007880848}}},\n",
       " 'STS12': {'MSRpar': {'pearson': (0.5975835443270798, 8.541048046710875e-74),\n",
       "   'spearman': SpearmanrResult(correlation=0.608725172189206, pvalue=3.103797036407329e-77),\n",
       "   'nsamples': 750},\n",
       "  'MSRvid': {'pearson': (0.7973437702203489, 3.3353569105545754e-166),\n",
       "   'spearman': SpearmanrResult(correlation=0.7934473403223343, pvalue=1.8452250692545058e-163),\n",
       "   'nsamples': 750},\n",
       "  'SMTeuroparl': {'pearson': (0.5262750364965344, 4.63386661547044e-34),\n",
       "   'spearman': SpearmanrResult(correlation=0.623002473801472, pvalue=1.0642800964014576e-50),\n",
       "   'nsamples': 459},\n",
       "  'surprise.OnWN': {'pearson': (0.7176142568837075, 1.218405984037098e-119),\n",
       "   'spearman': SpearmanrResult(correlation=0.69407522015342, pvalue=7.30338621188003e-109),\n",
       "   'nsamples': 750},\n",
       "  'surprise.SMTnews': {'pearson': (0.5992652703137756, 2.938071369289256e-40),\n",
       "   'spearman': SpearmanrResult(correlation=0.5288962010770352, pvalue=3.8799087129383e-30),\n",
       "   'nsamples': 399},\n",
       "  'all': {'pearson': {'all': 0.6475658055995628,\n",
       "    'mean': 0.6476163756482892,\n",
       "    'wmean': 0.6644379868662993},\n",
       "   'spearman': {'all': 0.6154629439965532,\n",
       "    'mean': 0.6496292815086935,\n",
       "    'wmean': 0.665757245560918}}},\n",
       " 'STS13': {'FNWN': {'pearson': (0.576786615317657, 3.758383767950768e-18),\n",
       "   'spearman': SpearmanrResult(correlation=0.594805212794069, pvalue=1.8059156847121218e-19),\n",
       "   'nsamples': 189},\n",
       "  'headlines': {'pearson': (0.7703649888658105, 2.407100287788255e-148),\n",
       "   'spearman': SpearmanrResult(correlation=0.7675971631434272, pvalue=1.188375197364307e-146),\n",
       "   'nsamples': 750},\n",
       "  'OnWN': {'pearson': (0.7161455788875798, 2.3465095443155036e-89),\n",
       "   'spearman': SpearmanrResult(correlation=0.7212145874094819, pvalue=3.452466505952944e-91),\n",
       "   'nsamples': 561},\n",
       "  'all': {'pearson': {'all': 0.717235251649129,\n",
       "    'mean': 0.687765727690349,\n",
       "    'wmean': 0.7256960544668849},\n",
       "   'spearman': {'all': 0.7324339033670121,\n",
       "    'mean': 0.6945389877823259,\n",
       "    'wmean': 0.7284782940749125}}},\n",
       " 'STS14': {'deft-forum': {'pearson': (0.5347318034696036,\n",
       "    1.208864581670712e-34),\n",
       "   'spearman': SpearmanrResult(correlation=0.5294892452388336, pvalue=6.978121641695687e-34),\n",
       "   'nsamples': 450},\n",
       "  'deft-news': {'pearson': (0.7754114090195319, 1.8892890696841784e-61),\n",
       "   'spearman': SpearmanrResult(correlation=0.7550882427164547, pvalue=1.4072308049514975e-56),\n",
       "   'nsamples': 300},\n",
       "  'headlines': {'pearson': (0.7459532744052085, 3.544523368177353e-134),\n",
       "   'spearman': SpearmanrResult(correlation=0.7138556360670764, pvalue=7.584138409279979e-118),\n",
       "   'nsamples': 750},\n",
       "  'images': {'pearson': (0.7563812298458609, 5.045647968712203e-140),\n",
       "   'spearman': SpearmanrResult(correlation=0.734480678907212, pvalue=4.5677618879557347e-128),\n",
       "   'nsamples': 750},\n",
       "  'OnWN': {'pearson': (0.7850265426624143, 9.922936274614897e-158),\n",
       "   'spearman': SpearmanrResult(correlation=0.8001027614648522, pvalue=3.5019033429042604e-168),\n",
       "   'nsamples': 750},\n",
       "  'tweet-news': {'pearson': (0.7820412238364228, 9.257537980335178e-156),\n",
       "   'spearman': SpearmanrResult(correlation=0.7294236462314576, pvalue=1.7901009726262725e-125),\n",
       "   'nsamples': 750},\n",
       "  'all': {'pearson': {'all': 0.691515849767648,\n",
       "    'mean': 0.729924247206507,\n",
       "    'wmean': 0.7400811832878963},\n",
       "   'spearman': {'all': 0.6743082261231929,\n",
       "    'mean': 0.7104067017709811,\n",
       "    'wmean': 0.719518313380096}}},\n",
       " 'STS15': {'answers-forums': {'pearson': (0.7388908942887517,\n",
       "    6.228059549605338e-66),\n",
       "   'spearman': SpearmanrResult(correlation=0.7347194237893865, pvalue=7.691510047407485e-65),\n",
       "   'nsamples': 375},\n",
       "  'answers-students': {'pearson': (0.7133035951373782, 1.383473430661263e-117),\n",
       "   'spearman': SpearmanrResult(correlation=0.7138754757664127, pvalue=7.421853009473114e-118),\n",
       "   'nsamples': 750},\n",
       "  'belief': {'pearson': (0.7819672361996822, 1.4092181960522324e-78),\n",
       "   'spearman': SpearmanrResult(correlation=0.7787808059775168, pvalue=1.5167654822669854e-77),\n",
       "   'nsamples': 375},\n",
       "  'headlines': {'pearson': (0.7875817204469188, 1.9293407201225239e-159),\n",
       "   'spearman': SpearmanrResult(correlation=0.7877735474742957, pvalue=1.4321401534736724e-159),\n",
       "   'nsamples': 750},\n",
       "  'images': {'pearson': (0.8365464011760995, 1.2256228240184288e-197),\n",
       "   'spearman': SpearmanrResult(correlation=0.8394462188305002, pvalue=2.726863958798406e-200),\n",
       "   'nsamples': 750},\n",
       "  'all': {'pearson': {'all': 0.7637720102781638,\n",
       "    'mean': 0.7716579694497661,\n",
       "    'wmean': 0.7744651955011533},\n",
       "   'spearman': {'all': 0.76887974711849,\n",
       "    'mean': 0.7709190943676223,\n",
       "    'wmean': 0.774461339238665}}}}"
      ]
     },
     "execution_count": 16,
     "metadata": {},
     "output_type": "execute_result"
    }
   ],
   "source": [
    "model.eval()\n",
    "\n",
    "results = evaluate_model()\n",
    "results"
   ]
  }
 ],
 "metadata": {
  "celltoolbar": "Tags",
  "kernelspec": {
   "display_name": "Python 3 (ipykernel)",
   "language": "python",
   "name": "python3"
  },
  "language_info": {
   "codemirror_mode": {
    "name": "ipython",
    "version": 3
   },
   "file_extension": ".py",
   "mimetype": "text/x-python",
   "name": "python",
   "nbconvert_exporter": "python",
   "pygments_lexer": "ipython3",
   "version": "3.8.12"
  },
  "papermill": {
   "default_parameters": {},
   "duration": 2999.01936,
   "end_time": "2022-04-15T15:07:01.823367",
   "environment_variables": {},
   "exception": null,
   "input_path": "notebooks/training/cl-distilbert_tuning_v1.ipynb",
   "output_path": "notebooks/training/cl-distilbert_tuning_v1_ms10000.ipynb",
   "parameters": {
    "max_steps": 10000
   },
   "start_time": "2022-04-15T14:17:02.804007",
   "version": "2.3.4"
  },
  "toc": {
   "base_numbering": 1,
   "nav_menu": {},
   "number_sections": false,
   "sideBar": true,
   "skip_h1_title": false,
   "title_cell": "Table of Contents",
   "title_sidebar": "Contents",
   "toc_cell": false,
   "toc_position": {},
   "toc_section_display": true,
   "toc_window_display": false
  },
  "widgets": {
   "application/vnd.jupyter.widget-state+json": {
    "state": {
     "0c46c5ab33844d00ba4f2888ef1f2378": {
      "model_module": "@jupyter-widgets/base",
      "model_module_version": "1.2.0",
      "model_name": "LayoutModel",
      "state": {
       "_model_module": "@jupyter-widgets/base",
       "_model_module_version": "1.2.0",
       "_model_name": "LayoutModel",
       "_view_count": null,
       "_view_module": "@jupyter-widgets/base",
       "_view_module_version": "1.2.0",
       "_view_name": "LayoutView",
       "align_content": null,
       "align_items": null,
       "align_self": null,
       "border": null,
       "bottom": null,
       "display": null,
       "flex": null,
       "flex_flow": null,
       "grid_area": null,
       "grid_auto_columns": null,
       "grid_auto_flow": null,
       "grid_auto_rows": null,
       "grid_column": null,
       "grid_gap": null,
       "grid_row": null,
       "grid_template_areas": null,
       "grid_template_columns": null,
       "grid_template_rows": null,
       "height": null,
       "justify_content": null,
       "justify_items": null,
       "left": null,
       "margin": null,
       "max_height": null,
       "max_width": null,
       "min_height": null,
       "min_width": null,
       "object_fit": null,
       "object_position": null,
       "order": null,
       "overflow": null,
       "overflow_x": null,
       "overflow_y": null,
       "padding": null,
       "right": null,
       "top": null,
       "visibility": null,
       "width": null
      }
     },
     "166db5487a774b09a96ea21378b0cf54": {
      "model_module": "@jupyter-widgets/controls",
      "model_module_version": "1.5.0",
      "model_name": "HBoxModel",
      "state": {
       "_dom_classes": [],
       "_model_module": "@jupyter-widgets/controls",
       "_model_module_version": "1.5.0",
       "_model_name": "HBoxModel",
       "_view_count": null,
       "_view_module": "@jupyter-widgets/controls",
       "_view_module_version": "1.5.0",
       "_view_name": "HBoxView",
       "box_style": "",
       "children": [
        "IPY_MODEL_20ca92fa8aa7436e9d3ed1cc86e71a6f",
        "IPY_MODEL_3a4a1b417b4e47c2b3c2b73b87bd1030",
        "IPY_MODEL_de8ebcd940aa4450ad7981612e4fb0ee"
       ],
       "layout": "IPY_MODEL_3f0b8a9f6d0342e9b586b163a34a73bf"
      }
     },
     "18f164a2ac364e28be7b17fbe1ed015d": {
      "model_module": "@jupyter-widgets/base",
      "model_module_version": "1.2.0",
      "model_name": "LayoutModel",
      "state": {
       "_model_module": "@jupyter-widgets/base",
       "_model_module_version": "1.2.0",
       "_model_name": "LayoutModel",
       "_view_count": null,
       "_view_module": "@jupyter-widgets/base",
       "_view_module_version": "1.2.0",
       "_view_name": "LayoutView",
       "align_content": null,
       "align_items": null,
       "align_self": null,
       "border": null,
       "bottom": null,
       "display": null,
       "flex": null,
       "flex_flow": null,
       "grid_area": null,
       "grid_auto_columns": null,
       "grid_auto_flow": null,
       "grid_auto_rows": null,
       "grid_column": null,
       "grid_gap": null,
       "grid_row": null,
       "grid_template_areas": null,
       "grid_template_columns": null,
       "grid_template_rows": null,
       "height": null,
       "justify_content": null,
       "justify_items": null,
       "left": null,
       "margin": null,
       "max_height": null,
       "max_width": null,
       "min_height": null,
       "min_width": null,
       "object_fit": null,
       "object_position": null,
       "order": null,
       "overflow": null,
       "overflow_x": null,
       "overflow_y": null,
       "padding": null,
       "right": null,
       "top": null,
       "visibility": null,
       "width": null
      }
     },
     "20ca92fa8aa7436e9d3ed1cc86e71a6f": {
      "model_module": "@jupyter-widgets/controls",
      "model_module_version": "1.5.0",
      "model_name": "HTMLModel",
      "state": {
       "_dom_classes": [],
       "_model_module": "@jupyter-widgets/controls",
       "_model_module_version": "1.5.0",
       "_model_name": "HTMLModel",
       "_view_count": null,
       "_view_module": "@jupyter-widgets/controls",
       "_view_module_version": "1.5.0",
       "_view_name": "HTMLView",
       "description": "",
       "description_tooltip": null,
       "layout": "IPY_MODEL_7ab1459e6a914648a1d5fcd29be876d9",
       "placeholder": "​",
       "style": "IPY_MODEL_49805fe0b1d04c74b5a542e4b944986c",
       "value": "100%"
      }
     },
     "3a4a1b417b4e47c2b3c2b73b87bd1030": {
      "model_module": "@jupyter-widgets/controls",
      "model_module_version": "1.5.0",
      "model_name": "FloatProgressModel",
      "state": {
       "_dom_classes": [],
       "_model_module": "@jupyter-widgets/controls",
       "_model_module_version": "1.5.0",
       "_model_name": "FloatProgressModel",
       "_view_count": null,
       "_view_module": "@jupyter-widgets/controls",
       "_view_module_version": "1.5.0",
       "_view_name": "ProgressView",
       "bar_style": "success",
       "description": "",
       "description_tooltip": null,
       "layout": "IPY_MODEL_0c46c5ab33844d00ba4f2888ef1f2378",
       "max": 1,
       "min": 0,
       "orientation": "horizontal",
       "style": "IPY_MODEL_4c75cbab522345908d59deac923a1694",
       "value": 1
      }
     },
     "3f0b8a9f6d0342e9b586b163a34a73bf": {
      "model_module": "@jupyter-widgets/base",
      "model_module_version": "1.2.0",
      "model_name": "LayoutModel",
      "state": {
       "_model_module": "@jupyter-widgets/base",
       "_model_module_version": "1.2.0",
       "_model_name": "LayoutModel",
       "_view_count": null,
       "_view_module": "@jupyter-widgets/base",
       "_view_module_version": "1.2.0",
       "_view_name": "LayoutView",
       "align_content": null,
       "align_items": null,
       "align_self": null,
       "border": null,
       "bottom": null,
       "display": null,
       "flex": null,
       "flex_flow": null,
       "grid_area": null,
       "grid_auto_columns": null,
       "grid_auto_flow": null,
       "grid_auto_rows": null,
       "grid_column": null,
       "grid_gap": null,
       "grid_row": null,
       "grid_template_areas": null,
       "grid_template_columns": null,
       "grid_template_rows": null,
       "height": null,
       "justify_content": null,
       "justify_items": null,
       "left": null,
       "margin": null,
       "max_height": null,
       "max_width": null,
       "min_height": null,
       "min_width": null,
       "object_fit": null,
       "object_position": null,
       "order": null,
       "overflow": null,
       "overflow_x": null,
       "overflow_y": null,
       "padding": null,
       "right": null,
       "top": null,
       "visibility": null,
       "width": null
      }
     },
     "49805fe0b1d04c74b5a542e4b944986c": {
      "model_module": "@jupyter-widgets/controls",
      "model_module_version": "1.5.0",
      "model_name": "DescriptionStyleModel",
      "state": {
       "_model_module": "@jupyter-widgets/controls",
       "_model_module_version": "1.5.0",
       "_model_name": "DescriptionStyleModel",
       "_view_count": null,
       "_view_module": "@jupyter-widgets/base",
       "_view_module_version": "1.2.0",
       "_view_name": "StyleView",
       "description_width": ""
      }
     },
     "4c75cbab522345908d59deac923a1694": {
      "model_module": "@jupyter-widgets/controls",
      "model_module_version": "1.5.0",
      "model_name": "ProgressStyleModel",
      "state": {
       "_model_module": "@jupyter-widgets/controls",
       "_model_module_version": "1.5.0",
       "_model_name": "ProgressStyleModel",
       "_view_count": null,
       "_view_module": "@jupyter-widgets/base",
       "_view_module_version": "1.2.0",
       "_view_name": "StyleView",
       "bar_color": null,
       "description_width": ""
      }
     },
     "7ab1459e6a914648a1d5fcd29be876d9": {
      "model_module": "@jupyter-widgets/base",
      "model_module_version": "1.2.0",
      "model_name": "LayoutModel",
      "state": {
       "_model_module": "@jupyter-widgets/base",
       "_model_module_version": "1.2.0",
       "_model_name": "LayoutModel",
       "_view_count": null,
       "_view_module": "@jupyter-widgets/base",
       "_view_module_version": "1.2.0",
       "_view_name": "LayoutView",
       "align_content": null,
       "align_items": null,
       "align_self": null,
       "border": null,
       "bottom": null,
       "display": null,
       "flex": null,
       "flex_flow": null,
       "grid_area": null,
       "grid_auto_columns": null,
       "grid_auto_flow": null,
       "grid_auto_rows": null,
       "grid_column": null,
       "grid_gap": null,
       "grid_row": null,
       "grid_template_areas": null,
       "grid_template_columns": null,
       "grid_template_rows": null,
       "height": null,
       "justify_content": null,
       "justify_items": null,
       "left": null,
       "margin": null,
       "max_height": null,
       "max_width": null,
       "min_height": null,
       "min_width": null,
       "object_fit": null,
       "object_position": null,
       "order": null,
       "overflow": null,
       "overflow_x": null,
       "overflow_y": null,
       "padding": null,
       "right": null,
       "top": null,
       "visibility": null,
       "width": null
      }
     },
     "c3718abdc59d4299af6d5f786ffcab98": {
      "model_module": "@jupyter-widgets/controls",
      "model_module_version": "1.5.0",
      "model_name": "DescriptionStyleModel",
      "state": {
       "_model_module": "@jupyter-widgets/controls",
       "_model_module_version": "1.5.0",
       "_model_name": "DescriptionStyleModel",
       "_view_count": null,
       "_view_module": "@jupyter-widgets/base",
       "_view_module_version": "1.2.0",
       "_view_name": "StyleView",
       "description_width": ""
      }
     },
     "de8ebcd940aa4450ad7981612e4fb0ee": {
      "model_module": "@jupyter-widgets/controls",
      "model_module_version": "1.5.0",
      "model_name": "HTMLModel",
      "state": {
       "_dom_classes": [],
       "_model_module": "@jupyter-widgets/controls",
       "_model_module_version": "1.5.0",
       "_model_name": "HTMLModel",
       "_view_count": null,
       "_view_module": "@jupyter-widgets/controls",
       "_view_module_version": "1.5.0",
       "_view_name": "HTMLView",
       "description": "",
       "description_tooltip": null,
       "layout": "IPY_MODEL_18f164a2ac364e28be7b17fbe1ed015d",
       "placeholder": "​",
       "style": "IPY_MODEL_c3718abdc59d4299af6d5f786ffcab98",
       "value": " 1/1 [00:00&lt;00:00, 50.15it/s]"
      }
     }
    },
    "version_major": 2,
    "version_minor": 0
   }
  }
 },
 "nbformat": 4,
 "nbformat_minor": 5
}
