{
 "cells": [
  {
   "cell_type": "markdown",
   "id": "b6998736",
   "metadata": {
    "papermill": {
     "duration": 0.014504,
     "end_time": "2022-04-09T06:27:53.533748",
     "exception": false,
     "start_time": "2022-04-09T06:27:53.519244",
     "status": "completed"
    },
    "tags": []
   },
   "source": [
    "# Contrastive Learning From Scratch - DistilBERT\n",
    "\n",
    "An attempt to build contrastive learning model from scratch. Parts include:\n",
    "\n",
    "- Loading and preparing Wiki-1M data for model input\n",
    "- Contrastive learning model\n",
    "  - Forward passing using pre-trained model\n",
    "  - Constrastive layer\n",
    "  - Calculate loss\n",
    "- Training procedure\n",
    "  - Default trainer optimizer\n",
    "  - Default trainer hyper-parameters"
   ]
  },
  {
   "cell_type": "code",
   "execution_count": 1,
   "id": "fff4a5fd",
   "metadata": {
    "execution": {
     "iopub.execute_input": "2022-04-09T06:27:53.563534Z",
     "iopub.status.busy": "2022-04-09T06:27:53.563266Z",
     "iopub.status.idle": "2022-04-09T06:27:53.584130Z",
     "shell.execute_reply": "2022-04-09T06:27:53.583427Z"
    },
    "papermill": {
     "duration": 0.036895,
     "end_time": "2022-04-09T06:27:53.585463",
     "exception": false,
     "start_time": "2022-04-09T06:27:53.548568",
     "status": "completed"
    },
    "tags": []
   },
   "outputs": [
    {
     "name": "stdout",
     "output_type": "stream",
     "text": [
      "/notebooks/contrastive-learning-in-distilled-models\n"
     ]
    }
   ],
   "source": [
    "import os\n",
    "\n",
    "# Set Project home\n",
    "PROJECT_HOME = os.path.join('/',\n",
    "                            'notebooks',\n",
    "                            'contrastive-learning-in-distilled-models')\n",
    "%cd {PROJECT_HOME}\n",
    "\n",
    "# Load project code\n",
    "%reload_ext autoreload\n",
    "%autoreload 2\n",
    "\n",
    "import sys\n",
    "sys.path.insert(0, f'{PROJECT_HOME}/src')\n",
    "\n",
    "import distilface"
   ]
  },
  {
   "cell_type": "code",
   "execution_count": 2,
   "id": "28529056",
   "metadata": {
    "execution": {
     "iopub.execute_input": "2022-04-09T06:27:53.615908Z",
     "iopub.status.busy": "2022-04-09T06:27:53.615729Z",
     "iopub.status.idle": "2022-04-09T06:27:53.625989Z",
     "shell.execute_reply": "2022-04-09T06:27:53.625184Z"
    },
    "papermill": {
     "duration": 0.028345,
     "end_time": "2022-04-09T06:27:53.627263",
     "exception": false,
     "start_time": "2022-04-09T06:27:53.598918",
     "status": "completed"
    },
    "tags": [
     "parameters"
    ]
   },
   "outputs": [],
   "source": [
    "# Hyperparameters\n",
    "\n",
    "pooling_method = 'avg_first_last'\n",
    "batch_size = 64\n",
    "epochs = 2\n",
    "max_steps = 30_000\n",
    "temperature = 0.05\n",
    "learning_rate = 5e-5\n",
    "max_len = 32\n",
    "fp16 = True"
   ]
  },
  {
   "cell_type": "code",
   "execution_count": 3,
   "id": "d6332d31",
   "metadata": {
    "execution": {
     "iopub.execute_input": "2022-04-09T06:27:53.656982Z",
     "iopub.status.busy": "2022-04-09T06:27:53.656229Z",
     "iopub.status.idle": "2022-04-09T06:27:53.666009Z",
     "shell.execute_reply": "2022-04-09T06:27:53.665252Z"
    },
    "papermill": {
     "duration": 0.026646,
     "end_time": "2022-04-09T06:27:53.667291",
     "exception": false,
     "start_time": "2022-04-09T06:27:53.640645",
     "status": "completed"
    },
    "tags": [
     "injected-parameters"
    ]
   },
   "outputs": [],
   "source": [
    "# Parameters\n",
    "pooling_method = \"max_last4\"\n"
   ]
  },
  {
   "cell_type": "markdown",
   "id": "6a0fd8c1",
   "metadata": {
    "papermill": {
     "duration": 0.018163,
     "end_time": "2022-04-09T06:27:53.704561",
     "exception": false,
     "start_time": "2022-04-09T06:27:53.686398",
     "status": "completed"
    },
    "tags": []
   },
   "source": [
    "## 1. Loading and Preparing Wiki-1M data\n",
    "\n",
    "Use huggingface `datasets` library to load local file data."
   ]
  },
  {
   "cell_type": "code",
   "execution_count": 4,
   "id": "31b5b56d",
   "metadata": {
    "execution": {
     "iopub.execute_input": "2022-04-09T06:27:53.738245Z",
     "iopub.status.busy": "2022-04-09T06:27:53.738017Z",
     "iopub.status.idle": "2022-04-09T06:27:55.047055Z",
     "shell.execute_reply": "2022-04-09T06:27:55.046157Z"
    },
    "papermill": {
     "duration": 1.325998,
     "end_time": "2022-04-09T06:27:55.048399",
     "exception": false,
     "start_time": "2022-04-09T06:27:53.722401",
     "status": "completed"
    },
    "tags": []
   },
   "outputs": [
    {
     "name": "stderr",
     "output_type": "stream",
     "text": [
      "Using custom data configuration default-235a9b97f9ebd10e\n"
     ]
    },
    {
     "name": "stderr",
     "output_type": "stream",
     "text": [
      "Reusing dataset text (./data/text/default-235a9b97f9ebd10e/0.0.0/4b86d314f7236db91f0a0f5cda32d4375445e64c5eda2692655dd99c2dac68e8)\n"
     ]
    },
    {
     "data": {
      "application/vnd.jupyter.widget-view+json": {
       "model_id": "1833769b565e47ab91a320789de4c3c9",
       "version_major": 2,
       "version_minor": 0
      },
      "text/plain": [
       "  0%|          | 0/1 [00:00<?, ?it/s]"
      ]
     },
     "metadata": {},
     "output_type": "display_data"
    }
   ],
   "source": [
    "import numpy as np\n",
    "\n",
    "from datasets import load_dataset\n",
    "\n",
    "data_files = {'train': 'data/training/wiki1m_for_simcse.txt'}\n",
    "# data_files = {'train': 'data/training/wiki5k.txt'}\n",
    "datasets = load_dataset('text', data_files=data_files, cache_dir='./data/')"
   ]
  },
  {
   "cell_type": "code",
   "execution_count": 5,
   "id": "6247e919",
   "metadata": {
    "execution": {
     "iopub.execute_input": "2022-04-09T06:27:55.091482Z",
     "iopub.status.busy": "2022-04-09T06:27:55.091301Z",
     "iopub.status.idle": "2022-04-09T06:27:55.110913Z",
     "shell.execute_reply": "2022-04-09T06:27:55.110150Z"
    },
    "papermill": {
     "duration": 0.036744,
     "end_time": "2022-04-09T06:27:55.112243",
     "exception": false,
     "start_time": "2022-04-09T06:27:55.075499",
     "status": "completed"
    },
    "tags": []
   },
   "outputs": [],
   "source": [
    "# Unsupervised / Self-supervised dataset\n",
    "\n",
    "column_names = datasets[\"train\"].column_names\n",
    "sent0_cname = column_names[0]\n",
    "sent1_cname = column_names[0]"
   ]
  },
  {
   "cell_type": "code",
   "execution_count": 6,
   "id": "859d3245",
   "metadata": {
    "execution": {
     "iopub.execute_input": "2022-04-09T06:27:55.143665Z",
     "iopub.status.busy": "2022-04-09T06:27:55.143498Z",
     "iopub.status.idle": "2022-04-09T06:27:55.857551Z",
     "shell.execute_reply": "2022-04-09T06:27:55.856498Z"
    },
    "papermill": {
     "duration": 0.731352,
     "end_time": "2022-04-09T06:27:55.859341",
     "exception": false,
     "start_time": "2022-04-09T06:27:55.127989",
     "status": "completed"
    },
    "tags": []
   },
   "outputs": [],
   "source": [
    "from transformers import AutoTokenizer\n",
    "\n",
    "tokenizer = AutoTokenizer.from_pretrained('distilbert-base-uncased')"
   ]
  },
  {
   "cell_type": "code",
   "execution_count": 7,
   "id": "b4adc559",
   "metadata": {
    "execution": {
     "iopub.execute_input": "2022-04-09T06:27:55.892376Z",
     "iopub.status.busy": "2022-04-09T06:27:55.891548Z",
     "iopub.status.idle": "2022-04-09T06:27:55.915379Z",
     "shell.execute_reply": "2022-04-09T06:27:55.914601Z"
    },
    "papermill": {
     "duration": 0.041549,
     "end_time": "2022-04-09T06:27:55.916837",
     "exception": false,
     "start_time": "2022-04-09T06:27:55.875288",
     "status": "completed"
    },
    "tags": []
   },
   "outputs": [],
   "source": [
    "def prepare_features(examples):\n",
    "    total = len(examples[sent0_cname])\n",
    "\n",
    "    # Avoid \"None\" fields \n",
    "    for idx in range(total):\n",
    "        if examples[sent0_cname][idx] is None:\n",
    "            examples[sent0_cname][idx] = \" \"\n",
    "        if examples[sent1_cname][idx] is None:\n",
    "            examples[sent1_cname][idx] = \" \"\n",
    "\n",
    "    sentences = examples[sent0_cname] + examples[sent1_cname]\n",
    "\n",
    "    sent_features = tokenizer(\n",
    "        sentences,\n",
    "        max_length=max_len,\n",
    "        truncation=True,\n",
    "        padding=True,\n",
    "    )\n",
    "\n",
    "    features = {}\n",
    "    for key in sent_features:\n",
    "        features[key] = [[sent_features[key][i], sent_features[key][i+total]] for i in range(total)]\n",
    "\n",
    "    return features"
   ]
  },
  {
   "cell_type": "code",
   "execution_count": 8,
   "id": "d2248c3f",
   "metadata": {
    "execution": {
     "iopub.execute_input": "2022-04-09T06:27:55.949335Z",
     "iopub.status.busy": "2022-04-09T06:27:55.947318Z",
     "iopub.status.idle": "2022-04-09T06:27:55.997049Z",
     "shell.execute_reply": "2022-04-09T06:27:55.996321Z"
    },
    "papermill": {
     "duration": 0.067313,
     "end_time": "2022-04-09T06:27:55.998941",
     "exception": false,
     "start_time": "2022-04-09T06:27:55.931628",
     "status": "completed"
    },
    "tags": []
   },
   "outputs": [
    {
     "name": "stderr",
     "output_type": "stream",
     "text": [
      "Loading cached processed dataset at ./data/text/default-235a9b97f9ebd10e/0.0.0/4b86d314f7236db91f0a0f5cda32d4375445e64c5eda2692655dd99c2dac68e8/cache-305eab4ce3c7d88c.arrow\n"
     ]
    }
   ],
   "source": [
    "train_dataset = datasets[\"train\"].map(prepare_features,\n",
    "                                      batched=True,\n",
    "                                    #   num_proc=24,\n",
    "                                      remove_columns=column_names)"
   ]
  },
  {
   "cell_type": "code",
   "execution_count": 9,
   "id": "90a6e2f8",
   "metadata": {
    "execution": {
     "iopub.execute_input": "2022-04-09T06:27:56.032659Z",
     "iopub.status.busy": "2022-04-09T06:27:56.032441Z",
     "iopub.status.idle": "2022-04-09T06:27:56.059139Z",
     "shell.execute_reply": "2022-04-09T06:27:56.058424Z"
    },
    "papermill": {
     "duration": 0.044219,
     "end_time": "2022-04-09T06:27:56.060380",
     "exception": false,
     "start_time": "2022-04-09T06:27:56.016161",
     "status": "completed"
    },
    "tags": []
   },
   "outputs": [
    {
     "data": {
      "text/plain": [
       "1000000"
      ]
     },
     "execution_count": 9,
     "metadata": {},
     "output_type": "execute_result"
    }
   ],
   "source": [
    "train_dataset.num_rows"
   ]
  },
  {
   "cell_type": "markdown",
   "id": "605394e5",
   "metadata": {
    "papermill": {
     "duration": 0.017198,
     "end_time": "2022-04-09T06:27:56.092988",
     "exception": false,
     "start_time": "2022-04-09T06:27:56.075790",
     "status": "completed"
    },
    "tags": []
   },
   "source": [
    "## 2. Contrastive Learning Model"
   ]
  },
  {
   "cell_type": "code",
   "execution_count": 10,
   "id": "1b5137bc",
   "metadata": {
    "execution": {
     "iopub.execute_input": "2022-04-09T06:27:56.128256Z",
     "iopub.status.busy": "2022-04-09T06:27:56.128058Z",
     "iopub.status.idle": "2022-04-09T06:28:00.000566Z",
     "shell.execute_reply": "2022-04-09T06:27:59.999736Z"
    },
    "papermill": {
     "duration": 3.891331,
     "end_time": "2022-04-09T06:28:00.002568",
     "exception": false,
     "start_time": "2022-04-09T06:27:56.111237",
     "status": "completed"
    },
    "tags": []
   },
   "outputs": [
    {
     "name": "stderr",
     "output_type": "stream",
     "text": [
      "Some weights of the model checkpoint at distilbert-base-uncased were not used when initializing DistilBertCLModel: ['vocab_projector.bias', 'vocab_layer_norm.weight', 'vocab_layer_norm.bias', 'vocab_transform.bias', 'vocab_projector.weight', 'vocab_transform.weight']\n",
      "- This IS expected if you are initializing DistilBertCLModel from the checkpoint of a model trained on another task or with another architecture (e.g. initializing a BertForSequenceClassification model from a BertForPreTraining model).\n",
      "- This IS NOT expected if you are initializing DistilBertCLModel from the checkpoint of a model that you expect to be exactly identical (initializing a BertForSequenceClassification model from a BertForSequenceClassification model).\n"
     ]
    }
   ],
   "source": [
    "import torch\n",
    "import torch.nn as nn\n",
    "\n",
    "from transformers import AutoTokenizer, DistilBertModel, DistilBertPreTrainedModel, AutoConfig\n",
    "from transformers.modeling_outputs import SequenceClassifierOutput, BaseModelOutputWithPooling\n",
    "\n",
    "from distilface.modules.pooler import Pooler\n",
    "from distilface.modules.similarity import Similarity\n",
    "\n",
    "\n",
    "class DistilBertCLModel(DistilBertPreTrainedModel):\n",
    "    def __init__(self, config, pooler_type=pooling_method, temp=temperature):\n",
    "        super().__init__(config)\n",
    "\n",
    "        self.config = config\n",
    "        self.pooler_type = pooler_type\n",
    "        self.temp = temperature\n",
    "\n",
    "        self.distilbert = DistilBertModel(config)\n",
    "        self.pooler = Pooler(pooler_type)\n",
    "        self.sim = Similarity(temp=temp)\n",
    "\n",
    "        self.init_weights()\n",
    "\n",
    "    def forward(self, input_ids=None, attention_mask=None):\n",
    "        if self.training:\n",
    "            return self.cl_forward(self.distilbert, input_ids, attention_mask)\n",
    "        else:\n",
    "            return self.sent_emb(self.distilbert, input_ids, attention_mask)\n",
    "\n",
    "    def cl_forward(self, encoder, input_ids=None, attention_mask=None):\n",
    "        batch_size = input_ids.size(0)\n",
    "        num_sent = input_ids.size(1)  # Number of sentences in one instance: 2 sentences\n",
    "\n",
    "        # Flatten all input tensors\n",
    "        input_ids = input_ids.view((-1, input_ids.size(-1))) # (bs * num_sent, len)\n",
    "        attention_mask = attention_mask.view((-1, attention_mask.size(-1))) # (bs * num_sent len)\n",
    "\n",
    "        # Pre-trained Model Encoder\n",
    "        outputs = encoder(\n",
    "            input_ids,\n",
    "            attention_mask=attention_mask,\n",
    "            output_hidden_states=True,\n",
    "            return_dict=True,\n",
    "        )\n",
    "\n",
    "        # Pooling\n",
    "        pooler_output = self.pooler(attention_mask, outputs)\n",
    "        pooler_output = pooler_output.view((batch_size, num_sent, pooler_output.size(-1)))  # (bs, num_sent, hidden)\n",
    "\n",
    "        # Separate representation\n",
    "        z1, z2 = pooler_output[:, 0], pooler_output[:, 1]\n",
    "\n",
    "        # Cosine similarity\n",
    "        cos_sim = self.sim(z1.unsqueeze(1), z2.unsqueeze(0))\n",
    "\n",
    "        # Calculate contrastive loss\n",
    "        criterion = nn.CrossEntropyLoss()\n",
    "        labels = torch.arange(cos_sim.size(0)).long().to(self.device)\n",
    "        loss = criterion(cos_sim, labels)\n",
    "\n",
    "        return SequenceClassifierOutput(\n",
    "            loss=loss,\n",
    "            logits=cos_sim,\n",
    "            hidden_states=outputs.hidden_states,\n",
    "            attentions=outputs.attentions,\n",
    "        )\n",
    "\n",
    "    def sent_emb(self, encoder, input_ids=None, attention_mask=None):\n",
    "        outputs = encoder(\n",
    "            input_ids,\n",
    "            attention_mask=attention_mask,\n",
    "            output_hidden_states=True,\n",
    "            return_dict=True,\n",
    "        )\n",
    "        pooler_output = self.pooler(attention_mask, outputs)\n",
    "\n",
    "        return BaseModelOutputWithPooling(\n",
    "            pooler_output=pooler_output,\n",
    "            last_hidden_state=outputs.last_hidden_state,\n",
    "            hidden_states=outputs.hidden_states,\n",
    "        )\n",
    "\n",
    "\n",
    "pretrained_model_name = 'distilbert-base-uncased'\n",
    "\n",
    "device = torch.device(\"cuda\" if torch.cuda.is_available() else \"cpu\")\n",
    "config = AutoConfig.from_pretrained(pretrained_model_name)\n",
    "\n",
    "model = DistilBertCLModel.from_pretrained(pretrained_model_name, config=config).to(device)\n",
    "tokenizer = AutoTokenizer.from_pretrained(pretrained_model_name)\n",
    "\n",
    "model.eval();"
   ]
  },
  {
   "cell_type": "markdown",
   "id": "b7616863",
   "metadata": {
    "papermill": {
     "duration": 0.016448,
     "end_time": "2022-04-09T06:28:00.037458",
     "exception": false,
     "start_time": "2022-04-09T06:28:00.021010",
     "status": "completed"
    },
    "tags": []
   },
   "source": [
    "### 2.1 Initial DistilBERT embeddings performance"
   ]
  },
  {
   "cell_type": "code",
   "execution_count": 11,
   "id": "b2ab269f",
   "metadata": {
    "execution": {
     "iopub.execute_input": "2022-04-09T06:28:00.085216Z",
     "iopub.status.busy": "2022-04-09T06:28:00.085003Z",
     "iopub.status.idle": "2022-04-09T06:28:00.474764Z",
     "shell.execute_reply": "2022-04-09T06:28:00.473990Z"
    },
    "papermill": {
     "duration": 0.417373,
     "end_time": "2022-04-09T06:28:00.476774",
     "exception": false,
     "start_time": "2022-04-09T06:28:00.059401",
     "status": "completed"
    },
    "tags": []
   },
   "outputs": [],
   "source": [
    "import senteval\n",
    "\n",
    "\n",
    "def prepare(params, samples):\n",
    "    return\n",
    "\n",
    "def batcher(params, batch):\n",
    "    sentences = [\" \".join(s) for s in batch]\n",
    "    batch = tokenizer.batch_encode_plus(\n",
    "        sentences,\n",
    "        return_tensors=\"pt\",\n",
    "        padding=True,\n",
    "    )\n",
    "\n",
    "    for k in batch:\n",
    "        batch[k] = batch[k].to(device)\n",
    "\n",
    "    with torch.no_grad():\n",
    "        outputs = model(**batch)\n",
    "\n",
    "    pooled_result = outputs.pooler_output.cpu()\n",
    "\n",
    "    return pooled_result\n",
    "\n",
    "\n",
    "def evaluate_model():\n",
    "    PATH_TO_DATA = \"./data\"\n",
    "\n",
    "    params = {\"task_path\": PATH_TO_DATA, \"usepytorch\": True, \"kfold\": 10}\n",
    "    tasks = [\"STSBenchmark\", 'STS12', 'STS13', 'STS14', 'STS15']\n",
    "\n",
    "    se = senteval.engine.SE(params, batcher, prepare)\n",
    "    results = se.eval(tasks)\n",
    "\n",
    "    print('STS12: ', results[\"STS12\"][\"all\"][\"spearman\"][\"all\"])\n",
    "    print('STS13: ', results[\"STS13\"][\"all\"][\"spearman\"][\"all\"])\n",
    "    print('STS14: ', results[\"STS14\"][\"all\"][\"spearman\"][\"all\"])\n",
    "    print('STS15: ', results[\"STS15\"][\"all\"][\"spearman\"][\"all\"])\n",
    "    print('STSB: ', results[\"STSBenchmark\"][\"test\"][\"spearman\"][0])\n",
    "\n",
    "    return results"
   ]
  },
  {
   "cell_type": "code",
   "execution_count": 12,
   "id": "c9c3a59d",
   "metadata": {
    "execution": {
     "iopub.execute_input": "2022-04-09T06:28:00.516286Z",
     "iopub.status.busy": "2022-04-09T06:28:00.516083Z",
     "iopub.status.idle": "2022-04-09T06:28:18.218961Z",
     "shell.execute_reply": "2022-04-09T06:28:18.218198Z"
    },
    "papermill": {
     "duration": 17.721983,
     "end_time": "2022-04-09T06:28:18.220332",
     "exception": false,
     "start_time": "2022-04-09T06:28:00.498349",
     "status": "completed"
    },
    "tags": []
   },
   "outputs": [
    {
     "name": "stderr",
     "output_type": "stream",
     "text": [
      "/opt/conda/lib/python3.8/site-packages/SentEval-0.1.0-py3.8.egg/senteval/sts.py:42: VisibleDeprecationWarning: Creating an ndarray from ragged nested sequences (which is a list-or-tuple of lists-or-tuples-or ndarrays with different lengths or shapes) is deprecated. If you meant to do this, you must specify 'dtype=object' when creating the ndarray.\n",
      "/opt/conda/lib/python3.8/site-packages/SentEval-0.1.0-py3.8.egg/senteval/sts.py:43: VisibleDeprecationWarning: Creating an ndarray from ragged nested sequences (which is a list-or-tuple of lists-or-tuples-or ndarrays with different lengths or shapes) is deprecated. If you meant to do this, you must specify 'dtype=object' when creating the ndarray.\n"
     ]
    },
    {
     "name": "stdout",
     "output_type": "stream",
     "text": [
      "STS12:  0.44131212469600406\n",
      "STS13:  0.6236773059462958\n",
      "STS14:  0.5405468180860766\n",
      "STS15:  0.6774463962437267\n",
      "STSB:  0.5782896357264413\n"
     ]
    },
    {
     "data": {
      "text/plain": [
       "{'STSBenchmark': {'train': {'pearson': (0.6143915587670269, 0.0),\n",
       "   'spearman': SpearmanrResult(correlation=0.5855476469211206, pvalue=0.0),\n",
       "   'nsamples': 5749},\n",
       "  'dev': {'pearson': (0.6741173438562604, 2.418463193130076e-199),\n",
       "   'spearman': SpearmanrResult(correlation=0.6832395658169664, pvalue=8.12787819559943e-207),\n",
       "   'nsamples': 1500},\n",
       "  'test': {'pearson': (0.5795450406216642, 1.5446852195033235e-124),\n",
       "   'spearman': SpearmanrResult(correlation=0.5782896357264413, pvalue=6.974266336349098e-124),\n",
       "   'nsamples': 1379},\n",
       "  'all': {'pearson': {'all': 0.6224495726886909,\n",
       "    'mean': 0.6226846477483172,\n",
       "    'wmean': 0.6192055746584728},\n",
       "   'spearman': {'all': 0.6080645445544213,\n",
       "    'mean': 0.6156922828215095,\n",
       "    'wmean': 0.6013716015926907}}},\n",
       " 'STS12': {'MSRpar': {'pearson': (0.37381951912200023, 2.754301218325328e-26),\n",
       "   'spearman': SpearmanrResult(correlation=0.4172651632496525, pvalue=5.8964458587731844e-33),\n",
       "   'nsamples': 750},\n",
       "  'MSRvid': {'pearson': (0.5563604563167905, 3.603539885279724e-62),\n",
       "   'spearman': SpearmanrResult(correlation=0.5699082625424636, pvalue=8.254174692034408e-66),\n",
       "   'nsamples': 750},\n",
       "  'SMTeuroparl': {'pearson': (0.4920884551398783, 2.298397757486159e-29),\n",
       "   'spearman': SpearmanrResult(correlation=0.5894368022897026, pvalue=2.7603721177842065e-44),\n",
       "   'nsamples': 459},\n",
       "  'surprise.OnWN': {'pearson': (0.6625667600828573, 5.708458462326692e-96),\n",
       "   'spearman': SpearmanrResult(correlation=0.6654677502509343, pvalue=4.3186638241642814e-97),\n",
       "   'nsamples': 750},\n",
       "  'surprise.SMTnews': {'pearson': (0.6707718985188426, 1.7642763196373796e-53),\n",
       "   'spearman': SpearmanrResult(correlation=0.5385858113411169, pvalue=2.158274191883901e-31),\n",
       "   'nsamples': 399},\n",
       "  'all': {'pearson': {'all': 0.43539298976005414,\n",
       "    'mean': 0.5511214178360738,\n",
       "    'wmean': 0.5431359845751152},\n",
       "   'spearman': {'all': 0.44131212469600406,\n",
       "    'mean': 0.556132757934774,\n",
       "    'wmean': 0.5549961753566175}}},\n",
       " 'STS13': {'FNWN': {'pearson': (0.4191636371868058, 1.9361263404812163e-09),\n",
       "   'spearman': SpearmanrResult(correlation=0.4546690344549402, pvalue=4.960282878188048e-11),\n",
       "   'nsamples': 189},\n",
       "  'headlines': {'pearson': (0.6801310782477856, 5.881261248083652e-103),\n",
       "   'spearman': SpearmanrResult(correlation=0.6640447020004092, pvalue=1.5378018838319097e-96),\n",
       "   'nsamples': 750},\n",
       "  'OnWN': {'pearson': (0.5334152198642943, 1.4356498711003647e-42),\n",
       "   'spearman': SpearmanrResult(correlation=0.561392251292434, pvalue=6.668721635883528e-48),\n",
       "   'nsamples': 561},\n",
       "  'all': {'pearson': {'all': 0.6057793574225023,\n",
       "    'mean': 0.5442366450996287,\n",
       "    'wmean': 0.5923774496386766},\n",
       "   'spearman': {'all': 0.6236773059462958,\n",
       "    'mean': 0.5600353292492611,\n",
       "    'wmean': 0.5992713513248974}}},\n",
       " 'STS14': {'deft-forum': {'pearson': (0.36558595408269917,\n",
       "    1.122000931403937e-15),\n",
       "   'spearman': SpearmanrResult(correlation=0.378490984821114, pvalue=8.935441738430022e-17),\n",
       "   'nsamples': 450},\n",
       "  'deft-news': {'pearson': (0.7581520041450692, 2.7853828232864447e-57),\n",
       "   'spearman': SpearmanrResult(correlation=0.7279189794618939, pvalue=9.164972924987049e-51),\n",
       "   'nsamples': 300},\n",
       "  'headlines': {'pearson': (0.6441611477031648, 3.8636164709635086e-89),\n",
       "   'spearman': SpearmanrResult(correlation=0.5960013427262951, pvalue=2.564951464068226e-73),\n",
       "   'nsamples': 750},\n",
       "  'images': {'pearson': (0.6210183673672609, 3.4253329878894618e-81),\n",
       "   'spearman': SpearmanrResult(correlation=0.6034281508670599, pvalue=1.3935150256056966e-75),\n",
       "   'nsamples': 750},\n",
       "  'OnWN': {'pearson': (0.6881595198510493, 2.5698478130506806e-106),\n",
       "   'spearman': SpearmanrResult(correlation=0.724021362622368, pvalue=9.097906637132835e-123),\n",
       "   'nsamples': 750},\n",
       "  'tweet-news': {'pearson': (0.6951677044186084, 2.434900858432359e-109),\n",
       "   'spearman': SpearmanrResult(correlation=0.6297407891567168, pvalue=4.15272891381895e-84),\n",
       "   'nsamples': 750},\n",
       "  'all': {'pearson': {'all': 0.5673053549667602,\n",
       "    'mean': 0.628707449594642,\n",
       "    'wmean': 0.634223822689546},\n",
       "   'spearman': {'all': 0.5405468180860766,\n",
       "    'mean': 0.6099336016092413,\n",
       "    'wmean': 0.6142907656099732}}},\n",
       " 'STS15': {'answers-forums': {'pearson': (0.5922739501451619,\n",
       "    7.098879631283525e-37),\n",
       "   'spearman': SpearmanrResult(correlation=0.5832009887034076, pvalue=1.5050718050837315e-35),\n",
       "   'nsamples': 375},\n",
       "  'answers-students': {'pearson': (0.6972215450667494, 3.046590329525245e-110),\n",
       "   'spearman': SpearmanrResult(correlation=0.7015999163078435, pvalue=3.4170510073698763e-112),\n",
       "   'nsamples': 750},\n",
       "  'belief': {'pearson': (0.6916576101692196, 1.147157041389214e-54),\n",
       "   'spearman': SpearmanrResult(correlation=0.7268321486400047, pvalue=7.845103420459305e-63),\n",
       "   'nsamples': 375},\n",
       "  'headlines': {'pearson': (0.693702228149526, 1.0614615237841585e-108),\n",
       "   'spearman': SpearmanrResult(correlation=0.6814973480781228, pvalue=1.6046129510388148e-103),\n",
       "   'nsamples': 750},\n",
       "  'images': {'pearson': (0.7376323738663026, 1.0308764157649044e-129),\n",
       "   'spearman': SpearmanrResult(correlation=0.7461751921189329, pvalue=2.679950038706167e-134),\n",
       "   'nsamples': 750},\n",
       "  'all': {'pearson': {'all': 0.6629528541084255,\n",
       "    'mean': 0.6824975414793919,\n",
       "    'wmean': 0.6926304818099421},\n",
       "   'spearman': {'all': 0.6774463962437267,\n",
       "    'mean': 0.6878611187696623,\n",
       "    'wmean': 0.6960722562941513}}}}"
      ]
     },
     "execution_count": 12,
     "metadata": {},
     "output_type": "execute_result"
    }
   ],
   "source": [
    "results = evaluate_model()\n",
    "results"
   ]
  },
  {
   "cell_type": "markdown",
   "id": "4a4cd447",
   "metadata": {
    "papermill": {
     "duration": 0.018302,
     "end_time": "2022-04-09T06:28:18.258667",
     "exception": false,
     "start_time": "2022-04-09T06:28:18.240365",
     "status": "completed"
    },
    "tags": []
   },
   "source": [
    "## 3. Trainer"
   ]
  },
  {
   "cell_type": "code",
   "execution_count": 13,
   "id": "9abbd9b2",
   "metadata": {
    "execution": {
     "iopub.execute_input": "2022-04-09T06:28:18.302137Z",
     "iopub.status.busy": "2022-04-09T06:28:18.301680Z",
     "iopub.status.idle": "2022-04-09T06:28:18.537080Z",
     "shell.execute_reply": "2022-04-09T06:28:18.536482Z"
    },
    "papermill": {
     "duration": 0.261894,
     "end_time": "2022-04-09T06:28:18.538440",
     "exception": false,
     "start_time": "2022-04-09T06:28:18.276546",
     "status": "completed"
    },
    "tags": []
   },
   "outputs": [
    {
     "name": "stderr",
     "output_type": "stream",
     "text": [
      "max_steps is given, it will override any value given in num_train_epochs\n"
     ]
    },
    {
     "name": "stderr",
     "output_type": "stream",
     "text": [
      "Using amp half precision backend\n"
     ]
    }
   ],
   "source": [
    "# import mlflow\n",
    "\n",
    "from transformers import Trainer, TrainingArguments\n",
    "from transformers import default_data_collator\n",
    "\n",
    "training_args = TrainingArguments(\n",
    "    output_dir='output',\n",
    "    overwrite_output_dir=True,\n",
    "    learning_rate=learning_rate,\n",
    "    num_train_epochs=epochs,\n",
    "    max_steps=max_steps,\n",
    "    per_device_train_batch_size=batch_size,\n",
    "    per_device_eval_batch_size=batch_size,\n",
    "    save_strategy='steps',\n",
    "    save_steps=max_steps,\n",
    "    fp16=fp16,\n",
    ")\n",
    "\n",
    "model.train()\n",
    "\n",
    "trainer = Trainer(\n",
    "    model=model,\n",
    "    args=training_args,\n",
    "    train_dataset=train_dataset,\n",
    "    tokenizer=tokenizer,\n",
    "    data_collator=default_data_collator\n",
    ")"
   ]
  },
  {
   "cell_type": "code",
   "execution_count": 14,
   "id": "dee0f5d3",
   "metadata": {
    "execution": {
     "iopub.execute_input": "2022-04-09T06:28:18.583120Z",
     "iopub.status.busy": "2022-04-09T06:28:18.582704Z",
     "iopub.status.idle": "2022-04-09T07:06:00.062076Z",
     "shell.execute_reply": "2022-04-09T07:06:00.061329Z"
    },
    "papermill": {
     "duration": 2261.503888,
     "end_time": "2022-04-09T07:06:00.063890",
     "exception": false,
     "start_time": "2022-04-09T06:28:18.560002",
     "status": "completed"
    },
    "tags": []
   },
   "outputs": [
    {
     "name": "stderr",
     "output_type": "stream",
     "text": [
      "/opt/conda/lib/python3.8/site-packages/transformers/optimization.py:306: FutureWarning: This implementation of AdamW is deprecated and will be removed in a future version. Use the PyTorch implementation torch.optim.AdamW instead, or set `no_deprecation_warning=True` to disable this warning\n",
      "  warnings.warn(\n",
      "***** Running training *****\n"
     ]
    },
    {
     "name": "stderr",
     "output_type": "stream",
     "text": [
      "  Num examples = 1000000\n"
     ]
    },
    {
     "name": "stderr",
     "output_type": "stream",
     "text": [
      "  Num Epochs = 2\n"
     ]
    },
    {
     "name": "stderr",
     "output_type": "stream",
     "text": [
      "  Instantaneous batch size per device = 64\n"
     ]
    },
    {
     "name": "stderr",
     "output_type": "stream",
     "text": [
      "  Total train batch size (w. parallel, distributed & accumulation) = 64\n"
     ]
    },
    {
     "name": "stderr",
     "output_type": "stream",
     "text": [
      "  Gradient Accumulation steps = 1\n"
     ]
    },
    {
     "name": "stderr",
     "output_type": "stream",
     "text": [
      "  Total optimization steps = 30000\n"
     ]
    },
    {
     "data": {
      "text/html": [
       "\n",
       "    <div>\n",
       "      \n",
       "      <progress value='30000' max='30000' style='width:300px; height:20px; vertical-align: middle;'></progress>\n",
       "      [30000/30000 37:41, Epoch 1/2]\n",
       "    </div>\n",
       "    <table border=\"1\" class=\"dataframe\">\n",
       "  <thead>\n",
       " <tr style=\"text-align: left;\">\n",
       "      <th>Step</th>\n",
       "      <th>Training Loss</th>\n",
       "    </tr>\n",
       "  </thead>\n",
       "  <tbody>\n",
       "    <tr>\n",
       "      <td>500</td>\n",
       "      <td>0.004900</td>\n",
       "    </tr>\n",
       "    <tr>\n",
       "      <td>1000</td>\n",
       "      <td>0.000400</td>\n",
       "    </tr>\n",
       "    <tr>\n",
       "      <td>1500</td>\n",
       "      <td>0.000300</td>\n",
       "    </tr>\n",
       "    <tr>\n",
       "      <td>2000</td>\n",
       "      <td>0.000400</td>\n",
       "    </tr>\n",
       "    <tr>\n",
       "      <td>2500</td>\n",
       "      <td>0.000200</td>\n",
       "    </tr>\n",
       "    <tr>\n",
       "      <td>3000</td>\n",
       "      <td>0.000200</td>\n",
       "    </tr>\n",
       "    <tr>\n",
       "      <td>3500</td>\n",
       "      <td>0.000200</td>\n",
       "    </tr>\n",
       "    <tr>\n",
       "      <td>4000</td>\n",
       "      <td>0.000200</td>\n",
       "    </tr>\n",
       "    <tr>\n",
       "      <td>4500</td>\n",
       "      <td>0.000300</td>\n",
       "    </tr>\n",
       "    <tr>\n",
       "      <td>5000</td>\n",
       "      <td>0.000200</td>\n",
       "    </tr>\n",
       "    <tr>\n",
       "      <td>5500</td>\n",
       "      <td>0.000100</td>\n",
       "    </tr>\n",
       "    <tr>\n",
       "      <td>6000</td>\n",
       "      <td>0.000100</td>\n",
       "    </tr>\n",
       "    <tr>\n",
       "      <td>6500</td>\n",
       "      <td>0.000200</td>\n",
       "    </tr>\n",
       "    <tr>\n",
       "      <td>7000</td>\n",
       "      <td>0.000200</td>\n",
       "    </tr>\n",
       "    <tr>\n",
       "      <td>7500</td>\n",
       "      <td>0.000100</td>\n",
       "    </tr>\n",
       "    <tr>\n",
       "      <td>8000</td>\n",
       "      <td>0.000000</td>\n",
       "    </tr>\n",
       "    <tr>\n",
       "      <td>8500</td>\n",
       "      <td>0.000100</td>\n",
       "    </tr>\n",
       "    <tr>\n",
       "      <td>9000</td>\n",
       "      <td>0.000100</td>\n",
       "    </tr>\n",
       "    <tr>\n",
       "      <td>9500</td>\n",
       "      <td>0.000200</td>\n",
       "    </tr>\n",
       "    <tr>\n",
       "      <td>10000</td>\n",
       "      <td>0.000100</td>\n",
       "    </tr>\n",
       "    <tr>\n",
       "      <td>10500</td>\n",
       "      <td>0.000300</td>\n",
       "    </tr>\n",
       "    <tr>\n",
       "      <td>11000</td>\n",
       "      <td>0.000100</td>\n",
       "    </tr>\n",
       "    <tr>\n",
       "      <td>11500</td>\n",
       "      <td>0.000200</td>\n",
       "    </tr>\n",
       "    <tr>\n",
       "      <td>12000</td>\n",
       "      <td>0.000000</td>\n",
       "    </tr>\n",
       "    <tr>\n",
       "      <td>12500</td>\n",
       "      <td>0.000200</td>\n",
       "    </tr>\n",
       "    <tr>\n",
       "      <td>13000</td>\n",
       "      <td>0.000100</td>\n",
       "    </tr>\n",
       "    <tr>\n",
       "      <td>13500</td>\n",
       "      <td>0.000100</td>\n",
       "    </tr>\n",
       "    <tr>\n",
       "      <td>14000</td>\n",
       "      <td>0.000100</td>\n",
       "    </tr>\n",
       "    <tr>\n",
       "      <td>14500</td>\n",
       "      <td>0.000200</td>\n",
       "    </tr>\n",
       "    <tr>\n",
       "      <td>15000</td>\n",
       "      <td>0.000100</td>\n",
       "    </tr>\n",
       "    <tr>\n",
       "      <td>15500</td>\n",
       "      <td>0.000000</td>\n",
       "    </tr>\n",
       "    <tr>\n",
       "      <td>16000</td>\n",
       "      <td>0.000200</td>\n",
       "    </tr>\n",
       "    <tr>\n",
       "      <td>16500</td>\n",
       "      <td>0.000200</td>\n",
       "    </tr>\n",
       "    <tr>\n",
       "      <td>17000</td>\n",
       "      <td>0.000100</td>\n",
       "    </tr>\n",
       "    <tr>\n",
       "      <td>17500</td>\n",
       "      <td>0.000100</td>\n",
       "    </tr>\n",
       "    <tr>\n",
       "      <td>18000</td>\n",
       "      <td>0.000100</td>\n",
       "    </tr>\n",
       "    <tr>\n",
       "      <td>18500</td>\n",
       "      <td>0.000100</td>\n",
       "    </tr>\n",
       "    <tr>\n",
       "      <td>19000</td>\n",
       "      <td>0.000200</td>\n",
       "    </tr>\n",
       "    <tr>\n",
       "      <td>19500</td>\n",
       "      <td>0.000000</td>\n",
       "    </tr>\n",
       "    <tr>\n",
       "      <td>20000</td>\n",
       "      <td>0.000300</td>\n",
       "    </tr>\n",
       "    <tr>\n",
       "      <td>20500</td>\n",
       "      <td>0.000100</td>\n",
       "    </tr>\n",
       "    <tr>\n",
       "      <td>21000</td>\n",
       "      <td>0.000100</td>\n",
       "    </tr>\n",
       "    <tr>\n",
       "      <td>21500</td>\n",
       "      <td>0.000100</td>\n",
       "    </tr>\n",
       "    <tr>\n",
       "      <td>22000</td>\n",
       "      <td>0.000000</td>\n",
       "    </tr>\n",
       "    <tr>\n",
       "      <td>22500</td>\n",
       "      <td>0.000100</td>\n",
       "    </tr>\n",
       "    <tr>\n",
       "      <td>23000</td>\n",
       "      <td>0.000200</td>\n",
       "    </tr>\n",
       "    <tr>\n",
       "      <td>23500</td>\n",
       "      <td>0.000000</td>\n",
       "    </tr>\n",
       "    <tr>\n",
       "      <td>24000</td>\n",
       "      <td>0.000200</td>\n",
       "    </tr>\n",
       "    <tr>\n",
       "      <td>24500</td>\n",
       "      <td>0.000000</td>\n",
       "    </tr>\n",
       "    <tr>\n",
       "      <td>25000</td>\n",
       "      <td>0.000100</td>\n",
       "    </tr>\n",
       "    <tr>\n",
       "      <td>25500</td>\n",
       "      <td>0.000100</td>\n",
       "    </tr>\n",
       "    <tr>\n",
       "      <td>26000</td>\n",
       "      <td>0.000200</td>\n",
       "    </tr>\n",
       "    <tr>\n",
       "      <td>26500</td>\n",
       "      <td>0.000100</td>\n",
       "    </tr>\n",
       "    <tr>\n",
       "      <td>27000</td>\n",
       "      <td>0.000000</td>\n",
       "    </tr>\n",
       "    <tr>\n",
       "      <td>27500</td>\n",
       "      <td>0.000000</td>\n",
       "    </tr>\n",
       "    <tr>\n",
       "      <td>28000</td>\n",
       "      <td>0.000100</td>\n",
       "    </tr>\n",
       "    <tr>\n",
       "      <td>28500</td>\n",
       "      <td>0.000100</td>\n",
       "    </tr>\n",
       "    <tr>\n",
       "      <td>29000</td>\n",
       "      <td>0.000100</td>\n",
       "    </tr>\n",
       "    <tr>\n",
       "      <td>29500</td>\n",
       "      <td>0.000000</td>\n",
       "    </tr>\n",
       "    <tr>\n",
       "      <td>30000</td>\n",
       "      <td>0.000100</td>\n",
       "    </tr>\n",
       "  </tbody>\n",
       "</table><p>"
      ],
      "text/plain": [
       "<IPython.core.display.HTML object>"
      ]
     },
     "metadata": {},
     "output_type": "display_data"
    },
    {
     "name": "stderr",
     "output_type": "stream",
     "text": [
      "Saving model checkpoint to output/checkpoint-30000\n"
     ]
    },
    {
     "name": "stderr",
     "output_type": "stream",
     "text": [
      "Configuration saved in output/checkpoint-30000/config.json\n"
     ]
    },
    {
     "name": "stderr",
     "output_type": "stream",
     "text": [
      "Model weights saved in output/checkpoint-30000/pytorch_model.bin\n"
     ]
    },
    {
     "name": "stderr",
     "output_type": "stream",
     "text": [
      "tokenizer config file saved in output/checkpoint-30000/tokenizer_config.json\n"
     ]
    },
    {
     "name": "stderr",
     "output_type": "stream",
     "text": [
      "Special tokens file saved in output/checkpoint-30000/special_tokens_map.json\n"
     ]
    },
    {
     "name": "stderr",
     "output_type": "stream",
     "text": [
      "\n",
      "\n",
      "Training completed. Do not forget to share your model on huggingface.co/models =)\n",
      "\n",
      "\n"
     ]
    }
   ],
   "source": [
    "train_result = trainer.train()"
   ]
  },
  {
   "cell_type": "code",
   "execution_count": 15,
   "id": "b7688b58",
   "metadata": {
    "execution": {
     "iopub.execute_input": "2022-04-09T07:06:00.109691Z",
     "iopub.status.busy": "2022-04-09T07:06:00.109229Z",
     "iopub.status.idle": "2022-04-09T07:06:00.141454Z",
     "shell.execute_reply": "2022-04-09T07:06:00.140997Z"
    },
    "papermill": {
     "duration": 0.05575,
     "end_time": "2022-04-09T07:06:00.142733",
     "exception": false,
     "start_time": "2022-04-09T07:06:00.086983",
     "status": "completed"
    },
    "tags": []
   },
   "outputs": [],
   "source": [
    "import pandas as pd\n",
    "\n",
    "pd.DataFrame(trainer.state.log_history).to_csv(f'logs/cl-distilled_pooling_{pooling_method}_fp16.csv', index=False)"
   ]
  },
  {
   "cell_type": "markdown",
   "id": "740c147d",
   "metadata": {
    "papermill": {
     "duration": 0.021712,
     "end_time": "2022-04-09T07:06:00.185590",
     "exception": false,
     "start_time": "2022-04-09T07:06:00.163878",
     "status": "completed"
    },
    "tags": []
   },
   "source": [
    "## 4. Evaluate DistilBert CL Model performance"
   ]
  },
  {
   "cell_type": "code",
   "execution_count": 16,
   "id": "795acf48",
   "metadata": {
    "execution": {
     "iopub.execute_input": "2022-04-09T07:06:00.234713Z",
     "iopub.status.busy": "2022-04-09T07:06:00.234332Z",
     "iopub.status.idle": "2022-04-09T07:06:17.260374Z",
     "shell.execute_reply": "2022-04-09T07:06:17.259593Z"
    },
    "papermill": {
     "duration": 17.049376,
     "end_time": "2022-04-09T07:06:17.261766",
     "exception": false,
     "start_time": "2022-04-09T07:06:00.212390",
     "status": "completed"
    },
    "tags": []
   },
   "outputs": [
    {
     "name": "stderr",
     "output_type": "stream",
     "text": [
      "/opt/conda/lib/python3.8/site-packages/SentEval-0.1.0-py3.8.egg/senteval/sts.py:42: VisibleDeprecationWarning: Creating an ndarray from ragged nested sequences (which is a list-or-tuple of lists-or-tuples-or ndarrays with different lengths or shapes) is deprecated. If you meant to do this, you must specify 'dtype=object' when creating the ndarray.\n",
      "/opt/conda/lib/python3.8/site-packages/SentEval-0.1.0-py3.8.egg/senteval/sts.py:43: VisibleDeprecationWarning: Creating an ndarray from ragged nested sequences (which is a list-or-tuple of lists-or-tuples-or ndarrays with different lengths or shapes) is deprecated. If you meant to do this, you must specify 'dtype=object' when creating the ndarray.\n"
     ]
    },
    {
     "name": "stdout",
     "output_type": "stream",
     "text": [
      "STS12:  0.5478247737383795\n",
      "STS13:  0.6555484893494253\n",
      "STS14:  0.5373614390238\n",
      "STS15:  0.6584363844779847\n",
      "STSB:  0.5682800640795224\n"
     ]
    },
    {
     "data": {
      "text/plain": [
       "{'STSBenchmark': {'train': {'pearson': (0.5879965023763212, 0.0),\n",
       "   'spearman': SpearmanrResult(correlation=0.5639437903952357, pvalue=0.0),\n",
       "   'nsamples': 5749},\n",
       "  'dev': {'pearson': (0.6235186599481607, 2.416365611447884e-162),\n",
       "   'spearman': SpearmanrResult(correlation=0.6227870520142038, pvalue=7.388603660862588e-162),\n",
       "   'nsamples': 1500},\n",
       "  'test': {'pearson': (0.5735327570934965, 1.988226016949354e-121),\n",
       "   'spearman': SpearmanrResult(correlation=0.5682800640795224, pvalue=9.183033593819844e-119),\n",
       "   'nsamples': 1379},\n",
       "  'all': {'pearson': {'all': 0.5939042899842318,\n",
       "    'mean': 0.5950159731393261,\n",
       "    'wmean': 0.5918604026559624},\n",
       "   'spearman': {'all': 0.5817811671472484,\n",
       "    'mean': 0.5850036354963205,\n",
       "    'wmean': 0.5748669028012491}}},\n",
       " 'STS12': {'MSRpar': {'pearson': (0.3716506568199804, 5.590861893787085e-26),\n",
       "   'spearman': SpearmanrResult(correlation=0.3887449034767606, pvalue=1.819720205627475e-28),\n",
       "   'nsamples': 750},\n",
       "  'MSRvid': {'pearson': (0.7156473673635807, 1.0673098540172994e-118),\n",
       "   'spearman': SpearmanrResult(correlation=0.7133433474820717, pvalue=1.3249281427751516e-117),\n",
       "   'nsamples': 750},\n",
       "  'SMTeuroparl': {'pearson': (0.45339898197349965, 1.186626947450434e-24),\n",
       "   'spearman': SpearmanrResult(correlation=0.5598677882348752, pvalue=3.1689929674516503e-39),\n",
       "   'nsamples': 459},\n",
       "  'surprise.OnWN': {'pearson': (0.6662129270225736, 2.2146913235787487e-97),\n",
       "   'spearman': SpearmanrResult(correlation=0.6488062483114546, pvalue=8.088568127850142e-91),\n",
       "   'nsamples': 750},\n",
       "  'surprise.SMTnews': {'pearson': (0.5946491481823826, 1.6201143957303745e-39),\n",
       "   'spearman': SpearmanrResult(correlation=0.49100082417270446, pvalue=1.3382198976187166e-25),\n",
       "   'nsamples': 399},\n",
       "  'all': {'pearson': {'all': 0.5311475833819628,\n",
       "    'mean': 0.5603118162724033,\n",
       "    'wmean': 0.5664441300692433},\n",
       "   'spearman': {'all': 0.5478247737383795,\n",
       "    'mean': 0.5603526223355733,\n",
       "    'wmean': 0.568230218178067}}},\n",
       " 'STS13': {'FNWN': {'pearson': (0.4862461777792582, 1.3107966491013033e-12),\n",
       "   'spearman': SpearmanrResult(correlation=0.500932958906723, pvalue=2.1217095121376361e-13),\n",
       "   'nsamples': 189},\n",
       "  'headlines': {'pearson': (0.6763437245392191, 2.0759162208560454e-101),\n",
       "   'spearman': SpearmanrResult(correlation=0.6590574953346955, pvalue=1.247660602325898e-94),\n",
       "   'nsamples': 750},\n",
       "  'OnWN': {'pearson': (0.6368363002138309, 3.854616826426824e-65),\n",
       "   'spearman': SpearmanrResult(correlation=0.6450150266455864, pvalue=2.6336327413966287e-67),\n",
       "   'nsamples': 561},\n",
       "  'all': {'pearson': {'all': 0.6502501233513235,\n",
       "    'mean': 0.5998087341774361,\n",
       "    'wmean': 0.6376156569497688},\n",
       "   'spearman': {'all': 0.6555484893494253,\n",
       "    'mean': 0.6016684936290017,\n",
       "    'wmean': 0.6338819204550441}}},\n",
       " 'STS14': {'deft-forum': {'pearson': (0.34343697512472277,\n",
       "    6.665977504230289e-14),\n",
       "   'spearman': SpearmanrResult(correlation=0.33042206766325055, pvalue=6.346441696159135e-13),\n",
       "   'nsamples': 450},\n",
       "  'deft-news': {'pearson': (0.6678280656426122, 4.1844710248748045e-40),\n",
       "   'spearman': SpearmanrResult(correlation=0.6353361799063414, pvalue=2.5633588723044534e-35),\n",
       "   'nsamples': 300},\n",
       "  'headlines': {'pearson': (0.6334199140985804, 2.2910984820679342e-85),\n",
       "   'spearman': SpearmanrResult(correlation=0.5923832175280676, pvalue=3.0991692142872455e-72),\n",
       "   'nsamples': 750},\n",
       "  'images': {'pearson': (0.6409287063420054, 5.474405494628208e-88),\n",
       "   'spearman': SpearmanrResult(correlation=0.6095526435074398, pvalue=1.7020347748197252e-77),\n",
       "   'nsamples': 750},\n",
       "  'OnWN': {'pearson': (0.7508890056378346, 6.583952072482342e-137),\n",
       "   'spearman': SpearmanrResult(correlation=0.7602947850001958, pvalue=2.7024607765437973e-142),\n",
       "   'nsamples': 750},\n",
       "  'tweet-news': {'pearson': (0.6579584947764685, 3.250211254459767e-94),\n",
       "   'spearman': SpearmanrResult(correlation=0.612809049263093, pvalue=1.5725680982412885e-78),\n",
       "   'nsamples': 750},\n",
       "  'all': {'pearson': {'all': 0.5684508690976481,\n",
       "    'mean': 0.6157435269370374,\n",
       "    'wmean': 0.6312779064373535},\n",
       "   'spearman': {'all': 0.5373614390238,\n",
       "    'mean': 0.5901329904780647,\n",
       "    'wmean': 0.6054854815718566}}},\n",
       " 'STS15': {'answers-forums': {'pearson': (0.5758354564943224,\n",
       "    1.6754345564232107e-34),\n",
       "   'spearman': SpearmanrResult(correlation=0.5634544862262072, pvalue=8.411734881514756e-33),\n",
       "   'nsamples': 375},\n",
       "  'answers-students': {'pearson': (0.6705121412169719, 4.523108583789664e-99),\n",
       "   'spearman': SpearmanrResult(correlation=0.6747285811622148, pvalue=9.337069711361022e-101),\n",
       "   'nsamples': 750},\n",
       "  'belief': {'pearson': (0.67106810048591, 2.0715819111946143e-50),\n",
       "   'spearman': SpearmanrResult(correlation=0.6929958903595904, pvalue=5.895718004805917e-55),\n",
       "   'nsamples': 375},\n",
       "  'headlines': {'pearson': (0.7124906962315001, 3.344039061602795e-117),\n",
       "   'spearman': SpearmanrResult(correlation=0.7032090416980974, pvalue=6.425894903300618e-113),\n",
       "   'nsamples': 750},\n",
       "  'images': {'pearson': (0.7610226715022391, 1.0104701452308483e-142),\n",
       "   'spearman': SpearmanrResult(correlation=0.770565945942488, pvalue=1.8097301733668528e-148),\n",
       "   'nsamples': 750},\n",
       "  'all': {'pearson': {'all': 0.6592361930380453,\n",
       "    'mean': 0.6781858131861888,\n",
       "    'wmean': 0.6918693218602069},\n",
       "   'spearman': {'all': 0.6584363844779847,\n",
       "    'mean': 0.6809907890777196,\n",
       "    'wmean': 0.6941821892739247}}}}"
      ]
     },
     "execution_count": 16,
     "metadata": {},
     "output_type": "execute_result"
    }
   ],
   "source": [
    "model.eval()\n",
    "\n",
    "results = evaluate_model()\n",
    "results"
   ]
  },
  {
   "cell_type": "code",
   "execution_count": null,
   "id": "773a0616",
   "metadata": {
    "papermill": {
     "duration": 0.021449,
     "end_time": "2022-04-09T07:06:17.335541",
     "exception": false,
     "start_time": "2022-04-09T07:06:17.314092",
     "status": "completed"
    },
    "tags": []
   },
   "outputs": [],
   "source": []
  }
 ],
 "metadata": {
  "celltoolbar": "Tags",
  "kernelspec": {
   "display_name": "Python 3 (ipykernel)",
   "language": "python",
   "name": "python3"
  },
  "language_info": {
   "codemirror_mode": {
    "name": "ipython",
    "version": 3
   },
   "file_extension": ".py",
   "mimetype": "text/x-python",
   "name": "python",
   "nbconvert_exporter": "python",
   "pygments_lexer": "ipython3",
   "version": "3.8.12"
  },
  "papermill": {
   "default_parameters": {},
   "duration": 2305.708856,
   "end_time": "2022-04-09T07:06:18.178429",
   "environment_variables": {},
   "exception": null,
   "input_path": "notebooks/training/cl-distilbert_pooling_avg-first-last.ipynb",
   "output_path": "notebooks/training/cl-distilbert_pooling_max_last4.ipynb",
   "parameters": {
    "pooling_method": "max_last4"
   },
   "start_time": "2022-04-09T06:27:52.469573",
   "version": "2.3.4"
  },
  "toc": {
   "base_numbering": 1,
   "nav_menu": {},
   "number_sections": false,
   "sideBar": true,
   "skip_h1_title": false,
   "title_cell": "Table of Contents",
   "title_sidebar": "Contents",
   "toc_cell": false,
   "toc_position": {},
   "toc_section_display": true,
   "toc_window_display": false
  },
  "widgets": {
   "application/vnd.jupyter.widget-state+json": {
    "state": {
     "097de96871ad44b7ba36768f91a3dd1b": {
      "model_module": "@jupyter-widgets/base",
      "model_module_version": "1.2.0",
      "model_name": "LayoutModel",
      "state": {
       "_model_module": "@jupyter-widgets/base",
       "_model_module_version": "1.2.0",
       "_model_name": "LayoutModel",
       "_view_count": null,
       "_view_module": "@jupyter-widgets/base",
       "_view_module_version": "1.2.0",
       "_view_name": "LayoutView",
       "align_content": null,
       "align_items": null,
       "align_self": null,
       "border": null,
       "bottom": null,
       "display": null,
       "flex": null,
       "flex_flow": null,
       "grid_area": null,
       "grid_auto_columns": null,
       "grid_auto_flow": null,
       "grid_auto_rows": null,
       "grid_column": null,
       "grid_gap": null,
       "grid_row": null,
       "grid_template_areas": null,
       "grid_template_columns": null,
       "grid_template_rows": null,
       "height": null,
       "justify_content": null,
       "justify_items": null,
       "left": null,
       "margin": null,
       "max_height": null,
       "max_width": null,
       "min_height": null,
       "min_width": null,
       "object_fit": null,
       "object_position": null,
       "order": null,
       "overflow": null,
       "overflow_x": null,
       "overflow_y": null,
       "padding": null,
       "right": null,
       "top": null,
       "visibility": null,
       "width": null
      }
     },
     "1833769b565e47ab91a320789de4c3c9": {
      "model_module": "@jupyter-widgets/controls",
      "model_module_version": "1.5.0",
      "model_name": "HBoxModel",
      "state": {
       "_dom_classes": [],
       "_model_module": "@jupyter-widgets/controls",
       "_model_module_version": "1.5.0",
       "_model_name": "HBoxModel",
       "_view_count": null,
       "_view_module": "@jupyter-widgets/controls",
       "_view_module_version": "1.5.0",
       "_view_name": "HBoxView",
       "box_style": "",
       "children": [
        "IPY_MODEL_97b1520e610a4666809ce587e535e224",
        "IPY_MODEL_e1052d53b26e417ba7dfd113cc0580c5",
        "IPY_MODEL_e60078eca9fd4114a88405224902b4d1"
       ],
       "layout": "IPY_MODEL_a48418d8c41a4addb78a842effc0d244"
      }
     },
     "2d348c3efaf341e3b81bf3a9d58e816d": {
      "model_module": "@jupyter-widgets/controls",
      "model_module_version": "1.5.0",
      "model_name": "DescriptionStyleModel",
      "state": {
       "_model_module": "@jupyter-widgets/controls",
       "_model_module_version": "1.5.0",
       "_model_name": "DescriptionStyleModel",
       "_view_count": null,
       "_view_module": "@jupyter-widgets/base",
       "_view_module_version": "1.2.0",
       "_view_name": "StyleView",
       "description_width": ""
      }
     },
     "97b1520e610a4666809ce587e535e224": {
      "model_module": "@jupyter-widgets/controls",
      "model_module_version": "1.5.0",
      "model_name": "HTMLModel",
      "state": {
       "_dom_classes": [],
       "_model_module": "@jupyter-widgets/controls",
       "_model_module_version": "1.5.0",
       "_model_name": "HTMLModel",
       "_view_count": null,
       "_view_module": "@jupyter-widgets/controls",
       "_view_module_version": "1.5.0",
       "_view_name": "HTMLView",
       "description": "",
       "description_tooltip": null,
       "layout": "IPY_MODEL_097de96871ad44b7ba36768f91a3dd1b",
       "placeholder": "​",
       "style": "IPY_MODEL_cd8da90774a349dc888d34d3f936b061",
       "value": "100%"
      }
     },
     "9c328c87e4e9479fbbe1cffafc49d89e": {
      "model_module": "@jupyter-widgets/base",
      "model_module_version": "1.2.0",
      "model_name": "LayoutModel",
      "state": {
       "_model_module": "@jupyter-widgets/base",
       "_model_module_version": "1.2.0",
       "_model_name": "LayoutModel",
       "_view_count": null,
       "_view_module": "@jupyter-widgets/base",
       "_view_module_version": "1.2.0",
       "_view_name": "LayoutView",
       "align_content": null,
       "align_items": null,
       "align_self": null,
       "border": null,
       "bottom": null,
       "display": null,
       "flex": null,
       "flex_flow": null,
       "grid_area": null,
       "grid_auto_columns": null,
       "grid_auto_flow": null,
       "grid_auto_rows": null,
       "grid_column": null,
       "grid_gap": null,
       "grid_row": null,
       "grid_template_areas": null,
       "grid_template_columns": null,
       "grid_template_rows": null,
       "height": null,
       "justify_content": null,
       "justify_items": null,
       "left": null,
       "margin": null,
       "max_height": null,
       "max_width": null,
       "min_height": null,
       "min_width": null,
       "object_fit": null,
       "object_position": null,
       "order": null,
       "overflow": null,
       "overflow_x": null,
       "overflow_y": null,
       "padding": null,
       "right": null,
       "top": null,
       "visibility": null,
       "width": null
      }
     },
     "a48418d8c41a4addb78a842effc0d244": {
      "model_module": "@jupyter-widgets/base",
      "model_module_version": "1.2.0",
      "model_name": "LayoutModel",
      "state": {
       "_model_module": "@jupyter-widgets/base",
       "_model_module_version": "1.2.0",
       "_model_name": "LayoutModel",
       "_view_count": null,
       "_view_module": "@jupyter-widgets/base",
       "_view_module_version": "1.2.0",
       "_view_name": "LayoutView",
       "align_content": null,
       "align_items": null,
       "align_self": null,
       "border": null,
       "bottom": null,
       "display": null,
       "flex": null,
       "flex_flow": null,
       "grid_area": null,
       "grid_auto_columns": null,
       "grid_auto_flow": null,
       "grid_auto_rows": null,
       "grid_column": null,
       "grid_gap": null,
       "grid_row": null,
       "grid_template_areas": null,
       "grid_template_columns": null,
       "grid_template_rows": null,
       "height": null,
       "justify_content": null,
       "justify_items": null,
       "left": null,
       "margin": null,
       "max_height": null,
       "max_width": null,
       "min_height": null,
       "min_width": null,
       "object_fit": null,
       "object_position": null,
       "order": null,
       "overflow": null,
       "overflow_x": null,
       "overflow_y": null,
       "padding": null,
       "right": null,
       "top": null,
       "visibility": null,
       "width": null
      }
     },
     "cd8da90774a349dc888d34d3f936b061": {
      "model_module": "@jupyter-widgets/controls",
      "model_module_version": "1.5.0",
      "model_name": "DescriptionStyleModel",
      "state": {
       "_model_module": "@jupyter-widgets/controls",
       "_model_module_version": "1.5.0",
       "_model_name": "DescriptionStyleModel",
       "_view_count": null,
       "_view_module": "@jupyter-widgets/base",
       "_view_module_version": "1.2.0",
       "_view_name": "StyleView",
       "description_width": ""
      }
     },
     "ceb3a904898e42bf90ca3943ba32d4d8": {
      "model_module": "@jupyter-widgets/controls",
      "model_module_version": "1.5.0",
      "model_name": "ProgressStyleModel",
      "state": {
       "_model_module": "@jupyter-widgets/controls",
       "_model_module_version": "1.5.0",
       "_model_name": "ProgressStyleModel",
       "_view_count": null,
       "_view_module": "@jupyter-widgets/base",
       "_view_module_version": "1.2.0",
       "_view_name": "StyleView",
       "bar_color": null,
       "description_width": ""
      }
     },
     "e1052d53b26e417ba7dfd113cc0580c5": {
      "model_module": "@jupyter-widgets/controls",
      "model_module_version": "1.5.0",
      "model_name": "FloatProgressModel",
      "state": {
       "_dom_classes": [],
       "_model_module": "@jupyter-widgets/controls",
       "_model_module_version": "1.5.0",
       "_model_name": "FloatProgressModel",
       "_view_count": null,
       "_view_module": "@jupyter-widgets/controls",
       "_view_module_version": "1.5.0",
       "_view_name": "ProgressView",
       "bar_style": "success",
       "description": "",
       "description_tooltip": null,
       "layout": "IPY_MODEL_e218bd13450745be826ed4c579766ad1",
       "max": 1,
       "min": 0,
       "orientation": "horizontal",
       "style": "IPY_MODEL_ceb3a904898e42bf90ca3943ba32d4d8",
       "value": 1
      }
     },
     "e218bd13450745be826ed4c579766ad1": {
      "model_module": "@jupyter-widgets/base",
      "model_module_version": "1.2.0",
      "model_name": "LayoutModel",
      "state": {
       "_model_module": "@jupyter-widgets/base",
       "_model_module_version": "1.2.0",
       "_model_name": "LayoutModel",
       "_view_count": null,
       "_view_module": "@jupyter-widgets/base",
       "_view_module_version": "1.2.0",
       "_view_name": "LayoutView",
       "align_content": null,
       "align_items": null,
       "align_self": null,
       "border": null,
       "bottom": null,
       "display": null,
       "flex": null,
       "flex_flow": null,
       "grid_area": null,
       "grid_auto_columns": null,
       "grid_auto_flow": null,
       "grid_auto_rows": null,
       "grid_column": null,
       "grid_gap": null,
       "grid_row": null,
       "grid_template_areas": null,
       "grid_template_columns": null,
       "grid_template_rows": null,
       "height": null,
       "justify_content": null,
       "justify_items": null,
       "left": null,
       "margin": null,
       "max_height": null,
       "max_width": null,
       "min_height": null,
       "min_width": null,
       "object_fit": null,
       "object_position": null,
       "order": null,
       "overflow": null,
       "overflow_x": null,
       "overflow_y": null,
       "padding": null,
       "right": null,
       "top": null,
       "visibility": null,
       "width": null
      }
     },
     "e60078eca9fd4114a88405224902b4d1": {
      "model_module": "@jupyter-widgets/controls",
      "model_module_version": "1.5.0",
      "model_name": "HTMLModel",
      "state": {
       "_dom_classes": [],
       "_model_module": "@jupyter-widgets/controls",
       "_model_module_version": "1.5.0",
       "_model_name": "HTMLModel",
       "_view_count": null,
       "_view_module": "@jupyter-widgets/controls",
       "_view_module_version": "1.5.0",
       "_view_name": "HTMLView",
       "description": "",
       "description_tooltip": null,
       "layout": "IPY_MODEL_9c328c87e4e9479fbbe1cffafc49d89e",
       "placeholder": "​",
       "style": "IPY_MODEL_2d348c3efaf341e3b81bf3a9d58e816d",
       "value": " 1/1 [00:00&lt;00:00, 50.96it/s]"
      }
     }
    },
    "version_major": 2,
    "version_minor": 0
   }
  }
 },
 "nbformat": 4,
 "nbformat_minor": 5
}
