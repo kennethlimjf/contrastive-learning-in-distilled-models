{
 "cells": [
  {
   "cell_type": "markdown",
   "id": "3f84bbef",
   "metadata": {
    "papermill": {
     "duration": 0.17559,
     "end_time": "2022-04-15T15:07:03.469288",
     "exception": false,
     "start_time": "2022-04-15T15:07:03.293698",
     "status": "completed"
    },
    "tags": []
   },
   "source": [
    "# Contrastive Learning From Scratch - DistilBERT\n",
    "\n",
    "An attempt to build contrastive learning model from scratch. Parts include:\n",
    "\n",
    "- Loading and preparing Wiki-1M data for model input\n",
    "- Contrastive learning model\n",
    "  - Forward passing using pre-trained model\n",
    "  - Constrastive layer\n",
    "  - Calculate loss\n",
    "- Training procedure\n",
    "  - Default trainer optimizer\n",
    "  - Default trainer hyper-parameters"
   ]
  },
  {
   "cell_type": "code",
   "execution_count": 1,
   "id": "d4b4a537",
   "metadata": {
    "execution": {
     "iopub.execute_input": "2022-04-15T15:07:03.911973Z",
     "iopub.status.busy": "2022-04-15T15:07:03.911681Z",
     "iopub.status.idle": "2022-04-15T15:07:03.932700Z",
     "shell.execute_reply": "2022-04-15T15:07:03.931857Z"
    },
    "papermill": {
     "duration": 0.263748,
     "end_time": "2022-04-15T15:07:03.934134",
     "exception": false,
     "start_time": "2022-04-15T15:07:03.670386",
     "status": "completed"
    },
    "tags": []
   },
   "outputs": [
    {
     "name": "stdout",
     "output_type": "stream",
     "text": [
      "/notebooks/contrastive-learning-in-distilled-models\n"
     ]
    }
   ],
   "source": [
    "import os\n",
    "\n",
    "# Set Project home\n",
    "PROJECT_HOME = os.path.join('/',\n",
    "                            'notebooks',\n",
    "                            'contrastive-learning-in-distilled-models')\n",
    "%cd {PROJECT_HOME}\n",
    "\n",
    "# Load project code\n",
    "%reload_ext autoreload\n",
    "%autoreload 2\n",
    "\n",
    "import sys\n",
    "sys.path.insert(0, f'{PROJECT_HOME}/src')\n",
    "\n",
    "import distilface"
   ]
  },
  {
   "cell_type": "code",
   "execution_count": 2,
   "id": "1cd1b89b",
   "metadata": {
    "execution": {
     "iopub.execute_input": "2022-04-15T15:07:04.339263Z",
     "iopub.status.busy": "2022-04-15T15:07:04.339047Z",
     "iopub.status.idle": "2022-04-15T15:07:05.252921Z",
     "shell.execute_reply": "2022-04-15T15:07:05.252234Z"
    },
    "papermill": {
     "duration": 1.077463,
     "end_time": "2022-04-15T15:07:05.254749",
     "exception": false,
     "start_time": "2022-04-15T15:07:04.177286",
     "status": "completed"
    },
    "tags": []
   },
   "outputs": [],
   "source": [
    "def seed_everything(seed: int):\n",
    "    import random, os\n",
    "    import numpy as np\n",
    "    import torch\n",
    "    \n",
    "    random.seed(seed)\n",
    "    os.environ['PYTHONHASHSEED'] = str(seed)\n",
    "    np.random.seed(seed)\n",
    "    torch.manual_seed(seed)\n",
    "    torch.cuda.manual_seed(seed)\n",
    "    torch.backends.cudnn.deterministic = True\n",
    "    torch.backends.cudnn.benchmark = True\n",
    "    \n",
    "seed_everything(42)"
   ]
  },
  {
   "cell_type": "code",
   "execution_count": 3,
   "id": "cc767ef6",
   "metadata": {
    "execution": {
     "iopub.execute_input": "2022-04-15T15:07:05.637833Z",
     "iopub.status.busy": "2022-04-15T15:07:05.637613Z",
     "iopub.status.idle": "2022-04-15T15:07:05.654955Z",
     "shell.execute_reply": "2022-04-15T15:07:05.654498Z"
    },
    "papermill": {
     "duration": 0.233019,
     "end_time": "2022-04-15T15:07:05.656243",
     "exception": false,
     "start_time": "2022-04-15T15:07:05.423224",
     "status": "completed"
    },
    "tags": [
     "parameters"
    ]
   },
   "outputs": [],
   "source": [
    "# Hyperparameters\n",
    "\n",
    "pooling_method = 'avg_last4'\n",
    "batch_size = 128\n",
    "learning_rate = 1e-5\n",
    "epochs = 1\n",
    "max_steps = 30_000\n",
    "temperature = 0.05\n",
    "max_len = 32\n",
    "fp16 = False"
   ]
  },
  {
   "cell_type": "code",
   "execution_count": 4,
   "id": "7d5e87cd",
   "metadata": {
    "execution": {
     "iopub.execute_input": "2022-04-15T15:07:05.988952Z",
     "iopub.status.busy": "2022-04-15T15:07:05.988759Z",
     "iopub.status.idle": "2022-04-15T15:07:06.005294Z",
     "shell.execute_reply": "2022-04-15T15:07:06.004586Z"
    },
    "papermill": {
     "duration": 0.205538,
     "end_time": "2022-04-15T15:07:06.006893",
     "exception": false,
     "start_time": "2022-04-15T15:07:05.801355",
     "status": "completed"
    },
    "tags": [
     "injected-parameters"
    ]
   },
   "outputs": [],
   "source": [
    "# Parameters\n",
    "max_steps = 15000\n"
   ]
  },
  {
   "cell_type": "markdown",
   "id": "6489ec16",
   "metadata": {
    "papermill": {
     "duration": 0.194195,
     "end_time": "2022-04-15T15:07:06.487268",
     "exception": false,
     "start_time": "2022-04-15T15:07:06.293073",
     "status": "completed"
    },
    "tags": []
   },
   "source": [
    "## 1. Loading and Preparing Wiki-1M data\n",
    "\n",
    "Use huggingface `datasets` library to load local file data."
   ]
  },
  {
   "cell_type": "code",
   "execution_count": 5,
   "id": "c835b3c5",
   "metadata": {
    "execution": {
     "iopub.execute_input": "2022-04-15T15:07:07.025866Z",
     "iopub.status.busy": "2022-04-15T15:07:07.025626Z",
     "iopub.status.idle": "2022-04-15T15:07:07.566524Z",
     "shell.execute_reply": "2022-04-15T15:07:07.565661Z"
    },
    "papermill": {
     "duration": 0.825156,
     "end_time": "2022-04-15T15:07:07.567828",
     "exception": false,
     "start_time": "2022-04-15T15:07:06.742672",
     "status": "completed"
    },
    "tags": []
   },
   "outputs": [
    {
     "name": "stderr",
     "output_type": "stream",
     "text": [
      "Using custom data configuration default-235a9b97f9ebd10e\n"
     ]
    },
    {
     "name": "stderr",
     "output_type": "stream",
     "text": [
      "Reusing dataset text (./data/text/default-235a9b97f9ebd10e/0.0.0/4b86d314f7236db91f0a0f5cda32d4375445e64c5eda2692655dd99c2dac68e8)\n"
     ]
    },
    {
     "data": {
      "application/vnd.jupyter.widget-view+json": {
       "model_id": "4d534db517974f8f83b324a2a09da639",
       "version_major": 2,
       "version_minor": 0
      },
      "text/plain": [
       "  0%|          | 0/1 [00:00<?, ?it/s]"
      ]
     },
     "metadata": {},
     "output_type": "display_data"
    }
   ],
   "source": [
    "import numpy as np\n",
    "\n",
    "from datasets import load_dataset\n",
    "\n",
    "data_files = {'train': 'data/training/wiki1m_for_simcse.txt'}\n",
    "# data_files = {'train': 'data/training/wiki5k.txt'}\n",
    "datasets = load_dataset('text', data_files=data_files, cache_dir='./data/')"
   ]
  },
  {
   "cell_type": "code",
   "execution_count": 6,
   "id": "88286b1d",
   "metadata": {
    "execution": {
     "iopub.execute_input": "2022-04-15T15:07:08.001919Z",
     "iopub.status.busy": "2022-04-15T15:07:08.001668Z",
     "iopub.status.idle": "2022-04-15T15:07:08.023364Z",
     "shell.execute_reply": "2022-04-15T15:07:08.022666Z"
    },
    "papermill": {
     "duration": 0.265432,
     "end_time": "2022-04-15T15:07:08.024925",
     "exception": false,
     "start_time": "2022-04-15T15:07:07.759493",
     "status": "completed"
    },
    "tags": []
   },
   "outputs": [],
   "source": [
    "# Unsupervised / Self-supervised dataset\n",
    "\n",
    "column_names = datasets[\"train\"].column_names\n",
    "sent0_cname = column_names[0]\n",
    "sent1_cname = column_names[0]"
   ]
  },
  {
   "cell_type": "code",
   "execution_count": 7,
   "id": "2cb9f5b2",
   "metadata": {
    "execution": {
     "iopub.execute_input": "2022-04-15T15:07:08.444639Z",
     "iopub.status.busy": "2022-04-15T15:07:08.444398Z",
     "iopub.status.idle": "2022-04-15T15:07:09.233429Z",
     "shell.execute_reply": "2022-04-15T15:07:09.232654Z"
    },
    "papermill": {
     "duration": 0.962809,
     "end_time": "2022-04-15T15:07:09.235386",
     "exception": false,
     "start_time": "2022-04-15T15:07:08.272577",
     "status": "completed"
    },
    "tags": []
   },
   "outputs": [],
   "source": [
    "from transformers import AutoTokenizer\n",
    "\n",
    "tokenizer = AutoTokenizer.from_pretrained('distilbert-base-uncased')"
   ]
  },
  {
   "cell_type": "code",
   "execution_count": 8,
   "id": "2db948df",
   "metadata": {
    "execution": {
     "iopub.execute_input": "2022-04-15T15:07:09.890467Z",
     "iopub.status.busy": "2022-04-15T15:07:09.890237Z",
     "iopub.status.idle": "2022-04-15T15:07:09.913605Z",
     "shell.execute_reply": "2022-04-15T15:07:09.912960Z"
    },
    "papermill": {
     "duration": 0.405773,
     "end_time": "2022-04-15T15:07:09.915023",
     "exception": false,
     "start_time": "2022-04-15T15:07:09.509250",
     "status": "completed"
    },
    "tags": []
   },
   "outputs": [],
   "source": [
    "def prepare_features(examples):\n",
    "    total = len(examples[sent0_cname])\n",
    "\n",
    "    # Avoid \"None\" fields \n",
    "    for idx in range(total):\n",
    "        if examples[sent0_cname][idx] is None:\n",
    "            examples[sent0_cname][idx] = \" \"\n",
    "        if examples[sent1_cname][idx] is None:\n",
    "            examples[sent1_cname][idx] = \" \"\n",
    "\n",
    "    sentences = examples[sent0_cname] + examples[sent1_cname]\n",
    "\n",
    "    sent_features = tokenizer(\n",
    "        sentences,\n",
    "        max_length=max_len,\n",
    "        truncation=True,\n",
    "        padding=True,\n",
    "    )\n",
    "\n",
    "    features = {}\n",
    "    for key in sent_features:\n",
    "        features[key] = [[sent_features[key][i], sent_features[key][i+total]] for i in range(total)]\n",
    "\n",
    "    return features"
   ]
  },
  {
   "cell_type": "code",
   "execution_count": 9,
   "id": "dced0711",
   "metadata": {
    "execution": {
     "iopub.execute_input": "2022-04-15T15:07:10.365742Z",
     "iopub.status.busy": "2022-04-15T15:07:10.365511Z",
     "iopub.status.idle": "2022-04-15T15:07:10.410082Z",
     "shell.execute_reply": "2022-04-15T15:07:10.409090Z"
    },
    "papermill": {
     "duration": 0.206809,
     "end_time": "2022-04-15T15:07:10.411426",
     "exception": false,
     "start_time": "2022-04-15T15:07:10.204617",
     "status": "completed"
    },
    "tags": []
   },
   "outputs": [
    {
     "name": "stderr",
     "output_type": "stream",
     "text": [
      "Loading cached processed dataset at ./data/text/default-235a9b97f9ebd10e/0.0.0/4b86d314f7236db91f0a0f5cda32d4375445e64c5eda2692655dd99c2dac68e8/cache-305eab4ce3c7d88c.arrow\n"
     ]
    }
   ],
   "source": [
    "train_dataset = datasets[\"train\"].map(prepare_features,\n",
    "                                      batched=True,\n",
    "                                    #   num_proc=24,\n",
    "                                      remove_columns=column_names)"
   ]
  },
  {
   "cell_type": "code",
   "execution_count": 10,
   "id": "b08fe3f8",
   "metadata": {
    "execution": {
     "iopub.execute_input": "2022-04-15T15:07:10.886527Z",
     "iopub.status.busy": "2022-04-15T15:07:10.886312Z",
     "iopub.status.idle": "2022-04-15T15:07:10.912758Z",
     "shell.execute_reply": "2022-04-15T15:07:10.912179Z"
    },
    "papermill": {
     "duration": 0.244035,
     "end_time": "2022-04-15T15:07:10.914163",
     "exception": false,
     "start_time": "2022-04-15T15:07:10.670128",
     "status": "completed"
    },
    "tags": []
   },
   "outputs": [
    {
     "data": {
      "text/plain": [
       "1000000"
      ]
     },
     "execution_count": 10,
     "metadata": {},
     "output_type": "execute_result"
    }
   ],
   "source": [
    "train_dataset.num_rows"
   ]
  },
  {
   "cell_type": "markdown",
   "id": "150f2234",
   "metadata": {
    "papermill": {
     "duration": 0.240776,
     "end_time": "2022-04-15T15:07:11.393796",
     "exception": false,
     "start_time": "2022-04-15T15:07:11.153020",
     "status": "completed"
    },
    "tags": []
   },
   "source": [
    "## 2. Contrastive Learning Model"
   ]
  },
  {
   "cell_type": "code",
   "execution_count": 11,
   "id": "0e1b7303",
   "metadata": {
    "execution": {
     "iopub.execute_input": "2022-04-15T15:07:11.875398Z",
     "iopub.status.busy": "2022-04-15T15:07:11.875188Z",
     "iopub.status.idle": "2022-04-15T15:07:17.648093Z",
     "shell.execute_reply": "2022-04-15T15:07:17.647546Z"
    },
    "papermill": {
     "duration": 5.981218,
     "end_time": "2022-04-15T15:07:17.654517",
     "exception": false,
     "start_time": "2022-04-15T15:07:11.673299",
     "status": "completed"
    },
    "tags": []
   },
   "outputs": [
    {
     "name": "stderr",
     "output_type": "stream",
     "text": [
      "Some weights of the model checkpoint at distilbert-base-uncased were not used when initializing DistilBertCLModel: ['vocab_layer_norm.bias', 'vocab_projector.bias', 'vocab_transform.bias', 'vocab_layer_norm.weight', 'vocab_transform.weight', 'vocab_projector.weight']\n",
      "- This IS expected if you are initializing DistilBertCLModel from the checkpoint of a model trained on another task or with another architecture (e.g. initializing a BertForSequenceClassification model from a BertForPreTraining model).\n",
      "- This IS NOT expected if you are initializing DistilBertCLModel from the checkpoint of a model that you expect to be exactly identical (initializing a BertForSequenceClassification model from a BertForSequenceClassification model).\n"
     ]
    }
   ],
   "source": [
    "import torch\n",
    "import torch.nn as nn\n",
    "\n",
    "from transformers import AutoTokenizer, DistilBertModel, DistilBertPreTrainedModel, AutoConfig\n",
    "from transformers.modeling_outputs import SequenceClassifierOutput, BaseModelOutputWithPooling\n",
    "\n",
    "from distilface.modules.pooler import Pooler\n",
    "from distilface.modules.similarity import Similarity\n",
    "\n",
    "\n",
    "class DistilBertCLModel(DistilBertPreTrainedModel):\n",
    "    def __init__(self, config, pooler_type=pooling_method, temp=temperature):\n",
    "        super().__init__(config)\n",
    "\n",
    "        self.config = config\n",
    "        self.pooler_type = pooler_type\n",
    "        self.temp = temperature\n",
    "\n",
    "        self.distilbert = DistilBertModel(config)\n",
    "        self.pooler = Pooler(pooler_type)\n",
    "        self.sim = Similarity(temp=temp)\n",
    "\n",
    "        self.init_weights()\n",
    "\n",
    "    def forward(self, input_ids=None, attention_mask=None):\n",
    "        if self.training:\n",
    "            return self.cl_forward(self.distilbert, input_ids, attention_mask)\n",
    "        else:\n",
    "            return self.sent_emb(self.distilbert, input_ids, attention_mask)\n",
    "\n",
    "    def cl_forward(self, encoder, input_ids=None, attention_mask=None):\n",
    "        batch_size = input_ids.size(0)\n",
    "        num_sent = input_ids.size(1)  # Number of sentences in one instance: 2 sentences\n",
    "\n",
    "        # Flatten all input tensors\n",
    "        input_ids = input_ids.view((-1, input_ids.size(-1))) # (bs * num_sent, len)\n",
    "        attention_mask = attention_mask.view((-1, attention_mask.size(-1))) # (bs * num_sent len)\n",
    "\n",
    "        # Pre-trained Model Encoder\n",
    "        outputs = encoder(\n",
    "            input_ids,\n",
    "            attention_mask=attention_mask,\n",
    "            output_hidden_states=True,\n",
    "            return_dict=True,\n",
    "        )\n",
    "\n",
    "        # Pooling\n",
    "        pooler_output = self.pooler(attention_mask, outputs)\n",
    "        pooler_output = pooler_output.view((batch_size, num_sent, pooler_output.size(-1)))  # (bs, num_sent, hidden)\n",
    "\n",
    "        # Separate representation\n",
    "        z1, z2 = pooler_output[:, 0], pooler_output[:, 1]\n",
    "\n",
    "        # Cosine similarity\n",
    "        cos_sim = self.sim(z1.unsqueeze(1), z2.unsqueeze(0))\n",
    "\n",
    "        # Calculate contrastive loss\n",
    "        criterion = nn.CrossEntropyLoss()\n",
    "        labels = torch.arange(cos_sim.size(0)).long().to(self.device)\n",
    "        loss = criterion(cos_sim, labels)\n",
    "\n",
    "        return SequenceClassifierOutput(\n",
    "            loss=loss,\n",
    "            logits=cos_sim,\n",
    "            hidden_states=outputs.hidden_states,\n",
    "            attentions=outputs.attentions,\n",
    "        )\n",
    "\n",
    "    def sent_emb(self, encoder, input_ids=None, attention_mask=None):\n",
    "        outputs = encoder(\n",
    "            input_ids,\n",
    "            attention_mask=attention_mask,\n",
    "            output_hidden_states=True,\n",
    "            return_dict=True,\n",
    "        )\n",
    "        pooler_output = self.pooler(attention_mask, outputs)\n",
    "\n",
    "        return BaseModelOutputWithPooling(\n",
    "            pooler_output=pooler_output,\n",
    "            last_hidden_state=outputs.last_hidden_state,\n",
    "            hidden_states=outputs.hidden_states,\n",
    "        )\n",
    "\n",
    "\n",
    "pretrained_model_name = 'distilbert-base-uncased'\n",
    "\n",
    "device = torch.device(\"cuda\" if torch.cuda.is_available() else \"cpu\")\n",
    "config = AutoConfig.from_pretrained(pretrained_model_name)\n",
    "\n",
    "model = DistilBertCLModel.from_pretrained(pretrained_model_name, config=config).to(device)\n",
    "tokenizer = AutoTokenizer.from_pretrained(pretrained_model_name)\n",
    "\n",
    "model.eval();"
   ]
  },
  {
   "cell_type": "markdown",
   "id": "945cff38",
   "metadata": {
    "papermill": {
     "duration": 0.23311,
     "end_time": "2022-04-15T15:07:18.141545",
     "exception": false,
     "start_time": "2022-04-15T15:07:17.908435",
     "status": "completed"
    },
    "tags": []
   },
   "source": [
    "### 2.1 Initial DistilBERT embeddings performance"
   ]
  },
  {
   "cell_type": "code",
   "execution_count": 12,
   "id": "a824d248",
   "metadata": {
    "execution": {
     "iopub.execute_input": "2022-04-15T15:07:18.575406Z",
     "iopub.status.busy": "2022-04-15T15:07:18.574929Z",
     "iopub.status.idle": "2022-04-15T15:07:18.965816Z",
     "shell.execute_reply": "2022-04-15T15:07:18.965040Z"
    },
    "papermill": {
     "duration": 0.599156,
     "end_time": "2022-04-15T15:07:18.967633",
     "exception": false,
     "start_time": "2022-04-15T15:07:18.368477",
     "status": "completed"
    },
    "tags": []
   },
   "outputs": [],
   "source": [
    "import senteval\n",
    "\n",
    "\n",
    "def prepare(params, samples):\n",
    "    return\n",
    "\n",
    "def batcher(params, batch):\n",
    "    sentences = [\" \".join(s) for s in batch]\n",
    "    batch = tokenizer.batch_encode_plus(\n",
    "        sentences,\n",
    "        return_tensors=\"pt\",\n",
    "        padding=True,\n",
    "    )\n",
    "\n",
    "    for k in batch:\n",
    "        batch[k] = batch[k].to(device)\n",
    "\n",
    "    with torch.no_grad():\n",
    "        outputs = model(**batch)\n",
    "\n",
    "    pooled_result = outputs.pooler_output.cpu()\n",
    "\n",
    "    return pooled_result\n",
    "\n",
    "\n",
    "def evaluate_model():\n",
    "    PATH_TO_DATA = \"./data\"\n",
    "\n",
    "    params = {\"task_path\": PATH_TO_DATA, \"usepytorch\": True, \"kfold\": 10}\n",
    "    tasks = [\"STSBenchmark\", 'STS12', 'STS13', 'STS14', 'STS15']\n",
    "\n",
    "    se = senteval.engine.SE(params, batcher, prepare)\n",
    "    results = se.eval(tasks)\n",
    "\n",
    "    print('STS12: ', results[\"STS12\"][\"all\"][\"spearman\"][\"all\"])\n",
    "    print('STS13: ', results[\"STS13\"][\"all\"][\"spearman\"][\"all\"])\n",
    "    print('STS14: ', results[\"STS14\"][\"all\"][\"spearman\"][\"all\"])\n",
    "    print('STS15: ', results[\"STS15\"][\"all\"][\"spearman\"][\"all\"])\n",
    "    print('STSB: ', results[\"STSBenchmark\"][\"test\"][\"spearman\"][0])\n",
    "\n",
    "    return results"
   ]
  },
  {
   "cell_type": "markdown",
   "id": "ddd9c423",
   "metadata": {
    "papermill": {
     "duration": 0.255862,
     "end_time": "2022-04-15T15:07:19.403453",
     "exception": false,
     "start_time": "2022-04-15T15:07:19.147591",
     "status": "completed"
    },
    "tags": []
   },
   "source": [
    "## 3. Trainer"
   ]
  },
  {
   "cell_type": "code",
   "execution_count": 13,
   "id": "f7757135",
   "metadata": {
    "execution": {
     "iopub.execute_input": "2022-04-15T15:07:19.845932Z",
     "iopub.status.busy": "2022-04-15T15:07:19.845339Z",
     "iopub.status.idle": "2022-04-15T15:07:19.977151Z",
     "shell.execute_reply": "2022-04-15T15:07:19.976160Z"
    },
    "papermill": {
     "duration": 0.373583,
     "end_time": "2022-04-15T15:07:19.978520",
     "exception": false,
     "start_time": "2022-04-15T15:07:19.604937",
     "status": "completed"
    },
    "tags": []
   },
   "outputs": [
    {
     "name": "stderr",
     "output_type": "stream",
     "text": [
      "max_steps is given, it will override any value given in num_train_epochs\n"
     ]
    }
   ],
   "source": [
    "# import mlflow\n",
    "\n",
    "from transformers import Trainer, TrainingArguments\n",
    "from transformers import default_data_collator\n",
    "\n",
    "training_args = TrainingArguments(\n",
    "    output_dir='output',\n",
    "    overwrite_output_dir=True,\n",
    "    learning_rate=learning_rate,\n",
    "    num_train_epochs=epochs,\n",
    "    max_steps=max_steps,\n",
    "    per_device_train_batch_size=batch_size,\n",
    "    per_device_eval_batch_size=batch_size,\n",
    "    save_strategy='steps',\n",
    "    save_steps=max_steps,\n",
    "    fp16=fp16,\n",
    ")\n",
    "\n",
    "model.train()\n",
    "\n",
    "trainer = Trainer(\n",
    "    model=model,\n",
    "    args=training_args,\n",
    "    train_dataset=train_dataset,\n",
    "    tokenizer=tokenizer,\n",
    "    data_collator=default_data_collator\n",
    ")"
   ]
  },
  {
   "cell_type": "code",
   "execution_count": 14,
   "id": "93ae6005",
   "metadata": {
    "execution": {
     "iopub.execute_input": "2022-04-15T15:07:20.511883Z",
     "iopub.status.busy": "2022-04-15T15:07:20.511339Z",
     "iopub.status.idle": "2022-04-15T16:21:18.600866Z",
     "shell.execute_reply": "2022-04-15T16:21:18.600285Z"
    },
    "papermill": {
     "duration": 4438.315582,
     "end_time": "2022-04-15T16:21:18.602294",
     "exception": false,
     "start_time": "2022-04-15T15:07:20.286712",
     "status": "completed"
    },
    "tags": []
   },
   "outputs": [
    {
     "name": "stderr",
     "output_type": "stream",
     "text": [
      "/opt/conda/lib/python3.8/site-packages/transformers/optimization.py:306: FutureWarning: This implementation of AdamW is deprecated and will be removed in a future version. Use the PyTorch implementation torch.optim.AdamW instead, or set `no_deprecation_warning=True` to disable this warning\n",
      "  warnings.warn(\n",
      "***** Running training *****\n"
     ]
    },
    {
     "name": "stderr",
     "output_type": "stream",
     "text": [
      "  Num examples = 1000000\n"
     ]
    },
    {
     "name": "stderr",
     "output_type": "stream",
     "text": [
      "  Num Epochs = 2\n"
     ]
    },
    {
     "name": "stderr",
     "output_type": "stream",
     "text": [
      "  Instantaneous batch size per device = 128\n"
     ]
    },
    {
     "name": "stderr",
     "output_type": "stream",
     "text": [
      "  Total train batch size (w. parallel, distributed & accumulation) = 128\n"
     ]
    },
    {
     "name": "stderr",
     "output_type": "stream",
     "text": [
      "  Gradient Accumulation steps = 1\n"
     ]
    },
    {
     "name": "stderr",
     "output_type": "stream",
     "text": [
      "  Total optimization steps = 15000\n"
     ]
    },
    {
     "data": {
      "text/html": [
       "\n",
       "    <div>\n",
       "      \n",
       "      <progress value='15000' max='15000' style='width:300px; height:20px; vertical-align: middle;'></progress>\n",
       "      [15000/15000 1:13:56, Epoch 1/2]\n",
       "    </div>\n",
       "    <table border=\"1\" class=\"dataframe\">\n",
       "  <thead>\n",
       " <tr style=\"text-align: left;\">\n",
       "      <th>Step</th>\n",
       "      <th>Training Loss</th>\n",
       "    </tr>\n",
       "  </thead>\n",
       "  <tbody>\n",
       "    <tr>\n",
       "      <td>500</td>\n",
       "      <td>0.032100</td>\n",
       "    </tr>\n",
       "    <tr>\n",
       "      <td>1000</td>\n",
       "      <td>0.000400</td>\n",
       "    </tr>\n",
       "    <tr>\n",
       "      <td>1500</td>\n",
       "      <td>0.000300</td>\n",
       "    </tr>\n",
       "    <tr>\n",
       "      <td>2000</td>\n",
       "      <td>0.000200</td>\n",
       "    </tr>\n",
       "    <tr>\n",
       "      <td>2500</td>\n",
       "      <td>0.000200</td>\n",
       "    </tr>\n",
       "    <tr>\n",
       "      <td>3000</td>\n",
       "      <td>0.000200</td>\n",
       "    </tr>\n",
       "    <tr>\n",
       "      <td>3500</td>\n",
       "      <td>0.000100</td>\n",
       "    </tr>\n",
       "    <tr>\n",
       "      <td>4000</td>\n",
       "      <td>0.000200</td>\n",
       "    </tr>\n",
       "    <tr>\n",
       "      <td>4500</td>\n",
       "      <td>0.000200</td>\n",
       "    </tr>\n",
       "    <tr>\n",
       "      <td>5000</td>\n",
       "      <td>0.000100</td>\n",
       "    </tr>\n",
       "    <tr>\n",
       "      <td>5500</td>\n",
       "      <td>0.000300</td>\n",
       "    </tr>\n",
       "    <tr>\n",
       "      <td>6000</td>\n",
       "      <td>0.000200</td>\n",
       "    </tr>\n",
       "    <tr>\n",
       "      <td>6500</td>\n",
       "      <td>0.000200</td>\n",
       "    </tr>\n",
       "    <tr>\n",
       "      <td>7000</td>\n",
       "      <td>0.000200</td>\n",
       "    </tr>\n",
       "    <tr>\n",
       "      <td>7500</td>\n",
       "      <td>0.000100</td>\n",
       "    </tr>\n",
       "    <tr>\n",
       "      <td>8000</td>\n",
       "      <td>0.000200</td>\n",
       "    </tr>\n",
       "    <tr>\n",
       "      <td>8500</td>\n",
       "      <td>0.000200</td>\n",
       "    </tr>\n",
       "    <tr>\n",
       "      <td>9000</td>\n",
       "      <td>0.000100</td>\n",
       "    </tr>\n",
       "    <tr>\n",
       "      <td>9500</td>\n",
       "      <td>0.000200</td>\n",
       "    </tr>\n",
       "    <tr>\n",
       "      <td>10000</td>\n",
       "      <td>0.000100</td>\n",
       "    </tr>\n",
       "    <tr>\n",
       "      <td>10500</td>\n",
       "      <td>0.000200</td>\n",
       "    </tr>\n",
       "    <tr>\n",
       "      <td>11000</td>\n",
       "      <td>0.000200</td>\n",
       "    </tr>\n",
       "    <tr>\n",
       "      <td>11500</td>\n",
       "      <td>0.000200</td>\n",
       "    </tr>\n",
       "    <tr>\n",
       "      <td>12000</td>\n",
       "      <td>0.000200</td>\n",
       "    </tr>\n",
       "    <tr>\n",
       "      <td>12500</td>\n",
       "      <td>0.000000</td>\n",
       "    </tr>\n",
       "    <tr>\n",
       "      <td>13000</td>\n",
       "      <td>0.000200</td>\n",
       "    </tr>\n",
       "    <tr>\n",
       "      <td>13500</td>\n",
       "      <td>0.000100</td>\n",
       "    </tr>\n",
       "    <tr>\n",
       "      <td>14000</td>\n",
       "      <td>0.000100</td>\n",
       "    </tr>\n",
       "    <tr>\n",
       "      <td>14500</td>\n",
       "      <td>0.000100</td>\n",
       "    </tr>\n",
       "    <tr>\n",
       "      <td>15000</td>\n",
       "      <td>0.000200</td>\n",
       "    </tr>\n",
       "  </tbody>\n",
       "</table><p>"
      ],
      "text/plain": [
       "<IPython.core.display.HTML object>"
      ]
     },
     "metadata": {},
     "output_type": "display_data"
    },
    {
     "name": "stderr",
     "output_type": "stream",
     "text": [
      "Saving model checkpoint to output/checkpoint-15000\n"
     ]
    },
    {
     "name": "stderr",
     "output_type": "stream",
     "text": [
      "Configuration saved in output/checkpoint-15000/config.json\n"
     ]
    },
    {
     "name": "stderr",
     "output_type": "stream",
     "text": [
      "Model weights saved in output/checkpoint-15000/pytorch_model.bin\n"
     ]
    },
    {
     "name": "stderr",
     "output_type": "stream",
     "text": [
      "tokenizer config file saved in output/checkpoint-15000/tokenizer_config.json\n"
     ]
    },
    {
     "name": "stderr",
     "output_type": "stream",
     "text": [
      "Special tokens file saved in output/checkpoint-15000/special_tokens_map.json\n"
     ]
    },
    {
     "name": "stderr",
     "output_type": "stream",
     "text": [
      "\n",
      "\n",
      "Training completed. Do not forget to share your model on huggingface.co/models =)\n",
      "\n",
      "\n"
     ]
    }
   ],
   "source": [
    "train_result = trainer.train()"
   ]
  },
  {
   "cell_type": "code",
   "execution_count": 15,
   "id": "18899b23",
   "metadata": {
    "execution": {
     "iopub.execute_input": "2022-04-15T16:21:18.913287Z",
     "iopub.status.busy": "2022-04-15T16:21:18.912599Z",
     "iopub.status.idle": "2022-04-15T16:21:18.958914Z",
     "shell.execute_reply": "2022-04-15T16:21:18.958292Z"
    },
    "papermill": {
     "duration": 0.203654,
     "end_time": "2022-04-15T16:21:18.960624",
     "exception": false,
     "start_time": "2022-04-15T16:21:18.756970",
     "status": "completed"
    },
    "tags": []
   },
   "outputs": [],
   "source": [
    "import pandas as pd\n",
    "\n",
    "pd.DataFrame(trainer.state.log_history).to_csv(f'logs/cl-distilled_tuning_v1_ms{max_steps}_fp16.csv', index=False)"
   ]
  },
  {
   "cell_type": "markdown",
   "id": "d3f5a781",
   "metadata": {
    "papermill": {
     "duration": 0.223391,
     "end_time": "2022-04-15T16:21:19.486122",
     "exception": false,
     "start_time": "2022-04-15T16:21:19.262731",
     "status": "completed"
    },
    "tags": []
   },
   "source": [
    "## 4. Evaluate DistilBert CL Model performance"
   ]
  },
  {
   "cell_type": "code",
   "execution_count": 16,
   "id": "f805087f",
   "metadata": {
    "execution": {
     "iopub.execute_input": "2022-04-15T16:21:19.960851Z",
     "iopub.status.busy": "2022-04-15T16:21:19.960611Z",
     "iopub.status.idle": "2022-04-15T16:21:36.900301Z",
     "shell.execute_reply": "2022-04-15T16:21:36.899784Z"
    },
    "papermill": {
     "duration": 17.192669,
     "end_time": "2022-04-15T16:21:36.901784",
     "exception": false,
     "start_time": "2022-04-15T16:21:19.709115",
     "status": "completed"
    },
    "tags": []
   },
   "outputs": [
    {
     "name": "stderr",
     "output_type": "stream",
     "text": [
      "/opt/conda/lib/python3.8/site-packages/SentEval-0.1.0-py3.8.egg/senteval/sts.py:42: VisibleDeprecationWarning: Creating an ndarray from ragged nested sequences (which is a list-or-tuple of lists-or-tuples-or ndarrays with different lengths or shapes) is deprecated. If you meant to do this, you must specify 'dtype=object' when creating the ndarray.\n",
      "/opt/conda/lib/python3.8/site-packages/SentEval-0.1.0-py3.8.egg/senteval/sts.py:43: VisibleDeprecationWarning: Creating an ndarray from ragged nested sequences (which is a list-or-tuple of lists-or-tuples-or ndarrays with different lengths or shapes) is deprecated. If you meant to do this, you must specify 'dtype=object' when creating the ndarray.\n"
     ]
    },
    {
     "name": "stdout",
     "output_type": "stream",
     "text": [
      "STS12:  0.6123792810382908\n",
      "STS13:  0.7427369829236365\n",
      "STS14:  0.6807182704395472\n",
      "STS15:  0.7694072697934891\n",
      "STSB:  0.7212500178239807\n"
     ]
    },
    {
     "data": {
      "text/plain": [
       "{'STSBenchmark': {'train': {'pearson': (0.7515239330421437, 0.0),\n",
       "   'spearman': SpearmanrResult(correlation=0.7315360940614638, pvalue=0.0),\n",
       "   'nsamples': 5749},\n",
       "  'dev': {'pearson': (0.7617346408043042, 1.1485430055776022e-284),\n",
       "   'spearman': SpearmanrResult(correlation=0.7674693403444884, pvalue=1.5456145822328632e-291),\n",
       "   'nsamples': 1500},\n",
       "  'test': {'pearson': (0.7247360654662132, 5.2829114896912034e-225),\n",
       "   'spearman': SpearmanrResult(correlation=0.7212500178239807, pvalue=7.638470052581685e-222),\n",
       "   'nsamples': 1379},\n",
       "  'all': {'pearson': {'all': 0.7458318936049174,\n",
       "    'mean': 0.7459982131042203,\n",
       "    'wmean': 0.7490176270912897},\n",
       "   'spearman': {'all': 0.7394889312949979,\n",
       "    'mean': 0.7400851507433109,\n",
       "    'wmean': 0.7361391736040053}}},\n",
       " 'STS12': {'MSRpar': {'pearson': (0.6066368412482457, 1.4027867350494307e-76),\n",
       "   'spearman': SpearmanrResult(correlation=0.6100767153828336, pvalue=1.1622912000471891e-77),\n",
       "   'nsamples': 750},\n",
       "  'MSRvid': {'pearson': (0.7900694655332956, 3.948629898707732e-161),\n",
       "   'spearman': SpearmanrResult(correlation=0.7872669651364539, pvalue=3.1439795394347454e-159),\n",
       "   'nsamples': 750},\n",
       "  'SMTeuroparl': {'pearson': (0.5228524533764576, 1.44657157238147e-33),\n",
       "   'spearman': SpearmanrResult(correlation=0.6173461412247179, pvalue=1.4533354236387143e-49),\n",
       "   'nsamples': 459},\n",
       "  'surprise.OnWN': {'pearson': (0.7205217235566692, 4.761407957511831e-121),\n",
       "   'spearman': SpearmanrResult(correlation=0.6941519432521984, pvalue=6.762268513292136e-109),\n",
       "   'nsamples': 750},\n",
       "  'surprise.SMTnews': {'pearson': (0.6088277082391764, 7.819086106063815e-42),\n",
       "   'spearman': SpearmanrResult(correlation=0.5406111774929245, pvalue=1.1659303632585382e-31),\n",
       "   'nsamples': 399},\n",
       "  'all': {'pearson': {'all': 0.6389591304405848,\n",
       "    'mean': 0.6497816383907689,\n",
       "    'wmean': 0.6662910406823949},\n",
       "   'spearman': {'all': 0.6123792810382908,\n",
       "    'mean': 0.6498905884978255,\n",
       "    'wmean': 0.6652791043984676}}},\n",
       " 'STS13': {'FNWN': {'pearson': (0.5836912838693947, 1.2007697328022088e-18),\n",
       "   'spearman': SpearmanrResult(correlation=0.5955999173968072, pvalue=1.5726941961076886e-19),\n",
       "   'nsamples': 189},\n",
       "  'headlines': {'pearson': (0.7768819953640725, 1.9877779111698292e-152),\n",
       "   'spearman': SpearmanrResult(correlation=0.7749512746082091, pvalue=3.329237599221603e-151),\n",
       "   'nsamples': 750},\n",
       "  'OnWN': {'pearson': (0.7355963082918852, 1.289535322798187e-96),\n",
       "   'spearman': SpearmanrResult(correlation=0.7386794245850173, pvalue=7.94911662391041e-98),\n",
       "   'nsamples': 561},\n",
       "  'all': {'pearson': {'all': 0.7261906876025175,\n",
       "    'mean': 0.6987231958417842,\n",
       "    'wmean': 0.7370991187507451},\n",
       "   'spearman': {'all': 0.7427369829236365,\n",
       "    'mean': 0.7030768721966778,\n",
       "    'wmean': 0.7387873316908987}}},\n",
       " 'STS14': {'deft-forum': {'pearson': (0.5347957571400884,\n",
       "    1.1830616723211926e-34),\n",
       "   'spearman': SpearmanrResult(correlation=0.5300953632709772, pvalue=5.706800375780031e-34),\n",
       "   'nsamples': 450},\n",
       "  'deft-news': {'pearson': (0.7815033396716583, 5.189244002296357e-63),\n",
       "   'spearman': SpearmanrResult(correlation=0.7609931043450706, pvalue=6.068563024079542e-58),\n",
       "   'nsamples': 300},\n",
       "  'headlines': {'pearson': (0.7537974477600721, 1.5096375715134345e-138),\n",
       "   'spearman': SpearmanrResult(correlation=0.7227728819607027, pvalue=3.759691030437186e-122),\n",
       "   'nsamples': 750},\n",
       "  'images': {'pearson': (0.7568637593377713, 2.66211018342957e-140),\n",
       "   'spearman': SpearmanrResult(correlation=0.7335799738065016, pvalue=1.336351943392972e-127),\n",
       "   'nsamples': 750},\n",
       "  'OnWN': {'pearson': (0.7947001752278263, 2.458128636338806e-164),\n",
       "   'spearman': SpearmanrResult(correlation=0.8071626139626036, pvalue=2.1680106630344357e-173),\n",
       "   'nsamples': 750},\n",
       "  'tweet-news': {'pearson': (0.7878324194432547, 1.3068878912900136e-159),\n",
       "   'spearman': SpearmanrResult(correlation=0.7361438213758208, pvalue=6.220182559585882e-129),\n",
       "   'nsamples': 750},\n",
       "  'all': {'pearson': {'all': 0.698957857292337,\n",
       "    'mean': 0.7349154830967786,\n",
       "    'wmean': 0.7453345183843281},\n",
       "   'spearman': {'all': 0.6807182704395472,\n",
       "    'mean': 0.7151246264536127,\n",
       "    'wmean': 0.7244227501612487}}},\n",
       " 'STS15': {'answers-forums': {'pearson': (0.7468839240408406,\n",
       "    4.395443480807146e-68),\n",
       "   'spearman': SpearmanrResult(correlation=0.743887732018252, pvalue=2.876259541043318e-67),\n",
       "   'nsamples': 375},\n",
       "  'answers-students': {'pearson': (0.7145820497333661,\n",
       "    3.4310939829380838e-118),\n",
       "   'spearman': SpearmanrResult(correlation=0.7154321821423862, pvalue=1.351814600102926e-118),\n",
       "   'nsamples': 750},\n",
       "  'belief': {'pearson': (0.7905579507081923, 1.8963353812316076e-81),\n",
       "   'spearman': SpearmanrResult(correlation=0.7888116686520356, pvalue=7.453533789162389e-81),\n",
       "   'nsamples': 375},\n",
       "  'headlines': {'pearson': (0.7939982750061712, 7.617670566989855e-164),\n",
       "   'spearman': SpearmanrResult(correlation=0.7944584496765205, pvalue=3.630698380110397e-164),\n",
       "   'nsamples': 750},\n",
       "  'images': {'pearson': (0.8371437940843955, 3.51680493057494e-198),\n",
       "   'spearman': SpearmanrResult(correlation=0.8405543074917446, pvalue=2.558656480320697e-201),\n",
       "   'nsamples': 750},\n",
       "  'all': {'pearson': {'all': 0.7645252688853137,\n",
       "    'mean': 0.7766331987145932,\n",
       "    'wmean': 0.7786112640496125},\n",
       "   'spearman': {'all': 0.7694072697934891,\n",
       "    'mean': 0.7766288679961877,\n",
       "    'wmean': 0.7791986599114489}}}}"
      ]
     },
     "execution_count": 16,
     "metadata": {},
     "output_type": "execute_result"
    }
   ],
   "source": [
    "model.eval()\n",
    "\n",
    "results = evaluate_model()\n",
    "results"
   ]
  }
 ],
 "metadata": {
  "celltoolbar": "Tags",
  "kernelspec": {
   "display_name": "Python 3 (ipykernel)",
   "language": "python",
   "name": "python3"
  },
  "language_info": {
   "codemirror_mode": {
    "name": "ipython",
    "version": 3
   },
   "file_extension": ".py",
   "mimetype": "text/x-python",
   "name": "python",
   "nbconvert_exporter": "python",
   "pygments_lexer": "ipython3",
   "version": "3.8.12"
  },
  "papermill": {
   "default_parameters": {},
   "duration": 4475.511494,
   "end_time": "2022-04-15T16:21:37.847420",
   "environment_variables": {},
   "exception": null,
   "input_path": "notebooks/training/cl-distilbert_tuning_v1.ipynb",
   "output_path": "notebooks/training/cl-distilbert_tuning_v1_ms15000.ipynb",
   "parameters": {
    "max_steps": 15000
   },
   "start_time": "2022-04-15T15:07:02.335926",
   "version": "2.3.4"
  },
  "toc": {
   "base_numbering": 1,
   "nav_menu": {},
   "number_sections": false,
   "sideBar": true,
   "skip_h1_title": false,
   "title_cell": "Table of Contents",
   "title_sidebar": "Contents",
   "toc_cell": false,
   "toc_position": {},
   "toc_section_display": true,
   "toc_window_display": false
  },
  "widgets": {
   "application/vnd.jupyter.widget-state+json": {
    "state": {
     "19375f768d01439b82d2dc7016aca92a": {
      "model_module": "@jupyter-widgets/base",
      "model_module_version": "1.2.0",
      "model_name": "LayoutModel",
      "state": {
       "_model_module": "@jupyter-widgets/base",
       "_model_module_version": "1.2.0",
       "_model_name": "LayoutModel",
       "_view_count": null,
       "_view_module": "@jupyter-widgets/base",
       "_view_module_version": "1.2.0",
       "_view_name": "LayoutView",
       "align_content": null,
       "align_items": null,
       "align_self": null,
       "border": null,
       "bottom": null,
       "display": null,
       "flex": null,
       "flex_flow": null,
       "grid_area": null,
       "grid_auto_columns": null,
       "grid_auto_flow": null,
       "grid_auto_rows": null,
       "grid_column": null,
       "grid_gap": null,
       "grid_row": null,
       "grid_template_areas": null,
       "grid_template_columns": null,
       "grid_template_rows": null,
       "height": null,
       "justify_content": null,
       "justify_items": null,
       "left": null,
       "margin": null,
       "max_height": null,
       "max_width": null,
       "min_height": null,
       "min_width": null,
       "object_fit": null,
       "object_position": null,
       "order": null,
       "overflow": null,
       "overflow_x": null,
       "overflow_y": null,
       "padding": null,
       "right": null,
       "top": null,
       "visibility": null,
       "width": null
      }
     },
     "1b695cda3f074a0da506a03317b768cf": {
      "model_module": "@jupyter-widgets/base",
      "model_module_version": "1.2.0",
      "model_name": "LayoutModel",
      "state": {
       "_model_module": "@jupyter-widgets/base",
       "_model_module_version": "1.2.0",
       "_model_name": "LayoutModel",
       "_view_count": null,
       "_view_module": "@jupyter-widgets/base",
       "_view_module_version": "1.2.0",
       "_view_name": "LayoutView",
       "align_content": null,
       "align_items": null,
       "align_self": null,
       "border": null,
       "bottom": null,
       "display": null,
       "flex": null,
       "flex_flow": null,
       "grid_area": null,
       "grid_auto_columns": null,
       "grid_auto_flow": null,
       "grid_auto_rows": null,
       "grid_column": null,
       "grid_gap": null,
       "grid_row": null,
       "grid_template_areas": null,
       "grid_template_columns": null,
       "grid_template_rows": null,
       "height": null,
       "justify_content": null,
       "justify_items": null,
       "left": null,
       "margin": null,
       "max_height": null,
       "max_width": null,
       "min_height": null,
       "min_width": null,
       "object_fit": null,
       "object_position": null,
       "order": null,
       "overflow": null,
       "overflow_x": null,
       "overflow_y": null,
       "padding": null,
       "right": null,
       "top": null,
       "visibility": null,
       "width": null
      }
     },
     "1dc1dc93a4f04253953572c638d6dbbc": {
      "model_module": "@jupyter-widgets/base",
      "model_module_version": "1.2.0",
      "model_name": "LayoutModel",
      "state": {
       "_model_module": "@jupyter-widgets/base",
       "_model_module_version": "1.2.0",
       "_model_name": "LayoutModel",
       "_view_count": null,
       "_view_module": "@jupyter-widgets/base",
       "_view_module_version": "1.2.0",
       "_view_name": "LayoutView",
       "align_content": null,
       "align_items": null,
       "align_self": null,
       "border": null,
       "bottom": null,
       "display": null,
       "flex": null,
       "flex_flow": null,
       "grid_area": null,
       "grid_auto_columns": null,
       "grid_auto_flow": null,
       "grid_auto_rows": null,
       "grid_column": null,
       "grid_gap": null,
       "grid_row": null,
       "grid_template_areas": null,
       "grid_template_columns": null,
       "grid_template_rows": null,
       "height": null,
       "justify_content": null,
       "justify_items": null,
       "left": null,
       "margin": null,
       "max_height": null,
       "max_width": null,
       "min_height": null,
       "min_width": null,
       "object_fit": null,
       "object_position": null,
       "order": null,
       "overflow": null,
       "overflow_x": null,
       "overflow_y": null,
       "padding": null,
       "right": null,
       "top": null,
       "visibility": null,
       "width": null
      }
     },
     "3a378bba99104724b2fea2ac76af1a7e": {
      "model_module": "@jupyter-widgets/controls",
      "model_module_version": "1.5.0",
      "model_name": "HTMLModel",
      "state": {
       "_dom_classes": [],
       "_model_module": "@jupyter-widgets/controls",
       "_model_module_version": "1.5.0",
       "_model_name": "HTMLModel",
       "_view_count": null,
       "_view_module": "@jupyter-widgets/controls",
       "_view_module_version": "1.5.0",
       "_view_name": "HTMLView",
       "description": "",
       "description_tooltip": null,
       "layout": "IPY_MODEL_19375f768d01439b82d2dc7016aca92a",
       "placeholder": "​",
       "style": "IPY_MODEL_def63801d39940e78c6ce6ecffa0afe7",
       "value": "100%"
      }
     },
     "4d534db517974f8f83b324a2a09da639": {
      "model_module": "@jupyter-widgets/controls",
      "model_module_version": "1.5.0",
      "model_name": "HBoxModel",
      "state": {
       "_dom_classes": [],
       "_model_module": "@jupyter-widgets/controls",
       "_model_module_version": "1.5.0",
       "_model_name": "HBoxModel",
       "_view_count": null,
       "_view_module": "@jupyter-widgets/controls",
       "_view_module_version": "1.5.0",
       "_view_name": "HBoxView",
       "box_style": "",
       "children": [
        "IPY_MODEL_3a378bba99104724b2fea2ac76af1a7e",
        "IPY_MODEL_640c22a8b19d4fc2be8b4f80697aa476",
        "IPY_MODEL_d8b05cbcdf464ad0b9ecd47652e03fdf"
       ],
       "layout": "IPY_MODEL_1b695cda3f074a0da506a03317b768cf"
      }
     },
     "640c22a8b19d4fc2be8b4f80697aa476": {
      "model_module": "@jupyter-widgets/controls",
      "model_module_version": "1.5.0",
      "model_name": "FloatProgressModel",
      "state": {
       "_dom_classes": [],
       "_model_module": "@jupyter-widgets/controls",
       "_model_module_version": "1.5.0",
       "_model_name": "FloatProgressModel",
       "_view_count": null,
       "_view_module": "@jupyter-widgets/controls",
       "_view_module_version": "1.5.0",
       "_view_name": "ProgressView",
       "bar_style": "success",
       "description": "",
       "description_tooltip": null,
       "layout": "IPY_MODEL_1dc1dc93a4f04253953572c638d6dbbc",
       "max": 1,
       "min": 0,
       "orientation": "horizontal",
       "style": "IPY_MODEL_883ac37451e04460a2268beb1d846f8b",
       "value": 1
      }
     },
     "80bf436547774acfbc92fa2fa3c05620": {
      "model_module": "@jupyter-widgets/controls",
      "model_module_version": "1.5.0",
      "model_name": "DescriptionStyleModel",
      "state": {
       "_model_module": "@jupyter-widgets/controls",
       "_model_module_version": "1.5.0",
       "_model_name": "DescriptionStyleModel",
       "_view_count": null,
       "_view_module": "@jupyter-widgets/base",
       "_view_module_version": "1.2.0",
       "_view_name": "StyleView",
       "description_width": ""
      }
     },
     "883ac37451e04460a2268beb1d846f8b": {
      "model_module": "@jupyter-widgets/controls",
      "model_module_version": "1.5.0",
      "model_name": "ProgressStyleModel",
      "state": {
       "_model_module": "@jupyter-widgets/controls",
       "_model_module_version": "1.5.0",
       "_model_name": "ProgressStyleModel",
       "_view_count": null,
       "_view_module": "@jupyter-widgets/base",
       "_view_module_version": "1.2.0",
       "_view_name": "StyleView",
       "bar_color": null,
       "description_width": ""
      }
     },
     "d8b05cbcdf464ad0b9ecd47652e03fdf": {
      "model_module": "@jupyter-widgets/controls",
      "model_module_version": "1.5.0",
      "model_name": "HTMLModel",
      "state": {
       "_dom_classes": [],
       "_model_module": "@jupyter-widgets/controls",
       "_model_module_version": "1.5.0",
       "_model_name": "HTMLModel",
       "_view_count": null,
       "_view_module": "@jupyter-widgets/controls",
       "_view_module_version": "1.5.0",
       "_view_name": "HTMLView",
       "description": "",
       "description_tooltip": null,
       "layout": "IPY_MODEL_f1836366b3a34f5c8b661dddf846ea9f",
       "placeholder": "​",
       "style": "IPY_MODEL_80bf436547774acfbc92fa2fa3c05620",
       "value": " 1/1 [00:00&lt;00:00, 50.22it/s]"
      }
     },
     "def63801d39940e78c6ce6ecffa0afe7": {
      "model_module": "@jupyter-widgets/controls",
      "model_module_version": "1.5.0",
      "model_name": "DescriptionStyleModel",
      "state": {
       "_model_module": "@jupyter-widgets/controls",
       "_model_module_version": "1.5.0",
       "_model_name": "DescriptionStyleModel",
       "_view_count": null,
       "_view_module": "@jupyter-widgets/base",
       "_view_module_version": "1.2.0",
       "_view_name": "StyleView",
       "description_width": ""
      }
     },
     "f1836366b3a34f5c8b661dddf846ea9f": {
      "model_module": "@jupyter-widgets/base",
      "model_module_version": "1.2.0",
      "model_name": "LayoutModel",
      "state": {
       "_model_module": "@jupyter-widgets/base",
       "_model_module_version": "1.2.0",
       "_model_name": "LayoutModel",
       "_view_count": null,
       "_view_module": "@jupyter-widgets/base",
       "_view_module_version": "1.2.0",
       "_view_name": "LayoutView",
       "align_content": null,
       "align_items": null,
       "align_self": null,
       "border": null,
       "bottom": null,
       "display": null,
       "flex": null,
       "flex_flow": null,
       "grid_area": null,
       "grid_auto_columns": null,
       "grid_auto_flow": null,
       "grid_auto_rows": null,
       "grid_column": null,
       "grid_gap": null,
       "grid_row": null,
       "grid_template_areas": null,
       "grid_template_columns": null,
       "grid_template_rows": null,
       "height": null,
       "justify_content": null,
       "justify_items": null,
       "left": null,
       "margin": null,
       "max_height": null,
       "max_width": null,
       "min_height": null,
       "min_width": null,
       "object_fit": null,
       "object_position": null,
       "order": null,
       "overflow": null,
       "overflow_x": null,
       "overflow_y": null,
       "padding": null,
       "right": null,
       "top": null,
       "visibility": null,
       "width": null
      }
     }
    },
    "version_major": 2,
    "version_minor": 0
   }
  }
 },
 "nbformat": 4,
 "nbformat_minor": 5
}
