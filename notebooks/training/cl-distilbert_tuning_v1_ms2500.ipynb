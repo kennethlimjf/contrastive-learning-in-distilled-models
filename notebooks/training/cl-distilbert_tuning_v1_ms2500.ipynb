{
 "cells": [
  {
   "cell_type": "markdown",
   "id": "e8d9dd76",
   "metadata": {
    "papermill": {
     "duration": 0.259191,
     "end_time": "2022-04-15T10:19:43.650387",
     "exception": false,
     "start_time": "2022-04-15T10:19:43.391196",
     "status": "completed"
    },
    "tags": []
   },
   "source": [
    "# Contrastive Learning From Scratch - DistilBERT\n",
    "\n",
    "An attempt to build contrastive learning model from scratch. Parts include:\n",
    "\n",
    "- Loading and preparing Wiki-1M data for model input\n",
    "- Contrastive learning model\n",
    "  - Forward passing using pre-trained model\n",
    "  - Constrastive layer\n",
    "  - Calculate loss\n",
    "- Training procedure\n",
    "  - Default trainer optimizer\n",
    "  - Default trainer hyper-parameters"
   ]
  },
  {
   "cell_type": "code",
   "execution_count": 1,
   "id": "7a9d3bd7",
   "metadata": {
    "execution": {
     "iopub.execute_input": "2022-04-15T10:19:44.081577Z",
     "iopub.status.busy": "2022-04-15T10:19:44.080711Z",
     "iopub.status.idle": "2022-04-15T10:19:44.102382Z",
     "shell.execute_reply": "2022-04-15T10:19:44.101455Z"
    },
    "papermill": {
     "duration": 0.238148,
     "end_time": "2022-04-15T10:19:44.103773",
     "exception": false,
     "start_time": "2022-04-15T10:19:43.865625",
     "status": "completed"
    },
    "tags": []
   },
   "outputs": [
    {
     "name": "stdout",
     "output_type": "stream",
     "text": [
      "/notebooks/contrastive-learning-in-distilled-models\n"
     ]
    }
   ],
   "source": [
    "import os\n",
    "\n",
    "# Set Project home\n",
    "PROJECT_HOME = os.path.join('/',\n",
    "                            'notebooks',\n",
    "                            'contrastive-learning-in-distilled-models')\n",
    "%cd {PROJECT_HOME}\n",
    "\n",
    "# Load project code\n",
    "%reload_ext autoreload\n",
    "%autoreload 2\n",
    "\n",
    "import sys\n",
    "sys.path.insert(0, f'{PROJECT_HOME}/src')\n",
    "\n",
    "import distilface"
   ]
  },
  {
   "cell_type": "code",
   "execution_count": 2,
   "id": "bd8cbde0",
   "metadata": {
    "execution": {
     "iopub.execute_input": "2022-04-15T10:19:44.518375Z",
     "iopub.status.busy": "2022-04-15T10:19:44.517633Z",
     "iopub.status.idle": "2022-04-15T10:19:45.424509Z",
     "shell.execute_reply": "2022-04-15T10:19:45.423665Z"
    },
    "papermill": {
     "duration": 1.084623,
     "end_time": "2022-04-15T10:19:45.426339",
     "exception": false,
     "start_time": "2022-04-15T10:19:44.341716",
     "status": "completed"
    },
    "tags": []
   },
   "outputs": [],
   "source": [
    "def seed_everything(seed: int):\n",
    "    import random, os\n",
    "    import numpy as np\n",
    "    import torch\n",
    "    \n",
    "    random.seed(seed)\n",
    "    os.environ['PYTHONHASHSEED'] = str(seed)\n",
    "    np.random.seed(seed)\n",
    "    torch.manual_seed(seed)\n",
    "    torch.cuda.manual_seed(seed)\n",
    "    torch.backends.cudnn.deterministic = True\n",
    "    torch.backends.cudnn.benchmark = True\n",
    "    \n",
    "seed_everything(42)"
   ]
  },
  {
   "cell_type": "code",
   "execution_count": 3,
   "id": "2774bfd5",
   "metadata": {
    "execution": {
     "iopub.execute_input": "2022-04-15T10:19:45.894565Z",
     "iopub.status.busy": "2022-04-15T10:19:45.893790Z",
     "iopub.status.idle": "2022-04-15T10:19:45.911892Z",
     "shell.execute_reply": "2022-04-15T10:19:45.911316Z"
    },
    "papermill": {
     "duration": 0.2351,
     "end_time": "2022-04-15T10:19:45.913133",
     "exception": false,
     "start_time": "2022-04-15T10:19:45.678033",
     "status": "completed"
    },
    "tags": [
     "parameters"
    ]
   },
   "outputs": [],
   "source": [
    "# Hyperparameters\n",
    "\n",
    "pooling_method = 'avg_last4'\n",
    "batch_size = 128\n",
    "learning_rate = 1e-5\n",
    "epochs = 1\n",
    "max_steps = 30_000\n",
    "temperature = 0.05\n",
    "max_len = 32\n",
    "fp16 = False"
   ]
  },
  {
   "cell_type": "code",
   "execution_count": 4,
   "id": "7756c13e",
   "metadata": {
    "execution": {
     "iopub.execute_input": "2022-04-15T10:19:46.348021Z",
     "iopub.status.busy": "2022-04-15T10:19:46.347273Z",
     "iopub.status.idle": "2022-04-15T10:19:46.364526Z",
     "shell.execute_reply": "2022-04-15T10:19:46.363953Z"
    },
    "papermill": {
     "duration": 0.246025,
     "end_time": "2022-04-15T10:19:46.365843",
     "exception": false,
     "start_time": "2022-04-15T10:19:46.119818",
     "status": "completed"
    },
    "tags": [
     "injected-parameters"
    ]
   },
   "outputs": [],
   "source": [
    "# Parameters\n",
    "max_steps = 2500\n"
   ]
  },
  {
   "cell_type": "markdown",
   "id": "2d7550a1",
   "metadata": {
    "papermill": {
     "duration": 0.390546,
     "end_time": "2022-04-15T10:19:46.962799",
     "exception": false,
     "start_time": "2022-04-15T10:19:46.572253",
     "status": "completed"
    },
    "tags": []
   },
   "source": [
    "## 1. Loading and Preparing Wiki-1M data\n",
    "\n",
    "Use huggingface `datasets` library to load local file data."
   ]
  },
  {
   "cell_type": "code",
   "execution_count": 5,
   "id": "7e097d85",
   "metadata": {
    "execution": {
     "iopub.execute_input": "2022-04-15T10:19:47.410077Z",
     "iopub.status.busy": "2022-04-15T10:19:47.409474Z",
     "iopub.status.idle": "2022-04-15T10:19:48.041171Z",
     "shell.execute_reply": "2022-04-15T10:19:48.040553Z"
    },
    "papermill": {
     "duration": 0.880343,
     "end_time": "2022-04-15T10:19:48.042687",
     "exception": false,
     "start_time": "2022-04-15T10:19:47.162344",
     "status": "completed"
    },
    "tags": []
   },
   "outputs": [
    {
     "name": "stderr",
     "output_type": "stream",
     "text": [
      "Using custom data configuration default-235a9b97f9ebd10e\n"
     ]
    },
    {
     "name": "stderr",
     "output_type": "stream",
     "text": [
      "Reusing dataset text (./data/text/default-235a9b97f9ebd10e/0.0.0/4b86d314f7236db91f0a0f5cda32d4375445e64c5eda2692655dd99c2dac68e8)\n"
     ]
    },
    {
     "data": {
      "application/vnd.jupyter.widget-view+json": {
       "model_id": "4692a1911d784ab5a5d87b4fb54e045d",
       "version_major": 2,
       "version_minor": 0
      },
      "text/plain": [
       "  0%|          | 0/1 [00:00<?, ?it/s]"
      ]
     },
     "metadata": {},
     "output_type": "display_data"
    }
   ],
   "source": [
    "import numpy as np\n",
    "\n",
    "from datasets import load_dataset\n",
    "\n",
    "data_files = {'train': 'data/training/wiki1m_for_simcse.txt'}\n",
    "# data_files = {'train': 'data/training/wiki5k.txt'}\n",
    "datasets = load_dataset('text', data_files=data_files, cache_dir='./data/')"
   ]
  },
  {
   "cell_type": "code",
   "execution_count": 6,
   "id": "75264261",
   "metadata": {
    "execution": {
     "iopub.execute_input": "2022-04-15T10:19:48.465987Z",
     "iopub.status.busy": "2022-04-15T10:19:48.465424Z",
     "iopub.status.idle": "2022-04-15T10:19:48.485941Z",
     "shell.execute_reply": "2022-04-15T10:19:48.485321Z"
    },
    "papermill": {
     "duration": 0.231138,
     "end_time": "2022-04-15T10:19:48.487465",
     "exception": false,
     "start_time": "2022-04-15T10:19:48.256327",
     "status": "completed"
    },
    "tags": []
   },
   "outputs": [],
   "source": [
    "# Unsupervised / Self-supervised dataset\n",
    "\n",
    "column_names = datasets[\"train\"].column_names\n",
    "sent0_cname = column_names[0]\n",
    "sent1_cname = column_names[0]"
   ]
  },
  {
   "cell_type": "code",
   "execution_count": 7,
   "id": "383c679c",
   "metadata": {
    "execution": {
     "iopub.execute_input": "2022-04-15T10:19:48.825944Z",
     "iopub.status.busy": "2022-04-15T10:19:48.825386Z",
     "iopub.status.idle": "2022-04-15T10:19:54.868215Z",
     "shell.execute_reply": "2022-04-15T10:19:54.867350Z"
    },
    "papermill": {
     "duration": 6.205352,
     "end_time": "2022-04-15T10:19:54.870024",
     "exception": false,
     "start_time": "2022-04-15T10:19:48.664672",
     "status": "completed"
    },
    "tags": []
   },
   "outputs": [],
   "source": [
    "from transformers import AutoTokenizer\n",
    "\n",
    "tokenizer = AutoTokenizer.from_pretrained('distilbert-base-uncased')"
   ]
  },
  {
   "cell_type": "code",
   "execution_count": 8,
   "id": "b708fe29",
   "metadata": {
    "execution": {
     "iopub.execute_input": "2022-04-15T10:19:55.290607Z",
     "iopub.status.busy": "2022-04-15T10:19:55.290006Z",
     "iopub.status.idle": "2022-04-15T10:19:55.314365Z",
     "shell.execute_reply": "2022-04-15T10:19:55.313521Z"
    },
    "papermill": {
     "duration": 0.259531,
     "end_time": "2022-04-15T10:19:55.315643",
     "exception": false,
     "start_time": "2022-04-15T10:19:55.056112",
     "status": "completed"
    },
    "tags": []
   },
   "outputs": [],
   "source": [
    "def prepare_features(examples):\n",
    "    total = len(examples[sent0_cname])\n",
    "\n",
    "    # Avoid \"None\" fields \n",
    "    for idx in range(total):\n",
    "        if examples[sent0_cname][idx] is None:\n",
    "            examples[sent0_cname][idx] = \" \"\n",
    "        if examples[sent1_cname][idx] is None:\n",
    "            examples[sent1_cname][idx] = \" \"\n",
    "\n",
    "    sentences = examples[sent0_cname] + examples[sent1_cname]\n",
    "\n",
    "    sent_features = tokenizer(\n",
    "        sentences,\n",
    "        max_length=max_len,\n",
    "        truncation=True,\n",
    "        padding=True,\n",
    "    )\n",
    "\n",
    "    features = {}\n",
    "    for key in sent_features:\n",
    "        features[key] = [[sent_features[key][i], sent_features[key][i+total]] for i in range(total)]\n",
    "\n",
    "    return features"
   ]
  },
  {
   "cell_type": "code",
   "execution_count": 9,
   "id": "5c91a605",
   "metadata": {
    "execution": {
     "iopub.execute_input": "2022-04-15T10:19:55.891437Z",
     "iopub.status.busy": "2022-04-15T10:19:55.890813Z",
     "iopub.status.idle": "2022-04-15T10:19:55.936381Z",
     "shell.execute_reply": "2022-04-15T10:19:55.935357Z"
    },
    "papermill": {
     "duration": 0.333119,
     "end_time": "2022-04-15T10:19:55.937720",
     "exception": false,
     "start_time": "2022-04-15T10:19:55.604601",
     "status": "completed"
    },
    "tags": []
   },
   "outputs": [
    {
     "name": "stderr",
     "output_type": "stream",
     "text": [
      "Loading cached processed dataset at ./data/text/default-235a9b97f9ebd10e/0.0.0/4b86d314f7236db91f0a0f5cda32d4375445e64c5eda2692655dd99c2dac68e8/cache-305eab4ce3c7d88c.arrow\n"
     ]
    }
   ],
   "source": [
    "train_dataset = datasets[\"train\"].map(prepare_features,\n",
    "                                      batched=True,\n",
    "                                    #   num_proc=24,\n",
    "                                      remove_columns=column_names)"
   ]
  },
  {
   "cell_type": "code",
   "execution_count": 10,
   "id": "30f64040",
   "metadata": {
    "execution": {
     "iopub.execute_input": "2022-04-15T10:19:56.665468Z",
     "iopub.status.busy": "2022-04-15T10:19:56.664900Z",
     "iopub.status.idle": "2022-04-15T10:19:56.691837Z",
     "shell.execute_reply": "2022-04-15T10:19:56.691253Z"
    },
    "papermill": {
     "duration": 0.522001,
     "end_time": "2022-04-15T10:19:56.693100",
     "exception": false,
     "start_time": "2022-04-15T10:19:56.171099",
     "status": "completed"
    },
    "tags": []
   },
   "outputs": [
    {
     "data": {
      "text/plain": [
       "1000000"
      ]
     },
     "execution_count": 10,
     "metadata": {},
     "output_type": "execute_result"
    }
   ],
   "source": [
    "train_dataset.num_rows"
   ]
  },
  {
   "cell_type": "markdown",
   "id": "b082409b",
   "metadata": {
    "papermill": {
     "duration": 0.317149,
     "end_time": "2022-04-15T10:19:57.261896",
     "exception": false,
     "start_time": "2022-04-15T10:19:56.944747",
     "status": "completed"
    },
    "tags": []
   },
   "source": [
    "## 2. Contrastive Learning Model"
   ]
  },
  {
   "cell_type": "code",
   "execution_count": 11,
   "id": "37c2a66f",
   "metadata": {
    "execution": {
     "iopub.execute_input": "2022-04-15T10:19:57.775653Z",
     "iopub.status.busy": "2022-04-15T10:19:57.774763Z",
     "iopub.status.idle": "2022-04-15T10:20:02.359736Z",
     "shell.execute_reply": "2022-04-15T10:20:02.359020Z"
    },
    "papermill": {
     "duration": 4.860922,
     "end_time": "2022-04-15T10:20:02.361640",
     "exception": false,
     "start_time": "2022-04-15T10:19:57.500718",
     "status": "completed"
    },
    "tags": []
   },
   "outputs": [
    {
     "name": "stderr",
     "output_type": "stream",
     "text": [
      "Some weights of the model checkpoint at distilbert-base-uncased were not used when initializing DistilBertCLModel: ['vocab_layer_norm.bias', 'vocab_transform.bias', 'vocab_transform.weight', 'vocab_projector.weight', 'vocab_projector.bias', 'vocab_layer_norm.weight']\n",
      "- This IS expected if you are initializing DistilBertCLModel from the checkpoint of a model trained on another task or with another architecture (e.g. initializing a BertForSequenceClassification model from a BertForPreTraining model).\n",
      "- This IS NOT expected if you are initializing DistilBertCLModel from the checkpoint of a model that you expect to be exactly identical (initializing a BertForSequenceClassification model from a BertForSequenceClassification model).\n"
     ]
    }
   ],
   "source": [
    "import torch\n",
    "import torch.nn as nn\n",
    "\n",
    "from transformers import AutoTokenizer, DistilBertModel, DistilBertPreTrainedModel, AutoConfig\n",
    "from transformers.modeling_outputs import SequenceClassifierOutput, BaseModelOutputWithPooling\n",
    "\n",
    "from distilface.modules.pooler import Pooler\n",
    "from distilface.modules.similarity import Similarity\n",
    "\n",
    "\n",
    "class DistilBertCLModel(DistilBertPreTrainedModel):\n",
    "    def __init__(self, config, pooler_type=pooling_method, temp=temperature):\n",
    "        super().__init__(config)\n",
    "\n",
    "        self.config = config\n",
    "        self.pooler_type = pooler_type\n",
    "        self.temp = temperature\n",
    "\n",
    "        self.distilbert = DistilBertModel(config)\n",
    "        self.pooler = Pooler(pooler_type)\n",
    "        self.sim = Similarity(temp=temp)\n",
    "\n",
    "        self.init_weights()\n",
    "\n",
    "    def forward(self, input_ids=None, attention_mask=None):\n",
    "        if self.training:\n",
    "            return self.cl_forward(self.distilbert, input_ids, attention_mask)\n",
    "        else:\n",
    "            return self.sent_emb(self.distilbert, input_ids, attention_mask)\n",
    "\n",
    "    def cl_forward(self, encoder, input_ids=None, attention_mask=None):\n",
    "        batch_size = input_ids.size(0)\n",
    "        num_sent = input_ids.size(1)  # Number of sentences in one instance: 2 sentences\n",
    "\n",
    "        # Flatten all input tensors\n",
    "        input_ids = input_ids.view((-1, input_ids.size(-1))) # (bs * num_sent, len)\n",
    "        attention_mask = attention_mask.view((-1, attention_mask.size(-1))) # (bs * num_sent len)\n",
    "\n",
    "        # Pre-trained Model Encoder\n",
    "        outputs = encoder(\n",
    "            input_ids,\n",
    "            attention_mask=attention_mask,\n",
    "            output_hidden_states=True,\n",
    "            return_dict=True,\n",
    "        )\n",
    "\n",
    "        # Pooling\n",
    "        pooler_output = self.pooler(attention_mask, outputs)\n",
    "        pooler_output = pooler_output.view((batch_size, num_sent, pooler_output.size(-1)))  # (bs, num_sent, hidden)\n",
    "\n",
    "        # Separate representation\n",
    "        z1, z2 = pooler_output[:, 0], pooler_output[:, 1]\n",
    "\n",
    "        # Cosine similarity\n",
    "        cos_sim = self.sim(z1.unsqueeze(1), z2.unsqueeze(0))\n",
    "\n",
    "        # Calculate contrastive loss\n",
    "        criterion = nn.CrossEntropyLoss()\n",
    "        labels = torch.arange(cos_sim.size(0)).long().to(self.device)\n",
    "        loss = criterion(cos_sim, labels)\n",
    "\n",
    "        return SequenceClassifierOutput(\n",
    "            loss=loss,\n",
    "            logits=cos_sim,\n",
    "            hidden_states=outputs.hidden_states,\n",
    "            attentions=outputs.attentions,\n",
    "        )\n",
    "\n",
    "    def sent_emb(self, encoder, input_ids=None, attention_mask=None):\n",
    "        outputs = encoder(\n",
    "            input_ids,\n",
    "            attention_mask=attention_mask,\n",
    "            output_hidden_states=True,\n",
    "            return_dict=True,\n",
    "        )\n",
    "        pooler_output = self.pooler(attention_mask, outputs)\n",
    "\n",
    "        return BaseModelOutputWithPooling(\n",
    "            pooler_output=pooler_output,\n",
    "            last_hidden_state=outputs.last_hidden_state,\n",
    "            hidden_states=outputs.hidden_states,\n",
    "        )\n",
    "\n",
    "\n",
    "pretrained_model_name = 'distilbert-base-uncased'\n",
    "\n",
    "device = torch.device(\"cuda\" if torch.cuda.is_available() else \"cpu\")\n",
    "config = AutoConfig.from_pretrained(pretrained_model_name)\n",
    "\n",
    "model = DistilBertCLModel.from_pretrained(pretrained_model_name, config=config).to(device)\n",
    "tokenizer = AutoTokenizer.from_pretrained(pretrained_model_name)\n",
    "\n",
    "model.eval();"
   ]
  },
  {
   "cell_type": "markdown",
   "id": "7b771935",
   "metadata": {
    "papermill": {
     "duration": 0.199137,
     "end_time": "2022-04-15T10:20:02.795792",
     "exception": false,
     "start_time": "2022-04-15T10:20:02.596655",
     "status": "completed"
    },
    "tags": []
   },
   "source": [
    "### 2.1 Initial DistilBERT embeddings performance"
   ]
  },
  {
   "cell_type": "code",
   "execution_count": 12,
   "id": "8aec6c87",
   "metadata": {
    "execution": {
     "iopub.execute_input": "2022-04-15T10:20:03.293219Z",
     "iopub.status.busy": "2022-04-15T10:20:03.292381Z",
     "iopub.status.idle": "2022-04-15T10:20:03.681503Z",
     "shell.execute_reply": "2022-04-15T10:20:03.680756Z"
    },
    "papermill": {
     "duration": 0.600629,
     "end_time": "2022-04-15T10:20:03.683326",
     "exception": false,
     "start_time": "2022-04-15T10:20:03.082697",
     "status": "completed"
    },
    "tags": []
   },
   "outputs": [],
   "source": [
    "import senteval\n",
    "\n",
    "\n",
    "def prepare(params, samples):\n",
    "    return\n",
    "\n",
    "def batcher(params, batch):\n",
    "    sentences = [\" \".join(s) for s in batch]\n",
    "    batch = tokenizer.batch_encode_plus(\n",
    "        sentences,\n",
    "        return_tensors=\"pt\",\n",
    "        padding=True,\n",
    "    )\n",
    "\n",
    "    for k in batch:\n",
    "        batch[k] = batch[k].to(device)\n",
    "\n",
    "    with torch.no_grad():\n",
    "        outputs = model(**batch)\n",
    "\n",
    "    pooled_result = outputs.pooler_output.cpu()\n",
    "\n",
    "    return pooled_result\n",
    "\n",
    "\n",
    "def evaluate_model():\n",
    "    PATH_TO_DATA = \"./data\"\n",
    "\n",
    "    params = {\"task_path\": PATH_TO_DATA, \"usepytorch\": True, \"kfold\": 10}\n",
    "    tasks = [\"STSBenchmark\", 'STS12', 'STS13', 'STS14', 'STS15']\n",
    "\n",
    "    se = senteval.engine.SE(params, batcher, prepare)\n",
    "    results = se.eval(tasks)\n",
    "\n",
    "    print('STS12: ', results[\"STS12\"][\"all\"][\"spearman\"][\"all\"])\n",
    "    print('STS13: ', results[\"STS13\"][\"all\"][\"spearman\"][\"all\"])\n",
    "    print('STS14: ', results[\"STS14\"][\"all\"][\"spearman\"][\"all\"])\n",
    "    print('STS15: ', results[\"STS15\"][\"all\"][\"spearman\"][\"all\"])\n",
    "    print('STSB: ', results[\"STSBenchmark\"][\"test\"][\"spearman\"][0])\n",
    "\n",
    "    return results"
   ]
  },
  {
   "cell_type": "markdown",
   "id": "5ae3a50e",
   "metadata": {
    "papermill": {
     "duration": 0.233795,
     "end_time": "2022-04-15T10:20:04.213080",
     "exception": false,
     "start_time": "2022-04-15T10:20:03.979285",
     "status": "completed"
    },
    "tags": []
   },
   "source": [
    "## 3. Trainer"
   ]
  },
  {
   "cell_type": "code",
   "execution_count": 13,
   "id": "06b771eb",
   "metadata": {
    "execution": {
     "iopub.execute_input": "2022-04-15T10:20:04.620265Z",
     "iopub.status.busy": "2022-04-15T10:20:04.619650Z",
     "iopub.status.idle": "2022-04-15T10:20:04.750654Z",
     "shell.execute_reply": "2022-04-15T10:20:04.749888Z"
    },
    "papermill": {
     "duration": 0.301426,
     "end_time": "2022-04-15T10:20:04.752171",
     "exception": false,
     "start_time": "2022-04-15T10:20:04.450745",
     "status": "completed"
    },
    "tags": []
   },
   "outputs": [
    {
     "name": "stderr",
     "output_type": "stream",
     "text": [
      "max_steps is given, it will override any value given in num_train_epochs\n"
     ]
    }
   ],
   "source": [
    "# import mlflow\n",
    "\n",
    "from transformers import Trainer, TrainingArguments\n",
    "from transformers import default_data_collator\n",
    "\n",
    "training_args = TrainingArguments(\n",
    "    output_dir='output',\n",
    "    overwrite_output_dir=True,\n",
    "    learning_rate=learning_rate,\n",
    "    num_train_epochs=epochs,\n",
    "    max_steps=max_steps,\n",
    "    per_device_train_batch_size=batch_size,\n",
    "    per_device_eval_batch_size=batch_size,\n",
    "    save_strategy='steps',\n",
    "    save_steps=max_steps,\n",
    "    fp16=fp16,\n",
    ")\n",
    "\n",
    "model.train()\n",
    "\n",
    "trainer = Trainer(\n",
    "    model=model,\n",
    "    args=training_args,\n",
    "    train_dataset=train_dataset,\n",
    "    tokenizer=tokenizer,\n",
    "    data_collator=default_data_collator\n",
    ")"
   ]
  },
  {
   "cell_type": "code",
   "execution_count": 14,
   "id": "ad01e0cb",
   "metadata": {
    "execution": {
     "iopub.execute_input": "2022-04-15T10:20:05.125763Z",
     "iopub.status.busy": "2022-04-15T10:20:05.125217Z",
     "iopub.status.idle": "2022-04-15T10:38:13.583271Z",
     "shell.execute_reply": "2022-04-15T10:38:13.582731Z"
    },
    "papermill": {
     "duration": 1088.658257,
     "end_time": "2022-04-15T10:38:13.584822",
     "exception": false,
     "start_time": "2022-04-15T10:20:04.926565",
     "status": "completed"
    },
    "tags": []
   },
   "outputs": [
    {
     "name": "stderr",
     "output_type": "stream",
     "text": [
      "/opt/conda/lib/python3.8/site-packages/transformers/optimization.py:306: FutureWarning: This implementation of AdamW is deprecated and will be removed in a future version. Use the PyTorch implementation torch.optim.AdamW instead, or set `no_deprecation_warning=True` to disable this warning\n",
      "  warnings.warn(\n",
      "***** Running training *****\n"
     ]
    },
    {
     "name": "stderr",
     "output_type": "stream",
     "text": [
      "  Num examples = 1000000\n"
     ]
    },
    {
     "name": "stderr",
     "output_type": "stream",
     "text": [
      "  Num Epochs = 1\n"
     ]
    },
    {
     "name": "stderr",
     "output_type": "stream",
     "text": [
      "  Instantaneous batch size per device = 128\n"
     ]
    },
    {
     "name": "stderr",
     "output_type": "stream",
     "text": [
      "  Total train batch size (w. parallel, distributed & accumulation) = 128\n"
     ]
    },
    {
     "name": "stderr",
     "output_type": "stream",
     "text": [
      "  Gradient Accumulation steps = 1\n"
     ]
    },
    {
     "name": "stderr",
     "output_type": "stream",
     "text": [
      "  Total optimization steps = 2500\n"
     ]
    },
    {
     "data": {
      "text/html": [
       "\n",
       "    <div>\n",
       "      \n",
       "      <progress value='2500' max='2500' style='width:300px; height:20px; vertical-align: middle;'></progress>\n",
       "      [2500/2500 18:06, Epoch 0/1]\n",
       "    </div>\n",
       "    <table border=\"1\" class=\"dataframe\">\n",
       "  <thead>\n",
       " <tr style=\"text-align: left;\">\n",
       "      <th>Step</th>\n",
       "      <th>Training Loss</th>\n",
       "    </tr>\n",
       "  </thead>\n",
       "  <tbody>\n",
       "    <tr>\n",
       "      <td>500</td>\n",
       "      <td>0.032200</td>\n",
       "    </tr>\n",
       "    <tr>\n",
       "      <td>1000</td>\n",
       "      <td>0.000400</td>\n",
       "    </tr>\n",
       "    <tr>\n",
       "      <td>1500</td>\n",
       "      <td>0.000300</td>\n",
       "    </tr>\n",
       "    <tr>\n",
       "      <td>2000</td>\n",
       "      <td>0.000200</td>\n",
       "    </tr>\n",
       "    <tr>\n",
       "      <td>2500</td>\n",
       "      <td>0.000200</td>\n",
       "    </tr>\n",
       "  </tbody>\n",
       "</table><p>"
      ],
      "text/plain": [
       "<IPython.core.display.HTML object>"
      ]
     },
     "metadata": {},
     "output_type": "display_data"
    },
    {
     "name": "stderr",
     "output_type": "stream",
     "text": [
      "Saving model checkpoint to output/checkpoint-2500\n"
     ]
    },
    {
     "name": "stderr",
     "output_type": "stream",
     "text": [
      "Configuration saved in output/checkpoint-2500/config.json\n"
     ]
    },
    {
     "name": "stderr",
     "output_type": "stream",
     "text": [
      "Model weights saved in output/checkpoint-2500/pytorch_model.bin\n"
     ]
    },
    {
     "name": "stderr",
     "output_type": "stream",
     "text": [
      "tokenizer config file saved in output/checkpoint-2500/tokenizer_config.json\n"
     ]
    },
    {
     "name": "stderr",
     "output_type": "stream",
     "text": [
      "Special tokens file saved in output/checkpoint-2500/special_tokens_map.json\n"
     ]
    },
    {
     "name": "stderr",
     "output_type": "stream",
     "text": [
      "\n",
      "\n",
      "Training completed. Do not forget to share your model on huggingface.co/models =)\n",
      "\n",
      "\n"
     ]
    }
   ],
   "source": [
    "train_result = trainer.train()"
   ]
  },
  {
   "cell_type": "code",
   "execution_count": 15,
   "id": "d5c964fc",
   "metadata": {
    "execution": {
     "iopub.execute_input": "2022-04-15T10:38:14.044979Z",
     "iopub.status.busy": "2022-04-15T10:38:14.044779Z",
     "iopub.status.idle": "2022-04-15T10:38:14.102227Z",
     "shell.execute_reply": "2022-04-15T10:38:14.101702Z"
    },
    "papermill": {
     "duration": 0.325563,
     "end_time": "2022-04-15T10:38:14.103735",
     "exception": false,
     "start_time": "2022-04-15T10:38:13.778172",
     "status": "completed"
    },
    "tags": []
   },
   "outputs": [],
   "source": [
    "import pandas as pd\n",
    "\n",
    "pd.DataFrame(trainer.state.log_history).to_csv(f'logs/cl-distilled_tuning_v1_ms{max_steps}_fp16.csv', index=False)"
   ]
  },
  {
   "cell_type": "markdown",
   "id": "695f8fb4",
   "metadata": {
    "papermill": {
     "duration": 0.235888,
     "end_time": "2022-04-15T10:38:14.692238",
     "exception": false,
     "start_time": "2022-04-15T10:38:14.456350",
     "status": "completed"
    },
    "tags": []
   },
   "source": [
    "## 4. Evaluate DistilBert CL Model performance"
   ]
  },
  {
   "cell_type": "code",
   "execution_count": 16,
   "id": "f16424b8",
   "metadata": {
    "execution": {
     "iopub.execute_input": "2022-04-15T10:38:15.108626Z",
     "iopub.status.busy": "2022-04-15T10:38:15.107978Z",
     "iopub.status.idle": "2022-04-15T10:38:37.915446Z",
     "shell.execute_reply": "2022-04-15T10:38:37.914731Z"
    },
    "papermill": {
     "duration": 22.996175,
     "end_time": "2022-04-15T10:38:37.916719",
     "exception": false,
     "start_time": "2022-04-15T10:38:14.920544",
     "status": "completed"
    },
    "tags": []
   },
   "outputs": [
    {
     "name": "stderr",
     "output_type": "stream",
     "text": [
      "/opt/conda/lib/python3.8/site-packages/SentEval-0.1.0-py3.8.egg/senteval/sts.py:42: VisibleDeprecationWarning: Creating an ndarray from ragged nested sequences (which is a list-or-tuple of lists-or-tuples-or ndarrays with different lengths or shapes) is deprecated. If you meant to do this, you must specify 'dtype=object' when creating the ndarray.\n",
      "/opt/conda/lib/python3.8/site-packages/SentEval-0.1.0-py3.8.egg/senteval/sts.py:43: VisibleDeprecationWarning: Creating an ndarray from ragged nested sequences (which is a list-or-tuple of lists-or-tuples-or ndarrays with different lengths or shapes) is deprecated. If you meant to do this, you must specify 'dtype=object' when creating the ndarray.\n"
     ]
    },
    {
     "name": "stdout",
     "output_type": "stream",
     "text": [
      "STS12:  0.5854561460891217\n",
      "STS13:  0.6881495991601082\n",
      "STS14:  0.6332056045695229\n",
      "STS15:  0.7405926124818963\n",
      "STSB:  0.7074716666963684\n"
     ]
    },
    {
     "data": {
      "text/plain": [
       "{'STSBenchmark': {'train': {'pearson': (0.7320291603491934, 0.0),\n",
       "   'spearman': SpearmanrResult(correlation=0.6989481785507259, pvalue=0.0),\n",
       "   'nsamples': 5749},\n",
       "  'dev': {'pearson': (0.74287070232033, 2.2599389620325407e-263),\n",
       "   'spearman': SpearmanrResult(correlation=0.7489285577688579, pvalue=5.2956036304513385e-270),\n",
       "   'nsamples': 1500},\n",
       "  'test': {'pearson': (0.7170689791504739, 4.0734921457360657e-218),\n",
       "   'spearman': SpearmanrResult(correlation=0.7074716666963684, pvalue=8.210785439948303e-210),\n",
       "   'nsamples': 1379},\n",
       "  'all': {'pearson': {'all': 0.7285587559050078,\n",
       "    'mean': 0.7306562806066658,\n",
       "    'wmean': 0.7315229275123448},\n",
       "   'spearman': {'all': 0.7137403770981446,\n",
       "    'mean': 0.718449467671984,\n",
       "    'wmean': 0.7089996921089131}}},\n",
       " 'STS12': {'MSRpar': {'pearson': (0.4590025001317159, 2.359771920195967e-40),\n",
       "   'spearman': SpearmanrResult(correlation=0.49811134012816866, pvalue=2.795320873733283e-48),\n",
       "   'nsamples': 750},\n",
       "  'MSRvid': {'pearson': (0.7996541609987101, 7.381843364525062e-168),\n",
       "   'spearman': SpearmanrResult(correlation=0.7979211923144098, pvalue=1.2928443296937968e-166),\n",
       "   'nsamples': 750},\n",
       "  'SMTeuroparl': {'pearson': (0.5428177135870429, 1.5673670590239564e-36),\n",
       "   'spearman': SpearmanrResult(correlation=0.6204957102866393, pvalue=3.412420364220859e-50),\n",
       "   'nsamples': 459},\n",
       "  'surprise.OnWN': {'pearson': (0.7078413898981458, 4.910223933996462e-115),\n",
       "   'spearman': SpearmanrResult(correlation=0.6878373707154339, pvalue=3.5222488132214354e-106),\n",
       "   'nsamples': 750},\n",
       "  'surprise.SMTnews': {'pearson': (0.5999362038823176, 2.287110625841246e-40),\n",
       "   'spearman': SpearmanrResult(correlation=0.5299376601918065, pvalue=2.8569139381122687e-30),\n",
       "   'nsamples': 399},\n",
       "  'all': {'pearson': {'all': 0.6264328889828822,\n",
       "    'mean': 0.6218503936995865,\n",
       "    'wmean': 0.6317250367300278},\n",
       "   'spearman': {'all': 0.5854561460891217,\n",
       "    'mean': 0.6268606547272917,\n",
       "    'wmean': 0.6384025369390629}}},\n",
       " 'STS13': {'FNWN': {'pearson': (0.5829169613997623, 1.3665237993076515e-18),\n",
       "   'spearman': SpearmanrResult(correlation=0.6071436253986896, pvalue=2.0196221502722823e-20),\n",
       "   'nsamples': 189},\n",
       "  'headlines': {'pearson': (0.7251421511019599, 2.5284450658533395e-123),\n",
       "   'spearman': SpearmanrResult(correlation=0.7186034942527513, pvalue=4.0617790500371436e-120),\n",
       "   'nsamples': 750},\n",
       "  'OnWN': {'pearson': (0.643759865636765, 5.7171487552327686e-67),\n",
       "   'spearman': SpearmanrResult(correlation=0.6582889402396823, pvalue=5.772239596617093e-71),\n",
       "   'nsamples': 561},\n",
       "  'all': {'pearson': {'all': 0.6716959713296772,\n",
       "    'mean': 0.6506063260461624,\n",
       "    'wmean': 0.6767848024355001},\n",
       "   'spearman': {'all': 0.6881495991601082,\n",
       "    'mean': 0.6613453532970411,\n",
       "    'wmean': 0.6820019075762518}}},\n",
       " 'STS14': {'deft-forum': {'pearson': (0.5097219080568416,\n",
       "    3.963268879132542e-31),\n",
       "   'spearman': SpearmanrResult(correlation=0.507466853082444, pvalue=7.960788543958238e-31),\n",
       "   'nsamples': 450},\n",
       "  'deft-news': {'pearson': (0.7734072157955533, 6.0147791413053924e-61),\n",
       "   'spearman': SpearmanrResult(correlation=0.7563364320874791, pvalue=7.294982664956356e-57),\n",
       "   'nsamples': 300},\n",
       "  'headlines': {'pearson': (0.6941761704319381, 6.599838385339255e-109),\n",
       "   'spearman': SpearmanrResult(correlation=0.6432667949074085, pvalue=8.071247118361328e-89),\n",
       "   'nsamples': 750},\n",
       "  'images': {'pearson': (0.7668204129460877, 3.5153141701827066e-146),\n",
       "   'spearman': SpearmanrResult(correlation=0.7318919993235725, pvalue=9.874918602708373e-127),\n",
       "   'nsamples': 750},\n",
       "  'OnWN': {'pearson': (0.7651635273132433, 3.5040113367783965e-145),\n",
       "   'spearman': SpearmanrResult(correlation=0.7854343720029295, pvalue=5.309915010600713e-158),\n",
       "   'nsamples': 750},\n",
       "  'tweet-news': {'pearson': (0.7549682670956297, 3.2534028466058038e-139),\n",
       "   'spearman': SpearmanrResult(correlation=0.6780377114074886, pvalue=4.244500961654839e-102),\n",
       "   'nsamples': 750},\n",
       "  'all': {'pearson': {'all': 0.662758711285049,\n",
       "    'mean': 0.7107095836065489,\n",
       "    'wmean': 0.719264881787845},\n",
       "   'spearman': {'all': 0.6332056045695229,\n",
       "    'mean': 0.6837390271352203,\n",
       "    'wmean': 0.6891291124651714}}},\n",
       " 'STS15': {'answers-forums': {'pearson': (0.7139628907418575,\n",
       "    1.059375350360029e-59),\n",
       "   'spearman': SpearmanrResult(correlation=0.7107895712971317, pvalue=5.895124113424769e-59),\n",
       "   'nsamples': 375},\n",
       "  'answers-students': {'pearson': (0.681269839078263, 1.993046231304432e-103),\n",
       "   'spearman': SpearmanrResult(correlation=0.6797022447207222, pvalue=8.828594762391e-103),\n",
       "   'nsamples': 750},\n",
       "  'belief': {'pearson': (0.7775938137924437, 3.638686279591441e-77),\n",
       "   'spearman': SpearmanrResult(correlation=0.7840754828540277, pvalue=2.861511286565894e-79),\n",
       "   'nsamples': 375},\n",
       "  'headlines': {'pearson': (0.756108915400687, 7.233432408664139e-140),\n",
       "   'spearman': SpearmanrResult(correlation=0.7483682666579599, pvalue=1.664364464532663e-135),\n",
       "   'nsamples': 750},\n",
       "  'images': {'pearson': (0.8316237217491721, 2.981804872337352e-193),\n",
       "   'spearman': SpearmanrResult(correlation=0.8368640871312369, pvalue=6.31379462561053e-198),\n",
       "   'nsamples': 750},\n",
       "  'all': {'pearson': {'all': 0.7348371519963887,\n",
       "    'mean': 0.7521118361524846,\n",
       "    'wmean': 0.7536952071238182},\n",
       "   'spearman': {'all': 0.7405926124818963,\n",
       "    'mean': 0.7519599305322157,\n",
       "    'wmean': 0.7530917813963747}}}}"
      ]
     },
     "execution_count": 16,
     "metadata": {},
     "output_type": "execute_result"
    }
   ],
   "source": [
    "model.eval()\n",
    "\n",
    "results = evaluate_model()\n",
    "results"
   ]
  }
 ],
 "metadata": {
  "celltoolbar": "Tags",
  "kernelspec": {
   "display_name": "Python 3 (ipykernel)",
   "language": "python",
   "name": "python3"
  },
  "language_info": {
   "codemirror_mode": {
    "name": "ipython",
    "version": 3
   },
   "file_extension": ".py",
   "mimetype": "text/x-python",
   "name": "python",
   "nbconvert_exporter": "python",
   "pygments_lexer": "ipython3",
   "version": "3.8.12"
  },
  "papermill": {
   "default_parameters": {},
   "duration": 1137.335638,
   "end_time": "2022-04-15T10:38:39.699555",
   "environment_variables": {},
   "exception": null,
   "input_path": "notebooks/training/cl-distilbert_tuning_v1.ipynb",
   "output_path": "notebooks/training/cl-distilbert_tuning_v1_ms2500.ipynb",
   "parameters": {
    "max_steps": 2500
   },
   "start_time": "2022-04-15T10:19:42.363917",
   "version": "2.3.4"
  },
  "toc": {
   "base_numbering": 1,
   "nav_menu": {},
   "number_sections": false,
   "sideBar": true,
   "skip_h1_title": false,
   "title_cell": "Table of Contents",
   "title_sidebar": "Contents",
   "toc_cell": false,
   "toc_position": {},
   "toc_section_display": true,
   "toc_window_display": false
  },
  "widgets": {
   "application/vnd.jupyter.widget-state+json": {
    "state": {
     "12bfc8afdf524f12b94e751b15cb806f": {
      "model_module": "@jupyter-widgets/controls",
      "model_module_version": "1.5.0",
      "model_name": "HTMLModel",
      "state": {
       "_dom_classes": [],
       "_model_module": "@jupyter-widgets/controls",
       "_model_module_version": "1.5.0",
       "_model_name": "HTMLModel",
       "_view_count": null,
       "_view_module": "@jupyter-widgets/controls",
       "_view_module_version": "1.5.0",
       "_view_name": "HTMLView",
       "description": "",
       "description_tooltip": null,
       "layout": "IPY_MODEL_1870d11f756b4bf98287f45fd247258c",
       "placeholder": "​",
       "style": "IPY_MODEL_ed14b573d6bf4a4ebda32af91d6bb859",
       "value": "100%"
      }
     },
     "1870d11f756b4bf98287f45fd247258c": {
      "model_module": "@jupyter-widgets/base",
      "model_module_version": "1.2.0",
      "model_name": "LayoutModel",
      "state": {
       "_model_module": "@jupyter-widgets/base",
       "_model_module_version": "1.2.0",
       "_model_name": "LayoutModel",
       "_view_count": null,
       "_view_module": "@jupyter-widgets/base",
       "_view_module_version": "1.2.0",
       "_view_name": "LayoutView",
       "align_content": null,
       "align_items": null,
       "align_self": null,
       "border": null,
       "bottom": null,
       "display": null,
       "flex": null,
       "flex_flow": null,
       "grid_area": null,
       "grid_auto_columns": null,
       "grid_auto_flow": null,
       "grid_auto_rows": null,
       "grid_column": null,
       "grid_gap": null,
       "grid_row": null,
       "grid_template_areas": null,
       "grid_template_columns": null,
       "grid_template_rows": null,
       "height": null,
       "justify_content": null,
       "justify_items": null,
       "left": null,
       "margin": null,
       "max_height": null,
       "max_width": null,
       "min_height": null,
       "min_width": null,
       "object_fit": null,
       "object_position": null,
       "order": null,
       "overflow": null,
       "overflow_x": null,
       "overflow_y": null,
       "padding": null,
       "right": null,
       "top": null,
       "visibility": null,
       "width": null
      }
     },
     "2314e710a0104edcb09fa77fb11f5b8b": {
      "model_module": "@jupyter-widgets/base",
      "model_module_version": "1.2.0",
      "model_name": "LayoutModel",
      "state": {
       "_model_module": "@jupyter-widgets/base",
       "_model_module_version": "1.2.0",
       "_model_name": "LayoutModel",
       "_view_count": null,
       "_view_module": "@jupyter-widgets/base",
       "_view_module_version": "1.2.0",
       "_view_name": "LayoutView",
       "align_content": null,
       "align_items": null,
       "align_self": null,
       "border": null,
       "bottom": null,
       "display": null,
       "flex": null,
       "flex_flow": null,
       "grid_area": null,
       "grid_auto_columns": null,
       "grid_auto_flow": null,
       "grid_auto_rows": null,
       "grid_column": null,
       "grid_gap": null,
       "grid_row": null,
       "grid_template_areas": null,
       "grid_template_columns": null,
       "grid_template_rows": null,
       "height": null,
       "justify_content": null,
       "justify_items": null,
       "left": null,
       "margin": null,
       "max_height": null,
       "max_width": null,
       "min_height": null,
       "min_width": null,
       "object_fit": null,
       "object_position": null,
       "order": null,
       "overflow": null,
       "overflow_x": null,
       "overflow_y": null,
       "padding": null,
       "right": null,
       "top": null,
       "visibility": null,
       "width": null
      }
     },
     "2d0d1f5adad94de1b92c168b0e49da49": {
      "model_module": "@jupyter-widgets/base",
      "model_module_version": "1.2.0",
      "model_name": "LayoutModel",
      "state": {
       "_model_module": "@jupyter-widgets/base",
       "_model_module_version": "1.2.0",
       "_model_name": "LayoutModel",
       "_view_count": null,
       "_view_module": "@jupyter-widgets/base",
       "_view_module_version": "1.2.0",
       "_view_name": "LayoutView",
       "align_content": null,
       "align_items": null,
       "align_self": null,
       "border": null,
       "bottom": null,
       "display": null,
       "flex": null,
       "flex_flow": null,
       "grid_area": null,
       "grid_auto_columns": null,
       "grid_auto_flow": null,
       "grid_auto_rows": null,
       "grid_column": null,
       "grid_gap": null,
       "grid_row": null,
       "grid_template_areas": null,
       "grid_template_columns": null,
       "grid_template_rows": null,
       "height": null,
       "justify_content": null,
       "justify_items": null,
       "left": null,
       "margin": null,
       "max_height": null,
       "max_width": null,
       "min_height": null,
       "min_width": null,
       "object_fit": null,
       "object_position": null,
       "order": null,
       "overflow": null,
       "overflow_x": null,
       "overflow_y": null,
       "padding": null,
       "right": null,
       "top": null,
       "visibility": null,
       "width": null
      }
     },
     "4692a1911d784ab5a5d87b4fb54e045d": {
      "model_module": "@jupyter-widgets/controls",
      "model_module_version": "1.5.0",
      "model_name": "HBoxModel",
      "state": {
       "_dom_classes": [],
       "_model_module": "@jupyter-widgets/controls",
       "_model_module_version": "1.5.0",
       "_model_name": "HBoxModel",
       "_view_count": null,
       "_view_module": "@jupyter-widgets/controls",
       "_view_module_version": "1.5.0",
       "_view_name": "HBoxView",
       "box_style": "",
       "children": [
        "IPY_MODEL_12bfc8afdf524f12b94e751b15cb806f",
        "IPY_MODEL_a0537ccfb4c941dd8527413e25f69184",
        "IPY_MODEL_f1947fc44ee44751bda011758a9e4b3f"
       ],
       "layout": "IPY_MODEL_2d0d1f5adad94de1b92c168b0e49da49"
      }
     },
     "9ab39160499f4da8b99bb17a51367a6d": {
      "model_module": "@jupyter-widgets/controls",
      "model_module_version": "1.5.0",
      "model_name": "ProgressStyleModel",
      "state": {
       "_model_module": "@jupyter-widgets/controls",
       "_model_module_version": "1.5.0",
       "_model_name": "ProgressStyleModel",
       "_view_count": null,
       "_view_module": "@jupyter-widgets/base",
       "_view_module_version": "1.2.0",
       "_view_name": "StyleView",
       "bar_color": null,
       "description_width": ""
      }
     },
     "a0537ccfb4c941dd8527413e25f69184": {
      "model_module": "@jupyter-widgets/controls",
      "model_module_version": "1.5.0",
      "model_name": "FloatProgressModel",
      "state": {
       "_dom_classes": [],
       "_model_module": "@jupyter-widgets/controls",
       "_model_module_version": "1.5.0",
       "_model_name": "FloatProgressModel",
       "_view_count": null,
       "_view_module": "@jupyter-widgets/controls",
       "_view_module_version": "1.5.0",
       "_view_name": "ProgressView",
       "bar_style": "success",
       "description": "",
       "description_tooltip": null,
       "layout": "IPY_MODEL_b57185605cfd4f1f9f30ffc505257c43",
       "max": 1,
       "min": 0,
       "orientation": "horizontal",
       "style": "IPY_MODEL_9ab39160499f4da8b99bb17a51367a6d",
       "value": 1
      }
     },
     "b57185605cfd4f1f9f30ffc505257c43": {
      "model_module": "@jupyter-widgets/base",
      "model_module_version": "1.2.0",
      "model_name": "LayoutModel",
      "state": {
       "_model_module": "@jupyter-widgets/base",
       "_model_module_version": "1.2.0",
       "_model_name": "LayoutModel",
       "_view_count": null,
       "_view_module": "@jupyter-widgets/base",
       "_view_module_version": "1.2.0",
       "_view_name": "LayoutView",
       "align_content": null,
       "align_items": null,
       "align_self": null,
       "border": null,
       "bottom": null,
       "display": null,
       "flex": null,
       "flex_flow": null,
       "grid_area": null,
       "grid_auto_columns": null,
       "grid_auto_flow": null,
       "grid_auto_rows": null,
       "grid_column": null,
       "grid_gap": null,
       "grid_row": null,
       "grid_template_areas": null,
       "grid_template_columns": null,
       "grid_template_rows": null,
       "height": null,
       "justify_content": null,
       "justify_items": null,
       "left": null,
       "margin": null,
       "max_height": null,
       "max_width": null,
       "min_height": null,
       "min_width": null,
       "object_fit": null,
       "object_position": null,
       "order": null,
       "overflow": null,
       "overflow_x": null,
       "overflow_y": null,
       "padding": null,
       "right": null,
       "top": null,
       "visibility": null,
       "width": null
      }
     },
     "e8d3c35325d64439972108ad345368d8": {
      "model_module": "@jupyter-widgets/controls",
      "model_module_version": "1.5.0",
      "model_name": "DescriptionStyleModel",
      "state": {
       "_model_module": "@jupyter-widgets/controls",
       "_model_module_version": "1.5.0",
       "_model_name": "DescriptionStyleModel",
       "_view_count": null,
       "_view_module": "@jupyter-widgets/base",
       "_view_module_version": "1.2.0",
       "_view_name": "StyleView",
       "description_width": ""
      }
     },
     "ed14b573d6bf4a4ebda32af91d6bb859": {
      "model_module": "@jupyter-widgets/controls",
      "model_module_version": "1.5.0",
      "model_name": "DescriptionStyleModel",
      "state": {
       "_model_module": "@jupyter-widgets/controls",
       "_model_module_version": "1.5.0",
       "_model_name": "DescriptionStyleModel",
       "_view_count": null,
       "_view_module": "@jupyter-widgets/base",
       "_view_module_version": "1.2.0",
       "_view_name": "StyleView",
       "description_width": ""
      }
     },
     "f1947fc44ee44751bda011758a9e4b3f": {
      "model_module": "@jupyter-widgets/controls",
      "model_module_version": "1.5.0",
      "model_name": "HTMLModel",
      "state": {
       "_dom_classes": [],
       "_model_module": "@jupyter-widgets/controls",
       "_model_module_version": "1.5.0",
       "_model_name": "HTMLModel",
       "_view_count": null,
       "_view_module": "@jupyter-widgets/controls",
       "_view_module_version": "1.5.0",
       "_view_name": "HTMLView",
       "description": "",
       "description_tooltip": null,
       "layout": "IPY_MODEL_2314e710a0104edcb09fa77fb11f5b8b",
       "placeholder": "​",
       "style": "IPY_MODEL_e8d3c35325d64439972108ad345368d8",
       "value": " 1/1 [00:00&lt;00:00, 49.68it/s]"
      }
     }
    },
    "version_major": 2,
    "version_minor": 0
   }
  }
 },
 "nbformat": 4,
 "nbformat_minor": 5
}
