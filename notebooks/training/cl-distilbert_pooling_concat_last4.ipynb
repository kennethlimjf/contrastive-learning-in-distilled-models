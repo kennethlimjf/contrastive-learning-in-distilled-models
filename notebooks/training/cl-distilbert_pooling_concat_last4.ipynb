{
 "cells": [
  {
   "cell_type": "markdown",
   "id": "bc5ddeac",
   "metadata": {
    "papermill": {
     "duration": 0.015114,
     "end_time": "2022-04-09T07:06:19.235504",
     "exception": false,
     "start_time": "2022-04-09T07:06:19.220390",
     "status": "completed"
    },
    "tags": []
   },
   "source": [
    "# Contrastive Learning From Scratch - DistilBERT\n",
    "\n",
    "An attempt to build contrastive learning model from scratch. Parts include:\n",
    "\n",
    "- Loading and preparing Wiki-1M data for model input\n",
    "- Contrastive learning model\n",
    "  - Forward passing using pre-trained model\n",
    "  - Constrastive layer\n",
    "  - Calculate loss\n",
    "- Training procedure\n",
    "  - Default trainer optimizer\n",
    "  - Default trainer hyper-parameters"
   ]
  },
  {
   "cell_type": "code",
   "execution_count": 1,
   "id": "328a2946",
   "metadata": {
    "execution": {
     "iopub.execute_input": "2022-04-09T07:06:19.265029Z",
     "iopub.status.busy": "2022-04-09T07:06:19.264435Z",
     "iopub.status.idle": "2022-04-09T07:06:19.284636Z",
     "shell.execute_reply": "2022-04-09T07:06:19.283908Z"
    },
    "papermill": {
     "duration": 0.035799,
     "end_time": "2022-04-09T07:06:19.286287",
     "exception": false,
     "start_time": "2022-04-09T07:06:19.250488",
     "status": "completed"
    },
    "tags": []
   },
   "outputs": [
    {
     "name": "stdout",
     "output_type": "stream",
     "text": [
      "/notebooks/contrastive-learning-in-distilled-models\n"
     ]
    }
   ],
   "source": [
    "import os\n",
    "\n",
    "# Set Project home\n",
    "PROJECT_HOME = os.path.join('/',\n",
    "                            'notebooks',\n",
    "                            'contrastive-learning-in-distilled-models')\n",
    "%cd {PROJECT_HOME}\n",
    "\n",
    "# Load project code\n",
    "%reload_ext autoreload\n",
    "%autoreload 2\n",
    "\n",
    "import sys\n",
    "sys.path.insert(0, f'{PROJECT_HOME}/src')\n",
    "\n",
    "import distilface"
   ]
  },
  {
   "cell_type": "code",
   "execution_count": 2,
   "id": "32d2e0c3",
   "metadata": {
    "execution": {
     "iopub.execute_input": "2022-04-09T07:06:19.313215Z",
     "iopub.status.busy": "2022-04-09T07:06:19.313054Z",
     "iopub.status.idle": "2022-04-09T07:06:19.322953Z",
     "shell.execute_reply": "2022-04-09T07:06:19.322462Z"
    },
    "papermill": {
     "duration": 0.024976,
     "end_time": "2022-04-09T07:06:19.324310",
     "exception": false,
     "start_time": "2022-04-09T07:06:19.299334",
     "status": "completed"
    },
    "tags": [
     "parameters"
    ]
   },
   "outputs": [],
   "source": [
    "# Hyperparameters\n",
    "\n",
    "pooling_method = 'avg_first_last'\n",
    "batch_size = 64\n",
    "epochs = 2\n",
    "max_steps = 30_000\n",
    "temperature = 0.05\n",
    "learning_rate = 5e-5\n",
    "max_len = 32\n",
    "fp16 = True"
   ]
  },
  {
   "cell_type": "code",
   "execution_count": 3,
   "id": "8c8bcd7c",
   "metadata": {
    "execution": {
     "iopub.execute_input": "2022-04-09T07:06:19.350671Z",
     "iopub.status.busy": "2022-04-09T07:06:19.350515Z",
     "iopub.status.idle": "2022-04-09T07:06:19.359579Z",
     "shell.execute_reply": "2022-04-09T07:06:19.359155Z"
    },
    "papermill": {
     "duration": 0.023779,
     "end_time": "2022-04-09T07:06:19.360875",
     "exception": false,
     "start_time": "2022-04-09T07:06:19.337096",
     "status": "completed"
    },
    "tags": [
     "injected-parameters"
    ]
   },
   "outputs": [],
   "source": [
    "# Parameters\n",
    "pooling_method = \"concat_last4\"\n"
   ]
  },
  {
   "cell_type": "markdown",
   "id": "924d7f87",
   "metadata": {
    "papermill": {
     "duration": 0.013245,
     "end_time": "2022-04-09T07:06:19.388290",
     "exception": false,
     "start_time": "2022-04-09T07:06:19.375045",
     "status": "completed"
    },
    "tags": []
   },
   "source": [
    "## 1. Loading and Preparing Wiki-1M data\n",
    "\n",
    "Use huggingface `datasets` library to load local file data."
   ]
  },
  {
   "cell_type": "code",
   "execution_count": 4,
   "id": "4bd9ac6f",
   "metadata": {
    "execution": {
     "iopub.execute_input": "2022-04-09T07:06:19.414989Z",
     "iopub.status.busy": "2022-04-09T07:06:19.414810Z",
     "iopub.status.idle": "2022-04-09T07:06:20.735672Z",
     "shell.execute_reply": "2022-04-09T07:06:20.734985Z"
    },
    "papermill": {
     "duration": 1.335783,
     "end_time": "2022-04-09T07:06:20.736959",
     "exception": false,
     "start_time": "2022-04-09T07:06:19.401176",
     "status": "completed"
    },
    "tags": []
   },
   "outputs": [
    {
     "name": "stderr",
     "output_type": "stream",
     "text": [
      "Using custom data configuration default-235a9b97f9ebd10e\n",
      "Reusing dataset text (./data/text/default-235a9b97f9ebd10e/0.0.0/4b86d314f7236db91f0a0f5cda32d4375445e64c5eda2692655dd99c2dac68e8)\n"
     ]
    },
    {
     "data": {
      "application/vnd.jupyter.widget-view+json": {
       "model_id": "8263c598c60e4af0a3e3fea0a883dad0",
       "version_major": 2,
       "version_minor": 0
      },
      "text/plain": [
       "  0%|          | 0/1 [00:00<?, ?it/s]"
      ]
     },
     "metadata": {},
     "output_type": "display_data"
    }
   ],
   "source": [
    "import numpy as np\n",
    "\n",
    "from datasets import load_dataset\n",
    "\n",
    "data_files = {'train': 'data/training/wiki1m_for_simcse.txt'}\n",
    "# data_files = {'train': 'data/training/wiki5k.txt'}\n",
    "datasets = load_dataset('text', data_files=data_files, cache_dir='./data/')"
   ]
  },
  {
   "cell_type": "code",
   "execution_count": 5,
   "id": "6afb8c51",
   "metadata": {
    "execution": {
     "iopub.execute_input": "2022-04-09T07:06:20.768845Z",
     "iopub.status.busy": "2022-04-09T07:06:20.768676Z",
     "iopub.status.idle": "2022-04-09T07:06:20.788392Z",
     "shell.execute_reply": "2022-04-09T07:06:20.787469Z"
    },
    "papermill": {
     "duration": 0.037106,
     "end_time": "2022-04-09T07:06:20.789587",
     "exception": false,
     "start_time": "2022-04-09T07:06:20.752481",
     "status": "completed"
    },
    "tags": []
   },
   "outputs": [],
   "source": [
    "# Unsupervised / Self-supervised dataset\n",
    "\n",
    "column_names = datasets[\"train\"].column_names\n",
    "sent0_cname = column_names[0]\n",
    "sent1_cname = column_names[0]"
   ]
  },
  {
   "cell_type": "code",
   "execution_count": 6,
   "id": "50bea396",
   "metadata": {
    "execution": {
     "iopub.execute_input": "2022-04-09T07:06:20.818662Z",
     "iopub.status.busy": "2022-04-09T07:06:20.818508Z",
     "iopub.status.idle": "2022-04-09T07:06:21.616705Z",
     "shell.execute_reply": "2022-04-09T07:06:21.615711Z"
    },
    "papermill": {
     "duration": 0.814881,
     "end_time": "2022-04-09T07:06:21.618707",
     "exception": false,
     "start_time": "2022-04-09T07:06:20.803826",
     "status": "completed"
    },
    "tags": []
   },
   "outputs": [],
   "source": [
    "from transformers import AutoTokenizer\n",
    "\n",
    "tokenizer = AutoTokenizer.from_pretrained('distilbert-base-uncased')"
   ]
  },
  {
   "cell_type": "code",
   "execution_count": 7,
   "id": "261d8b40",
   "metadata": {
    "execution": {
     "iopub.execute_input": "2022-04-09T07:06:21.652181Z",
     "iopub.status.busy": "2022-04-09T07:06:21.651989Z",
     "iopub.status.idle": "2022-04-09T07:06:21.678726Z",
     "shell.execute_reply": "2022-04-09T07:06:21.678012Z"
    },
    "papermill": {
     "duration": 0.044255,
     "end_time": "2022-04-09T07:06:21.679920",
     "exception": false,
     "start_time": "2022-04-09T07:06:21.635665",
     "status": "completed"
    },
    "tags": []
   },
   "outputs": [],
   "source": [
    "def prepare_features(examples):\n",
    "    total = len(examples[sent0_cname])\n",
    "\n",
    "    # Avoid \"None\" fields \n",
    "    for idx in range(total):\n",
    "        if examples[sent0_cname][idx] is None:\n",
    "            examples[sent0_cname][idx] = \" \"\n",
    "        if examples[sent1_cname][idx] is None:\n",
    "            examples[sent1_cname][idx] = \" \"\n",
    "\n",
    "    sentences = examples[sent0_cname] + examples[sent1_cname]\n",
    "\n",
    "    sent_features = tokenizer(\n",
    "        sentences,\n",
    "        max_length=max_len,\n",
    "        truncation=True,\n",
    "        padding=True,\n",
    "    )\n",
    "\n",
    "    features = {}\n",
    "    for key in sent_features:\n",
    "        features[key] = [[sent_features[key][i], sent_features[key][i+total]] for i in range(total)]\n",
    "\n",
    "    return features"
   ]
  },
  {
   "cell_type": "code",
   "execution_count": 8,
   "id": "e6238ecb",
   "metadata": {
    "execution": {
     "iopub.execute_input": "2022-04-09T07:06:21.709554Z",
     "iopub.status.busy": "2022-04-09T07:06:21.709393Z",
     "iopub.status.idle": "2022-04-09T07:06:21.752590Z",
     "shell.execute_reply": "2022-04-09T07:06:21.751763Z"
    },
    "papermill": {
     "duration": 0.059378,
     "end_time": "2022-04-09T07:06:21.753814",
     "exception": false,
     "start_time": "2022-04-09T07:06:21.694436",
     "status": "completed"
    },
    "tags": []
   },
   "outputs": [
    {
     "name": "stderr",
     "output_type": "stream",
     "text": [
      "Loading cached processed dataset at ./data/text/default-235a9b97f9ebd10e/0.0.0/4b86d314f7236db91f0a0f5cda32d4375445e64c5eda2692655dd99c2dac68e8/cache-305eab4ce3c7d88c.arrow\n"
     ]
    }
   ],
   "source": [
    "train_dataset = datasets[\"train\"].map(prepare_features,\n",
    "                                      batched=True,\n",
    "                                    #   num_proc=24,\n",
    "                                      remove_columns=column_names)"
   ]
  },
  {
   "cell_type": "code",
   "execution_count": 9,
   "id": "6d2117cd",
   "metadata": {
    "execution": {
     "iopub.execute_input": "2022-04-09T07:06:21.787611Z",
     "iopub.status.busy": "2022-04-09T07:06:21.787425Z",
     "iopub.status.idle": "2022-04-09T07:06:21.813243Z",
     "shell.execute_reply": "2022-04-09T07:06:21.812473Z"
    },
    "papermill": {
     "duration": 0.043996,
     "end_time": "2022-04-09T07:06:21.814501",
     "exception": false,
     "start_time": "2022-04-09T07:06:21.770505",
     "status": "completed"
    },
    "tags": []
   },
   "outputs": [
    {
     "data": {
      "text/plain": [
       "1000000"
      ]
     },
     "execution_count": 9,
     "metadata": {},
     "output_type": "execute_result"
    }
   ],
   "source": [
    "train_dataset.num_rows"
   ]
  },
  {
   "cell_type": "markdown",
   "id": "6f60c6fd",
   "metadata": {
    "papermill": {
     "duration": 0.01523,
     "end_time": "2022-04-09T07:06:21.845234",
     "exception": false,
     "start_time": "2022-04-09T07:06:21.830004",
     "status": "completed"
    },
    "tags": []
   },
   "source": [
    "## 2. Contrastive Learning Model"
   ]
  },
  {
   "cell_type": "code",
   "execution_count": 10,
   "id": "43d4f3fe",
   "metadata": {
    "execution": {
     "iopub.execute_input": "2022-04-09T07:06:21.876192Z",
     "iopub.status.busy": "2022-04-09T07:06:21.876035Z",
     "iopub.status.idle": "2022-04-09T07:06:25.771129Z",
     "shell.execute_reply": "2022-04-09T07:06:25.770556Z"
    },
    "papermill": {
     "duration": 3.913709,
     "end_time": "2022-04-09T07:06:25.773843",
     "exception": false,
     "start_time": "2022-04-09T07:06:21.860134",
     "status": "completed"
    },
    "tags": []
   },
   "outputs": [
    {
     "name": "stderr",
     "output_type": "stream",
     "text": [
      "Some weights of the model checkpoint at distilbert-base-uncased were not used when initializing DistilBertCLModel: ['vocab_projector.weight', 'vocab_layer_norm.bias', 'vocab_transform.weight', 'vocab_transform.bias', 'vocab_layer_norm.weight', 'vocab_projector.bias']\n",
      "- This IS expected if you are initializing DistilBertCLModel from the checkpoint of a model trained on another task or with another architecture (e.g. initializing a BertForSequenceClassification model from a BertForPreTraining model).\n",
      "- This IS NOT expected if you are initializing DistilBertCLModel from the checkpoint of a model that you expect to be exactly identical (initializing a BertForSequenceClassification model from a BertForSequenceClassification model).\n"
     ]
    }
   ],
   "source": [
    "import torch\n",
    "import torch.nn as nn\n",
    "\n",
    "from transformers import AutoTokenizer, DistilBertModel, DistilBertPreTrainedModel, AutoConfig\n",
    "from transformers.modeling_outputs import SequenceClassifierOutput, BaseModelOutputWithPooling\n",
    "\n",
    "from distilface.modules.pooler import Pooler\n",
    "from distilface.modules.similarity import Similarity\n",
    "\n",
    "\n",
    "class DistilBertCLModel(DistilBertPreTrainedModel):\n",
    "    def __init__(self, config, pooler_type=pooling_method, temp=temperature):\n",
    "        super().__init__(config)\n",
    "\n",
    "        self.config = config\n",
    "        self.pooler_type = pooler_type\n",
    "        self.temp = temperature\n",
    "\n",
    "        self.distilbert = DistilBertModel(config)\n",
    "        self.pooler = Pooler(pooler_type)\n",
    "        self.sim = Similarity(temp=temp)\n",
    "\n",
    "        self.init_weights()\n",
    "\n",
    "    def forward(self, input_ids=None, attention_mask=None):\n",
    "        if self.training:\n",
    "            return self.cl_forward(self.distilbert, input_ids, attention_mask)\n",
    "        else:\n",
    "            return self.sent_emb(self.distilbert, input_ids, attention_mask)\n",
    "\n",
    "    def cl_forward(self, encoder, input_ids=None, attention_mask=None):\n",
    "        batch_size = input_ids.size(0)\n",
    "        num_sent = input_ids.size(1)  # Number of sentences in one instance: 2 sentences\n",
    "\n",
    "        # Flatten all input tensors\n",
    "        input_ids = input_ids.view((-1, input_ids.size(-1))) # (bs * num_sent, len)\n",
    "        attention_mask = attention_mask.view((-1, attention_mask.size(-1))) # (bs * num_sent len)\n",
    "\n",
    "        # Pre-trained Model Encoder\n",
    "        outputs = encoder(\n",
    "            input_ids,\n",
    "            attention_mask=attention_mask,\n",
    "            output_hidden_states=True,\n",
    "            return_dict=True,\n",
    "        )\n",
    "\n",
    "        # Pooling\n",
    "        pooler_output = self.pooler(attention_mask, outputs)\n",
    "        pooler_output = pooler_output.view((batch_size, num_sent, pooler_output.size(-1)))  # (bs, num_sent, hidden)\n",
    "\n",
    "        # Separate representation\n",
    "        z1, z2 = pooler_output[:, 0], pooler_output[:, 1]\n",
    "\n",
    "        # Cosine similarity\n",
    "        cos_sim = self.sim(z1.unsqueeze(1), z2.unsqueeze(0))\n",
    "\n",
    "        # Calculate contrastive loss\n",
    "        criterion = nn.CrossEntropyLoss()\n",
    "        labels = torch.arange(cos_sim.size(0)).long().to(self.device)\n",
    "        loss = criterion(cos_sim, labels)\n",
    "\n",
    "        return SequenceClassifierOutput(\n",
    "            loss=loss,\n",
    "            logits=cos_sim,\n",
    "            hidden_states=outputs.hidden_states,\n",
    "            attentions=outputs.attentions,\n",
    "        )\n",
    "\n",
    "    def sent_emb(self, encoder, input_ids=None, attention_mask=None):\n",
    "        outputs = encoder(\n",
    "            input_ids,\n",
    "            attention_mask=attention_mask,\n",
    "            output_hidden_states=True,\n",
    "            return_dict=True,\n",
    "        )\n",
    "        pooler_output = self.pooler(attention_mask, outputs)\n",
    "\n",
    "        return BaseModelOutputWithPooling(\n",
    "            pooler_output=pooler_output,\n",
    "            last_hidden_state=outputs.last_hidden_state,\n",
    "            hidden_states=outputs.hidden_states,\n",
    "        )\n",
    "\n",
    "\n",
    "pretrained_model_name = 'distilbert-base-uncased'\n",
    "\n",
    "device = torch.device(\"cuda\" if torch.cuda.is_available() else \"cpu\")\n",
    "config = AutoConfig.from_pretrained(pretrained_model_name)\n",
    "\n",
    "model = DistilBertCLModel.from_pretrained(pretrained_model_name, config=config).to(device)\n",
    "tokenizer = AutoTokenizer.from_pretrained(pretrained_model_name)\n",
    "\n",
    "model.eval();"
   ]
  },
  {
   "cell_type": "markdown",
   "id": "9e955e28",
   "metadata": {
    "papermill": {
     "duration": 0.015639,
     "end_time": "2022-04-09T07:06:25.806364",
     "exception": false,
     "start_time": "2022-04-09T07:06:25.790725",
     "status": "completed"
    },
    "tags": []
   },
   "source": [
    "### 2.1 Initial DistilBERT embeddings performance"
   ]
  },
  {
   "cell_type": "code",
   "execution_count": 11,
   "id": "b363b359",
   "metadata": {
    "execution": {
     "iopub.execute_input": "2022-04-09T07:06:25.838255Z",
     "iopub.status.busy": "2022-04-09T07:06:25.837664Z",
     "iopub.status.idle": "2022-04-09T07:06:26.242121Z",
     "shell.execute_reply": "2022-04-09T07:06:26.241273Z"
    },
    "papermill": {
     "duration": 0.42246,
     "end_time": "2022-04-09T07:06:26.244141",
     "exception": false,
     "start_time": "2022-04-09T07:06:25.821681",
     "status": "completed"
    },
    "tags": []
   },
   "outputs": [],
   "source": [
    "import senteval\n",
    "\n",
    "\n",
    "def prepare(params, samples):\n",
    "    return\n",
    "\n",
    "def batcher(params, batch):\n",
    "    sentences = [\" \".join(s) for s in batch]\n",
    "    batch = tokenizer.batch_encode_plus(\n",
    "        sentences,\n",
    "        return_tensors=\"pt\",\n",
    "        padding=True,\n",
    "    )\n",
    "\n",
    "    for k in batch:\n",
    "        batch[k] = batch[k].to(device)\n",
    "\n",
    "    with torch.no_grad():\n",
    "        outputs = model(**batch)\n",
    "\n",
    "    pooled_result = outputs.pooler_output.cpu()\n",
    "\n",
    "    return pooled_result\n",
    "\n",
    "\n",
    "def evaluate_model():\n",
    "    PATH_TO_DATA = \"./data\"\n",
    "\n",
    "    params = {\"task_path\": PATH_TO_DATA, \"usepytorch\": True, \"kfold\": 10}\n",
    "    tasks = [\"STSBenchmark\", 'STS12', 'STS13', 'STS14', 'STS15']\n",
    "\n",
    "    se = senteval.engine.SE(params, batcher, prepare)\n",
    "    results = se.eval(tasks)\n",
    "\n",
    "    print('STS12: ', results[\"STS12\"][\"all\"][\"spearman\"][\"all\"])\n",
    "    print('STS13: ', results[\"STS13\"][\"all\"][\"spearman\"][\"all\"])\n",
    "    print('STS14: ', results[\"STS14\"][\"all\"][\"spearman\"][\"all\"])\n",
    "    print('STS15: ', results[\"STS15\"][\"all\"][\"spearman\"][\"all\"])\n",
    "    print('STSB: ', results[\"STSBenchmark\"][\"test\"][\"spearman\"][0])\n",
    "\n",
    "    return results"
   ]
  },
  {
   "cell_type": "code",
   "execution_count": 12,
   "id": "4a14b131",
   "metadata": {
    "execution": {
     "iopub.execute_input": "2022-04-09T07:06:26.278277Z",
     "iopub.status.busy": "2022-04-09T07:06:26.278068Z",
     "iopub.status.idle": "2022-04-09T07:06:44.507874Z",
     "shell.execute_reply": "2022-04-09T07:06:44.507175Z"
    },
    "papermill": {
     "duration": 18.248438,
     "end_time": "2022-04-09T07:06:44.509468",
     "exception": false,
     "start_time": "2022-04-09T07:06:26.261030",
     "status": "completed"
    },
    "tags": []
   },
   "outputs": [
    {
     "name": "stderr",
     "output_type": "stream",
     "text": [
      "/opt/conda/lib/python3.8/site-packages/SentEval-0.1.0-py3.8.egg/senteval/sts.py:42: VisibleDeprecationWarning: Creating an ndarray from ragged nested sequences (which is a list-or-tuple of lists-or-tuples-or ndarrays with different lengths or shapes) is deprecated. If you meant to do this, you must specify 'dtype=object' when creating the ndarray.\n",
      "/opt/conda/lib/python3.8/site-packages/SentEval-0.1.0-py3.8.egg/senteval/sts.py:43: VisibleDeprecationWarning: Creating an ndarray from ragged nested sequences (which is a list-or-tuple of lists-or-tuples-or ndarrays with different lengths or shapes) is deprecated. If you meant to do this, you must specify 'dtype=object' when creating the ndarray.\n"
     ]
    },
    {
     "name": "stdout",
     "output_type": "stream",
     "text": [
      "STS12:  0.4456523100099812\n",
      "STS13:  0.6194359178793624\n",
      "STS14:  0.5450670372565755\n",
      "STS15:  0.6915029783002306\n",
      "STSB:  0.5714832763909351\n"
     ]
    },
    {
     "data": {
      "text/plain": [
       "{'STSBenchmark': {'train': {'pearson': (0.606995023415914, 0.0),\n",
       "   'spearman': SpearmanrResult(correlation=0.5818427489834397, pvalue=0.0),\n",
       "   'nsamples': 5749},\n",
       "  'dev': {'pearson': (0.6684274547943911, 8.132645434850821e-195),\n",
       "   'spearman': SpearmanrResult(correlation=0.682026598787714, pvalue=8.30793594252616e-206),\n",
       "   'nsamples': 1500},\n",
       "  'test': {'pearson': (0.5723646674776501, 7.855402604530646e-121),\n",
       "   'spearman': SpearmanrResult(correlation=0.5714832763909351, pvalue=2.2071385045295518e-120),\n",
       "   'nsamples': 1379},\n",
       "  'all': {'pearson': {'all': 0.6159210295085036,\n",
       "    'mean': 0.6159290485626517,\n",
       "    'wmean': 0.612140293029828},\n",
       "   'spearman': {'all': 0.6044402976728234,\n",
       "    'mean': 0.6117842080540297,\n",
       "    'wmean': 0.5976042304393214}}},\n",
       " 'STS12': {'MSRpar': {'pearson': (0.40452460845705324, 6.761365190003372e-31),\n",
       "   'spearman': SpearmanrResult(correlation=0.4407925662964797, pvalue=5.339057807111345e-37),\n",
       "   'nsamples': 750},\n",
       "  'MSRvid': {'pearson': (0.5416806003606428, 2.072753615994745e-58),\n",
       "   'spearman': SpearmanrResult(correlation=0.5550928964620846, pvalue=7.740894468212657e-62),\n",
       "   'nsamples': 750},\n",
       "  'SMTeuroparl': {'pearson': (0.4834927981796982, 2.8905665499223906e-28),\n",
       "   'spearman': SpearmanrResult(correlation=0.5847906321933259, pvalue=1.8644998414730387e-43),\n",
       "   'nsamples': 459},\n",
       "  'surprise.OnWN': {'pearson': (0.654222874870135, 8.171712822990816e-93),\n",
       "   'spearman': SpearmanrResult(correlation=0.6641574128947071, pvalue=1.3909972832975632e-96),\n",
       "   'nsamples': 750},\n",
       "  'surprise.SMTnews': {'pearson': (0.6765494911253372, 1.0332338904411159e-54),\n",
       "   'spearman': SpearmanrResult(correlation=0.5475102714983853, pvalue=1.386635066247607e-32),\n",
       "   'nsamples': 399},\n",
       "  'all': {'pearson': {'all': 0.42311863696390944,\n",
       "    'mean': 0.5520940745985733,\n",
       "    'wmean': 0.5444618739026268},\n",
       "   'spearman': {'all': 0.4456523100099812,\n",
       "    'mean': 0.5584687558689966,\n",
       "    'wmean': 0.5572418453167779}}},\n",
       " 'STS13': {'FNWN': {'pearson': (0.363720922609634, 2.682892344303524e-07),\n",
       "   'spearman': SpearmanrResult(correlation=0.41449992411451636, pvalue=3.0381269656667474e-09),\n",
       "   'nsamples': 189},\n",
       "  'headlines': {'pearson': (0.6684636577527592, 2.9118192284418652e-98),\n",
       "   'spearman': SpearmanrResult(correlation=0.6531475952870818, pvalue=2.0498820871156243e-92),\n",
       "   'nsamples': 750},\n",
       "  'OnWN': {'pearson': (0.5399140537838543, 9.175123935392959e-44),\n",
       "   'spearman': SpearmanrResult(correlation=0.5670379594699199, pvalue=4.844616615094773e-49),\n",
       "   'nsamples': 561},\n",
       "  'all': {'pearson': {'all': 0.5924569000332071,\n",
       "    'mean': 0.5240328780487492,\n",
       "    'wmean': 0.5819885212403549},\n",
       "   'spearman': {'all': 0.6194359178793624,\n",
       "    'mean': 0.5448951596238394,\n",
       "    'wmean': 0.5908729849237201}}},\n",
       " 'STS14': {'deft-forum': {'pearson': (0.3460981221461426,\n",
       "    4.1499106339116936e-14),\n",
       "   'spearman': SpearmanrResult(correlation=0.37116421432773167, pvalue=3.810949041185533e-16),\n",
       "   'nsamples': 450},\n",
       "  'deft-news': {'pearson': (0.7717725962089181, 1.5331712220338018e-60),\n",
       "   'spearman': SpearmanrResult(correlation=0.7353549207415931, pvalue=2.7702420420415975e-52),\n",
       "   'nsamples': 300},\n",
       "  'headlines': {'pearson': (0.6333380112884544, 2.444785929686584e-85),\n",
       "   'spearman': SpearmanrResult(correlation=0.5897505491392872, pvalue=1.862480103768418e-71),\n",
       "   'nsamples': 750},\n",
       "  'images': {'pearson': (0.6170833584453128, 6.614094742768705e-80),\n",
       "   'spearman': SpearmanrResult(correlation=0.60275270825021, pvalue=2.2519965205556514e-75),\n",
       "   'nsamples': 750},\n",
       "  'OnWN': {'pearson': (0.6903346075058093, 3.02547596768113e-107),\n",
       "   'spearman': SpearmanrResult(correlation=0.7271045168239391, pvalue=2.645637850857475e-124),\n",
       "   'nsamples': 750},\n",
       "  'tweet-news': {'pearson': (0.67337796523429, 3.2589126415859677e-100),\n",
       "   'spearman': SpearmanrResult(correlation=0.6133689035744254, pvalue=1.0412635940562879e-78),\n",
       "   'nsamples': 750},\n",
       "  'all': {'pearson': {'all': 0.5706026104827626,\n",
       "    'mean': 0.6220007768048212,\n",
       "    'wmean': 0.6261003708490238},\n",
       "   'spearman': {'all': 0.5450670372565755,\n",
       "    'mean': 0.6065826354761977,\n",
       "    'wmean': 0.6099634349362276}}},\n",
       " 'STS15': {'answers-forums': {'pearson': (0.5777937659222426,\n",
       "    8.880863904475424e-35),\n",
       "   'spearman': SpearmanrResult(correlation=0.5810760654332257, pvalue=3.035421485147378e-35),\n",
       "   'nsamples': 375},\n",
       "  'answers-students': {'pearson': (0.689871858934127, 4.7769595221062765e-107),\n",
       "   'spearman': SpearmanrResult(correlation=0.6987032995324889, pvalue=6.726655617591133e-111),\n",
       "   'nsamples': 750},\n",
       "  'belief': {'pearson': (0.6672420350101157, 1.174318581517817e-49),\n",
       "   'spearman': SpearmanrResult(correlation=0.7104114024949786, pvalue=7.221973815784986e-59),\n",
       "   'nsamples': 375},\n",
       "  'headlines': {'pearson': (0.6820248687137571, 9.699358136843352e-104),\n",
       "   'spearman': SpearmanrResult(correlation=0.6734262257062733, pvalue=3.1169141480884377e-100),\n",
       "   'nsamples': 750},\n",
       "  'images': {'pearson': (0.7326327618913089, 4.113028320427688e-127),\n",
       "   'spearman': SpearmanrResult(correlation=0.7431266309445079, pvalue=1.2169491210504815e-132),\n",
       "   'nsamples': 750},\n",
       "  'all': {'pearson': {'all': 0.6732396990428111,\n",
       "    'mean': 0.6699130580943102,\n",
       "    'wmean': 0.681761847501343},\n",
       "   'spearman': {'all': 0.6915029783002306,\n",
       "    'mean': 0.6813487248222949,\n",
       "    'wmean': 0.6902499725368431}}}}"
      ]
     },
     "execution_count": 12,
     "metadata": {},
     "output_type": "execute_result"
    }
   ],
   "source": [
    "results = evaluate_model()\n",
    "results"
   ]
  },
  {
   "cell_type": "markdown",
   "id": "374a1ada",
   "metadata": {
    "papermill": {
     "duration": 0.01921,
     "end_time": "2022-04-09T07:06:44.548646",
     "exception": false,
     "start_time": "2022-04-09T07:06:44.529436",
     "status": "completed"
    },
    "tags": []
   },
   "source": [
    "## 3. Trainer"
   ]
  },
  {
   "cell_type": "code",
   "execution_count": 13,
   "id": "12ed8156",
   "metadata": {
    "execution": {
     "iopub.execute_input": "2022-04-09T07:06:44.584789Z",
     "iopub.status.busy": "2022-04-09T07:06:44.584351Z",
     "iopub.status.idle": "2022-04-09T07:06:44.814685Z",
     "shell.execute_reply": "2022-04-09T07:06:44.814070Z"
    },
    "papermill": {
     "duration": 0.250204,
     "end_time": "2022-04-09T07:06:44.816048",
     "exception": false,
     "start_time": "2022-04-09T07:06:44.565844",
     "status": "completed"
    },
    "tags": []
   },
   "outputs": [
    {
     "name": "stderr",
     "output_type": "stream",
     "text": [
      "max_steps is given, it will override any value given in num_train_epochs\n",
      "Using amp half precision backend\n"
     ]
    }
   ],
   "source": [
    "# import mlflow\n",
    "\n",
    "from transformers import Trainer, TrainingArguments\n",
    "from transformers import default_data_collator\n",
    "\n",
    "training_args = TrainingArguments(\n",
    "    output_dir='output',\n",
    "    overwrite_output_dir=True,\n",
    "    learning_rate=learning_rate,\n",
    "    num_train_epochs=epochs,\n",
    "    max_steps=max_steps,\n",
    "    per_device_train_batch_size=batch_size,\n",
    "    per_device_eval_batch_size=batch_size,\n",
    "    save_strategy='steps',\n",
    "    save_steps=max_steps,\n",
    "    fp16=fp16,\n",
    ")\n",
    "\n",
    "model.train()\n",
    "\n",
    "trainer = Trainer(\n",
    "    model=model,\n",
    "    args=training_args,\n",
    "    train_dataset=train_dataset,\n",
    "    tokenizer=tokenizer,\n",
    "    data_collator=default_data_collator\n",
    ")"
   ]
  },
  {
   "cell_type": "code",
   "execution_count": 14,
   "id": "e9cb8684",
   "metadata": {
    "execution": {
     "iopub.execute_input": "2022-04-09T07:06:44.855641Z",
     "iopub.status.busy": "2022-04-09T07:06:44.855225Z",
     "iopub.status.idle": "2022-04-09T07:45:39.711641Z",
     "shell.execute_reply": "2022-04-09T07:45:39.710979Z"
    },
    "papermill": {
     "duration": 2334.877842,
     "end_time": "2022-04-09T07:45:39.713048",
     "exception": false,
     "start_time": "2022-04-09T07:06:44.835206",
     "status": "completed"
    },
    "tags": []
   },
   "outputs": [
    {
     "name": "stderr",
     "output_type": "stream",
     "text": [
      "/opt/conda/lib/python3.8/site-packages/transformers/optimization.py:306: FutureWarning: This implementation of AdamW is deprecated and will be removed in a future version. Use the PyTorch implementation torch.optim.AdamW instead, or set `no_deprecation_warning=True` to disable this warning\n",
      "  warnings.warn(\n",
      "***** Running training *****\n",
      "  Num examples = 1000000\n",
      "  Num Epochs = 2\n",
      "  Instantaneous batch size per device = 64\n",
      "  Total train batch size (w. parallel, distributed & accumulation) = 64\n",
      "  Gradient Accumulation steps = 1\n",
      "  Total optimization steps = 30000\n"
     ]
    },
    {
     "data": {
      "text/html": [
       "\n",
       "    <div>\n",
       "      \n",
       "      <progress value='30000' max='30000' style='width:300px; height:20px; vertical-align: middle;'></progress>\n",
       "      [30000/30000 38:54, Epoch 1/2]\n",
       "    </div>\n",
       "    <table border=\"1\" class=\"dataframe\">\n",
       "  <thead>\n",
       " <tr style=\"text-align: left;\">\n",
       "      <th>Step</th>\n",
       "      <th>Training Loss</th>\n",
       "    </tr>\n",
       "  </thead>\n",
       "  <tbody>\n",
       "    <tr>\n",
       "      <td>500</td>\n",
       "      <td>0.008900</td>\n",
       "    </tr>\n",
       "    <tr>\n",
       "      <td>1000</td>\n",
       "      <td>0.000300</td>\n",
       "    </tr>\n",
       "    <tr>\n",
       "      <td>1500</td>\n",
       "      <td>0.000200</td>\n",
       "    </tr>\n",
       "    <tr>\n",
       "      <td>2000</td>\n",
       "      <td>0.000100</td>\n",
       "    </tr>\n",
       "    <tr>\n",
       "      <td>2500</td>\n",
       "      <td>0.000100</td>\n",
       "    </tr>\n",
       "    <tr>\n",
       "      <td>3000</td>\n",
       "      <td>0.000200</td>\n",
       "    </tr>\n",
       "    <tr>\n",
       "      <td>3500</td>\n",
       "      <td>0.000100</td>\n",
       "    </tr>\n",
       "    <tr>\n",
       "      <td>4000</td>\n",
       "      <td>0.000100</td>\n",
       "    </tr>\n",
       "    <tr>\n",
       "      <td>4500</td>\n",
       "      <td>0.000100</td>\n",
       "    </tr>\n",
       "    <tr>\n",
       "      <td>5000</td>\n",
       "      <td>0.000200</td>\n",
       "    </tr>\n",
       "    <tr>\n",
       "      <td>5500</td>\n",
       "      <td>0.000000</td>\n",
       "    </tr>\n",
       "    <tr>\n",
       "      <td>6000</td>\n",
       "      <td>0.000100</td>\n",
       "    </tr>\n",
       "    <tr>\n",
       "      <td>6500</td>\n",
       "      <td>0.000100</td>\n",
       "    </tr>\n",
       "    <tr>\n",
       "      <td>7000</td>\n",
       "      <td>0.000200</td>\n",
       "    </tr>\n",
       "    <tr>\n",
       "      <td>7500</td>\n",
       "      <td>0.000100</td>\n",
       "    </tr>\n",
       "    <tr>\n",
       "      <td>8000</td>\n",
       "      <td>0.000000</td>\n",
       "    </tr>\n",
       "    <tr>\n",
       "      <td>8500</td>\n",
       "      <td>0.000100</td>\n",
       "    </tr>\n",
       "    <tr>\n",
       "      <td>9000</td>\n",
       "      <td>0.000200</td>\n",
       "    </tr>\n",
       "    <tr>\n",
       "      <td>9500</td>\n",
       "      <td>0.000100</td>\n",
       "    </tr>\n",
       "    <tr>\n",
       "      <td>10000</td>\n",
       "      <td>0.000100</td>\n",
       "    </tr>\n",
       "    <tr>\n",
       "      <td>10500</td>\n",
       "      <td>0.000300</td>\n",
       "    </tr>\n",
       "    <tr>\n",
       "      <td>11000</td>\n",
       "      <td>0.000100</td>\n",
       "    </tr>\n",
       "    <tr>\n",
       "      <td>11500</td>\n",
       "      <td>0.000300</td>\n",
       "    </tr>\n",
       "    <tr>\n",
       "      <td>12000</td>\n",
       "      <td>0.000000</td>\n",
       "    </tr>\n",
       "    <tr>\n",
       "      <td>12500</td>\n",
       "      <td>0.000200</td>\n",
       "    </tr>\n",
       "    <tr>\n",
       "      <td>13000</td>\n",
       "      <td>0.000100</td>\n",
       "    </tr>\n",
       "    <tr>\n",
       "      <td>13500</td>\n",
       "      <td>0.000100</td>\n",
       "    </tr>\n",
       "    <tr>\n",
       "      <td>14000</td>\n",
       "      <td>0.000100</td>\n",
       "    </tr>\n",
       "    <tr>\n",
       "      <td>14500</td>\n",
       "      <td>0.000100</td>\n",
       "    </tr>\n",
       "    <tr>\n",
       "      <td>15000</td>\n",
       "      <td>0.000100</td>\n",
       "    </tr>\n",
       "    <tr>\n",
       "      <td>15500</td>\n",
       "      <td>0.000000</td>\n",
       "    </tr>\n",
       "    <tr>\n",
       "      <td>16000</td>\n",
       "      <td>0.000200</td>\n",
       "    </tr>\n",
       "    <tr>\n",
       "      <td>16500</td>\n",
       "      <td>0.000200</td>\n",
       "    </tr>\n",
       "    <tr>\n",
       "      <td>17000</td>\n",
       "      <td>0.000100</td>\n",
       "    </tr>\n",
       "    <tr>\n",
       "      <td>17500</td>\n",
       "      <td>0.000100</td>\n",
       "    </tr>\n",
       "    <tr>\n",
       "      <td>18000</td>\n",
       "      <td>0.000100</td>\n",
       "    </tr>\n",
       "    <tr>\n",
       "      <td>18500</td>\n",
       "      <td>0.000100</td>\n",
       "    </tr>\n",
       "    <tr>\n",
       "      <td>19000</td>\n",
       "      <td>0.000200</td>\n",
       "    </tr>\n",
       "    <tr>\n",
       "      <td>19500</td>\n",
       "      <td>0.000000</td>\n",
       "    </tr>\n",
       "    <tr>\n",
       "      <td>20000</td>\n",
       "      <td>0.000200</td>\n",
       "    </tr>\n",
       "    <tr>\n",
       "      <td>20500</td>\n",
       "      <td>0.000100</td>\n",
       "    </tr>\n",
       "    <tr>\n",
       "      <td>21000</td>\n",
       "      <td>0.000100</td>\n",
       "    </tr>\n",
       "    <tr>\n",
       "      <td>21500</td>\n",
       "      <td>0.000100</td>\n",
       "    </tr>\n",
       "    <tr>\n",
       "      <td>22000</td>\n",
       "      <td>0.000000</td>\n",
       "    </tr>\n",
       "    <tr>\n",
       "      <td>22500</td>\n",
       "      <td>0.000100</td>\n",
       "    </tr>\n",
       "    <tr>\n",
       "      <td>23000</td>\n",
       "      <td>0.000200</td>\n",
       "    </tr>\n",
       "    <tr>\n",
       "      <td>23500</td>\n",
       "      <td>0.000000</td>\n",
       "    </tr>\n",
       "    <tr>\n",
       "      <td>24000</td>\n",
       "      <td>0.000100</td>\n",
       "    </tr>\n",
       "    <tr>\n",
       "      <td>24500</td>\n",
       "      <td>0.000000</td>\n",
       "    </tr>\n",
       "    <tr>\n",
       "      <td>25000</td>\n",
       "      <td>0.000100</td>\n",
       "    </tr>\n",
       "    <tr>\n",
       "      <td>25500</td>\n",
       "      <td>0.000200</td>\n",
       "    </tr>\n",
       "    <tr>\n",
       "      <td>26000</td>\n",
       "      <td>0.000100</td>\n",
       "    </tr>\n",
       "    <tr>\n",
       "      <td>26500</td>\n",
       "      <td>0.000100</td>\n",
       "    </tr>\n",
       "    <tr>\n",
       "      <td>27000</td>\n",
       "      <td>0.000000</td>\n",
       "    </tr>\n",
       "    <tr>\n",
       "      <td>27500</td>\n",
       "      <td>0.000000</td>\n",
       "    </tr>\n",
       "    <tr>\n",
       "      <td>28000</td>\n",
       "      <td>0.000200</td>\n",
       "    </tr>\n",
       "    <tr>\n",
       "      <td>28500</td>\n",
       "      <td>0.000100</td>\n",
       "    </tr>\n",
       "    <tr>\n",
       "      <td>29000</td>\n",
       "      <td>0.000100</td>\n",
       "    </tr>\n",
       "    <tr>\n",
       "      <td>29500</td>\n",
       "      <td>0.000100</td>\n",
       "    </tr>\n",
       "    <tr>\n",
       "      <td>30000</td>\n",
       "      <td>0.000100</td>\n",
       "    </tr>\n",
       "  </tbody>\n",
       "</table><p>"
      ],
      "text/plain": [
       "<IPython.core.display.HTML object>"
      ]
     },
     "metadata": {},
     "output_type": "display_data"
    },
    {
     "name": "stderr",
     "output_type": "stream",
     "text": [
      "Saving model checkpoint to output/checkpoint-30000\n",
      "Configuration saved in output/checkpoint-30000/config.json\n",
      "Model weights saved in output/checkpoint-30000/pytorch_model.bin\n",
      "tokenizer config file saved in output/checkpoint-30000/tokenizer_config.json\n",
      "Special tokens file saved in output/checkpoint-30000/special_tokens_map.json\n",
      "\n",
      "\n",
      "Training completed. Do not forget to share your model on huggingface.co/models =)\n",
      "\n",
      "\n"
     ]
    }
   ],
   "source": [
    "train_result = trainer.train()"
   ]
  },
  {
   "cell_type": "code",
   "execution_count": 15,
   "id": "7a5d10a4",
   "metadata": {
    "execution": {
     "iopub.execute_input": "2022-04-09T07:45:39.759552Z",
     "iopub.status.busy": "2022-04-09T07:45:39.758845Z",
     "iopub.status.idle": "2022-04-09T07:45:39.789177Z",
     "shell.execute_reply": "2022-04-09T07:45:39.788569Z"
    },
    "papermill": {
     "duration": 0.054833,
     "end_time": "2022-04-09T07:45:39.790575",
     "exception": false,
     "start_time": "2022-04-09T07:45:39.735742",
     "status": "completed"
    },
    "tags": []
   },
   "outputs": [],
   "source": [
    "import pandas as pd\n",
    "\n",
    "pd.DataFrame(trainer.state.log_history).to_csv(f'logs/cl-distilled_pooling_{pooling_method}_fp16.csv', index=False)"
   ]
  },
  {
   "cell_type": "markdown",
   "id": "dcdfa45b",
   "metadata": {
    "papermill": {
     "duration": 0.022639,
     "end_time": "2022-04-09T07:45:39.855656",
     "exception": false,
     "start_time": "2022-04-09T07:45:39.833017",
     "status": "completed"
    },
    "tags": []
   },
   "source": [
    "## 4. Evaluate DistilBert CL Model performance"
   ]
  },
  {
   "cell_type": "code",
   "execution_count": 16,
   "id": "6012e345",
   "metadata": {
    "execution": {
     "iopub.execute_input": "2022-04-09T07:45:39.901906Z",
     "iopub.status.busy": "2022-04-09T07:45:39.901412Z",
     "iopub.status.idle": "2022-04-09T07:45:57.343039Z",
     "shell.execute_reply": "2022-04-09T07:45:57.342501Z"
    },
    "papermill": {
     "duration": 17.466315,
     "end_time": "2022-04-09T07:45:57.344538",
     "exception": false,
     "start_time": "2022-04-09T07:45:39.878223",
     "status": "completed"
    },
    "tags": []
   },
   "outputs": [
    {
     "name": "stderr",
     "output_type": "stream",
     "text": [
      "/opt/conda/lib/python3.8/site-packages/SentEval-0.1.0-py3.8.egg/senteval/sts.py:42: VisibleDeprecationWarning: Creating an ndarray from ragged nested sequences (which is a list-or-tuple of lists-or-tuples-or ndarrays with different lengths or shapes) is deprecated. If you meant to do this, you must specify 'dtype=object' when creating the ndarray.\n",
      "/opt/conda/lib/python3.8/site-packages/SentEval-0.1.0-py3.8.egg/senteval/sts.py:43: VisibleDeprecationWarning: Creating an ndarray from ragged nested sequences (which is a list-or-tuple of lists-or-tuples-or ndarrays with different lengths or shapes) is deprecated. If you meant to do this, you must specify 'dtype=object' when creating the ndarray.\n"
     ]
    },
    {
     "name": "stdout",
     "output_type": "stream",
     "text": [
      "STS12:  0.6281748816245959\n",
      "STS13:  0.768148286154021\n",
      "STS14:  0.6885933544895245\n",
      "STS15:  0.762658463028712\n",
      "STSB:  0.7215681703931449\n"
     ]
    },
    {
     "data": {
      "text/plain": [
       "{'STSBenchmark': {'train': {'pearson': (0.7672483202995806, 0.0),\n",
       "   'spearman': SpearmanrResult(correlation=0.744374466260086, pvalue=0.0),\n",
       "   'nsamples': 5749},\n",
       "  'dev': {'pearson': (0.7671888190491088, 3.386976441444872e-291),\n",
       "   'spearman': SpearmanrResult(correlation=0.7716208165153848, pvalue=1.2301322347804205e-296),\n",
       "   'nsamples': 1500},\n",
       "  'test': {'pearson': (0.7320239263360222, 9.03768905501725e-232),\n",
       "   'spearman': SpearmanrResult(correlation=0.7215681703931449, pvalue=3.950078224307417e-222),\n",
       "   'nsamples': 1379},\n",
       "  'all': {'pearson': {'all': 0.7595204167894767,\n",
       "    'mean': 0.7554870218949038,\n",
       "    'wmean': 0.7616081150200888},\n",
       "   'spearman': {'all': 0.7500433448479288,\n",
       "    'mean': 0.7458544843895386,\n",
       "    'wmean': 0.7454662190860523}}},\n",
       " 'STS12': {'MSRpar': {'pearson': (0.5825598550139534, 2.2978052059749503e-69),\n",
       "   'spearman': SpearmanrResult(correlation=0.5905762175888276, pvalue=1.0631574031262406e-71),\n",
       "   'nsamples': 750},\n",
       "  'MSRvid': {'pearson': (0.828288348971447, 2.323937359957948e-190),\n",
       "   'spearman': SpearmanrResult(correlation=0.818426132799386, pvalue=3.6619164240221285e-182),\n",
       "   'nsamples': 750},\n",
       "  'SMTeuroparl': {'pearson': (0.475507508782577, 2.8506654815951764e-27),\n",
       "   'spearman': SpearmanrResult(correlation=0.6135137559386697, pvalue=8.289919556467404e-49),\n",
       "   'nsamples': 459},\n",
       "  'surprise.OnWN': {'pearson': (0.7225827311055054, 4.663451271875651e-122),\n",
       "   'spearman': SpearmanrResult(correlation=0.6944937461577079, pvalue=4.797606091878689e-109),\n",
       "   'nsamples': 750},\n",
       "  'surprise.SMTnews': {'pearson': (0.5834444507188357, 9.129044998550304e-38),\n",
       "   'spearman': SpearmanrResult(correlation=0.5374621408907531, pvalue=3.0317922003546403e-31),\n",
       "   'nsamples': 399},\n",
       "  'all': {'pearson': {'all': 0.6590291963938945,\n",
       "    'mean': 0.6384765789184637,\n",
       "    'wmean': 0.6599502843263184},\n",
       "   'spearman': {'all': 0.6281748816245959,\n",
       "    'mean': 0.6508943986750688,\n",
       "    'wmean': 0.6672047234879991}}},\n",
       " 'STS13': {'FNWN': {'pearson': (0.5305139265637295, 4.112152167323898e-15),\n",
       "   'spearman': SpearmanrResult(correlation=0.5600324318020592, pvalue=5.372288837523489e-17),\n",
       "   'nsamples': 189},\n",
       "  'headlines': {'pearson': (0.7709666332459348, 1.0238376763336847e-148),\n",
       "   'spearman': SpearmanrResult(correlation=0.7652117601477705, pvalue=3.278026715358868e-145),\n",
       "   'nsamples': 750},\n",
       "  'OnWN': {'pearson': (0.7948119036504621, 2.3558566520695485e-123),\n",
       "   'spearman': SpearmanrResult(correlation=0.788249652091848, pvalue=5.654814725897753e-120),\n",
       "   'nsamples': 561},\n",
       "  'all': {'pearson': {'all': 0.7626427358930504,\n",
       "    'mean': 0.6987641544867088,\n",
       "    'wmean': 0.7495877233352701},\n",
       "   'spearman': {'all': 0.768148286154021,\n",
       "    'mean': 0.7044979480138925,\n",
       "    'wmean': 0.7479753363632958}}},\n",
       " 'STS14': {'deft-forum': {'pearson': (0.5685098806043325,\n",
       "    6.9492860227993996e-40),\n",
       "   'spearman': SpearmanrResult(correlation=0.5579922509992282, pvalue=3.453353041183329e-38),\n",
       "   'nsamples': 450},\n",
       "  'deft-news': {'pearson': (0.7934076418370882, 3.2682881741872825e-66),\n",
       "   'spearman': SpearmanrResult(correlation=0.7695002894626338, pvalue=5.557757386650879e-60),\n",
       "   'nsamples': 300},\n",
       "  'headlines': {'pearson': (0.7558078954736852, 1.0765180162110275e-139),\n",
       "   'spearman': SpearmanrResult(correlation=0.7300173754622687, pvalue=8.94280048719398e-126),\n",
       "   'nsamples': 750},\n",
       "  'images': {'pearson': (0.7855917735809925, 4.169873486714998e-158),\n",
       "   'spearman': SpearmanrResult(correlation=0.7543535795684924, pvalue=7.290241068970077e-139),\n",
       "   'nsamples': 750},\n",
       "  'OnWN': {'pearson': (0.8337599912814386, 3.879169360517457e-195),\n",
       "   'spearman': SpearmanrResult(correlation=0.8310087488244208, pvalue=1.0289993700000754e-192),\n",
       "   'nsamples': 750},\n",
       "  'tweet-news': {'pearson': (0.7723461441607552, 1.427746131272197e-149),\n",
       "   'spearman': SpearmanrResult(correlation=0.7192827819036837, pvalue=1.9051384026107863e-120),\n",
       "   'nsamples': 750},\n",
       "  'all': {'pearson': {'all': 0.7152547363920224,\n",
       "    'mean': 0.7515705544897154,\n",
       "    'wmean': 0.7611949579188614},\n",
       "   'spearman': {'all': 0.6885933544895245,\n",
       "    'mean': 0.7270258377034545,\n",
       "    'wmean': 0.7354515904286911}}},\n",
       " 'STS15': {'answers-forums': {'pearson': (0.6981478436307258,\n",
       "    4.392397992368315e-56),\n",
       "   'spearman': SpearmanrResult(correlation=0.7040604194897822, pvalue=2.081298080004496e-57),\n",
       "   'nsamples': 375},\n",
       "  'answers-students': {'pearson': (0.7047208534452912,\n",
       "    1.3231985594738344e-113),\n",
       "   'spearman': SpearmanrResult(correlation=0.7054371143022721, pvalue=6.236492251234592e-114),\n",
       "   'nsamples': 750},\n",
       "  'belief': {'pearson': (0.7720850943308917, 1.9694047464976902e-75),\n",
       "   'spearman': SpearmanrResult(correlation=0.7848022771345771, pvalue=1.644737398417326e-79),\n",
       "   'nsamples': 375},\n",
       "  'headlines': {'pearson': (0.7955272536829399, 6.446339960711731e-165),\n",
       "   'spearman': SpearmanrResult(correlation=0.797730596538626, pvalue=1.7682927256407492e-166),\n",
       "   'nsamples': 750},\n",
       "  'images': {'pearson': (0.8420126114058306, 1.105364705032958e-202),\n",
       "   'spearman': SpearmanrResult(correlation=0.8471500740106601, pvalue=1.3294415520330891e-207),\n",
       "   'nsamples': 750},\n",
       "  'all': {'pearson': {'all': 0.7606564611450239,\n",
       "    'mean': 0.7624987312991358,\n",
       "    'wmean': 0.7693442968787176},\n",
       "   'spearman': {'all': 0.762658463028712,\n",
       "    'mean': 0.7678360962951836,\n",
       "    'wmean': 0.7736872832909345}}}}"
      ]
     },
     "execution_count": 16,
     "metadata": {},
     "output_type": "execute_result"
    }
   ],
   "source": [
    "model.eval()\n",
    "\n",
    "results = evaluate_model()\n",
    "results"
   ]
  },
  {
   "cell_type": "code",
   "execution_count": null,
   "id": "b4a7aeec",
   "metadata": {
    "papermill": {
     "duration": 0.022136,
     "end_time": "2022-04-09T07:45:57.427756",
     "exception": false,
     "start_time": "2022-04-09T07:45:57.405620",
     "status": "completed"
    },
    "tags": []
   },
   "outputs": [],
   "source": []
  }
 ],
 "metadata": {
  "celltoolbar": "Tags",
  "kernelspec": {
   "display_name": "Python 3 (ipykernel)",
   "language": "python",
   "name": "python3"
  },
  "language_info": {
   "codemirror_mode": {
    "name": "ipython",
    "version": 3
   },
   "file_extension": ".py",
   "mimetype": "text/x-python",
   "name": "python",
   "nbconvert_exporter": "python",
   "pygments_lexer": "ipython3",
   "version": "3.8.12"
  },
  "papermill": {
   "default_parameters": {},
   "duration": 2380.014397,
   "end_time": "2022-04-09T07:45:58.272133",
   "environment_variables": {},
   "exception": null,
   "input_path": "notebooks/training/cl-distilbert_pooling_avg-first-last.ipynb",
   "output_path": "notebooks/training/cl-distilbert_pooling_concat_last4.ipynb",
   "parameters": {
    "pooling_method": "concat_last4"
   },
   "start_time": "2022-04-09T07:06:18.257736",
   "version": "2.3.4"
  },
  "toc": {
   "base_numbering": 1,
   "nav_menu": {},
   "number_sections": false,
   "sideBar": true,
   "skip_h1_title": false,
   "title_cell": "Table of Contents",
   "title_sidebar": "Contents",
   "toc_cell": false,
   "toc_position": {},
   "toc_section_display": true,
   "toc_window_display": false
  },
  "widgets": {
   "application/vnd.jupyter.widget-state+json": {
    "state": {
     "0990df11c0cf4d01881868894e95f542": {
      "model_module": "@jupyter-widgets/controls",
      "model_module_version": "1.5.0",
      "model_name": "FloatProgressModel",
      "state": {
       "_dom_classes": [],
       "_model_module": "@jupyter-widgets/controls",
       "_model_module_version": "1.5.0",
       "_model_name": "FloatProgressModel",
       "_view_count": null,
       "_view_module": "@jupyter-widgets/controls",
       "_view_module_version": "1.5.0",
       "_view_name": "ProgressView",
       "bar_style": "success",
       "description": "",
       "description_tooltip": null,
       "layout": "IPY_MODEL_394ba12af2944979a07a2ce96383cd65",
       "max": 1,
       "min": 0,
       "orientation": "horizontal",
       "style": "IPY_MODEL_3643a03eb80c4759a7c1f00f1f0cd226",
       "value": 1
      }
     },
     "2c9230091e754553bb0ddad327d80237": {
      "model_module": "@jupyter-widgets/base",
      "model_module_version": "1.2.0",
      "model_name": "LayoutModel",
      "state": {
       "_model_module": "@jupyter-widgets/base",
       "_model_module_version": "1.2.0",
       "_model_name": "LayoutModel",
       "_view_count": null,
       "_view_module": "@jupyter-widgets/base",
       "_view_module_version": "1.2.0",
       "_view_name": "LayoutView",
       "align_content": null,
       "align_items": null,
       "align_self": null,
       "border": null,
       "bottom": null,
       "display": null,
       "flex": null,
       "flex_flow": null,
       "grid_area": null,
       "grid_auto_columns": null,
       "grid_auto_flow": null,
       "grid_auto_rows": null,
       "grid_column": null,
       "grid_gap": null,
       "grid_row": null,
       "grid_template_areas": null,
       "grid_template_columns": null,
       "grid_template_rows": null,
       "height": null,
       "justify_content": null,
       "justify_items": null,
       "left": null,
       "margin": null,
       "max_height": null,
       "max_width": null,
       "min_height": null,
       "min_width": null,
       "object_fit": null,
       "object_position": null,
       "order": null,
       "overflow": null,
       "overflow_x": null,
       "overflow_y": null,
       "padding": null,
       "right": null,
       "top": null,
       "visibility": null,
       "width": null
      }
     },
     "359559d1c6ae4950a3c6ef61cf83ca00": {
      "model_module": "@jupyter-widgets/base",
      "model_module_version": "1.2.0",
      "model_name": "LayoutModel",
      "state": {
       "_model_module": "@jupyter-widgets/base",
       "_model_module_version": "1.2.0",
       "_model_name": "LayoutModel",
       "_view_count": null,
       "_view_module": "@jupyter-widgets/base",
       "_view_module_version": "1.2.0",
       "_view_name": "LayoutView",
       "align_content": null,
       "align_items": null,
       "align_self": null,
       "border": null,
       "bottom": null,
       "display": null,
       "flex": null,
       "flex_flow": null,
       "grid_area": null,
       "grid_auto_columns": null,
       "grid_auto_flow": null,
       "grid_auto_rows": null,
       "grid_column": null,
       "grid_gap": null,
       "grid_row": null,
       "grid_template_areas": null,
       "grid_template_columns": null,
       "grid_template_rows": null,
       "height": null,
       "justify_content": null,
       "justify_items": null,
       "left": null,
       "margin": null,
       "max_height": null,
       "max_width": null,
       "min_height": null,
       "min_width": null,
       "object_fit": null,
       "object_position": null,
       "order": null,
       "overflow": null,
       "overflow_x": null,
       "overflow_y": null,
       "padding": null,
       "right": null,
       "top": null,
       "visibility": null,
       "width": null
      }
     },
     "3643a03eb80c4759a7c1f00f1f0cd226": {
      "model_module": "@jupyter-widgets/controls",
      "model_module_version": "1.5.0",
      "model_name": "ProgressStyleModel",
      "state": {
       "_model_module": "@jupyter-widgets/controls",
       "_model_module_version": "1.5.0",
       "_model_name": "ProgressStyleModel",
       "_view_count": null,
       "_view_module": "@jupyter-widgets/base",
       "_view_module_version": "1.2.0",
       "_view_name": "StyleView",
       "bar_color": null,
       "description_width": ""
      }
     },
     "394ba12af2944979a07a2ce96383cd65": {
      "model_module": "@jupyter-widgets/base",
      "model_module_version": "1.2.0",
      "model_name": "LayoutModel",
      "state": {
       "_model_module": "@jupyter-widgets/base",
       "_model_module_version": "1.2.0",
       "_model_name": "LayoutModel",
       "_view_count": null,
       "_view_module": "@jupyter-widgets/base",
       "_view_module_version": "1.2.0",
       "_view_name": "LayoutView",
       "align_content": null,
       "align_items": null,
       "align_self": null,
       "border": null,
       "bottom": null,
       "display": null,
       "flex": null,
       "flex_flow": null,
       "grid_area": null,
       "grid_auto_columns": null,
       "grid_auto_flow": null,
       "grid_auto_rows": null,
       "grid_column": null,
       "grid_gap": null,
       "grid_row": null,
       "grid_template_areas": null,
       "grid_template_columns": null,
       "grid_template_rows": null,
       "height": null,
       "justify_content": null,
       "justify_items": null,
       "left": null,
       "margin": null,
       "max_height": null,
       "max_width": null,
       "min_height": null,
       "min_width": null,
       "object_fit": null,
       "object_position": null,
       "order": null,
       "overflow": null,
       "overflow_x": null,
       "overflow_y": null,
       "padding": null,
       "right": null,
       "top": null,
       "visibility": null,
       "width": null
      }
     },
     "730481b22c2349979097d6202cf9def7": {
      "model_module": "@jupyter-widgets/controls",
      "model_module_version": "1.5.0",
      "model_name": "HTMLModel",
      "state": {
       "_dom_classes": [],
       "_model_module": "@jupyter-widgets/controls",
       "_model_module_version": "1.5.0",
       "_model_name": "HTMLModel",
       "_view_count": null,
       "_view_module": "@jupyter-widgets/controls",
       "_view_module_version": "1.5.0",
       "_view_name": "HTMLView",
       "description": "",
       "description_tooltip": null,
       "layout": "IPY_MODEL_b22494dfd24f47b5935a0b07e43fb9a0",
       "placeholder": "​",
       "style": "IPY_MODEL_caae6d711ad341bfb3e1bfd26c57199f",
       "value": "100%"
      }
     },
     "8263c598c60e4af0a3e3fea0a883dad0": {
      "model_module": "@jupyter-widgets/controls",
      "model_module_version": "1.5.0",
      "model_name": "HBoxModel",
      "state": {
       "_dom_classes": [],
       "_model_module": "@jupyter-widgets/controls",
       "_model_module_version": "1.5.0",
       "_model_name": "HBoxModel",
       "_view_count": null,
       "_view_module": "@jupyter-widgets/controls",
       "_view_module_version": "1.5.0",
       "_view_name": "HBoxView",
       "box_style": "",
       "children": [
        "IPY_MODEL_730481b22c2349979097d6202cf9def7",
        "IPY_MODEL_0990df11c0cf4d01881868894e95f542",
        "IPY_MODEL_845d7434d4ca40f8b87c0375f4d72fc8"
       ],
       "layout": "IPY_MODEL_2c9230091e754553bb0ddad327d80237"
      }
     },
     "845d7434d4ca40f8b87c0375f4d72fc8": {
      "model_module": "@jupyter-widgets/controls",
      "model_module_version": "1.5.0",
      "model_name": "HTMLModel",
      "state": {
       "_dom_classes": [],
       "_model_module": "@jupyter-widgets/controls",
       "_model_module_version": "1.5.0",
       "_model_name": "HTMLModel",
       "_view_count": null,
       "_view_module": "@jupyter-widgets/controls",
       "_view_module_version": "1.5.0",
       "_view_name": "HTMLView",
       "description": "",
       "description_tooltip": null,
       "layout": "IPY_MODEL_359559d1c6ae4950a3c6ef61cf83ca00",
       "placeholder": "​",
       "style": "IPY_MODEL_f9861969fb52447baf245446425d5cbd",
       "value": " 1/1 [00:00&lt;00:00, 51.91it/s]"
      }
     },
     "b22494dfd24f47b5935a0b07e43fb9a0": {
      "model_module": "@jupyter-widgets/base",
      "model_module_version": "1.2.0",
      "model_name": "LayoutModel",
      "state": {
       "_model_module": "@jupyter-widgets/base",
       "_model_module_version": "1.2.0",
       "_model_name": "LayoutModel",
       "_view_count": null,
       "_view_module": "@jupyter-widgets/base",
       "_view_module_version": "1.2.0",
       "_view_name": "LayoutView",
       "align_content": null,
       "align_items": null,
       "align_self": null,
       "border": null,
       "bottom": null,
       "display": null,
       "flex": null,
       "flex_flow": null,
       "grid_area": null,
       "grid_auto_columns": null,
       "grid_auto_flow": null,
       "grid_auto_rows": null,
       "grid_column": null,
       "grid_gap": null,
       "grid_row": null,
       "grid_template_areas": null,
       "grid_template_columns": null,
       "grid_template_rows": null,
       "height": null,
       "justify_content": null,
       "justify_items": null,
       "left": null,
       "margin": null,
       "max_height": null,
       "max_width": null,
       "min_height": null,
       "min_width": null,
       "object_fit": null,
       "object_position": null,
       "order": null,
       "overflow": null,
       "overflow_x": null,
       "overflow_y": null,
       "padding": null,
       "right": null,
       "top": null,
       "visibility": null,
       "width": null
      }
     },
     "caae6d711ad341bfb3e1bfd26c57199f": {
      "model_module": "@jupyter-widgets/controls",
      "model_module_version": "1.5.0",
      "model_name": "DescriptionStyleModel",
      "state": {
       "_model_module": "@jupyter-widgets/controls",
       "_model_module_version": "1.5.0",
       "_model_name": "DescriptionStyleModel",
       "_view_count": null,
       "_view_module": "@jupyter-widgets/base",
       "_view_module_version": "1.2.0",
       "_view_name": "StyleView",
       "description_width": ""
      }
     },
     "f9861969fb52447baf245446425d5cbd": {
      "model_module": "@jupyter-widgets/controls",
      "model_module_version": "1.5.0",
      "model_name": "DescriptionStyleModel",
      "state": {
       "_model_module": "@jupyter-widgets/controls",
       "_model_module_version": "1.5.0",
       "_model_name": "DescriptionStyleModel",
       "_view_count": null,
       "_view_module": "@jupyter-widgets/base",
       "_view_module_version": "1.2.0",
       "_view_name": "StyleView",
       "description_width": ""
      }
     }
    },
    "version_major": 2,
    "version_minor": 0
   }
  }
 },
 "nbformat": 4,
 "nbformat_minor": 5
}
