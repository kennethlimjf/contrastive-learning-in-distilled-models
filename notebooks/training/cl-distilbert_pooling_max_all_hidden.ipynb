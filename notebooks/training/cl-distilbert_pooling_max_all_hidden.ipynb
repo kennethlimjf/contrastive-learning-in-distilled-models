{
 "cells": [
  {
   "cell_type": "markdown",
   "id": "246749d6",
   "metadata": {
    "papermill": {
     "duration": 0.015846,
     "end_time": "2022-04-09T03:53:59.857768",
     "exception": false,
     "start_time": "2022-04-09T03:53:59.841922",
     "status": "completed"
    },
    "tags": []
   },
   "source": [
    "# Contrastive Learning From Scratch - DistilBERT\n",
    "\n",
    "An attempt to build contrastive learning model from scratch. Parts include:\n",
    "\n",
    "- Loading and preparing Wiki-1M data for model input\n",
    "- Contrastive learning model\n",
    "  - Forward passing using pre-trained model\n",
    "  - Constrastive layer\n",
    "  - Calculate loss\n",
    "- Training procedure\n",
    "  - Default trainer optimizer\n",
    "  - Default trainer hyper-parameters"
   ]
  },
  {
   "cell_type": "code",
   "execution_count": 1,
   "id": "07256e99",
   "metadata": {
    "execution": {
     "iopub.execute_input": "2022-04-09T03:53:59.891252Z",
     "iopub.status.busy": "2022-04-09T03:53:59.890690Z",
     "iopub.status.idle": "2022-04-09T03:53:59.910145Z",
     "shell.execute_reply": "2022-04-09T03:53:59.909693Z"
    },
    "papermill": {
     "duration": 0.037321,
     "end_time": "2022-04-09T03:53:59.911559",
     "exception": false,
     "start_time": "2022-04-09T03:53:59.874238",
     "status": "completed"
    },
    "tags": []
   },
   "outputs": [
    {
     "name": "stdout",
     "output_type": "stream",
     "text": [
      "/notebooks/contrastive-learning-in-distilled-models\n"
     ]
    }
   ],
   "source": [
    "import os\n",
    "\n",
    "# Set Project home\n",
    "PROJECT_HOME = os.path.join('/',\n",
    "                            'notebooks',\n",
    "                            'contrastive-learning-in-distilled-models')\n",
    "%cd {PROJECT_HOME}\n",
    "\n",
    "# Load project code\n",
    "%reload_ext autoreload\n",
    "%autoreload 2\n",
    "\n",
    "import sys\n",
    "sys.path.insert(0, f'{PROJECT_HOME}/src')\n",
    "\n",
    "import distilface"
   ]
  },
  {
   "cell_type": "code",
   "execution_count": 2,
   "id": "c8e1a169",
   "metadata": {
    "execution": {
     "iopub.execute_input": "2022-04-09T03:53:59.953691Z",
     "iopub.status.busy": "2022-04-09T03:53:59.953523Z",
     "iopub.status.idle": "2022-04-09T03:53:59.963059Z",
     "shell.execute_reply": "2022-04-09T03:53:59.962610Z"
    },
    "papermill": {
     "duration": 0.030025,
     "end_time": "2022-04-09T03:53:59.964414",
     "exception": false,
     "start_time": "2022-04-09T03:53:59.934389",
     "status": "completed"
    },
    "tags": [
     "parameters"
    ]
   },
   "outputs": [],
   "source": [
    "# Hyperparameters\n",
    "\n",
    "pooling_method = 'avg_first_last'\n",
    "batch_size = 64\n",
    "epochs = 2\n",
    "max_steps = 30_000\n",
    "temperature = 0.05\n",
    "learning_rate = 5e-5\n",
    "max_len = 32\n",
    "fp16 = True"
   ]
  },
  {
   "cell_type": "code",
   "execution_count": 3,
   "id": "b6eb4db1",
   "metadata": {
    "execution": {
     "iopub.execute_input": "2022-04-09T03:54:00.002822Z",
     "iopub.status.busy": "2022-04-09T03:54:00.002661Z",
     "iopub.status.idle": "2022-04-09T03:54:00.011603Z",
     "shell.execute_reply": "2022-04-09T03:54:00.011107Z"
    },
    "papermill": {
     "duration": 0.026063,
     "end_time": "2022-04-09T03:54:00.012896",
     "exception": false,
     "start_time": "2022-04-09T03:53:59.986833",
     "status": "completed"
    },
    "tags": [
     "injected-parameters"
    ]
   },
   "outputs": [],
   "source": [
    "# Parameters\n",
    "pooling_method = \"max_all_hidden\"\n"
   ]
  },
  {
   "cell_type": "markdown",
   "id": "bf9f2ac7",
   "metadata": {
    "papermill": {
     "duration": 0.016183,
     "end_time": "2022-04-09T03:54:00.046777",
     "exception": false,
     "start_time": "2022-04-09T03:54:00.030594",
     "status": "completed"
    },
    "tags": []
   },
   "source": [
    "## 1. Loading and Preparing Wiki-1M data\n",
    "\n",
    "Use huggingface `datasets` library to load local file data."
   ]
  },
  {
   "cell_type": "code",
   "execution_count": 4,
   "id": "3b8b73d2",
   "metadata": {
    "execution": {
     "iopub.execute_input": "2022-04-09T03:54:00.090006Z",
     "iopub.status.busy": "2022-04-09T03:54:00.089594Z",
     "iopub.status.idle": "2022-04-09T03:54:01.426827Z",
     "shell.execute_reply": "2022-04-09T03:54:01.426047Z"
    },
    "papermill": {
     "duration": 1.366721,
     "end_time": "2022-04-09T03:54:01.428287",
     "exception": false,
     "start_time": "2022-04-09T03:54:00.061566",
     "status": "completed"
    },
    "tags": []
   },
   "outputs": [
    {
     "name": "stderr",
     "output_type": "stream",
     "text": [
      "Using custom data configuration default-235a9b97f9ebd10e\n",
      "Reusing dataset text (./data/text/default-235a9b97f9ebd10e/0.0.0/4b86d314f7236db91f0a0f5cda32d4375445e64c5eda2692655dd99c2dac68e8)\n"
     ]
    },
    {
     "data": {
      "application/vnd.jupyter.widget-view+json": {
       "model_id": "844ae3f2707a4b759d9f883b5879eaf7",
       "version_major": 2,
       "version_minor": 0
      },
      "text/plain": [
       "  0%|          | 0/1 [00:00<?, ?it/s]"
      ]
     },
     "metadata": {},
     "output_type": "display_data"
    }
   ],
   "source": [
    "import numpy as np\n",
    "\n",
    "from datasets import load_dataset\n",
    "\n",
    "data_files = {'train': 'data/training/wiki1m_for_simcse.txt'}\n",
    "# data_files = {'train': 'data/training/wiki5k.txt'}\n",
    "datasets = load_dataset('text', data_files=data_files, cache_dir='./data/')"
   ]
  },
  {
   "cell_type": "code",
   "execution_count": 5,
   "id": "539e3f1a",
   "metadata": {
    "execution": {
     "iopub.execute_input": "2022-04-09T03:54:01.493849Z",
     "iopub.status.busy": "2022-04-09T03:54:01.493654Z",
     "iopub.status.idle": "2022-04-09T03:54:01.514894Z",
     "shell.execute_reply": "2022-04-09T03:54:01.513913Z"
    },
    "papermill": {
     "duration": 0.045063,
     "end_time": "2022-04-09T03:54:01.516214",
     "exception": false,
     "start_time": "2022-04-09T03:54:01.471151",
     "status": "completed"
    },
    "tags": []
   },
   "outputs": [],
   "source": [
    "# Unsupervised / Self-supervised dataset\n",
    "\n",
    "column_names = datasets[\"train\"].column_names\n",
    "sent0_cname = column_names[0]\n",
    "sent1_cname = column_names[0]"
   ]
  },
  {
   "cell_type": "code",
   "execution_count": 6,
   "id": "b5c9571e",
   "metadata": {
    "execution": {
     "iopub.execute_input": "2022-04-09T03:54:01.550828Z",
     "iopub.status.busy": "2022-04-09T03:54:01.550662Z",
     "iopub.status.idle": "2022-04-09T03:54:02.477837Z",
     "shell.execute_reply": "2022-04-09T03:54:02.477058Z"
    },
    "papermill": {
     "duration": 0.945587,
     "end_time": "2022-04-09T03:54:02.479639",
     "exception": false,
     "start_time": "2022-04-09T03:54:01.534052",
     "status": "completed"
    },
    "tags": []
   },
   "outputs": [],
   "source": [
    "from transformers import AutoTokenizer\n",
    "\n",
    "tokenizer = AutoTokenizer.from_pretrained('distilbert-base-uncased')"
   ]
  },
  {
   "cell_type": "code",
   "execution_count": 7,
   "id": "fd71a158",
   "metadata": {
    "execution": {
     "iopub.execute_input": "2022-04-09T03:54:02.536399Z",
     "iopub.status.busy": "2022-04-09T03:54:02.536205Z",
     "iopub.status.idle": "2022-04-09T03:54:02.559461Z",
     "shell.execute_reply": "2022-04-09T03:54:02.558717Z"
    },
    "papermill": {
     "duration": 0.05594,
     "end_time": "2022-04-09T03:54:02.560746",
     "exception": false,
     "start_time": "2022-04-09T03:54:02.504806",
     "status": "completed"
    },
    "tags": []
   },
   "outputs": [],
   "source": [
    "def prepare_features(examples):\n",
    "    total = len(examples[sent0_cname])\n",
    "\n",
    "    # Avoid \"None\" fields \n",
    "    for idx in range(total):\n",
    "        if examples[sent0_cname][idx] is None:\n",
    "            examples[sent0_cname][idx] = \" \"\n",
    "        if examples[sent1_cname][idx] is None:\n",
    "            examples[sent1_cname][idx] = \" \"\n",
    "\n",
    "    sentences = examples[sent0_cname] + examples[sent1_cname]\n",
    "\n",
    "    sent_features = tokenizer(\n",
    "        sentences,\n",
    "        max_length=max_len,\n",
    "        truncation=True,\n",
    "        padding=True,\n",
    "    )\n",
    "\n",
    "    features = {}\n",
    "    for key in sent_features:\n",
    "        features[key] = [[sent_features[key][i], sent_features[key][i+total]] for i in range(total)]\n",
    "\n",
    "    return features"
   ]
  },
  {
   "cell_type": "code",
   "execution_count": 8,
   "id": "dac78d0d",
   "metadata": {
    "execution": {
     "iopub.execute_input": "2022-04-09T03:54:02.598838Z",
     "iopub.status.busy": "2022-04-09T03:54:02.598679Z",
     "iopub.status.idle": "2022-04-09T03:54:02.641549Z",
     "shell.execute_reply": "2022-04-09T03:54:02.640643Z"
    },
    "papermill": {
     "duration": 0.065987,
     "end_time": "2022-04-09T03:54:02.642835",
     "exception": false,
     "start_time": "2022-04-09T03:54:02.576848",
     "status": "completed"
    },
    "tags": []
   },
   "outputs": [
    {
     "name": "stderr",
     "output_type": "stream",
     "text": [
      "Loading cached processed dataset at ./data/text/default-235a9b97f9ebd10e/0.0.0/4b86d314f7236db91f0a0f5cda32d4375445e64c5eda2692655dd99c2dac68e8/cache-305eab4ce3c7d88c.arrow\n"
     ]
    }
   ],
   "source": [
    "train_dataset = datasets[\"train\"].map(prepare_features,\n",
    "                                      batched=True,\n",
    "                                    #   num_proc=24,\n",
    "                                      remove_columns=column_names)"
   ]
  },
  {
   "cell_type": "code",
   "execution_count": 9,
   "id": "556f73ee",
   "metadata": {
    "execution": {
     "iopub.execute_input": "2022-04-09T03:54:02.693883Z",
     "iopub.status.busy": "2022-04-09T03:54:02.693705Z",
     "iopub.status.idle": "2022-04-09T03:54:02.718999Z",
     "shell.execute_reply": "2022-04-09T03:54:02.718451Z"
    },
    "papermill": {
     "duration": 0.058932,
     "end_time": "2022-04-09T03:54:02.720200",
     "exception": false,
     "start_time": "2022-04-09T03:54:02.661268",
     "status": "completed"
    },
    "tags": []
   },
   "outputs": [
    {
     "data": {
      "text/plain": [
       "1000000"
      ]
     },
     "execution_count": 9,
     "metadata": {},
     "output_type": "execute_result"
    }
   ],
   "source": [
    "train_dataset.num_rows"
   ]
  },
  {
   "cell_type": "markdown",
   "id": "dd1a4db3",
   "metadata": {
    "papermill": {
     "duration": 0.077068,
     "end_time": "2022-04-09T03:54:02.822582",
     "exception": false,
     "start_time": "2022-04-09T03:54:02.745514",
     "status": "completed"
    },
    "tags": []
   },
   "source": [
    "## 2. Contrastive Learning Model"
   ]
  },
  {
   "cell_type": "code",
   "execution_count": 10,
   "id": "8edd84ee",
   "metadata": {
    "execution": {
     "iopub.execute_input": "2022-04-09T03:54:02.868572Z",
     "iopub.status.busy": "2022-04-09T03:54:02.868411Z",
     "iopub.status.idle": "2022-04-09T03:54:07.053649Z",
     "shell.execute_reply": "2022-04-09T03:54:07.052968Z"
    },
    "papermill": {
     "duration": 4.204256,
     "end_time": "2022-04-09T03:54:07.055871",
     "exception": false,
     "start_time": "2022-04-09T03:54:02.851615",
     "status": "completed"
    },
    "tags": []
   },
   "outputs": [
    {
     "name": "stderr",
     "output_type": "stream",
     "text": [
      "Some weights of the model checkpoint at distilbert-base-uncased were not used when initializing DistilBertCLModel: ['vocab_layer_norm.bias', 'vocab_transform.weight', 'vocab_layer_norm.weight', 'vocab_projector.bias', 'vocab_transform.bias', 'vocab_projector.weight']\n",
      "- This IS expected if you are initializing DistilBertCLModel from the checkpoint of a model trained on another task or with another architecture (e.g. initializing a BertForSequenceClassification model from a BertForPreTraining model).\n",
      "- This IS NOT expected if you are initializing DistilBertCLModel from the checkpoint of a model that you expect to be exactly identical (initializing a BertForSequenceClassification model from a BertForSequenceClassification model).\n"
     ]
    }
   ],
   "source": [
    "import torch\n",
    "import torch.nn as nn\n",
    "\n",
    "from transformers import AutoTokenizer, DistilBertModel, DistilBertPreTrainedModel, AutoConfig\n",
    "from transformers.modeling_outputs import SequenceClassifierOutput, BaseModelOutputWithPooling\n",
    "\n",
    "from distilface.modules.pooler import Pooler\n",
    "from distilface.modules.similarity import Similarity\n",
    "\n",
    "\n",
    "class DistilBertCLModel(DistilBertPreTrainedModel):\n",
    "    def __init__(self, config, pooler_type=pooling_method, temp=temperature):\n",
    "        super().__init__(config)\n",
    "\n",
    "        self.config = config\n",
    "        self.pooler_type = pooler_type\n",
    "        self.temp = temperature\n",
    "\n",
    "        self.distilbert = DistilBertModel(config)\n",
    "        self.pooler = Pooler(pooler_type)\n",
    "        self.sim = Similarity(temp=temp)\n",
    "\n",
    "        self.init_weights()\n",
    "\n",
    "    def forward(self, input_ids=None, attention_mask=None):\n",
    "        if self.training:\n",
    "            return self.cl_forward(self.distilbert, input_ids, attention_mask)\n",
    "        else:\n",
    "            return self.sent_emb(self.distilbert, input_ids, attention_mask)\n",
    "\n",
    "    def cl_forward(self, encoder, input_ids=None, attention_mask=None):\n",
    "        batch_size = input_ids.size(0)\n",
    "        num_sent = input_ids.size(1)  # Number of sentences in one instance: 2 sentences\n",
    "\n",
    "        # Flatten all input tensors\n",
    "        input_ids = input_ids.view((-1, input_ids.size(-1))) # (bs * num_sent, len)\n",
    "        attention_mask = attention_mask.view((-1, attention_mask.size(-1))) # (bs * num_sent len)\n",
    "\n",
    "        # Pre-trained Model Encoder\n",
    "        outputs = encoder(\n",
    "            input_ids,\n",
    "            attention_mask=attention_mask,\n",
    "            output_hidden_states=True,\n",
    "            return_dict=True,\n",
    "        )\n",
    "\n",
    "        # Pooling\n",
    "        pooler_output = self.pooler(attention_mask, outputs)\n",
    "        pooler_output = pooler_output.view((batch_size, num_sent, pooler_output.size(-1)))  # (bs, num_sent, hidden)\n",
    "\n",
    "        # Separate representation\n",
    "        z1, z2 = pooler_output[:, 0], pooler_output[:, 1]\n",
    "\n",
    "        # Cosine similarity\n",
    "        cos_sim = self.sim(z1.unsqueeze(1), z2.unsqueeze(0))\n",
    "\n",
    "        # Calculate contrastive loss\n",
    "        criterion = nn.CrossEntropyLoss()\n",
    "        labels = torch.arange(cos_sim.size(0)).long().to(self.device)\n",
    "        loss = criterion(cos_sim, labels)\n",
    "\n",
    "        return SequenceClassifierOutput(\n",
    "            loss=loss,\n",
    "            logits=cos_sim,\n",
    "            hidden_states=outputs.hidden_states,\n",
    "            attentions=outputs.attentions,\n",
    "        )\n",
    "\n",
    "    def sent_emb(self, encoder, input_ids=None, attention_mask=None):\n",
    "        outputs = encoder(\n",
    "            input_ids,\n",
    "            attention_mask=attention_mask,\n",
    "            output_hidden_states=True,\n",
    "            return_dict=True,\n",
    "        )\n",
    "        pooler_output = self.pooler(attention_mask, outputs)\n",
    "\n",
    "        return BaseModelOutputWithPooling(\n",
    "            pooler_output=pooler_output,\n",
    "            last_hidden_state=outputs.last_hidden_state,\n",
    "            hidden_states=outputs.hidden_states,\n",
    "        )\n",
    "\n",
    "\n",
    "pretrained_model_name = 'distilbert-base-uncased'\n",
    "\n",
    "device = torch.device(\"cuda\" if torch.cuda.is_available() else \"cpu\")\n",
    "config = AutoConfig.from_pretrained(pretrained_model_name)\n",
    "\n",
    "model = DistilBertCLModel.from_pretrained(pretrained_model_name, config=config).to(device)\n",
    "tokenizer = AutoTokenizer.from_pretrained(pretrained_model_name)\n",
    "\n",
    "model.eval();"
   ]
  },
  {
   "cell_type": "markdown",
   "id": "f3e65b3f",
   "metadata": {
    "papermill": {
     "duration": 0.017888,
     "end_time": "2022-04-09T03:54:07.095062",
     "exception": false,
     "start_time": "2022-04-09T03:54:07.077174",
     "status": "completed"
    },
    "tags": []
   },
   "source": [
    "### 2.1 Initial DistilBERT embeddings performance"
   ]
  },
  {
   "cell_type": "code",
   "execution_count": 11,
   "id": "208858dc",
   "metadata": {
    "execution": {
     "iopub.execute_input": "2022-04-09T03:54:07.152089Z",
     "iopub.status.busy": "2022-04-09T03:54:07.151604Z",
     "iopub.status.idle": "2022-04-09T03:54:07.547022Z",
     "shell.execute_reply": "2022-04-09T03:54:07.546221Z"
    },
    "papermill": {
     "duration": 0.422347,
     "end_time": "2022-04-09T03:54:07.548810",
     "exception": false,
     "start_time": "2022-04-09T03:54:07.126463",
     "status": "completed"
    },
    "tags": []
   },
   "outputs": [],
   "source": [
    "import senteval\n",
    "\n",
    "\n",
    "def prepare(params, samples):\n",
    "    return\n",
    "\n",
    "def batcher(params, batch):\n",
    "    sentences = [\" \".join(s) for s in batch]\n",
    "    batch = tokenizer.batch_encode_plus(\n",
    "        sentences,\n",
    "        return_tensors=\"pt\",\n",
    "        padding=True,\n",
    "    )\n",
    "\n",
    "    for k in batch:\n",
    "        batch[k] = batch[k].to(device)\n",
    "\n",
    "    with torch.no_grad():\n",
    "        outputs = model(**batch)\n",
    "\n",
    "    pooled_result = outputs.pooler_output.cpu()\n",
    "\n",
    "    return pooled_result\n",
    "\n",
    "\n",
    "def evaluate_model():\n",
    "    PATH_TO_DATA = \"./data\"\n",
    "\n",
    "    params = {\"task_path\": PATH_TO_DATA, \"usepytorch\": True, \"kfold\": 10}\n",
    "    tasks = [\"STSBenchmark\", 'STS12', 'STS13', 'STS14', 'STS15']\n",
    "\n",
    "    se = senteval.engine.SE(params, batcher, prepare)\n",
    "    results = se.eval(tasks)\n",
    "\n",
    "    print('STS12: ', results[\"STS12\"][\"all\"][\"spearman\"][\"all\"])\n",
    "    print('STS13: ', results[\"STS13\"][\"all\"][\"spearman\"][\"all\"])\n",
    "    print('STS14: ', results[\"STS14\"][\"all\"][\"spearman\"][\"all\"])\n",
    "    print('STS15: ', results[\"STS15\"][\"all\"][\"spearman\"][\"all\"])\n",
    "    print('STSB: ', results[\"STSBenchmark\"][\"test\"][\"spearman\"][0])\n",
    "\n",
    "    return results"
   ]
  },
  {
   "cell_type": "code",
   "execution_count": 12,
   "id": "708274fd",
   "metadata": {
    "execution": {
     "iopub.execute_input": "2022-04-09T03:54:07.598741Z",
     "iopub.status.busy": "2022-04-09T03:54:07.598218Z",
     "iopub.status.idle": "2022-04-09T03:54:25.360882Z",
     "shell.execute_reply": "2022-04-09T03:54:25.360237Z"
    },
    "papermill": {
     "duration": 17.781714,
     "end_time": "2022-04-09T03:54:25.362280",
     "exception": false,
     "start_time": "2022-04-09T03:54:07.580566",
     "status": "completed"
    },
    "tags": []
   },
   "outputs": [
    {
     "name": "stderr",
     "output_type": "stream",
     "text": [
      "/opt/conda/lib/python3.8/site-packages/SentEval-0.1.0-py3.8.egg/senteval/sts.py:42: VisibleDeprecationWarning: Creating an ndarray from ragged nested sequences (which is a list-or-tuple of lists-or-tuples-or ndarrays with different lengths or shapes) is deprecated. If you meant to do this, you must specify 'dtype=object' when creating the ndarray.\n",
      "/opt/conda/lib/python3.8/site-packages/SentEval-0.1.0-py3.8.egg/senteval/sts.py:43: VisibleDeprecationWarning: Creating an ndarray from ragged nested sequences (which is a list-or-tuple of lists-or-tuples-or ndarrays with different lengths or shapes) is deprecated. If you meant to do this, you must specify 'dtype=object' when creating the ndarray.\n"
     ]
    },
    {
     "name": "stdout",
     "output_type": "stream",
     "text": [
      "STS12:  0.45494575136623244\n",
      "STS13:  0.6251790603640242\n",
      "STS14:  0.5451448337273794\n",
      "STS15:  0.6774550565775094\n",
      "STSB:  0.5881473476501239\n"
     ]
    },
    {
     "data": {
      "text/plain": [
       "{'STSBenchmark': {'train': {'pearson': (0.6256178513170415, 0.0),\n",
       "   'spearman': SpearmanrResult(correlation=0.5978875329612952, pvalue=0.0),\n",
       "   'nsamples': 5749},\n",
       "  'dev': {'pearson': (0.6913792568291351, 1.0139072213755932e-213),\n",
       "   'spearman': SpearmanrResult(correlation=0.7000053692021727, pvalue=2.716295010782929e-221),\n",
       "   'nsamples': 1500},\n",
       "  'test': {'pearson': (0.5814356378176905, 1.576009021173952e-125),\n",
       "   'spearman': SpearmanrResult(correlation=0.5881473476501239, pvalue=4.220866398589903e-129),\n",
       "   'nsamples': 1379},\n",
       "  'all': {'pearson': {'all': 0.6314438962690317,\n",
       "    'mean': 0.6328109153212891,\n",
       "    'wmean': 0.62998906548632},\n",
       "   'spearman': {'all': 0.6190266881445151,\n",
       "    'mean': 0.6286800832711973,\n",
       "    'wmean': 0.6140842226712176}}},\n",
       " 'STS12': {'MSRpar': {'pearson': (0.3684255146280718, 1.586313914019332e-25),\n",
       "   'spearman': SpearmanrResult(correlation=0.41797231160911885, pvalue=4.504689780390467e-33),\n",
       "   'nsamples': 750},\n",
       "  'MSRvid': {'pearson': (0.6300413311517139, 3.2823294196098773e-84),\n",
       "   'spearman': SpearmanrResult(correlation=0.6354717501192174, pvalue=4.475709752577884e-86),\n",
       "   'nsamples': 750},\n",
       "  'SMTeuroparl': {'pearson': (0.4888329583932887, 6.04694202379407e-29),\n",
       "   'spearman': SpearmanrResult(correlation=0.598022408773022, pvalue=7.449884604272518e-46),\n",
       "   'nsamples': 459},\n",
       "  'surprise.OnWN': {'pearson': (0.6599588285268619, 5.672294597376448e-95),\n",
       "   'spearman': SpearmanrResult(correlation=0.6684244547022178, pvalue=3.01702177701728e-98),\n",
       "   'nsamples': 750},\n",
       "  'surprise.SMTnews': {'pearson': (0.6513059763030075, 1.5886358178154526e-49),\n",
       "   'spearman': SpearmanrResult(correlation=0.5176547850188998, pvalue=9.878799442435988e-29),\n",
       "   'nsamples': 399},\n",
       "  'all': {'pearson': {'all': 0.46341668133929864,\n",
       "    'mean': 0.5597129218005887,\n",
       "    'wmean': 0.5560053629914432},\n",
       "   'spearman': {'all': 0.45494575136623244,\n",
       "    'mean': 0.5675091420444952,\n",
       "    'wmean': 0.570282474958904}}},\n",
       " 'STS13': {'FNWN': {'pearson': (0.38254639239756777, 5.562931955225778e-08),\n",
       "   'spearman': SpearmanrResult(correlation=0.40459284431356457, pvalue=7.734969716976234e-09),\n",
       "   'nsamples': 189},\n",
       "  'headlines': {'pearson': (0.693848508502254, 9.16751405743709e-109),\n",
       "   'spearman': SpearmanrResult(correlation=0.680223212301134, pvalue=5.389237285903834e-103),\n",
       "   'nsamples': 750},\n",
       "  'OnWN': {'pearson': (0.5332934593750808, 1.5107069419886623e-42),\n",
       "   'spearman': SpearmanrResult(correlation=0.561070891315788, pvalue=7.73049164593835e-48),\n",
       "   'nsamples': 561},\n",
       "  'all': {'pearson': {'all': 0.6149720450339176,\n",
       "    'mean': 0.5365627867583008,\n",
       "    'wmean': 0.5945768534995007},\n",
       "   'spearman': {'all': 0.6251790603640242,\n",
       "    'mean': 0.5486289826434956,\n",
       "    'wmean': 0.600930817886181}}},\n",
       " 'STS14': {'deft-forum': {'pearson': (0.3738923559413372,\n",
       "    2.2302160790955694e-16),\n",
       "   'spearman': SpearmanrResult(correlation=0.38872833862932005, pvalue=1.1063669592267856e-17),\n",
       "   'nsamples': 450},\n",
       "  'deft-news': {'pearson': (0.7521737988138749, 6.426597519348481e-56),\n",
       "   'spearman': SpearmanrResult(correlation=0.7185094834117105, pvalue=6.522715343221566e-49),\n",
       "   'nsamples': 300},\n",
       "  'headlines': {'pearson': (0.6638928143162733, 1.7603142029911083e-96),\n",
       "   'spearman': SpearmanrResult(correlation=0.6233377998717836, pvalue=5.86415955567155e-82),\n",
       "   'nsamples': 750},\n",
       "  'images': {'pearson': (0.6509149026066589, 1.36734655197734e-91),\n",
       "   'spearman': SpearmanrResult(correlation=0.6319191348207619, pvalue=7.505461634446783e-85),\n",
       "   'nsamples': 750},\n",
       "  'OnWN': {'pearson': (0.6733534630180389, 3.333453328312554e-100),\n",
       "   'spearman': SpearmanrResult(correlation=0.7108350953986422, pvalue=1.9989699215839668e-116),\n",
       "   'nsamples': 750},\n",
       "  'tweet-news': {'pearson': (0.6542055453726225, 8.293983201074214e-93),\n",
       "   'spearman': SpearmanrResult(correlation=0.6158759880279753, pvalue=1.626803907291137e-79),\n",
       "   'nsamples': 750},\n",
       "  'all': {'pearson': {'all': 0.5634028437976757,\n",
       "    'mean': 0.6280721466781344,\n",
       "    'wmean': 0.6335143316807892},\n",
       "   'spearman': {'all': 0.5451448337273794,\n",
       "    'mean': 0.6148676400266989,\n",
       "    'wmean': 0.6205217629322878}}},\n",
       " 'STS15': {'answers-forums': {'pearson': (0.5719335231988245,\n",
       "    5.860224790432902e-34),\n",
       "   'spearman': SpearmanrResult(correlation=0.5702373599262168, pvalue=1.0047131872416815e-33),\n",
       "   'nsamples': 375},\n",
       "  'answers-students': {'pearson': (0.721040669588628, 2.6578388146978864e-121),\n",
       "   'spearman': SpearmanrResult(correlation=0.7267623670731779, pvalue=3.9270949740416866e-124),\n",
       "   'nsamples': 750},\n",
       "  'belief': {'pearson': (0.6383308182956197, 2.6307192467067354e-44),\n",
       "   'spearman': SpearmanrResult(correlation=0.6769416000190017, pvalue=1.3721255273436723e-51),\n",
       "   'nsamples': 375},\n",
       "  'headlines': {'pearson': (0.7069549164034338, 1.257193644817222e-114),\n",
       "   'spearman': SpearmanrResult(correlation=0.6983657395054915, pvalue=9.49732889479466e-111),\n",
       "   'nsamples': 750},\n",
       "  'images': {'pearson': (0.7564979059873701, 4.323451614341238e-140),\n",
       "   'spearman': SpearmanrResult(correlation=0.7642597413938628, pvalue=1.2184294319114718e-144),\n",
       "   'nsamples': 750},\n",
       "  'all': {'pearson': {'all': 0.6569598448741918,\n",
       "    'mean': 0.6789515666947752,\n",
       "    'wmean': 0.6974064156816635},\n",
       "   'spearman': {'all': 0.6774550565775094,\n",
       "    'mean': 0.68731336158355,\n",
       "    'wmean': 0.7032443319862853}}}}"
      ]
     },
     "execution_count": 12,
     "metadata": {},
     "output_type": "execute_result"
    }
   ],
   "source": [
    "results = evaluate_model()\n",
    "results"
   ]
  },
  {
   "cell_type": "markdown",
   "id": "4e406cdc",
   "metadata": {
    "papermill": {
     "duration": 0.021581,
     "end_time": "2022-04-09T03:54:25.402010",
     "exception": false,
     "start_time": "2022-04-09T03:54:25.380429",
     "status": "completed"
    },
    "tags": []
   },
   "source": [
    "## 3. Trainer"
   ]
  },
  {
   "cell_type": "code",
   "execution_count": 13,
   "id": "266fdbb3",
   "metadata": {
    "execution": {
     "iopub.execute_input": "2022-04-09T03:54:25.438001Z",
     "iopub.status.busy": "2022-04-09T03:54:25.437513Z",
     "iopub.status.idle": "2022-04-09T03:54:25.668851Z",
     "shell.execute_reply": "2022-04-09T03:54:25.667924Z"
    },
    "papermill": {
     "duration": 0.251752,
     "end_time": "2022-04-09T03:54:25.670206",
     "exception": false,
     "start_time": "2022-04-09T03:54:25.418454",
     "status": "completed"
    },
    "tags": []
   },
   "outputs": [
    {
     "name": "stderr",
     "output_type": "stream",
     "text": [
      "max_steps is given, it will override any value given in num_train_epochs\n",
      "Using amp half precision backend\n"
     ]
    }
   ],
   "source": [
    "# import mlflow\n",
    "\n",
    "from transformers import Trainer, TrainingArguments\n",
    "from transformers import default_data_collator\n",
    "\n",
    "training_args = TrainingArguments(\n",
    "    output_dir='output',\n",
    "    overwrite_output_dir=True,\n",
    "    learning_rate=learning_rate,\n",
    "    num_train_epochs=epochs,\n",
    "    max_steps=max_steps,\n",
    "    per_device_train_batch_size=batch_size,\n",
    "    per_device_eval_batch_size=batch_size,\n",
    "    save_strategy='steps',\n",
    "    save_steps=max_steps,\n",
    "    fp16=fp16,\n",
    ")\n",
    "\n",
    "model.train()\n",
    "\n",
    "trainer = Trainer(\n",
    "    model=model,\n",
    "    args=training_args,\n",
    "    train_dataset=train_dataset,\n",
    "    tokenizer=tokenizer,\n",
    "    data_collator=default_data_collator\n",
    ")"
   ]
  },
  {
   "cell_type": "code",
   "execution_count": 14,
   "id": "36a90f25",
   "metadata": {
    "execution": {
     "iopub.execute_input": "2022-04-09T03:54:25.708436Z",
     "iopub.status.busy": "2022-04-09T03:54:25.707990Z",
     "iopub.status.idle": "2022-04-09T04:32:34.918259Z",
     "shell.execute_reply": "2022-04-09T04:32:34.917629Z"
    },
    "papermill": {
     "duration": 2289.230459,
     "end_time": "2022-04-09T04:32:34.919658",
     "exception": false,
     "start_time": "2022-04-09T03:54:25.689199",
     "status": "completed"
    },
    "tags": []
   },
   "outputs": [
    {
     "name": "stderr",
     "output_type": "stream",
     "text": [
      "/opt/conda/lib/python3.8/site-packages/transformers/optimization.py:306: FutureWarning: This implementation of AdamW is deprecated and will be removed in a future version. Use the PyTorch implementation torch.optim.AdamW instead, or set `no_deprecation_warning=True` to disable this warning\n",
      "  warnings.warn(\n",
      "***** Running training *****\n",
      "  Num examples = 1000000\n",
      "  Num Epochs = 2\n",
      "  Instantaneous batch size per device = 64\n",
      "  Total train batch size (w. parallel, distributed & accumulation) = 64\n",
      "  Gradient Accumulation steps = 1\n",
      "  Total optimization steps = 30000\n"
     ]
    },
    {
     "data": {
      "text/html": [
       "\n",
       "    <div>\n",
       "      \n",
       "      <progress value='30000' max='30000' style='width:300px; height:20px; vertical-align: middle;'></progress>\n",
       "      [30000/30000 38:08, Epoch 1/2]\n",
       "    </div>\n",
       "    <table border=\"1\" class=\"dataframe\">\n",
       "  <thead>\n",
       " <tr style=\"text-align: left;\">\n",
       "      <th>Step</th>\n",
       "      <th>Training Loss</th>\n",
       "    </tr>\n",
       "  </thead>\n",
       "  <tbody>\n",
       "    <tr>\n",
       "      <td>500</td>\n",
       "      <td>0.086700</td>\n",
       "    </tr>\n",
       "    <tr>\n",
       "      <td>1000</td>\n",
       "      <td>0.012000</td>\n",
       "    </tr>\n",
       "    <tr>\n",
       "      <td>1500</td>\n",
       "      <td>0.006900</td>\n",
       "    </tr>\n",
       "    <tr>\n",
       "      <td>2000</td>\n",
       "      <td>0.004700</td>\n",
       "    </tr>\n",
       "    <tr>\n",
       "      <td>2500</td>\n",
       "      <td>0.003500</td>\n",
       "    </tr>\n",
       "    <tr>\n",
       "      <td>3000</td>\n",
       "      <td>0.002700</td>\n",
       "    </tr>\n",
       "    <tr>\n",
       "      <td>3500</td>\n",
       "      <td>0.002100</td>\n",
       "    </tr>\n",
       "    <tr>\n",
       "      <td>4000</td>\n",
       "      <td>0.001800</td>\n",
       "    </tr>\n",
       "    <tr>\n",
       "      <td>4500</td>\n",
       "      <td>0.001500</td>\n",
       "    </tr>\n",
       "    <tr>\n",
       "      <td>5000</td>\n",
       "      <td>0.001300</td>\n",
       "    </tr>\n",
       "    <tr>\n",
       "      <td>5500</td>\n",
       "      <td>0.001000</td>\n",
       "    </tr>\n",
       "    <tr>\n",
       "      <td>6000</td>\n",
       "      <td>0.001000</td>\n",
       "    </tr>\n",
       "    <tr>\n",
       "      <td>6500</td>\n",
       "      <td>0.001000</td>\n",
       "    </tr>\n",
       "    <tr>\n",
       "      <td>7000</td>\n",
       "      <td>0.000900</td>\n",
       "    </tr>\n",
       "    <tr>\n",
       "      <td>7500</td>\n",
       "      <td>0.000800</td>\n",
       "    </tr>\n",
       "    <tr>\n",
       "      <td>8000</td>\n",
       "      <td>0.000600</td>\n",
       "    </tr>\n",
       "    <tr>\n",
       "      <td>8500</td>\n",
       "      <td>0.000600</td>\n",
       "    </tr>\n",
       "    <tr>\n",
       "      <td>9000</td>\n",
       "      <td>0.000600</td>\n",
       "    </tr>\n",
       "    <tr>\n",
       "      <td>9500</td>\n",
       "      <td>0.000500</td>\n",
       "    </tr>\n",
       "    <tr>\n",
       "      <td>10000</td>\n",
       "      <td>0.000400</td>\n",
       "    </tr>\n",
       "    <tr>\n",
       "      <td>10500</td>\n",
       "      <td>0.000700</td>\n",
       "    </tr>\n",
       "    <tr>\n",
       "      <td>11000</td>\n",
       "      <td>0.000500</td>\n",
       "    </tr>\n",
       "    <tr>\n",
       "      <td>11500</td>\n",
       "      <td>0.000600</td>\n",
       "    </tr>\n",
       "    <tr>\n",
       "      <td>12000</td>\n",
       "      <td>0.000300</td>\n",
       "    </tr>\n",
       "    <tr>\n",
       "      <td>12500</td>\n",
       "      <td>0.000500</td>\n",
       "    </tr>\n",
       "    <tr>\n",
       "      <td>13000</td>\n",
       "      <td>0.000300</td>\n",
       "    </tr>\n",
       "    <tr>\n",
       "      <td>13500</td>\n",
       "      <td>0.000300</td>\n",
       "    </tr>\n",
       "    <tr>\n",
       "      <td>14000</td>\n",
       "      <td>0.000300</td>\n",
       "    </tr>\n",
       "    <tr>\n",
       "      <td>14500</td>\n",
       "      <td>0.000300</td>\n",
       "    </tr>\n",
       "    <tr>\n",
       "      <td>15000</td>\n",
       "      <td>0.000300</td>\n",
       "    </tr>\n",
       "    <tr>\n",
       "      <td>15500</td>\n",
       "      <td>0.000300</td>\n",
       "    </tr>\n",
       "    <tr>\n",
       "      <td>16000</td>\n",
       "      <td>0.000300</td>\n",
       "    </tr>\n",
       "    <tr>\n",
       "      <td>16500</td>\n",
       "      <td>0.000300</td>\n",
       "    </tr>\n",
       "    <tr>\n",
       "      <td>17000</td>\n",
       "      <td>0.000200</td>\n",
       "    </tr>\n",
       "    <tr>\n",
       "      <td>17500</td>\n",
       "      <td>0.000200</td>\n",
       "    </tr>\n",
       "    <tr>\n",
       "      <td>18000</td>\n",
       "      <td>0.000300</td>\n",
       "    </tr>\n",
       "    <tr>\n",
       "      <td>18500</td>\n",
       "      <td>0.000200</td>\n",
       "    </tr>\n",
       "    <tr>\n",
       "      <td>19000</td>\n",
       "      <td>0.000400</td>\n",
       "    </tr>\n",
       "    <tr>\n",
       "      <td>19500</td>\n",
       "      <td>0.000200</td>\n",
       "    </tr>\n",
       "    <tr>\n",
       "      <td>20000</td>\n",
       "      <td>0.000300</td>\n",
       "    </tr>\n",
       "    <tr>\n",
       "      <td>20500</td>\n",
       "      <td>0.000200</td>\n",
       "    </tr>\n",
       "    <tr>\n",
       "      <td>21000</td>\n",
       "      <td>0.000300</td>\n",
       "    </tr>\n",
       "    <tr>\n",
       "      <td>21500</td>\n",
       "      <td>0.000200</td>\n",
       "    </tr>\n",
       "    <tr>\n",
       "      <td>22000</td>\n",
       "      <td>0.000100</td>\n",
       "    </tr>\n",
       "    <tr>\n",
       "      <td>22500</td>\n",
       "      <td>0.000200</td>\n",
       "    </tr>\n",
       "    <tr>\n",
       "      <td>23000</td>\n",
       "      <td>0.000300</td>\n",
       "    </tr>\n",
       "    <tr>\n",
       "      <td>23500</td>\n",
       "      <td>0.000100</td>\n",
       "    </tr>\n",
       "    <tr>\n",
       "      <td>24000</td>\n",
       "      <td>0.000300</td>\n",
       "    </tr>\n",
       "    <tr>\n",
       "      <td>24500</td>\n",
       "      <td>0.000100</td>\n",
       "    </tr>\n",
       "    <tr>\n",
       "      <td>25000</td>\n",
       "      <td>0.000100</td>\n",
       "    </tr>\n",
       "    <tr>\n",
       "      <td>25500</td>\n",
       "      <td>0.000200</td>\n",
       "    </tr>\n",
       "    <tr>\n",
       "      <td>26000</td>\n",
       "      <td>0.000200</td>\n",
       "    </tr>\n",
       "    <tr>\n",
       "      <td>26500</td>\n",
       "      <td>0.000100</td>\n",
       "    </tr>\n",
       "    <tr>\n",
       "      <td>27000</td>\n",
       "      <td>0.000100</td>\n",
       "    </tr>\n",
       "    <tr>\n",
       "      <td>27500</td>\n",
       "      <td>0.000100</td>\n",
       "    </tr>\n",
       "    <tr>\n",
       "      <td>28000</td>\n",
       "      <td>0.000100</td>\n",
       "    </tr>\n",
       "    <tr>\n",
       "      <td>28500</td>\n",
       "      <td>0.000200</td>\n",
       "    </tr>\n",
       "    <tr>\n",
       "      <td>29000</td>\n",
       "      <td>0.000200</td>\n",
       "    </tr>\n",
       "    <tr>\n",
       "      <td>29500</td>\n",
       "      <td>0.000100</td>\n",
       "    </tr>\n",
       "    <tr>\n",
       "      <td>30000</td>\n",
       "      <td>0.000200</td>\n",
       "    </tr>\n",
       "  </tbody>\n",
       "</table><p>"
      ],
      "text/plain": [
       "<IPython.core.display.HTML object>"
      ]
     },
     "metadata": {},
     "output_type": "display_data"
    },
    {
     "name": "stderr",
     "output_type": "stream",
     "text": [
      "Saving model checkpoint to output/checkpoint-30000\n",
      "Configuration saved in output/checkpoint-30000/config.json\n",
      "Model weights saved in output/checkpoint-30000/pytorch_model.bin\n",
      "tokenizer config file saved in output/checkpoint-30000/tokenizer_config.json\n",
      "Special tokens file saved in output/checkpoint-30000/special_tokens_map.json\n",
      "\n",
      "\n",
      "Training completed. Do not forget to share your model on huggingface.co/models =)\n",
      "\n",
      "\n"
     ]
    }
   ],
   "source": [
    "train_result = trainer.train()"
   ]
  },
  {
   "cell_type": "code",
   "execution_count": 15,
   "id": "7dbb6307",
   "metadata": {
    "execution": {
     "iopub.execute_input": "2022-04-09T04:32:34.969721Z",
     "iopub.status.busy": "2022-04-09T04:32:34.969523Z",
     "iopub.status.idle": "2022-04-09T04:32:35.001557Z",
     "shell.execute_reply": "2022-04-09T04:32:35.000753Z"
    },
    "papermill": {
     "duration": 0.056974,
     "end_time": "2022-04-09T04:32:35.002846",
     "exception": false,
     "start_time": "2022-04-09T04:32:34.945872",
     "status": "completed"
    },
    "tags": []
   },
   "outputs": [],
   "source": [
    "import pandas as pd\n",
    "\n",
    "pd.DataFrame(trainer.state.log_history).to_csv(f'logs/cl-distilled_pooling_{pooling_method}_fp16.csv', index=False)"
   ]
  },
  {
   "cell_type": "markdown",
   "id": "4e5073fd",
   "metadata": {
    "papermill": {
     "duration": 0.022711,
     "end_time": "2022-04-09T04:32:35.047207",
     "exception": false,
     "start_time": "2022-04-09T04:32:35.024496",
     "status": "completed"
    },
    "tags": []
   },
   "source": [
    "## 4. Evaluate DistilBert CL Model performance"
   ]
  },
  {
   "cell_type": "code",
   "execution_count": 16,
   "id": "ff408730",
   "metadata": {
    "execution": {
     "iopub.execute_input": "2022-04-09T04:32:35.095948Z",
     "iopub.status.busy": "2022-04-09T04:32:35.095579Z",
     "iopub.status.idle": "2022-04-09T04:32:52.130674Z",
     "shell.execute_reply": "2022-04-09T04:32:52.129977Z"
    },
    "papermill": {
     "duration": 17.062006,
     "end_time": "2022-04-09T04:32:52.131985",
     "exception": false,
     "start_time": "2022-04-09T04:32:35.069979",
     "status": "completed"
    },
    "tags": []
   },
   "outputs": [
    {
     "name": "stderr",
     "output_type": "stream",
     "text": [
      "/opt/conda/lib/python3.8/site-packages/SentEval-0.1.0-py3.8.egg/senteval/sts.py:42: VisibleDeprecationWarning: Creating an ndarray from ragged nested sequences (which is a list-or-tuple of lists-or-tuples-or ndarrays with different lengths or shapes) is deprecated. If you meant to do this, you must specify 'dtype=object' when creating the ndarray.\n",
      "/opt/conda/lib/python3.8/site-packages/SentEval-0.1.0-py3.8.egg/senteval/sts.py:43: VisibleDeprecationWarning: Creating an ndarray from ragged nested sequences (which is a list-or-tuple of lists-or-tuples-or ndarrays with different lengths or shapes) is deprecated. If you meant to do this, you must specify 'dtype=object' when creating the ndarray.\n"
     ]
    },
    {
     "name": "stdout",
     "output_type": "stream",
     "text": [
      "STS12:  0.5813589344321862\n",
      "STS13:  0.7364919075007814\n",
      "STS14:  0.6329844785632407\n",
      "STS15:  0.7255777346829861\n",
      "STSB:  0.6351463091290117\n"
     ]
    },
    {
     "data": {
      "text/plain": [
       "{'STSBenchmark': {'train': {'pearson': (0.6951318988594317, 0.0),\n",
       "   'spearman': SpearmanrResult(correlation=0.6705592635131801, pvalue=0.0),\n",
       "   'nsamples': 5749},\n",
       "  'dev': {'pearson': (0.7083963314426069, 6.3442014660101365e-229),\n",
       "   'spearman': SpearmanrResult(correlation=0.7089183907372294, pvalue=2.0823864854419737e-229),\n",
       "   'nsamples': 1500},\n",
       "  'test': {'pearson': (0.6471429278122012, 1.8291119756546653e-164),\n",
       "   'spearman': SpearmanrResult(correlation=0.6351463091290117, pvalue=1.2065433768537708e-156),\n",
       "   'nsamples': 1379},\n",
       "  'all': {'pearson': {'all': 0.6899135654219469,\n",
       "    'mean': 0.6835570527047466,\n",
       "    'wmean': 0.6897679509920965},\n",
       "   'spearman': {'all': 0.6771782540182998,\n",
       "    'mean': 0.6715413211264737,\n",
       "    'wmean': 0.6715680983231368}}},\n",
       " 'STS12': {'MSRpar': {'pearson': (0.482723202943209, 4.8767788847783317e-45),\n",
       "   'spearman': SpearmanrResult(correlation=0.4785734920966143, pvalue=3.4232583274527026e-44),\n",
       "   'nsamples': 750},\n",
       "  'MSRvid': {'pearson': (0.7849726951570825, 1.0775815142551029e-157),\n",
       "   'spearman': SpearmanrResult(correlation=0.7856136066211277, pvalue=4.032332223149202e-158),\n",
       "   'nsamples': 750},\n",
       "  'SMTeuroparl': {'pearson': (0.35098747450088436, 9.41057167505239e-15),\n",
       "   'spearman': SpearmanrResult(correlation=0.46201521432944853, pvalue=1.191570228812969e-25),\n",
       "   'nsamples': 459},\n",
       "  'surprise.OnWN': {'pearson': (0.6860506714198861, 2.0087542860903994e-105),\n",
       "   'spearman': SpearmanrResult(correlation=0.6609570493714788, pvalue=2.3617554425688427e-95),\n",
       "   'nsamples': 750},\n",
       "  'surprise.SMTnews': {'pearson': (0.5428253156692527, 5.918765291571904e-32),\n",
       "   'spearman': SpearmanrResult(correlation=0.5082244657761038, pvalue=1.3626204268685265e-27),\n",
       "   'nsamples': 399},\n",
       "  'all': {'pearson': {'all': 0.6067522094822085,\n",
       "    'mean': 0.5695118719380629,\n",
       "    'wmean': 0.592985997068234},\n",
       "   'spearman': {'all': 0.5813589344321862,\n",
       "    'mean': 0.5790767656389546,\n",
       "    'wmean': 0.5980388211997419}}},\n",
       " 'STS13': {'FNWN': {'pearson': (0.5200980487773458, 1.722328770499418e-14),\n",
       "   'spearman': SpearmanrResult(correlation=0.5348655981494255, pvalue=2.2274077931219e-15),\n",
       "   'nsamples': 189},\n",
       "  'headlines': {'pearson': (0.7135252623169529, 1.0869689130197105e-117),\n",
       "   'spearman': SpearmanrResult(correlation=0.7029185561942807, pvalue=8.695713499903846e-113),\n",
       "   'nsamples': 750},\n",
       "  'OnWN': {'pearson': (0.7601240438745788, 9.598978498198579e-107),\n",
       "   'spearman': SpearmanrResult(correlation=0.7507207035828142, pvalue=1.0112868718040427e-102),\n",
       "   'nsamples': 561},\n",
       "  'all': {'pearson': {'all': 0.7299245108560805,\n",
       "    'mean': 0.6645824516562925,\n",
       "    'wmean': 0.7065813777135145},\n",
       "   'spearman': {'all': 0.7364919075007814,\n",
       "    'mean': 0.6628349526421734,\n",
       "    'wmean': 0.6996218866039404}}},\n",
       " 'STS14': {'deft-forum': {'pearson': (0.4805125996546955,\n",
       "    2.250674051024625e-27),\n",
       "   'spearman': SpearmanrResult(correlation=0.4763592464951811, pvalue=7.201203163880089e-27),\n",
       "   'nsamples': 450},\n",
       "  'deft-news': {'pearson': (0.7337311031682389, 6.007900630362005e-52),\n",
       "   'spearman': SpearmanrResult(correlation=0.6940068672424283, pvalue=1.999675820686057e-44),\n",
       "   'nsamples': 300},\n",
       "  'headlines': {'pearson': (0.6763004416460832, 2.1615413746693013e-101),\n",
       "   'spearman': SpearmanrResult(correlation=0.6406299266636926, pvalue=6.983256019411183e-88),\n",
       "   'nsamples': 750},\n",
       "  'images': {'pearson': (0.7148152063980868, 2.6585093571543692e-118),\n",
       "   'spearman': SpearmanrResult(correlation=0.6797630020322675, pvalue=8.335171143052739e-103),\n",
       "   'nsamples': 750},\n",
       "  'OnWN': {'pearson': (0.8061258157007335, 1.3012350702398418e-172),\n",
       "   'spearman': SpearmanrResult(correlation=0.8021983579008092, pvalue=1.0480706252940808e-169),\n",
       "   'nsamples': 750},\n",
       "  'tweet-news': {'pearson': (0.7220439847875982, 8.577268797361006e-122),\n",
       "   'spearman': SpearmanrResult(correlation=0.6578869027485515, pvalue=3.4589019109375395e-94),\n",
       "   'nsamples': 750},\n",
       "  'all': {'pearson': {'all': 0.6693214155357935,\n",
       "    'mean': 0.688921525225906,\n",
       "    'wmean': 0.7002170899185228},\n",
       "   'spearman': {'all': 0.6329844785632407,\n",
       "    'mean': 0.6584740505138217,\n",
       "    'wmean': 0.6687792968278802}}},\n",
       " 'STS15': {'answers-forums': {'pearson': (0.6321648694054605,\n",
       "    3.0764854802160738e-43),\n",
       "   'spearman': SpearmanrResult(correlation=0.6395261690026193, pvalue=1.6225727985600624e-44),\n",
       "   'nsamples': 375},\n",
       "  'answers-students': {'pearson': (0.651024149964057, 1.2465635137626936e-91),\n",
       "   'spearman': SpearmanrResult(correlation=0.6520577604534035, pvalue=5.186680416388419e-92),\n",
       "   'nsamples': 750},\n",
       "  'belief': {'pearson': (0.6891170705649208, 4.018750458505811e-54),\n",
       "   'spearman': SpearmanrResult(correlation=0.6967955390715495, pvalue=8.730954740743353e-56),\n",
       "   'nsamples': 375},\n",
       "  'headlines': {'pearson': (0.7452398683021535, 8.691013274688943e-134),\n",
       "   'spearman': SpearmanrResult(correlation=0.7468548367298837, pvalue=1.1361680850866197e-134),\n",
       "   'nsamples': 750},\n",
       "  'images': {'pearson': (0.7758814432213922, 8.593989523270193e-152),\n",
       "   'spearman': SpearmanrResult(correlation=0.7854228733183981, pvalue=5.404457391104465e-158),\n",
       "   'nsamples': 750},\n",
       "  'all': {'pearson': {'all': 0.7194766769124351,\n",
       "    'mean': 0.6986854802915967,\n",
       "    'wmean': 0.7081966078681984},\n",
       "   'spearman': {'all': 0.7255777346829861,\n",
       "    'mean': 0.7041314357151708,\n",
       "    'wmean': 0.7131240811346925}}}}"
      ]
     },
     "execution_count": 16,
     "metadata": {},
     "output_type": "execute_result"
    }
   ],
   "source": [
    "model.eval()\n",
    "\n",
    "results = evaluate_model()\n",
    "results"
   ]
  },
  {
   "cell_type": "code",
   "execution_count": null,
   "id": "1c18a747",
   "metadata": {
    "papermill": {
     "duration": 0.02349,
     "end_time": "2022-04-09T04:32:52.180736",
     "exception": false,
     "start_time": "2022-04-09T04:32:52.157246",
     "status": "completed"
    },
    "tags": []
   },
   "outputs": [],
   "source": []
  }
 ],
 "metadata": {
  "celltoolbar": "Tags",
  "kernelspec": {
   "display_name": "Python 3 (ipykernel)",
   "language": "python",
   "name": "python3"
  },
  "language_info": {
   "codemirror_mode": {
    "name": "ipython",
    "version": 3
   },
   "file_extension": ".py",
   "mimetype": "text/x-python",
   "name": "python",
   "nbconvert_exporter": "python",
   "pygments_lexer": "ipython3",
   "version": "3.8.12"
  },
  "papermill": {
   "default_parameters": {},
   "duration": 2334.266158,
   "end_time": "2022-04-09T04:32:53.029175",
   "environment_variables": {},
   "exception": null,
   "input_path": "notebooks/training/cl-distilbert_pooling_avg-first-last.ipynb",
   "output_path": "notebooks/training/cl-distilbert_pooling_max_all_hidden.ipynb",
   "parameters": {
    "pooling_method": "max_all_hidden"
   },
   "start_time": "2022-04-09T03:53:58.763017",
   "version": "2.3.4"
  },
  "toc": {
   "base_numbering": 1,
   "nav_menu": {},
   "number_sections": false,
   "sideBar": true,
   "skip_h1_title": false,
   "title_cell": "Table of Contents",
   "title_sidebar": "Contents",
   "toc_cell": false,
   "toc_position": {},
   "toc_section_display": true,
   "toc_window_display": false
  },
  "widgets": {
   "application/vnd.jupyter.widget-state+json": {
    "state": {
     "06b5679fd7554d728b9a38b5fe5f35f0": {
      "model_module": "@jupyter-widgets/controls",
      "model_module_version": "1.5.0",
      "model_name": "HTMLModel",
      "state": {
       "_dom_classes": [],
       "_model_module": "@jupyter-widgets/controls",
       "_model_module_version": "1.5.0",
       "_model_name": "HTMLModel",
       "_view_count": null,
       "_view_module": "@jupyter-widgets/controls",
       "_view_module_version": "1.5.0",
       "_view_name": "HTMLView",
       "description": "",
       "description_tooltip": null,
       "layout": "IPY_MODEL_69b6c08796704e4484162b4fb8d40b2b",
       "placeholder": "​",
       "style": "IPY_MODEL_b8299fe9da8b42b6bf2db6feb23b047f",
       "value": " 1/1 [00:00&lt;00:00, 36.54it/s]"
      }
     },
     "0cb3846006ec40c8a84b3bb8ce86668f": {
      "model_module": "@jupyter-widgets/controls",
      "model_module_version": "1.5.0",
      "model_name": "FloatProgressModel",
      "state": {
       "_dom_classes": [],
       "_model_module": "@jupyter-widgets/controls",
       "_model_module_version": "1.5.0",
       "_model_name": "FloatProgressModel",
       "_view_count": null,
       "_view_module": "@jupyter-widgets/controls",
       "_view_module_version": "1.5.0",
       "_view_name": "ProgressView",
       "bar_style": "success",
       "description": "",
       "description_tooltip": null,
       "layout": "IPY_MODEL_440c8e16ae47409aba90e706e18dc2b4",
       "max": 1,
       "min": 0,
       "orientation": "horizontal",
       "style": "IPY_MODEL_780094fe6afc4484b2df34e4efa3cf7c",
       "value": 1
      }
     },
     "440c8e16ae47409aba90e706e18dc2b4": {
      "model_module": "@jupyter-widgets/base",
      "model_module_version": "1.2.0",
      "model_name": "LayoutModel",
      "state": {
       "_model_module": "@jupyter-widgets/base",
       "_model_module_version": "1.2.0",
       "_model_name": "LayoutModel",
       "_view_count": null,
       "_view_module": "@jupyter-widgets/base",
       "_view_module_version": "1.2.0",
       "_view_name": "LayoutView",
       "align_content": null,
       "align_items": null,
       "align_self": null,
       "border": null,
       "bottom": null,
       "display": null,
       "flex": null,
       "flex_flow": null,
       "grid_area": null,
       "grid_auto_columns": null,
       "grid_auto_flow": null,
       "grid_auto_rows": null,
       "grid_column": null,
       "grid_gap": null,
       "grid_row": null,
       "grid_template_areas": null,
       "grid_template_columns": null,
       "grid_template_rows": null,
       "height": null,
       "justify_content": null,
       "justify_items": null,
       "left": null,
       "margin": null,
       "max_height": null,
       "max_width": null,
       "min_height": null,
       "min_width": null,
       "object_fit": null,
       "object_position": null,
       "order": null,
       "overflow": null,
       "overflow_x": null,
       "overflow_y": null,
       "padding": null,
       "right": null,
       "top": null,
       "visibility": null,
       "width": null
      }
     },
     "69b6c08796704e4484162b4fb8d40b2b": {
      "model_module": "@jupyter-widgets/base",
      "model_module_version": "1.2.0",
      "model_name": "LayoutModel",
      "state": {
       "_model_module": "@jupyter-widgets/base",
       "_model_module_version": "1.2.0",
       "_model_name": "LayoutModel",
       "_view_count": null,
       "_view_module": "@jupyter-widgets/base",
       "_view_module_version": "1.2.0",
       "_view_name": "LayoutView",
       "align_content": null,
       "align_items": null,
       "align_self": null,
       "border": null,
       "bottom": null,
       "display": null,
       "flex": null,
       "flex_flow": null,
       "grid_area": null,
       "grid_auto_columns": null,
       "grid_auto_flow": null,
       "grid_auto_rows": null,
       "grid_column": null,
       "grid_gap": null,
       "grid_row": null,
       "grid_template_areas": null,
       "grid_template_columns": null,
       "grid_template_rows": null,
       "height": null,
       "justify_content": null,
       "justify_items": null,
       "left": null,
       "margin": null,
       "max_height": null,
       "max_width": null,
       "min_height": null,
       "min_width": null,
       "object_fit": null,
       "object_position": null,
       "order": null,
       "overflow": null,
       "overflow_x": null,
       "overflow_y": null,
       "padding": null,
       "right": null,
       "top": null,
       "visibility": null,
       "width": null
      }
     },
     "780094fe6afc4484b2df34e4efa3cf7c": {
      "model_module": "@jupyter-widgets/controls",
      "model_module_version": "1.5.0",
      "model_name": "ProgressStyleModel",
      "state": {
       "_model_module": "@jupyter-widgets/controls",
       "_model_module_version": "1.5.0",
       "_model_name": "ProgressStyleModel",
       "_view_count": null,
       "_view_module": "@jupyter-widgets/base",
       "_view_module_version": "1.2.0",
       "_view_name": "StyleView",
       "bar_color": null,
       "description_width": ""
      }
     },
     "844ae3f2707a4b759d9f883b5879eaf7": {
      "model_module": "@jupyter-widgets/controls",
      "model_module_version": "1.5.0",
      "model_name": "HBoxModel",
      "state": {
       "_dom_classes": [],
       "_model_module": "@jupyter-widgets/controls",
       "_model_module_version": "1.5.0",
       "_model_name": "HBoxModel",
       "_view_count": null,
       "_view_module": "@jupyter-widgets/controls",
       "_view_module_version": "1.5.0",
       "_view_name": "HBoxView",
       "box_style": "",
       "children": [
        "IPY_MODEL_bcab2916a37641319279bbf6b5290403",
        "IPY_MODEL_0cb3846006ec40c8a84b3bb8ce86668f",
        "IPY_MODEL_06b5679fd7554d728b9a38b5fe5f35f0"
       ],
       "layout": "IPY_MODEL_a136da7cb18648c1b793d88db2e7a7e7"
      }
     },
     "9fcd8b13fb5e45689e6ec2e6d14b2628": {
      "model_module": "@jupyter-widgets/controls",
      "model_module_version": "1.5.0",
      "model_name": "DescriptionStyleModel",
      "state": {
       "_model_module": "@jupyter-widgets/controls",
       "_model_module_version": "1.5.0",
       "_model_name": "DescriptionStyleModel",
       "_view_count": null,
       "_view_module": "@jupyter-widgets/base",
       "_view_module_version": "1.2.0",
       "_view_name": "StyleView",
       "description_width": ""
      }
     },
     "a136da7cb18648c1b793d88db2e7a7e7": {
      "model_module": "@jupyter-widgets/base",
      "model_module_version": "1.2.0",
      "model_name": "LayoutModel",
      "state": {
       "_model_module": "@jupyter-widgets/base",
       "_model_module_version": "1.2.0",
       "_model_name": "LayoutModel",
       "_view_count": null,
       "_view_module": "@jupyter-widgets/base",
       "_view_module_version": "1.2.0",
       "_view_name": "LayoutView",
       "align_content": null,
       "align_items": null,
       "align_self": null,
       "border": null,
       "bottom": null,
       "display": null,
       "flex": null,
       "flex_flow": null,
       "grid_area": null,
       "grid_auto_columns": null,
       "grid_auto_flow": null,
       "grid_auto_rows": null,
       "grid_column": null,
       "grid_gap": null,
       "grid_row": null,
       "grid_template_areas": null,
       "grid_template_columns": null,
       "grid_template_rows": null,
       "height": null,
       "justify_content": null,
       "justify_items": null,
       "left": null,
       "margin": null,
       "max_height": null,
       "max_width": null,
       "min_height": null,
       "min_width": null,
       "object_fit": null,
       "object_position": null,
       "order": null,
       "overflow": null,
       "overflow_x": null,
       "overflow_y": null,
       "padding": null,
       "right": null,
       "top": null,
       "visibility": null,
       "width": null
      }
     },
     "b8299fe9da8b42b6bf2db6feb23b047f": {
      "model_module": "@jupyter-widgets/controls",
      "model_module_version": "1.5.0",
      "model_name": "DescriptionStyleModel",
      "state": {
       "_model_module": "@jupyter-widgets/controls",
       "_model_module_version": "1.5.0",
       "_model_name": "DescriptionStyleModel",
       "_view_count": null,
       "_view_module": "@jupyter-widgets/base",
       "_view_module_version": "1.2.0",
       "_view_name": "StyleView",
       "description_width": ""
      }
     },
     "bcab2916a37641319279bbf6b5290403": {
      "model_module": "@jupyter-widgets/controls",
      "model_module_version": "1.5.0",
      "model_name": "HTMLModel",
      "state": {
       "_dom_classes": [],
       "_model_module": "@jupyter-widgets/controls",
       "_model_module_version": "1.5.0",
       "_model_name": "HTMLModel",
       "_view_count": null,
       "_view_module": "@jupyter-widgets/controls",
       "_view_module_version": "1.5.0",
       "_view_name": "HTMLView",
       "description": "",
       "description_tooltip": null,
       "layout": "IPY_MODEL_e4fe07474b2d4a03a09754ffa21dea40",
       "placeholder": "​",
       "style": "IPY_MODEL_9fcd8b13fb5e45689e6ec2e6d14b2628",
       "value": "100%"
      }
     },
     "e4fe07474b2d4a03a09754ffa21dea40": {
      "model_module": "@jupyter-widgets/base",
      "model_module_version": "1.2.0",
      "model_name": "LayoutModel",
      "state": {
       "_model_module": "@jupyter-widgets/base",
       "_model_module_version": "1.2.0",
       "_model_name": "LayoutModel",
       "_view_count": null,
       "_view_module": "@jupyter-widgets/base",
       "_view_module_version": "1.2.0",
       "_view_name": "LayoutView",
       "align_content": null,
       "align_items": null,
       "align_self": null,
       "border": null,
       "bottom": null,
       "display": null,
       "flex": null,
       "flex_flow": null,
       "grid_area": null,
       "grid_auto_columns": null,
       "grid_auto_flow": null,
       "grid_auto_rows": null,
       "grid_column": null,
       "grid_gap": null,
       "grid_row": null,
       "grid_template_areas": null,
       "grid_template_columns": null,
       "grid_template_rows": null,
       "height": null,
       "justify_content": null,
       "justify_items": null,
       "left": null,
       "margin": null,
       "max_height": null,
       "max_width": null,
       "min_height": null,
       "min_width": null,
       "object_fit": null,
       "object_position": null,
       "order": null,
       "overflow": null,
       "overflow_x": null,
       "overflow_y": null,
       "padding": null,
       "right": null,
       "top": null,
       "visibility": null,
       "width": null
      }
     }
    },
    "version_major": 2,
    "version_minor": 0
   }
  }
 },
 "nbformat": 4,
 "nbformat_minor": 5
}
