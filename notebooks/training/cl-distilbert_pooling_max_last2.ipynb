{
 "cells": [
  {
   "cell_type": "markdown",
   "id": "9e62e42e",
   "metadata": {
    "papermill": {
     "duration": 0.020816,
     "end_time": "2022-04-09T05:49:41.840413",
     "exception": false,
     "start_time": "2022-04-09T05:49:41.819597",
     "status": "completed"
    },
    "tags": []
   },
   "source": [
    "# Contrastive Learning From Scratch - DistilBERT\n",
    "\n",
    "An attempt to build contrastive learning model from scratch. Parts include:\n",
    "\n",
    "- Loading and preparing Wiki-1M data for model input\n",
    "- Contrastive learning model\n",
    "  - Forward passing using pre-trained model\n",
    "  - Constrastive layer\n",
    "  - Calculate loss\n",
    "- Training procedure\n",
    "  - Default trainer optimizer\n",
    "  - Default trainer hyper-parameters"
   ]
  },
  {
   "cell_type": "code",
   "execution_count": 1,
   "id": "43f21d99",
   "metadata": {
    "execution": {
     "iopub.execute_input": "2022-04-09T05:49:41.873535Z",
     "iopub.status.busy": "2022-04-09T05:49:41.873207Z",
     "iopub.status.idle": "2022-04-09T05:49:41.893544Z",
     "shell.execute_reply": "2022-04-09T05:49:41.892947Z"
    },
    "papermill": {
     "duration": 0.038552,
     "end_time": "2022-04-09T05:49:41.894924",
     "exception": false,
     "start_time": "2022-04-09T05:49:41.856372",
     "status": "completed"
    },
    "tags": []
   },
   "outputs": [
    {
     "name": "stdout",
     "output_type": "stream",
     "text": [
      "/notebooks/contrastive-learning-in-distilled-models\n"
     ]
    }
   ],
   "source": [
    "import os\n",
    "\n",
    "# Set Project home\n",
    "PROJECT_HOME = os.path.join('/',\n",
    "                            'notebooks',\n",
    "                            'contrastive-learning-in-distilled-models')\n",
    "%cd {PROJECT_HOME}\n",
    "\n",
    "# Load project code\n",
    "%reload_ext autoreload\n",
    "%autoreload 2\n",
    "\n",
    "import sys\n",
    "sys.path.insert(0, f'{PROJECT_HOME}/src')\n",
    "\n",
    "import distilface"
   ]
  },
  {
   "cell_type": "code",
   "execution_count": 2,
   "id": "1c50b653",
   "metadata": {
    "execution": {
     "iopub.execute_input": "2022-04-09T05:49:41.925865Z",
     "iopub.status.busy": "2022-04-09T05:49:41.925339Z",
     "iopub.status.idle": "2022-04-09T05:49:41.935138Z",
     "shell.execute_reply": "2022-04-09T05:49:41.934517Z"
    },
    "papermill": {
     "duration": 0.02673,
     "end_time": "2022-04-09T05:49:41.936600",
     "exception": false,
     "start_time": "2022-04-09T05:49:41.909870",
     "status": "completed"
    },
    "tags": [
     "parameters"
    ]
   },
   "outputs": [],
   "source": [
    "# Hyperparameters\n",
    "\n",
    "pooling_method = 'avg_first_last'\n",
    "batch_size = 64\n",
    "epochs = 2\n",
    "max_steps = 30_000\n",
    "temperature = 0.05\n",
    "learning_rate = 5e-5\n",
    "max_len = 32\n",
    "fp16 = True"
   ]
  },
  {
   "cell_type": "code",
   "execution_count": 3,
   "id": "7d6f1174",
   "metadata": {
    "execution": {
     "iopub.execute_input": "2022-04-09T05:49:41.973259Z",
     "iopub.status.busy": "2022-04-09T05:49:41.972696Z",
     "iopub.status.idle": "2022-04-09T05:49:41.982173Z",
     "shell.execute_reply": "2022-04-09T05:49:41.981613Z"
    },
    "papermill": {
     "duration": 0.03221,
     "end_time": "2022-04-09T05:49:41.983413",
     "exception": false,
     "start_time": "2022-04-09T05:49:41.951203",
     "status": "completed"
    },
    "tags": [
     "injected-parameters"
    ]
   },
   "outputs": [],
   "source": [
    "# Parameters\n",
    "pooling_method = \"max_last2\"\n"
   ]
  },
  {
   "cell_type": "markdown",
   "id": "d1a80cd2",
   "metadata": {
    "papermill": {
     "duration": 0.016273,
     "end_time": "2022-04-09T05:49:42.015978",
     "exception": false,
     "start_time": "2022-04-09T05:49:41.999705",
     "status": "completed"
    },
    "tags": []
   },
   "source": [
    "## 1. Loading and Preparing Wiki-1M data\n",
    "\n",
    "Use huggingface `datasets` library to load local file data."
   ]
  },
  {
   "cell_type": "code",
   "execution_count": 4,
   "id": "b52d9e1a",
   "metadata": {
    "execution": {
     "iopub.execute_input": "2022-04-09T05:49:42.047756Z",
     "iopub.status.busy": "2022-04-09T05:49:42.047316Z",
     "iopub.status.idle": "2022-04-09T05:49:43.383292Z",
     "shell.execute_reply": "2022-04-09T05:49:43.382365Z"
    },
    "papermill": {
     "duration": 1.352781,
     "end_time": "2022-04-09T05:49:43.384579",
     "exception": false,
     "start_time": "2022-04-09T05:49:42.031798",
     "status": "completed"
    },
    "tags": []
   },
   "outputs": [
    {
     "name": "stderr",
     "output_type": "stream",
     "text": [
      "Using custom data configuration default-235a9b97f9ebd10e\n"
     ]
    },
    {
     "name": "stderr",
     "output_type": "stream",
     "text": [
      "Reusing dataset text (./data/text/default-235a9b97f9ebd10e/0.0.0/4b86d314f7236db91f0a0f5cda32d4375445e64c5eda2692655dd99c2dac68e8)\n"
     ]
    },
    {
     "data": {
      "application/vnd.jupyter.widget-view+json": {
       "model_id": "79834a0fa4744cb3a24ab35fbd9f69ff",
       "version_major": 2,
       "version_minor": 0
      },
      "text/plain": [
       "  0%|          | 0/1 [00:00<?, ?it/s]"
      ]
     },
     "metadata": {},
     "output_type": "display_data"
    }
   ],
   "source": [
    "import numpy as np\n",
    "\n",
    "from datasets import load_dataset\n",
    "\n",
    "data_files = {'train': 'data/training/wiki1m_for_simcse.txt'}\n",
    "# data_files = {'train': 'data/training/wiki5k.txt'}\n",
    "datasets = load_dataset('text', data_files=data_files, cache_dir='./data/')"
   ]
  },
  {
   "cell_type": "code",
   "execution_count": 5,
   "id": "68b69540",
   "metadata": {
    "execution": {
     "iopub.execute_input": "2022-04-09T05:49:43.427028Z",
     "iopub.status.busy": "2022-04-09T05:49:43.426267Z",
     "iopub.status.idle": "2022-04-09T05:49:43.446178Z",
     "shell.execute_reply": "2022-04-09T05:49:43.445178Z"
    },
    "papermill": {
     "duration": 0.044526,
     "end_time": "2022-04-09T05:49:43.447781",
     "exception": false,
     "start_time": "2022-04-09T05:49:43.403255",
     "status": "completed"
    },
    "tags": []
   },
   "outputs": [],
   "source": [
    "# Unsupervised / Self-supervised dataset\n",
    "\n",
    "column_names = datasets[\"train\"].column_names\n",
    "sent0_cname = column_names[0]\n",
    "sent1_cname = column_names[0]"
   ]
  },
  {
   "cell_type": "code",
   "execution_count": 6,
   "id": "6699556f",
   "metadata": {
    "execution": {
     "iopub.execute_input": "2022-04-09T05:49:43.482655Z",
     "iopub.status.busy": "2022-04-09T05:49:43.482071Z",
     "iopub.status.idle": "2022-04-09T05:49:44.314271Z",
     "shell.execute_reply": "2022-04-09T05:49:44.313341Z"
    },
    "papermill": {
     "duration": 0.851979,
     "end_time": "2022-04-09T05:49:44.316040",
     "exception": false,
     "start_time": "2022-04-09T05:49:43.464061",
     "status": "completed"
    },
    "tags": []
   },
   "outputs": [],
   "source": [
    "from transformers import AutoTokenizer\n",
    "\n",
    "tokenizer = AutoTokenizer.from_pretrained('distilbert-base-uncased')"
   ]
  },
  {
   "cell_type": "code",
   "execution_count": 7,
   "id": "b567a03c",
   "metadata": {
    "execution": {
     "iopub.execute_input": "2022-04-09T05:49:44.353692Z",
     "iopub.status.busy": "2022-04-09T05:49:44.352956Z",
     "iopub.status.idle": "2022-04-09T05:49:44.377079Z",
     "shell.execute_reply": "2022-04-09T05:49:44.376361Z"
    },
    "papermill": {
     "duration": 0.044079,
     "end_time": "2022-04-09T05:49:44.378330",
     "exception": false,
     "start_time": "2022-04-09T05:49:44.334251",
     "status": "completed"
    },
    "tags": []
   },
   "outputs": [],
   "source": [
    "def prepare_features(examples):\n",
    "    total = len(examples[sent0_cname])\n",
    "\n",
    "    # Avoid \"None\" fields \n",
    "    for idx in range(total):\n",
    "        if examples[sent0_cname][idx] is None:\n",
    "            examples[sent0_cname][idx] = \" \"\n",
    "        if examples[sent1_cname][idx] is None:\n",
    "            examples[sent1_cname][idx] = \" \"\n",
    "\n",
    "    sentences = examples[sent0_cname] + examples[sent1_cname]\n",
    "\n",
    "    sent_features = tokenizer(\n",
    "        sentences,\n",
    "        max_length=max_len,\n",
    "        truncation=True,\n",
    "        padding=True,\n",
    "    )\n",
    "\n",
    "    features = {}\n",
    "    for key in sent_features:\n",
    "        features[key] = [[sent_features[key][i], sent_features[key][i+total]] for i in range(total)]\n",
    "\n",
    "    return features"
   ]
  },
  {
   "cell_type": "code",
   "execution_count": 8,
   "id": "626ea203",
   "metadata": {
    "execution": {
     "iopub.execute_input": "2022-04-09T05:49:44.417826Z",
     "iopub.status.busy": "2022-04-09T05:49:44.417389Z",
     "iopub.status.idle": "2022-04-09T05:49:44.461363Z",
     "shell.execute_reply": "2022-04-09T05:49:44.460591Z"
    },
    "papermill": {
     "duration": 0.06234,
     "end_time": "2022-04-09T05:49:44.462702",
     "exception": false,
     "start_time": "2022-04-09T05:49:44.400362",
     "status": "completed"
    },
    "tags": []
   },
   "outputs": [
    {
     "name": "stderr",
     "output_type": "stream",
     "text": [
      "Loading cached processed dataset at ./data/text/default-235a9b97f9ebd10e/0.0.0/4b86d314f7236db91f0a0f5cda32d4375445e64c5eda2692655dd99c2dac68e8/cache-305eab4ce3c7d88c.arrow\n"
     ]
    }
   ],
   "source": [
    "train_dataset = datasets[\"train\"].map(prepare_features,\n",
    "                                      batched=True,\n",
    "                                    #   num_proc=24,\n",
    "                                      remove_columns=column_names)"
   ]
  },
  {
   "cell_type": "code",
   "execution_count": 9,
   "id": "aa835726",
   "metadata": {
    "execution": {
     "iopub.execute_input": "2022-04-09T05:49:44.496961Z",
     "iopub.status.busy": "2022-04-09T05:49:44.496444Z",
     "iopub.status.idle": "2022-04-09T05:49:44.522726Z",
     "shell.execute_reply": "2022-04-09T05:49:44.522169Z"
    },
    "papermill": {
     "duration": 0.043599,
     "end_time": "2022-04-09T05:49:44.523922",
     "exception": false,
     "start_time": "2022-04-09T05:49:44.480323",
     "status": "completed"
    },
    "tags": []
   },
   "outputs": [
    {
     "data": {
      "text/plain": [
       "1000000"
      ]
     },
     "execution_count": 9,
     "metadata": {},
     "output_type": "execute_result"
    }
   ],
   "source": [
    "train_dataset.num_rows"
   ]
  },
  {
   "cell_type": "markdown",
   "id": "50714003",
   "metadata": {
    "papermill": {
     "duration": 0.016968,
     "end_time": "2022-04-09T05:49:44.556757",
     "exception": false,
     "start_time": "2022-04-09T05:49:44.539789",
     "status": "completed"
    },
    "tags": []
   },
   "source": [
    "## 2. Contrastive Learning Model"
   ]
  },
  {
   "cell_type": "code",
   "execution_count": 10,
   "id": "438b2797",
   "metadata": {
    "execution": {
     "iopub.execute_input": "2022-04-09T05:49:44.591365Z",
     "iopub.status.busy": "2022-04-09T05:49:44.590888Z",
     "iopub.status.idle": "2022-04-09T05:49:48.515569Z",
     "shell.execute_reply": "2022-04-09T05:49:48.514576Z"
    },
    "papermill": {
     "duration": 3.943491,
     "end_time": "2022-04-09T05:49:48.517369",
     "exception": false,
     "start_time": "2022-04-09T05:49:44.573878",
     "status": "completed"
    },
    "tags": []
   },
   "outputs": [
    {
     "name": "stderr",
     "output_type": "stream",
     "text": [
      "Some weights of the model checkpoint at distilbert-base-uncased were not used when initializing DistilBertCLModel: ['vocab_transform.weight', 'vocab_layer_norm.weight', 'vocab_projector.weight', 'vocab_transform.bias', 'vocab_layer_norm.bias', 'vocab_projector.bias']\n",
      "- This IS expected if you are initializing DistilBertCLModel from the checkpoint of a model trained on another task or with another architecture (e.g. initializing a BertForSequenceClassification model from a BertForPreTraining model).\n",
      "- This IS NOT expected if you are initializing DistilBertCLModel from the checkpoint of a model that you expect to be exactly identical (initializing a BertForSequenceClassification model from a BertForSequenceClassification model).\n"
     ]
    }
   ],
   "source": [
    "import torch\n",
    "import torch.nn as nn\n",
    "\n",
    "from transformers import AutoTokenizer, DistilBertModel, DistilBertPreTrainedModel, AutoConfig\n",
    "from transformers.modeling_outputs import SequenceClassifierOutput, BaseModelOutputWithPooling\n",
    "\n",
    "from distilface.modules.pooler import Pooler\n",
    "from distilface.modules.similarity import Similarity\n",
    "\n",
    "\n",
    "class DistilBertCLModel(DistilBertPreTrainedModel):\n",
    "    def __init__(self, config, pooler_type=pooling_method, temp=temperature):\n",
    "        super().__init__(config)\n",
    "\n",
    "        self.config = config\n",
    "        self.pooler_type = pooler_type\n",
    "        self.temp = temperature\n",
    "\n",
    "        self.distilbert = DistilBertModel(config)\n",
    "        self.pooler = Pooler(pooler_type)\n",
    "        self.sim = Similarity(temp=temp)\n",
    "\n",
    "        self.init_weights()\n",
    "\n",
    "    def forward(self, input_ids=None, attention_mask=None):\n",
    "        if self.training:\n",
    "            return self.cl_forward(self.distilbert, input_ids, attention_mask)\n",
    "        else:\n",
    "            return self.sent_emb(self.distilbert, input_ids, attention_mask)\n",
    "\n",
    "    def cl_forward(self, encoder, input_ids=None, attention_mask=None):\n",
    "        batch_size = input_ids.size(0)\n",
    "        num_sent = input_ids.size(1)  # Number of sentences in one instance: 2 sentences\n",
    "\n",
    "        # Flatten all input tensors\n",
    "        input_ids = input_ids.view((-1, input_ids.size(-1))) # (bs * num_sent, len)\n",
    "        attention_mask = attention_mask.view((-1, attention_mask.size(-1))) # (bs * num_sent len)\n",
    "\n",
    "        # Pre-trained Model Encoder\n",
    "        outputs = encoder(\n",
    "            input_ids,\n",
    "            attention_mask=attention_mask,\n",
    "            output_hidden_states=True,\n",
    "            return_dict=True,\n",
    "        )\n",
    "\n",
    "        # Pooling\n",
    "        pooler_output = self.pooler(attention_mask, outputs)\n",
    "        pooler_output = pooler_output.view((batch_size, num_sent, pooler_output.size(-1)))  # (bs, num_sent, hidden)\n",
    "\n",
    "        # Separate representation\n",
    "        z1, z2 = pooler_output[:, 0], pooler_output[:, 1]\n",
    "\n",
    "        # Cosine similarity\n",
    "        cos_sim = self.sim(z1.unsqueeze(1), z2.unsqueeze(0))\n",
    "\n",
    "        # Calculate contrastive loss\n",
    "        criterion = nn.CrossEntropyLoss()\n",
    "        labels = torch.arange(cos_sim.size(0)).long().to(self.device)\n",
    "        loss = criterion(cos_sim, labels)\n",
    "\n",
    "        return SequenceClassifierOutput(\n",
    "            loss=loss,\n",
    "            logits=cos_sim,\n",
    "            hidden_states=outputs.hidden_states,\n",
    "            attentions=outputs.attentions,\n",
    "        )\n",
    "\n",
    "    def sent_emb(self, encoder, input_ids=None, attention_mask=None):\n",
    "        outputs = encoder(\n",
    "            input_ids,\n",
    "            attention_mask=attention_mask,\n",
    "            output_hidden_states=True,\n",
    "            return_dict=True,\n",
    "        )\n",
    "        pooler_output = self.pooler(attention_mask, outputs)\n",
    "\n",
    "        return BaseModelOutputWithPooling(\n",
    "            pooler_output=pooler_output,\n",
    "            last_hidden_state=outputs.last_hidden_state,\n",
    "            hidden_states=outputs.hidden_states,\n",
    "        )\n",
    "\n",
    "\n",
    "pretrained_model_name = 'distilbert-base-uncased'\n",
    "\n",
    "device = torch.device(\"cuda\" if torch.cuda.is_available() else \"cpu\")\n",
    "config = AutoConfig.from_pretrained(pretrained_model_name)\n",
    "\n",
    "model = DistilBertCLModel.from_pretrained(pretrained_model_name, config=config).to(device)\n",
    "tokenizer = AutoTokenizer.from_pretrained(pretrained_model_name)\n",
    "\n",
    "model.eval();"
   ]
  },
  {
   "cell_type": "markdown",
   "id": "4fcf699d",
   "metadata": {
    "papermill": {
     "duration": 0.017212,
     "end_time": "2022-04-09T05:49:48.553696",
     "exception": false,
     "start_time": "2022-04-09T05:49:48.536484",
     "status": "completed"
    },
    "tags": []
   },
   "source": [
    "### 2.1 Initial DistilBERT embeddings performance"
   ]
  },
  {
   "cell_type": "code",
   "execution_count": 11,
   "id": "6e628ac2",
   "metadata": {
    "execution": {
     "iopub.execute_input": "2022-04-09T05:49:48.588736Z",
     "iopub.status.busy": "2022-04-09T05:49:48.588283Z",
     "iopub.status.idle": "2022-04-09T05:49:48.984316Z",
     "shell.execute_reply": "2022-04-09T05:49:48.983359Z"
    },
    "papermill": {
     "duration": 0.41533,
     "end_time": "2022-04-09T05:49:48.985875",
     "exception": false,
     "start_time": "2022-04-09T05:49:48.570545",
     "status": "completed"
    },
    "tags": []
   },
   "outputs": [],
   "source": [
    "import senteval\n",
    "\n",
    "\n",
    "def prepare(params, samples):\n",
    "    return\n",
    "\n",
    "def batcher(params, batch):\n",
    "    sentences = [\" \".join(s) for s in batch]\n",
    "    batch = tokenizer.batch_encode_plus(\n",
    "        sentences,\n",
    "        return_tensors=\"pt\",\n",
    "        padding=True,\n",
    "    )\n",
    "\n",
    "    for k in batch:\n",
    "        batch[k] = batch[k].to(device)\n",
    "\n",
    "    with torch.no_grad():\n",
    "        outputs = model(**batch)\n",
    "\n",
    "    pooled_result = outputs.pooler_output.cpu()\n",
    "\n",
    "    return pooled_result\n",
    "\n",
    "\n",
    "def evaluate_model():\n",
    "    PATH_TO_DATA = \"./data\"\n",
    "\n",
    "    params = {\"task_path\": PATH_TO_DATA, \"usepytorch\": True, \"kfold\": 10}\n",
    "    tasks = [\"STSBenchmark\", 'STS12', 'STS13', 'STS14', 'STS15']\n",
    "\n",
    "    se = senteval.engine.SE(params, batcher, prepare)\n",
    "    results = se.eval(tasks)\n",
    "\n",
    "    print('STS12: ', results[\"STS12\"][\"all\"][\"spearman\"][\"all\"])\n",
    "    print('STS13: ', results[\"STS13\"][\"all\"][\"spearman\"][\"all\"])\n",
    "    print('STS14: ', results[\"STS14\"][\"all\"][\"spearman\"][\"all\"])\n",
    "    print('STS15: ', results[\"STS15\"][\"all\"][\"spearman\"][\"all\"])\n",
    "    print('STSB: ', results[\"STSBenchmark\"][\"test\"][\"spearman\"][0])\n",
    "\n",
    "    return results"
   ]
  },
  {
   "cell_type": "code",
   "execution_count": 12,
   "id": "1b12717c",
   "metadata": {
    "execution": {
     "iopub.execute_input": "2022-04-09T05:49:49.022179Z",
     "iopub.status.busy": "2022-04-09T05:49:49.021735Z",
     "iopub.status.idle": "2022-04-09T05:50:06.692927Z",
     "shell.execute_reply": "2022-04-09T05:50:06.692228Z"
    },
    "papermill": {
     "duration": 17.689837,
     "end_time": "2022-04-09T05:50:06.694330",
     "exception": false,
     "start_time": "2022-04-09T05:49:49.004493",
     "status": "completed"
    },
    "tags": []
   },
   "outputs": [
    {
     "name": "stderr",
     "output_type": "stream",
     "text": [
      "/opt/conda/lib/python3.8/site-packages/SentEval-0.1.0-py3.8.egg/senteval/sts.py:42: VisibleDeprecationWarning: Creating an ndarray from ragged nested sequences (which is a list-or-tuple of lists-or-tuples-or ndarrays with different lengths or shapes) is deprecated. If you meant to do this, you must specify 'dtype=object' when creating the ndarray.\n",
      "/opt/conda/lib/python3.8/site-packages/SentEval-0.1.0-py3.8.egg/senteval/sts.py:43: VisibleDeprecationWarning: Creating an ndarray from ragged nested sequences (which is a list-or-tuple of lists-or-tuples-or ndarrays with different lengths or shapes) is deprecated. If you meant to do this, you must specify 'dtype=object' when creating the ndarray.\n"
     ]
    },
    {
     "name": "stdout",
     "output_type": "stream",
     "text": [
      "STS12:  0.4576300883139424\n",
      "STS13:  0.6615340784883693\n",
      "STS14:  0.5654104102631133\n",
      "STS15:  0.6921047783932669\n",
      "STSB:  0.5959121125477129\n"
     ]
    },
    {
     "data": {
      "text/plain": [
       "{'STSBenchmark': {'train': {'pearson': (0.6301450298993059, 0.0),\n",
       "   'spearman': SpearmanrResult(correlation=0.6022047156977073, pvalue=0.0),\n",
       "   'nsamples': 5749},\n",
       "  'dev': {'pearson': (0.6753393087959514, 2.5007954012535213e-200),\n",
       "   'spearman': SpearmanrResult(correlation=0.6884768944420991, pvalue=3.118569824407833e-211),\n",
       "   'nsamples': 1500},\n",
       "  'test': {'pearson': (0.5975035084341327, 3.1907086800373483e-134),\n",
       "   'spearman': SpearmanrResult(correlation=0.5959121125477129, pvalue=2.437413582828703e-133),\n",
       "   'nsamples': 1379},\n",
       "  'all': {'pearson': {'all': 0.6347896318698468,\n",
       "    'mean': 0.6343292823764634,\n",
       "    'wmean': 0.6327851272850842},\n",
       "   'spearman': {'all': 0.622898454816908,\n",
       "    'mean': 0.6288645742291731,\n",
       "    'wmean': 0.6161976188470751}}},\n",
       " 'STS12': {'MSRpar': {'pearson': (0.3878065466472476, 2.514225445669991e-28),\n",
       "   'spearman': SpearmanrResult(correlation=0.42892625485626396, pvalue=6.404447490406115e-35),\n",
       "   'nsamples': 750},\n",
       "  'MSRvid': {'pearson': (0.5808159747452437, 7.255281672564554e-69),\n",
       "   'spearman': SpearmanrResult(correlation=0.5973155136170658, pvalue=1.029437622109773e-73),\n",
       "   'nsamples': 750},\n",
       "  'SMTeuroparl': {'pearson': (0.5029146292272573, 8.540206359841952e-31),\n",
       "   'spearman': SpearmanrResult(correlation=0.606614961244096, pvalue=1.794506683449171e-47),\n",
       "   'nsamples': 459},\n",
       "  'surprise.OnWN': {'pearson': (0.6684746813875131, 2.8829005522474346e-98),\n",
       "   'spearman': SpearmanrResult(correlation=0.6638132925819691, pvalue=1.8893126841218956e-96),\n",
       "   'nsamples': 750},\n",
       "  'surprise.SMTnews': {'pearson': (0.6581782983407192, 6.895099112384709e-51),\n",
       "   'spearman': SpearmanrResult(correlation=0.5596058835595464, pvalue=2.937809357897096e-34),\n",
       "   'nsamples': 399},\n",
       "  'all': {'pearson': {'all': 0.45259017863419204,\n",
       "    'mean': 0.5596380260695961,\n",
       "    'wmean': 0.5538204176120531},\n",
       "   'spearman': {'all': 0.4576300883139424,\n",
       "    'mean': 0.5712551811717883,\n",
       "    'wmean': 0.5692600741772115}}},\n",
       " 'STS13': {'FNWN': {'pearson': (0.5006225886602554, 2.206948679861343e-13),\n",
       "   'spearman': SpearmanrResult(correlation=0.5298666211023805, pvalue=4.501435175101896e-15),\n",
       "   'nsamples': 189},\n",
       "  'headlines': {'pearson': (0.6844189937246858, 9.742633965937912e-105),\n",
       "   'spearman': SpearmanrResult(correlation=0.6714297785154015, pvalue=1.954567002786587e-99),\n",
       "   'nsamples': 750},\n",
       "  'OnWN': {'pearson': (0.6146748477671551, 1.3697948560965845e-59),\n",
       "   'spearman': SpearmanrResult(correlation=0.6398993802835895, pvalue=6.063146437662295e-66),\n",
       "   'nsamples': 561},\n",
       "  'all': {'pearson': {'all': 0.6392055470967098,\n",
       "    'mean': 0.5999054767173654,\n",
       "    'wmean': 0.6351763360984511},\n",
       "   'spearman': {'all': 0.6615340784883693,\n",
       "    'mean': 0.6137319266337905,\n",
       "    'wmean': 0.6418004517426631}}},\n",
       " 'STS14': {'deft-forum': {'pearson': (0.38547227010808477,\n",
       "    2.1672495661489307e-17),\n",
       "   'spearman': SpearmanrResult(correlation=0.392745826937632, pvalue=4.7763785937265625e-18),\n",
       "   'nsamples': 450},\n",
       "  'deft-news': {'pearson': (0.7696337948571795, 5.154853461080778e-60),\n",
       "   'spearman': SpearmanrResult(correlation=0.7342184630154072, pvalue=4.7651507865021875e-52),\n",
       "   'nsamples': 300},\n",
       "  'headlines': {'pearson': (0.6509420728477566, 1.3362605971808542e-91),\n",
       "   'spearman': SpearmanrResult(correlation=0.5955020909851151, pvalue=3.6242789645334706e-73),\n",
       "   'nsamples': 750},\n",
       "  'images': {'pearson': (0.6294596082163424, 5.173715473427486e-84),\n",
       "   'spearman': SpearmanrResult(correlation=0.6118478251490181, pvalue=3.185556052613208e-78),\n",
       "   'nsamples': 750},\n",
       "  'OnWN': {'pearson': (0.7341437466712782, 6.828533214206615e-128),\n",
       "   'spearman': SpearmanrResult(correlation=0.7636809483200737, pvalue=2.698578727427454e-144),\n",
       "   'nsamples': 750},\n",
       "  'tweet-news': {'pearson': (0.7114938647034543, 9.828324361175037e-117),\n",
       "   'spearman': SpearmanrResult(correlation=0.632769886664328, pvalue=3.8335217930488866e-85),\n",
       "   'nsamples': 750},\n",
       "  'all': {'pearson': {'all': 0.5984709461505358,\n",
       "    'mean': 0.6468575595673492,\n",
       "    'wmean': 0.6530352344893108},\n",
       "   'spearman': {'all': 0.5654104102631133,\n",
       "    'mean': 0.621794173511929,\n",
       "    'wmean': 0.6266271264974554}}},\n",
       " 'STS15': {'answers-forums': {'pearson': (0.6326699275882541,\n",
       "    2.5204830528346834e-43),\n",
       "   'spearman': SpearmanrResult(correlation=0.6303797601440101, pvalue=6.20520699127095e-43),\n",
       "   'nsamples': 375},\n",
       "  'answers-students': {'pearson': (0.6631976867445856, 3.263995259937644e-96),\n",
       "   'spearman': SpearmanrResult(correlation=0.6681385673598353, pvalue=3.907631986148015e-98),\n",
       "   'nsamples': 750},\n",
       "  'belief': {'pearson': (0.7342444016227226, 1.0209683859351606e-64),\n",
       "   'spearman': SpearmanrResult(correlation=0.7683856450613397, pvalue=2.6994986669966964e-74),\n",
       "   'nsamples': 375},\n",
       "  'headlines': {'pearson': (0.7059905473374488, 3.482124488307756e-114),\n",
       "   'spearman': SpearmanrResult(correlation=0.693018795800477, pvalue=2.102751874839602e-108),\n",
       "   'nsamples': 750},\n",
       "  'images': {'pearson': (0.7465636613735741, 1.6415532255878507e-134),\n",
       "   'spearman': SpearmanrResult(correlation=0.7540484236768551, pvalue=1.0872046760810393e-138),\n",
       "   'nsamples': 750},\n",
       "  'all': {'pearson': {'all': 0.6801371310739455,\n",
       "    'mean': 0.696533244933317,\n",
       "    'wmean': 0.6998022650152743},\n",
       "   'spearman': {'all': 0.6921047783932669,\n",
       "    'mean': 0.7027942384085034,\n",
       "    'wmean': 0.7036471223599606}}}}"
      ]
     },
     "execution_count": 12,
     "metadata": {},
     "output_type": "execute_result"
    }
   ],
   "source": [
    "results = evaluate_model()\n",
    "results"
   ]
  },
  {
   "cell_type": "markdown",
   "id": "bf6aeda8",
   "metadata": {
    "papermill": {
     "duration": 0.032098,
     "end_time": "2022-04-09T05:50:06.748043",
     "exception": false,
     "start_time": "2022-04-09T05:50:06.715945",
     "status": "completed"
    },
    "tags": []
   },
   "source": [
    "## 3. Trainer"
   ]
  },
  {
   "cell_type": "code",
   "execution_count": 13,
   "id": "9c24d914",
   "metadata": {
    "execution": {
     "iopub.execute_input": "2022-04-09T05:50:06.795272Z",
     "iopub.status.busy": "2022-04-09T05:50:06.794732Z",
     "iopub.status.idle": "2022-04-09T05:50:07.039069Z",
     "shell.execute_reply": "2022-04-09T05:50:07.038162Z"
    },
    "papermill": {
     "duration": 0.26503,
     "end_time": "2022-04-09T05:50:07.040421",
     "exception": false,
     "start_time": "2022-04-09T05:50:06.775391",
     "status": "completed"
    },
    "tags": []
   },
   "outputs": [
    {
     "name": "stderr",
     "output_type": "stream",
     "text": [
      "max_steps is given, it will override any value given in num_train_epochs\n"
     ]
    },
    {
     "name": "stderr",
     "output_type": "stream",
     "text": [
      "Using amp half precision backend\n"
     ]
    }
   ],
   "source": [
    "# import mlflow\n",
    "\n",
    "from transformers import Trainer, TrainingArguments\n",
    "from transformers import default_data_collator\n",
    "\n",
    "training_args = TrainingArguments(\n",
    "    output_dir='output',\n",
    "    overwrite_output_dir=True,\n",
    "    learning_rate=learning_rate,\n",
    "    num_train_epochs=epochs,\n",
    "    max_steps=max_steps,\n",
    "    per_device_train_batch_size=batch_size,\n",
    "    per_device_eval_batch_size=batch_size,\n",
    "    save_strategy='steps',\n",
    "    save_steps=max_steps,\n",
    "    fp16=fp16,\n",
    ")\n",
    "\n",
    "model.train()\n",
    "\n",
    "trainer = Trainer(\n",
    "    model=model,\n",
    "    args=training_args,\n",
    "    train_dataset=train_dataset,\n",
    "    tokenizer=tokenizer,\n",
    "    data_collator=default_data_collator\n",
    ")"
   ]
  },
  {
   "cell_type": "code",
   "execution_count": 14,
   "id": "1ec6928a",
   "metadata": {
    "execution": {
     "iopub.execute_input": "2022-04-09T05:50:07.082232Z",
     "iopub.status.busy": "2022-04-09T05:50:07.082010Z",
     "iopub.status.idle": "2022-04-09T06:27:34.405421Z",
     "shell.execute_reply": "2022-04-09T06:27:34.404740Z"
    },
    "papermill": {
     "duration": 2247.344296,
     "end_time": "2022-04-09T06:27:34.407019",
     "exception": false,
     "start_time": "2022-04-09T05:50:07.062723",
     "status": "completed"
    },
    "tags": []
   },
   "outputs": [
    {
     "name": "stderr",
     "output_type": "stream",
     "text": [
      "/opt/conda/lib/python3.8/site-packages/transformers/optimization.py:306: FutureWarning: This implementation of AdamW is deprecated and will be removed in a future version. Use the PyTorch implementation torch.optim.AdamW instead, or set `no_deprecation_warning=True` to disable this warning\n",
      "  warnings.warn(\n",
      "***** Running training *****\n"
     ]
    },
    {
     "name": "stderr",
     "output_type": "stream",
     "text": [
      "  Num examples = 1000000\n"
     ]
    },
    {
     "name": "stderr",
     "output_type": "stream",
     "text": [
      "  Num Epochs = 2\n"
     ]
    },
    {
     "name": "stderr",
     "output_type": "stream",
     "text": [
      "  Instantaneous batch size per device = 64\n"
     ]
    },
    {
     "name": "stderr",
     "output_type": "stream",
     "text": [
      "  Total train batch size (w. parallel, distributed & accumulation) = 64\n"
     ]
    },
    {
     "name": "stderr",
     "output_type": "stream",
     "text": [
      "  Gradient Accumulation steps = 1\n"
     ]
    },
    {
     "name": "stderr",
     "output_type": "stream",
     "text": [
      "  Total optimization steps = 30000\n"
     ]
    },
    {
     "data": {
      "text/html": [
       "\n",
       "    <div>\n",
       "      \n",
       "      <progress value='30000' max='30000' style='width:300px; height:20px; vertical-align: middle;'></progress>\n",
       "      [30000/30000 37:27, Epoch 1/2]\n",
       "    </div>\n",
       "    <table border=\"1\" class=\"dataframe\">\n",
       "  <thead>\n",
       " <tr style=\"text-align: left;\">\n",
       "      <th>Step</th>\n",
       "      <th>Training Loss</th>\n",
       "    </tr>\n",
       "  </thead>\n",
       "  <tbody>\n",
       "    <tr>\n",
       "      <td>500</td>\n",
       "      <td>0.000400</td>\n",
       "    </tr>\n",
       "    <tr>\n",
       "      <td>1000</td>\n",
       "      <td>0.000200</td>\n",
       "    </tr>\n",
       "    <tr>\n",
       "      <td>1500</td>\n",
       "      <td>0.000100</td>\n",
       "    </tr>\n",
       "    <tr>\n",
       "      <td>2000</td>\n",
       "      <td>0.000100</td>\n",
       "    </tr>\n",
       "    <tr>\n",
       "      <td>2500</td>\n",
       "      <td>0.000100</td>\n",
       "    </tr>\n",
       "    <tr>\n",
       "      <td>3000</td>\n",
       "      <td>0.000100</td>\n",
       "    </tr>\n",
       "    <tr>\n",
       "      <td>3500</td>\n",
       "      <td>0.000100</td>\n",
       "    </tr>\n",
       "    <tr>\n",
       "      <td>4000</td>\n",
       "      <td>0.000100</td>\n",
       "    </tr>\n",
       "    <tr>\n",
       "      <td>4500</td>\n",
       "      <td>0.000200</td>\n",
       "    </tr>\n",
       "    <tr>\n",
       "      <td>5000</td>\n",
       "      <td>0.000100</td>\n",
       "    </tr>\n",
       "    <tr>\n",
       "      <td>5500</td>\n",
       "      <td>0.000000</td>\n",
       "    </tr>\n",
       "    <tr>\n",
       "      <td>6000</td>\n",
       "      <td>0.000100</td>\n",
       "    </tr>\n",
       "    <tr>\n",
       "      <td>6500</td>\n",
       "      <td>0.000000</td>\n",
       "    </tr>\n",
       "    <tr>\n",
       "      <td>7000</td>\n",
       "      <td>0.000100</td>\n",
       "    </tr>\n",
       "    <tr>\n",
       "      <td>7500</td>\n",
       "      <td>0.000100</td>\n",
       "    </tr>\n",
       "    <tr>\n",
       "      <td>8000</td>\n",
       "      <td>0.000000</td>\n",
       "    </tr>\n",
       "    <tr>\n",
       "      <td>8500</td>\n",
       "      <td>0.000100</td>\n",
       "    </tr>\n",
       "    <tr>\n",
       "      <td>9000</td>\n",
       "      <td>0.000100</td>\n",
       "    </tr>\n",
       "    <tr>\n",
       "      <td>9500</td>\n",
       "      <td>0.000100</td>\n",
       "    </tr>\n",
       "    <tr>\n",
       "      <td>10000</td>\n",
       "      <td>0.000100</td>\n",
       "    </tr>\n",
       "    <tr>\n",
       "      <td>10500</td>\n",
       "      <td>0.000300</td>\n",
       "    </tr>\n",
       "    <tr>\n",
       "      <td>11000</td>\n",
       "      <td>0.000100</td>\n",
       "    </tr>\n",
       "    <tr>\n",
       "      <td>11500</td>\n",
       "      <td>0.000300</td>\n",
       "    </tr>\n",
       "    <tr>\n",
       "      <td>12000</td>\n",
       "      <td>0.000000</td>\n",
       "    </tr>\n",
       "    <tr>\n",
       "      <td>12500</td>\n",
       "      <td>0.000200</td>\n",
       "    </tr>\n",
       "    <tr>\n",
       "      <td>13000</td>\n",
       "      <td>0.000100</td>\n",
       "    </tr>\n",
       "    <tr>\n",
       "      <td>13500</td>\n",
       "      <td>0.000200</td>\n",
       "    </tr>\n",
       "    <tr>\n",
       "      <td>14000</td>\n",
       "      <td>0.000100</td>\n",
       "    </tr>\n",
       "    <tr>\n",
       "      <td>14500</td>\n",
       "      <td>0.000100</td>\n",
       "    </tr>\n",
       "    <tr>\n",
       "      <td>15000</td>\n",
       "      <td>0.000100</td>\n",
       "    </tr>\n",
       "    <tr>\n",
       "      <td>15500</td>\n",
       "      <td>0.000000</td>\n",
       "    </tr>\n",
       "    <tr>\n",
       "      <td>16000</td>\n",
       "      <td>0.000200</td>\n",
       "    </tr>\n",
       "    <tr>\n",
       "      <td>16500</td>\n",
       "      <td>0.000200</td>\n",
       "    </tr>\n",
       "    <tr>\n",
       "      <td>17000</td>\n",
       "      <td>0.000100</td>\n",
       "    </tr>\n",
       "    <tr>\n",
       "      <td>17500</td>\n",
       "      <td>0.000100</td>\n",
       "    </tr>\n",
       "    <tr>\n",
       "      <td>18000</td>\n",
       "      <td>0.000100</td>\n",
       "    </tr>\n",
       "    <tr>\n",
       "      <td>18500</td>\n",
       "      <td>0.000100</td>\n",
       "    </tr>\n",
       "    <tr>\n",
       "      <td>19000</td>\n",
       "      <td>0.000200</td>\n",
       "    </tr>\n",
       "    <tr>\n",
       "      <td>19500</td>\n",
       "      <td>0.000000</td>\n",
       "    </tr>\n",
       "    <tr>\n",
       "      <td>20000</td>\n",
       "      <td>0.000200</td>\n",
       "    </tr>\n",
       "    <tr>\n",
       "      <td>20500</td>\n",
       "      <td>0.000100</td>\n",
       "    </tr>\n",
       "    <tr>\n",
       "      <td>21000</td>\n",
       "      <td>0.000200</td>\n",
       "    </tr>\n",
       "    <tr>\n",
       "      <td>21500</td>\n",
       "      <td>0.000100</td>\n",
       "    </tr>\n",
       "    <tr>\n",
       "      <td>22000</td>\n",
       "      <td>0.000000</td>\n",
       "    </tr>\n",
       "    <tr>\n",
       "      <td>22500</td>\n",
       "      <td>0.000100</td>\n",
       "    </tr>\n",
       "    <tr>\n",
       "      <td>23000</td>\n",
       "      <td>0.000200</td>\n",
       "    </tr>\n",
       "    <tr>\n",
       "      <td>23500</td>\n",
       "      <td>0.000000</td>\n",
       "    </tr>\n",
       "    <tr>\n",
       "      <td>24000</td>\n",
       "      <td>0.000100</td>\n",
       "    </tr>\n",
       "    <tr>\n",
       "      <td>24500</td>\n",
       "      <td>0.000000</td>\n",
       "    </tr>\n",
       "    <tr>\n",
       "      <td>25000</td>\n",
       "      <td>0.000000</td>\n",
       "    </tr>\n",
       "    <tr>\n",
       "      <td>25500</td>\n",
       "      <td>0.000100</td>\n",
       "    </tr>\n",
       "    <tr>\n",
       "      <td>26000</td>\n",
       "      <td>0.000100</td>\n",
       "    </tr>\n",
       "    <tr>\n",
       "      <td>26500</td>\n",
       "      <td>0.000000</td>\n",
       "    </tr>\n",
       "    <tr>\n",
       "      <td>27000</td>\n",
       "      <td>0.000000</td>\n",
       "    </tr>\n",
       "    <tr>\n",
       "      <td>27500</td>\n",
       "      <td>0.000000</td>\n",
       "    </tr>\n",
       "    <tr>\n",
       "      <td>28000</td>\n",
       "      <td>0.000100</td>\n",
       "    </tr>\n",
       "    <tr>\n",
       "      <td>28500</td>\n",
       "      <td>0.000100</td>\n",
       "    </tr>\n",
       "    <tr>\n",
       "      <td>29000</td>\n",
       "      <td>0.000100</td>\n",
       "    </tr>\n",
       "    <tr>\n",
       "      <td>29500</td>\n",
       "      <td>0.000000</td>\n",
       "    </tr>\n",
       "    <tr>\n",
       "      <td>30000</td>\n",
       "      <td>0.000100</td>\n",
       "    </tr>\n",
       "  </tbody>\n",
       "</table><p>"
      ],
      "text/plain": [
       "<IPython.core.display.HTML object>"
      ]
     },
     "metadata": {},
     "output_type": "display_data"
    },
    {
     "name": "stderr",
     "output_type": "stream",
     "text": [
      "Saving model checkpoint to output/checkpoint-30000\n"
     ]
    },
    {
     "name": "stderr",
     "output_type": "stream",
     "text": [
      "Configuration saved in output/checkpoint-30000/config.json\n"
     ]
    },
    {
     "name": "stderr",
     "output_type": "stream",
     "text": [
      "Model weights saved in output/checkpoint-30000/pytorch_model.bin\n"
     ]
    },
    {
     "name": "stderr",
     "output_type": "stream",
     "text": [
      "tokenizer config file saved in output/checkpoint-30000/tokenizer_config.json\n"
     ]
    },
    {
     "name": "stderr",
     "output_type": "stream",
     "text": [
      "Special tokens file saved in output/checkpoint-30000/special_tokens_map.json\n"
     ]
    },
    {
     "name": "stderr",
     "output_type": "stream",
     "text": [
      "\n",
      "\n",
      "Training completed. Do not forget to share your model on huggingface.co/models =)\n",
      "\n",
      "\n"
     ]
    }
   ],
   "source": [
    "train_result = trainer.train()"
   ]
  },
  {
   "cell_type": "code",
   "execution_count": 15,
   "id": "75244f90",
   "metadata": {
    "execution": {
     "iopub.execute_input": "2022-04-09T06:27:34.457872Z",
     "iopub.status.busy": "2022-04-09T06:27:34.457160Z",
     "iopub.status.idle": "2022-04-09T06:27:34.488560Z",
     "shell.execute_reply": "2022-04-09T06:27:34.487677Z"
    },
    "papermill": {
     "duration": 0.05586,
     "end_time": "2022-04-09T06:27:34.489947",
     "exception": false,
     "start_time": "2022-04-09T06:27:34.434087",
     "status": "completed"
    },
    "tags": []
   },
   "outputs": [],
   "source": [
    "import pandas as pd\n",
    "\n",
    "pd.DataFrame(trainer.state.log_history).to_csv(f'logs/cl-distilled_pooling_{pooling_method}_fp16.csv', index=False)"
   ]
  },
  {
   "cell_type": "markdown",
   "id": "6a5f43f8",
   "metadata": {
    "papermill": {
     "duration": 0.021548,
     "end_time": "2022-04-09T06:27:34.532779",
     "exception": false,
     "start_time": "2022-04-09T06:27:34.511231",
     "status": "completed"
    },
    "tags": []
   },
   "source": [
    "## 4. Evaluate DistilBert CL Model performance"
   ]
  },
  {
   "cell_type": "code",
   "execution_count": 16,
   "id": "5e65ecb2",
   "metadata": {
    "execution": {
     "iopub.execute_input": "2022-04-09T06:27:34.578307Z",
     "iopub.status.busy": "2022-04-09T06:27:34.577827Z",
     "iopub.status.idle": "2022-04-09T06:27:51.488679Z",
     "shell.execute_reply": "2022-04-09T06:27:51.488113Z"
    },
    "papermill": {
     "duration": 16.935038,
     "end_time": "2022-04-09T06:27:51.490059",
     "exception": false,
     "start_time": "2022-04-09T06:27:34.555021",
     "status": "completed"
    },
    "tags": []
   },
   "outputs": [
    {
     "name": "stderr",
     "output_type": "stream",
     "text": [
      "/opt/conda/lib/python3.8/site-packages/SentEval-0.1.0-py3.8.egg/senteval/sts.py:42: VisibleDeprecationWarning: Creating an ndarray from ragged nested sequences (which is a list-or-tuple of lists-or-tuples-or ndarrays with different lengths or shapes) is deprecated. If you meant to do this, you must specify 'dtype=object' when creating the ndarray.\n",
      "/opt/conda/lib/python3.8/site-packages/SentEval-0.1.0-py3.8.egg/senteval/sts.py:43: VisibleDeprecationWarning: Creating an ndarray from ragged nested sequences (which is a list-or-tuple of lists-or-tuples-or ndarrays with different lengths or shapes) is deprecated. If you meant to do this, you must specify 'dtype=object' when creating the ndarray.\n"
     ]
    },
    {
     "name": "stdout",
     "output_type": "stream",
     "text": [
      "STS12:  0.570407734971528\n",
      "STS13:  0.7270977900709258\n",
      "STS14:  0.6398934396309112\n",
      "STS15:  0.7286057802524872\n",
      "STSB:  0.6502025042256562\n"
     ]
    },
    {
     "data": {
      "text/plain": [
       "{'STSBenchmark': {'train': {'pearson': (0.7009566714330709, 0.0),\n",
       "   'spearman': SpearmanrResult(correlation=0.6847712618823842, pvalue=0.0),\n",
       "   'nsamples': 5749},\n",
       "  'dev': {'pearson': (0.7135166880644049, 1.023744376028432e-233),\n",
       "   'spearman': SpearmanrResult(correlation=0.7141576808251305, pvalue=2.528334103284392e-234),\n",
       "   'nsamples': 1500},\n",
       "  'test': {'pearson': (0.654406925184314, 2.2563244783088244e-169),\n",
       "   'spearman': SpearmanrResult(correlation=0.6502025042256562, pvalue=1.625933796554919e-166),\n",
       "   'nsamples': 1379},\n",
       "  'all': {'pearson': {'all': 0.6949326283145635,\n",
       "    'mean': 0.6896267615605965,\n",
       "    'wmean': 0.695700288131027},\n",
       "   'spearman': {'all': 0.6885443889579328,\n",
       "    'mean': 0.6830438156443903,\n",
       "    'wmean': 0.6843550949381899}}},\n",
       " 'STS12': {'MSRpar': {'pearson': (0.5745985937616566, 4.136532690257652e-67),\n",
       "   'spearman': SpearmanrResult(correlation=0.5768655477162099, pvalue=9.566160361846071e-68),\n",
       "   'nsamples': 750},\n",
       "  'MSRvid': {'pearson': (0.7300856396948845, 8.255968292057148e-126),\n",
       "   'spearman': SpearmanrResult(correlation=0.7276644368929464, pvalue=1.3843404109960305e-124),\n",
       "   'nsamples': 750},\n",
       "  'SMTeuroparl': {'pearson': (0.45930239051494204, 2.4743840746174706e-25),\n",
       "   'spearman': SpearmanrResult(correlation=0.5829510395602859, pvalue=3.938694005179138e-43),\n",
       "   'nsamples': 459},\n",
       "  'surprise.OnWN': {'pearson': (0.7230413514127212, 2.7728746017054567e-122),\n",
       "   'spearman': SpearmanrResult(correlation=0.6930902236036536, pvalue=1.9579367806472208e-108),\n",
       "   'nsamples': 750},\n",
       "  'surprise.SMTnews': {'pearson': (0.5586380530200071, 4.022496477703735e-34),\n",
       "   'spearman': SpearmanrResult(correlation=0.5293880179218052, pvalue=3.358202965241874e-30),\n",
       "   'nsamples': 399},\n",
       "  'all': {'pearson': {'all': 0.5750212042218911,\n",
       "    'mean': 0.6091332056808423,\n",
       "    'wmean': 0.6288644044572999},\n",
       "   'spearman': {'all': 0.570407734971528,\n",
       "    'mean': 0.6219918531389802,\n",
       "    'wmean': 0.6361053740246393}}},\n",
       " 'STS13': {'FNWN': {'pearson': (0.5185048268152326, 2.135026647769109e-14),\n",
       "   'spearman': SpearmanrResult(correlation=0.5446809127327965, pvalue=5.407130576004993e-16),\n",
       "   'nsamples': 189},\n",
       "  'headlines': {'pearson': (0.746615209917135, 1.5380780265691795e-134),\n",
       "   'spearman': SpearmanrResult(correlation=0.7396328112484364, pvalue=9.031243618414815e-131),\n",
       "   'nsamples': 750},\n",
       "  'OnWN': {'pearson': (0.7265526342218905, 3.664839983458438e-93),\n",
       "   'spearman': SpearmanrResult(correlation=0.7320979627304349, pvalue=2.9046887515407942e-95),\n",
       "   'nsamples': 561},\n",
       "  'all': {'pearson': {'all': 0.718798362501388,\n",
       "    'mean': 0.6638908903180861,\n",
       "    'wmean': 0.7103698983362737},\n",
       "   'spearman': {'all': 0.7270977900709258,\n",
       "    'mean': 0.6721372289038893,\n",
       "    'wmean': 0.7122508386897333}}},\n",
       " 'STS14': {'deft-forum': {'pearson': (0.49665585568164694,\n",
       "    2.099834592578746e-29),\n",
       "   'spearman': SpearmanrResult(correlation=0.479058522053429, pvalue=3.387897597655353e-27),\n",
       "   'nsamples': 450},\n",
       "  'deft-news': {'pearson': (0.7382827529567155, 6.760934426167809e-53),\n",
       "   'spearman': SpearmanrResult(correlation=0.7140738261408215, pvalue=4.587498229973146e-48),\n",
       "   'nsamples': 300},\n",
       "  'headlines': {'pearson': (0.7093893900009239, 9.427867508099278e-116),\n",
       "   'spearman': SpearmanrResult(correlation=0.674973549914895, pvalue=7.437691759022416e-101),\n",
       "   'nsamples': 750},\n",
       "  'images': {'pearson': (0.696500675385651, 6.331557378179385e-110),\n",
       "   'spearman': SpearmanrResult(correlation=0.6802764348601374, pvalue=5.123922221075132e-103),\n",
       "   'nsamples': 750},\n",
       "  'OnWN': {'pearson': (0.7796317281038944, 3.418257764959896e-154),\n",
       "   'spearman': SpearmanrResult(correlation=0.7898987929989166, pvalue=5.164767563129236e-161),\n",
       "   'nsamples': 750},\n",
       "  'tweet-news': {'pearson': (0.7434772847524996, 7.867968936509074e-133),\n",
       "   'spearman': SpearmanrResult(correlation=0.717933874240265, pvalue=8.54822269883997e-120),\n",
       "   'nsamples': 750},\n",
       "  'all': {'pearson': {'all': 0.6581234038059048,\n",
       "    'mean': 0.6939896144802219,\n",
       "    'wmean': 0.7044611385669286},\n",
       "   'spearman': {'all': 0.6398934396309112,\n",
       "    'mean': 0.6760358333680774,\n",
       "    'wmean': 0.6872294591405201}}},\n",
       " 'STS15': {'answers-forums': {'pearson': (0.7130243519458838,\n",
       "    1.7643226922297057e-59),\n",
       "   'spearman': SpearmanrResult(correlation=0.7104695211255735, pvalue=7.000287604903391e-59),\n",
       "   'nsamples': 375},\n",
       "  'answers-students': {'pearson': (0.7020197340416232,\n",
       "    2.2119958370285125e-112),\n",
       "   'spearman': SpearmanrResult(correlation=0.6982879944114131, pvalue=1.0281901513496514e-110),\n",
       "   'nsamples': 750},\n",
       "  'belief': {'pearson': (0.7688287186466828, 1.9780362422625616e-74),\n",
       "   'spearman': SpearmanrResult(correlation=0.7738695884756676, pvalue=5.472651734424683e-76),\n",
       "   'nsamples': 375},\n",
       "  'headlines': {'pearson': (0.7641379635779048, 1.4405928655422098e-144),\n",
       "   'spearman': SpearmanrResult(correlation=0.7637661282476353, pvalue=2.400905959474613e-144),\n",
       "   'nsamples': 750},\n",
       "  'images': {'pearson': (0.7806605788168984, 7.3621162790303795e-155),\n",
       "   'spearman': SpearmanrResult(correlation=0.7866292067270637, pvalue=8.434785742150498e-159),\n",
       "   'nsamples': 750},\n",
       "  'all': {'pearson': {'all': 0.7279732143900205,\n",
       "    'mean': 0.7457342694057986,\n",
       "    'wmean': 0.7469362029331775},\n",
       "   'spearman': {'all': 0.7286057802524872,\n",
       "    'mean': 0.7466044877974707,\n",
       "    'wmean': 0.7477132210466831}}}}"
      ]
     },
     "execution_count": 16,
     "metadata": {},
     "output_type": "execute_result"
    }
   ],
   "source": [
    "model.eval()\n",
    "\n",
    "results = evaluate_model()\n",
    "results"
   ]
  },
  {
   "cell_type": "code",
   "execution_count": null,
   "id": "4c1f3859",
   "metadata": {
    "papermill": {
     "duration": 0.023128,
     "end_time": "2022-04-09T06:27:51.537724",
     "exception": false,
     "start_time": "2022-04-09T06:27:51.514596",
     "status": "completed"
    },
    "tags": []
   },
   "outputs": [],
   "source": []
  }
 ],
 "metadata": {
  "celltoolbar": "Tags",
  "kernelspec": {
   "display_name": "Python 3 (ipykernel)",
   "language": "python",
   "name": "python3"
  },
  "language_info": {
   "codemirror_mode": {
    "name": "ipython",
    "version": 3
   },
   "file_extension": ".py",
   "mimetype": "text/x-python",
   "name": "python",
   "nbconvert_exporter": "python",
   "pygments_lexer": "ipython3",
   "version": "3.8.12"
  },
  "papermill": {
   "default_parameters": {},
   "duration": 2291.673365,
   "end_time": "2022-04-09T06:27:52.386327",
   "environment_variables": {},
   "exception": null,
   "input_path": "notebooks/training/cl-distilbert_pooling_avg-first-last.ipynb",
   "output_path": "notebooks/training/cl-distilbert_pooling_max_last2.ipynb",
   "parameters": {
    "pooling_method": "max_last2"
   },
   "start_time": "2022-04-09T05:49:40.712962",
   "version": "2.3.4"
  },
  "toc": {
   "base_numbering": 1,
   "nav_menu": {},
   "number_sections": false,
   "sideBar": true,
   "skip_h1_title": false,
   "title_cell": "Table of Contents",
   "title_sidebar": "Contents",
   "toc_cell": false,
   "toc_position": {},
   "toc_section_display": true,
   "toc_window_display": false
  },
  "widgets": {
   "application/vnd.jupyter.widget-state+json": {
    "state": {
     "062de07013d5419f99bca5ad132a288f": {
      "model_module": "@jupyter-widgets/controls",
      "model_module_version": "1.5.0",
      "model_name": "HTMLModel",
      "state": {
       "_dom_classes": [],
       "_model_module": "@jupyter-widgets/controls",
       "_model_module_version": "1.5.0",
       "_model_name": "HTMLModel",
       "_view_count": null,
       "_view_module": "@jupyter-widgets/controls",
       "_view_module_version": "1.5.0",
       "_view_name": "HTMLView",
       "description": "",
       "description_tooltip": null,
       "layout": "IPY_MODEL_453b73ed903042c08cb7279cdcba018e",
       "placeholder": "​",
       "style": "IPY_MODEL_8f32fdba12414cdfb54e89b898f8e82d",
       "value": " 1/1 [00:00&lt;00:00, 50.27it/s]"
      }
     },
     "3a942769763d427cac45fbc68bba4f33": {
      "model_module": "@jupyter-widgets/base",
      "model_module_version": "1.2.0",
      "model_name": "LayoutModel",
      "state": {
       "_model_module": "@jupyter-widgets/base",
       "_model_module_version": "1.2.0",
       "_model_name": "LayoutModel",
       "_view_count": null,
       "_view_module": "@jupyter-widgets/base",
       "_view_module_version": "1.2.0",
       "_view_name": "LayoutView",
       "align_content": null,
       "align_items": null,
       "align_self": null,
       "border": null,
       "bottom": null,
       "display": null,
       "flex": null,
       "flex_flow": null,
       "grid_area": null,
       "grid_auto_columns": null,
       "grid_auto_flow": null,
       "grid_auto_rows": null,
       "grid_column": null,
       "grid_gap": null,
       "grid_row": null,
       "grid_template_areas": null,
       "grid_template_columns": null,
       "grid_template_rows": null,
       "height": null,
       "justify_content": null,
       "justify_items": null,
       "left": null,
       "margin": null,
       "max_height": null,
       "max_width": null,
       "min_height": null,
       "min_width": null,
       "object_fit": null,
       "object_position": null,
       "order": null,
       "overflow": null,
       "overflow_x": null,
       "overflow_y": null,
       "padding": null,
       "right": null,
       "top": null,
       "visibility": null,
       "width": null
      }
     },
     "453b73ed903042c08cb7279cdcba018e": {
      "model_module": "@jupyter-widgets/base",
      "model_module_version": "1.2.0",
      "model_name": "LayoutModel",
      "state": {
       "_model_module": "@jupyter-widgets/base",
       "_model_module_version": "1.2.0",
       "_model_name": "LayoutModel",
       "_view_count": null,
       "_view_module": "@jupyter-widgets/base",
       "_view_module_version": "1.2.0",
       "_view_name": "LayoutView",
       "align_content": null,
       "align_items": null,
       "align_self": null,
       "border": null,
       "bottom": null,
       "display": null,
       "flex": null,
       "flex_flow": null,
       "grid_area": null,
       "grid_auto_columns": null,
       "grid_auto_flow": null,
       "grid_auto_rows": null,
       "grid_column": null,
       "grid_gap": null,
       "grid_row": null,
       "grid_template_areas": null,
       "grid_template_columns": null,
       "grid_template_rows": null,
       "height": null,
       "justify_content": null,
       "justify_items": null,
       "left": null,
       "margin": null,
       "max_height": null,
       "max_width": null,
       "min_height": null,
       "min_width": null,
       "object_fit": null,
       "object_position": null,
       "order": null,
       "overflow": null,
       "overflow_x": null,
       "overflow_y": null,
       "padding": null,
       "right": null,
       "top": null,
       "visibility": null,
       "width": null
      }
     },
     "5014bb965ee64fef98d8cf375ff23e3e": {
      "model_module": "@jupyter-widgets/controls",
      "model_module_version": "1.5.0",
      "model_name": "DescriptionStyleModel",
      "state": {
       "_model_module": "@jupyter-widgets/controls",
       "_model_module_version": "1.5.0",
       "_model_name": "DescriptionStyleModel",
       "_view_count": null,
       "_view_module": "@jupyter-widgets/base",
       "_view_module_version": "1.2.0",
       "_view_name": "StyleView",
       "description_width": ""
      }
     },
     "5a89d290289546e6a8c91f576c68ba59": {
      "model_module": "@jupyter-widgets/controls",
      "model_module_version": "1.5.0",
      "model_name": "HTMLModel",
      "state": {
       "_dom_classes": [],
       "_model_module": "@jupyter-widgets/controls",
       "_model_module_version": "1.5.0",
       "_model_name": "HTMLModel",
       "_view_count": null,
       "_view_module": "@jupyter-widgets/controls",
       "_view_module_version": "1.5.0",
       "_view_name": "HTMLView",
       "description": "",
       "description_tooltip": null,
       "layout": "IPY_MODEL_3a942769763d427cac45fbc68bba4f33",
       "placeholder": "​",
       "style": "IPY_MODEL_5014bb965ee64fef98d8cf375ff23e3e",
       "value": "100%"
      }
     },
     "5fa46c4d02dc4319ab61dafa7f6f0640": {
      "model_module": "@jupyter-widgets/controls",
      "model_module_version": "1.5.0",
      "model_name": "FloatProgressModel",
      "state": {
       "_dom_classes": [],
       "_model_module": "@jupyter-widgets/controls",
       "_model_module_version": "1.5.0",
       "_model_name": "FloatProgressModel",
       "_view_count": null,
       "_view_module": "@jupyter-widgets/controls",
       "_view_module_version": "1.5.0",
       "_view_name": "ProgressView",
       "bar_style": "success",
       "description": "",
       "description_tooltip": null,
       "layout": "IPY_MODEL_91578fae3cd34ef49b2a2f5e42b0e164",
       "max": 1,
       "min": 0,
       "orientation": "horizontal",
       "style": "IPY_MODEL_9e926c763c7141f2ae30fd8b66deb177",
       "value": 1
      }
     },
     "79834a0fa4744cb3a24ab35fbd9f69ff": {
      "model_module": "@jupyter-widgets/controls",
      "model_module_version": "1.5.0",
      "model_name": "HBoxModel",
      "state": {
       "_dom_classes": [],
       "_model_module": "@jupyter-widgets/controls",
       "_model_module_version": "1.5.0",
       "_model_name": "HBoxModel",
       "_view_count": null,
       "_view_module": "@jupyter-widgets/controls",
       "_view_module_version": "1.5.0",
       "_view_name": "HBoxView",
       "box_style": "",
       "children": [
        "IPY_MODEL_5a89d290289546e6a8c91f576c68ba59",
        "IPY_MODEL_5fa46c4d02dc4319ab61dafa7f6f0640",
        "IPY_MODEL_062de07013d5419f99bca5ad132a288f"
       ],
       "layout": "IPY_MODEL_f5642185e02c44b89e2be9d871e4cc1b"
      }
     },
     "8f32fdba12414cdfb54e89b898f8e82d": {
      "model_module": "@jupyter-widgets/controls",
      "model_module_version": "1.5.0",
      "model_name": "DescriptionStyleModel",
      "state": {
       "_model_module": "@jupyter-widgets/controls",
       "_model_module_version": "1.5.0",
       "_model_name": "DescriptionStyleModel",
       "_view_count": null,
       "_view_module": "@jupyter-widgets/base",
       "_view_module_version": "1.2.0",
       "_view_name": "StyleView",
       "description_width": ""
      }
     },
     "91578fae3cd34ef49b2a2f5e42b0e164": {
      "model_module": "@jupyter-widgets/base",
      "model_module_version": "1.2.0",
      "model_name": "LayoutModel",
      "state": {
       "_model_module": "@jupyter-widgets/base",
       "_model_module_version": "1.2.0",
       "_model_name": "LayoutModel",
       "_view_count": null,
       "_view_module": "@jupyter-widgets/base",
       "_view_module_version": "1.2.0",
       "_view_name": "LayoutView",
       "align_content": null,
       "align_items": null,
       "align_self": null,
       "border": null,
       "bottom": null,
       "display": null,
       "flex": null,
       "flex_flow": null,
       "grid_area": null,
       "grid_auto_columns": null,
       "grid_auto_flow": null,
       "grid_auto_rows": null,
       "grid_column": null,
       "grid_gap": null,
       "grid_row": null,
       "grid_template_areas": null,
       "grid_template_columns": null,
       "grid_template_rows": null,
       "height": null,
       "justify_content": null,
       "justify_items": null,
       "left": null,
       "margin": null,
       "max_height": null,
       "max_width": null,
       "min_height": null,
       "min_width": null,
       "object_fit": null,
       "object_position": null,
       "order": null,
       "overflow": null,
       "overflow_x": null,
       "overflow_y": null,
       "padding": null,
       "right": null,
       "top": null,
       "visibility": null,
       "width": null
      }
     },
     "9e926c763c7141f2ae30fd8b66deb177": {
      "model_module": "@jupyter-widgets/controls",
      "model_module_version": "1.5.0",
      "model_name": "ProgressStyleModel",
      "state": {
       "_model_module": "@jupyter-widgets/controls",
       "_model_module_version": "1.5.0",
       "_model_name": "ProgressStyleModel",
       "_view_count": null,
       "_view_module": "@jupyter-widgets/base",
       "_view_module_version": "1.2.0",
       "_view_name": "StyleView",
       "bar_color": null,
       "description_width": ""
      }
     },
     "f5642185e02c44b89e2be9d871e4cc1b": {
      "model_module": "@jupyter-widgets/base",
      "model_module_version": "1.2.0",
      "model_name": "LayoutModel",
      "state": {
       "_model_module": "@jupyter-widgets/base",
       "_model_module_version": "1.2.0",
       "_model_name": "LayoutModel",
       "_view_count": null,
       "_view_module": "@jupyter-widgets/base",
       "_view_module_version": "1.2.0",
       "_view_name": "LayoutView",
       "align_content": null,
       "align_items": null,
       "align_self": null,
       "border": null,
       "bottom": null,
       "display": null,
       "flex": null,
       "flex_flow": null,
       "grid_area": null,
       "grid_auto_columns": null,
       "grid_auto_flow": null,
       "grid_auto_rows": null,
       "grid_column": null,
       "grid_gap": null,
       "grid_row": null,
       "grid_template_areas": null,
       "grid_template_columns": null,
       "grid_template_rows": null,
       "height": null,
       "justify_content": null,
       "justify_items": null,
       "left": null,
       "margin": null,
       "max_height": null,
       "max_width": null,
       "min_height": null,
       "min_width": null,
       "object_fit": null,
       "object_position": null,
       "order": null,
       "overflow": null,
       "overflow_x": null,
       "overflow_y": null,
       "padding": null,
       "right": null,
       "top": null,
       "visibility": null,
       "width": null
      }
     }
    },
    "version_major": 2,
    "version_minor": 0
   }
  }
 },
 "nbformat": 4,
 "nbformat_minor": 5
}
