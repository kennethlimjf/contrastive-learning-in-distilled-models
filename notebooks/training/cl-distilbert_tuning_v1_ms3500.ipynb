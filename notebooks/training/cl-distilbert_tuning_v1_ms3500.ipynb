{
 "cells": [
  {
   "cell_type": "markdown",
   "id": "bec2f564",
   "metadata": {
    "papermill": {
     "duration": 0.279437,
     "end_time": "2022-04-15T11:01:12.747501",
     "exception": false,
     "start_time": "2022-04-15T11:01:12.468064",
     "status": "completed"
    },
    "tags": []
   },
   "source": [
    "# Contrastive Learning From Scratch - DistilBERT\n",
    "\n",
    "An attempt to build contrastive learning model from scratch. Parts include:\n",
    "\n",
    "- Loading and preparing Wiki-1M data for model input\n",
    "- Contrastive learning model\n",
    "  - Forward passing using pre-trained model\n",
    "  - Constrastive layer\n",
    "  - Calculate loss\n",
    "- Training procedure\n",
    "  - Default trainer optimizer\n",
    "  - Default trainer hyper-parameters"
   ]
  },
  {
   "cell_type": "code",
   "execution_count": 1,
   "id": "41af3a95",
   "metadata": {
    "execution": {
     "iopub.execute_input": "2022-04-15T11:01:13.155075Z",
     "iopub.status.busy": "2022-04-15T11:01:13.154798Z",
     "iopub.status.idle": "2022-04-15T11:01:13.174512Z",
     "shell.execute_reply": "2022-04-15T11:01:13.174066Z"
    },
    "papermill": {
     "duration": 0.244493,
     "end_time": "2022-04-15T11:01:13.175974",
     "exception": false,
     "start_time": "2022-04-15T11:01:12.931481",
     "status": "completed"
    },
    "tags": []
   },
   "outputs": [
    {
     "name": "stdout",
     "output_type": "stream",
     "text": [
      "/notebooks/contrastive-learning-in-distilled-models\n"
     ]
    }
   ],
   "source": [
    "import os\n",
    "\n",
    "# Set Project home\n",
    "PROJECT_HOME = os.path.join('/',\n",
    "                            'notebooks',\n",
    "                            'contrastive-learning-in-distilled-models')\n",
    "%cd {PROJECT_HOME}\n",
    "\n",
    "# Load project code\n",
    "%reload_ext autoreload\n",
    "%autoreload 2\n",
    "\n",
    "import sys\n",
    "sys.path.insert(0, f'{PROJECT_HOME}/src')\n",
    "\n",
    "import distilface"
   ]
  },
  {
   "cell_type": "code",
   "execution_count": 2,
   "id": "6e9dd0d1",
   "metadata": {
    "execution": {
     "iopub.execute_input": "2022-04-15T11:01:13.771364Z",
     "iopub.status.busy": "2022-04-15T11:01:13.770787Z",
     "iopub.status.idle": "2022-04-15T11:01:14.692175Z",
     "shell.execute_reply": "2022-04-15T11:01:14.691375Z"
    },
    "papermill": {
     "duration": 1.222981,
     "end_time": "2022-04-15T11:01:14.694142",
     "exception": false,
     "start_time": "2022-04-15T11:01:13.471161",
     "status": "completed"
    },
    "tags": []
   },
   "outputs": [],
   "source": [
    "def seed_everything(seed: int):\n",
    "    import random, os\n",
    "    import numpy as np\n",
    "    import torch\n",
    "    \n",
    "    random.seed(seed)\n",
    "    os.environ['PYTHONHASHSEED'] = str(seed)\n",
    "    np.random.seed(seed)\n",
    "    torch.manual_seed(seed)\n",
    "    torch.cuda.manual_seed(seed)\n",
    "    torch.backends.cudnn.deterministic = True\n",
    "    torch.backends.cudnn.benchmark = True\n",
    "    \n",
    "seed_everything(42)"
   ]
  },
  {
   "cell_type": "code",
   "execution_count": 3,
   "id": "5ff31b94",
   "metadata": {
    "execution": {
     "iopub.execute_input": "2022-04-15T11:01:15.268230Z",
     "iopub.status.busy": "2022-04-15T11:01:15.268005Z",
     "iopub.status.idle": "2022-04-15T11:01:15.285444Z",
     "shell.execute_reply": "2022-04-15T11:01:15.284799Z"
    },
    "papermill": {
     "duration": 0.308695,
     "end_time": "2022-04-15T11:01:15.286803",
     "exception": false,
     "start_time": "2022-04-15T11:01:14.978108",
     "status": "completed"
    },
    "tags": [
     "parameters"
    ]
   },
   "outputs": [],
   "source": [
    "# Hyperparameters\n",
    "\n",
    "pooling_method = 'avg_last4'\n",
    "batch_size = 128\n",
    "learning_rate = 1e-5\n",
    "epochs = 1\n",
    "max_steps = 30_000\n",
    "temperature = 0.05\n",
    "max_len = 32\n",
    "fp16 = False"
   ]
  },
  {
   "cell_type": "code",
   "execution_count": 4,
   "id": "14b7b26b",
   "metadata": {
    "execution": {
     "iopub.execute_input": "2022-04-15T11:01:15.866203Z",
     "iopub.status.busy": "2022-04-15T11:01:15.865989Z",
     "iopub.status.idle": "2022-04-15T11:01:15.882416Z",
     "shell.execute_reply": "2022-04-15T11:01:15.881804Z"
    },
    "papermill": {
     "duration": 0.293608,
     "end_time": "2022-04-15T11:01:15.883821",
     "exception": false,
     "start_time": "2022-04-15T11:01:15.590213",
     "status": "completed"
    },
    "tags": [
     "injected-parameters"
    ]
   },
   "outputs": [],
   "source": [
    "# Parameters\n",
    "max_steps = 3500\n"
   ]
  },
  {
   "cell_type": "markdown",
   "id": "0d07e04a",
   "metadata": {
    "papermill": {
     "duration": 0.301591,
     "end_time": "2022-04-15T11:01:16.450690",
     "exception": false,
     "start_time": "2022-04-15T11:01:16.149099",
     "status": "completed"
    },
    "tags": []
   },
   "source": [
    "## 1. Loading and Preparing Wiki-1M data\n",
    "\n",
    "Use huggingface `datasets` library to load local file data."
   ]
  },
  {
   "cell_type": "code",
   "execution_count": 5,
   "id": "47395c6e",
   "metadata": {
    "execution": {
     "iopub.execute_input": "2022-04-15T11:01:16.861137Z",
     "iopub.status.busy": "2022-04-15T11:01:16.860459Z",
     "iopub.status.idle": "2022-04-15T11:01:17.498584Z",
     "shell.execute_reply": "2022-04-15T11:01:17.498137Z"
    },
    "papermill": {
     "duration": 0.821471,
     "end_time": "2022-04-15T11:01:17.499935",
     "exception": false,
     "start_time": "2022-04-15T11:01:16.678464",
     "status": "completed"
    },
    "tags": []
   },
   "outputs": [
    {
     "name": "stderr",
     "output_type": "stream",
     "text": [
      "Using custom data configuration default-235a9b97f9ebd10e\n"
     ]
    },
    {
     "name": "stderr",
     "output_type": "stream",
     "text": [
      "Reusing dataset text (./data/text/default-235a9b97f9ebd10e/0.0.0/4b86d314f7236db91f0a0f5cda32d4375445e64c5eda2692655dd99c2dac68e8)\n"
     ]
    },
    {
     "data": {
      "application/vnd.jupyter.widget-view+json": {
       "model_id": "8ca31042c2484d3a90de6b2c01592421",
       "version_major": 2,
       "version_minor": 0
      },
      "text/plain": [
       "  0%|          | 0/1 [00:00<?, ?it/s]"
      ]
     },
     "metadata": {},
     "output_type": "display_data"
    }
   ],
   "source": [
    "import numpy as np\n",
    "\n",
    "from datasets import load_dataset\n",
    "\n",
    "data_files = {'train': 'data/training/wiki1m_for_simcse.txt'}\n",
    "# data_files = {'train': 'data/training/wiki5k.txt'}\n",
    "datasets = load_dataset('text', data_files=data_files, cache_dir='./data/')"
   ]
  },
  {
   "cell_type": "code",
   "execution_count": 6,
   "id": "0ad76708",
   "metadata": {
    "execution": {
     "iopub.execute_input": "2022-04-15T11:01:18.118801Z",
     "iopub.status.busy": "2022-04-15T11:01:18.117931Z",
     "iopub.status.idle": "2022-04-15T11:01:18.138836Z",
     "shell.execute_reply": "2022-04-15T11:01:18.138454Z"
    },
    "papermill": {
     "duration": 0.321041,
     "end_time": "2022-04-15T11:01:18.141033",
     "exception": false,
     "start_time": "2022-04-15T11:01:17.819992",
     "status": "completed"
    },
    "tags": []
   },
   "outputs": [],
   "source": [
    "# Unsupervised / Self-supervised dataset\n",
    "\n",
    "column_names = datasets[\"train\"].column_names\n",
    "sent0_cname = column_names[0]\n",
    "sent1_cname = column_names[0]"
   ]
  },
  {
   "cell_type": "code",
   "execution_count": 7,
   "id": "c6e819ec",
   "metadata": {
    "execution": {
     "iopub.execute_input": "2022-04-15T11:01:18.583759Z",
     "iopub.status.busy": "2022-04-15T11:01:18.582909Z",
     "iopub.status.idle": "2022-04-15T11:01:19.272786Z",
     "shell.execute_reply": "2022-04-15T11:01:19.272094Z"
    },
    "papermill": {
     "duration": 0.881418,
     "end_time": "2022-04-15T11:01:19.274495",
     "exception": false,
     "start_time": "2022-04-15T11:01:18.393077",
     "status": "completed"
    },
    "tags": []
   },
   "outputs": [],
   "source": [
    "from transformers import AutoTokenizer\n",
    "\n",
    "tokenizer = AutoTokenizer.from_pretrained('distilbert-base-uncased')"
   ]
  },
  {
   "cell_type": "code",
   "execution_count": 8,
   "id": "8b56bafe",
   "metadata": {
    "execution": {
     "iopub.execute_input": "2022-04-15T11:01:19.908942Z",
     "iopub.status.busy": "2022-04-15T11:01:19.907182Z",
     "iopub.status.idle": "2022-04-15T11:01:19.931858Z",
     "shell.execute_reply": "2022-04-15T11:01:19.931162Z"
    },
    "papermill": {
     "duration": 0.329986,
     "end_time": "2022-04-15T11:01:19.933288",
     "exception": false,
     "start_time": "2022-04-15T11:01:19.603302",
     "status": "completed"
    },
    "tags": []
   },
   "outputs": [],
   "source": [
    "def prepare_features(examples):\n",
    "    total = len(examples[sent0_cname])\n",
    "\n",
    "    # Avoid \"None\" fields \n",
    "    for idx in range(total):\n",
    "        if examples[sent0_cname][idx] is None:\n",
    "            examples[sent0_cname][idx] = \" \"\n",
    "        if examples[sent1_cname][idx] is None:\n",
    "            examples[sent1_cname][idx] = \" \"\n",
    "\n",
    "    sentences = examples[sent0_cname] + examples[sent1_cname]\n",
    "\n",
    "    sent_features = tokenizer(\n",
    "        sentences,\n",
    "        max_length=max_len,\n",
    "        truncation=True,\n",
    "        padding=True,\n",
    "    )\n",
    "\n",
    "    features = {}\n",
    "    for key in sent_features:\n",
    "        features[key] = [[sent_features[key][i], sent_features[key][i+total]] for i in range(total)]\n",
    "\n",
    "    return features"
   ]
  },
  {
   "cell_type": "code",
   "execution_count": 9,
   "id": "25491dc0",
   "metadata": {
    "execution": {
     "iopub.execute_input": "2022-04-15T11:01:20.430318Z",
     "iopub.status.busy": "2022-04-15T11:01:20.429577Z",
     "iopub.status.idle": "2022-04-15T11:01:20.473382Z",
     "shell.execute_reply": "2022-04-15T11:01:20.472887Z"
    },
    "papermill": {
     "duration": 0.28309,
     "end_time": "2022-04-15T11:01:20.474827",
     "exception": false,
     "start_time": "2022-04-15T11:01:20.191737",
     "status": "completed"
    },
    "tags": []
   },
   "outputs": [
    {
     "name": "stderr",
     "output_type": "stream",
     "text": [
      "Loading cached processed dataset at ./data/text/default-235a9b97f9ebd10e/0.0.0/4b86d314f7236db91f0a0f5cda32d4375445e64c5eda2692655dd99c2dac68e8/cache-305eab4ce3c7d88c.arrow\n"
     ]
    }
   ],
   "source": [
    "train_dataset = datasets[\"train\"].map(prepare_features,\n",
    "                                      batched=True,\n",
    "                                    #   num_proc=24,\n",
    "                                      remove_columns=column_names)"
   ]
  },
  {
   "cell_type": "code",
   "execution_count": 10,
   "id": "69d9c988",
   "metadata": {
    "execution": {
     "iopub.execute_input": "2022-04-15T11:01:21.133086Z",
     "iopub.status.busy": "2022-04-15T11:01:21.132879Z",
     "iopub.status.idle": "2022-04-15T11:01:21.165709Z",
     "shell.execute_reply": "2022-04-15T11:01:21.164778Z"
    },
    "papermill": {
     "duration": 0.283689,
     "end_time": "2022-04-15T11:01:21.167284",
     "exception": false,
     "start_time": "2022-04-15T11:01:20.883595",
     "status": "completed"
    },
    "tags": []
   },
   "outputs": [
    {
     "data": {
      "text/plain": [
       "1000000"
      ]
     },
     "execution_count": 10,
     "metadata": {},
     "output_type": "execute_result"
    }
   ],
   "source": [
    "train_dataset.num_rows"
   ]
  },
  {
   "cell_type": "markdown",
   "id": "5b043e31",
   "metadata": {
    "papermill": {
     "duration": 0.276195,
     "end_time": "2022-04-15T11:01:21.769167",
     "exception": false,
     "start_time": "2022-04-15T11:01:21.492972",
     "status": "completed"
    },
    "tags": []
   },
   "source": [
    "## 2. Contrastive Learning Model"
   ]
  },
  {
   "cell_type": "code",
   "execution_count": 11,
   "id": "57f95a56",
   "metadata": {
    "execution": {
     "iopub.execute_input": "2022-04-15T11:01:22.336017Z",
     "iopub.status.busy": "2022-04-15T11:01:22.335777Z",
     "iopub.status.idle": "2022-04-15T11:01:26.791108Z",
     "shell.execute_reply": "2022-04-15T11:01:26.790481Z"
    },
    "papermill": {
     "duration": 4.722989,
     "end_time": "2022-04-15T11:01:26.793006",
     "exception": false,
     "start_time": "2022-04-15T11:01:22.070017",
     "status": "completed"
    },
    "tags": []
   },
   "outputs": [
    {
     "name": "stderr",
     "output_type": "stream",
     "text": [
      "Some weights of the model checkpoint at distilbert-base-uncased were not used when initializing DistilBertCLModel: ['vocab_layer_norm.bias', 'vocab_transform.weight', 'vocab_layer_norm.weight', 'vocab_transform.bias', 'vocab_projector.weight', 'vocab_projector.bias']\n",
      "- This IS expected if you are initializing DistilBertCLModel from the checkpoint of a model trained on another task or with another architecture (e.g. initializing a BertForSequenceClassification model from a BertForPreTraining model).\n",
      "- This IS NOT expected if you are initializing DistilBertCLModel from the checkpoint of a model that you expect to be exactly identical (initializing a BertForSequenceClassification model from a BertForSequenceClassification model).\n"
     ]
    }
   ],
   "source": [
    "import torch\n",
    "import torch.nn as nn\n",
    "\n",
    "from transformers import AutoTokenizer, DistilBertModel, DistilBertPreTrainedModel, AutoConfig\n",
    "from transformers.modeling_outputs import SequenceClassifierOutput, BaseModelOutputWithPooling\n",
    "\n",
    "from distilface.modules.pooler import Pooler\n",
    "from distilface.modules.similarity import Similarity\n",
    "\n",
    "\n",
    "class DistilBertCLModel(DistilBertPreTrainedModel):\n",
    "    def __init__(self, config, pooler_type=pooling_method, temp=temperature):\n",
    "        super().__init__(config)\n",
    "\n",
    "        self.config = config\n",
    "        self.pooler_type = pooler_type\n",
    "        self.temp = temperature\n",
    "\n",
    "        self.distilbert = DistilBertModel(config)\n",
    "        self.pooler = Pooler(pooler_type)\n",
    "        self.sim = Similarity(temp=temp)\n",
    "\n",
    "        self.init_weights()\n",
    "\n",
    "    def forward(self, input_ids=None, attention_mask=None):\n",
    "        if self.training:\n",
    "            return self.cl_forward(self.distilbert, input_ids, attention_mask)\n",
    "        else:\n",
    "            return self.sent_emb(self.distilbert, input_ids, attention_mask)\n",
    "\n",
    "    def cl_forward(self, encoder, input_ids=None, attention_mask=None):\n",
    "        batch_size = input_ids.size(0)\n",
    "        num_sent = input_ids.size(1)  # Number of sentences in one instance: 2 sentences\n",
    "\n",
    "        # Flatten all input tensors\n",
    "        input_ids = input_ids.view((-1, input_ids.size(-1))) # (bs * num_sent, len)\n",
    "        attention_mask = attention_mask.view((-1, attention_mask.size(-1))) # (bs * num_sent len)\n",
    "\n",
    "        # Pre-trained Model Encoder\n",
    "        outputs = encoder(\n",
    "            input_ids,\n",
    "            attention_mask=attention_mask,\n",
    "            output_hidden_states=True,\n",
    "            return_dict=True,\n",
    "        )\n",
    "\n",
    "        # Pooling\n",
    "        pooler_output = self.pooler(attention_mask, outputs)\n",
    "        pooler_output = pooler_output.view((batch_size, num_sent, pooler_output.size(-1)))  # (bs, num_sent, hidden)\n",
    "\n",
    "        # Separate representation\n",
    "        z1, z2 = pooler_output[:, 0], pooler_output[:, 1]\n",
    "\n",
    "        # Cosine similarity\n",
    "        cos_sim = self.sim(z1.unsqueeze(1), z2.unsqueeze(0))\n",
    "\n",
    "        # Calculate contrastive loss\n",
    "        criterion = nn.CrossEntropyLoss()\n",
    "        labels = torch.arange(cos_sim.size(0)).long().to(self.device)\n",
    "        loss = criterion(cos_sim, labels)\n",
    "\n",
    "        return SequenceClassifierOutput(\n",
    "            loss=loss,\n",
    "            logits=cos_sim,\n",
    "            hidden_states=outputs.hidden_states,\n",
    "            attentions=outputs.attentions,\n",
    "        )\n",
    "\n",
    "    def sent_emb(self, encoder, input_ids=None, attention_mask=None):\n",
    "        outputs = encoder(\n",
    "            input_ids,\n",
    "            attention_mask=attention_mask,\n",
    "            output_hidden_states=True,\n",
    "            return_dict=True,\n",
    "        )\n",
    "        pooler_output = self.pooler(attention_mask, outputs)\n",
    "\n",
    "        return BaseModelOutputWithPooling(\n",
    "            pooler_output=pooler_output,\n",
    "            last_hidden_state=outputs.last_hidden_state,\n",
    "            hidden_states=outputs.hidden_states,\n",
    "        )\n",
    "\n",
    "\n",
    "pretrained_model_name = 'distilbert-base-uncased'\n",
    "\n",
    "device = torch.device(\"cuda\" if torch.cuda.is_available() else \"cpu\")\n",
    "config = AutoConfig.from_pretrained(pretrained_model_name)\n",
    "\n",
    "model = DistilBertCLModel.from_pretrained(pretrained_model_name, config=config).to(device)\n",
    "tokenizer = AutoTokenizer.from_pretrained(pretrained_model_name)\n",
    "\n",
    "model.eval();"
   ]
  },
  {
   "cell_type": "markdown",
   "id": "16ab4fcd",
   "metadata": {
    "papermill": {
     "duration": 0.301795,
     "end_time": "2022-04-15T11:01:27.320164",
     "exception": false,
     "start_time": "2022-04-15T11:01:27.018369",
     "status": "completed"
    },
    "tags": []
   },
   "source": [
    "### 2.1 Initial DistilBERT embeddings performance"
   ]
  },
  {
   "cell_type": "code",
   "execution_count": 12,
   "id": "0e962a8e",
   "metadata": {
    "execution": {
     "iopub.execute_input": "2022-04-15T11:01:27.812140Z",
     "iopub.status.busy": "2022-04-15T11:01:27.811510Z",
     "iopub.status.idle": "2022-04-15T11:01:28.204858Z",
     "shell.execute_reply": "2022-04-15T11:01:28.204179Z"
    },
    "papermill": {
     "duration": 0.556786,
     "end_time": "2022-04-15T11:01:28.206624",
     "exception": false,
     "start_time": "2022-04-15T11:01:27.649838",
     "status": "completed"
    },
    "tags": []
   },
   "outputs": [],
   "source": [
    "import senteval\n",
    "\n",
    "\n",
    "def prepare(params, samples):\n",
    "    return\n",
    "\n",
    "def batcher(params, batch):\n",
    "    sentences = [\" \".join(s) for s in batch]\n",
    "    batch = tokenizer.batch_encode_plus(\n",
    "        sentences,\n",
    "        return_tensors=\"pt\",\n",
    "        padding=True,\n",
    "    )\n",
    "\n",
    "    for k in batch:\n",
    "        batch[k] = batch[k].to(device)\n",
    "\n",
    "    with torch.no_grad():\n",
    "        outputs = model(**batch)\n",
    "\n",
    "    pooled_result = outputs.pooler_output.cpu()\n",
    "\n",
    "    return pooled_result\n",
    "\n",
    "\n",
    "def evaluate_model():\n",
    "    PATH_TO_DATA = \"./data\"\n",
    "\n",
    "    params = {\"task_path\": PATH_TO_DATA, \"usepytorch\": True, \"kfold\": 10}\n",
    "    tasks = [\"STSBenchmark\", 'STS12', 'STS13', 'STS14', 'STS15']\n",
    "\n",
    "    se = senteval.engine.SE(params, batcher, prepare)\n",
    "    results = se.eval(tasks)\n",
    "\n",
    "    print('STS12: ', results[\"STS12\"][\"all\"][\"spearman\"][\"all\"])\n",
    "    print('STS13: ', results[\"STS13\"][\"all\"][\"spearman\"][\"all\"])\n",
    "    print('STS14: ', results[\"STS14\"][\"all\"][\"spearman\"][\"all\"])\n",
    "    print('STS15: ', results[\"STS15\"][\"all\"][\"spearman\"][\"all\"])\n",
    "    print('STSB: ', results[\"STSBenchmark\"][\"test\"][\"spearman\"][0])\n",
    "\n",
    "    return results"
   ]
  },
  {
   "cell_type": "markdown",
   "id": "5ae07253",
   "metadata": {
    "papermill": {
     "duration": 0.284304,
     "end_time": "2022-04-15T11:01:28.680025",
     "exception": false,
     "start_time": "2022-04-15T11:01:28.395721",
     "status": "completed"
    },
    "tags": []
   },
   "source": [
    "## 3. Trainer"
   ]
  },
  {
   "cell_type": "code",
   "execution_count": 13,
   "id": "7f018bc0",
   "metadata": {
    "execution": {
     "iopub.execute_input": "2022-04-15T11:01:29.038337Z",
     "iopub.status.busy": "2022-04-15T11:01:29.038099Z",
     "iopub.status.idle": "2022-04-15T11:01:29.170335Z",
     "shell.execute_reply": "2022-04-15T11:01:29.169678Z"
    },
    "papermill": {
     "duration": 0.371362,
     "end_time": "2022-04-15T11:01:29.171798",
     "exception": false,
     "start_time": "2022-04-15T11:01:28.800436",
     "status": "completed"
    },
    "tags": []
   },
   "outputs": [
    {
     "name": "stderr",
     "output_type": "stream",
     "text": [
      "max_steps is given, it will override any value given in num_train_epochs\n"
     ]
    }
   ],
   "source": [
    "# import mlflow\n",
    "\n",
    "from transformers import Trainer, TrainingArguments\n",
    "from transformers import default_data_collator\n",
    "\n",
    "training_args = TrainingArguments(\n",
    "    output_dir='output',\n",
    "    overwrite_output_dir=True,\n",
    "    learning_rate=learning_rate,\n",
    "    num_train_epochs=epochs,\n",
    "    max_steps=max_steps,\n",
    "    per_device_train_batch_size=batch_size,\n",
    "    per_device_eval_batch_size=batch_size,\n",
    "    save_strategy='steps',\n",
    "    save_steps=max_steps,\n",
    "    fp16=fp16,\n",
    ")\n",
    "\n",
    "model.train()\n",
    "\n",
    "trainer = Trainer(\n",
    "    model=model,\n",
    "    args=training_args,\n",
    "    train_dataset=train_dataset,\n",
    "    tokenizer=tokenizer,\n",
    "    data_collator=default_data_collator\n",
    ")"
   ]
  },
  {
   "cell_type": "code",
   "execution_count": 14,
   "id": "a4e29166",
   "metadata": {
    "execution": {
     "iopub.execute_input": "2022-04-15T11:01:29.508844Z",
     "iopub.status.busy": "2022-04-15T11:01:29.508608Z",
     "iopub.status.idle": "2022-04-15T11:26:52.380364Z",
     "shell.execute_reply": "2022-04-15T11:26:52.379472Z"
    },
    "papermill": {
     "duration": 1523.068872,
     "end_time": "2022-04-15T11:26:52.381758",
     "exception": false,
     "start_time": "2022-04-15T11:01:29.312886",
     "status": "completed"
    },
    "tags": []
   },
   "outputs": [
    {
     "name": "stderr",
     "output_type": "stream",
     "text": [
      "/opt/conda/lib/python3.8/site-packages/transformers/optimization.py:306: FutureWarning: This implementation of AdamW is deprecated and will be removed in a future version. Use the PyTorch implementation torch.optim.AdamW instead, or set `no_deprecation_warning=True` to disable this warning\n",
      "  warnings.warn(\n",
      "***** Running training *****\n"
     ]
    },
    {
     "name": "stderr",
     "output_type": "stream",
     "text": [
      "  Num examples = 1000000\n"
     ]
    },
    {
     "name": "stderr",
     "output_type": "stream",
     "text": [
      "  Num Epochs = 1\n"
     ]
    },
    {
     "name": "stderr",
     "output_type": "stream",
     "text": [
      "  Instantaneous batch size per device = 128\n"
     ]
    },
    {
     "name": "stderr",
     "output_type": "stream",
     "text": [
      "  Total train batch size (w. parallel, distributed & accumulation) = 128\n"
     ]
    },
    {
     "name": "stderr",
     "output_type": "stream",
     "text": [
      "  Gradient Accumulation steps = 1\n"
     ]
    },
    {
     "name": "stderr",
     "output_type": "stream",
     "text": [
      "  Total optimization steps = 3500\n"
     ]
    },
    {
     "data": {
      "text/html": [
       "\n",
       "    <div>\n",
       "      \n",
       "      <progress value='3500' max='3500' style='width:300px; height:20px; vertical-align: middle;'></progress>\n",
       "      [3500/3500 25:21, Epoch 0/1]\n",
       "    </div>\n",
       "    <table border=\"1\" class=\"dataframe\">\n",
       "  <thead>\n",
       " <tr style=\"text-align: left;\">\n",
       "      <th>Step</th>\n",
       "      <th>Training Loss</th>\n",
       "    </tr>\n",
       "  </thead>\n",
       "  <tbody>\n",
       "    <tr>\n",
       "      <td>500</td>\n",
       "      <td>0.032200</td>\n",
       "    </tr>\n",
       "    <tr>\n",
       "      <td>1000</td>\n",
       "      <td>0.000400</td>\n",
       "    </tr>\n",
       "    <tr>\n",
       "      <td>1500</td>\n",
       "      <td>0.000300</td>\n",
       "    </tr>\n",
       "    <tr>\n",
       "      <td>2000</td>\n",
       "      <td>0.000200</td>\n",
       "    </tr>\n",
       "    <tr>\n",
       "      <td>2500</td>\n",
       "      <td>0.000200</td>\n",
       "    </tr>\n",
       "    <tr>\n",
       "      <td>3000</td>\n",
       "      <td>0.000200</td>\n",
       "    </tr>\n",
       "    <tr>\n",
       "      <td>3500</td>\n",
       "      <td>0.000200</td>\n",
       "    </tr>\n",
       "  </tbody>\n",
       "</table><p>"
      ],
      "text/plain": [
       "<IPython.core.display.HTML object>"
      ]
     },
     "metadata": {},
     "output_type": "display_data"
    },
    {
     "name": "stderr",
     "output_type": "stream",
     "text": [
      "Saving model checkpoint to output/checkpoint-3500\n"
     ]
    },
    {
     "name": "stderr",
     "output_type": "stream",
     "text": [
      "Configuration saved in output/checkpoint-3500/config.json\n"
     ]
    },
    {
     "name": "stderr",
     "output_type": "stream",
     "text": [
      "Model weights saved in output/checkpoint-3500/pytorch_model.bin\n"
     ]
    },
    {
     "name": "stderr",
     "output_type": "stream",
     "text": [
      "tokenizer config file saved in output/checkpoint-3500/tokenizer_config.json\n"
     ]
    },
    {
     "name": "stderr",
     "output_type": "stream",
     "text": [
      "Special tokens file saved in output/checkpoint-3500/special_tokens_map.json\n"
     ]
    },
    {
     "name": "stderr",
     "output_type": "stream",
     "text": [
      "\n",
      "\n",
      "Training completed. Do not forget to share your model on huggingface.co/models =)\n",
      "\n",
      "\n"
     ]
    }
   ],
   "source": [
    "train_result = trainer.train()"
   ]
  },
  {
   "cell_type": "code",
   "execution_count": 15,
   "id": "787d8f83",
   "metadata": {
    "execution": {
     "iopub.execute_input": "2022-04-15T11:26:52.862599Z",
     "iopub.status.busy": "2022-04-15T11:26:52.862373Z",
     "iopub.status.idle": "2022-04-15T11:26:52.905375Z",
     "shell.execute_reply": "2022-04-15T11:26:52.904558Z"
    },
    "papermill": {
     "duration": 0.248695,
     "end_time": "2022-04-15T11:26:52.906723",
     "exception": false,
     "start_time": "2022-04-15T11:26:52.658028",
     "status": "completed"
    },
    "tags": []
   },
   "outputs": [],
   "source": [
    "import pandas as pd\n",
    "\n",
    "pd.DataFrame(trainer.state.log_history).to_csv(f'logs/cl-distilled_tuning_v1_ms{max_steps}_fp16.csv', index=False)"
   ]
  },
  {
   "cell_type": "markdown",
   "id": "038e44fa",
   "metadata": {
    "papermill": {
     "duration": 0.149905,
     "end_time": "2022-04-15T11:26:53.233283",
     "exception": false,
     "start_time": "2022-04-15T11:26:53.083378",
     "status": "completed"
    },
    "tags": []
   },
   "source": [
    "## 4. Evaluate DistilBert CL Model performance"
   ]
  },
  {
   "cell_type": "code",
   "execution_count": 16,
   "id": "ff601778",
   "metadata": {
    "execution": {
     "iopub.execute_input": "2022-04-15T11:26:53.754354Z",
     "iopub.status.busy": "2022-04-15T11:26:53.754144Z",
     "iopub.status.idle": "2022-04-15T11:27:16.641086Z",
     "shell.execute_reply": "2022-04-15T11:27:16.640387Z"
    },
    "papermill": {
     "duration": 23.128873,
     "end_time": "2022-04-15T11:27:16.642501",
     "exception": false,
     "start_time": "2022-04-15T11:26:53.513628",
     "status": "completed"
    },
    "tags": []
   },
   "outputs": [
    {
     "name": "stderr",
     "output_type": "stream",
     "text": [
      "/opt/conda/lib/python3.8/site-packages/SentEval-0.1.0-py3.8.egg/senteval/sts.py:42: VisibleDeprecationWarning: Creating an ndarray from ragged nested sequences (which is a list-or-tuple of lists-or-tuples-or ndarrays with different lengths or shapes) is deprecated. If you meant to do this, you must specify 'dtype=object' when creating the ndarray.\n",
      "/opt/conda/lib/python3.8/site-packages/SentEval-0.1.0-py3.8.egg/senteval/sts.py:43: VisibleDeprecationWarning: Creating an ndarray from ragged nested sequences (which is a list-or-tuple of lists-or-tuples-or ndarrays with different lengths or shapes) is deprecated. If you meant to do this, you must specify 'dtype=object' when creating the ndarray.\n"
     ]
    },
    {
     "name": "stdout",
     "output_type": "stream",
     "text": [
      "STS12:  0.5965246621995548\n",
      "STS13:  0.6963237128943243\n",
      "STS14:  0.6409169007056779\n",
      "STS15:  0.7477407527524759\n",
      "STSB:  0.71458213224592\n"
     ]
    },
    {
     "data": {
      "text/plain": [
       "{'STSBenchmark': {'train': {'pearson': (0.7394969307763394, 0.0),\n",
       "   'spearman': SpearmanrResult(correlation=0.7088842406011893, pvalue=0.0),\n",
       "   'nsamples': 5749},\n",
       "  'dev': {'pearson': (0.7494602457488153, 1.3580027250019033e-270),\n",
       "   'spearman': SpearmanrResult(correlation=0.7557750215684087, pvalue=9.941519163120927e-278),\n",
       "   'nsamples': 1500},\n",
       "  'test': {'pearson': (0.7228223596707694, 2.9085418077652878e-223),\n",
       "   'spearman': SpearmanrResult(correlation=0.71458213224592, pvalue=6.234516604644428e-216),\n",
       "   'nsamples': 1379},\n",
       "  'all': {'pearson': {'all': 0.7354500518880486,\n",
       "    'mean': 0.7372598453986413,\n",
       "    'wmean': 0.7385640076080654},\n",
       "   'spearman': {'all': 0.7224033678889169,\n",
       "    'mean': 0.726413798138506,\n",
       "    'wmean': 0.7179470088011096}}},\n",
       " 'STS12': {'MSRpar': {'pearson': (0.4945302501124638, 1.6429927412542484e-47),\n",
       "   'spearman': SpearmanrResult(correlation=0.5280197386381494, pvalue=4.492170689851115e-55),\n",
       "   'nsamples': 750},\n",
       "  'MSRvid': {'pearson': (0.8073675727723316, 1.5193026530765553e-173),\n",
       "   'spearman': SpearmanrResult(correlation=0.8048533637186107, pvalue=1.1564648826709078e-171),\n",
       "   'nsamples': 750},\n",
       "  'SMTeuroparl': {'pearson': (0.5391865561468262, 5.614028154279325e-36),\n",
       "   'spearman': SpearmanrResult(correlation=0.6223368424084449, pvalue=1.4516632617177234e-50),\n",
       "   'nsamples': 459},\n",
       "  'surprise.OnWN': {'pearson': (0.7104004828731434, 3.1896656706430524e-116),\n",
       "   'spearman': SpearmanrResult(correlation=0.689476364161958, pvalue=7.053177617590526e-107),\n",
       "   'nsamples': 750},\n",
       "  'surprise.SMTnews': {'pearson': (0.5980477116987027, 4.621735766927917e-40),\n",
       "   'spearman': SpearmanrResult(correlation=0.5329072784659857, pvalue=1.186686478929773e-30),\n",
       "   'nsamples': 399},\n",
       "  'all': {'pearson': {'all': 0.6354270793167676,\n",
       "    'mean': 0.6299065147206935,\n",
       "    'wmean': 0.6419985185191859},\n",
       "   'spearman': {'all': 0.5965246621995548,\n",
       "    'mean': 0.6355187174786298,\n",
       "    'wmean': 0.6483412852839263}}},\n",
       " 'STS13': {'FNWN': {'pearson': (0.5874722805242499, 6.354589941683033e-19),\n",
       "   'spearman': SpearmanrResult(correlation=0.6101772231255098, pvalue=1.161351751816187e-20),\n",
       "   'nsamples': 189},\n",
       "  'headlines': {'pearson': (0.7321922014973702, 6.926869430874804e-127),\n",
       "   'spearman': SpearmanrResult(correlation=0.727203016900093, pvalue=2.3610092843777224e-124),\n",
       "   'nsamples': 750},\n",
       "  'OnWN': {'pearson': (0.6588348003978942, 4.044617065705235e-71),\n",
       "   'spearman': SpearmanrResult(correlation=0.6712035666387847, pvalue=1.0424968862401673e-74),\n",
       "   'nsamples': 561},\n",
       "  'all': {'pearson': {'all': 0.6799952025665394,\n",
       "    'mean': 0.6594997608065047,\n",
       "    'wmean': 0.6865218234435531},\n",
       "   'spearman': {'all': 0.6963237128943243,\n",
       "    'mean': 0.6695279355547958,\n",
       "    'wmean': 0.6915139724867662}}},\n",
       " 'STS14': {'deft-forum': {'pearson': (0.5197029864439986,\n",
       "    1.697853905657298e-32),\n",
       "   'spearman': SpearmanrResult(correlation=0.5179390178801603, pvalue=2.985372878338288e-32),\n",
       "   'nsamples': 450},\n",
       "  'deft-news': {'pearson': (0.7751910386036862, 2.147095495670139e-61),\n",
       "   'spearman': SpearmanrResult(correlation=0.7585450239435197, pvalue=2.258824714970677e-57),\n",
       "   'nsamples': 300},\n",
       "  'headlines': {'pearson': (0.7036830576514044, 3.919371417739905e-113),\n",
       "   'spearman': SpearmanrResult(correlation=0.6565717360282237, pvalue=1.0817089939510122e-93),\n",
       "   'nsamples': 750},\n",
       "  'images': {'pearson': (0.768214976537733, 5.000380901049749e-147),\n",
       "   'spearman': SpearmanrResult(correlation=0.7361980153207005, pvalue=5.827428264961254e-129),\n",
       "   'nsamples': 750},\n",
       "  'OnWN': {'pearson': (0.7703737814547755, 2.3772596784555336e-148),\n",
       "   'spearman': SpearmanrResult(correlation=0.7882805637611747, pvalue=6.505179247786268e-160),\n",
       "   'nsamples': 750},\n",
       "  'tweet-news': {'pearson': (0.7597585869590306, 5.565535492677783e-142),\n",
       "   'spearman': SpearmanrResult(correlation=0.6901572927849248, pvalue=3.6044926451068045e-107),\n",
       "   'nsamples': 750},\n",
       "  'all': {'pearson': {'all': 0.6687652460565275,\n",
       "    'mean': 0.7161540712751048,\n",
       "    'wmean': 0.7247857219821634},\n",
       "   'spearman': {'all': 0.6409169007056779,\n",
       "    'mean': 0.691281941619784,\n",
       "    'wmean': 0.6970778056401055}}},\n",
       " 'STS15': {'answers-forums': {'pearson': (0.722749134286966,\n",
       "    8.07165864547663e-62),\n",
       "   'spearman': SpearmanrResult(correlation=0.721282335189623, pvalue=1.8459709029479678e-61),\n",
       "   'nsamples': 375},\n",
       "  'answers-students': {'pearson': (0.6870739648110111, 7.422538719050623e-106),\n",
       "   'spearman': SpearmanrResult(correlation=0.6870540740284519, pvalue=7.567876624263404e-106),\n",
       "   'nsamples': 750},\n",
       "  'belief': {'pearson': (0.7787562746705162, 1.544529552172043e-77),\n",
       "   'spearman': SpearmanrResult(correlation=0.7841806648437017, pvalue=2.6414847303628485e-79),\n",
       "   'nsamples': 375},\n",
       "  'headlines': {'pearson': (0.764422530999323, 9.738526657586152e-145),\n",
       "   'spearman': SpearmanrResult(correlation=0.7587559564961067, pvalue=2.1378230059749702e-141),\n",
       "   'nsamples': 750},\n",
       "  'images': {'pearson': (0.8338248586200395, 3.396715028117074e-195),\n",
       "   'spearman': SpearmanrResult(correlation=0.8387073316505568, pvalue=1.3079031479493152e-199),\n",
       "   'nsamples': 750},\n",
       "  'all': {'pearson': {'all': 0.741855569019711,\n",
       "    'mean': 0.7573653526775711,\n",
       "    'wmean': 0.7590185147272787},\n",
       "   'spearman': {'all': 0.7477407527524759,\n",
       "    'mean': 0.757996072441688,\n",
       "    'wmean': 0.7593122155479444}}}}"
      ]
     },
     "execution_count": 16,
     "metadata": {},
     "output_type": "execute_result"
    }
   ],
   "source": [
    "model.eval()\n",
    "\n",
    "results = evaluate_model()\n",
    "results"
   ]
  }
 ],
 "metadata": {
  "celltoolbar": "Tags",
  "kernelspec": {
   "display_name": "Python 3 (ipykernel)",
   "language": "python",
   "name": "python3"
  },
  "language_info": {
   "codemirror_mode": {
    "name": "ipython",
    "version": 3
   },
   "file_extension": ".py",
   "mimetype": "text/x-python",
   "name": "python",
   "nbconvert_exporter": "python",
   "pygments_lexer": "ipython3",
   "version": "3.8.12"
  },
  "papermill": {
   "default_parameters": {},
   "duration": 1566.951716,
   "end_time": "2022-04-15T11:27:18.364243",
   "environment_variables": {},
   "exception": null,
   "input_path": "notebooks/training/cl-distilbert_tuning_v1.ipynb",
   "output_path": "notebooks/training/cl-distilbert_tuning_v1_ms3500.ipynb",
   "parameters": {
    "max_steps": 3500
   },
   "start_time": "2022-04-15T11:01:11.412527",
   "version": "2.3.4"
  },
  "toc": {
   "base_numbering": 1,
   "nav_menu": {},
   "number_sections": false,
   "sideBar": true,
   "skip_h1_title": false,
   "title_cell": "Table of Contents",
   "title_sidebar": "Contents",
   "toc_cell": false,
   "toc_position": {},
   "toc_section_display": true,
   "toc_window_display": false
  },
  "widgets": {
   "application/vnd.jupyter.widget-state+json": {
    "state": {
     "17ccc0027a6c421baa1f1836e57ba140": {
      "model_module": "@jupyter-widgets/controls",
      "model_module_version": "1.5.0",
      "model_name": "HTMLModel",
      "state": {
       "_dom_classes": [],
       "_model_module": "@jupyter-widgets/controls",
       "_model_module_version": "1.5.0",
       "_model_name": "HTMLModel",
       "_view_count": null,
       "_view_module": "@jupyter-widgets/controls",
       "_view_module_version": "1.5.0",
       "_view_name": "HTMLView",
       "description": "",
       "description_tooltip": null,
       "layout": "IPY_MODEL_59866338bd044b7c958c4906a2574073",
       "placeholder": "​",
       "style": "IPY_MODEL_4ede601f8e6b4390a6abd104a5c69724",
       "value": "100%"
      }
     },
     "47b47adc1e2b4219ae1806b12ac84e28": {
      "model_module": "@jupyter-widgets/controls",
      "model_module_version": "1.5.0",
      "model_name": "FloatProgressModel",
      "state": {
       "_dom_classes": [],
       "_model_module": "@jupyter-widgets/controls",
       "_model_module_version": "1.5.0",
       "_model_name": "FloatProgressModel",
       "_view_count": null,
       "_view_module": "@jupyter-widgets/controls",
       "_view_module_version": "1.5.0",
       "_view_name": "ProgressView",
       "bar_style": "success",
       "description": "",
       "description_tooltip": null,
       "layout": "IPY_MODEL_85098e440f854add97a7a8f9d7418596",
       "max": 1,
       "min": 0,
       "orientation": "horizontal",
       "style": "IPY_MODEL_bb3235f31e3841b981050b4206e576f3",
       "value": 1
      }
     },
     "4ede601f8e6b4390a6abd104a5c69724": {
      "model_module": "@jupyter-widgets/controls",
      "model_module_version": "1.5.0",
      "model_name": "DescriptionStyleModel",
      "state": {
       "_model_module": "@jupyter-widgets/controls",
       "_model_module_version": "1.5.0",
       "_model_name": "DescriptionStyleModel",
       "_view_count": null,
       "_view_module": "@jupyter-widgets/base",
       "_view_module_version": "1.2.0",
       "_view_name": "StyleView",
       "description_width": ""
      }
     },
     "59866338bd044b7c958c4906a2574073": {
      "model_module": "@jupyter-widgets/base",
      "model_module_version": "1.2.0",
      "model_name": "LayoutModel",
      "state": {
       "_model_module": "@jupyter-widgets/base",
       "_model_module_version": "1.2.0",
       "_model_name": "LayoutModel",
       "_view_count": null,
       "_view_module": "@jupyter-widgets/base",
       "_view_module_version": "1.2.0",
       "_view_name": "LayoutView",
       "align_content": null,
       "align_items": null,
       "align_self": null,
       "border": null,
       "bottom": null,
       "display": null,
       "flex": null,
       "flex_flow": null,
       "grid_area": null,
       "grid_auto_columns": null,
       "grid_auto_flow": null,
       "grid_auto_rows": null,
       "grid_column": null,
       "grid_gap": null,
       "grid_row": null,
       "grid_template_areas": null,
       "grid_template_columns": null,
       "grid_template_rows": null,
       "height": null,
       "justify_content": null,
       "justify_items": null,
       "left": null,
       "margin": null,
       "max_height": null,
       "max_width": null,
       "min_height": null,
       "min_width": null,
       "object_fit": null,
       "object_position": null,
       "order": null,
       "overflow": null,
       "overflow_x": null,
       "overflow_y": null,
       "padding": null,
       "right": null,
       "top": null,
       "visibility": null,
       "width": null
      }
     },
     "63a5d8f557b044ae92759e5d53777d32": {
      "model_module": "@jupyter-widgets/base",
      "model_module_version": "1.2.0",
      "model_name": "LayoutModel",
      "state": {
       "_model_module": "@jupyter-widgets/base",
       "_model_module_version": "1.2.0",
       "_model_name": "LayoutModel",
       "_view_count": null,
       "_view_module": "@jupyter-widgets/base",
       "_view_module_version": "1.2.0",
       "_view_name": "LayoutView",
       "align_content": null,
       "align_items": null,
       "align_self": null,
       "border": null,
       "bottom": null,
       "display": null,
       "flex": null,
       "flex_flow": null,
       "grid_area": null,
       "grid_auto_columns": null,
       "grid_auto_flow": null,
       "grid_auto_rows": null,
       "grid_column": null,
       "grid_gap": null,
       "grid_row": null,
       "grid_template_areas": null,
       "grid_template_columns": null,
       "grid_template_rows": null,
       "height": null,
       "justify_content": null,
       "justify_items": null,
       "left": null,
       "margin": null,
       "max_height": null,
       "max_width": null,
       "min_height": null,
       "min_width": null,
       "object_fit": null,
       "object_position": null,
       "order": null,
       "overflow": null,
       "overflow_x": null,
       "overflow_y": null,
       "padding": null,
       "right": null,
       "top": null,
       "visibility": null,
       "width": null
      }
     },
     "80d3c1024f9f43299a814bb15388b80a": {
      "model_module": "@jupyter-widgets/base",
      "model_module_version": "1.2.0",
      "model_name": "LayoutModel",
      "state": {
       "_model_module": "@jupyter-widgets/base",
       "_model_module_version": "1.2.0",
       "_model_name": "LayoutModel",
       "_view_count": null,
       "_view_module": "@jupyter-widgets/base",
       "_view_module_version": "1.2.0",
       "_view_name": "LayoutView",
       "align_content": null,
       "align_items": null,
       "align_self": null,
       "border": null,
       "bottom": null,
       "display": null,
       "flex": null,
       "flex_flow": null,
       "grid_area": null,
       "grid_auto_columns": null,
       "grid_auto_flow": null,
       "grid_auto_rows": null,
       "grid_column": null,
       "grid_gap": null,
       "grid_row": null,
       "grid_template_areas": null,
       "grid_template_columns": null,
       "grid_template_rows": null,
       "height": null,
       "justify_content": null,
       "justify_items": null,
       "left": null,
       "margin": null,
       "max_height": null,
       "max_width": null,
       "min_height": null,
       "min_width": null,
       "object_fit": null,
       "object_position": null,
       "order": null,
       "overflow": null,
       "overflow_x": null,
       "overflow_y": null,
       "padding": null,
       "right": null,
       "top": null,
       "visibility": null,
       "width": null
      }
     },
     "85098e440f854add97a7a8f9d7418596": {
      "model_module": "@jupyter-widgets/base",
      "model_module_version": "1.2.0",
      "model_name": "LayoutModel",
      "state": {
       "_model_module": "@jupyter-widgets/base",
       "_model_module_version": "1.2.0",
       "_model_name": "LayoutModel",
       "_view_count": null,
       "_view_module": "@jupyter-widgets/base",
       "_view_module_version": "1.2.0",
       "_view_name": "LayoutView",
       "align_content": null,
       "align_items": null,
       "align_self": null,
       "border": null,
       "bottom": null,
       "display": null,
       "flex": null,
       "flex_flow": null,
       "grid_area": null,
       "grid_auto_columns": null,
       "grid_auto_flow": null,
       "grid_auto_rows": null,
       "grid_column": null,
       "grid_gap": null,
       "grid_row": null,
       "grid_template_areas": null,
       "grid_template_columns": null,
       "grid_template_rows": null,
       "height": null,
       "justify_content": null,
       "justify_items": null,
       "left": null,
       "margin": null,
       "max_height": null,
       "max_width": null,
       "min_height": null,
       "min_width": null,
       "object_fit": null,
       "object_position": null,
       "order": null,
       "overflow": null,
       "overflow_x": null,
       "overflow_y": null,
       "padding": null,
       "right": null,
       "top": null,
       "visibility": null,
       "width": null
      }
     },
     "8ca31042c2484d3a90de6b2c01592421": {
      "model_module": "@jupyter-widgets/controls",
      "model_module_version": "1.5.0",
      "model_name": "HBoxModel",
      "state": {
       "_dom_classes": [],
       "_model_module": "@jupyter-widgets/controls",
       "_model_module_version": "1.5.0",
       "_model_name": "HBoxModel",
       "_view_count": null,
       "_view_module": "@jupyter-widgets/controls",
       "_view_module_version": "1.5.0",
       "_view_name": "HBoxView",
       "box_style": "",
       "children": [
        "IPY_MODEL_17ccc0027a6c421baa1f1836e57ba140",
        "IPY_MODEL_47b47adc1e2b4219ae1806b12ac84e28",
        "IPY_MODEL_9f77ae6716334bb6bbd86aa0a3ab5997"
       ],
       "layout": "IPY_MODEL_63a5d8f557b044ae92759e5d53777d32"
      }
     },
     "9f77ae6716334bb6bbd86aa0a3ab5997": {
      "model_module": "@jupyter-widgets/controls",
      "model_module_version": "1.5.0",
      "model_name": "HTMLModel",
      "state": {
       "_dom_classes": [],
       "_model_module": "@jupyter-widgets/controls",
       "_model_module_version": "1.5.0",
       "_model_name": "HTMLModel",
       "_view_count": null,
       "_view_module": "@jupyter-widgets/controls",
       "_view_module_version": "1.5.0",
       "_view_name": "HTMLView",
       "description": "",
       "description_tooltip": null,
       "layout": "IPY_MODEL_80d3c1024f9f43299a814bb15388b80a",
       "placeholder": "​",
       "style": "IPY_MODEL_b3a1212e151d4cec8da6855c85a8dd2b",
       "value": " 1/1 [00:00&lt;00:00, 26.10it/s]"
      }
     },
     "b3a1212e151d4cec8da6855c85a8dd2b": {
      "model_module": "@jupyter-widgets/controls",
      "model_module_version": "1.5.0",
      "model_name": "DescriptionStyleModel",
      "state": {
       "_model_module": "@jupyter-widgets/controls",
       "_model_module_version": "1.5.0",
       "_model_name": "DescriptionStyleModel",
       "_view_count": null,
       "_view_module": "@jupyter-widgets/base",
       "_view_module_version": "1.2.0",
       "_view_name": "StyleView",
       "description_width": ""
      }
     },
     "bb3235f31e3841b981050b4206e576f3": {
      "model_module": "@jupyter-widgets/controls",
      "model_module_version": "1.5.0",
      "model_name": "ProgressStyleModel",
      "state": {
       "_model_module": "@jupyter-widgets/controls",
       "_model_module_version": "1.5.0",
       "_model_name": "ProgressStyleModel",
       "_view_count": null,
       "_view_module": "@jupyter-widgets/base",
       "_view_module_version": "1.2.0",
       "_view_name": "StyleView",
       "bar_color": null,
       "description_width": ""
      }
     }
    },
    "version_major": 2,
    "version_minor": 0
   }
  }
 },
 "nbformat": 4,
 "nbformat_minor": 5
}
