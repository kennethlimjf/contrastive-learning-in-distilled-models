{
 "cells": [
  {
   "cell_type": "markdown",
   "id": "8d4fc8a2",
   "metadata": {
    "papermill": {
     "duration": 0.176205,
     "end_time": "2022-04-15T10:04:25.652215",
     "exception": false,
     "start_time": "2022-04-15T10:04:25.476010",
     "status": "completed"
    },
    "tags": []
   },
   "source": [
    "# Contrastive Learning From Scratch - DistilBERT\n",
    "\n",
    "An attempt to build contrastive learning model from scratch. Parts include:\n",
    "\n",
    "- Loading and preparing Wiki-1M data for model input\n",
    "- Contrastive learning model\n",
    "  - Forward passing using pre-trained model\n",
    "  - Constrastive layer\n",
    "  - Calculate loss\n",
    "- Training procedure\n",
    "  - Default trainer optimizer\n",
    "  - Default trainer hyper-parameters"
   ]
  },
  {
   "cell_type": "code",
   "execution_count": 1,
   "id": "b70e7508",
   "metadata": {
    "execution": {
     "iopub.execute_input": "2022-04-15T10:04:26.100690Z",
     "iopub.status.busy": "2022-04-15T10:04:26.100116Z",
     "iopub.status.idle": "2022-04-15T10:04:26.120051Z",
     "shell.execute_reply": "2022-04-15T10:04:26.119374Z"
    },
    "papermill": {
     "duration": 0.311542,
     "end_time": "2022-04-15T10:04:26.121354",
     "exception": false,
     "start_time": "2022-04-15T10:04:25.809812",
     "status": "completed"
    },
    "tags": []
   },
   "outputs": [
    {
     "name": "stdout",
     "output_type": "stream",
     "text": [
      "/notebooks/contrastive-learning-in-distilled-models\n"
     ]
    }
   ],
   "source": [
    "import os\n",
    "\n",
    "# Set Project home\n",
    "PROJECT_HOME = os.path.join('/',\n",
    "                            'notebooks',\n",
    "                            'contrastive-learning-in-distilled-models')\n",
    "%cd {PROJECT_HOME}\n",
    "\n",
    "# Load project code\n",
    "%reload_ext autoreload\n",
    "%autoreload 2\n",
    "\n",
    "import sys\n",
    "sys.path.insert(0, f'{PROJECT_HOME}/src')\n",
    "\n",
    "import distilface"
   ]
  },
  {
   "cell_type": "code",
   "execution_count": 2,
   "id": "a7ef3e50",
   "metadata": {
    "execution": {
     "iopub.execute_input": "2022-04-15T10:04:26.719166Z",
     "iopub.status.busy": "2022-04-15T10:04:26.718345Z",
     "iopub.status.idle": "2022-04-15T10:04:27.643592Z",
     "shell.execute_reply": "2022-04-15T10:04:27.642845Z"
    },
    "papermill": {
     "duration": 1.202649,
     "end_time": "2022-04-15T10:04:27.645650",
     "exception": false,
     "start_time": "2022-04-15T10:04:26.443001",
     "status": "completed"
    },
    "tags": []
   },
   "outputs": [],
   "source": [
    "def seed_everything(seed: int):\n",
    "    import random, os\n",
    "    import numpy as np\n",
    "    import torch\n",
    "    \n",
    "    random.seed(seed)\n",
    "    os.environ['PYTHONHASHSEED'] = str(seed)\n",
    "    np.random.seed(seed)\n",
    "    torch.manual_seed(seed)\n",
    "    torch.cuda.manual_seed(seed)\n",
    "    torch.backends.cudnn.deterministic = True\n",
    "    torch.backends.cudnn.benchmark = True\n",
    "    \n",
    "seed_everything(42)"
   ]
  },
  {
   "cell_type": "code",
   "execution_count": 3,
   "id": "14e43d3f",
   "metadata": {
    "execution": {
     "iopub.execute_input": "2022-04-15T10:04:28.244436Z",
     "iopub.status.busy": "2022-04-15T10:04:28.243885Z",
     "iopub.status.idle": "2022-04-15T10:04:28.261498Z",
     "shell.execute_reply": "2022-04-15T10:04:28.260999Z"
    },
    "papermill": {
     "duration": 0.297246,
     "end_time": "2022-04-15T10:04:28.262797",
     "exception": false,
     "start_time": "2022-04-15T10:04:27.965551",
     "status": "completed"
    },
    "tags": [
     "parameters"
    ]
   },
   "outputs": [],
   "source": [
    "# Hyperparameters\n",
    "\n",
    "pooling_method = 'avg_last4'\n",
    "batch_size = 128\n",
    "learning_rate = 1e-5\n",
    "epochs = 1\n",
    "max_steps = 30_000\n",
    "temperature = 0.05\n",
    "max_len = 32\n",
    "fp16 = False"
   ]
  },
  {
   "cell_type": "code",
   "execution_count": 4,
   "id": "61645dd3",
   "metadata": {
    "execution": {
     "iopub.execute_input": "2022-04-15T10:04:28.751807Z",
     "iopub.status.busy": "2022-04-15T10:04:28.751378Z",
     "iopub.status.idle": "2022-04-15T10:04:28.767466Z",
     "shell.execute_reply": "2022-04-15T10:04:28.766989Z"
    },
    "papermill": {
     "duration": 0.263635,
     "end_time": "2022-04-15T10:04:28.768653",
     "exception": false,
     "start_time": "2022-04-15T10:04:28.505018",
     "status": "completed"
    },
    "tags": [
     "injected-parameters"
    ]
   },
   "outputs": [],
   "source": [
    "# Parameters\n",
    "max_steps = 2000\n"
   ]
  },
  {
   "cell_type": "markdown",
   "id": "2344686b",
   "metadata": {
    "papermill": {
     "duration": 0.20539,
     "end_time": "2022-04-15T10:04:29.165275",
     "exception": false,
     "start_time": "2022-04-15T10:04:28.959885",
     "status": "completed"
    },
    "tags": []
   },
   "source": [
    "## 1. Loading and Preparing Wiki-1M data\n",
    "\n",
    "Use huggingface `datasets` library to load local file data."
   ]
  },
  {
   "cell_type": "code",
   "execution_count": 5,
   "id": "235e21ac",
   "metadata": {
    "execution": {
     "iopub.execute_input": "2022-04-15T10:04:29.705207Z",
     "iopub.status.busy": "2022-04-15T10:04:29.704647Z",
     "iopub.status.idle": "2022-04-15T10:04:30.259225Z",
     "shell.execute_reply": "2022-04-15T10:04:30.258577Z"
    },
    "papermill": {
     "duration": 0.789157,
     "end_time": "2022-04-15T10:04:30.260565",
     "exception": false,
     "start_time": "2022-04-15T10:04:29.471408",
     "status": "completed"
    },
    "tags": []
   },
   "outputs": [
    {
     "name": "stderr",
     "output_type": "stream",
     "text": [
      "Using custom data configuration default-235a9b97f9ebd10e\n"
     ]
    },
    {
     "name": "stderr",
     "output_type": "stream",
     "text": [
      "Reusing dataset text (./data/text/default-235a9b97f9ebd10e/0.0.0/4b86d314f7236db91f0a0f5cda32d4375445e64c5eda2692655dd99c2dac68e8)\n"
     ]
    },
    {
     "data": {
      "application/vnd.jupyter.widget-view+json": {
       "model_id": "f422513a5a7a4cb3b06903eb7737eda4",
       "version_major": 2,
       "version_minor": 0
      },
      "text/plain": [
       "  0%|          | 0/1 [00:00<?, ?it/s]"
      ]
     },
     "metadata": {},
     "output_type": "display_data"
    }
   ],
   "source": [
    "import numpy as np\n",
    "\n",
    "from datasets import load_dataset\n",
    "\n",
    "data_files = {'train': 'data/training/wiki1m_for_simcse.txt'}\n",
    "# data_files = {'train': 'data/training/wiki5k.txt'}\n",
    "datasets = load_dataset('text', data_files=data_files, cache_dir='./data/')"
   ]
  },
  {
   "cell_type": "code",
   "execution_count": 6,
   "id": "1703c4a4",
   "metadata": {
    "execution": {
     "iopub.execute_input": "2022-04-15T10:04:30.836434Z",
     "iopub.status.busy": "2022-04-15T10:04:30.835782Z",
     "iopub.status.idle": "2022-04-15T10:04:30.858016Z",
     "shell.execute_reply": "2022-04-15T10:04:30.857244Z"
    },
    "papermill": {
     "duration": 0.250348,
     "end_time": "2022-04-15T10:04:30.859387",
     "exception": false,
     "start_time": "2022-04-15T10:04:30.609039",
     "status": "completed"
    },
    "tags": []
   },
   "outputs": [],
   "source": [
    "# Unsupervised / Self-supervised dataset\n",
    "\n",
    "column_names = datasets[\"train\"].column_names\n",
    "sent0_cname = column_names[0]\n",
    "sent1_cname = column_names[0]"
   ]
  },
  {
   "cell_type": "code",
   "execution_count": 7,
   "id": "a67ee507",
   "metadata": {
    "execution": {
     "iopub.execute_input": "2022-04-15T10:04:31.380185Z",
     "iopub.status.busy": "2022-04-15T10:04:31.379406Z",
     "iopub.status.idle": "2022-04-15T10:04:32.135816Z",
     "shell.execute_reply": "2022-04-15T10:04:32.135106Z"
    },
    "papermill": {
     "duration": 0.999923,
     "end_time": "2022-04-15T10:04:32.137602",
     "exception": false,
     "start_time": "2022-04-15T10:04:31.137679",
     "status": "completed"
    },
    "tags": []
   },
   "outputs": [],
   "source": [
    "from transformers import AutoTokenizer\n",
    "\n",
    "tokenizer = AutoTokenizer.from_pretrained('distilbert-base-uncased')"
   ]
  },
  {
   "cell_type": "code",
   "execution_count": 8,
   "id": "affc85be",
   "metadata": {
    "execution": {
     "iopub.execute_input": "2022-04-15T10:04:32.622067Z",
     "iopub.status.busy": "2022-04-15T10:04:32.621834Z",
     "iopub.status.idle": "2022-04-15T10:04:32.646230Z",
     "shell.execute_reply": "2022-04-15T10:04:32.645678Z"
    },
    "papermill": {
     "duration": 0.236213,
     "end_time": "2022-04-15T10:04:32.647605",
     "exception": false,
     "start_time": "2022-04-15T10:04:32.411392",
     "status": "completed"
    },
    "tags": []
   },
   "outputs": [],
   "source": [
    "def prepare_features(examples):\n",
    "    total = len(examples[sent0_cname])\n",
    "\n",
    "    # Avoid \"None\" fields \n",
    "    for idx in range(total):\n",
    "        if examples[sent0_cname][idx] is None:\n",
    "            examples[sent0_cname][idx] = \" \"\n",
    "        if examples[sent1_cname][idx] is None:\n",
    "            examples[sent1_cname][idx] = \" \"\n",
    "\n",
    "    sentences = examples[sent0_cname] + examples[sent1_cname]\n",
    "\n",
    "    sent_features = tokenizer(\n",
    "        sentences,\n",
    "        max_length=max_len,\n",
    "        truncation=True,\n",
    "        padding=True,\n",
    "    )\n",
    "\n",
    "    features = {}\n",
    "    for key in sent_features:\n",
    "        features[key] = [[sent_features[key][i], sent_features[key][i+total]] for i in range(total)]\n",
    "\n",
    "    return features"
   ]
  },
  {
   "cell_type": "code",
   "execution_count": 9,
   "id": "94020a1b",
   "metadata": {
    "execution": {
     "iopub.execute_input": "2022-04-15T10:04:33.349238Z",
     "iopub.status.busy": "2022-04-15T10:04:33.348489Z",
     "iopub.status.idle": "2022-04-15T10:04:33.393350Z",
     "shell.execute_reply": "2022-04-15T10:04:33.392585Z"
    },
    "papermill": {
     "duration": 0.299518,
     "end_time": "2022-04-15T10:04:33.394725",
     "exception": false,
     "start_time": "2022-04-15T10:04:33.095207",
     "status": "completed"
    },
    "tags": []
   },
   "outputs": [
    {
     "name": "stderr",
     "output_type": "stream",
     "text": [
      "Loading cached processed dataset at ./data/text/default-235a9b97f9ebd10e/0.0.0/4b86d314f7236db91f0a0f5cda32d4375445e64c5eda2692655dd99c2dac68e8/cache-305eab4ce3c7d88c.arrow\n"
     ]
    }
   ],
   "source": [
    "train_dataset = datasets[\"train\"].map(prepare_features,\n",
    "                                      batched=True,\n",
    "                                    #   num_proc=24,\n",
    "                                      remove_columns=column_names)"
   ]
  },
  {
   "cell_type": "code",
   "execution_count": 10,
   "id": "c3439eb8",
   "metadata": {
    "execution": {
     "iopub.execute_input": "2022-04-15T10:04:33.890052Z",
     "iopub.status.busy": "2022-04-15T10:04:33.889419Z",
     "iopub.status.idle": "2022-04-15T10:04:33.916380Z",
     "shell.execute_reply": "2022-04-15T10:04:33.915733Z"
    },
    "papermill": {
     "duration": 0.295383,
     "end_time": "2022-04-15T10:04:33.917722",
     "exception": false,
     "start_time": "2022-04-15T10:04:33.622339",
     "status": "completed"
    },
    "tags": []
   },
   "outputs": [
    {
     "data": {
      "text/plain": [
       "1000000"
      ]
     },
     "execution_count": 10,
     "metadata": {},
     "output_type": "execute_result"
    }
   ],
   "source": [
    "train_dataset.num_rows"
   ]
  },
  {
   "cell_type": "markdown",
   "id": "a4e0e577",
   "metadata": {
    "papermill": {
     "duration": 0.219186,
     "end_time": "2022-04-15T10:04:34.444561",
     "exception": false,
     "start_time": "2022-04-15T10:04:34.225375",
     "status": "completed"
    },
    "tags": []
   },
   "source": [
    "## 2. Contrastive Learning Model"
   ]
  },
  {
   "cell_type": "code",
   "execution_count": 11,
   "id": "23f7a2f0",
   "metadata": {
    "execution": {
     "iopub.execute_input": "2022-04-15T10:04:35.063182Z",
     "iopub.status.busy": "2022-04-15T10:04:35.062560Z",
     "iopub.status.idle": "2022-04-15T10:04:39.427430Z",
     "shell.execute_reply": "2022-04-15T10:04:39.426803Z"
    },
    "papermill": {
     "duration": 4.61923,
     "end_time": "2022-04-15T10:04:39.429388",
     "exception": false,
     "start_time": "2022-04-15T10:04:34.810158",
     "status": "completed"
    },
    "tags": []
   },
   "outputs": [
    {
     "name": "stderr",
     "output_type": "stream",
     "text": [
      "Some weights of the model checkpoint at distilbert-base-uncased were not used when initializing DistilBertCLModel: ['vocab_projector.weight', 'vocab_transform.weight', 'vocab_layer_norm.weight', 'vocab_transform.bias', 'vocab_layer_norm.bias', 'vocab_projector.bias']\n",
      "- This IS expected if you are initializing DistilBertCLModel from the checkpoint of a model trained on another task or with another architecture (e.g. initializing a BertForSequenceClassification model from a BertForPreTraining model).\n",
      "- This IS NOT expected if you are initializing DistilBertCLModel from the checkpoint of a model that you expect to be exactly identical (initializing a BertForSequenceClassification model from a BertForSequenceClassification model).\n"
     ]
    }
   ],
   "source": [
    "import torch\n",
    "import torch.nn as nn\n",
    "\n",
    "from transformers import AutoTokenizer, DistilBertModel, DistilBertPreTrainedModel, AutoConfig\n",
    "from transformers.modeling_outputs import SequenceClassifierOutput, BaseModelOutputWithPooling\n",
    "\n",
    "from distilface.modules.pooler import Pooler\n",
    "from distilface.modules.similarity import Similarity\n",
    "\n",
    "\n",
    "class DistilBertCLModel(DistilBertPreTrainedModel):\n",
    "    def __init__(self, config, pooler_type=pooling_method, temp=temperature):\n",
    "        super().__init__(config)\n",
    "\n",
    "        self.config = config\n",
    "        self.pooler_type = pooler_type\n",
    "        self.temp = temperature\n",
    "\n",
    "        self.distilbert = DistilBertModel(config)\n",
    "        self.pooler = Pooler(pooler_type)\n",
    "        self.sim = Similarity(temp=temp)\n",
    "\n",
    "        self.init_weights()\n",
    "\n",
    "    def forward(self, input_ids=None, attention_mask=None):\n",
    "        if self.training:\n",
    "            return self.cl_forward(self.distilbert, input_ids, attention_mask)\n",
    "        else:\n",
    "            return self.sent_emb(self.distilbert, input_ids, attention_mask)\n",
    "\n",
    "    def cl_forward(self, encoder, input_ids=None, attention_mask=None):\n",
    "        batch_size = input_ids.size(0)\n",
    "        num_sent = input_ids.size(1)  # Number of sentences in one instance: 2 sentences\n",
    "\n",
    "        # Flatten all input tensors\n",
    "        input_ids = input_ids.view((-1, input_ids.size(-1))) # (bs * num_sent, len)\n",
    "        attention_mask = attention_mask.view((-1, attention_mask.size(-1))) # (bs * num_sent len)\n",
    "\n",
    "        # Pre-trained Model Encoder\n",
    "        outputs = encoder(\n",
    "            input_ids,\n",
    "            attention_mask=attention_mask,\n",
    "            output_hidden_states=True,\n",
    "            return_dict=True,\n",
    "        )\n",
    "\n",
    "        # Pooling\n",
    "        pooler_output = self.pooler(attention_mask, outputs)\n",
    "        pooler_output = pooler_output.view((batch_size, num_sent, pooler_output.size(-1)))  # (bs, num_sent, hidden)\n",
    "\n",
    "        # Separate representation\n",
    "        z1, z2 = pooler_output[:, 0], pooler_output[:, 1]\n",
    "\n",
    "        # Cosine similarity\n",
    "        cos_sim = self.sim(z1.unsqueeze(1), z2.unsqueeze(0))\n",
    "\n",
    "        # Calculate contrastive loss\n",
    "        criterion = nn.CrossEntropyLoss()\n",
    "        labels = torch.arange(cos_sim.size(0)).long().to(self.device)\n",
    "        loss = criterion(cos_sim, labels)\n",
    "\n",
    "        return SequenceClassifierOutput(\n",
    "            loss=loss,\n",
    "            logits=cos_sim,\n",
    "            hidden_states=outputs.hidden_states,\n",
    "            attentions=outputs.attentions,\n",
    "        )\n",
    "\n",
    "    def sent_emb(self, encoder, input_ids=None, attention_mask=None):\n",
    "        outputs = encoder(\n",
    "            input_ids,\n",
    "            attention_mask=attention_mask,\n",
    "            output_hidden_states=True,\n",
    "            return_dict=True,\n",
    "        )\n",
    "        pooler_output = self.pooler(attention_mask, outputs)\n",
    "\n",
    "        return BaseModelOutputWithPooling(\n",
    "            pooler_output=pooler_output,\n",
    "            last_hidden_state=outputs.last_hidden_state,\n",
    "            hidden_states=outputs.hidden_states,\n",
    "        )\n",
    "\n",
    "\n",
    "pretrained_model_name = 'distilbert-base-uncased'\n",
    "\n",
    "device = torch.device(\"cuda\" if torch.cuda.is_available() else \"cpu\")\n",
    "config = AutoConfig.from_pretrained(pretrained_model_name)\n",
    "\n",
    "model = DistilBertCLModel.from_pretrained(pretrained_model_name, config=config).to(device)\n",
    "tokenizer = AutoTokenizer.from_pretrained(pretrained_model_name)\n",
    "\n",
    "model.eval();"
   ]
  },
  {
   "cell_type": "markdown",
   "id": "440e4467",
   "metadata": {
    "papermill": {
     "duration": 0.245225,
     "end_time": "2022-04-15T10:04:39.850684",
     "exception": false,
     "start_time": "2022-04-15T10:04:39.605459",
     "status": "completed"
    },
    "tags": []
   },
   "source": [
    "### 2.1 Initial DistilBERT embeddings performance"
   ]
  },
  {
   "cell_type": "code",
   "execution_count": 12,
   "id": "4f873529",
   "metadata": {
    "execution": {
     "iopub.execute_input": "2022-04-15T10:04:40.320765Z",
     "iopub.status.busy": "2022-04-15T10:04:40.320228Z",
     "iopub.status.idle": "2022-04-15T10:04:40.707880Z",
     "shell.execute_reply": "2022-04-15T10:04:40.707069Z"
    },
    "papermill": {
     "duration": 0.585435,
     "end_time": "2022-04-15T10:04:40.709410",
     "exception": false,
     "start_time": "2022-04-15T10:04:40.123975",
     "status": "completed"
    },
    "tags": []
   },
   "outputs": [],
   "source": [
    "import senteval\n",
    "\n",
    "\n",
    "def prepare(params, samples):\n",
    "    return\n",
    "\n",
    "def batcher(params, batch):\n",
    "    sentences = [\" \".join(s) for s in batch]\n",
    "    batch = tokenizer.batch_encode_plus(\n",
    "        sentences,\n",
    "        return_tensors=\"pt\",\n",
    "        padding=True,\n",
    "    )\n",
    "\n",
    "    for k in batch:\n",
    "        batch[k] = batch[k].to(device)\n",
    "\n",
    "    with torch.no_grad():\n",
    "        outputs = model(**batch)\n",
    "\n",
    "    pooled_result = outputs.pooler_output.cpu()\n",
    "\n",
    "    return pooled_result\n",
    "\n",
    "\n",
    "def evaluate_model():\n",
    "    PATH_TO_DATA = \"./data\"\n",
    "\n",
    "    params = {\"task_path\": PATH_TO_DATA, \"usepytorch\": True, \"kfold\": 10}\n",
    "    tasks = [\"STSBenchmark\", 'STS12', 'STS13', 'STS14', 'STS15']\n",
    "\n",
    "    se = senteval.engine.SE(params, batcher, prepare)\n",
    "    results = se.eval(tasks)\n",
    "\n",
    "    print('STS12: ', results[\"STS12\"][\"all\"][\"spearman\"][\"all\"])\n",
    "    print('STS13: ', results[\"STS13\"][\"all\"][\"spearman\"][\"all\"])\n",
    "    print('STS14: ', results[\"STS14\"][\"all\"][\"spearman\"][\"all\"])\n",
    "    print('STS15: ', results[\"STS15\"][\"all\"][\"spearman\"][\"all\"])\n",
    "    print('STSB: ', results[\"STSBenchmark\"][\"test\"][\"spearman\"][0])\n",
    "\n",
    "    return results"
   ]
  },
  {
   "cell_type": "markdown",
   "id": "b7c0db87",
   "metadata": {
    "papermill": {
     "duration": 0.268137,
     "end_time": "2022-04-15T10:04:41.126932",
     "exception": false,
     "start_time": "2022-04-15T10:04:40.858795",
     "status": "completed"
    },
    "tags": []
   },
   "source": [
    "## 3. Trainer"
   ]
  },
  {
   "cell_type": "code",
   "execution_count": 13,
   "id": "23b53bb0",
   "metadata": {
    "execution": {
     "iopub.execute_input": "2022-04-15T10:04:41.654396Z",
     "iopub.status.busy": "2022-04-15T10:04:41.653884Z",
     "iopub.status.idle": "2022-04-15T10:04:41.785858Z",
     "shell.execute_reply": "2022-04-15T10:04:41.785179Z"
    },
    "papermill": {
     "duration": 0.417396,
     "end_time": "2022-04-15T10:04:41.787266",
     "exception": false,
     "start_time": "2022-04-15T10:04:41.369870",
     "status": "completed"
    },
    "tags": []
   },
   "outputs": [
    {
     "name": "stderr",
     "output_type": "stream",
     "text": [
      "max_steps is given, it will override any value given in num_train_epochs\n"
     ]
    }
   ],
   "source": [
    "# import mlflow\n",
    "\n",
    "from transformers import Trainer, TrainingArguments\n",
    "from transformers import default_data_collator\n",
    "\n",
    "training_args = TrainingArguments(\n",
    "    output_dir='output',\n",
    "    overwrite_output_dir=True,\n",
    "    learning_rate=learning_rate,\n",
    "    num_train_epochs=epochs,\n",
    "    max_steps=max_steps,\n",
    "    per_device_train_batch_size=batch_size,\n",
    "    per_device_eval_batch_size=batch_size,\n",
    "    save_strategy='steps',\n",
    "    save_steps=max_steps,\n",
    "    fp16=fp16,\n",
    ")\n",
    "\n",
    "model.train()\n",
    "\n",
    "trainer = Trainer(\n",
    "    model=model,\n",
    "    args=training_args,\n",
    "    train_dataset=train_dataset,\n",
    "    tokenizer=tokenizer,\n",
    "    data_collator=default_data_collator\n",
    ")"
   ]
  },
  {
   "cell_type": "code",
   "execution_count": 14,
   "id": "055ed837",
   "metadata": {
    "execution": {
     "iopub.execute_input": "2022-04-15T10:04:42.340319Z",
     "iopub.status.busy": "2022-04-15T10:04:42.339791Z",
     "iopub.status.idle": "2022-04-15T10:19:15.725101Z",
     "shell.execute_reply": "2022-04-15T10:19:15.724601Z"
    },
    "papermill": {
     "duration": 873.641615,
     "end_time": "2022-04-15T10:19:15.726426",
     "exception": false,
     "start_time": "2022-04-15T10:04:42.084811",
     "status": "completed"
    },
    "tags": []
   },
   "outputs": [
    {
     "name": "stderr",
     "output_type": "stream",
     "text": [
      "/opt/conda/lib/python3.8/site-packages/transformers/optimization.py:306: FutureWarning: This implementation of AdamW is deprecated and will be removed in a future version. Use the PyTorch implementation torch.optim.AdamW instead, or set `no_deprecation_warning=True` to disable this warning\n",
      "  warnings.warn(\n",
      "***** Running training *****\n"
     ]
    },
    {
     "name": "stderr",
     "output_type": "stream",
     "text": [
      "  Num examples = 1000000\n"
     ]
    },
    {
     "name": "stderr",
     "output_type": "stream",
     "text": [
      "  Num Epochs = 1\n"
     ]
    },
    {
     "name": "stderr",
     "output_type": "stream",
     "text": [
      "  Instantaneous batch size per device = 128\n"
     ]
    },
    {
     "name": "stderr",
     "output_type": "stream",
     "text": [
      "  Total train batch size (w. parallel, distributed & accumulation) = 128\n"
     ]
    },
    {
     "name": "stderr",
     "output_type": "stream",
     "text": [
      "  Gradient Accumulation steps = 1\n"
     ]
    },
    {
     "name": "stderr",
     "output_type": "stream",
     "text": [
      "  Total optimization steps = 2000\n"
     ]
    },
    {
     "data": {
      "text/html": [
       "\n",
       "    <div>\n",
       "      \n",
       "      <progress value='2000' max='2000' style='width:300px; height:20px; vertical-align: middle;'></progress>\n",
       "      [2000/2000 14:31, Epoch 0/1]\n",
       "    </div>\n",
       "    <table border=\"1\" class=\"dataframe\">\n",
       "  <thead>\n",
       " <tr style=\"text-align: left;\">\n",
       "      <th>Step</th>\n",
       "      <th>Training Loss</th>\n",
       "    </tr>\n",
       "  </thead>\n",
       "  <tbody>\n",
       "    <tr>\n",
       "      <td>500</td>\n",
       "      <td>0.032200</td>\n",
       "    </tr>\n",
       "    <tr>\n",
       "      <td>1000</td>\n",
       "      <td>0.000400</td>\n",
       "    </tr>\n",
       "    <tr>\n",
       "      <td>1500</td>\n",
       "      <td>0.000300</td>\n",
       "    </tr>\n",
       "    <tr>\n",
       "      <td>2000</td>\n",
       "      <td>0.000200</td>\n",
       "    </tr>\n",
       "  </tbody>\n",
       "</table><p>"
      ],
      "text/plain": [
       "<IPython.core.display.HTML object>"
      ]
     },
     "metadata": {},
     "output_type": "display_data"
    },
    {
     "name": "stderr",
     "output_type": "stream",
     "text": [
      "Saving model checkpoint to output/checkpoint-2000\n"
     ]
    },
    {
     "name": "stderr",
     "output_type": "stream",
     "text": [
      "Configuration saved in output/checkpoint-2000/config.json\n"
     ]
    },
    {
     "name": "stderr",
     "output_type": "stream",
     "text": [
      "Model weights saved in output/checkpoint-2000/pytorch_model.bin\n"
     ]
    },
    {
     "name": "stderr",
     "output_type": "stream",
     "text": [
      "tokenizer config file saved in output/checkpoint-2000/tokenizer_config.json\n"
     ]
    },
    {
     "name": "stderr",
     "output_type": "stream",
     "text": [
      "Special tokens file saved in output/checkpoint-2000/special_tokens_map.json\n"
     ]
    },
    {
     "name": "stderr",
     "output_type": "stream",
     "text": [
      "\n",
      "\n",
      "Training completed. Do not forget to share your model on huggingface.co/models =)\n",
      "\n",
      "\n"
     ]
    }
   ],
   "source": [
    "train_result = trainer.train()"
   ]
  },
  {
   "cell_type": "code",
   "execution_count": 15,
   "id": "c56eb260",
   "metadata": {
    "execution": {
     "iopub.execute_input": "2022-04-15T10:19:16.278877Z",
     "iopub.status.busy": "2022-04-15T10:19:16.278215Z",
     "iopub.status.idle": "2022-04-15T10:19:16.562434Z",
     "shell.execute_reply": "2022-04-15T10:19:16.561877Z"
    },
    "papermill": {
     "duration": 0.557364,
     "end_time": "2022-04-15T10:19:16.563972",
     "exception": false,
     "start_time": "2022-04-15T10:19:16.006608",
     "status": "completed"
    },
    "tags": []
   },
   "outputs": [],
   "source": [
    "import pandas as pd\n",
    "\n",
    "pd.DataFrame(trainer.state.log_history).to_csv(f'logs/cl-distilled_tuning_v1_ms{max_steps}_fp16.csv', index=False)"
   ]
  },
  {
   "cell_type": "markdown",
   "id": "5b6c3cc4",
   "metadata": {
    "papermill": {
     "duration": 0.221371,
     "end_time": "2022-04-15T10:19:17.086625",
     "exception": false,
     "start_time": "2022-04-15T10:19:16.865254",
     "status": "completed"
    },
    "tags": []
   },
   "source": [
    "## 4. Evaluate DistilBert CL Model performance"
   ]
  },
  {
   "cell_type": "code",
   "execution_count": 16,
   "id": "d0091abb",
   "metadata": {
    "execution": {
     "iopub.execute_input": "2022-04-15T10:19:17.572223Z",
     "iopub.status.busy": "2022-04-15T10:19:17.571686Z",
     "iopub.status.idle": "2022-04-15T10:19:40.310335Z",
     "shell.execute_reply": "2022-04-15T10:19:40.309858Z"
    },
    "papermill": {
     "duration": 22.895877,
     "end_time": "2022-04-15T10:19:40.312105",
     "exception": false,
     "start_time": "2022-04-15T10:19:17.416228",
     "status": "completed"
    },
    "tags": []
   },
   "outputs": [
    {
     "name": "stderr",
     "output_type": "stream",
     "text": [
      "/opt/conda/lib/python3.8/site-packages/SentEval-0.1.0-py3.8.egg/senteval/sts.py:42: VisibleDeprecationWarning: Creating an ndarray from ragged nested sequences (which is a list-or-tuple of lists-or-tuples-or ndarrays with different lengths or shapes) is deprecated. If you meant to do this, you must specify 'dtype=object' when creating the ndarray.\n",
      "/opt/conda/lib/python3.8/site-packages/SentEval-0.1.0-py3.8.egg/senteval/sts.py:43: VisibleDeprecationWarning: Creating an ndarray from ragged nested sequences (which is a list-or-tuple of lists-or-tuples-or ndarrays with different lengths or shapes) is deprecated. If you meant to do this, you must specify 'dtype=object' when creating the ndarray.\n"
     ]
    },
    {
     "name": "stdout",
     "output_type": "stream",
     "text": [
      "STS12:  0.5739639758597996\n",
      "STS13:  0.6797470063874409\n",
      "STS14:  0.6232825890967325\n",
      "STS15:  0.7319445350977266\n",
      "STSB:  0.6988603495741889\n"
     ]
    },
    {
     "data": {
      "text/plain": [
       "{'STSBenchmark': {'train': {'pearson': (0.7225730407691132, 0.0),\n",
       "   'spearman': SpearmanrResult(correlation=0.6893845926462837, pvalue=0.0),\n",
       "   'nsamples': 5749},\n",
       "  'dev': {'pearson': (0.7336388045890946, 1.2768290860413754e-253),\n",
       "   'spearman': SpearmanrResult(correlation=0.7406761101342382, pvalue=5.129288966962912e-261),\n",
       "   'nsamples': 1500},\n",
       "  'test': {'pearson': (0.7083857629182201, 1.3741694812282086e-210),\n",
       "   'spearman': SpearmanrResult(correlation=0.6988603495741889, pvalue=1.2105018683260982e-202),\n",
       "   'nsamples': 1379},\n",
       "  'all': {'pearson': {'all': 0.7194159664226666,\n",
       "    'mean': 0.7215325360921426,\n",
       "    'wmean': 0.7222293214336462},\n",
       "   'spearman': {'all': 0.7047641028740781,\n",
       "    'mean': 0.7096403507849036,\n",
       "    'wmean': 0.6998162506244378}}},\n",
       " 'STS12': {'MSRpar': {'pearson': (0.44522398368268734, 8.505804768352936e-38),\n",
       "   'spearman': SpearmanrResult(correlation=0.48421359155905536, pvalue=2.4062017410126212e-45),\n",
       "   'nsamples': 750},\n",
       "  'MSRvid': {'pearson': (0.7882858815675503, 6.45148378214879e-160),\n",
       "   'spearman': SpearmanrResult(correlation=0.7881393129983705, pvalue=8.106526820943828e-160),\n",
       "   'nsamples': 750},\n",
       "  'SMTeuroparl': {'pearson': (0.5422858822124977, 1.891249356221011e-36),\n",
       "   'spearman': SpearmanrResult(correlation=0.6189575388368188, pvalue=6.938908661585825e-50),\n",
       "   'nsamples': 459},\n",
       "  'surprise.OnWN': {'pearson': (0.7049888096317484, 9.989100326835696e-114),\n",
       "   'spearman': SpearmanrResult(correlation=0.6857499565500299, pvalue=2.68935886978923e-105),\n",
       "   'nsamples': 750},\n",
       "  'surprise.SMTnews': {'pearson': (0.5954186612127291, 1.2211564422873567e-39),\n",
       "   'spearman': SpearmanrResult(correlation=0.5255192796213082, pvalue=1.0391418123865807e-29),\n",
       "   'nsamples': 399},\n",
       "  'all': {'pearson': {'all': 0.6123343001612064,\n",
       "    'mean': 0.6152406436614426,\n",
       "    'wmean': 0.6243099330504841},\n",
       "   'spearman': {'all': 0.5739639758597996,\n",
       "    'mean': 0.6205159359131166,\n",
       "    'wmean': 0.6313902344676942}}},\n",
       " 'STS13': {'FNWN': {'pearson': (0.5860762081467049, 8.045488509783681e-19),\n",
       "   'spearman': SpearmanrResult(correlation=0.6030934828829407, pvalue=4.189132455423183e-20),\n",
       "   'nsamples': 189},\n",
       "  'headlines': {'pearson': (0.7193834748993752, 1.7025740500322092e-120),\n",
       "   'spearman': SpearmanrResult(correlation=0.7124934260451639, pvalue=3.334159786557458e-117),\n",
       "   'nsamples': 750},\n",
       "  'OnWN': {'pearson': (0.626739924573884, 1.4804896356057853e-62),\n",
       "   'spearman': SpearmanrResult(correlation=0.6424470066944845, pvalue=1.2811255040654373e-66),\n",
       "   'nsamples': 561},\n",
       "  'all': {'pearson': {'all': 0.6632278795941033,\n",
       "    'mean': 0.6440665358733214,\n",
       "    'wmean': 0.6679380714668051},\n",
       "   'spearman': {'all': 0.6797470063874409,\n",
       "    'mean': 0.6526779718741963,\n",
       "    'wmean': 0.6725116723695697}}},\n",
       " 'STS14': {'deft-forum': {'pearson': (0.4948044194447589,\n",
       "    3.635252783433492e-29),\n",
       "   'spearman': SpearmanrResult(correlation=0.4916860170640502, pvalue=9.093208111182298e-29),\n",
       "   'nsamples': 450},\n",
       "  'deft-news': {'pearson': (0.7734644085902724, 5.820224584006404e-61),\n",
       "   'spearman': SpearmanrResult(correlation=0.756001014579966, pvalue=8.707054602352307e-57),\n",
       "   'nsamples': 300},\n",
       "  'headlines': {'pearson': (0.6868844165292638, 8.92848724094644e-106),\n",
       "   'spearman': SpearmanrResult(correlation=0.6336343965264832, pvalue=1.9326914153847585e-85),\n",
       "   'nsamples': 750},\n",
       "  'images': {'pearson': (0.757495152605886, 1.1504840814885158e-140),\n",
       "   'spearman': SpearmanrResult(correlation=0.7231135545858974, pvalue=2.554719833075551e-122),\n",
       "   'nsamples': 750},\n",
       "  'OnWN': {'pearson': (0.7576123167581653, 9.843461196464646e-141),\n",
       "   'spearman': SpearmanrResult(correlation=0.779258665089377, pvalue=5.952491517393495e-154),\n",
       "   'nsamples': 750},\n",
       "  'tweet-news': {'pearson': (0.7484183884007779, 1.5614188864554273e-135),\n",
       "   'spearman': SpearmanrResult(correlation=0.667304052619055, pvalue=8.300578055301951e-98),\n",
       "   'nsamples': 750},\n",
       "  'all': {'pearson': {'all': 0.6530692346522775,\n",
       "    'mean': 0.7031131837215208,\n",
       "    'wmean': 0.7113357378794114},\n",
       "   'spearman': {'all': 0.6232825890967325,\n",
       "    'mean': 0.6751662834108049,\n",
       "    'wmean': 0.6801445369782458}}},\n",
       " 'STS15': {'answers-forums': {'pearson': (0.7032811235016069,\n",
       "    3.1243998493594566e-57),\n",
       "   'spearman': SpearmanrResult(correlation=0.7010267864131837, pvalue=1.0044300305302155e-56),\n",
       "   'nsamples': 375},\n",
       "  'answers-students': {'pearson': (0.6736793487226674,\n",
       "    2.4670968056810353e-100),\n",
       "   'spearman': SpearmanrResult(correlation=0.6708728307782251, pvalue=3.253617398505941e-99),\n",
       "   'nsamples': 750},\n",
       "  'belief': {'pearson': (0.7751489434596753, 2.1693930378529708e-76),\n",
       "   'spearman': SpearmanrResult(correlation=0.784371238870063, pvalue=2.2847641374796025e-79),\n",
       "   'nsamples': 375},\n",
       "  'headlines': {'pearson': (0.751094206115396, 5.053041176967632e-137),\n",
       "   'spearman': SpearmanrResult(correlation=0.7423297266256901, pvalue=3.2702527777742505e-132),\n",
       "   'nsamples': 750},\n",
       "  'images': {'pearson': (0.8252524352410927, 8.800923469950419e-188),\n",
       "   'spearman': SpearmanrResult(correlation=0.8310494628761645, pvalue=9.481313036889656e-193),\n",
       "   'nsamples': 750},\n",
       "  'all': {'pearson': {'all': 0.7260603977948303,\n",
       "    'mean': 0.7456912114080877,\n",
       "    'wmean': 0.7473102558899494},\n",
       "   'spearman': {'all': 0.7319445350977266,\n",
       "    'mean': 0.7459300091126653,\n",
       "    'wmean': 0.7467377582304259}}}}"
      ]
     },
     "execution_count": 16,
     "metadata": {},
     "output_type": "execute_result"
    }
   ],
   "source": [
    "model.eval()\n",
    "\n",
    "results = evaluate_model()\n",
    "results"
   ]
  }
 ],
 "metadata": {
  "celltoolbar": "Tags",
  "kernelspec": {
   "display_name": "Python 3 (ipykernel)",
   "language": "python",
   "name": "python3"
  },
  "language_info": {
   "codemirror_mode": {
    "name": "ipython",
    "version": 3
   },
   "file_extension": ".py",
   "mimetype": "text/x-python",
   "name": "python",
   "nbconvert_exporter": "python",
   "pygments_lexer": "ipython3",
   "version": "3.8.12"
  },
  "papermill": {
   "default_parameters": {},
   "duration": 917.804009,
   "end_time": "2022-04-15T10:19:41.900744",
   "environment_variables": {},
   "exception": null,
   "input_path": "notebooks/training/cl-distilbert_tuning_v1.ipynb",
   "output_path": "notebooks/training/cl-distilbert_tuning_v1_ms2000.ipynb",
   "parameters": {
    "max_steps": 2000
   },
   "start_time": "2022-04-15T10:04:24.096735",
   "version": "2.3.4"
  },
  "toc": {
   "base_numbering": 1,
   "nav_menu": {},
   "number_sections": false,
   "sideBar": true,
   "skip_h1_title": false,
   "title_cell": "Table of Contents",
   "title_sidebar": "Contents",
   "toc_cell": false,
   "toc_position": {},
   "toc_section_display": true,
   "toc_window_display": false
  },
  "widgets": {
   "application/vnd.jupyter.widget-state+json": {
    "state": {
     "08ad8f0931ed4a6a8745c14b9f215b35": {
      "model_module": "@jupyter-widgets/base",
      "model_module_version": "1.2.0",
      "model_name": "LayoutModel",
      "state": {
       "_model_module": "@jupyter-widgets/base",
       "_model_module_version": "1.2.0",
       "_model_name": "LayoutModel",
       "_view_count": null,
       "_view_module": "@jupyter-widgets/base",
       "_view_module_version": "1.2.0",
       "_view_name": "LayoutView",
       "align_content": null,
       "align_items": null,
       "align_self": null,
       "border": null,
       "bottom": null,
       "display": null,
       "flex": null,
       "flex_flow": null,
       "grid_area": null,
       "grid_auto_columns": null,
       "grid_auto_flow": null,
       "grid_auto_rows": null,
       "grid_column": null,
       "grid_gap": null,
       "grid_row": null,
       "grid_template_areas": null,
       "grid_template_columns": null,
       "grid_template_rows": null,
       "height": null,
       "justify_content": null,
       "justify_items": null,
       "left": null,
       "margin": null,
       "max_height": null,
       "max_width": null,
       "min_height": null,
       "min_width": null,
       "object_fit": null,
       "object_position": null,
       "order": null,
       "overflow": null,
       "overflow_x": null,
       "overflow_y": null,
       "padding": null,
       "right": null,
       "top": null,
       "visibility": null,
       "width": null
      }
     },
     "1640695652d54c49a4da55e9a2c203dc": {
      "model_module": "@jupyter-widgets/base",
      "model_module_version": "1.2.0",
      "model_name": "LayoutModel",
      "state": {
       "_model_module": "@jupyter-widgets/base",
       "_model_module_version": "1.2.0",
       "_model_name": "LayoutModel",
       "_view_count": null,
       "_view_module": "@jupyter-widgets/base",
       "_view_module_version": "1.2.0",
       "_view_name": "LayoutView",
       "align_content": null,
       "align_items": null,
       "align_self": null,
       "border": null,
       "bottom": null,
       "display": null,
       "flex": null,
       "flex_flow": null,
       "grid_area": null,
       "grid_auto_columns": null,
       "grid_auto_flow": null,
       "grid_auto_rows": null,
       "grid_column": null,
       "grid_gap": null,
       "grid_row": null,
       "grid_template_areas": null,
       "grid_template_columns": null,
       "grid_template_rows": null,
       "height": null,
       "justify_content": null,
       "justify_items": null,
       "left": null,
       "margin": null,
       "max_height": null,
       "max_width": null,
       "min_height": null,
       "min_width": null,
       "object_fit": null,
       "object_position": null,
       "order": null,
       "overflow": null,
       "overflow_x": null,
       "overflow_y": null,
       "padding": null,
       "right": null,
       "top": null,
       "visibility": null,
       "width": null
      }
     },
     "28faef6b168d4c77b848dd543857790c": {
      "model_module": "@jupyter-widgets/controls",
      "model_module_version": "1.5.0",
      "model_name": "DescriptionStyleModel",
      "state": {
       "_model_module": "@jupyter-widgets/controls",
       "_model_module_version": "1.5.0",
       "_model_name": "DescriptionStyleModel",
       "_view_count": null,
       "_view_module": "@jupyter-widgets/base",
       "_view_module_version": "1.2.0",
       "_view_name": "StyleView",
       "description_width": ""
      }
     },
     "48b2763d777348748ca77fa639bc0f70": {
      "model_module": "@jupyter-widgets/base",
      "model_module_version": "1.2.0",
      "model_name": "LayoutModel",
      "state": {
       "_model_module": "@jupyter-widgets/base",
       "_model_module_version": "1.2.0",
       "_model_name": "LayoutModel",
       "_view_count": null,
       "_view_module": "@jupyter-widgets/base",
       "_view_module_version": "1.2.0",
       "_view_name": "LayoutView",
       "align_content": null,
       "align_items": null,
       "align_self": null,
       "border": null,
       "bottom": null,
       "display": null,
       "flex": null,
       "flex_flow": null,
       "grid_area": null,
       "grid_auto_columns": null,
       "grid_auto_flow": null,
       "grid_auto_rows": null,
       "grid_column": null,
       "grid_gap": null,
       "grid_row": null,
       "grid_template_areas": null,
       "grid_template_columns": null,
       "grid_template_rows": null,
       "height": null,
       "justify_content": null,
       "justify_items": null,
       "left": null,
       "margin": null,
       "max_height": null,
       "max_width": null,
       "min_height": null,
       "min_width": null,
       "object_fit": null,
       "object_position": null,
       "order": null,
       "overflow": null,
       "overflow_x": null,
       "overflow_y": null,
       "padding": null,
       "right": null,
       "top": null,
       "visibility": null,
       "width": null
      }
     },
     "636b9ece2f724475a2a1e0106c8e6827": {
      "model_module": "@jupyter-widgets/base",
      "model_module_version": "1.2.0",
      "model_name": "LayoutModel",
      "state": {
       "_model_module": "@jupyter-widgets/base",
       "_model_module_version": "1.2.0",
       "_model_name": "LayoutModel",
       "_view_count": null,
       "_view_module": "@jupyter-widgets/base",
       "_view_module_version": "1.2.0",
       "_view_name": "LayoutView",
       "align_content": null,
       "align_items": null,
       "align_self": null,
       "border": null,
       "bottom": null,
       "display": null,
       "flex": null,
       "flex_flow": null,
       "grid_area": null,
       "grid_auto_columns": null,
       "grid_auto_flow": null,
       "grid_auto_rows": null,
       "grid_column": null,
       "grid_gap": null,
       "grid_row": null,
       "grid_template_areas": null,
       "grid_template_columns": null,
       "grid_template_rows": null,
       "height": null,
       "justify_content": null,
       "justify_items": null,
       "left": null,
       "margin": null,
       "max_height": null,
       "max_width": null,
       "min_height": null,
       "min_width": null,
       "object_fit": null,
       "object_position": null,
       "order": null,
       "overflow": null,
       "overflow_x": null,
       "overflow_y": null,
       "padding": null,
       "right": null,
       "top": null,
       "visibility": null,
       "width": null
      }
     },
     "769c853b4b044838af17129dddd8ebb1": {
      "model_module": "@jupyter-widgets/controls",
      "model_module_version": "1.5.0",
      "model_name": "FloatProgressModel",
      "state": {
       "_dom_classes": [],
       "_model_module": "@jupyter-widgets/controls",
       "_model_module_version": "1.5.0",
       "_model_name": "FloatProgressModel",
       "_view_count": null,
       "_view_module": "@jupyter-widgets/controls",
       "_view_module_version": "1.5.0",
       "_view_name": "ProgressView",
       "bar_style": "success",
       "description": "",
       "description_tooltip": null,
       "layout": "IPY_MODEL_48b2763d777348748ca77fa639bc0f70",
       "max": 1,
       "min": 0,
       "orientation": "horizontal",
       "style": "IPY_MODEL_89c48ad95af74e92820cabf010264b66",
       "value": 1
      }
     },
     "89c48ad95af74e92820cabf010264b66": {
      "model_module": "@jupyter-widgets/controls",
      "model_module_version": "1.5.0",
      "model_name": "ProgressStyleModel",
      "state": {
       "_model_module": "@jupyter-widgets/controls",
       "_model_module_version": "1.5.0",
       "_model_name": "ProgressStyleModel",
       "_view_count": null,
       "_view_module": "@jupyter-widgets/base",
       "_view_module_version": "1.2.0",
       "_view_name": "StyleView",
       "bar_color": null,
       "description_width": ""
      }
     },
     "ad0e0b3c09064975ba484db5f1fa9d0f": {
      "model_module": "@jupyter-widgets/controls",
      "model_module_version": "1.5.0",
      "model_name": "HTMLModel",
      "state": {
       "_dom_classes": [],
       "_model_module": "@jupyter-widgets/controls",
       "_model_module_version": "1.5.0",
       "_model_name": "HTMLModel",
       "_view_count": null,
       "_view_module": "@jupyter-widgets/controls",
       "_view_module_version": "1.5.0",
       "_view_name": "HTMLView",
       "description": "",
       "description_tooltip": null,
       "layout": "IPY_MODEL_1640695652d54c49a4da55e9a2c203dc",
       "placeholder": "​",
       "style": "IPY_MODEL_c77cb6478db3443485d5e31a925fb870",
       "value": "100%"
      }
     },
     "c77cb6478db3443485d5e31a925fb870": {
      "model_module": "@jupyter-widgets/controls",
      "model_module_version": "1.5.0",
      "model_name": "DescriptionStyleModel",
      "state": {
       "_model_module": "@jupyter-widgets/controls",
       "_model_module_version": "1.5.0",
       "_model_name": "DescriptionStyleModel",
       "_view_count": null,
       "_view_module": "@jupyter-widgets/base",
       "_view_module_version": "1.2.0",
       "_view_name": "StyleView",
       "description_width": ""
      }
     },
     "df649535298e4718b4cfccb62f30c634": {
      "model_module": "@jupyter-widgets/controls",
      "model_module_version": "1.5.0",
      "model_name": "HTMLModel",
      "state": {
       "_dom_classes": [],
       "_model_module": "@jupyter-widgets/controls",
       "_model_module_version": "1.5.0",
       "_model_name": "HTMLModel",
       "_view_count": null,
       "_view_module": "@jupyter-widgets/controls",
       "_view_module_version": "1.5.0",
       "_view_name": "HTMLView",
       "description": "",
       "description_tooltip": null,
       "layout": "IPY_MODEL_08ad8f0931ed4a6a8745c14b9f215b35",
       "placeholder": "​",
       "style": "IPY_MODEL_28faef6b168d4c77b848dd543857790c",
       "value": " 1/1 [00:00&lt;00:00, 51.10it/s]"
      }
     },
     "f422513a5a7a4cb3b06903eb7737eda4": {
      "model_module": "@jupyter-widgets/controls",
      "model_module_version": "1.5.0",
      "model_name": "HBoxModel",
      "state": {
       "_dom_classes": [],
       "_model_module": "@jupyter-widgets/controls",
       "_model_module_version": "1.5.0",
       "_model_name": "HBoxModel",
       "_view_count": null,
       "_view_module": "@jupyter-widgets/controls",
       "_view_module_version": "1.5.0",
       "_view_name": "HBoxView",
       "box_style": "",
       "children": [
        "IPY_MODEL_ad0e0b3c09064975ba484db5f1fa9d0f",
        "IPY_MODEL_769c853b4b044838af17129dddd8ebb1",
        "IPY_MODEL_df649535298e4718b4cfccb62f30c634"
       ],
       "layout": "IPY_MODEL_636b9ece2f724475a2a1e0106c8e6827"
      }
     }
    },
    "version_major": 2,
    "version_minor": 0
   }
  }
 },
 "nbformat": 4,
 "nbformat_minor": 5
}
