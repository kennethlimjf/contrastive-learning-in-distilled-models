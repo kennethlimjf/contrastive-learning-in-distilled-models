{
 "cells": [
  {
   "cell_type": "markdown",
   "id": "05c1bb54",
   "metadata": {
    "papermill": {
     "duration": 0.175319,
     "end_time": "2022-04-15T09:44:35.276090",
     "exception": false,
     "start_time": "2022-04-15T09:44:35.100771",
     "status": "completed"
    },
    "tags": []
   },
   "source": [
    "# Contrastive Learning From Scratch - DistilBERT\n",
    "\n",
    "An attempt to build contrastive learning model from scratch. Parts include:\n",
    "\n",
    "- Loading and preparing Wiki-1M data for model input\n",
    "- Contrastive learning model\n",
    "  - Forward passing using pre-trained model\n",
    "  - Constrastive layer\n",
    "  - Calculate loss\n",
    "- Training procedure\n",
    "  - Default trainer optimizer\n",
    "  - Default trainer hyper-parameters"
   ]
  },
  {
   "cell_type": "code",
   "execution_count": 1,
   "id": "04927c95",
   "metadata": {
    "execution": {
     "iopub.execute_input": "2022-04-15T09:44:35.831472Z",
     "iopub.status.busy": "2022-04-15T09:44:35.831170Z",
     "iopub.status.idle": "2022-04-15T09:44:35.852337Z",
     "shell.execute_reply": "2022-04-15T09:44:35.851703Z"
    },
    "papermill": {
     "duration": 0.228534,
     "end_time": "2022-04-15T09:44:35.853689",
     "exception": false,
     "start_time": "2022-04-15T09:44:35.625155",
     "status": "completed"
    },
    "tags": []
   },
   "outputs": [
    {
     "name": "stdout",
     "output_type": "stream",
     "text": [
      "/notebooks/contrastive-learning-in-distilled-models\n"
     ]
    }
   ],
   "source": [
    "import os\n",
    "\n",
    "# Set Project home\n",
    "PROJECT_HOME = os.path.join('/',\n",
    "                            'notebooks',\n",
    "                            'contrastive-learning-in-distilled-models')\n",
    "%cd {PROJECT_HOME}\n",
    "\n",
    "# Load project code\n",
    "%reload_ext autoreload\n",
    "%autoreload 2\n",
    "\n",
    "import sys\n",
    "sys.path.insert(0, f'{PROJECT_HOME}/src')\n",
    "\n",
    "import distilface"
   ]
  },
  {
   "cell_type": "code",
   "execution_count": 2,
   "id": "f7bf3ef9",
   "metadata": {
    "execution": {
     "iopub.execute_input": "2022-04-15T09:44:36.240479Z",
     "iopub.status.busy": "2022-04-15T09:44:36.240250Z",
     "iopub.status.idle": "2022-04-15T09:44:37.167811Z",
     "shell.execute_reply": "2022-04-15T09:44:37.167158Z"
    },
    "papermill": {
     "duration": 1.099121,
     "end_time": "2022-04-15T09:44:37.169966",
     "exception": false,
     "start_time": "2022-04-15T09:44:36.070845",
     "status": "completed"
    },
    "tags": []
   },
   "outputs": [],
   "source": [
    "def seed_everything(seed: int):\n",
    "    import random, os\n",
    "    import numpy as np\n",
    "    import torch\n",
    "    \n",
    "    random.seed(seed)\n",
    "    os.environ['PYTHONHASHSEED'] = str(seed)\n",
    "    np.random.seed(seed)\n",
    "    torch.manual_seed(seed)\n",
    "    torch.cuda.manual_seed(seed)\n",
    "    torch.backends.cudnn.deterministic = True\n",
    "    torch.backends.cudnn.benchmark = True\n",
    "    \n",
    "seed_everything(42)"
   ]
  },
  {
   "cell_type": "code",
   "execution_count": 3,
   "id": "d949fac7",
   "metadata": {
    "execution": {
     "iopub.execute_input": "2022-04-15T09:44:37.587558Z",
     "iopub.status.busy": "2022-04-15T09:44:37.587047Z",
     "iopub.status.idle": "2022-04-15T09:44:37.605094Z",
     "shell.execute_reply": "2022-04-15T09:44:37.604405Z"
    },
    "papermill": {
     "duration": 0.236502,
     "end_time": "2022-04-15T09:44:37.606433",
     "exception": false,
     "start_time": "2022-04-15T09:44:37.369931",
     "status": "completed"
    },
    "tags": [
     "parameters"
    ]
   },
   "outputs": [],
   "source": [
    "# Hyperparameters\n",
    "\n",
    "pooling_method = 'avg_last4'\n",
    "batch_size = 128\n",
    "learning_rate = 1e-5\n",
    "epochs = 1\n",
    "max_steps = 30_000\n",
    "temperature = 0.05\n",
    "max_len = 32\n",
    "fp16 = False"
   ]
  },
  {
   "cell_type": "code",
   "execution_count": 4,
   "id": "f95e42d0",
   "metadata": {
    "execution": {
     "iopub.execute_input": "2022-04-15T09:44:38.028773Z",
     "iopub.status.busy": "2022-04-15T09:44:38.028360Z",
     "iopub.status.idle": "2022-04-15T09:44:38.044651Z",
     "shell.execute_reply": "2022-04-15T09:44:38.044054Z"
    },
    "papermill": {
     "duration": 0.185761,
     "end_time": "2022-04-15T09:44:38.046108",
     "exception": false,
     "start_time": "2022-04-15T09:44:37.860347",
     "status": "completed"
    },
    "tags": [
     "injected-parameters"
    ]
   },
   "outputs": [],
   "source": [
    "# Parameters\n",
    "max_steps = 1000\n"
   ]
  },
  {
   "cell_type": "markdown",
   "id": "f66a2248",
   "metadata": {
    "papermill": {
     "duration": 0.173673,
     "end_time": "2022-04-15T09:44:38.437584",
     "exception": false,
     "start_time": "2022-04-15T09:44:38.263911",
     "status": "completed"
    },
    "tags": []
   },
   "source": [
    "## 1. Loading and Preparing Wiki-1M data\n",
    "\n",
    "Use huggingface `datasets` library to load local file data."
   ]
  },
  {
   "cell_type": "code",
   "execution_count": 5,
   "id": "2551ebf9",
   "metadata": {
    "execution": {
     "iopub.execute_input": "2022-04-15T09:44:38.844283Z",
     "iopub.status.busy": "2022-04-15T09:44:38.843815Z",
     "iopub.status.idle": "2022-04-15T09:44:39.382607Z",
     "shell.execute_reply": "2022-04-15T09:44:39.382165Z"
    },
    "papermill": {
     "duration": 0.709628,
     "end_time": "2022-04-15T09:44:39.383948",
     "exception": false,
     "start_time": "2022-04-15T09:44:38.674320",
     "status": "completed"
    },
    "tags": []
   },
   "outputs": [
    {
     "name": "stderr",
     "output_type": "stream",
     "text": [
      "Using custom data configuration default-235a9b97f9ebd10e\n"
     ]
    },
    {
     "name": "stderr",
     "output_type": "stream",
     "text": [
      "Reusing dataset text (./data/text/default-235a9b97f9ebd10e/0.0.0/4b86d314f7236db91f0a0f5cda32d4375445e64c5eda2692655dd99c2dac68e8)\n"
     ]
    },
    {
     "data": {
      "application/vnd.jupyter.widget-view+json": {
       "model_id": "3bc22f347c9a46b19791530fbc6d9933",
       "version_major": 2,
       "version_minor": 0
      },
      "text/plain": [
       "  0%|          | 0/1 [00:00<?, ?it/s]"
      ]
     },
     "metadata": {},
     "output_type": "display_data"
    }
   ],
   "source": [
    "import numpy as np\n",
    "\n",
    "from datasets import load_dataset\n",
    "\n",
    "data_files = {'train': 'data/training/wiki1m_for_simcse.txt'}\n",
    "# data_files = {'train': 'data/training/wiki5k.txt'}\n",
    "datasets = load_dataset('text', data_files=data_files, cache_dir='./data/')"
   ]
  },
  {
   "cell_type": "code",
   "execution_count": 6,
   "id": "aac23e1f",
   "metadata": {
    "execution": {
     "iopub.execute_input": "2022-04-15T09:44:39.939019Z",
     "iopub.status.busy": "2022-04-15T09:44:39.938380Z",
     "iopub.status.idle": "2022-04-15T09:44:39.958218Z",
     "shell.execute_reply": "2022-04-15T09:44:39.957807Z"
    },
    "papermill": {
     "duration": 0.286334,
     "end_time": "2022-04-15T09:44:39.959590",
     "exception": false,
     "start_time": "2022-04-15T09:44:39.673256",
     "status": "completed"
    },
    "tags": []
   },
   "outputs": [],
   "source": [
    "# Unsupervised / Self-supervised dataset\n",
    "\n",
    "column_names = datasets[\"train\"].column_names\n",
    "sent0_cname = column_names[0]\n",
    "sent1_cname = column_names[0]"
   ]
  },
  {
   "cell_type": "code",
   "execution_count": 7,
   "id": "6b5c80b2",
   "metadata": {
    "execution": {
     "iopub.execute_input": "2022-04-15T09:44:40.403516Z",
     "iopub.status.busy": "2022-04-15T09:44:40.402857Z",
     "iopub.status.idle": "2022-04-15T09:44:46.233357Z",
     "shell.execute_reply": "2022-04-15T09:44:46.232850Z"
    },
    "papermill": {
     "duration": 6.086145,
     "end_time": "2022-04-15T09:44:46.235083",
     "exception": false,
     "start_time": "2022-04-15T09:44:40.148938",
     "status": "completed"
    },
    "tags": []
   },
   "outputs": [],
   "source": [
    "from transformers import AutoTokenizer\n",
    "\n",
    "tokenizer = AutoTokenizer.from_pretrained('distilbert-base-uncased')"
   ]
  },
  {
   "cell_type": "code",
   "execution_count": 8,
   "id": "61cb0977",
   "metadata": {
    "execution": {
     "iopub.execute_input": "2022-04-15T09:44:46.805267Z",
     "iopub.status.busy": "2022-04-15T09:44:46.804630Z",
     "iopub.status.idle": "2022-04-15T09:44:46.827761Z",
     "shell.execute_reply": "2022-04-15T09:44:46.827235Z"
    },
    "papermill": {
     "duration": 0.29878,
     "end_time": "2022-04-15T09:44:46.829047",
     "exception": false,
     "start_time": "2022-04-15T09:44:46.530267",
     "status": "completed"
    },
    "tags": []
   },
   "outputs": [],
   "source": [
    "def prepare_features(examples):\n",
    "    total = len(examples[sent0_cname])\n",
    "\n",
    "    # Avoid \"None\" fields \n",
    "    for idx in range(total):\n",
    "        if examples[sent0_cname][idx] is None:\n",
    "            examples[sent0_cname][idx] = \" \"\n",
    "        if examples[sent1_cname][idx] is None:\n",
    "            examples[sent1_cname][idx] = \" \"\n",
    "\n",
    "    sentences = examples[sent0_cname] + examples[sent1_cname]\n",
    "\n",
    "    sent_features = tokenizer(\n",
    "        sentences,\n",
    "        max_length=max_len,\n",
    "        truncation=True,\n",
    "        padding=True,\n",
    "    )\n",
    "\n",
    "    features = {}\n",
    "    for key in sent_features:\n",
    "        features[key] = [[sent_features[key][i], sent_features[key][i+total]] for i in range(total)]\n",
    "\n",
    "    return features"
   ]
  },
  {
   "cell_type": "code",
   "execution_count": 9,
   "id": "4d0eecde",
   "metadata": {
    "execution": {
     "iopub.execute_input": "2022-04-15T09:44:47.193947Z",
     "iopub.status.busy": "2022-04-15T09:44:47.193337Z",
     "iopub.status.idle": "2022-04-15T09:44:47.237456Z",
     "shell.execute_reply": "2022-04-15T09:44:47.236810Z"
    },
    "papermill": {
     "duration": 0.197714,
     "end_time": "2022-04-15T09:44:47.238805",
     "exception": false,
     "start_time": "2022-04-15T09:44:47.041091",
     "status": "completed"
    },
    "tags": []
   },
   "outputs": [
    {
     "name": "stderr",
     "output_type": "stream",
     "text": [
      "Loading cached processed dataset at ./data/text/default-235a9b97f9ebd10e/0.0.0/4b86d314f7236db91f0a0f5cda32d4375445e64c5eda2692655dd99c2dac68e8/cache-305eab4ce3c7d88c.arrow\n"
     ]
    }
   ],
   "source": [
    "train_dataset = datasets[\"train\"].map(prepare_features,\n",
    "                                      batched=True,\n",
    "                                    #   num_proc=24,\n",
    "                                      remove_columns=column_names)"
   ]
  },
  {
   "cell_type": "code",
   "execution_count": 10,
   "id": "8dfd0c51",
   "metadata": {
    "execution": {
     "iopub.execute_input": "2022-04-15T09:44:47.798296Z",
     "iopub.status.busy": "2022-04-15T09:44:47.797695Z",
     "iopub.status.idle": "2022-04-15T09:44:47.823033Z",
     "shell.execute_reply": "2022-04-15T09:44:47.822679Z"
    },
    "papermill": {
     "duration": 0.330108,
     "end_time": "2022-04-15T09:44:47.824322",
     "exception": false,
     "start_time": "2022-04-15T09:44:47.494214",
     "status": "completed"
    },
    "tags": []
   },
   "outputs": [
    {
     "data": {
      "text/plain": [
       "1000000"
      ]
     },
     "execution_count": 10,
     "metadata": {},
     "output_type": "execute_result"
    }
   ],
   "source": [
    "train_dataset.num_rows"
   ]
  },
  {
   "cell_type": "markdown",
   "id": "8e082373",
   "metadata": {
    "papermill": {
     "duration": 0.260818,
     "end_time": "2022-04-15T09:44:48.281253",
     "exception": false,
     "start_time": "2022-04-15T09:44:48.020435",
     "status": "completed"
    },
    "tags": []
   },
   "source": [
    "## 2. Contrastive Learning Model"
   ]
  },
  {
   "cell_type": "code",
   "execution_count": 11,
   "id": "f86c1de7",
   "metadata": {
    "execution": {
     "iopub.execute_input": "2022-04-15T09:44:48.619996Z",
     "iopub.status.busy": "2022-04-15T09:44:48.619648Z",
     "iopub.status.idle": "2022-04-15T09:44:53.196823Z",
     "shell.execute_reply": "2022-04-15T09:44:53.196245Z"
    },
    "papermill": {
     "duration": 4.722361,
     "end_time": "2022-04-15T09:44:53.198567",
     "exception": false,
     "start_time": "2022-04-15T09:44:48.476206",
     "status": "completed"
    },
    "tags": []
   },
   "outputs": [
    {
     "name": "stderr",
     "output_type": "stream",
     "text": [
      "Some weights of the model checkpoint at distilbert-base-uncased were not used when initializing DistilBertCLModel: ['vocab_layer_norm.weight', 'vocab_transform.bias', 'vocab_layer_norm.bias', 'vocab_projector.bias', 'vocab_projector.weight', 'vocab_transform.weight']\n",
      "- This IS expected if you are initializing DistilBertCLModel from the checkpoint of a model trained on another task or with another architecture (e.g. initializing a BertForSequenceClassification model from a BertForPreTraining model).\n",
      "- This IS NOT expected if you are initializing DistilBertCLModel from the checkpoint of a model that you expect to be exactly identical (initializing a BertForSequenceClassification model from a BertForSequenceClassification model).\n"
     ]
    }
   ],
   "source": [
    "import torch\n",
    "import torch.nn as nn\n",
    "\n",
    "from transformers import AutoTokenizer, DistilBertModel, DistilBertPreTrainedModel, AutoConfig\n",
    "from transformers.modeling_outputs import SequenceClassifierOutput, BaseModelOutputWithPooling\n",
    "\n",
    "from distilface.modules.pooler import Pooler\n",
    "from distilface.modules.similarity import Similarity\n",
    "\n",
    "\n",
    "class DistilBertCLModel(DistilBertPreTrainedModel):\n",
    "    def __init__(self, config, pooler_type=pooling_method, temp=temperature):\n",
    "        super().__init__(config)\n",
    "\n",
    "        self.config = config\n",
    "        self.pooler_type = pooler_type\n",
    "        self.temp = temperature\n",
    "\n",
    "        self.distilbert = DistilBertModel(config)\n",
    "        self.pooler = Pooler(pooler_type)\n",
    "        self.sim = Similarity(temp=temp)\n",
    "\n",
    "        self.init_weights()\n",
    "\n",
    "    def forward(self, input_ids=None, attention_mask=None):\n",
    "        if self.training:\n",
    "            return self.cl_forward(self.distilbert, input_ids, attention_mask)\n",
    "        else:\n",
    "            return self.sent_emb(self.distilbert, input_ids, attention_mask)\n",
    "\n",
    "    def cl_forward(self, encoder, input_ids=None, attention_mask=None):\n",
    "        batch_size = input_ids.size(0)\n",
    "        num_sent = input_ids.size(1)  # Number of sentences in one instance: 2 sentences\n",
    "\n",
    "        # Flatten all input tensors\n",
    "        input_ids = input_ids.view((-1, input_ids.size(-1))) # (bs * num_sent, len)\n",
    "        attention_mask = attention_mask.view((-1, attention_mask.size(-1))) # (bs * num_sent len)\n",
    "\n",
    "        # Pre-trained Model Encoder\n",
    "        outputs = encoder(\n",
    "            input_ids,\n",
    "            attention_mask=attention_mask,\n",
    "            output_hidden_states=True,\n",
    "            return_dict=True,\n",
    "        )\n",
    "\n",
    "        # Pooling\n",
    "        pooler_output = self.pooler(attention_mask, outputs)\n",
    "        pooler_output = pooler_output.view((batch_size, num_sent, pooler_output.size(-1)))  # (bs, num_sent, hidden)\n",
    "\n",
    "        # Separate representation\n",
    "        z1, z2 = pooler_output[:, 0], pooler_output[:, 1]\n",
    "\n",
    "        # Cosine similarity\n",
    "        cos_sim = self.sim(z1.unsqueeze(1), z2.unsqueeze(0))\n",
    "\n",
    "        # Calculate contrastive loss\n",
    "        criterion = nn.CrossEntropyLoss()\n",
    "        labels = torch.arange(cos_sim.size(0)).long().to(self.device)\n",
    "        loss = criterion(cos_sim, labels)\n",
    "\n",
    "        return SequenceClassifierOutput(\n",
    "            loss=loss,\n",
    "            logits=cos_sim,\n",
    "            hidden_states=outputs.hidden_states,\n",
    "            attentions=outputs.attentions,\n",
    "        )\n",
    "\n",
    "    def sent_emb(self, encoder, input_ids=None, attention_mask=None):\n",
    "        outputs = encoder(\n",
    "            input_ids,\n",
    "            attention_mask=attention_mask,\n",
    "            output_hidden_states=True,\n",
    "            return_dict=True,\n",
    "        )\n",
    "        pooler_output = self.pooler(attention_mask, outputs)\n",
    "\n",
    "        return BaseModelOutputWithPooling(\n",
    "            pooler_output=pooler_output,\n",
    "            last_hidden_state=outputs.last_hidden_state,\n",
    "            hidden_states=outputs.hidden_states,\n",
    "        )\n",
    "\n",
    "\n",
    "pretrained_model_name = 'distilbert-base-uncased'\n",
    "\n",
    "device = torch.device(\"cuda\" if torch.cuda.is_available() else \"cpu\")\n",
    "config = AutoConfig.from_pretrained(pretrained_model_name)\n",
    "\n",
    "model = DistilBertCLModel.from_pretrained(pretrained_model_name, config=config).to(device)\n",
    "tokenizer = AutoTokenizer.from_pretrained(pretrained_model_name)\n",
    "\n",
    "model.eval();"
   ]
  },
  {
   "cell_type": "markdown",
   "id": "40e8af49",
   "metadata": {
    "papermill": {
     "duration": 0.150639,
     "end_time": "2022-04-15T09:44:53.539861",
     "exception": false,
     "start_time": "2022-04-15T09:44:53.389222",
     "status": "completed"
    },
    "tags": []
   },
   "source": [
    "### 2.1 Initial DistilBERT embeddings performance"
   ]
  },
  {
   "cell_type": "code",
   "execution_count": 12,
   "id": "2ea7de26",
   "metadata": {
    "execution": {
     "iopub.execute_input": "2022-04-15T09:44:53.926993Z",
     "iopub.status.busy": "2022-04-15T09:44:53.926320Z",
     "iopub.status.idle": "2022-04-15T09:44:54.329791Z",
     "shell.execute_reply": "2022-04-15T09:44:54.329228Z"
    },
    "papermill": {
     "duration": 0.58776,
     "end_time": "2022-04-15T09:44:54.331711",
     "exception": false,
     "start_time": "2022-04-15T09:44:53.743951",
     "status": "completed"
    },
    "tags": []
   },
   "outputs": [],
   "source": [
    "import senteval\n",
    "\n",
    "\n",
    "def prepare(params, samples):\n",
    "    return\n",
    "\n",
    "def batcher(params, batch):\n",
    "    sentences = [\" \".join(s) for s in batch]\n",
    "    batch = tokenizer.batch_encode_plus(\n",
    "        sentences,\n",
    "        return_tensors=\"pt\",\n",
    "        padding=True,\n",
    "    )\n",
    "\n",
    "    for k in batch:\n",
    "        batch[k] = batch[k].to(device)\n",
    "\n",
    "    with torch.no_grad():\n",
    "        outputs = model(**batch)\n",
    "\n",
    "    pooled_result = outputs.pooler_output.cpu()\n",
    "\n",
    "    return pooled_result\n",
    "\n",
    "\n",
    "def evaluate_model():\n",
    "    PATH_TO_DATA = \"./data\"\n",
    "\n",
    "    params = {\"task_path\": PATH_TO_DATA, \"usepytorch\": True, \"kfold\": 10}\n",
    "    tasks = [\"STSBenchmark\", 'STS12', 'STS13', 'STS14', 'STS15']\n",
    "\n",
    "    se = senteval.engine.SE(params, batcher, prepare)\n",
    "    results = se.eval(tasks)\n",
    "\n",
    "    print('STS12: ', results[\"STS12\"][\"all\"][\"spearman\"][\"all\"])\n",
    "    print('STS13: ', results[\"STS13\"][\"all\"][\"spearman\"][\"all\"])\n",
    "    print('STS14: ', results[\"STS14\"][\"all\"][\"spearman\"][\"all\"])\n",
    "    print('STS15: ', results[\"STS15\"][\"all\"][\"spearman\"][\"all\"])\n",
    "    print('STSB: ', results[\"STSBenchmark\"][\"test\"][\"spearman\"][0])\n",
    "\n",
    "    return results"
   ]
  },
  {
   "cell_type": "markdown",
   "id": "5e181b64",
   "metadata": {
    "papermill": {
     "duration": 0.201565,
     "end_time": "2022-04-15T09:44:54.776567",
     "exception": false,
     "start_time": "2022-04-15T09:44:54.575002",
     "status": "completed"
    },
    "tags": []
   },
   "source": [
    "## 3. Trainer"
   ]
  },
  {
   "cell_type": "code",
   "execution_count": 13,
   "id": "1cab6628",
   "metadata": {
    "execution": {
     "iopub.execute_input": "2022-04-15T09:44:55.342012Z",
     "iopub.status.busy": "2022-04-15T09:44:55.341494Z",
     "iopub.status.idle": "2022-04-15T09:44:55.477006Z",
     "shell.execute_reply": "2022-04-15T09:44:55.476246Z"
    },
    "papermill": {
     "duration": 0.459086,
     "end_time": "2022-04-15T09:44:55.478422",
     "exception": false,
     "start_time": "2022-04-15T09:44:55.019336",
     "status": "completed"
    },
    "tags": []
   },
   "outputs": [
    {
     "name": "stderr",
     "output_type": "stream",
     "text": [
      "max_steps is given, it will override any value given in num_train_epochs\n"
     ]
    }
   ],
   "source": [
    "# import mlflow\n",
    "\n",
    "from transformers import Trainer, TrainingArguments\n",
    "from transformers import default_data_collator\n",
    "\n",
    "training_args = TrainingArguments(\n",
    "    output_dir='output',\n",
    "    overwrite_output_dir=True,\n",
    "    learning_rate=learning_rate,\n",
    "    num_train_epochs=epochs,\n",
    "    max_steps=max_steps,\n",
    "    per_device_train_batch_size=batch_size,\n",
    "    per_device_eval_batch_size=batch_size,\n",
    "    save_strategy='steps',\n",
    "    save_steps=max_steps,\n",
    "    fp16=fp16,\n",
    ")\n",
    "\n",
    "model.train()\n",
    "\n",
    "trainer = Trainer(\n",
    "    model=model,\n",
    "    args=training_args,\n",
    "    train_dataset=train_dataset,\n",
    "    tokenizer=tokenizer,\n",
    "    data_collator=default_data_collator\n",
    ")"
   ]
  },
  {
   "cell_type": "code",
   "execution_count": 14,
   "id": "d5bc4f10",
   "metadata": {
    "execution": {
     "iopub.execute_input": "2022-04-15T09:44:55.838942Z",
     "iopub.status.busy": "2022-04-15T09:44:55.838431Z",
     "iopub.status.idle": "2022-04-15T09:52:14.119417Z",
     "shell.execute_reply": "2022-04-15T09:52:14.118777Z"
    },
    "papermill": {
     "duration": 438.428114,
     "end_time": "2022-04-15T09:52:14.120777",
     "exception": false,
     "start_time": "2022-04-15T09:44:55.692663",
     "status": "completed"
    },
    "tags": []
   },
   "outputs": [
    {
     "name": "stderr",
     "output_type": "stream",
     "text": [
      "/opt/conda/lib/python3.8/site-packages/transformers/optimization.py:306: FutureWarning: This implementation of AdamW is deprecated and will be removed in a future version. Use the PyTorch implementation torch.optim.AdamW instead, or set `no_deprecation_warning=True` to disable this warning\n",
      "  warnings.warn(\n",
      "***** Running training *****\n"
     ]
    },
    {
     "name": "stderr",
     "output_type": "stream",
     "text": [
      "  Num examples = 1000000\n"
     ]
    },
    {
     "name": "stderr",
     "output_type": "stream",
     "text": [
      "  Num Epochs = 1\n"
     ]
    },
    {
     "name": "stderr",
     "output_type": "stream",
     "text": [
      "  Instantaneous batch size per device = 128\n"
     ]
    },
    {
     "name": "stderr",
     "output_type": "stream",
     "text": [
      "  Total train batch size (w. parallel, distributed & accumulation) = 128\n"
     ]
    },
    {
     "name": "stderr",
     "output_type": "stream",
     "text": [
      "  Gradient Accumulation steps = 1\n"
     ]
    },
    {
     "name": "stderr",
     "output_type": "stream",
     "text": [
      "  Total optimization steps = 1000\n"
     ]
    },
    {
     "data": {
      "text/html": [
       "\n",
       "    <div>\n",
       "      \n",
       "      <progress value='1000' max='1000' style='width:300px; height:20px; vertical-align: middle;'></progress>\n",
       "      [1000/1000 07:16, Epoch 0/1]\n",
       "    </div>\n",
       "    <table border=\"1\" class=\"dataframe\">\n",
       "  <thead>\n",
       " <tr style=\"text-align: left;\">\n",
       "      <th>Step</th>\n",
       "      <th>Training Loss</th>\n",
       "    </tr>\n",
       "  </thead>\n",
       "  <tbody>\n",
       "    <tr>\n",
       "      <td>500</td>\n",
       "      <td>0.032400</td>\n",
       "    </tr>\n",
       "    <tr>\n",
       "      <td>1000</td>\n",
       "      <td>0.000500</td>\n",
       "    </tr>\n",
       "  </tbody>\n",
       "</table><p>"
      ],
      "text/plain": [
       "<IPython.core.display.HTML object>"
      ]
     },
     "metadata": {},
     "output_type": "display_data"
    },
    {
     "name": "stderr",
     "output_type": "stream",
     "text": [
      "Saving model checkpoint to output/checkpoint-1000\n"
     ]
    },
    {
     "name": "stderr",
     "output_type": "stream",
     "text": [
      "Configuration saved in output/checkpoint-1000/config.json\n"
     ]
    },
    {
     "name": "stderr",
     "output_type": "stream",
     "text": [
      "Model weights saved in output/checkpoint-1000/pytorch_model.bin\n"
     ]
    },
    {
     "name": "stderr",
     "output_type": "stream",
     "text": [
      "tokenizer config file saved in output/checkpoint-1000/tokenizer_config.json\n"
     ]
    },
    {
     "name": "stderr",
     "output_type": "stream",
     "text": [
      "Special tokens file saved in output/checkpoint-1000/special_tokens_map.json\n"
     ]
    },
    {
     "name": "stderr",
     "output_type": "stream",
     "text": [
      "\n",
      "\n",
      "Training completed. Do not forget to share your model on huggingface.co/models =)\n",
      "\n",
      "\n"
     ]
    }
   ],
   "source": [
    "train_result = trainer.train()"
   ]
  },
  {
   "cell_type": "code",
   "execution_count": 15,
   "id": "3bcfcc8a",
   "metadata": {
    "execution": {
     "iopub.execute_input": "2022-04-15T09:52:14.529622Z",
     "iopub.status.busy": "2022-04-15T09:52:14.529410Z",
     "iopub.status.idle": "2022-04-15T09:52:14.674983Z",
     "shell.execute_reply": "2022-04-15T09:52:14.674325Z"
    },
    "papermill": {
     "duration": 0.346525,
     "end_time": "2022-04-15T09:52:14.676314",
     "exception": false,
     "start_time": "2022-04-15T09:52:14.329789",
     "status": "completed"
    },
    "tags": []
   },
   "outputs": [],
   "source": [
    "import pandas as pd\n",
    "\n",
    "pd.DataFrame(trainer.state.log_history).to_csv(f'logs/cl-distilled_tuning_v1_ms{max_steps}_fp16.csv', index=False)"
   ]
  },
  {
   "cell_type": "markdown",
   "id": "1b87cb11",
   "metadata": {
    "papermill": {
     "duration": 0.21424,
     "end_time": "2022-04-15T09:52:15.070606",
     "exception": false,
     "start_time": "2022-04-15T09:52:14.856366",
     "status": "completed"
    },
    "tags": []
   },
   "source": [
    "## 4. Evaluate DistilBert CL Model performance"
   ]
  },
  {
   "cell_type": "code",
   "execution_count": 16,
   "id": "fa2140d3",
   "metadata": {
    "execution": {
     "iopub.execute_input": "2022-04-15T09:52:15.468521Z",
     "iopub.status.busy": "2022-04-15T09:52:15.468302Z",
     "iopub.status.idle": "2022-04-15T09:52:38.178524Z",
     "shell.execute_reply": "2022-04-15T09:52:38.178106Z"
    },
    "papermill": {
     "duration": 22.888587,
     "end_time": "2022-04-15T09:52:38.179805",
     "exception": false,
     "start_time": "2022-04-15T09:52:15.291218",
     "status": "completed"
    },
    "tags": []
   },
   "outputs": [
    {
     "name": "stderr",
     "output_type": "stream",
     "text": [
      "/opt/conda/lib/python3.8/site-packages/SentEval-0.1.0-py3.8.egg/senteval/sts.py:42: VisibleDeprecationWarning: Creating an ndarray from ragged nested sequences (which is a list-or-tuple of lists-or-tuples-or ndarrays with different lengths or shapes) is deprecated. If you meant to do this, you must specify 'dtype=object' when creating the ndarray.\n",
      "/opt/conda/lib/python3.8/site-packages/SentEval-0.1.0-py3.8.egg/senteval/sts.py:43: VisibleDeprecationWarning: Creating an ndarray from ragged nested sequences (which is a list-or-tuple of lists-or-tuples-or ndarrays with different lengths or shapes) is deprecated. If you meant to do this, you must specify 'dtype=object' when creating the ndarray.\n"
     ]
    },
    {
     "name": "stdout",
     "output_type": "stream",
     "text": [
      "STS12:  0.5407289010679168\n",
      "STS13:  0.6666909768155311\n",
      "STS14:  0.6044403029706388\n",
      "STS15:  0.7144256784695119\n",
      "STSB:  0.6796233036764152\n"
     ]
    },
    {
     "data": {
      "text/plain": [
       "{'STSBenchmark': {'train': {'pearson': (0.700063484887882, 0.0),\n",
       "   'spearman': SpearmanrResult(correlation=0.6666819961492476, pvalue=0.0),\n",
       "   'nsamples': 5749},\n",
       "  'dev': {'pearson': (0.7130916759987957, 2.5821303252517187e-233),\n",
       "   'spearman': SpearmanrResult(correlation=0.7224116384712335, pvalue=2.6864423381057655e-242),\n",
       "   'nsamples': 1500},\n",
       "  'test': {'pearson': (0.6894821014343427, 4.0135179400020945e-195),\n",
       "   'spearman': SpearmanrResult(correlation=0.6796233036764152, pvalue=1.605793525801543e-187),\n",
       "   'nsamples': 1379},\n",
       "  'all': {'pearson': {'all': 0.6979013473354336,\n",
       "    'mean': 0.7008790874403402,\n",
       "    'wmean': 0.700637263154449},\n",
       "   'spearman': {'all': 0.6837654437857326,\n",
       "    'mean': 0.6895723127656321,\n",
       "    'wmean': 0.678439127183432}}},\n",
       " 'STS12': {'MSRpar': {'pearson': (0.41386836022273976, 2.1299669382728877e-32),\n",
       "   'spearman': SpearmanrResult(correlation=0.45355855852539884, pvalue=2.495095103581656e-39),\n",
       "   'nsamples': 750},\n",
       "  'MSRvid': {'pearson': (0.7473680757756708, 5.93219731270852e-135),\n",
       "   'spearman': SpearmanrResult(correlation=0.7496808087286029, pvalue=3.1112177003069703e-136),\n",
       "   'nsamples': 750},\n",
       "  'SMTeuroparl': {'pearson': (0.5358297609604514, 1.8011659528707037e-35),\n",
       "   'spearman': SpearmanrResult(correlation=0.608519194669933, pvalue=7.737779623453295e-48),\n",
       "   'nsamples': 459},\n",
       "  'surprise.OnWN': {'pearson': (0.6966435535683403, 5.477943482532533e-110),\n",
       "   'spearman': SpearmanrResult(correlation=0.6791558284197837, pvalue=1.47995712035815e-102),\n",
       "   'nsamples': 750},\n",
       "  'surprise.SMTnews': {'pearson': (0.5875489781697998, 2.1229541291031772e-38),\n",
       "   'spearman': SpearmanrResult(correlation=0.5210804685852044, pvalue=3.73094807645847e-29),\n",
       "   'nsamples': 399},\n",
       "  'all': {'pearson': {'all': 0.5726279989061526,\n",
       "    'mean': 0.5962517457394003,\n",
       "    'wmean': 0.6028918580262743},\n",
       "   'spearman': {'all': 0.5407289010679168,\n",
       "    'mean': 0.6023989717857845,\n",
       "    'wmean': 0.6110095926880099}}},\n",
       " 'STS13': {'FNWN': {'pearson': (0.5819655756433507, 1.6010769603501926e-18),\n",
       "   'spearman': SpearmanrResult(correlation=0.5993560548465205, pvalue=8.138536208334307e-20),\n",
       "   'nsamples': 189},\n",
       "  'headlines': {'pearson': (0.7068609202774415, 1.3886922608754766e-114),\n",
       "   'spearman': SpearmanrResult(correlation=0.6996626914226465, pvalue=2.517047414923271e-111),\n",
       "   'nsamples': 750},\n",
       "  'OnWN': {'pearson': (0.6007894630410981, 2.4850153258935193e-56),\n",
       "   'spearman': SpearmanrResult(correlation=0.6180873144463325, pvalue=2.045286309341782e-60),\n",
       "   'nsamples': 561},\n",
       "  'all': {'pearson': {'all': 0.6506185079818793,\n",
       "    'mean': 0.6298719863206301,\n",
       "    'wmean': 0.6514533818471537},\n",
       "   'spearman': {'all': 0.6666909768155311,\n",
       "    'mean': 0.6390353535718333,\n",
       "    'wmean': 0.6565148642249131}}},\n",
       " 'STS14': {'deft-forum': {'pearson': (0.46376794615082634,\n",
       "    2.2238478841767834e-25),\n",
       "   'spearman': SpearmanrResult(correlation=0.4596703646391117, pvalue=6.587533822292616e-25),\n",
       "   'nsamples': 450},\n",
       "  'deft-news': {'pearson': (0.768387087437341, 1.0388774504958517e-59),\n",
       "   'spearman': SpearmanrResult(correlation=0.750530392869836, pvalue=1.4993104875393974e-55),\n",
       "   'nsamples': 300},\n",
       "  'headlines': {'pearson': (0.6756709308639129, 3.888005498572473e-101),\n",
       "   'spearman': SpearmanrResult(correlation=0.6222706950350291, pvalue=1.3232751203266464e-81),\n",
       "   'nsamples': 750},\n",
       "  'images': {'pearson': (0.739509641673907, 1.049876786254174e-130),\n",
       "   'spearman': SpearmanrResult(correlation=0.7062406746937434, pvalue=2.6746180910299254e-114),\n",
       "   'nsamples': 750},\n",
       "  'OnWN': {'pearson': (0.7460378627844121, 3.1863014838209456e-134),\n",
       "   'spearman': SpearmanrResult(correlation=0.770212955905643, pvalue=2.986284271124257e-148),\n",
       "   'nsamples': 750},\n",
       "  'tweet-news': {'pearson': (0.740267283216821, 4.152568431560485e-131),\n",
       "   'spearman': SpearmanrResult(correlation=0.6560119642662322, pvalue=1.7543461934486641e-93),\n",
       "   'nsamples': 750},\n",
       "  'all': {'pearson': {'all': 0.6347482732159359,\n",
       "    'mean': 0.6889401253545367,\n",
       "    'wmean': 0.6974202642408971},\n",
       "   'spearman': {'all': 0.6044403029706388,\n",
       "    'mean': 0.6608228412349325,\n",
       "    'wmean': 0.6661501331664098}}},\n",
       " 'STS15': {'answers-forums': {'pearson': (0.6812647140175957,\n",
       "    1.7865121528338385e-52),\n",
       "   'spearman': SpearmanrResult(correlation=0.6790986732334193, pvalue=4.9833425656987124e-52),\n",
       "   'nsamples': 375},\n",
       "  'answers-students': {'pearson': (0.6610987068282901, 2.085048892058219e-95),\n",
       "   'spearman': SpearmanrResult(correlation=0.6556957801074087, pvalue=2.304290355877957e-93),\n",
       "   'nsamples': 750},\n",
       "  'belief': {'pearson': (0.7658278929583655, 1.603356696814948e-73),\n",
       "   'spearman': SpearmanrResult(correlation=0.7807805688454, pvalue=3.4301282181490167e-78),\n",
       "   'nsamples': 375},\n",
       "  'headlines': {'pearson': (0.739482983281745, 1.0846419486129561e-130),\n",
       "   'spearman': SpearmanrResult(correlation=0.7286686651619148, pvalue=4.315031347872542e-125),\n",
       "   'nsamples': 750},\n",
       "  'images': {'pearson': (0.8085224890799694, 2.032528779863052e-174),\n",
       "   'spearman': SpearmanrResult(correlation=0.8173552468416109, pvalue=2.6529875032230425e-181),\n",
       "   'nsamples': 750},\n",
       "  'all': {'pearson': {'all': 0.7081755868219283,\n",
       "    'mean': 0.7312393572331932,\n",
       "    'wmean': 0.7331626206694962},\n",
       "   'spearman': {'all': 0.7144256784695119,\n",
       "    'mean': 0.7323197868379507,\n",
       "    'wmean': 0.7329148282875859}}}}"
      ]
     },
     "execution_count": 16,
     "metadata": {},
     "output_type": "execute_result"
    }
   ],
   "source": [
    "model.eval()\n",
    "\n",
    "results = evaluate_model()\n",
    "results"
   ]
  }
 ],
 "metadata": {
  "celltoolbar": "Tags",
  "kernelspec": {
   "display_name": "Python 3 (ipykernel)",
   "language": "python",
   "name": "python3"
  },
  "language_info": {
   "codemirror_mode": {
    "name": "ipython",
    "version": 3
   },
   "file_extension": ".py",
   "mimetype": "text/x-python",
   "name": "python",
   "nbconvert_exporter": "python",
   "pygments_lexer": "ipython3",
   "version": "3.8.12"
  },
  "papermill": {
   "default_parameters": {},
   "duration": 486.038507,
   "end_time": "2022-04-15T09:52:39.920116",
   "environment_variables": {},
   "exception": null,
   "input_path": "notebooks/training/cl-distilbert_tuning_v1.ipynb",
   "output_path": "notebooks/training/cl-distilbert_tuning_v1_ms1000.ipynb",
   "parameters": {
    "max_steps": 1000
   },
   "start_time": "2022-04-15T09:44:33.881609",
   "version": "2.3.4"
  },
  "toc": {
   "base_numbering": 1,
   "nav_menu": {},
   "number_sections": false,
   "sideBar": true,
   "skip_h1_title": false,
   "title_cell": "Table of Contents",
   "title_sidebar": "Contents",
   "toc_cell": false,
   "toc_position": {},
   "toc_section_display": true,
   "toc_window_display": false
  },
  "widgets": {
   "application/vnd.jupyter.widget-state+json": {
    "state": {
     "07ff879952144c2c8c3d1f6e24fd6c47": {
      "model_module": "@jupyter-widgets/controls",
      "model_module_version": "1.5.0",
      "model_name": "HTMLModel",
      "state": {
       "_dom_classes": [],
       "_model_module": "@jupyter-widgets/controls",
       "_model_module_version": "1.5.0",
       "_model_name": "HTMLModel",
       "_view_count": null,
       "_view_module": "@jupyter-widgets/controls",
       "_view_module_version": "1.5.0",
       "_view_name": "HTMLView",
       "description": "",
       "description_tooltip": null,
       "layout": "IPY_MODEL_b9a3d288b9444031ada902d552366811",
       "placeholder": "​",
       "style": "IPY_MODEL_cc46477e40a646c08dfed49dc0494956",
       "value": "100%"
      }
     },
     "0f2b34a8e8a34b39a9b114f8aaed67f4": {
      "model_module": "@jupyter-widgets/controls",
      "model_module_version": "1.5.0",
      "model_name": "FloatProgressModel",
      "state": {
       "_dom_classes": [],
       "_model_module": "@jupyter-widgets/controls",
       "_model_module_version": "1.5.0",
       "_model_name": "FloatProgressModel",
       "_view_count": null,
       "_view_module": "@jupyter-widgets/controls",
       "_view_module_version": "1.5.0",
       "_view_name": "ProgressView",
       "bar_style": "success",
       "description": "",
       "description_tooltip": null,
       "layout": "IPY_MODEL_68957138fea344cfad5ad6087bac1de3",
       "max": 1,
       "min": 0,
       "orientation": "horizontal",
       "style": "IPY_MODEL_6e45f0f3152a444da635902b07013c0d",
       "value": 1
      }
     },
     "0f7b88a0b584413d86d34f958c622fc2": {
      "model_module": "@jupyter-widgets/base",
      "model_module_version": "1.2.0",
      "model_name": "LayoutModel",
      "state": {
       "_model_module": "@jupyter-widgets/base",
       "_model_module_version": "1.2.0",
       "_model_name": "LayoutModel",
       "_view_count": null,
       "_view_module": "@jupyter-widgets/base",
       "_view_module_version": "1.2.0",
       "_view_name": "LayoutView",
       "align_content": null,
       "align_items": null,
       "align_self": null,
       "border": null,
       "bottom": null,
       "display": null,
       "flex": null,
       "flex_flow": null,
       "grid_area": null,
       "grid_auto_columns": null,
       "grid_auto_flow": null,
       "grid_auto_rows": null,
       "grid_column": null,
       "grid_gap": null,
       "grid_row": null,
       "grid_template_areas": null,
       "grid_template_columns": null,
       "grid_template_rows": null,
       "height": null,
       "justify_content": null,
       "justify_items": null,
       "left": null,
       "margin": null,
       "max_height": null,
       "max_width": null,
       "min_height": null,
       "min_width": null,
       "object_fit": null,
       "object_position": null,
       "order": null,
       "overflow": null,
       "overflow_x": null,
       "overflow_y": null,
       "padding": null,
       "right": null,
       "top": null,
       "visibility": null,
       "width": null
      }
     },
     "3bc22f347c9a46b19791530fbc6d9933": {
      "model_module": "@jupyter-widgets/controls",
      "model_module_version": "1.5.0",
      "model_name": "HBoxModel",
      "state": {
       "_dom_classes": [],
       "_model_module": "@jupyter-widgets/controls",
       "_model_module_version": "1.5.0",
       "_model_name": "HBoxModel",
       "_view_count": null,
       "_view_module": "@jupyter-widgets/controls",
       "_view_module_version": "1.5.0",
       "_view_name": "HBoxView",
       "box_style": "",
       "children": [
        "IPY_MODEL_07ff879952144c2c8c3d1f6e24fd6c47",
        "IPY_MODEL_0f2b34a8e8a34b39a9b114f8aaed67f4",
        "IPY_MODEL_8e1a5a4a20f44e96b6cd0263805b8bc7"
       ],
       "layout": "IPY_MODEL_61d4f72805064567ae3339e36f6a6500"
      }
     },
     "61d4f72805064567ae3339e36f6a6500": {
      "model_module": "@jupyter-widgets/base",
      "model_module_version": "1.2.0",
      "model_name": "LayoutModel",
      "state": {
       "_model_module": "@jupyter-widgets/base",
       "_model_module_version": "1.2.0",
       "_model_name": "LayoutModel",
       "_view_count": null,
       "_view_module": "@jupyter-widgets/base",
       "_view_module_version": "1.2.0",
       "_view_name": "LayoutView",
       "align_content": null,
       "align_items": null,
       "align_self": null,
       "border": null,
       "bottom": null,
       "display": null,
       "flex": null,
       "flex_flow": null,
       "grid_area": null,
       "grid_auto_columns": null,
       "grid_auto_flow": null,
       "grid_auto_rows": null,
       "grid_column": null,
       "grid_gap": null,
       "grid_row": null,
       "grid_template_areas": null,
       "grid_template_columns": null,
       "grid_template_rows": null,
       "height": null,
       "justify_content": null,
       "justify_items": null,
       "left": null,
       "margin": null,
       "max_height": null,
       "max_width": null,
       "min_height": null,
       "min_width": null,
       "object_fit": null,
       "object_position": null,
       "order": null,
       "overflow": null,
       "overflow_x": null,
       "overflow_y": null,
       "padding": null,
       "right": null,
       "top": null,
       "visibility": null,
       "width": null
      }
     },
     "68957138fea344cfad5ad6087bac1de3": {
      "model_module": "@jupyter-widgets/base",
      "model_module_version": "1.2.0",
      "model_name": "LayoutModel",
      "state": {
       "_model_module": "@jupyter-widgets/base",
       "_model_module_version": "1.2.0",
       "_model_name": "LayoutModel",
       "_view_count": null,
       "_view_module": "@jupyter-widgets/base",
       "_view_module_version": "1.2.0",
       "_view_name": "LayoutView",
       "align_content": null,
       "align_items": null,
       "align_self": null,
       "border": null,
       "bottom": null,
       "display": null,
       "flex": null,
       "flex_flow": null,
       "grid_area": null,
       "grid_auto_columns": null,
       "grid_auto_flow": null,
       "grid_auto_rows": null,
       "grid_column": null,
       "grid_gap": null,
       "grid_row": null,
       "grid_template_areas": null,
       "grid_template_columns": null,
       "grid_template_rows": null,
       "height": null,
       "justify_content": null,
       "justify_items": null,
       "left": null,
       "margin": null,
       "max_height": null,
       "max_width": null,
       "min_height": null,
       "min_width": null,
       "object_fit": null,
       "object_position": null,
       "order": null,
       "overflow": null,
       "overflow_x": null,
       "overflow_y": null,
       "padding": null,
       "right": null,
       "top": null,
       "visibility": null,
       "width": null
      }
     },
     "6e45f0f3152a444da635902b07013c0d": {
      "model_module": "@jupyter-widgets/controls",
      "model_module_version": "1.5.0",
      "model_name": "ProgressStyleModel",
      "state": {
       "_model_module": "@jupyter-widgets/controls",
       "_model_module_version": "1.5.0",
       "_model_name": "ProgressStyleModel",
       "_view_count": null,
       "_view_module": "@jupyter-widgets/base",
       "_view_module_version": "1.2.0",
       "_view_name": "StyleView",
       "bar_color": null,
       "description_width": ""
      }
     },
     "8e1a5a4a20f44e96b6cd0263805b8bc7": {
      "model_module": "@jupyter-widgets/controls",
      "model_module_version": "1.5.0",
      "model_name": "HTMLModel",
      "state": {
       "_dom_classes": [],
       "_model_module": "@jupyter-widgets/controls",
       "_model_module_version": "1.5.0",
       "_model_name": "HTMLModel",
       "_view_count": null,
       "_view_module": "@jupyter-widgets/controls",
       "_view_module_version": "1.5.0",
       "_view_name": "HTMLView",
       "description": "",
       "description_tooltip": null,
       "layout": "IPY_MODEL_0f7b88a0b584413d86d34f958c622fc2",
       "placeholder": "​",
       "style": "IPY_MODEL_dbe4649100b0404c8c74755955dc78b3",
       "value": " 1/1 [00:00&lt;00:00, 48.55it/s]"
      }
     },
     "b9a3d288b9444031ada902d552366811": {
      "model_module": "@jupyter-widgets/base",
      "model_module_version": "1.2.0",
      "model_name": "LayoutModel",
      "state": {
       "_model_module": "@jupyter-widgets/base",
       "_model_module_version": "1.2.0",
       "_model_name": "LayoutModel",
       "_view_count": null,
       "_view_module": "@jupyter-widgets/base",
       "_view_module_version": "1.2.0",
       "_view_name": "LayoutView",
       "align_content": null,
       "align_items": null,
       "align_self": null,
       "border": null,
       "bottom": null,
       "display": null,
       "flex": null,
       "flex_flow": null,
       "grid_area": null,
       "grid_auto_columns": null,
       "grid_auto_flow": null,
       "grid_auto_rows": null,
       "grid_column": null,
       "grid_gap": null,
       "grid_row": null,
       "grid_template_areas": null,
       "grid_template_columns": null,
       "grid_template_rows": null,
       "height": null,
       "justify_content": null,
       "justify_items": null,
       "left": null,
       "margin": null,
       "max_height": null,
       "max_width": null,
       "min_height": null,
       "min_width": null,
       "object_fit": null,
       "object_position": null,
       "order": null,
       "overflow": null,
       "overflow_x": null,
       "overflow_y": null,
       "padding": null,
       "right": null,
       "top": null,
       "visibility": null,
       "width": null
      }
     },
     "cc46477e40a646c08dfed49dc0494956": {
      "model_module": "@jupyter-widgets/controls",
      "model_module_version": "1.5.0",
      "model_name": "DescriptionStyleModel",
      "state": {
       "_model_module": "@jupyter-widgets/controls",
       "_model_module_version": "1.5.0",
       "_model_name": "DescriptionStyleModel",
       "_view_count": null,
       "_view_module": "@jupyter-widgets/base",
       "_view_module_version": "1.2.0",
       "_view_name": "StyleView",
       "description_width": ""
      }
     },
     "dbe4649100b0404c8c74755955dc78b3": {
      "model_module": "@jupyter-widgets/controls",
      "model_module_version": "1.5.0",
      "model_name": "DescriptionStyleModel",
      "state": {
       "_model_module": "@jupyter-widgets/controls",
       "_model_module_version": "1.5.0",
       "_model_name": "DescriptionStyleModel",
       "_view_count": null,
       "_view_module": "@jupyter-widgets/base",
       "_view_module_version": "1.2.0",
       "_view_name": "StyleView",
       "description_width": ""
      }
     }
    },
    "version_major": 2,
    "version_minor": 0
   }
  }
 },
 "nbformat": 4,
 "nbformat_minor": 5
}
