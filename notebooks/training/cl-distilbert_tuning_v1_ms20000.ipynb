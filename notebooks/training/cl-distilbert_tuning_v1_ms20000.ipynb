{
 "cells": [
  {
   "cell_type": "markdown",
   "id": "71980e51",
   "metadata": {
    "papermill": {
     "duration": 0.240165,
     "end_time": "2022-04-15T16:21:39.533834",
     "exception": false,
     "start_time": "2022-04-15T16:21:39.293669",
     "status": "completed"
    },
    "tags": []
   },
   "source": [
    "# Contrastive Learning From Scratch - DistilBERT\n",
    "\n",
    "An attempt to build contrastive learning model from scratch. Parts include:\n",
    "\n",
    "- Loading and preparing Wiki-1M data for model input\n",
    "- Contrastive learning model\n",
    "  - Forward passing using pre-trained model\n",
    "  - Constrastive layer\n",
    "  - Calculate loss\n",
    "- Training procedure\n",
    "  - Default trainer optimizer\n",
    "  - Default trainer hyper-parameters"
   ]
  },
  {
   "cell_type": "code",
   "execution_count": 1,
   "id": "c8d3e2ec",
   "metadata": {
    "execution": {
     "iopub.execute_input": "2022-04-15T16:21:39.885591Z",
     "iopub.status.busy": "2022-04-15T16:21:39.885298Z",
     "iopub.status.idle": "2022-04-15T16:21:39.906277Z",
     "shell.execute_reply": "2022-04-15T16:21:39.905555Z"
    },
    "papermill": {
     "duration": 0.24505,
     "end_time": "2022-04-15T16:21:39.907683",
     "exception": false,
     "start_time": "2022-04-15T16:21:39.662633",
     "status": "completed"
    },
    "tags": []
   },
   "outputs": [
    {
     "name": "stdout",
     "output_type": "stream",
     "text": [
      "/notebooks/contrastive-learning-in-distilled-models\n"
     ]
    }
   ],
   "source": [
    "import os\n",
    "\n",
    "# Set Project home\n",
    "PROJECT_HOME = os.path.join('/',\n",
    "                            'notebooks',\n",
    "                            'contrastive-learning-in-distilled-models')\n",
    "%cd {PROJECT_HOME}\n",
    "\n",
    "# Load project code\n",
    "%reload_ext autoreload\n",
    "%autoreload 2\n",
    "\n",
    "import sys\n",
    "sys.path.insert(0, f'{PROJECT_HOME}/src')\n",
    "\n",
    "import distilface"
   ]
  },
  {
   "cell_type": "code",
   "execution_count": 2,
   "id": "ec045245",
   "metadata": {
    "execution": {
     "iopub.execute_input": "2022-04-15T16:21:40.358459Z",
     "iopub.status.busy": "2022-04-15T16:21:40.358271Z",
     "iopub.status.idle": "2022-04-15T16:21:41.294243Z",
     "shell.execute_reply": "2022-04-15T16:21:41.293274Z"
    },
    "papermill": {
     "duration": 1.156794,
     "end_time": "2022-04-15T16:21:41.296346",
     "exception": false,
     "start_time": "2022-04-15T16:21:40.139552",
     "status": "completed"
    },
    "tags": []
   },
   "outputs": [],
   "source": [
    "def seed_everything(seed: int):\n",
    "    import random, os\n",
    "    import numpy as np\n",
    "    import torch\n",
    "    \n",
    "    random.seed(seed)\n",
    "    os.environ['PYTHONHASHSEED'] = str(seed)\n",
    "    np.random.seed(seed)\n",
    "    torch.manual_seed(seed)\n",
    "    torch.cuda.manual_seed(seed)\n",
    "    torch.backends.cudnn.deterministic = True\n",
    "    torch.backends.cudnn.benchmark = True\n",
    "    \n",
    "seed_everything(42)"
   ]
  },
  {
   "cell_type": "code",
   "execution_count": 3,
   "id": "fb9bfc4f",
   "metadata": {
    "execution": {
     "iopub.execute_input": "2022-04-15T16:21:41.650733Z",
     "iopub.status.busy": "2022-04-15T16:21:41.650499Z",
     "iopub.status.idle": "2022-04-15T16:21:41.668108Z",
     "shell.execute_reply": "2022-04-15T16:21:41.667506Z"
    },
    "papermill": {
     "duration": 0.151782,
     "end_time": "2022-04-15T16:21:41.669474",
     "exception": false,
     "start_time": "2022-04-15T16:21:41.517692",
     "status": "completed"
    },
    "tags": [
     "parameters"
    ]
   },
   "outputs": [],
   "source": [
    "# Hyperparameters\n",
    "\n",
    "pooling_method = 'avg_last4'\n",
    "batch_size = 128\n",
    "learning_rate = 1e-5\n",
    "epochs = 1\n",
    "max_steps = 30_000\n",
    "temperature = 0.05\n",
    "max_len = 32\n",
    "fp16 = False"
   ]
  },
  {
   "cell_type": "code",
   "execution_count": 4,
   "id": "24f61c5d",
   "metadata": {
    "execution": {
     "iopub.execute_input": "2022-04-15T16:21:42.092908Z",
     "iopub.status.busy": "2022-04-15T16:21:42.092679Z",
     "iopub.status.idle": "2022-04-15T16:21:42.110331Z",
     "shell.execute_reply": "2022-04-15T16:21:42.109451Z"
    },
    "papermill": {
     "duration": 0.272139,
     "end_time": "2022-04-15T16:21:42.111762",
     "exception": false,
     "start_time": "2022-04-15T16:21:41.839623",
     "status": "completed"
    },
    "tags": [
     "injected-parameters"
    ]
   },
   "outputs": [],
   "source": [
    "# Parameters\n",
    "max_steps = 20000\n"
   ]
  },
  {
   "cell_type": "markdown",
   "id": "14097624",
   "metadata": {
    "papermill": {
     "duration": 0.139541,
     "end_time": "2022-04-15T16:21:42.481822",
     "exception": false,
     "start_time": "2022-04-15T16:21:42.342281",
     "status": "completed"
    },
    "tags": []
   },
   "source": [
    "## 1. Loading and Preparing Wiki-1M data\n",
    "\n",
    "Use huggingface `datasets` library to load local file data."
   ]
  },
  {
   "cell_type": "code",
   "execution_count": 5,
   "id": "d5a42743",
   "metadata": {
    "execution": {
     "iopub.execute_input": "2022-04-15T16:21:42.772281Z",
     "iopub.status.busy": "2022-04-15T16:21:42.772056Z",
     "iopub.status.idle": "2022-04-15T16:21:43.286009Z",
     "shell.execute_reply": "2022-04-15T16:21:43.284953Z"
    },
    "papermill": {
     "duration": 0.640047,
     "end_time": "2022-04-15T16:21:43.287290",
     "exception": false,
     "start_time": "2022-04-15T16:21:42.647243",
     "status": "completed"
    },
    "tags": []
   },
   "outputs": [
    {
     "name": "stderr",
     "output_type": "stream",
     "text": [
      "Using custom data configuration default-235a9b97f9ebd10e\n"
     ]
    },
    {
     "name": "stderr",
     "output_type": "stream",
     "text": [
      "Reusing dataset text (./data/text/default-235a9b97f9ebd10e/0.0.0/4b86d314f7236db91f0a0f5cda32d4375445e64c5eda2692655dd99c2dac68e8)\n"
     ]
    },
    {
     "data": {
      "application/vnd.jupyter.widget-view+json": {
       "model_id": "8413eb813370435f9840388be1f587b8",
       "version_major": 2,
       "version_minor": 0
      },
      "text/plain": [
       "  0%|          | 0/1 [00:00<?, ?it/s]"
      ]
     },
     "metadata": {},
     "output_type": "display_data"
    }
   ],
   "source": [
    "import numpy as np\n",
    "\n",
    "from datasets import load_dataset\n",
    "\n",
    "data_files = {'train': 'data/training/wiki1m_for_simcse.txt'}\n",
    "# data_files = {'train': 'data/training/wiki5k.txt'}\n",
    "datasets = load_dataset('text', data_files=data_files, cache_dir='./data/')"
   ]
  },
  {
   "cell_type": "code",
   "execution_count": 6,
   "id": "ccddb4f0",
   "metadata": {
    "execution": {
     "iopub.execute_input": "2022-04-15T16:21:43.682128Z",
     "iopub.status.busy": "2022-04-15T16:21:43.681402Z",
     "iopub.status.idle": "2022-04-15T16:21:43.703240Z",
     "shell.execute_reply": "2022-04-15T16:21:43.702494Z"
    },
    "papermill": {
     "duration": 0.196392,
     "end_time": "2022-04-15T16:21:43.704994",
     "exception": false,
     "start_time": "2022-04-15T16:21:43.508602",
     "status": "completed"
    },
    "tags": []
   },
   "outputs": [],
   "source": [
    "# Unsupervised / Self-supervised dataset\n",
    "\n",
    "column_names = datasets[\"train\"].column_names\n",
    "sent0_cname = column_names[0]\n",
    "sent1_cname = column_names[0]"
   ]
  },
  {
   "cell_type": "code",
   "execution_count": 7,
   "id": "836ac994",
   "metadata": {
    "execution": {
     "iopub.execute_input": "2022-04-15T16:21:43.971255Z",
     "iopub.status.busy": "2022-04-15T16:21:43.971049Z",
     "iopub.status.idle": "2022-04-15T16:21:44.789140Z",
     "shell.execute_reply": "2022-04-15T16:21:44.788610Z"
    },
    "papermill": {
     "duration": 0.95531,
     "end_time": "2022-04-15T16:21:44.790912",
     "exception": false,
     "start_time": "2022-04-15T16:21:43.835602",
     "status": "completed"
    },
    "tags": []
   },
   "outputs": [],
   "source": [
    "from transformers import AutoTokenizer\n",
    "\n",
    "tokenizer = AutoTokenizer.from_pretrained('distilbert-base-uncased')"
   ]
  },
  {
   "cell_type": "code",
   "execution_count": 8,
   "id": "586ee4e9",
   "metadata": {
    "execution": {
     "iopub.execute_input": "2022-04-15T16:21:45.135353Z",
     "iopub.status.busy": "2022-04-15T16:21:45.134751Z",
     "iopub.status.idle": "2022-04-15T16:21:45.159531Z",
     "shell.execute_reply": "2022-04-15T16:21:45.159116Z"
    },
    "papermill": {
     "duration": 0.235379,
     "end_time": "2022-04-15T16:21:45.160831",
     "exception": false,
     "start_time": "2022-04-15T16:21:44.925452",
     "status": "completed"
    },
    "tags": []
   },
   "outputs": [],
   "source": [
    "def prepare_features(examples):\n",
    "    total = len(examples[sent0_cname])\n",
    "\n",
    "    # Avoid \"None\" fields \n",
    "    for idx in range(total):\n",
    "        if examples[sent0_cname][idx] is None:\n",
    "            examples[sent0_cname][idx] = \" \"\n",
    "        if examples[sent1_cname][idx] is None:\n",
    "            examples[sent1_cname][idx] = \" \"\n",
    "\n",
    "    sentences = examples[sent0_cname] + examples[sent1_cname]\n",
    "\n",
    "    sent_features = tokenizer(\n",
    "        sentences,\n",
    "        max_length=max_len,\n",
    "        truncation=True,\n",
    "        padding=True,\n",
    "    )\n",
    "\n",
    "    features = {}\n",
    "    for key in sent_features:\n",
    "        features[key] = [[sent_features[key][i], sent_features[key][i+total]] for i in range(total)]\n",
    "\n",
    "    return features"
   ]
  },
  {
   "cell_type": "code",
   "execution_count": 9,
   "id": "09ae9688",
   "metadata": {
    "execution": {
     "iopub.execute_input": "2022-04-15T16:21:45.543811Z",
     "iopub.status.busy": "2022-04-15T16:21:45.543199Z",
     "iopub.status.idle": "2022-04-15T16:21:45.587115Z",
     "shell.execute_reply": "2022-04-15T16:21:45.586673Z"
    },
    "papermill": {
     "duration": 0.187833,
     "end_time": "2022-04-15T16:21:45.588469",
     "exception": false,
     "start_time": "2022-04-15T16:21:45.400636",
     "status": "completed"
    },
    "tags": []
   },
   "outputs": [
    {
     "name": "stderr",
     "output_type": "stream",
     "text": [
      "Loading cached processed dataset at ./data/text/default-235a9b97f9ebd10e/0.0.0/4b86d314f7236db91f0a0f5cda32d4375445e64c5eda2692655dd99c2dac68e8/cache-305eab4ce3c7d88c.arrow\n"
     ]
    }
   ],
   "source": [
    "train_dataset = datasets[\"train\"].map(prepare_features,\n",
    "                                      batched=True,\n",
    "                                    #   num_proc=24,\n",
    "                                      remove_columns=column_names)"
   ]
  },
  {
   "cell_type": "code",
   "execution_count": 10,
   "id": "f35bdc2a",
   "metadata": {
    "execution": {
     "iopub.execute_input": "2022-04-15T16:21:45.855619Z",
     "iopub.status.busy": "2022-04-15T16:21:45.854962Z",
     "iopub.status.idle": "2022-04-15T16:21:45.880517Z",
     "shell.execute_reply": "2022-04-15T16:21:45.880134Z"
    },
    "papermill": {
     "duration": 0.158906,
     "end_time": "2022-04-15T16:21:45.881716",
     "exception": false,
     "start_time": "2022-04-15T16:21:45.722810",
     "status": "completed"
    },
    "tags": []
   },
   "outputs": [
    {
     "data": {
      "text/plain": [
       "1000000"
      ]
     },
     "execution_count": 10,
     "metadata": {},
     "output_type": "execute_result"
    }
   ],
   "source": [
    "train_dataset.num_rows"
   ]
  },
  {
   "cell_type": "markdown",
   "id": "077c421a",
   "metadata": {
    "papermill": {
     "duration": 0.158396,
     "end_time": "2022-04-15T16:21:46.179107",
     "exception": false,
     "start_time": "2022-04-15T16:21:46.020711",
     "status": "completed"
    },
    "tags": []
   },
   "source": [
    "## 2. Contrastive Learning Model"
   ]
  },
  {
   "cell_type": "code",
   "execution_count": 11,
   "id": "b2915454",
   "metadata": {
    "execution": {
     "iopub.execute_input": "2022-04-15T16:21:46.562151Z",
     "iopub.status.busy": "2022-04-15T16:21:46.561492Z",
     "iopub.status.idle": "2022-04-15T16:21:50.666458Z",
     "shell.execute_reply": "2022-04-15T16:21:50.665584Z"
    },
    "papermill": {
     "duration": 4.319956,
     "end_time": "2022-04-15T16:21:50.668420",
     "exception": false,
     "start_time": "2022-04-15T16:21:46.348464",
     "status": "completed"
    },
    "tags": []
   },
   "outputs": [
    {
     "name": "stderr",
     "output_type": "stream",
     "text": [
      "Some weights of the model checkpoint at distilbert-base-uncased were not used when initializing DistilBertCLModel: ['vocab_projector.weight', 'vocab_transform.weight', 'vocab_layer_norm.weight', 'vocab_layer_norm.bias', 'vocab_transform.bias', 'vocab_projector.bias']\n",
      "- This IS expected if you are initializing DistilBertCLModel from the checkpoint of a model trained on another task or with another architecture (e.g. initializing a BertForSequenceClassification model from a BertForPreTraining model).\n",
      "- This IS NOT expected if you are initializing DistilBertCLModel from the checkpoint of a model that you expect to be exactly identical (initializing a BertForSequenceClassification model from a BertForSequenceClassification model).\n"
     ]
    }
   ],
   "source": [
    "import torch\n",
    "import torch.nn as nn\n",
    "\n",
    "from transformers import AutoTokenizer, DistilBertModel, DistilBertPreTrainedModel, AutoConfig\n",
    "from transformers.modeling_outputs import SequenceClassifierOutput, BaseModelOutputWithPooling\n",
    "\n",
    "from distilface.modules.pooler import Pooler\n",
    "from distilface.modules.similarity import Similarity\n",
    "\n",
    "\n",
    "class DistilBertCLModel(DistilBertPreTrainedModel):\n",
    "    def __init__(self, config, pooler_type=pooling_method, temp=temperature):\n",
    "        super().__init__(config)\n",
    "\n",
    "        self.config = config\n",
    "        self.pooler_type = pooler_type\n",
    "        self.temp = temperature\n",
    "\n",
    "        self.distilbert = DistilBertModel(config)\n",
    "        self.pooler = Pooler(pooler_type)\n",
    "        self.sim = Similarity(temp=temp)\n",
    "\n",
    "        self.init_weights()\n",
    "\n",
    "    def forward(self, input_ids=None, attention_mask=None):\n",
    "        if self.training:\n",
    "            return self.cl_forward(self.distilbert, input_ids, attention_mask)\n",
    "        else:\n",
    "            return self.sent_emb(self.distilbert, input_ids, attention_mask)\n",
    "\n",
    "    def cl_forward(self, encoder, input_ids=None, attention_mask=None):\n",
    "        batch_size = input_ids.size(0)\n",
    "        num_sent = input_ids.size(1)  # Number of sentences in one instance: 2 sentences\n",
    "\n",
    "        # Flatten all input tensors\n",
    "        input_ids = input_ids.view((-1, input_ids.size(-1))) # (bs * num_sent, len)\n",
    "        attention_mask = attention_mask.view((-1, attention_mask.size(-1))) # (bs * num_sent len)\n",
    "\n",
    "        # Pre-trained Model Encoder\n",
    "        outputs = encoder(\n",
    "            input_ids,\n",
    "            attention_mask=attention_mask,\n",
    "            output_hidden_states=True,\n",
    "            return_dict=True,\n",
    "        )\n",
    "\n",
    "        # Pooling\n",
    "        pooler_output = self.pooler(attention_mask, outputs)\n",
    "        pooler_output = pooler_output.view((batch_size, num_sent, pooler_output.size(-1)))  # (bs, num_sent, hidden)\n",
    "\n",
    "        # Separate representation\n",
    "        z1, z2 = pooler_output[:, 0], pooler_output[:, 1]\n",
    "\n",
    "        # Cosine similarity\n",
    "        cos_sim = self.sim(z1.unsqueeze(1), z2.unsqueeze(0))\n",
    "\n",
    "        # Calculate contrastive loss\n",
    "        criterion = nn.CrossEntropyLoss()\n",
    "        labels = torch.arange(cos_sim.size(0)).long().to(self.device)\n",
    "        loss = criterion(cos_sim, labels)\n",
    "\n",
    "        return SequenceClassifierOutput(\n",
    "            loss=loss,\n",
    "            logits=cos_sim,\n",
    "            hidden_states=outputs.hidden_states,\n",
    "            attentions=outputs.attentions,\n",
    "        )\n",
    "\n",
    "    def sent_emb(self, encoder, input_ids=None, attention_mask=None):\n",
    "        outputs = encoder(\n",
    "            input_ids,\n",
    "            attention_mask=attention_mask,\n",
    "            output_hidden_states=True,\n",
    "            return_dict=True,\n",
    "        )\n",
    "        pooler_output = self.pooler(attention_mask, outputs)\n",
    "\n",
    "        return BaseModelOutputWithPooling(\n",
    "            pooler_output=pooler_output,\n",
    "            last_hidden_state=outputs.last_hidden_state,\n",
    "            hidden_states=outputs.hidden_states,\n",
    "        )\n",
    "\n",
    "\n",
    "pretrained_model_name = 'distilbert-base-uncased'\n",
    "\n",
    "device = torch.device(\"cuda\" if torch.cuda.is_available() else \"cpu\")\n",
    "config = AutoConfig.from_pretrained(pretrained_model_name)\n",
    "\n",
    "model = DistilBertCLModel.from_pretrained(pretrained_model_name, config=config).to(device)\n",
    "tokenizer = AutoTokenizer.from_pretrained(pretrained_model_name)\n",
    "\n",
    "model.eval();"
   ]
  },
  {
   "cell_type": "markdown",
   "id": "42f01a34",
   "metadata": {
    "papermill": {
     "duration": 0.150389,
     "end_time": "2022-04-15T16:21:50.997263",
     "exception": false,
     "start_time": "2022-04-15T16:21:50.846874",
     "status": "completed"
    },
    "tags": []
   },
   "source": [
    "### 2.1 Initial DistilBERT embeddings performance"
   ]
  },
  {
   "cell_type": "code",
   "execution_count": 12,
   "id": "eacb4ae2",
   "metadata": {
    "execution": {
     "iopub.execute_input": "2022-04-15T16:21:51.414540Z",
     "iopub.status.busy": "2022-04-15T16:21:51.414292Z",
     "iopub.status.idle": "2022-04-15T16:21:51.798799Z",
     "shell.execute_reply": "2022-04-15T16:21:51.797938Z"
    },
    "papermill": {
     "duration": 0.596454,
     "end_time": "2022-04-15T16:21:51.800369",
     "exception": false,
     "start_time": "2022-04-15T16:21:51.203915",
     "status": "completed"
    },
    "tags": []
   },
   "outputs": [],
   "source": [
    "import senteval\n",
    "\n",
    "\n",
    "def prepare(params, samples):\n",
    "    return\n",
    "\n",
    "def batcher(params, batch):\n",
    "    sentences = [\" \".join(s) for s in batch]\n",
    "    batch = tokenizer.batch_encode_plus(\n",
    "        sentences,\n",
    "        return_tensors=\"pt\",\n",
    "        padding=True,\n",
    "    )\n",
    "\n",
    "    for k in batch:\n",
    "        batch[k] = batch[k].to(device)\n",
    "\n",
    "    with torch.no_grad():\n",
    "        outputs = model(**batch)\n",
    "\n",
    "    pooled_result = outputs.pooler_output.cpu()\n",
    "\n",
    "    return pooled_result\n",
    "\n",
    "\n",
    "def evaluate_model():\n",
    "    PATH_TO_DATA = \"./data\"\n",
    "\n",
    "    params = {\"task_path\": PATH_TO_DATA, \"usepytorch\": True, \"kfold\": 10}\n",
    "    tasks = [\"STSBenchmark\", 'STS12', 'STS13', 'STS14', 'STS15']\n",
    "\n",
    "    se = senteval.engine.SE(params, batcher, prepare)\n",
    "    results = se.eval(tasks)\n",
    "\n",
    "    print('STS12: ', results[\"STS12\"][\"all\"][\"spearman\"][\"all\"])\n",
    "    print('STS13: ', results[\"STS13\"][\"all\"][\"spearman\"][\"all\"])\n",
    "    print('STS14: ', results[\"STS14\"][\"all\"][\"spearman\"][\"all\"])\n",
    "    print('STS15: ', results[\"STS15\"][\"all\"][\"spearman\"][\"all\"])\n",
    "    print('STSB: ', results[\"STSBenchmark\"][\"test\"][\"spearman\"][0])\n",
    "\n",
    "    return results"
   ]
  },
  {
   "cell_type": "markdown",
   "id": "16b7497c",
   "metadata": {
    "papermill": {
     "duration": 0.217684,
     "end_time": "2022-04-15T16:21:52.227590",
     "exception": false,
     "start_time": "2022-04-15T16:21:52.009906",
     "status": "completed"
    },
    "tags": []
   },
   "source": [
    "## 3. Trainer"
   ]
  },
  {
   "cell_type": "code",
   "execution_count": 13,
   "id": "3b0da6d4",
   "metadata": {
    "execution": {
     "iopub.execute_input": "2022-04-15T16:21:52.560795Z",
     "iopub.status.busy": "2022-04-15T16:21:52.560554Z",
     "iopub.status.idle": "2022-04-15T16:21:52.692661Z",
     "shell.execute_reply": "2022-04-15T16:21:52.691958Z"
    },
    "papermill": {
     "duration": 0.275284,
     "end_time": "2022-04-15T16:21:52.694160",
     "exception": false,
     "start_time": "2022-04-15T16:21:52.418876",
     "status": "completed"
    },
    "tags": []
   },
   "outputs": [
    {
     "name": "stderr",
     "output_type": "stream",
     "text": [
      "max_steps is given, it will override any value given in num_train_epochs\n"
     ]
    }
   ],
   "source": [
    "# import mlflow\n",
    "\n",
    "from transformers import Trainer, TrainingArguments\n",
    "from transformers import default_data_collator\n",
    "\n",
    "training_args = TrainingArguments(\n",
    "    output_dir='output',\n",
    "    overwrite_output_dir=True,\n",
    "    learning_rate=learning_rate,\n",
    "    num_train_epochs=epochs,\n",
    "    max_steps=max_steps,\n",
    "    per_device_train_batch_size=batch_size,\n",
    "    per_device_eval_batch_size=batch_size,\n",
    "    save_strategy='steps',\n",
    "    save_steps=max_steps,\n",
    "    fp16=fp16,\n",
    ")\n",
    "\n",
    "model.train()\n",
    "\n",
    "trainer = Trainer(\n",
    "    model=model,\n",
    "    args=training_args,\n",
    "    train_dataset=train_dataset,\n",
    "    tokenizer=tokenizer,\n",
    "    data_collator=default_data_collator\n",
    ")"
   ]
  },
  {
   "cell_type": "code",
   "execution_count": 14,
   "id": "bdcb4746",
   "metadata": {
    "execution": {
     "iopub.execute_input": "2022-04-15T16:21:53.148070Z",
     "iopub.status.busy": "2022-04-15T16:21:53.147142Z",
     "iopub.status.idle": "2022-04-15T18:00:25.384924Z",
     "shell.execute_reply": "2022-04-15T18:00:25.384162Z"
    },
    "papermill": {
     "duration": 5912.495784,
     "end_time": "2022-04-15T18:00:25.386356",
     "exception": false,
     "start_time": "2022-04-15T16:21:52.890572",
     "status": "completed"
    },
    "tags": []
   },
   "outputs": [
    {
     "name": "stderr",
     "output_type": "stream",
     "text": [
      "/opt/conda/lib/python3.8/site-packages/transformers/optimization.py:306: FutureWarning: This implementation of AdamW is deprecated and will be removed in a future version. Use the PyTorch implementation torch.optim.AdamW instead, or set `no_deprecation_warning=True` to disable this warning\n",
      "  warnings.warn(\n",
      "***** Running training *****\n"
     ]
    },
    {
     "name": "stderr",
     "output_type": "stream",
     "text": [
      "  Num examples = 1000000\n"
     ]
    },
    {
     "name": "stderr",
     "output_type": "stream",
     "text": [
      "  Num Epochs = 3\n"
     ]
    },
    {
     "name": "stderr",
     "output_type": "stream",
     "text": [
      "  Instantaneous batch size per device = 128\n"
     ]
    },
    {
     "name": "stderr",
     "output_type": "stream",
     "text": [
      "  Total train batch size (w. parallel, distributed & accumulation) = 128\n"
     ]
    },
    {
     "name": "stderr",
     "output_type": "stream",
     "text": [
      "  Gradient Accumulation steps = 1\n"
     ]
    },
    {
     "name": "stderr",
     "output_type": "stream",
     "text": [
      "  Total optimization steps = 20000\n"
     ]
    },
    {
     "data": {
      "text/html": [
       "\n",
       "    <div>\n",
       "      \n",
       "      <progress value='20000' max='20000' style='width:300px; height:20px; vertical-align: middle;'></progress>\n",
       "      [20000/20000 1:38:30, Epoch 2/3]\n",
       "    </div>\n",
       "    <table border=\"1\" class=\"dataframe\">\n",
       "  <thead>\n",
       " <tr style=\"text-align: left;\">\n",
       "      <th>Step</th>\n",
       "      <th>Training Loss</th>\n",
       "    </tr>\n",
       "  </thead>\n",
       "  <tbody>\n",
       "    <tr>\n",
       "      <td>500</td>\n",
       "      <td>0.032100</td>\n",
       "    </tr>\n",
       "    <tr>\n",
       "      <td>1000</td>\n",
       "      <td>0.000400</td>\n",
       "    </tr>\n",
       "    <tr>\n",
       "      <td>1500</td>\n",
       "      <td>0.000300</td>\n",
       "    </tr>\n",
       "    <tr>\n",
       "      <td>2000</td>\n",
       "      <td>0.000200</td>\n",
       "    </tr>\n",
       "    <tr>\n",
       "      <td>2500</td>\n",
       "      <td>0.000200</td>\n",
       "    </tr>\n",
       "    <tr>\n",
       "      <td>3000</td>\n",
       "      <td>0.000200</td>\n",
       "    </tr>\n",
       "    <tr>\n",
       "      <td>3500</td>\n",
       "      <td>0.000200</td>\n",
       "    </tr>\n",
       "    <tr>\n",
       "      <td>4000</td>\n",
       "      <td>0.000200</td>\n",
       "    </tr>\n",
       "    <tr>\n",
       "      <td>4500</td>\n",
       "      <td>0.000200</td>\n",
       "    </tr>\n",
       "    <tr>\n",
       "      <td>5000</td>\n",
       "      <td>0.000100</td>\n",
       "    </tr>\n",
       "    <tr>\n",
       "      <td>5500</td>\n",
       "      <td>0.000300</td>\n",
       "    </tr>\n",
       "    <tr>\n",
       "      <td>6000</td>\n",
       "      <td>0.000200</td>\n",
       "    </tr>\n",
       "    <tr>\n",
       "      <td>6500</td>\n",
       "      <td>0.000200</td>\n",
       "    </tr>\n",
       "    <tr>\n",
       "      <td>7000</td>\n",
       "      <td>0.000200</td>\n",
       "    </tr>\n",
       "    <tr>\n",
       "      <td>7500</td>\n",
       "      <td>0.000200</td>\n",
       "    </tr>\n",
       "    <tr>\n",
       "      <td>8000</td>\n",
       "      <td>0.000200</td>\n",
       "    </tr>\n",
       "    <tr>\n",
       "      <td>8500</td>\n",
       "      <td>0.000200</td>\n",
       "    </tr>\n",
       "    <tr>\n",
       "      <td>9000</td>\n",
       "      <td>0.000100</td>\n",
       "    </tr>\n",
       "    <tr>\n",
       "      <td>9500</td>\n",
       "      <td>0.000200</td>\n",
       "    </tr>\n",
       "    <tr>\n",
       "      <td>10000</td>\n",
       "      <td>0.000100</td>\n",
       "    </tr>\n",
       "    <tr>\n",
       "      <td>10500</td>\n",
       "      <td>0.000100</td>\n",
       "    </tr>\n",
       "    <tr>\n",
       "      <td>11000</td>\n",
       "      <td>0.000200</td>\n",
       "    </tr>\n",
       "    <tr>\n",
       "      <td>11500</td>\n",
       "      <td>0.000200</td>\n",
       "    </tr>\n",
       "    <tr>\n",
       "      <td>12000</td>\n",
       "      <td>0.000200</td>\n",
       "    </tr>\n",
       "    <tr>\n",
       "      <td>12500</td>\n",
       "      <td>0.000000</td>\n",
       "    </tr>\n",
       "    <tr>\n",
       "      <td>13000</td>\n",
       "      <td>0.000200</td>\n",
       "    </tr>\n",
       "    <tr>\n",
       "      <td>13500</td>\n",
       "      <td>0.000100</td>\n",
       "    </tr>\n",
       "    <tr>\n",
       "      <td>14000</td>\n",
       "      <td>0.000100</td>\n",
       "    </tr>\n",
       "    <tr>\n",
       "      <td>14500</td>\n",
       "      <td>0.000100</td>\n",
       "    </tr>\n",
       "    <tr>\n",
       "      <td>15000</td>\n",
       "      <td>0.000200</td>\n",
       "    </tr>\n",
       "    <tr>\n",
       "      <td>15500</td>\n",
       "      <td>0.000100</td>\n",
       "    </tr>\n",
       "    <tr>\n",
       "      <td>16000</td>\n",
       "      <td>0.000200</td>\n",
       "    </tr>\n",
       "    <tr>\n",
       "      <td>16500</td>\n",
       "      <td>0.000100</td>\n",
       "    </tr>\n",
       "    <tr>\n",
       "      <td>17000</td>\n",
       "      <td>0.000200</td>\n",
       "    </tr>\n",
       "    <tr>\n",
       "      <td>17500</td>\n",
       "      <td>0.000200</td>\n",
       "    </tr>\n",
       "    <tr>\n",
       "      <td>18000</td>\n",
       "      <td>0.000200</td>\n",
       "    </tr>\n",
       "    <tr>\n",
       "      <td>18500</td>\n",
       "      <td>0.000200</td>\n",
       "    </tr>\n",
       "    <tr>\n",
       "      <td>19000</td>\n",
       "      <td>0.000100</td>\n",
       "    </tr>\n",
       "    <tr>\n",
       "      <td>19500</td>\n",
       "      <td>0.000200</td>\n",
       "    </tr>\n",
       "    <tr>\n",
       "      <td>20000</td>\n",
       "      <td>0.000200</td>\n",
       "    </tr>\n",
       "  </tbody>\n",
       "</table><p>"
      ],
      "text/plain": [
       "<IPython.core.display.HTML object>"
      ]
     },
     "metadata": {},
     "output_type": "display_data"
    },
    {
     "name": "stderr",
     "output_type": "stream",
     "text": [
      "Saving model checkpoint to output/checkpoint-20000\n"
     ]
    },
    {
     "name": "stderr",
     "output_type": "stream",
     "text": [
      "Configuration saved in output/checkpoint-20000/config.json\n"
     ]
    },
    {
     "name": "stderr",
     "output_type": "stream",
     "text": [
      "Model weights saved in output/checkpoint-20000/pytorch_model.bin\n"
     ]
    },
    {
     "name": "stderr",
     "output_type": "stream",
     "text": [
      "tokenizer config file saved in output/checkpoint-20000/tokenizer_config.json\n"
     ]
    },
    {
     "name": "stderr",
     "output_type": "stream",
     "text": [
      "Special tokens file saved in output/checkpoint-20000/special_tokens_map.json\n"
     ]
    },
    {
     "name": "stderr",
     "output_type": "stream",
     "text": [
      "\n",
      "\n",
      "Training completed. Do not forget to share your model on huggingface.co/models =)\n",
      "\n",
      "\n"
     ]
    }
   ],
   "source": [
    "train_result = trainer.train()"
   ]
  },
  {
   "cell_type": "code",
   "execution_count": 15,
   "id": "2fe43996",
   "metadata": {
    "execution": {
     "iopub.execute_input": "2022-04-15T18:00:25.929893Z",
     "iopub.status.busy": "2022-04-15T18:00:25.929657Z",
     "iopub.status.idle": "2022-04-15T18:00:25.962005Z",
     "shell.execute_reply": "2022-04-15T18:00:25.961282Z"
    },
    "papermill": {
     "duration": 0.370745,
     "end_time": "2022-04-15T18:00:25.963386",
     "exception": false,
     "start_time": "2022-04-15T18:00:25.592641",
     "status": "completed"
    },
    "tags": []
   },
   "outputs": [],
   "source": [
    "import pandas as pd\n",
    "\n",
    "pd.DataFrame(trainer.state.log_history).to_csv(f'logs/cl-distilled_tuning_v1_ms{max_steps}_fp16.csv', index=False)"
   ]
  },
  {
   "cell_type": "markdown",
   "id": "f6750763",
   "metadata": {
    "papermill": {
     "duration": 0.159699,
     "end_time": "2022-04-15T18:00:26.320680",
     "exception": false,
     "start_time": "2022-04-15T18:00:26.160981",
     "status": "completed"
    },
    "tags": []
   },
   "source": [
    "## 4. Evaluate DistilBert CL Model performance"
   ]
  },
  {
   "cell_type": "code",
   "execution_count": 16,
   "id": "763aa4cb",
   "metadata": {
    "execution": {
     "iopub.execute_input": "2022-04-15T18:00:26.621965Z",
     "iopub.status.busy": "2022-04-15T18:00:26.621734Z",
     "iopub.status.idle": "2022-04-15T18:00:43.582485Z",
     "shell.execute_reply": "2022-04-15T18:00:43.581352Z"
    },
    "papermill": {
     "duration": 17.115686,
     "end_time": "2022-04-15T18:00:43.583919",
     "exception": false,
     "start_time": "2022-04-15T18:00:26.468233",
     "status": "completed"
    },
    "tags": []
   },
   "outputs": [
    {
     "name": "stderr",
     "output_type": "stream",
     "text": [
      "/opt/conda/lib/python3.8/site-packages/SentEval-0.1.0-py3.8.egg/senteval/sts.py:42: VisibleDeprecationWarning: Creating an ndarray from ragged nested sequences (which is a list-or-tuple of lists-or-tuples-or ndarrays with different lengths or shapes) is deprecated. If you meant to do this, you must specify 'dtype=object' when creating the ndarray.\n",
      "/opt/conda/lib/python3.8/site-packages/SentEval-0.1.0-py3.8.egg/senteval/sts.py:43: VisibleDeprecationWarning: Creating an ndarray from ragged nested sequences (which is a list-or-tuple of lists-or-tuples-or ndarrays with different lengths or shapes) is deprecated. If you meant to do this, you must specify 'dtype=object' when creating the ndarray.\n"
     ]
    },
    {
     "name": "stdout",
     "output_type": "stream",
     "text": [
      "STS12:  0.6107211627652607\n",
      "STS13:  0.744545543428766\n",
      "STS14:  0.6836475549469974\n",
      "STS15:  0.7740216459941405\n",
      "STSB:  0.7163463405030319\n"
     ]
    },
    {
     "data": {
      "text/plain": [
       "{'STSBenchmark': {'train': {'pearson': (0.7506359094136104, 0.0),\n",
       "   'spearman': SpearmanrResult(correlation=0.7322677116890831, pvalue=0.0),\n",
       "   'nsamples': 5749},\n",
       "  'dev': {'pearson': (0.7597962724421978, 2.1815376137835494e-282),\n",
       "   'spearman': SpearmanrResult(correlation=0.7661444361977621, pvalue=6.223962295144187e-290),\n",
       "   'nsamples': 1500},\n",
       "  'test': {'pearson': (0.7201349822732345, 7.649120218820584e-221),\n",
       "   'spearman': SpearmanrResult(correlation=0.7163463405030319, pvalue=1.7671492777185676e-217),\n",
       "   'nsamples': 1379},\n",
       "  'all': {'pearson': {'all': 0.7438400039819606,\n",
       "    'mean': 0.7435223880430142,\n",
       "    'wmean': 0.7473535457159172},\n",
       "   'spearman': {'all': 0.7388346107295563,\n",
       "    'mean': 0.7382528294632923,\n",
       "    'wmean': 0.7356125790856355}}},\n",
       " 'STS12': {'MSRpar': {'pearson': (0.6199500935293687, 7.683726345345369e-81),\n",
       "   'spearman': SpearmanrResult(correlation=0.6179789008493244, pvalue=3.3841876459242416e-80),\n",
       "   'nsamples': 750},\n",
       "  'MSRvid': {'pearson': (0.7765721944838355, 3.1303441698137387e-152),\n",
       "   'spearman': SpearmanrResult(correlation=0.7747275492411311, pvalue=4.6066583294412433e-151),\n",
       "   'nsamples': 750},\n",
       "  'SMTeuroparl': {'pearson': (0.5138895824636677, 2.6836907230041085e-32),\n",
       "   'spearman': SpearmanrResult(correlation=0.6127795998502289, pvalue=1.154059553032122e-48),\n",
       "   'nsamples': 459},\n",
       "  'surprise.OnWN': {'pearson': (0.721280366932635, 2.0294564902427184e-121),\n",
       "   'spearman': SpearmanrResult(correlation=0.6957109554761741, pvalue=1.4075552040425774e-109),\n",
       "   'nsamples': 750},\n",
       "  'surprise.SMTnews': {'pearson': (0.6142248046799899, 9.558313254079038e-43),\n",
       "   'spearman': SpearmanrResult(correlation=0.5412559111716876, pvalue=9.575457268578949e-32),\n",
       "   'nsamples': 399},\n",
       "  'all': {'pearson': {'all': 0.634243813919138,\n",
       "    'mean': 0.6491834084178993,\n",
       "    'wmean': 0.6657989081813124},\n",
       "   'spearman': {'all': 0.6107211627652607,\n",
       "    'mean': 0.6484905833177093,\n",
       "    'wmean': 0.663944658643414}}},\n",
       " 'STS13': {'FNWN': {'pearson': (0.5728907225586475, 7.07122278187883e-18),\n",
       "   'spearman': SpearmanrResult(correlation=0.585910223159833, pvalue=8.273745884014064e-19),\n",
       "   'nsamples': 189},\n",
       "  'headlines': {'pearson': (0.7836947327614455, 7.57366148494431e-157),\n",
       "   'spearman': SpearmanrResult(correlation=0.7818949506684922, pvalue=1.1540164485128907e-155),\n",
       "   'nsamples': 750},\n",
       "  'OnWN': {'pearson': (0.7352491101536487, 1.7605276210993057e-96),\n",
       "   'spearman': SpearmanrResult(correlation=0.7389001786997088, pvalue=6.501530545871156e-98),\n",
       "   'nsamples': 561},\n",
       "  'all': {'pearson': {'all': 0.7276463546698164,\n",
       "    'mean': 0.6972781884912473,\n",
       "    'wmean': 0.739014764620577},\n",
       "   'spearman': {'all': 0.744545543428766,\n",
       "    'mean': 0.7022351175093448,\n",
       "    'wmean': 0.7411208302860762}}},\n",
       " 'STS14': {'deft-forum': {'pearson': (0.5275406132956494,\n",
       "    1.3284904298786546e-33),\n",
       "   'spearman': SpearmanrResult(correlation=0.5222253390723638, pvalue=7.532260924468877e-33),\n",
       "   'nsamples': 450},\n",
       "  'deft-news': {'pearson': (0.7880520898454959, 9.545971971527923e-65),\n",
       "   'spearman': SpearmanrResult(correlation=0.7616955447257683, pvalue=4.1498701897330394e-58),\n",
       "   'nsamples': 300},\n",
       "  'headlines': {'pearson': (0.7615676186139435, 4.826816727850411e-143),\n",
       "   'spearman': SpearmanrResult(correlation=0.7337370659659559, pvalue=1.1085234909492828e-127),\n",
       "   'nsamples': 750},\n",
       "  'images': {'pearson': (0.7536259610140861, 1.8887871664437032e-138),\n",
       "   'spearman': SpearmanrResult(correlation=0.7324133608183324, pvalue=5.332783526728245e-127),\n",
       "   'nsamples': 750},\n",
       "  'OnWN': {'pearson': (0.7916617284490904, 3.186675190522603e-162),\n",
       "   'spearman': SpearmanrResult(correlation=0.8051772000635853, pvalue=6.642583851969066e-172),\n",
       "   'nsamples': 750},\n",
       "  'tweet-news': {'pearson': (0.7913854361787805, 4.939708002099651e-162),\n",
       "   'spearman': SpearmanrResult(correlation=0.7415896031218953, pvalue=8.163558694075062e-132),\n",
       "   'nsamples': 750},\n",
       "  'all': {'pearson': {'all': 0.6994163085590119,\n",
       "    'mean': 0.7356389078995077,\n",
       "    'wmean': 0.7459971896342977},\n",
       "   'spearman': {'all': 0.6836475549469974,\n",
       "    'mean': 0.7161396856279835,\n",
       "    'wmean': 0.7261861302606988}}},\n",
       " 'STS15': {'answers-forums': {'pearson': (0.7445412111577471,\n",
       "    1.913674041672602e-67),\n",
       "   'spearman': SpearmanrResult(correlation=0.7410627132551888, pvalue=1.6507219790622885e-66),\n",
       "   'nsamples': 375},\n",
       "  'answers-students': {'pearson': (0.7289584465337663, 3.079457884329117e-125),\n",
       "   'spearman': SpearmanrResult(correlation=0.731562893980063, pvalue=1.455851838094622e-126),\n",
       "   'nsamples': 750},\n",
       "  'belief': {'pearson': (0.7918447703049967, 6.85845395096878e-82),\n",
       "   'spearman': SpearmanrResult(correlation=0.7896220265146024, pvalue=3.955616053599548e-81),\n",
       "   'nsamples': 375},\n",
       "  'headlines': {'pearson': (0.8017742994368967, 2.139151108299061e-169),\n",
       "   'spearman': SpearmanrResult(correlation=0.8034814983286476, pvalue=1.1973237912214149e-170),\n",
       "   'nsamples': 750},\n",
       "  'images': {'pearson': (0.8377635136993835, 9.57960647085895e-199),\n",
       "   'spearman': SpearmanrResult(correlation=0.8417589690292696, pvalue=1.9134982711606222e-202),\n",
       "   'nsamples': 750},\n",
       "  'all': {'pearson': {'all': 0.7689380341745841,\n",
       "    'mean': 0.780976448226558,\n",
       "    'wmean': 0.7841723126003546},\n",
       "   'spearman': {'all': 0.7740216459941405,\n",
       "    'mean': 0.7814976202215543,\n",
       "    'wmean': 0.7855364328057189}}}}"
      ]
     },
     "execution_count": 16,
     "metadata": {},
     "output_type": "execute_result"
    }
   ],
   "source": [
    "model.eval()\n",
    "\n",
    "results = evaluate_model()\n",
    "results"
   ]
  }
 ],
 "metadata": {
  "celltoolbar": "Tags",
  "kernelspec": {
   "display_name": "Python 3 (ipykernel)",
   "language": "python",
   "name": "python3"
  },
  "language_info": {
   "codemirror_mode": {
    "name": "ipython",
    "version": 3
   },
   "file_extension": ".py",
   "mimetype": "text/x-python",
   "name": "python",
   "nbconvert_exporter": "python",
   "pygments_lexer": "ipython3",
   "version": "3.8.12"
  },
  "papermill": {
   "default_parameters": {},
   "duration": 5946.38957,
   "end_time": "2022-04-15T18:00:44.574899",
   "environment_variables": {},
   "exception": null,
   "input_path": "notebooks/training/cl-distilbert_tuning_v1.ipynb",
   "output_path": "notebooks/training/cl-distilbert_tuning_v1_ms20000.ipynb",
   "parameters": {
    "max_steps": 20000
   },
   "start_time": "2022-04-15T16:21:38.185329",
   "version": "2.3.4"
  },
  "toc": {
   "base_numbering": 1,
   "nav_menu": {},
   "number_sections": false,
   "sideBar": true,
   "skip_h1_title": false,
   "title_cell": "Table of Contents",
   "title_sidebar": "Contents",
   "toc_cell": false,
   "toc_position": {},
   "toc_section_display": true,
   "toc_window_display": false
  },
  "widgets": {
   "application/vnd.jupyter.widget-state+json": {
    "state": {
     "04c53aae07b5431c86e332ff265f4d02": {
      "model_module": "@jupyter-widgets/controls",
      "model_module_version": "1.5.0",
      "model_name": "HTMLModel",
      "state": {
       "_dom_classes": [],
       "_model_module": "@jupyter-widgets/controls",
       "_model_module_version": "1.5.0",
       "_model_name": "HTMLModel",
       "_view_count": null,
       "_view_module": "@jupyter-widgets/controls",
       "_view_module_version": "1.5.0",
       "_view_name": "HTMLView",
       "description": "",
       "description_tooltip": null,
       "layout": "IPY_MODEL_1585a20fdb414034ad42cbda4a2adcd7",
       "placeholder": "​",
       "style": "IPY_MODEL_253128b351c04db98e71d820b4ae955e",
       "value": "100%"
      }
     },
     "1585a20fdb414034ad42cbda4a2adcd7": {
      "model_module": "@jupyter-widgets/base",
      "model_module_version": "1.2.0",
      "model_name": "LayoutModel",
      "state": {
       "_model_module": "@jupyter-widgets/base",
       "_model_module_version": "1.2.0",
       "_model_name": "LayoutModel",
       "_view_count": null,
       "_view_module": "@jupyter-widgets/base",
       "_view_module_version": "1.2.0",
       "_view_name": "LayoutView",
       "align_content": null,
       "align_items": null,
       "align_self": null,
       "border": null,
       "bottom": null,
       "display": null,
       "flex": null,
       "flex_flow": null,
       "grid_area": null,
       "grid_auto_columns": null,
       "grid_auto_flow": null,
       "grid_auto_rows": null,
       "grid_column": null,
       "grid_gap": null,
       "grid_row": null,
       "grid_template_areas": null,
       "grid_template_columns": null,
       "grid_template_rows": null,
       "height": null,
       "justify_content": null,
       "justify_items": null,
       "left": null,
       "margin": null,
       "max_height": null,
       "max_width": null,
       "min_height": null,
       "min_width": null,
       "object_fit": null,
       "object_position": null,
       "order": null,
       "overflow": null,
       "overflow_x": null,
       "overflow_y": null,
       "padding": null,
       "right": null,
       "top": null,
       "visibility": null,
       "width": null
      }
     },
     "253128b351c04db98e71d820b4ae955e": {
      "model_module": "@jupyter-widgets/controls",
      "model_module_version": "1.5.0",
      "model_name": "DescriptionStyleModel",
      "state": {
       "_model_module": "@jupyter-widgets/controls",
       "_model_module_version": "1.5.0",
       "_model_name": "DescriptionStyleModel",
       "_view_count": null,
       "_view_module": "@jupyter-widgets/base",
       "_view_module_version": "1.2.0",
       "_view_name": "StyleView",
       "description_width": ""
      }
     },
     "3dbbcde6e0a046738f92a3919ba13ccf": {
      "model_module": "@jupyter-widgets/base",
      "model_module_version": "1.2.0",
      "model_name": "LayoutModel",
      "state": {
       "_model_module": "@jupyter-widgets/base",
       "_model_module_version": "1.2.0",
       "_model_name": "LayoutModel",
       "_view_count": null,
       "_view_module": "@jupyter-widgets/base",
       "_view_module_version": "1.2.0",
       "_view_name": "LayoutView",
       "align_content": null,
       "align_items": null,
       "align_self": null,
       "border": null,
       "bottom": null,
       "display": null,
       "flex": null,
       "flex_flow": null,
       "grid_area": null,
       "grid_auto_columns": null,
       "grid_auto_flow": null,
       "grid_auto_rows": null,
       "grid_column": null,
       "grid_gap": null,
       "grid_row": null,
       "grid_template_areas": null,
       "grid_template_columns": null,
       "grid_template_rows": null,
       "height": null,
       "justify_content": null,
       "justify_items": null,
       "left": null,
       "margin": null,
       "max_height": null,
       "max_width": null,
       "min_height": null,
       "min_width": null,
       "object_fit": null,
       "object_position": null,
       "order": null,
       "overflow": null,
       "overflow_x": null,
       "overflow_y": null,
       "padding": null,
       "right": null,
       "top": null,
       "visibility": null,
       "width": null
      }
     },
     "5c483a6892b54ca3af9b0adf4524aad0": {
      "model_module": "@jupyter-widgets/base",
      "model_module_version": "1.2.0",
      "model_name": "LayoutModel",
      "state": {
       "_model_module": "@jupyter-widgets/base",
       "_model_module_version": "1.2.0",
       "_model_name": "LayoutModel",
       "_view_count": null,
       "_view_module": "@jupyter-widgets/base",
       "_view_module_version": "1.2.0",
       "_view_name": "LayoutView",
       "align_content": null,
       "align_items": null,
       "align_self": null,
       "border": null,
       "bottom": null,
       "display": null,
       "flex": null,
       "flex_flow": null,
       "grid_area": null,
       "grid_auto_columns": null,
       "grid_auto_flow": null,
       "grid_auto_rows": null,
       "grid_column": null,
       "grid_gap": null,
       "grid_row": null,
       "grid_template_areas": null,
       "grid_template_columns": null,
       "grid_template_rows": null,
       "height": null,
       "justify_content": null,
       "justify_items": null,
       "left": null,
       "margin": null,
       "max_height": null,
       "max_width": null,
       "min_height": null,
       "min_width": null,
       "object_fit": null,
       "object_position": null,
       "order": null,
       "overflow": null,
       "overflow_x": null,
       "overflow_y": null,
       "padding": null,
       "right": null,
       "top": null,
       "visibility": null,
       "width": null
      }
     },
     "663f0907cb3e4354bdf7192cf204c857": {
      "model_module": "@jupyter-widgets/controls",
      "model_module_version": "1.5.0",
      "model_name": "ProgressStyleModel",
      "state": {
       "_model_module": "@jupyter-widgets/controls",
       "_model_module_version": "1.5.0",
       "_model_name": "ProgressStyleModel",
       "_view_count": null,
       "_view_module": "@jupyter-widgets/base",
       "_view_module_version": "1.2.0",
       "_view_name": "StyleView",
       "bar_color": null,
       "description_width": ""
      }
     },
     "69b1e48c3e6046fea364f34aa8ae1a0a": {
      "model_module": "@jupyter-widgets/base",
      "model_module_version": "1.2.0",
      "model_name": "LayoutModel",
      "state": {
       "_model_module": "@jupyter-widgets/base",
       "_model_module_version": "1.2.0",
       "_model_name": "LayoutModel",
       "_view_count": null,
       "_view_module": "@jupyter-widgets/base",
       "_view_module_version": "1.2.0",
       "_view_name": "LayoutView",
       "align_content": null,
       "align_items": null,
       "align_self": null,
       "border": null,
       "bottom": null,
       "display": null,
       "flex": null,
       "flex_flow": null,
       "grid_area": null,
       "grid_auto_columns": null,
       "grid_auto_flow": null,
       "grid_auto_rows": null,
       "grid_column": null,
       "grid_gap": null,
       "grid_row": null,
       "grid_template_areas": null,
       "grid_template_columns": null,
       "grid_template_rows": null,
       "height": null,
       "justify_content": null,
       "justify_items": null,
       "left": null,
       "margin": null,
       "max_height": null,
       "max_width": null,
       "min_height": null,
       "min_width": null,
       "object_fit": null,
       "object_position": null,
       "order": null,
       "overflow": null,
       "overflow_x": null,
       "overflow_y": null,
       "padding": null,
       "right": null,
       "top": null,
       "visibility": null,
       "width": null
      }
     },
     "8413eb813370435f9840388be1f587b8": {
      "model_module": "@jupyter-widgets/controls",
      "model_module_version": "1.5.0",
      "model_name": "HBoxModel",
      "state": {
       "_dom_classes": [],
       "_model_module": "@jupyter-widgets/controls",
       "_model_module_version": "1.5.0",
       "_model_name": "HBoxModel",
       "_view_count": null,
       "_view_module": "@jupyter-widgets/controls",
       "_view_module_version": "1.5.0",
       "_view_name": "HBoxView",
       "box_style": "",
       "children": [
        "IPY_MODEL_04c53aae07b5431c86e332ff265f4d02",
        "IPY_MODEL_b539599504d6443c8a3fab14cb7d3e5e",
        "IPY_MODEL_f775d17c638b429c99de6c40c963a730"
       ],
       "layout": "IPY_MODEL_3dbbcde6e0a046738f92a3919ba13ccf"
      }
     },
     "953fea9693274d16a4404a5f46a55927": {
      "model_module": "@jupyter-widgets/controls",
      "model_module_version": "1.5.0",
      "model_name": "DescriptionStyleModel",
      "state": {
       "_model_module": "@jupyter-widgets/controls",
       "_model_module_version": "1.5.0",
       "_model_name": "DescriptionStyleModel",
       "_view_count": null,
       "_view_module": "@jupyter-widgets/base",
       "_view_module_version": "1.2.0",
       "_view_name": "StyleView",
       "description_width": ""
      }
     },
     "b539599504d6443c8a3fab14cb7d3e5e": {
      "model_module": "@jupyter-widgets/controls",
      "model_module_version": "1.5.0",
      "model_name": "FloatProgressModel",
      "state": {
       "_dom_classes": [],
       "_model_module": "@jupyter-widgets/controls",
       "_model_module_version": "1.5.0",
       "_model_name": "FloatProgressModel",
       "_view_count": null,
       "_view_module": "@jupyter-widgets/controls",
       "_view_module_version": "1.5.0",
       "_view_name": "ProgressView",
       "bar_style": "success",
       "description": "",
       "description_tooltip": null,
       "layout": "IPY_MODEL_5c483a6892b54ca3af9b0adf4524aad0",
       "max": 1,
       "min": 0,
       "orientation": "horizontal",
       "style": "IPY_MODEL_663f0907cb3e4354bdf7192cf204c857",
       "value": 1
      }
     },
     "f775d17c638b429c99de6c40c963a730": {
      "model_module": "@jupyter-widgets/controls",
      "model_module_version": "1.5.0",
      "model_name": "HTMLModel",
      "state": {
       "_dom_classes": [],
       "_model_module": "@jupyter-widgets/controls",
       "_model_module_version": "1.5.0",
       "_model_name": "HTMLModel",
       "_view_count": null,
       "_view_module": "@jupyter-widgets/controls",
       "_view_module_version": "1.5.0",
       "_view_name": "HTMLView",
       "description": "",
       "description_tooltip": null,
       "layout": "IPY_MODEL_69b1e48c3e6046fea364f34aa8ae1a0a",
       "placeholder": "​",
       "style": "IPY_MODEL_953fea9693274d16a4404a5f46a55927",
       "value": " 1/1 [00:00&lt;00:00, 51.87it/s]"
      }
     }
    },
    "version_major": 2,
    "version_minor": 0
   }
  }
 },
 "nbformat": 4,
 "nbformat_minor": 5
}
