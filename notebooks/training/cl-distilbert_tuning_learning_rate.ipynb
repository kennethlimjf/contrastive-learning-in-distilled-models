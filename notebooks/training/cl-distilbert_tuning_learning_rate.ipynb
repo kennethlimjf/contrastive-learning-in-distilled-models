{
  "cells": [
    {
      "cell_type": "markdown",
      "metadata": {
        "id": "ze8wZBT6rU-R"
      },
      "source": [
        "# Contrastive Learning From Scratch - DistilBERT\n",
        "\n",
        "An attempt to build contrastive learning model from scratch. Parts include:\n",
        "\n",
        "- Loading and preparing Wiki-1M data for model input\n",
        "- Contrastive learning model\n",
        "  - Forward passing using pre-trained model\n",
        "  - Constrastive layer\n",
        "  - Calculate loss\n",
        "- Training procedure\n",
        "  - Default trainer optimizer\n",
        "  - Default trainer hyper-parameters"
      ]
    },
    {
      "cell_type": "code",
      "source": [
        "from google.colab import drive\n",
        "drive.mount('/content/gdrive')"
      ],
      "metadata": {
        "id": "ZaT-t1XwrYDk",
        "colab": {
          "base_uri": "https://localhost:8080/"
        },
        "outputId": "b2488f6c-52f0-4b8c-a32c-5b9e2b723dea"
      },
      "execution_count": null,
      "outputs": [
        {
          "output_type": "stream",
          "name": "stdout",
          "text": [
            "Drive already mounted at /content/gdrive; to attempt to forcibly remount, call drive.mount(\"/content/gdrive\", force_remount=True).\n"
          ]
        }
      ]
    },
    {
      "cell_type": "code",
      "source": [
        "!cp \"/content/gdrive/MyDrive/proposal/valerie/distil_face.zip\" .\n",
        "!unzip -q distil_face.zip"
      ],
      "metadata": {
        "id": "StCHkDFurYFu"
      },
      "execution_count": null,
      "outputs": []
    },
    {
      "cell_type": "code",
      "source": [
        "% cd distil_face"
      ],
      "metadata": {
        "colab": {
          "base_uri": "https://localhost:8080/"
        },
        "id": "77nW406Vrb76",
        "outputId": "a2b15a85-342f-4f56-8c86-11cd510a5426"
      },
      "execution_count": null,
      "outputs": [
        {
          "output_type": "stream",
          "name": "stdout",
          "text": [
            "/content/distil_face\n"
          ]
        }
      ]
    },
    {
      "cell_type": "code",
      "source": [
        "! pip install datasets"
      ],
      "metadata": {
        "colab": {
          "base_uri": "https://localhost:8080/"
        },
        "id": "7QRXCzvTrb-T",
        "outputId": "65b5d42b-821a-44cd-c5e1-2ec916ba8f7d"
      },
      "execution_count": null,
      "outputs": [
        {
          "output_type": "stream",
          "name": "stdout",
          "text": [
            "Requirement already satisfied: datasets in /usr/local/lib/python3.7/dist-packages (2.1.0)\n",
            "Requirement already satisfied: requests>=2.19.0 in /usr/local/lib/python3.7/dist-packages (from datasets) (2.23.0)\n",
            "Requirement already satisfied: packaging in /usr/local/lib/python3.7/dist-packages (from datasets) (21.3)\n",
            "Requirement already satisfied: dill in /usr/local/lib/python3.7/dist-packages (from datasets) (0.3.4)\n",
            "Requirement already satisfied: pandas in /usr/local/lib/python3.7/dist-packages (from datasets) (1.3.5)\n",
            "Requirement already satisfied: huggingface-hub<1.0.0,>=0.1.0 in /usr/local/lib/python3.7/dist-packages (from datasets) (0.5.1)\n",
            "Requirement already satisfied: responses<0.19 in /usr/local/lib/python3.7/dist-packages (from datasets) (0.18.0)\n",
            "Requirement already satisfied: numpy>=1.17 in /usr/local/lib/python3.7/dist-packages (from datasets) (1.21.5)\n",
            "Requirement already satisfied: xxhash in /usr/local/lib/python3.7/dist-packages (from datasets) (3.0.0)\n",
            "Requirement already satisfied: importlib-metadata in /usr/local/lib/python3.7/dist-packages (from datasets) (4.11.3)\n",
            "Requirement already satisfied: multiprocess in /usr/local/lib/python3.7/dist-packages (from datasets) (0.70.12.2)\n",
            "Requirement already satisfied: aiohttp in /usr/local/lib/python3.7/dist-packages (from datasets) (3.8.1)\n",
            "Requirement already satisfied: tqdm>=4.62.1 in /usr/local/lib/python3.7/dist-packages (from datasets) (4.64.0)\n",
            "Requirement already satisfied: pyarrow>=5.0.0 in /usr/local/lib/python3.7/dist-packages (from datasets) (6.0.1)\n",
            "Requirement already satisfied: fsspec[http]>=2021.05.0 in /usr/local/lib/python3.7/dist-packages (from datasets) (2022.3.0)\n",
            "Requirement already satisfied: filelock in /usr/local/lib/python3.7/dist-packages (from huggingface-hub<1.0.0,>=0.1.0->datasets) (3.6.0)\n",
            "Requirement already satisfied: pyyaml in /usr/local/lib/python3.7/dist-packages (from huggingface-hub<1.0.0,>=0.1.0->datasets) (6.0)\n",
            "Requirement already satisfied: typing-extensions>=3.7.4.3 in /usr/local/lib/python3.7/dist-packages (from huggingface-hub<1.0.0,>=0.1.0->datasets) (4.1.1)\n",
            "Requirement already satisfied: pyparsing!=3.0.5,>=2.0.2 in /usr/local/lib/python3.7/dist-packages (from packaging->datasets) (3.0.8)\n",
            "Requirement already satisfied: idna<3,>=2.5 in /usr/local/lib/python3.7/dist-packages (from requests>=2.19.0->datasets) (2.10)\n",
            "Requirement already satisfied: urllib3!=1.25.0,!=1.25.1,<1.26,>=1.21.1 in /usr/local/lib/python3.7/dist-packages (from requests>=2.19.0->datasets) (1.25.11)\n",
            "Requirement already satisfied: chardet<4,>=3.0.2 in /usr/local/lib/python3.7/dist-packages (from requests>=2.19.0->datasets) (3.0.4)\n",
            "Requirement already satisfied: certifi>=2017.4.17 in /usr/local/lib/python3.7/dist-packages (from requests>=2.19.0->datasets) (2021.10.8)\n",
            "Requirement already satisfied: attrs>=17.3.0 in /usr/local/lib/python3.7/dist-packages (from aiohttp->datasets) (21.4.0)\n",
            "Requirement already satisfied: yarl<2.0,>=1.0 in /usr/local/lib/python3.7/dist-packages (from aiohttp->datasets) (1.7.2)\n",
            "Requirement already satisfied: frozenlist>=1.1.1 in /usr/local/lib/python3.7/dist-packages (from aiohttp->datasets) (1.3.0)\n",
            "Requirement already satisfied: aiosignal>=1.1.2 in /usr/local/lib/python3.7/dist-packages (from aiohttp->datasets) (1.2.0)\n",
            "Requirement already satisfied: async-timeout<5.0,>=4.0.0a3 in /usr/local/lib/python3.7/dist-packages (from aiohttp->datasets) (4.0.2)\n",
            "Requirement already satisfied: multidict<7.0,>=4.5 in /usr/local/lib/python3.7/dist-packages (from aiohttp->datasets) (6.0.2)\n",
            "Requirement already satisfied: asynctest==0.13.0 in /usr/local/lib/python3.7/dist-packages (from aiohttp->datasets) (0.13.0)\n",
            "Requirement already satisfied: charset-normalizer<3.0,>=2.0 in /usr/local/lib/python3.7/dist-packages (from aiohttp->datasets) (2.0.12)\n",
            "Requirement already satisfied: zipp>=0.5 in /usr/local/lib/python3.7/dist-packages (from importlib-metadata->datasets) (3.8.0)\n",
            "Requirement already satisfied: pytz>=2017.3 in /usr/local/lib/python3.7/dist-packages (from pandas->datasets) (2018.9)\n",
            "Requirement already satisfied: python-dateutil>=2.7.3 in /usr/local/lib/python3.7/dist-packages (from pandas->datasets) (2.8.2)\n",
            "Requirement already satisfied: six>=1.5 in /usr/local/lib/python3.7/dist-packages (from python-dateutil>=2.7.3->pandas->datasets) (1.15.0)\n"
          ]
        }
      ]
    },
    {
      "cell_type": "code",
      "source": [
        "! pip install -r requirements.txt"
      ],
      "metadata": {
        "colab": {
          "base_uri": "https://localhost:8080/"
        },
        "id": "HLKuA7PDrdnW",
        "outputId": "0be2c7a1-9919-477f-c6b4-de3d00dca7c5"
      },
      "execution_count": null,
      "outputs": [
        {
          "output_type": "stream",
          "name": "stdout",
          "text": [
            "Requirement already satisfied: transformers==4.17.0 in /usr/local/lib/python3.7/dist-packages (from -r requirements.txt (line 1)) (4.17.0)\n",
            "Requirement already satisfied: requests in /usr/local/lib/python3.7/dist-packages (from transformers==4.17.0->-r requirements.txt (line 1)) (2.23.0)\n",
            "Requirement already satisfied: importlib-metadata in /usr/local/lib/python3.7/dist-packages (from transformers==4.17.0->-r requirements.txt (line 1)) (4.11.3)\n",
            "Requirement already satisfied: packaging>=20.0 in /usr/local/lib/python3.7/dist-packages (from transformers==4.17.0->-r requirements.txt (line 1)) (21.3)\n",
            "Requirement already satisfied: filelock in /usr/local/lib/python3.7/dist-packages (from transformers==4.17.0->-r requirements.txt (line 1)) (3.6.0)\n",
            "Requirement already satisfied: tokenizers!=0.11.3,>=0.11.1 in /usr/local/lib/python3.7/dist-packages (from transformers==4.17.0->-r requirements.txt (line 1)) (0.12.1)\n",
            "Requirement already satisfied: numpy>=1.17 in /usr/local/lib/python3.7/dist-packages (from transformers==4.17.0->-r requirements.txt (line 1)) (1.21.5)\n",
            "Requirement already satisfied: sacremoses in /usr/local/lib/python3.7/dist-packages (from transformers==4.17.0->-r requirements.txt (line 1)) (0.0.49)\n",
            "Requirement already satisfied: tqdm>=4.27 in /usr/local/lib/python3.7/dist-packages (from transformers==4.17.0->-r requirements.txt (line 1)) (4.64.0)\n",
            "Requirement already satisfied: huggingface-hub<1.0,>=0.1.0 in /usr/local/lib/python3.7/dist-packages (from transformers==4.17.0->-r requirements.txt (line 1)) (0.5.1)\n",
            "Requirement already satisfied: pyyaml>=5.1 in /usr/local/lib/python3.7/dist-packages (from transformers==4.17.0->-r requirements.txt (line 1)) (6.0)\n",
            "Requirement already satisfied: regex!=2019.12.17 in /usr/local/lib/python3.7/dist-packages (from transformers==4.17.0->-r requirements.txt (line 1)) (2019.12.20)\n",
            "Requirement already satisfied: typing-extensions>=3.7.4.3 in /usr/local/lib/python3.7/dist-packages (from huggingface-hub<1.0,>=0.1.0->transformers==4.17.0->-r requirements.txt (line 1)) (4.1.1)\n",
            "Requirement already satisfied: pyparsing!=3.0.5,>=2.0.2 in /usr/local/lib/python3.7/dist-packages (from packaging>=20.0->transformers==4.17.0->-r requirements.txt (line 1)) (3.0.8)\n",
            "Requirement already satisfied: zipp>=0.5 in /usr/local/lib/python3.7/dist-packages (from importlib-metadata->transformers==4.17.0->-r requirements.txt (line 1)) (3.8.0)\n",
            "Requirement already satisfied: urllib3!=1.25.0,!=1.25.1,<1.26,>=1.21.1 in /usr/local/lib/python3.7/dist-packages (from requests->transformers==4.17.0->-r requirements.txt (line 1)) (1.25.11)\n",
            "Requirement already satisfied: idna<3,>=2.5 in /usr/local/lib/python3.7/dist-packages (from requests->transformers==4.17.0->-r requirements.txt (line 1)) (2.10)\n",
            "Requirement already satisfied: chardet<4,>=3.0.2 in /usr/local/lib/python3.7/dist-packages (from requests->transformers==4.17.0->-r requirements.txt (line 1)) (3.0.4)\n",
            "Requirement already satisfied: certifi>=2017.4.17 in /usr/local/lib/python3.7/dist-packages (from requests->transformers==4.17.0->-r requirements.txt (line 1)) (2021.10.8)\n",
            "Requirement already satisfied: six in /usr/local/lib/python3.7/dist-packages (from sacremoses->transformers==4.17.0->-r requirements.txt (line 1)) (1.15.0)\n",
            "Requirement already satisfied: click in /usr/local/lib/python3.7/dist-packages (from sacremoses->transformers==4.17.0->-r requirements.txt (line 1)) (7.1.2)\n",
            "Requirement already satisfied: joblib in /usr/local/lib/python3.7/dist-packages (from sacremoses->transformers==4.17.0->-r requirements.txt (line 1)) (1.1.0)\n"
          ]
        }
      ]
    },
    {
      "cell_type": "code",
      "source": [
        "% cd SentEval"
      ],
      "metadata": {
        "colab": {
          "base_uri": "https://localhost:8080/"
        },
        "id": "3AfhexE9F_cc",
        "outputId": "342428c2-5cad-40ee-aff1-aef35139138d"
      },
      "execution_count": null,
      "outputs": [
        {
          "output_type": "stream",
          "name": "stdout",
          "text": [
            "/content/distil_face/SentEval\n"
          ]
        }
      ]
    },
    {
      "cell_type": "code",
      "source": [
        "! python setup.py install"
      ],
      "metadata": {
        "colab": {
          "base_uri": "https://localhost:8080/"
        },
        "id": "Y1zhI0LBGC6I",
        "outputId": "0c16555d-ab3e-4e2a-ecb3-3709a54d9478"
      },
      "execution_count": null,
      "outputs": [
        {
          "output_type": "stream",
          "name": "stdout",
          "text": [
            "running install\n",
            "running bdist_egg\n",
            "running egg_info\n",
            "writing SentEval.egg-info/PKG-INFO\n",
            "writing dependency_links to SentEval.egg-info/dependency_links.txt\n",
            "writing top-level names to SentEval.egg-info/top_level.txt\n",
            "reading manifest file 'SentEval.egg-info/SOURCES.txt'\n",
            "adding license file 'LICENSE'\n",
            "writing manifest file 'SentEval.egg-info/SOURCES.txt'\n",
            "installing library code to build/bdist.linux-x86_64/egg\n",
            "running install_lib\n",
            "running build_py\n",
            "creating build/bdist.linux-x86_64/egg\n",
            "creating build/bdist.linux-x86_64/egg/senteval\n",
            "copying build/lib/senteval/trec.py -> build/bdist.linux-x86_64/egg/senteval\n",
            "copying build/lib/senteval/sick.py -> build/bdist.linux-x86_64/egg/senteval\n",
            "copying build/lib/senteval/probing.py -> build/bdist.linux-x86_64/egg/senteval\n",
            "copying build/lib/senteval/sst.py -> build/bdist.linux-x86_64/egg/senteval\n",
            "copying build/lib/senteval/snli.py -> build/bdist.linux-x86_64/egg/senteval\n",
            "copying build/lib/senteval/mrpc.py -> build/bdist.linux-x86_64/egg/senteval\n",
            "copying build/lib/senteval/rank.py -> build/bdist.linux-x86_64/egg/senteval\n",
            "creating build/bdist.linux-x86_64/egg/senteval/tools\n",
            "copying build/lib/senteval/tools/validation.py -> build/bdist.linux-x86_64/egg/senteval/tools\n",
            "copying build/lib/senteval/tools/relatedness.py -> build/bdist.linux-x86_64/egg/senteval/tools\n",
            "copying build/lib/senteval/tools/ranking.py -> build/bdist.linux-x86_64/egg/senteval/tools\n",
            "copying build/lib/senteval/tools/classifier.py -> build/bdist.linux-x86_64/egg/senteval/tools\n",
            "copying build/lib/senteval/tools/__init__.py -> build/bdist.linux-x86_64/egg/senteval/tools\n",
            "copying build/lib/senteval/binary.py -> build/bdist.linux-x86_64/egg/senteval\n",
            "copying build/lib/senteval/utils.py -> build/bdist.linux-x86_64/egg/senteval\n",
            "copying build/lib/senteval/sts.py -> build/bdist.linux-x86_64/egg/senteval\n",
            "copying build/lib/senteval/__init__.py -> build/bdist.linux-x86_64/egg/senteval\n",
            "copying build/lib/senteval/engine.py -> build/bdist.linux-x86_64/egg/senteval\n",
            "byte-compiling build/bdist.linux-x86_64/egg/senteval/trec.py to trec.cpython-37.pyc\n",
            "byte-compiling build/bdist.linux-x86_64/egg/senteval/sick.py to sick.cpython-37.pyc\n",
            "byte-compiling build/bdist.linux-x86_64/egg/senteval/probing.py to probing.cpython-37.pyc\n",
            "byte-compiling build/bdist.linux-x86_64/egg/senteval/sst.py to sst.cpython-37.pyc\n",
            "byte-compiling build/bdist.linux-x86_64/egg/senteval/snli.py to snli.cpython-37.pyc\n",
            "byte-compiling build/bdist.linux-x86_64/egg/senteval/mrpc.py to mrpc.cpython-37.pyc\n",
            "byte-compiling build/bdist.linux-x86_64/egg/senteval/rank.py to rank.cpython-37.pyc\n",
            "byte-compiling build/bdist.linux-x86_64/egg/senteval/tools/validation.py to validation.cpython-37.pyc\n",
            "byte-compiling build/bdist.linux-x86_64/egg/senteval/tools/relatedness.py to relatedness.cpython-37.pyc\n",
            "byte-compiling build/bdist.linux-x86_64/egg/senteval/tools/ranking.py to ranking.cpython-37.pyc\n",
            "byte-compiling build/bdist.linux-x86_64/egg/senteval/tools/classifier.py to classifier.cpython-37.pyc\n",
            "byte-compiling build/bdist.linux-x86_64/egg/senteval/tools/__init__.py to __init__.cpython-37.pyc\n",
            "byte-compiling build/bdist.linux-x86_64/egg/senteval/binary.py to binary.cpython-37.pyc\n",
            "byte-compiling build/bdist.linux-x86_64/egg/senteval/utils.py to utils.cpython-37.pyc\n",
            "byte-compiling build/bdist.linux-x86_64/egg/senteval/sts.py to sts.cpython-37.pyc\n",
            "byte-compiling build/bdist.linux-x86_64/egg/senteval/__init__.py to __init__.cpython-37.pyc\n",
            "byte-compiling build/bdist.linux-x86_64/egg/senteval/engine.py to engine.cpython-37.pyc\n",
            "creating build/bdist.linux-x86_64/egg/EGG-INFO\n",
            "copying SentEval.egg-info/PKG-INFO -> build/bdist.linux-x86_64/egg/EGG-INFO\n",
            "copying SentEval.egg-info/SOURCES.txt -> build/bdist.linux-x86_64/egg/EGG-INFO\n",
            "copying SentEval.egg-info/dependency_links.txt -> build/bdist.linux-x86_64/egg/EGG-INFO\n",
            "copying SentEval.egg-info/top_level.txt -> build/bdist.linux-x86_64/egg/EGG-INFO\n",
            "zip_safe flag not set; analyzing archive contents...\n",
            "creating 'dist/SentEval-0.1.0-py3.7.egg' and adding 'build/bdist.linux-x86_64/egg' to it\n",
            "removing 'build/bdist.linux-x86_64/egg' (and everything under it)\n",
            "Processing SentEval-0.1.0-py3.7.egg\n",
            "Removing /usr/local/lib/python3.7/dist-packages/SentEval-0.1.0-py3.7.egg\n",
            "Copying SentEval-0.1.0-py3.7.egg to /usr/local/lib/python3.7/dist-packages\n",
            "SentEval 0.1.0 is already the active version in easy-install.pth\n",
            "\n",
            "Installed /usr/local/lib/python3.7/dist-packages/SentEval-0.1.0-py3.7.egg\n",
            "Processing dependencies for SentEval==0.1.0\n",
            "Finished processing dependencies for SentEval==0.1.0\n"
          ]
        }
      ]
    },
    {
      "cell_type": "code",
      "source": [
        "# ! pip freeze"
      ],
      "metadata": {
        "colab": {
          "base_uri": "https://localhost:8080/"
        },
        "id": "cuEiVSClFg2K",
        "outputId": "b1f82b12-5bae-4d83-95c7-01fc1126e289"
      },
      "execution_count": null,
      "outputs": [
        {
          "output_type": "stream",
          "name": "stdout",
          "text": [
            "absl-py==1.0.0\n",
            "aiohttp==3.8.1\n",
            "aiosignal==1.2.0\n",
            "alabaster==0.7.12\n",
            "albumentations==0.1.12\n",
            "altair==4.2.0\n",
            "appdirs==1.4.4\n",
            "argon2-cffi==21.3.0\n",
            "argon2-cffi-bindings==21.2.0\n",
            "arviz==0.11.4\n",
            "astor==0.8.1\n",
            "astropy==4.3.1\n",
            "astunparse==1.6.3\n",
            "async-timeout==4.0.2\n",
            "asynctest==0.13.0\n",
            "atari-py==0.2.9\n",
            "atomicwrites==1.4.0\n",
            "attrs==21.4.0\n",
            "audioread==2.1.9\n",
            "autograd==1.3\n",
            "Babel==2.9.1\n",
            "backcall==0.2.0\n",
            "beautifulsoup4==4.6.3\n",
            "bleach==4.1.0\n",
            "blis==0.4.1\n",
            "bokeh==2.3.3\n",
            "Bottleneck==1.3.4\n",
            "branca==0.4.2\n",
            "bs4==0.0.1\n",
            "CacheControl==0.12.10\n",
            "cached-property==1.5.2\n",
            "cachetools==4.2.4\n",
            "catalogue==1.0.0\n",
            "certifi==2021.10.8\n",
            "cffi==1.15.0\n",
            "cftime==1.6.0\n",
            "chardet==3.0.4\n",
            "charset-normalizer==2.0.12\n",
            "click==7.1.2\n",
            "cloudpickle==1.3.0\n",
            "cmake==3.12.0\n",
            "cmdstanpy==0.9.5\n",
            "colorcet==3.0.0\n",
            "colorlover==0.3.0\n",
            "community==1.0.0b1\n",
            "contextlib2==0.5.5\n",
            "convertdate==2.4.0\n",
            "coverage==3.7.1\n",
            "coveralls==0.5\n",
            "crcmod==1.7\n",
            "cufflinks==0.17.3\n",
            "cupy-cuda111==9.4.0\n",
            "cvxopt==1.2.7\n",
            "cvxpy==1.0.31\n",
            "cycler==0.11.0\n",
            "cymem==2.0.6\n",
            "Cython==0.29.28\n",
            "daft==0.0.4\n",
            "dask==2.12.0\n",
            "datascience==0.10.6\n",
            "datasets==2.0.0\n",
            "debugpy==1.0.0\n",
            "decorator==4.4.2\n",
            "defusedxml==0.7.1\n",
            "descartes==1.1.0\n",
            "dill==0.3.4\n",
            "distributed==1.25.3\n",
            "dlib @ file:///dlib-19.18.0-cp37-cp37m-linux_x86_64.whl\n",
            "dm-tree==0.1.6\n",
            "docopt==0.6.2\n",
            "docutils==0.17.1\n",
            "dopamine-rl==1.0.5\n",
            "earthengine-api==0.1.303\n",
            "easydict==1.9\n",
            "ecos==2.0.10\n",
            "editdistance==0.5.3\n",
            "en-core-web-sm @ https://github.com/explosion/spacy-models/releases/download/en_core_web_sm-2.2.5/en_core_web_sm-2.2.5.tar.gz\n",
            "entrypoints==0.4\n",
            "ephem==4.1.3\n",
            "et-xmlfile==1.1.0\n",
            "fa2==0.3.5\n",
            "fastai==1.0.61\n",
            "fastdtw==0.3.4\n",
            "fastprogress==1.0.2\n",
            "fastrlock==0.8\n",
            "fbprophet==0.7.1\n",
            "feather-format==0.4.1\n",
            "filelock==3.6.0\n",
            "firebase-admin==4.4.0\n",
            "fix-yahoo-finance==0.0.22\n",
            "Flask==1.1.4\n",
            "flatbuffers==2.0\n",
            "folium==0.8.3\n",
            "frozenlist==1.3.0\n",
            "fsspec==2022.3.0\n",
            "future==0.16.0\n",
            "gast==0.5.3\n",
            "GDAL==2.2.2\n",
            "gdown==4.2.2\n",
            "gensim==3.6.0\n",
            "geographiclib==1.52\n",
            "geopy==1.17.0\n",
            "gin-config==0.5.0\n",
            "glob2==0.7\n",
            "google==2.0.3\n",
            "google-api-core==1.26.3\n",
            "google-api-python-client==1.12.11\n",
            "google-auth==1.35.0\n",
            "google-auth-httplib2==0.0.4\n",
            "google-auth-oauthlib==0.4.6\n",
            "google-cloud-bigquery==1.21.0\n",
            "google-cloud-bigquery-storage==1.1.0\n",
            "google-cloud-core==1.0.3\n",
            "google-cloud-datastore==1.8.0\n",
            "google-cloud-firestore==1.7.0\n",
            "google-cloud-language==1.2.0\n",
            "google-cloud-storage==1.18.1\n",
            "google-cloud-translate==1.5.0\n",
            "google-colab @ file:///colabtools/dist/google-colab-1.0.0.tar.gz\n",
            "google-pasta==0.2.0\n",
            "google-resumable-media==0.4.1\n",
            "googleapis-common-protos==1.56.0\n",
            "googledrivedownloader==0.4\n",
            "graphviz==0.10.1\n",
            "greenlet==1.1.2\n",
            "grpcio==1.44.0\n",
            "gspread==3.4.2\n",
            "gspread-dataframe==3.0.8\n",
            "gym==0.17.3\n",
            "h5py==3.1.0\n",
            "HeapDict==1.0.1\n",
            "hijri-converter==2.2.3\n",
            "holidays==0.10.5.2\n",
            "holoviews==1.14.8\n",
            "html5lib==1.0.1\n",
            "httpimport==0.5.18\n",
            "httplib2==0.17.4\n",
            "httplib2shim==0.0.3\n",
            "huggingface-hub==0.4.0\n",
            "humanize==0.5.1\n",
            "hyperopt==0.1.2\n",
            "ideep4py==2.0.0.post3\n",
            "idna==2.10\n",
            "imageio==2.4.1\n",
            "imagesize==1.3.0\n",
            "imbalanced-learn==0.8.1\n",
            "imblearn==0.0\n",
            "imgaug==0.2.9\n",
            "importlib-metadata==4.11.3\n",
            "importlib-resources==5.4.0\n",
            "imutils==0.5.4\n",
            "inflect==2.1.0\n",
            "iniconfig==1.1.1\n",
            "intel-openmp==2022.0.2\n",
            "intervaltree==2.1.0\n",
            "ipykernel==4.10.1\n",
            "ipython==5.5.0\n",
            "ipython-genutils==0.2.0\n",
            "ipython-sql==0.3.9\n",
            "ipywidgets==7.7.0\n",
            "itsdangerous==1.1.0\n",
            "jax==0.3.4\n",
            "jaxlib @ https://storage.googleapis.com/jax-releases/cuda11/jaxlib-0.3.2+cuda11.cudnn805-cp37-none-manylinux2010_x86_64.whl\n",
            "jedi==0.18.1\n",
            "jieba==0.42.1\n",
            "Jinja2==2.11.3\n",
            "joblib==1.1.0\n",
            "jpeg4py==0.1.4\n",
            "jsonschema==4.3.3\n",
            "jupyter==1.0.0\n",
            "jupyter-client==5.3.5\n",
            "jupyter-console==5.2.0\n",
            "jupyter-core==4.9.2\n",
            "jupyterlab-pygments==0.1.2\n",
            "jupyterlab-widgets==1.1.0\n",
            "kaggle==1.5.12\n",
            "kapre==0.3.7\n",
            "keras==2.8.0\n",
            "Keras-Preprocessing==1.1.2\n",
            "keras-vis==0.4.1\n",
            "kiwisolver==1.4.0\n",
            "korean-lunar-calendar==0.2.1\n",
            "libclang==13.0.0\n",
            "librosa==0.8.1\n",
            "lightgbm==2.2.3\n",
            "llvmlite==0.34.0\n",
            "lmdb==0.99\n",
            "LunarCalendar==0.0.9\n",
            "lxml==4.2.6\n",
            "Markdown==3.3.6\n",
            "MarkupSafe==2.0.1\n",
            "matplotlib==3.2.2\n",
            "matplotlib-inline==0.1.3\n",
            "matplotlib-venn==0.11.6\n",
            "missingno==0.5.1\n",
            "mistune==0.8.4\n",
            "mizani==0.6.0\n",
            "mkl==2019.0\n",
            "mlxtend==0.14.0\n",
            "more-itertools==8.12.0\n",
            "moviepy==0.2.3.5\n",
            "mpmath==1.2.1\n",
            "msgpack==1.0.3\n",
            "multidict==6.0.2\n",
            "multiprocess==0.70.12.2\n",
            "multitasking==0.0.10\n",
            "murmurhash==1.0.6\n",
            "music21==5.5.0\n",
            "natsort==5.5.0\n",
            "nbclient==0.5.13\n",
            "nbconvert==5.6.1\n",
            "nbformat==5.2.0\n",
            "nest-asyncio==1.5.4\n",
            "netCDF4==1.5.8\n",
            "networkx==2.6.3\n",
            "nibabel==3.0.2\n",
            "nltk==3.2.5\n",
            "notebook==5.3.1\n",
            "numba==0.51.2\n",
            "numexpr==2.8.1\n",
            "numpy==1.21.5\n",
            "nvidia-ml-py3==7.352.0\n",
            "oauth2client==4.1.3\n",
            "oauthlib==3.2.0\n",
            "okgrade==0.4.3\n",
            "opencv-contrib-python==4.1.2.30\n",
            "opencv-python==4.1.2.30\n",
            "openpyxl==3.0.9\n",
            "opt-einsum==3.3.0\n",
            "osqp==0.6.2.post0\n",
            "packaging==21.3\n",
            "palettable==3.3.0\n",
            "pandas==1.3.5\n",
            "pandas-datareader==0.9.0\n",
            "pandas-gbq==0.13.3\n",
            "pandas-profiling==1.4.1\n",
            "pandocfilters==1.5.0\n",
            "panel==0.12.1\n",
            "param==1.12.0\n",
            "parso==0.8.3\n",
            "pathlib==1.0.1\n",
            "patsy==0.5.2\n",
            "pep517==0.12.0\n",
            "pexpect==4.8.0\n",
            "pickleshare==0.7.5\n",
            "Pillow==7.1.2\n",
            "pip-tools==6.2.0\n",
            "plac==1.1.3\n",
            "plotly==5.5.0\n",
            "plotnine==0.6.0\n",
            "pluggy==0.7.1\n",
            "pooch==1.6.0\n",
            "portpicker==1.3.9\n",
            "prefetch-generator==1.0.1\n",
            "preshed==3.0.6\n",
            "prettytable==3.2.0\n",
            "progressbar2==3.38.0\n",
            "prometheus-client==0.13.1\n",
            "promise==2.3\n",
            "prompt-toolkit==1.0.18\n",
            "protobuf==3.17.3\n",
            "psutil==5.4.8\n",
            "psycopg2==2.7.6.1\n",
            "ptyprocess==0.7.0\n",
            "py==1.11.0\n",
            "pyarrow==6.0.1\n",
            "pyasn1==0.4.8\n",
            "pyasn1-modules==0.2.8\n",
            "pycocotools==2.0.4\n",
            "pycparser==2.21\n",
            "pyct==0.4.8\n",
            "pydata-google-auth==1.4.0\n",
            "pydot==1.3.0\n",
            "pydot-ng==2.0.0\n",
            "pydotplus==2.0.2\n",
            "PyDrive==1.3.1\n",
            "pyemd==0.5.1\n",
            "pyerfa==2.0.0.1\n",
            "pyglet==1.5.0\n",
            "Pygments==2.6.1\n",
            "pygobject==3.26.1\n",
            "pymc3==3.11.4\n",
            "PyMeeus==0.5.11\n",
            "pymongo==4.0.2\n",
            "pymystem3==0.2.0\n",
            "PyOpenGL==3.1.6\n",
            "pyparsing==3.0.7\n",
            "pyrsistent==0.18.1\n",
            "pysndfile==1.3.8\n",
            "PySocks==1.7.1\n",
            "pystan==2.19.1.1\n",
            "pytest==3.6.4\n",
            "python-apt==0.0.0\n",
            "python-chess==0.23.11\n",
            "python-dateutil==2.8.2\n",
            "python-louvain==0.16\n",
            "python-slugify==6.1.1\n",
            "python-utils==3.1.0\n",
            "pytz==2018.9\n",
            "pyviz-comms==2.1.0\n",
            "PyWavelets==1.3.0\n",
            "PyYAML==6.0\n",
            "pyzmq==22.3.0\n",
            "qdldl==0.1.5.post0\n",
            "qtconsole==5.2.2\n",
            "QtPy==2.0.1\n",
            "regex==2019.12.20\n",
            "requests==2.23.0\n",
            "requests-oauthlib==1.3.1\n",
            "resampy==0.2.2\n",
            "responses==0.18.0\n",
            "rpy2==3.4.5\n",
            "rsa==4.8\n",
            "sacremoses==0.0.49\n",
            "scikit-image==0.18.3\n",
            "scikit-learn==1.0.2\n",
            "scipy==1.4.1\n",
            "screen-resolution-extra==0.0.0\n",
            "scs==3.2.0\n",
            "seaborn==0.11.2\n",
            "semver==2.13.0\n",
            "Send2Trash==1.8.0\n",
            "SentEval==0.1.0\n",
            "setuptools-git==1.2\n",
            "Shapely==1.8.1.post1\n",
            "simplegeneric==0.8.1\n",
            "six==1.15.0\n",
            "sklearn==0.0\n",
            "sklearn-pandas==1.8.0\n",
            "smart-open==5.2.1\n",
            "snowballstemmer==2.2.0\n",
            "sortedcontainers==2.4.0\n",
            "SoundFile==0.10.3.post1\n",
            "soupsieve==2.3.1\n",
            "spacy==2.2.4\n",
            "Sphinx==1.8.6\n",
            "sphinxcontrib-serializinghtml==1.1.5\n",
            "sphinxcontrib-websupport==1.2.4\n",
            "SQLAlchemy==1.4.32\n",
            "sqlparse==0.4.2\n",
            "srsly==1.0.5\n",
            "statsmodels==0.10.2\n",
            "sympy==1.7.1\n",
            "tables==3.7.0\n",
            "tabulate==0.8.9\n",
            "tblib==1.7.0\n",
            "tenacity==8.0.1\n",
            "tensorboard==2.8.0\n",
            "tensorboard-data-server==0.6.1\n",
            "tensorboard-plugin-wit==1.8.1\n",
            "tensorflow @ file:///tensorflow-2.8.0-cp37-cp37m-linux_x86_64.whl\n",
            "tensorflow-datasets==4.0.1\n",
            "tensorflow-estimator==2.8.0\n",
            "tensorflow-gcs-config==2.8.0\n",
            "tensorflow-hub==0.12.0\n",
            "tensorflow-io-gcs-filesystem==0.24.0\n",
            "tensorflow-metadata==1.7.0\n",
            "tensorflow-probability==0.16.0\n",
            "termcolor==1.1.0\n",
            "terminado==0.13.3\n",
            "testpath==0.6.0\n",
            "text-unidecode==1.3\n",
            "textblob==0.15.3\n",
            "Theano-PyMC==1.1.2\n",
            "thinc==7.4.0\n",
            "threadpoolctl==3.1.0\n",
            "tifffile==2021.11.2\n",
            "tokenizers==0.11.6\n",
            "tomli==2.0.1\n",
            "toolz==0.11.2\n",
            "torch @ https://download.pytorch.org/whl/cu111/torch-1.10.0%2Bcu111-cp37-cp37m-linux_x86_64.whl\n",
            "torchaudio @ https://download.pytorch.org/whl/cu111/torchaudio-0.10.0%2Bcu111-cp37-cp37m-linux_x86_64.whl\n",
            "torchsummary==1.5.1\n",
            "torchtext==0.11.0\n",
            "torchvision @ https://download.pytorch.org/whl/cu111/torchvision-0.11.1%2Bcu111-cp37-cp37m-linux_x86_64.whl\n",
            "tornado==5.1.1\n",
            "tqdm==4.63.0\n",
            "traitlets==5.1.1\n",
            "transformers==4.17.0\n",
            "tweepy==3.10.0\n",
            "typeguard==2.7.1\n",
            "typing-extensions==3.10.0.2\n",
            "tzlocal==1.5.1\n",
            "uritemplate==3.0.1\n",
            "urllib3==1.25.11\n",
            "vega-datasets==0.9.0\n",
            "wasabi==0.9.0\n",
            "wcwidth==0.2.5\n",
            "webencodings==0.5.1\n",
            "Werkzeug==1.0.1\n",
            "widgetsnbextension==3.6.0\n",
            "wordcloud==1.5.0\n",
            "wrapt==1.14.0\n",
            "xarray==0.18.2\n",
            "xgboost==0.90\n",
            "xkit==0.0.0\n",
            "xlrd==1.1.0\n",
            "xlwt==1.3.0\n",
            "xxhash==3.0.0\n",
            "yarl==1.7.2\n",
            "yellowbrick==1.4\n",
            "zict==2.1.0\n",
            "zipp==3.7.0\n"
          ]
        }
      ]
    },
    {
      "cell_type": "code",
      "source": [
        "% cd .."
      ],
      "metadata": {
        "colab": {
          "base_uri": "https://localhost:8080/"
        },
        "id": "SsKr4FagIHBn",
        "outputId": "260ed4c2-cf20-4136-885b-6f42db2a5b9d"
      },
      "execution_count": null,
      "outputs": [
        {
          "output_type": "stream",
          "name": "stdout",
          "text": [
            "/content/distil_face\n"
          ]
        }
      ]
    },
    {
      "cell_type": "code",
      "execution_count": null,
      "metadata": {
        "id": "WWeqt57wrU-W"
      },
      "outputs": [],
      "source": [
        "# import os\n",
        "\n",
        "# # Set Project home\n",
        "# PROJECT_HOME = os.path.join('/',\n",
        "#                             'workspace',\n",
        "#                             'gatech',\n",
        "#                             'cs7643-deep-learning',\n",
        "#                             'contrastive-learning-in-distilled-models')\n",
        "# %cd {PROJECT_HOME}\n",
        "\n",
        "# # Load project code\n",
        "# %reload_ext autoreload\n",
        "# %autoreload 2\n",
        "\n",
        "# import sys\n",
        "# sys.path.insert(0, './src')\n",
        "\n",
        "# import distilface\n",
        "\n",
        "\n",
        "import src.distilface"
      ]
    },
    {
      "cell_type": "code",
      "source": [
        "! bash ./scripts/download_training_data.sh\n",
        "! bash ./scripts/download_eval_data.sh"
      ],
      "metadata": {
        "colab": {
          "base_uri": "https://localhost:8080/"
        },
        "id": "32VdCeYdrub9",
        "outputId": "dcae91d5-1a68-4ded-b54f-1d43f49b2557"
      },
      "execution_count": null,
      "outputs": [
        {
          "output_type": "stream",
          "name": "stdout",
          "text": [
            "--2022-04-15 14:07:50--  https://huggingface.co/datasets/princeton-nlp/datasets-for-simcse/resolve/main/wiki1m_for_simcse.txt\n",
            "Resolving huggingface.co (huggingface.co)... 34.224.55.150, 34.200.173.213, 34.198.1.82, ...\n",
            "Connecting to huggingface.co (huggingface.co)|34.224.55.150|:443... connected.\n",
            "HTTP request sent, awaiting response... 302 Found\n",
            "Location: https://cdn-lfs.huggingface.co/datasets/princeton-nlp/datasets-for-simcse/7b1825863a99aa76479b0456f7c210539dfaeeb69598b41fb4de4f524dd5a706 [following]\n",
            "--2022-04-15 14:07:50--  https://cdn-lfs.huggingface.co/datasets/princeton-nlp/datasets-for-simcse/7b1825863a99aa76479b0456f7c210539dfaeeb69598b41fb4de4f524dd5a706\n",
            "Resolving cdn-lfs.huggingface.co (cdn-lfs.huggingface.co)... 108.159.227.123, 108.159.227.69, 108.159.227.71, ...\n",
            "Connecting to cdn-lfs.huggingface.co (cdn-lfs.huggingface.co)|108.159.227.123|:443... connected.\n",
            "HTTP request sent, awaiting response... 200 OK\n",
            "Length: 120038621 (114M) [text/plain]\n",
            "Saving to: ‘./data/training/wiki1m_for_simcse.txt.1’\n",
            "\n",
            "wiki1m_for_simcse.t 100%[===================>] 114.48M   123MB/s    in 0.9s    \n",
            "\n",
            "2022-04-15 14:07:51 (123 MB/s) - ‘./data/training/wiki1m_for_simcse.txt.1’ saved [120038621/120038621]\n",
            "\n",
            "--2022-04-15 14:07:51--  http://ixa2.si.ehu.es/stswiki/images/4/40/STS2012-en-test.zip\n",
            "Resolving ixa2.si.ehu.es (ixa2.si.ehu.es)... 158.227.106.100\n",
            "Connecting to ixa2.si.ehu.es (ixa2.si.ehu.es)|158.227.106.100|:80... connected.\n",
            "HTTP request sent, awaiting response... 302 Found\n",
            "Location: http://ixa2.si.ehu.eus/stswiki/images/4/40/STS2012-en-test.zip [following]\n",
            "--2022-04-15 14:07:51--  http://ixa2.si.ehu.eus/stswiki/images/4/40/STS2012-en-test.zip\n",
            "Resolving ixa2.si.ehu.eus (ixa2.si.ehu.eus)... 158.227.106.100\n",
            "Connecting to ixa2.si.ehu.eus (ixa2.si.ehu.eus)|158.227.106.100|:80... connected.\n",
            "HTTP request sent, awaiting response... 200 OK\n",
            "Length: 113322 (111K) [application/zip]\n",
            "Saving to: ‘data/downstream/STS/STS2012-en-test.zip’\n",
            "\n",
            "STS2012-en-test.zip 100%[===================>] 110.67K   203KB/s    in 0.5s    \n",
            "\n",
            "2022-04-15 14:07:52 (203 KB/s) - ‘data/downstream/STS/STS2012-en-test.zip’ saved [113322/113322]\n",
            "\n",
            "Archive:  data/downstream/STS/STS2012-en-test.zip\n",
            "   creating: data/downstream/STS/STS12-en-test/test-gold/\n",
            "  inflating: data/downstream/STS/STS12-en-test/test-gold/00-readme.txt  \n",
            "  inflating: data/downstream/STS/STS12-en-test/test-gold/STS.gs.ALL.txt  \n",
            "  inflating: data/downstream/STS/STS12-en-test/test-gold/STS.gs.MSRpar.txt  \n",
            "  inflating: data/downstream/STS/STS12-en-test/test-gold/STS.gs.MSRvid.txt  \n",
            "  inflating: data/downstream/STS/STS12-en-test/test-gold/STS.gs.SMTeuroparl.txt  \n",
            "  inflating: data/downstream/STS/STS12-en-test/test-gold/STS.gs.surprise.OnWN.txt  \n",
            "  inflating: data/downstream/STS/STS12-en-test/test-gold/STS.gs.surprise.SMTnews.txt  \n",
            "  inflating: data/downstream/STS/STS12-en-test/test-gold/STS.input.MSRpar.txt  \n",
            "  inflating: data/downstream/STS/STS12-en-test/test-gold/STS.input.MSRvid.txt  \n",
            "  inflating: data/downstream/STS/STS12-en-test/test-gold/STS.input.SMTeuroparl.txt  \n",
            "  inflating: data/downstream/STS/STS12-en-test/test-gold/STS.input.surprise.OnWN.txt  \n",
            "  inflating: data/downstream/STS/STS12-en-test/test-gold/STS.input.surprise.SMTnews.txt  \n",
            "--2022-04-15 14:07:52--  http://ixa2.si.ehu.es/stswiki/images/2/2f/STS2013-en-test.zip\n",
            "Resolving ixa2.si.ehu.es (ixa2.si.ehu.es)... 158.227.106.100\n",
            "Connecting to ixa2.si.ehu.es (ixa2.si.ehu.es)|158.227.106.100|:80... connected.\n",
            "HTTP request sent, awaiting response... 302 Found\n",
            "Location: http://ixa2.si.ehu.eus/stswiki/images/2/2f/STS2013-en-test.zip [following]\n",
            "--2022-04-15 14:07:53--  http://ixa2.si.ehu.eus/stswiki/images/2/2f/STS2013-en-test.zip\n",
            "Resolving ixa2.si.ehu.eus (ixa2.si.ehu.eus)... 158.227.106.100\n",
            "Connecting to ixa2.si.ehu.eus (ixa2.si.ehu.eus)|158.227.106.100|:80... connected.\n",
            "HTTP request sent, awaiting response... 200 OK\n",
            "Length: 76462 (75K) [application/zip]\n",
            "Saving to: ‘data/downstream/STS/STS2013-en-test.zip’\n",
            "\n",
            "STS2013-en-test.zip 100%[===================>]  74.67K   180KB/s    in 0.4s    \n",
            "\n",
            "2022-04-15 14:07:53 (180 KB/s) - ‘data/downstream/STS/STS2013-en-test.zip’ saved [76462/76462]\n",
            "\n",
            "Archive:  data/downstream/STS/STS2013-en-test.zip\n",
            "   creating: data/downstream/STS/STS13-en-test/test-gs/\n",
            "  inflating: data/downstream/STS/STS13-en-test/test-gs/00-readme.txt  \n",
            "  inflating: data/downstream/STS/STS13-en-test/test-gs/STS.gs.FNWN.txt  \n",
            "  inflating: data/downstream/STS/STS13-en-test/test-gs/STS.gs.OnWN.txt  \n",
            "  inflating: data/downstream/STS/STS13-en-test/test-gs/STS.gs.SMT.txt  \n",
            "  inflating: data/downstream/STS/STS13-en-test/test-gs/STS.gs.headlines.txt  \n",
            "  inflating: data/downstream/STS/STS13-en-test/test-gs/STS.input.FNWN.txt  \n",
            "  inflating: data/downstream/STS/STS13-en-test/test-gs/STS.input.OnWN.txt  \n",
            "  inflating: data/downstream/STS/STS13-en-test/test-gs/STS.input.headlines.txt  \n",
            "  inflating: data/downstream/STS/STS13-en-test/test-gs/STS.output.FNWN.txt  \n",
            "  inflating: data/downstream/STS/STS13-en-test/test-gs/STS.output.OnWN.txt  \n",
            "  inflating: data/downstream/STS/STS13-en-test/test-gs/STS.output.SMT.txt  \n",
            "  inflating: data/downstream/STS/STS13-en-test/test-gs/STS.output.headlines.txt  \n",
            "  inflating: data/downstream/STS/STS13-en-test/test-gs/correct-output.pl  \n",
            "  inflating: data/downstream/STS/STS13-en-test/test-gs/correlation-all.pl  \n",
            "  inflating: data/downstream/STS/STS13-en-test/test-gs/correlation.pl  \n",
            "--2022-04-15 14:07:53--  http://ixa2.si.ehu.es/stswiki/images/8/8c/STS2014-en-test.zip\n",
            "Resolving ixa2.si.ehu.es (ixa2.si.ehu.es)... 158.227.106.100\n",
            "Connecting to ixa2.si.ehu.es (ixa2.si.ehu.es)|158.227.106.100|:80... connected.\n",
            "HTTP request sent, awaiting response... 302 Found\n",
            "Location: http://ixa2.si.ehu.eus/stswiki/images/8/8c/STS2014-en-test.zip [following]\n",
            "--2022-04-15 14:07:54--  http://ixa2.si.ehu.eus/stswiki/images/8/8c/STS2014-en-test.zip\n",
            "Resolving ixa2.si.ehu.eus (ixa2.si.ehu.eus)... 158.227.106.100\n",
            "Connecting to ixa2.si.ehu.eus (ixa2.si.ehu.eus)|158.227.106.100|:80... connected.\n",
            "HTTP request sent, awaiting response... 200 OK\n",
            "Length: 471954 (461K) [application/zip]\n",
            "Saving to: ‘data/downstream/STS/STS2014-en-test.zip’\n",
            "\n",
            "STS2014-en-test.zip 100%[===================>] 460.89K   492KB/s    in 0.9s    \n",
            "\n",
            "2022-04-15 14:07:55 (492 KB/s) - ‘data/downstream/STS/STS2014-en-test.zip’ saved [471954/471954]\n",
            "\n",
            "Archive:  data/downstream/STS/STS2014-en-test.zip\n",
            "  inflating: data/downstream/STS/STS14-en-test/sts-en-test-gs-2014/STS.input.deft-forum.txt  \n",
            "  inflating: data/downstream/STS/STS14-en-test/sts-en-test-gs-2014/correlation-noconfidence.pl  \n",
            "  inflating: data/downstream/STS/STS14-en-test/sts-en-test-gs-2014/STS.input.deft-news.txt  \n",
            "  inflating: data/downstream/STS/STS14-en-test/sts-en-test-gs-2014/STS.input.headlines.txt  \n",
            "  inflating: data/downstream/STS/STS14-en-test/sts-en-test-gs-2014/STS.input.images.txt  \n",
            "  inflating: data/downstream/STS/STS14-en-test/sts-en-test-gs-2014/STS.input.OnWN.txt  \n",
            "  inflating: data/downstream/STS/STS14-en-test/sts-en-test-gs-2014/STS.input.tweet-news.txt  \n",
            "  inflating: data/downstream/STS/STS14-en-test/sts-en-test-gs-2014/STS.output.headlines.txt  \n",
            "  inflating: data/downstream/STS/STS14-en-test/sts-en-test-gs-2014/sts2012-test.tgz  \n",
            "  inflating: data/downstream/STS/STS14-en-test/sts-en-test-gs-2014/sts2012-train.tgz  \n",
            "  inflating: data/downstream/STS/STS14-en-test/sts-en-test-gs-2014/sts2013-test.tgz  \n",
            "  inflating: data/downstream/STS/STS14-en-test/sts-en-test-gs-2014/STS.gs.deft-forum.txt  \n",
            "  inflating: data/downstream/STS/STS14-en-test/sts-en-test-gs-2014/STS.gs.deft-news.txt  \n",
            "  inflating: data/downstream/STS/STS14-en-test/sts-en-test-gs-2014/STS.gs.headlines.txt  \n",
            "  inflating: data/downstream/STS/STS14-en-test/sts-en-test-gs-2014/STS.gs.images.txt  \n",
            "  inflating: data/downstream/STS/STS14-en-test/sts-en-test-gs-2014/STS.gs.OnWN.txt  \n",
            "  inflating: data/downstream/STS/STS14-en-test/sts-en-test-gs-2014/STS.gs.tweet-news.txt  \n",
            "  inflating: data/downstream/STS/STS14-en-test/sts-en-test-gs-2014/00-readme.txt  \n",
            "--2022-04-15 14:07:55--  http://ixa2.si.ehu.es/stswiki/images/d/da/STS2015-en-test.zip\n",
            "Resolving ixa2.si.ehu.es (ixa2.si.ehu.es)... 158.227.106.100\n",
            "Connecting to ixa2.si.ehu.es (ixa2.si.ehu.es)|158.227.106.100|:80... connected.\n",
            "HTTP request sent, awaiting response... 302 Found\n",
            "Location: http://ixa2.si.ehu.eus/stswiki/images/d/da/STS2015-en-test.zip [following]\n",
            "--2022-04-15 14:07:55--  http://ixa2.si.ehu.eus/stswiki/images/d/da/STS2015-en-test.zip\n",
            "Resolving ixa2.si.ehu.eus (ixa2.si.ehu.eus)... 158.227.106.100\n",
            "Connecting to ixa2.si.ehu.eus (ixa2.si.ehu.eus)|158.227.106.100|:80... connected.\n",
            "HTTP request sent, awaiting response... 200 OK\n",
            "Length: 708205 (692K) [application/zip]\n",
            "Saving to: ‘data/downstream/STS/STS2015-en-test.zip’\n",
            "\n",
            "STS2015-en-test.zip 100%[===================>] 691.61K   627KB/s    in 1.1s    \n",
            "\n",
            "2022-04-15 14:07:57 (627 KB/s) - ‘data/downstream/STS/STS2015-en-test.zip’ saved [708205/708205]\n",
            "\n",
            "Archive:  data/downstream/STS/STS2015-en-test.zip\n",
            "   creating: data/downstream/STS/STS15-en-test/test_evaluation_task2a/\n",
            "  inflating: data/downstream/STS/STS15-en-test/test_evaluation_task2a/00-readme.txt  \n",
            "  inflating: data/downstream/STS/STS15-en-test/test_evaluation_task2a/STS.answers-forums.zip  \n",
            "  inflating: data/downstream/STS/STS15-en-test/test_evaluation_task2a/STS.gs.answers-forums.txt  \n",
            "  inflating: data/downstream/STS/STS15-en-test/test_evaluation_task2a/STS.gs.answers-students.txt  \n",
            "  inflating: data/downstream/STS/STS15-en-test/test_evaluation_task2a/STS.gs.belief.txt  \n",
            "  inflating: data/downstream/STS/STS15-en-test/test_evaluation_task2a/STS.gs.headlines.txt  \n",
            "  inflating: data/downstream/STS/STS15-en-test/test_evaluation_task2a/STS.gs.images.txt  \n",
            "  inflating: data/downstream/STS/STS15-en-test/test_evaluation_task2a/STS.input.answers-forums.LICENSE  \n",
            "  inflating: data/downstream/STS/STS15-en-test/test_evaluation_task2a/STS.input.answers-forums.txt  \n",
            "  inflating: data/downstream/STS/STS15-en-test/test_evaluation_task2a/STS.input.answers-students.txt  \n",
            "  inflating: data/downstream/STS/STS15-en-test/test_evaluation_task2a/STS.input.belief.txt  \n",
            "  inflating: data/downstream/STS/STS15-en-test/test_evaluation_task2a/STS.input.headlines.txt  \n",
            "  inflating: data/downstream/STS/STS15-en-test/test_evaluation_task2a/STS.input.images.txt  \n",
            " extracting: data/downstream/STS/STS15-en-test/test_evaluation_task2a/corebaseline-tokencos.tar.gz  \n",
            "  inflating: data/downstream/STS/STS15-en-test/test_evaluation_task2a/correlation-noconfidence.pl  \n",
            "--2022-04-15 14:07:57--  http://ixa2.si.ehu.es/stswiki/images/9/98/STS2016-en-test.zip\n",
            "Resolving ixa2.si.ehu.es (ixa2.si.ehu.es)... 158.227.106.100\n",
            "Connecting to ixa2.si.ehu.es (ixa2.si.ehu.es)|158.227.106.100|:80... connected.\n",
            "HTTP request sent, awaiting response... 302 Found\n",
            "Location: http://ixa2.si.ehu.eus/stswiki/images/9/98/STS2016-en-test.zip [following]\n",
            "--2022-04-15 14:07:57--  http://ixa2.si.ehu.eus/stswiki/images/9/98/STS2016-en-test.zip\n",
            "Resolving ixa2.si.ehu.eus (ixa2.si.ehu.eus)... 158.227.106.100\n",
            "Connecting to ixa2.si.ehu.eus (ixa2.si.ehu.eus)|158.227.106.100|:80... connected.\n",
            "HTTP request sent, awaiting response... 200 OK\n",
            "Length: 1184249 (1.1M) [application/zip]\n",
            "Saving to: ‘data/downstream/STS/STS2016-en-test.zip’\n",
            "\n",
            "STS2016-en-test.zip 100%[===================>]   1.13M   881KB/s    in 1.3s    \n",
            "\n",
            "2022-04-15 14:07:59 (881 KB/s) - ‘data/downstream/STS/STS2016-en-test.zip’ saved [1184249/1184249]\n",
            "\n",
            "Archive:  data/downstream/STS/STS2016-en-test.zip\n",
            "  inflating: data/downstream/STS/STS16-en-test/sts2016-english-with-gs-v1.0/README.txt  \n",
            "  inflating: data/downstream/STS/STS16-en-test/sts2016-english-with-gs-v1.0/STS2016.input.question-question.txt  \n",
            "  inflating: data/downstream/STS/STS16-en-test/sts2016-english-with-gs-v1.0/STS2016.input.postediting.txt  \n",
            "  inflating: data/downstream/STS/STS16-en-test/sts2016-english-with-gs-v1.0/STS2016.input.headlines.txt  \n",
            "  inflating: data/downstream/STS/STS16-en-test/sts2016-english-with-gs-v1.0/STS2016.input.question-question.ascii  \n",
            "  inflating: data/downstream/STS/STS16-en-test/sts2016-english-with-gs-v1.0/STS2016.input.headlines.ascii  \n",
            "  inflating: data/downstream/STS/STS16-en-test/sts2016-english-with-gs-v1.0/STS2016.input.plagiarism.txt  \n",
            "  inflating: data/downstream/STS/STS16-en-test/sts2016-english-with-gs-v1.0/LICENSE.txt  \n",
            "  inflating: data/downstream/STS/STS16-en-test/sts2016-english-with-gs-v1.0/STS2016.gs.question-question.txt  \n",
            "  inflating: data/downstream/STS/STS16-en-test/sts2016-english-with-gs-v1.0/STS2016.input.plagiarism.ascii  \n",
            "  inflating: data/downstream/STS/STS16-en-test/sts2016-english-with-gs-v1.0/STS2016.input.answer-answer.txt  \n",
            "  inflating: data/downstream/STS/STS16-en-test/sts2016-english-with-gs-v1.0/STS2016.gs.postediting.txt  \n",
            "  inflating: data/downstream/STS/STS16-en-test/sts2016-english-with-gs-v1.0/STS2016.input.postediting.ascii  \n",
            "  inflating: data/downstream/STS/STS16-en-test/sts2016-english-with-gs-v1.0/STS2016.input.answer-answer.ascii  \n",
            "  inflating: data/downstream/STS/STS16-en-test/sts2016-english-with-gs-v1.0/STS2016.gs.headlines.txt  \n",
            "  inflating: data/downstream/STS/STS16-en-test/sts2016-english-with-gs-v1.0/STS2016.gs.plagiarism.txt  \n",
            "  inflating: data/downstream/STS/STS16-en-test/sts2016-english-with-gs-v1.0/STS2016.gs.answer-answer.txt  \n",
            "  inflating: data/downstream/STS/STS16-en-test/sts2016-english-with-gs-v1.0/correlation-noconfidence.pl  \n",
            "--2022-04-15 14:07:59--  http://ixa2.si.ehu.es/stswiki/images/4/48/Stsbenchmark.tar.gz\n",
            "Resolving ixa2.si.ehu.es (ixa2.si.ehu.es)... 158.227.106.100\n",
            "Connecting to ixa2.si.ehu.es (ixa2.si.ehu.es)|158.227.106.100|:80... connected.\n",
            "HTTP request sent, awaiting response... 302 Found\n",
            "Location: http://ixa2.si.ehu.eus/stswiki/images/4/48/Stsbenchmark.tar.gz [following]\n",
            "--2022-04-15 14:07:59--  http://ixa2.si.ehu.eus/stswiki/images/4/48/Stsbenchmark.tar.gz\n",
            "Resolving ixa2.si.ehu.eus (ixa2.si.ehu.eus)... 158.227.106.100\n",
            "Connecting to ixa2.si.ehu.eus (ixa2.si.ehu.eus)|158.227.106.100|:80... connected.\n",
            "HTTP request sent, awaiting response... 200 OK\n",
            "Length: 409630 (400K) [application/x-gzip]\n",
            "Saving to: ‘data/downstream/STS/Stsbenchmark.tar.gz’\n",
            "\n",
            "Stsbenchmark.tar.gz 100%[===================>] 400.03K   479KB/s    in 0.8s    \n",
            "\n",
            "2022-04-15 14:08:00 (479 KB/s) - ‘data/downstream/STS/Stsbenchmark.tar.gz’ saved [409630/409630]\n",
            "\n",
            "stsbenchmark/\n",
            "stsbenchmark/readme.txt\n",
            "stsbenchmark/sts-test.csv\n",
            "stsbenchmark/correlation.pl\n",
            "stsbenchmark/LICENSE.txt\n",
            "stsbenchmark/sts-dev.csv\n",
            "stsbenchmark/sts-train.csv\n"
          ]
        }
      ]
    },
    {
      "cell_type": "markdown",
      "metadata": {
        "id": "c1mgRY1grU-Y"
      },
      "source": [
        "## 1. Loading and Preparing Wiki-1M data\n",
        "\n",
        "Use huggingface `datasets` library to load local file data."
      ]
    },
    {
      "cell_type": "code",
      "source": [
        "import numpy as np\n",
        "\n",
        "from datasets import load_dataset\n",
        "\n",
        "# data_files = {'train': train_name, 'validation': valid_name}\n",
        "data_files = {'train': 'data/training/wiki1m_for_simcse.txt'}\n",
        "datasets = load_dataset('text', data_files=data_files, cache_dir='./data/')\n",
        "# datasets = load_dataset('text', data_files=data_files)"
      ],
      "metadata": {
        "colab": {
          "base_uri": "https://localhost:8080/",
          "height": 103,
          "referenced_widgets": [
            "a2f35e7510334dadad382ef94ff32cff",
            "d30b9254f6714d7aaa9844251c6c73fc",
            "1a6cdeebdd354d6c9c8282911752d60b",
            "4ce964d8fcf7450082ec2ad7bc607815",
            "a659bebaeb74474cb8cb42a6b6e26d73",
            "6e5f790f0f624f6a8fce478dfa21f3d2",
            "0b9289a72a6e4828a6f17d0dffd83e40",
            "d869545b5c874ea881dee18a2384347b",
            "468be86d1d7845d2bf1446ee15a9237e",
            "1b66453da4ee49f88da8eb0dc48f3463",
            "2537ab38e7e74389b66646f368ffc201"
          ]
        },
        "id": "CoNHtAmFrz57",
        "outputId": "b9986512-bed1-48b5-bce1-22a17beaf80b"
      },
      "execution_count": null,
      "outputs": [
        {
          "output_type": "stream",
          "name": "stderr",
          "text": [
            "Using custom data configuration default-053c82cb395e5e49\n",
            "Reusing dataset text (./data/text/default-053c82cb395e5e49/0.0.0/4b86d314f7236db91f0a0f5cda32d4375445e64c5eda2692655dd99c2dac68e8)\n"
          ]
        },
        {
          "output_type": "display_data",
          "data": {
            "text/plain": [
              "  0%|          | 0/1 [00:00<?, ?it/s]"
            ],
            "application/vnd.jupyter.widget-view+json": {
              "version_major": 2,
              "version_minor": 0,
              "model_id": "a2f35e7510334dadad382ef94ff32cff"
            }
          },
          "metadata": {}
        }
      ]
    },
    {
      "cell_type": "code",
      "execution_count": null,
      "metadata": {
        "colab": {
          "base_uri": "https://localhost:8080/"
        },
        "id": "NUisLhEbrU-a",
        "outputId": "1fdcda34-fd03-4261-8a21-31df6cde5304"
      },
      "outputs": [
        {
          "output_type": "stream",
          "name": "stdout",
          "text": [
            "column_names: ['text']\n",
            "sent0_cname: text | sent1_cname: text\n"
          ]
        }
      ],
      "source": [
        "# Unsupervised / Self-supervised dataset\n",
        "\n",
        "column_names = datasets[\"train\"].column_names\n",
        "sent0_cname = column_names[0]\n",
        "sent1_cname = column_names[0]\n",
        "\n",
        "print('column_names:', column_names)\n",
        "print('sent0_cname:', sent0_cname, '| sent1_cname:', sent1_cname)"
      ]
    },
    {
      "cell_type": "code",
      "execution_count": null,
      "metadata": {
        "id": "MtV8w5i_rU-a"
      },
      "outputs": [],
      "source": [
        "from transformers import AutoTokenizer\n",
        "\n",
        "tokenizer = AutoTokenizer.from_pretrained('distilbert-base-uncased')"
      ]
    },
    {
      "cell_type": "code",
      "execution_count": null,
      "metadata": {
        "id": "MYjQhQPsrU-b"
      },
      "outputs": [],
      "source": [
        "def prepare_features(examples):\n",
        "    total = len(examples[sent0_cname])\n",
        "\n",
        "    # Avoid \"None\" fields \n",
        "    for idx in range(total):\n",
        "        if examples[sent0_cname][idx] is None:\n",
        "            examples[sent0_cname][idx] = \" \"\n",
        "        if examples[sent1_cname][idx] is None:\n",
        "            examples[sent1_cname][idx] = \" \"\n",
        "    \n",
        "    sentences = examples[sent0_cname] + examples[sent1_cname]\n",
        "\n",
        "    sent_features = tokenizer(\n",
        "        sentences,\n",
        "        max_length=32,\n",
        "        truncation=True,\n",
        "        padding=True,\n",
        "    )\n",
        "\n",
        "    features = {}\n",
        "    for key in sent_features:\n",
        "        features[key] = [[sent_features[key][i], sent_features[key][i+total]] for i in range(total)]\n",
        "\n",
        "    return features"
      ]
    },
    {
      "cell_type": "code",
      "execution_count": null,
      "metadata": {
        "tags": [],
        "colab": {
          "base_uri": "https://localhost:8080/"
        },
        "id": "ANKcP7ebrU-b",
        "outputId": "82528ee2-5801-40a4-a2ae-50af971820e7"
      },
      "outputs": [
        {
          "output_type": "stream",
          "name": "stderr",
          "text": [
            "Loading cached processed dataset at ./data/text/default-053c82cb395e5e49/0.0.0/4b86d314f7236db91f0a0f5cda32d4375445e64c5eda2692655dd99c2dac68e8/cache-5340c05a8327483a.arrow\n"
          ]
        }
      ],
      "source": [
        "train_dataset = datasets[\"train\"].map(prepare_features,\n",
        "                                      batched=True,\n",
        "                                    #   num_proc=24,\n",
        "                                      remove_columns=column_names)\n",
        "# validation_dataset = datasets[\"validation\"].map(prepare_features,\n",
        "#                                       batched=True,\n",
        "#                                     #   num_proc=24,\n",
        "#                                       remove_columns=column_names)"
      ]
    },
    {
      "cell_type": "code",
      "execution_count": null,
      "metadata": {
        "colab": {
          "base_uri": "https://localhost:8080/"
        },
        "id": "lM7YmxU-rU-c",
        "outputId": "d216563b-0df1-4794-eb50-e22a22454b96"
      },
      "outputs": [
        {
          "output_type": "execute_result",
          "data": {
            "text/plain": [
              "1000000"
            ]
          },
          "metadata": {},
          "execution_count": 16
        }
      ],
      "source": [
        "train_dataset.num_rows"
      ]
    },
    {
      "cell_type": "code",
      "execution_count": null,
      "metadata": {
        "colab": {
          "base_uri": "https://localhost:8080/",
          "height": 54
        },
        "id": "aOAsciuurU-c",
        "outputId": "0eaaf6ab-9a8f-4d50-8018-ec6845bc8bfe"
      },
      "outputs": [
        {
          "output_type": "execute_result",
          "data": {
            "text/plain": [
              "'[101, 26866, 1999, 2148, 2660, 102, 0, 0, 0, 0, 0, 0, 0, 0, 0, 0, 0, 0, 0, 0, 0, 0, 0, 0, 0, 0, 0, 0, 0, 0, 0, 0]'"
            ],
            "application/vnd.google.colaboratory.intrinsic+json": {
              "type": "string"
            }
          },
          "metadata": {},
          "execution_count": 25
        }
      ],
      "source": [
        "str(train_dataset['input_ids'][0][0])"
      ]
    },
    {
      "cell_type": "code",
      "execution_count": null,
      "metadata": {
        "colab": {
          "base_uri": "https://localhost:8080/",
          "height": 54
        },
        "id": "Pbi7HeS8rU-d",
        "outputId": "16f7fae7-aa01-4484-e7d6-589d5a525af8"
      },
      "outputs": [
        {
          "output_type": "execute_result",
          "data": {
            "text/plain": [
              "'[101, 26866, 1999, 2148, 2660, 102, 0, 0, 0, 0, 0, 0, 0, 0, 0, 0, 0, 0, 0, 0, 0, 0, 0, 0, 0, 0, 0, 0, 0, 0, 0, 0]'"
            ],
            "application/vnd.google.colaboratory.intrinsic+json": {
              "type": "string"
            }
          },
          "metadata": {},
          "execution_count": 26
        }
      ],
      "source": [
        "str(train_dataset['input_ids'][0][1])"
      ]
    },
    {
      "cell_type": "code",
      "execution_count": null,
      "metadata": {
        "colab": {
          "base_uri": "https://localhost:8080/"
        },
        "id": "AOMXpYB2rU-d",
        "outputId": "978e9b6d-8b63-40fe-9bfb-3a6a7becc2b9"
      },
      "outputs": [
        {
          "output_type": "execute_result",
          "data": {
            "text/plain": [
              "dict_keys(['input_ids', 'attention_mask'])"
            ]
          },
          "metadata": {},
          "execution_count": 27
        }
      ],
      "source": [
        "train_dataset.features.keys()"
      ]
    },
    {
      "cell_type": "code",
      "source": [
        "% cd src"
      ],
      "metadata": {
        "colab": {
          "base_uri": "https://localhost:8080/"
        },
        "id": "uSerE7mWL9lv",
        "outputId": "de01ea1c-6f4d-43e5-95ef-457598a93ed2"
      },
      "execution_count": null,
      "outputs": [
        {
          "output_type": "stream",
          "name": "stdout",
          "text": [
            "/content/distil_face/src\n"
          ]
        }
      ]
    },
    {
      "cell_type": "markdown",
      "metadata": {
        "id": "7wFLPIhHrU-d"
      },
      "source": [
        "Sentence 1 and Sentence 2 are the same sentence"
      ]
    },
    {
      "cell_type": "markdown",
      "metadata": {
        "id": "r8dQjiUJrU-e"
      },
      "source": [
        "## 2. Contrastive Learning Model"
      ]
    },
    {
      "cell_type": "code",
      "execution_count": null,
      "metadata": {
        "tags": [],
        "colab": {
          "base_uri": "https://localhost:8080/"
        },
        "id": "abq_8GubrU-e",
        "outputId": "36388c01-4e99-4e0a-8ada-4274d6221009"
      },
      "outputs": [
        {
          "output_type": "stream",
          "name": "stderr",
          "text": [
            "Some weights of the model checkpoint at distilbert-base-uncased were not used when initializing DistilBertCLModel: ['vocab_layer_norm.weight', 'vocab_layer_norm.bias', 'vocab_projector.weight', 'vocab_transform.weight', 'vocab_transform.bias', 'vocab_projector.bias']\n",
            "- This IS expected if you are initializing DistilBertCLModel from the checkpoint of a model trained on another task or with another architecture (e.g. initializing a BertForSequenceClassification model from a BertForPreTraining model).\n",
            "- This IS NOT expected if you are initializing DistilBertCLModel from the checkpoint of a model that you expect to be exactly identical (initializing a BertForSequenceClassification model from a BertForSequenceClassification model).\n"
          ]
        }
      ],
      "source": [
        "import torch\n",
        "import torch.nn as nn\n",
        "\n",
        "from transformers import AutoTokenizer, DistilBertModel, DistilBertPreTrainedModel, AutoConfig\n",
        "from transformers.modeling_outputs import SequenceClassifierOutput, BaseModelOutputWithPooling\n",
        "\n",
        "from distilface.modules.pooler import Pooler\n",
        "from distilface.modules.similarity import Similarity\n",
        "\n",
        "\n",
        "class DistilBertCLModel(DistilBertPreTrainedModel):\n",
        "    def __init__(self, config, pooler_type='avg_last4', temp=0.05):\n",
        "        super().__init__(config)\n",
        "\n",
        "        self.config = config\n",
        "        self.pooler_type = pooler_type\n",
        "        self.temp = 0.05\n",
        "\n",
        "        self.distilbert = DistilBertModel(config)\n",
        "        self.pooler = Pooler(pooler_type)\n",
        "        self.sim = Similarity(temp=temp)\n",
        "\n",
        "        self.init_weights()\n",
        "\n",
        "    def forward(self, input_ids=None, attention_mask=None):\n",
        "        if self.training:\n",
        "            return self.cl_forward(self.distilbert, input_ids, attention_mask)\n",
        "        else:\n",
        "            return self.sent_emb(self.distilbert, input_ids, attention_mask)\n",
        "\n",
        "    def cl_forward(self, encoder, input_ids=None, attention_mask=None):\n",
        "        batch_size = input_ids.size(0)\n",
        "        num_sent = input_ids.size(1)  # Number of sentences in one instance: 2 sentences\n",
        "\n",
        "        # Flatten all input tensors\n",
        "        input_ids = input_ids.view((-1, input_ids.size(-1))) # (bs * num_sent, len)\n",
        "        attention_mask = attention_mask.view((-1, attention_mask.size(-1))) # (bs * num_sent len)\n",
        "\n",
        "        # Pre-trained Model Encoder\n",
        "        outputs = encoder(\n",
        "            input_ids,\n",
        "            attention_mask=attention_mask,\n",
        "            output_hidden_states=True,\n",
        "            return_dict=True,\n",
        "        )\n",
        "\n",
        "        # Pooling\n",
        "        pooler_output = self.pooler(attention_mask, outputs)\n",
        "        pooler_output = pooler_output.view((batch_size, num_sent, pooler_output.size(-1)))  # (bs, num_sent, hidden)\n",
        "\n",
        "        # Separate representation\n",
        "        z1, z2 = pooler_output[:, 0], pooler_output[:, 1]\n",
        "\n",
        "        # Cosine similarity\n",
        "        cos_sim = self.sim(z1.unsqueeze(1), z2.unsqueeze(0))\n",
        "\n",
        "        # Calculate contrastive loss\n",
        "        criterion = nn.CrossEntropyLoss()\n",
        "        labels = torch.arange(cos_sim.size(0)).long().to(self.device)\n",
        "        loss = criterion(cos_sim, labels)\n",
        "\n",
        "        return SequenceClassifierOutput(\n",
        "            loss=loss,\n",
        "            logits=cos_sim,\n",
        "            hidden_states=outputs.hidden_states,\n",
        "            attentions=outputs.attentions,\n",
        "        )\n",
        "\n",
        "    def sent_emb(self, encoder, input_ids=None, attention_mask=None):\n",
        "        outputs = encoder(\n",
        "            input_ids,\n",
        "            attention_mask=attention_mask,\n",
        "            output_hidden_states=True,\n",
        "            return_dict=True,\n",
        "        )\n",
        "        pooler_output = self.pooler(attention_mask, outputs)\n",
        "\n",
        "        return BaseModelOutputWithPooling(\n",
        "            pooler_output=pooler_output,\n",
        "            last_hidden_state=outputs.last_hidden_state,\n",
        "            hidden_states=outputs.hidden_states,\n",
        "        )\n",
        "\n",
        "\n",
        "pretrained_model_name = 'distilbert-base-uncased'\n",
        "\n",
        "device = torch.device(\"cuda\" if torch.cuda.is_available() else \"cpu\")\n",
        "config = AutoConfig.from_pretrained(pretrained_model_name)\n",
        "\n",
        "model = DistilBertCLModel.from_pretrained(pretrained_model_name, config=config).to(device)\n",
        "tokenizer = AutoTokenizer.from_pretrained(pretrained_model_name)\n",
        "\n",
        "model.eval();\n"
      ]
    },
    {
      "cell_type": "markdown",
      "metadata": {
        "id": "LwrdR9e5rU-f"
      },
      "source": [
        "### 2.1 Initial DistilBERT embeddings performance"
      ]
    },
    {
      "cell_type": "code",
      "source": [
        "% cd ../SentEval"
      ],
      "metadata": {
        "colab": {
          "base_uri": "https://localhost:8080/"
        },
        "id": "Dohpx4kLMSz_",
        "outputId": "b824ccdf-02dc-47d4-d390-6083250e2132"
      },
      "execution_count": null,
      "outputs": [
        {
          "output_type": "stream",
          "name": "stdout",
          "text": [
            "/content/distil_face/SentEval\n"
          ]
        }
      ]
    },
    {
      "cell_type": "code",
      "source": [
        "import senteval"
      ],
      "metadata": {
        "id": "-UdVLCzdMmPr"
      },
      "execution_count": null,
      "outputs": []
    },
    {
      "cell_type": "code",
      "source": [
        "% cd .."
      ],
      "metadata": {
        "colab": {
          "base_uri": "https://localhost:8080/"
        },
        "id": "Cntkv3BrMm_d",
        "outputId": "7cba43aa-7d8d-4942-dde4-bfc02b3ccc6a"
      },
      "execution_count": null,
      "outputs": [
        {
          "output_type": "stream",
          "name": "stdout",
          "text": [
            "/content/distil_face\n"
          ]
        }
      ]
    },
    {
      "cell_type": "code",
      "execution_count": null,
      "metadata": {
        "id": "OUCp6KxqrU-f"
      },
      "outputs": [],
      "source": [
        "\n",
        "\n",
        "\n",
        "def prepare(params, samples):\n",
        "    return\n",
        "\n",
        "def batcher(params, batch):\n",
        "    sentences = [\" \".join(s) for s in batch]\n",
        "    batch = tokenizer.batch_encode_plus(\n",
        "        sentences,\n",
        "        return_tensors=\"pt\",\n",
        "        padding=True,\n",
        "    )\n",
        "\n",
        "    for k in batch:\n",
        "        batch[k] = batch[k].to(device)\n",
        "\n",
        "    with torch.no_grad():\n",
        "        outputs = model(**batch)\n",
        "\n",
        "    pooled_result = outputs.pooler_output.cpu()\n",
        "\n",
        "    return pooled_result\n",
        "\n",
        "\n",
        "def evaluate_model():\n",
        "    PATH_TO_DATA = \"./data\"\n",
        "\n",
        "    params = {\"task_path\": PATH_TO_DATA, \"usepytorch\": True, \"kfold\": 10}\n",
        "    tasks = [\"STSBenchmark\", 'STS12', 'STS13', 'STS14', 'STS15']\n",
        "\n",
        "    se = senteval.engine.SE(params, batcher, prepare)\n",
        "    results = se.eval(tasks)\n",
        "    print('results: ', results)\n",
        "    print('STS12: ', results[\"STS12\"][\"all\"][\"spearman\"][\"all\"])\n",
        "    print('STS13: ', results[\"STS13\"][\"all\"][\"spearman\"][\"all\"])\n",
        "    print('STS14: ', results[\"STS14\"][\"all\"][\"spearman\"][\"all\"])\n",
        "    print('STS15: ', results[\"STS15\"][\"all\"][\"spearman\"][\"all\"])\n",
        "    print('STSB: ', results[\"STSBenchmark\"][\"test\"][\"spearman\"][0])\n",
        "\n",
        "    return results"
      ]
    },
    {
      "cell_type": "code",
      "source": [
        "results = evaluate_model()\n",
        "results"
      ],
      "metadata": {
        "colab": {
          "base_uri": "https://localhost:8080/"
        },
        "id": "Cna7Sjo7r7wp",
        "outputId": "7ca8a816-6229-4448-abff-6d4708527d77"
      },
      "execution_count": null,
      "outputs": [
        {
          "output_type": "stream",
          "name": "stderr",
          "text": [
            "/content/distil_face/SentEval/senteval/sts.py:42: VisibleDeprecationWarning: Creating an ndarray from ragged nested sequences (which is a list-or-tuple of lists-or-tuples-or ndarrays with different lengths or shapes) is deprecated. If you meant to do this, you must specify 'dtype=object' when creating the ndarray.\n",
            "  sent1 = np.array([s.split() for s in sent1])[not_empty_idx]\n",
            "/content/distil_face/SentEval/senteval/sts.py:43: VisibleDeprecationWarning: Creating an ndarray from ragged nested sequences (which is a list-or-tuple of lists-or-tuples-or ndarrays with different lengths or shapes) is deprecated. If you meant to do this, you must specify 'dtype=object' when creating the ndarray.\n",
            "  sent2 = np.array([s.split() for s in sent2])[not_empty_idx]\n"
          ]
        },
        {
          "output_type": "stream",
          "name": "stdout",
          "text": [
            "results:  {'STSBenchmark': {'train': {'pearson': (0.6070898763008297, 0.0), 'spearman': SpearmanrResult(correlation=0.5955309594381452, pvalue=0.0), 'nsamples': 5749}, 'dev': {'pearson': (0.6714695311578094, 3.1816154363896114e-197), 'spearman': SpearmanrResult(correlation=0.6842821404252671, pvalue=1.0922682924251785e-207), 'nsamples': 1500}, 'test': {'pearson': (0.5632637995447413, 2.9049540160634865e-116), 'spearman': SpearmanrResult(correlation=0.590522771009074, pvalue=2.1926696952431418e-130), 'nsamples': 1379}, 'all': {'pearson': {'all': 0.6130842261690994, 'mean': 0.6139410690011268, 'wmean': 0.6112777903526173}, 'spearman': {'all': 0.6146095387318827, 'mean': 0.6234452902908288, 'wmean': 0.6101601295397903}}}, 'STS12': {'MSRpar': {'pearson': (0.42118860126558844, 1.3131983706650327e-33), 'spearman': SpearmanrResult(correlation=0.45987913574306377, pvalue=1.6077021457625966e-40), 'nsamples': 750}, 'MSRvid': {'pearson': (0.6353183836264454, 5.058902811436889e-86), 'spearman': SpearmanrResult(correlation=0.6401648261692996, pvalue=1.0195217279722163e-87), 'nsamples': 750}, 'SMTeuroparl': {'pearson': (0.5022992872170757, 1.0330490467720212e-30), 'spearman': SpearmanrResult(correlation=0.5931239653520929, pvalue=5.929140221048737e-45), 'nsamples': 459}, 'surprise.OnWN': {'pearson': (0.6877112853360426, 3.984348473186997e-106), 'spearman': SpearmanrResult(correlation=0.6910592978736139, pvalue=1.4770691983640824e-107), 'nsamples': 750}, 'surprise.SMTnews': {'pearson': (0.623985295137061, 1.9235799225786845e-44), 'spearman': SpearmanrResult(correlation=0.5516426136877999, pvalue=3.782169907581014e-33), 'nsamples': 399}, 'all': {'pearson': {'all': 0.45148177281626845, 'mean': 0.5741005705164426, 'wmean': 0.5751895779483213}, 'spearman': {'all': 0.4759552744453918, 'mean': 0.5871739677651739, 'wmean': 0.590629584233438}}}, 'STS13': {'FNWN': {'pearson': (0.47209864557589376, 6.990621084527568e-12), 'spearman': SpearmanrResult(correlation=0.5056664404698936, pvalue=1.1578223671604005e-13), 'nsamples': 189}, 'headlines': {'pearson': (0.7104457391438972, 3.0383000978801853e-116), 'spearman': SpearmanrResult(correlation=0.6922591907733449, pvalue=4.4852456844227165e-108), 'nsamples': 750}, 'OnWN': {'pearson': (0.5347971908658108, 8.039393845176368e-43), 'spearman': SpearmanrResult(correlation=0.569561787742911, pvalue=1.4758523503130578e-49), 'nsamples': 561}, 'all': {'pearson': {'all': 0.6078269640747574, 'mean': 0.5724471918618672, 'wmean': 0.6147214482983244}, 'spearman': {'all': 0.6186611740549315, 'mean': 0.5891624729953832, 'wmean': 0.6228596755017277}}}, 'STS14': {'deft-forum': {'pearson': (0.39177231571625987, 5.8607872324761754e-18), 'spearman': SpearmanrResult(correlation=0.4071337284072393, pvalue=2.1430228269370555e-19), 'nsamples': 450}, 'deft-news': {'pearson': (0.7777919510554745, 4.700363223273015e-62), 'spearman': SpearmanrResult(correlation=0.7388335141224314, pvalue=5.174477925809937e-53), 'nsamples': 300}, 'headlines': {'pearson': (0.6712067862380732, 2.397285207589724e-99), 'spearman': SpearmanrResult(correlation=0.625867263055741, pvalue=8.41212170684431e-83), 'nsamples': 750}, 'images': {'pearson': (0.6678021099242414, 5.2961372763747964e-98), 'spearman': SpearmanrResult(correlation=0.6483582887347493, pvalue=1.1778301337823169e-90), 'nsamples': 750}, 'OnWN': {'pearson': (0.6719083085037691, 1.2604013687174417e-99), 'spearman': SpearmanrResult(correlation=0.7121770827042612, pvalue=4.6966715914915416e-117), 'nsamples': 750}, 'tweet-news': {'pearson': (0.6737572882679397, 2.2956244519653104e-100), 'spearman': SpearmanrResult(correlation=0.6339299396207194, pvalue=1.528491970701118e-85), 'nsamples': 750}, 'all': {'pearson': {'all': 0.535982281166754, 'mean': 0.6423731266176262, 'wmean': 0.6461709325571937}, 'spearman': {'all': 0.529448553621668, 'mean': 0.6277166361075236, 'wmean': 0.6320292433617575}}}, 'STS15': {'answers-forums': {'pearson': (0.6212493712708916, 2.0921783806676312e-41), 'spearman': SpearmanrResult(correlation=0.6091012142226292, pvalue=1.892153126782441e-39), 'nsamples': 375}, 'answers-students': {'pearson': (0.7166593883840028, 3.502286696701661e-119), 'spearman': SpearmanrResult(correlation=0.7213942481037702, pvalue=1.7851662394062188e-121), 'nsamples': 750}, 'belief': {'pearson': (0.6882098971751901, 6.268317942322372e-54), 'spearman': SpearmanrResult(correlation=0.7037867584354528, pvalue=2.4008042470300645e-57), 'nsamples': 375}, 'headlines': {'pearson': (0.7268846456885122, 3.410322957783619e-124), 'spearman': SpearmanrResult(correlation=0.7141491293885626, pvalue=5.506278309264314e-118), 'nsamples': 750}, 'images': {'pearson': (0.7687787159927616, 2.2642988550564345e-147), 'spearman': SpearmanrResult(correlation=0.7762450890337114, pvalue=5.052292463526242e-152), 'nsamples': 750}, 'all': {'pearson': {'all': 0.6851100662554297, 'mean': 0.7043564037022716, 'wmean': 0.7167630960720794}, 'spearman': {'all': 0.6969421029283916, 'mean': 0.7049352878368251, 'wmean': 0.7170581132137713}}}}\n",
            "STS12:  0.4759552744453918\n",
            "STS13:  0.6186611740549315\n",
            "STS14:  0.529448553621668\n",
            "STS15:  0.6969421029283916\n",
            "STSB:  0.590522771009074\n"
          ]
        },
        {
          "output_type": "execute_result",
          "data": {
            "text/plain": [
              "{'STS12': {'MSRpar': {'nsamples': 750,\n",
              "   'pearson': (0.42118860126558844, 1.3131983706650327e-33),\n",
              "   'spearman': SpearmanrResult(correlation=0.45987913574306377, pvalue=1.6077021457625966e-40)},\n",
              "  'MSRvid': {'nsamples': 750,\n",
              "   'pearson': (0.6353183836264454, 5.058902811436889e-86),\n",
              "   'spearman': SpearmanrResult(correlation=0.6401648261692996, pvalue=1.0195217279722163e-87)},\n",
              "  'SMTeuroparl': {'nsamples': 459,\n",
              "   'pearson': (0.5022992872170757, 1.0330490467720212e-30),\n",
              "   'spearman': SpearmanrResult(correlation=0.5931239653520929, pvalue=5.929140221048737e-45)},\n",
              "  'all': {'pearson': {'all': 0.45148177281626845,\n",
              "    'mean': 0.5741005705164426,\n",
              "    'wmean': 0.5751895779483213},\n",
              "   'spearman': {'all': 0.4759552744453918,\n",
              "    'mean': 0.5871739677651739,\n",
              "    'wmean': 0.590629584233438}},\n",
              "  'surprise.OnWN': {'nsamples': 750,\n",
              "   'pearson': (0.6877112853360426, 3.984348473186997e-106),\n",
              "   'spearman': SpearmanrResult(correlation=0.6910592978736139, pvalue=1.4770691983640824e-107)},\n",
              "  'surprise.SMTnews': {'nsamples': 399,\n",
              "   'pearson': (0.623985295137061, 1.9235799225786845e-44),\n",
              "   'spearman': SpearmanrResult(correlation=0.5516426136877999, pvalue=3.782169907581014e-33)}},\n",
              " 'STS13': {'FNWN': {'nsamples': 189,\n",
              "   'pearson': (0.47209864557589376, 6.990621084527568e-12),\n",
              "   'spearman': SpearmanrResult(correlation=0.5056664404698936, pvalue=1.1578223671604005e-13)},\n",
              "  'OnWN': {'nsamples': 561,\n",
              "   'pearson': (0.5347971908658108, 8.039393845176368e-43),\n",
              "   'spearman': SpearmanrResult(correlation=0.569561787742911, pvalue=1.4758523503130578e-49)},\n",
              "  'all': {'pearson': {'all': 0.6078269640747574,\n",
              "    'mean': 0.5724471918618672,\n",
              "    'wmean': 0.6147214482983244},\n",
              "   'spearman': {'all': 0.6186611740549315,\n",
              "    'mean': 0.5891624729953832,\n",
              "    'wmean': 0.6228596755017277}},\n",
              "  'headlines': {'nsamples': 750,\n",
              "   'pearson': (0.7104457391438972, 3.0383000978801853e-116),\n",
              "   'spearman': SpearmanrResult(correlation=0.6922591907733449, pvalue=4.4852456844227165e-108)}},\n",
              " 'STS14': {'OnWN': {'nsamples': 750,\n",
              "   'pearson': (0.6719083085037691, 1.2604013687174417e-99),\n",
              "   'spearman': SpearmanrResult(correlation=0.7121770827042612, pvalue=4.6966715914915416e-117)},\n",
              "  'all': {'pearson': {'all': 0.535982281166754,\n",
              "    'mean': 0.6423731266176262,\n",
              "    'wmean': 0.6461709325571937},\n",
              "   'spearman': {'all': 0.529448553621668,\n",
              "    'mean': 0.6277166361075236,\n",
              "    'wmean': 0.6320292433617575}},\n",
              "  'deft-forum': {'nsamples': 450,\n",
              "   'pearson': (0.39177231571625987, 5.8607872324761754e-18),\n",
              "   'spearman': SpearmanrResult(correlation=0.4071337284072393, pvalue=2.1430228269370555e-19)},\n",
              "  'deft-news': {'nsamples': 300,\n",
              "   'pearson': (0.7777919510554745, 4.700363223273015e-62),\n",
              "   'spearman': SpearmanrResult(correlation=0.7388335141224314, pvalue=5.174477925809937e-53)},\n",
              "  'headlines': {'nsamples': 750,\n",
              "   'pearson': (0.6712067862380732, 2.397285207589724e-99),\n",
              "   'spearman': SpearmanrResult(correlation=0.625867263055741, pvalue=8.41212170684431e-83)},\n",
              "  'images': {'nsamples': 750,\n",
              "   'pearson': (0.6678021099242414, 5.2961372763747964e-98),\n",
              "   'spearman': SpearmanrResult(correlation=0.6483582887347493, pvalue=1.1778301337823169e-90)},\n",
              "  'tweet-news': {'nsamples': 750,\n",
              "   'pearson': (0.6737572882679397, 2.2956244519653104e-100),\n",
              "   'spearman': SpearmanrResult(correlation=0.6339299396207194, pvalue=1.528491970701118e-85)}},\n",
              " 'STS15': {'all': {'pearson': {'all': 0.6851100662554297,\n",
              "    'mean': 0.7043564037022716,\n",
              "    'wmean': 0.7167630960720794},\n",
              "   'spearman': {'all': 0.6969421029283916,\n",
              "    'mean': 0.7049352878368251,\n",
              "    'wmean': 0.7170581132137713}},\n",
              "  'answers-forums': {'nsamples': 375,\n",
              "   'pearson': (0.6212493712708916, 2.0921783806676312e-41),\n",
              "   'spearman': SpearmanrResult(correlation=0.6091012142226292, pvalue=1.892153126782441e-39)},\n",
              "  'answers-students': {'nsamples': 750,\n",
              "   'pearson': (0.7166593883840028, 3.502286696701661e-119),\n",
              "   'spearman': SpearmanrResult(correlation=0.7213942481037702, pvalue=1.7851662394062188e-121)},\n",
              "  'belief': {'nsamples': 375,\n",
              "   'pearson': (0.6882098971751901, 6.268317942322372e-54),\n",
              "   'spearman': SpearmanrResult(correlation=0.7037867584354528, pvalue=2.4008042470300645e-57)},\n",
              "  'headlines': {'nsamples': 750,\n",
              "   'pearson': (0.7268846456885122, 3.410322957783619e-124),\n",
              "   'spearman': SpearmanrResult(correlation=0.7141491293885626, pvalue=5.506278309264314e-118)},\n",
              "  'images': {'nsamples': 750,\n",
              "   'pearson': (0.7687787159927616, 2.2642988550564345e-147),\n",
              "   'spearman': SpearmanrResult(correlation=0.7762450890337114, pvalue=5.052292463526242e-152)}},\n",
              " 'STSBenchmark': {'all': {'pearson': {'all': 0.6130842261690994,\n",
              "    'mean': 0.6139410690011268,\n",
              "    'wmean': 0.6112777903526173},\n",
              "   'spearman': {'all': 0.6146095387318827,\n",
              "    'mean': 0.6234452902908288,\n",
              "    'wmean': 0.6101601295397903}},\n",
              "  'dev': {'nsamples': 1500,\n",
              "   'pearson': (0.6714695311578094, 3.1816154363896114e-197),\n",
              "   'spearman': SpearmanrResult(correlation=0.6842821404252671, pvalue=1.0922682924251785e-207)},\n",
              "  'test': {'nsamples': 1379,\n",
              "   'pearson': (0.5632637995447413, 2.9049540160634865e-116),\n",
              "   'spearman': SpearmanrResult(correlation=0.590522771009074, pvalue=2.1926696952431418e-130)},\n",
              "  'train': {'nsamples': 5749,\n",
              "   'pearson': (0.6070898763008297, 0.0),\n",
              "   'spearman': SpearmanrResult(correlation=0.5955309594381452, pvalue=0.0)}}}"
            ]
          },
          "metadata": {},
          "execution_count": 45
        }
      ]
    },
    {
      "cell_type": "markdown",
      "metadata": {
        "id": "L5dmm7z-rU-g"
      },
      "source": [
        "## 3. Trainer"
      ]
    },
    {
      "cell_type": "code",
      "execution_count": null,
      "metadata": {
        "id": "RA7XHkwjrU-g",
        "colab": {
          "base_uri": "https://localhost:8080/"
        },
        "outputId": "4c38fe78-e33b-4311-aa10-fa2bee318f83"
      },
      "outputs": [
        {
          "output_type": "stream",
          "name": "stderr",
          "text": [
            "max_steps is given, it will override any value given in num_train_epochs\n",
            "Using amp half precision backend\n"
          ]
        }
      ],
      "source": [
        "# import mlflow\n",
        "\n",
        "from transformers import Trainer, TrainingArguments\n",
        "from transformers import default_data_collator\n",
        "lr =  1e-5  ## ,5e-05 3e-5 #\n",
        "\n",
        "# training_args = TrainingArguments(\n",
        "#     output_dir='output',\n",
        "#     overwrite_output_dir=True,\n",
        "#     learning_rate=5e-05,\n",
        "#     weight_decay=0.0,\n",
        "#     num_train_epochs=1,\n",
        "#     eval_steps=100,\n",
        "# )\n",
        "training_args = TrainingArguments(\n",
        "    output_dir='output',\n",
        "    overwrite_output_dir=True,\n",
        "    learning_rate=lr,\n",
        "    weight_decay=0.0,\n",
        "    num_train_epochs=1,\n",
        "    per_device_train_batch_size=128,\n",
        "    per_device_eval_batch_size=128,\n",
        "    # max_steps=2,\n",
        "    # save_steps=2,\n",
        "    # logging_steps=2\n",
        "    max_steps=30000,\n",
        "    save_steps=5000,\n",
        "    logging_steps=30000,\n",
        "    fp16=True\n",
        ")\n",
        "\n",
        "model.train()\n",
        "\n",
        "trainer = Trainer(\n",
        "    model=model,\n",
        "    args=training_args,\n",
        "    train_dataset=train_dataset,\n",
        "    tokenizer=tokenizer,\n",
        "    data_collator=default_data_collator\n",
        ")"
      ]
    },
    {
      "cell_type": "code",
      "source": [
        "train_result = trainer.train()"
      ],
      "metadata": {
        "colab": {
          "base_uri": "https://localhost:8080/",
          "height": 449
        },
        "id": "2P9Bgk2FaXyy",
        "outputId": "d2f9a60f-dedd-4758-8d16-d44a77bbeaf1"
      },
      "execution_count": null,
      "outputs": [
        {
          "output_type": "stream",
          "name": "stderr",
          "text": [
            "/usr/local/lib/python3.7/dist-packages/transformers/optimization.py:309: FutureWarning: This implementation of AdamW is deprecated and will be removed in a future version. Use the PyTorch implementation torch.optim.AdamW instead, or set `no_deprecation_warning=True` to disable this warning\n",
            "  FutureWarning,\n",
            "***** Running training *****\n",
            "  Num examples = 1000000\n",
            "  Num Epochs = 1\n",
            "  Instantaneous batch size per device = 8\n",
            "  Total train batch size (w. parallel, distributed & accumulation) = 8\n",
            "  Gradient Accumulation steps = 1\n",
            "  Total optimization steps = 30000\n"
          ]
        },
        {
          "output_type": "display_data",
          "data": {
            "text/plain": [
              "<IPython.core.display.HTML object>"
            ],
            "text/html": [
              "\n",
              "    <div>\n",
              "      \n",
              "      <progress value='30000' max='30000' style='width:300px; height:20px; vertical-align: middle;'></progress>\n",
              "      [30000/30000 1:04:30, Epoch 0/1]\n",
              "    </div>\n",
              "    <table border=\"1\" class=\"dataframe\">\n",
              "  <thead>\n",
              " <tr style=\"text-align: left;\">\n",
              "      <th>Step</th>\n",
              "      <th>Training Loss</th>\n",
              "    </tr>\n",
              "  </thead>\n",
              "  <tbody>\n",
              "    <tr>\n",
              "      <td>30000</td>\n",
              "      <td>0.000000</td>\n",
              "    </tr>\n",
              "  </tbody>\n",
              "</table><p>"
            ]
          },
          "metadata": {}
        },
        {
          "output_type": "stream",
          "name": "stderr",
          "text": [
            "Saving model checkpoint to output/checkpoint-30000\n",
            "Configuration saved in output/checkpoint-30000/config.json\n",
            "Model weights saved in output/checkpoint-30000/pytorch_model.bin\n",
            "tokenizer config file saved in output/checkpoint-30000/tokenizer_config.json\n",
            "Special tokens file saved in output/checkpoint-30000/special_tokens_map.json\n",
            "\n",
            "\n",
            "Training completed. Do not forget to share your model on huggingface.co/models =)\n",
            "\n",
            "\n"
          ]
        }
      ]
    },
    {
      "cell_type": "code",
      "source": [
        "train_result = trainer.train()"
      ],
      "metadata": {
        "colab": {
          "base_uri": "https://localhost:8080/",
          "height": 449
        },
        "id": "5LoxhKetTJwb",
        "outputId": "0b39b817-6c39-4bed-eafc-59713f989856"
      },
      "execution_count": null,
      "outputs": [
        {
          "output_type": "stream",
          "name": "stderr",
          "text": [
            "/usr/local/lib/python3.7/dist-packages/transformers/optimization.py:309: FutureWarning: This implementation of AdamW is deprecated and will be removed in a future version. Use the PyTorch implementation torch.optim.AdamW instead, or set `no_deprecation_warning=True` to disable this warning\n",
            "  FutureWarning,\n",
            "***** Running training *****\n",
            "  Num examples = 1000000\n",
            "  Num Epochs = 1\n",
            "  Instantaneous batch size per device = 8\n",
            "  Total train batch size (w. parallel, distributed & accumulation) = 8\n",
            "  Gradient Accumulation steps = 1\n",
            "  Total optimization steps = 30000\n"
          ]
        },
        {
          "output_type": "display_data",
          "data": {
            "text/plain": [
              "<IPython.core.display.HTML object>"
            ],
            "text/html": [
              "\n",
              "    <div>\n",
              "      \n",
              "      <progress value='30000' max='30000' style='width:300px; height:20px; vertical-align: middle;'></progress>\n",
              "      [30000/30000 1:06:55, Epoch 0/1]\n",
              "    </div>\n",
              "    <table border=\"1\" class=\"dataframe\">\n",
              "  <thead>\n",
              " <tr style=\"text-align: left;\">\n",
              "      <th>Step</th>\n",
              "      <th>Training Loss</th>\n",
              "    </tr>\n",
              "  </thead>\n",
              "  <tbody>\n",
              "    <tr>\n",
              "      <td>30000</td>\n",
              "      <td>0.000000</td>\n",
              "    </tr>\n",
              "  </tbody>\n",
              "</table><p>"
            ]
          },
          "metadata": {}
        },
        {
          "output_type": "stream",
          "name": "stderr",
          "text": [
            "Saving model checkpoint to output/checkpoint-30000\n",
            "Configuration saved in output/checkpoint-30000/config.json\n",
            "Model weights saved in output/checkpoint-30000/pytorch_model.bin\n",
            "tokenizer config file saved in output/checkpoint-30000/tokenizer_config.json\n",
            "Special tokens file saved in output/checkpoint-30000/special_tokens_map.json\n",
            "\n",
            "\n",
            "Training completed. Do not forget to share your model on huggingface.co/models =)\n",
            "\n",
            "\n"
          ]
        }
      ]
    },
    {
      "cell_type": "code",
      "source": [
        "train_result = trainer.train()"
      ],
      "metadata": {
        "colab": {
          "base_uri": "https://localhost:8080/",
          "height": 506
        },
        "id": "RAeKOrHlfJno",
        "outputId": "4d92773d-c0c4-4882-a741-7216e6840e32"
      },
      "execution_count": null,
      "outputs": [
        {
          "metadata": {
            "tags": null
          },
          "name": "stderr",
          "output_type": "stream",
          "text": [
            "/usr/local/lib/python3.7/dist-packages/transformers/optimization.py:309: FutureWarning: This implementation of AdamW is deprecated and will be removed in a future version. Use the PyTorch implementation torch.optim.AdamW instead, or set `no_deprecation_warning=True` to disable this warning\n",
            "  FutureWarning,\n",
            "***** Running training *****\n",
            "  Num examples = 1000000\n",
            "  Num Epochs = 1\n",
            "  Instantaneous batch size per device = 8\n",
            "  Total train batch size (w. parallel, distributed & accumulation) = 8\n",
            "  Gradient Accumulation steps = 1\n",
            "  Total optimization steps = 30000\n"
          ]
        },
        {
          "data": {
            "text/html": [
              "\n",
              "    <div>\n",
              "      \n",
              "      <progress value='8455' max='30000' style='width:300px; height:20px; vertical-align: middle;'></progress>\n",
              "      [ 8455/30000 18:45 < 47:47, 7.51 it/s, Epoch 0.07/1]\n",
              "    </div>\n",
              "    <table border=\"1\" class=\"dataframe\">\n",
              "  <thead>\n",
              " <tr style=\"text-align: left;\">\n",
              "      <th>Step</th>\n",
              "      <th>Training Loss</th>\n",
              "    </tr>\n",
              "  </thead>\n",
              "  <tbody>\n",
              "  </tbody>\n",
              "</table><p>"
            ],
            "text/plain": [
              "<IPython.core.display.HTML object>"
            ]
          },
          "metadata": {},
          "output_type": "display_data"
        },
        {
          "output_type": "display_data",
          "data": {
            "text/plain": [
              "<IPython.core.display.HTML object>"
            ],
            "text/html": [
              "\n",
              "    <div>\n",
              "      \n",
              "      <progress value='30000' max='30000' style='width:300px; height:20px; vertical-align: middle;'></progress>\n",
              "      [30000/30000 1:06:49, Epoch 0/1]\n",
              "    </div>\n",
              "    <table border=\"1\" class=\"dataframe\">\n",
              "  <thead>\n",
              " <tr style=\"text-align: left;\">\n",
              "      <th>Step</th>\n",
              "      <th>Training Loss</th>\n",
              "    </tr>\n",
              "  </thead>\n",
              "  <tbody>\n",
              "    <tr>\n",
              "      <td>30000</td>\n",
              "      <td>0.000000</td>\n",
              "    </tr>\n",
              "  </tbody>\n",
              "</table><p>"
            ]
          },
          "metadata": {}
        },
        {
          "output_type": "stream",
          "name": "stderr",
          "text": [
            "Saving model checkpoint to output/checkpoint-30000\n",
            "Configuration saved in output/checkpoint-30000/config.json\n",
            "Model weights saved in output/checkpoint-30000/pytorch_model.bin\n",
            "tokenizer config file saved in output/checkpoint-30000/tokenizer_config.json\n",
            "Special tokens file saved in output/checkpoint-30000/special_tokens_map.json\n",
            "\n",
            "\n",
            "Training completed. Do not forget to share your model on huggingface.co/models =)\n",
            "\n",
            "\n"
          ]
        }
      ]
    },
    {
      "cell_type": "code",
      "source": [
        "train_result = trainer.train()"
      ],
      "metadata": {
        "colab": {
          "base_uri": "https://localhost:8080/",
          "height": 264
        },
        "id": "hldgX3mmmzBc",
        "outputId": "0d4e0463-26b7-4a42-a00c-47f8755691c8"
      },
      "execution_count": null,
      "outputs": [
        {
          "output_type": "stream",
          "name": "stderr",
          "text": [
            "/usr/local/lib/python3.7/dist-packages/transformers/optimization.py:309: FutureWarning: This implementation of AdamW is deprecated and will be removed in a future version. Use the PyTorch implementation torch.optim.AdamW instead, or set `no_deprecation_warning=True` to disable this warning\n",
            "  FutureWarning,\n",
            "***** Running training *****\n",
            "  Num examples = 1000000\n",
            "  Num Epochs = 1\n",
            "  Instantaneous batch size per device = 8\n",
            "  Total train batch size (w. parallel, distributed & accumulation) = 8\n",
            "  Gradient Accumulation steps = 1\n",
            "  Total optimization steps = 30000\n"
          ]
        },
        {
          "output_type": "display_data",
          "data": {
            "text/plain": [
              "<IPython.core.display.HTML object>"
            ],
            "text/html": [
              "\n",
              "    <div>\n",
              "      \n",
              "      <progress value='28250' max='30000' style='width:300px; height:20px; vertical-align: middle;'></progress>\n",
              "      [28250/30000 1:03:26 < 03:55, 7.42 it/s, Epoch 0.23/1]\n",
              "    </div>\n",
              "    <table border=\"1\" class=\"dataframe\">\n",
              "  <thead>\n",
              " <tr style=\"text-align: left;\">\n",
              "      <th>Step</th>\n",
              "      <th>Training Loss</th>\n",
              "    </tr>\n",
              "  </thead>\n",
              "  <tbody>\n",
              "  </tbody>\n",
              "</table><p>"
            ]
          },
          "metadata": {}
        }
      ]
    },
    {
      "cell_type": "markdown",
      "metadata": {
        "id": "Cx0Ba_JQrU-h"
      },
      "source": [
        "## 4. Evaluate DistilBert CL Model performance"
      ]
    },
    {
      "cell_type": "code",
      "execution_count": null,
      "metadata": {
        "id": "Y_DP_ScSrU-i",
        "outputId": "eac26d51-9430-4e9e-ccf2-7a041a910a97",
        "colab": {
          "base_uri": "https://localhost:8080/"
        }
      },
      "outputs": [
        {
          "output_type": "stream",
          "name": "stderr",
          "text": [
            "/content/distil_face/SentEval/senteval/sts.py:42: VisibleDeprecationWarning: Creating an ndarray from ragged nested sequences (which is a list-or-tuple of lists-or-tuples-or ndarrays with different lengths or shapes) is deprecated. If you meant to do this, you must specify 'dtype=object' when creating the ndarray.\n",
            "  sent1 = np.array([s.split() for s in sent1])[not_empty_idx]\n",
            "/content/distil_face/SentEval/senteval/sts.py:43: VisibleDeprecationWarning: Creating an ndarray from ragged nested sequences (which is a list-or-tuple of lists-or-tuples-or ndarrays with different lengths or shapes) is deprecated. If you meant to do this, you must specify 'dtype=object' when creating the ndarray.\n",
            "  sent2 = np.array([s.split() for s in sent2])[not_empty_idx]\n"
          ]
        },
        {
          "output_type": "stream",
          "name": "stdout",
          "text": [
            "results:  {'STSBenchmark': {'train': {'pearson': (0.6413343191631499, 0.0), 'spearman': SpearmanrResult(correlation=0.622760474239443, pvalue=0.0), 'nsamples': 5749}, 'dev': {'pearson': (0.6953448953308116, 3.6176611774898064e-217), 'spearman': SpearmanrResult(correlation=0.7070068117563632, pvalue=1.215876377436612e-227), 'nsamples': 1500}, 'test': {'pearson': (0.6041644004635148, 5.669138920231195e-138), 'spearman': SpearmanrResult(correlation=0.6193071799582047, pvalue=7.741720799461172e-147), 'nsamples': 1379}, 'all': {'pearson': {'all': 0.6465638650460731, 'mean': 0.646947871652492, 'wmean': 0.6447833857330034}, 'spearman': {'all': 0.642011939300257, 'mean': 0.649691488651337, 'wmean': 0.6368549820583527}}}, 'STS12': {'MSRpar': {'pearson': (0.42446125666001966, 3.6951898351027358e-34), 'spearman': SpearmanrResult(correlation=0.46275007748686425, pvalue=4.5392655293692836e-41), 'nsamples': 750}, 'MSRvid': {'pearson': (0.6606497054808091, 3.094217485925751e-95), 'spearman': SpearmanrResult(correlation=0.6666661738830504, pvalue=1.4739747238522755e-97), 'nsamples': 750}, 'SMTeuroparl': {'pearson': (0.5157429394004893, 1.477523219245375e-32), 'spearman': SpearmanrResult(correlation=0.605070807801308, pvalue=3.534959915927703e-47), 'nsamples': 459}, 'surprise.OnWN': {'pearson': (0.6940203453197574, 7.71665955509072e-109), 'spearman': SpearmanrResult(correlation=0.6931241481029086, pvalue=1.8926797886685526e-108), 'nsamples': 750}, 'surprise.SMTnews': {'pearson': (0.6394473812244991, 2.9555278303471425e-47), 'spearman': SpearmanrResult(correlation=0.5712357900324934, pvalue=6.201903310367003e-36), 'nsamples': 399}, 'all': {'pearson': {'all': 0.49386073468421443, 'mean': 0.586864325617115, 'wmean': 0.5875849404404245}, 'spearman': {'all': 0.502326183517632, 'mean': 0.5997693994613249, 'wmean': 0.6024954570812042}}}, 'STS13': {'FNWN': {'pearson': (0.5111400104817709, 5.680228442265864e-14), 'spearman': SpearmanrResult(correlation=0.5352023675887024, pvalue=2.1234090436213142e-15), 'nsamples': 189}, 'headlines': {'pearson': (0.7191014979807349, 2.3322071736806396e-120), 'spearman': SpearmanrResult(correlation=0.7052207408898383, pvalue=7.829458259409286e-114), 'nsamples': 750}, 'OnWN': {'pearson': (0.5675824331380146, 3.752069175380297e-49), 'spearman': SpearmanrResult(correlation=0.5984383257100631, pvalue=8.538845315671117e-56), 'nsamples': 561}, 'all': {'pearson': {'all': 0.6302408639129363, 'mean': 0.5992746472001734, 'wmean': 0.6362302203046881}, 'spearman': {'all': 0.6458906427944041, 'mean': 0.6129538113962013, 'wmean': 0.6438618025766593}}}, 'STS14': {'deft-forum': {'pearson': (0.4131311023805712, 5.616633302754475e-20), 'spearman': SpearmanrResult(correlation=0.41820098489538465, pvalue=1.7727387967153984e-20), 'nsamples': 450}, 'deft-news': {'pearson': (0.7828184194376699, 2.352240769295559e-63), 'spearman': SpearmanrResult(correlation=0.7441719274719357, pvalue=3.7387094461971755e-54), 'nsamples': 300}, 'headlines': {'pearson': (0.6792712096288634, 1.3271332036278305e-102), 'spearman': SpearmanrResult(correlation=0.6305722991422829, pvalue=2.164889668330986e-84), 'nsamples': 750}, 'images': {'pearson': (0.6925137034861261, 3.4806984780758335e-108), 'spearman': SpearmanrResult(correlation=0.6663340629121112, pvalue=1.9864860443619638e-97), 'nsamples': 750}, 'OnWN': {'pearson': (0.6996343847108505, 2.591263951984582e-111), 'spearman': SpearmanrResult(correlation=0.7351325301615637, pvalue=2.0946151316506425e-128), 'nsamples': 750}, 'tweet-news': {'pearson': (0.6931323207285138, 1.8772855235856535e-108), 'spearman': SpearmanrResult(correlation=0.6409655679857778, pvalue=5.31233658760473e-88), 'nsamples': 750}, 'all': {'pearson': {'all': 0.5685807659163498, 'mean': 0.6600835233954325, 'wmean': 0.665111529551553}, 'spearman': {'all': 0.554324808526773, 'mean': 0.6392295620948426, 'wmean': 0.6443187644255481}}}, 'STS15': {'answers-forums': {'pearson': (0.6364220660308515, 5.666043095395086e-44), 'spearman': SpearmanrResult(correlation=0.6282546087553881, pvalue=1.4220523934192943e-42), 'nsamples': 375}, 'answers-students': {'pearson': (0.6979711204126108, 1.4205598482070703e-110), 'spearman': SpearmanrResult(correlation=0.699335855585439, pvalue=3.519794601133768e-111), 'nsamples': 750}, 'belief': {'pearson': (0.7240043622249521, 3.959827052169912e-62), 'spearman': SpearmanrResult(correlation=0.74233287057224, pvalue=7.546059575419126e-67), 'nsamples': 375}, 'headlines': {'pearson': (0.7362490049494516, 5.480487327077115e-129), 'spearman': SpearmanrResult(correlation=0.7224713279980465, pvalue=5.290321115239147e-122), 'nsamples': 750}, 'images': {'pearson': (0.7823236217006977, 6.046349640500045e-156), 'spearman': SpearmanrResult(correlation=0.7916272355667308, pvalue=3.3660375500282884e-162), 'nsamples': 750}, 'all': {'pearson': {'all': 0.7075798630798146, 'mean': 0.7153940350637127, 'wmean': 0.7241892402976655}, 'spearman': {'all': 0.7184705163186478, 'mean': 0.7168043796955688, 'wmean': 0.7246820397035076}}}}\n",
            "STS12:  0.502326183517632\n",
            "STS13:  0.6458906427944041\n",
            "STS14:  0.554324808526773\n",
            "STS15:  0.7184705163186478\n",
            "STSB:  0.6193071799582047\n"
          ]
        },
        {
          "output_type": "execute_result",
          "data": {
            "text/plain": [
              "{'STS12': {'MSRpar': {'nsamples': 750,\n",
              "   'pearson': (0.42446125666001966, 3.6951898351027358e-34),\n",
              "   'spearman': SpearmanrResult(correlation=0.46275007748686425, pvalue=4.5392655293692836e-41)},\n",
              "  'MSRvid': {'nsamples': 750,\n",
              "   'pearson': (0.6606497054808091, 3.094217485925751e-95),\n",
              "   'spearman': SpearmanrResult(correlation=0.6666661738830504, pvalue=1.4739747238522755e-97)},\n",
              "  'SMTeuroparl': {'nsamples': 459,\n",
              "   'pearson': (0.5157429394004893, 1.477523219245375e-32),\n",
              "   'spearman': SpearmanrResult(correlation=0.605070807801308, pvalue=3.534959915927703e-47)},\n",
              "  'all': {'pearson': {'all': 0.49386073468421443,\n",
              "    'mean': 0.586864325617115,\n",
              "    'wmean': 0.5875849404404245},\n",
              "   'spearman': {'all': 0.502326183517632,\n",
              "    'mean': 0.5997693994613249,\n",
              "    'wmean': 0.6024954570812042}},\n",
              "  'surprise.OnWN': {'nsamples': 750,\n",
              "   'pearson': (0.6940203453197574, 7.71665955509072e-109),\n",
              "   'spearman': SpearmanrResult(correlation=0.6931241481029086, pvalue=1.8926797886685526e-108)},\n",
              "  'surprise.SMTnews': {'nsamples': 399,\n",
              "   'pearson': (0.6394473812244991, 2.9555278303471425e-47),\n",
              "   'spearman': SpearmanrResult(correlation=0.5712357900324934, pvalue=6.201903310367003e-36)}},\n",
              " 'STS13': {'FNWN': {'nsamples': 189,\n",
              "   'pearson': (0.5111400104817709, 5.680228442265864e-14),\n",
              "   'spearman': SpearmanrResult(correlation=0.5352023675887024, pvalue=2.1234090436213142e-15)},\n",
              "  'OnWN': {'nsamples': 561,\n",
              "   'pearson': (0.5675824331380146, 3.752069175380297e-49),\n",
              "   'spearman': SpearmanrResult(correlation=0.5984383257100631, pvalue=8.538845315671117e-56)},\n",
              "  'all': {'pearson': {'all': 0.6302408639129363,\n",
              "    'mean': 0.5992746472001734,\n",
              "    'wmean': 0.6362302203046881},\n",
              "   'spearman': {'all': 0.6458906427944041,\n",
              "    'mean': 0.6129538113962013,\n",
              "    'wmean': 0.6438618025766593}},\n",
              "  'headlines': {'nsamples': 750,\n",
              "   'pearson': (0.7191014979807349, 2.3322071736806396e-120),\n",
              "   'spearman': SpearmanrResult(correlation=0.7052207408898383, pvalue=7.829458259409286e-114)}},\n",
              " 'STS14': {'OnWN': {'nsamples': 750,\n",
              "   'pearson': (0.6996343847108505, 2.591263951984582e-111),\n",
              "   'spearman': SpearmanrResult(correlation=0.7351325301615637, pvalue=2.0946151316506425e-128)},\n",
              "  'all': {'pearson': {'all': 0.5685807659163498,\n",
              "    'mean': 0.6600835233954325,\n",
              "    'wmean': 0.665111529551553},\n",
              "   'spearman': {'all': 0.554324808526773,\n",
              "    'mean': 0.6392295620948426,\n",
              "    'wmean': 0.6443187644255481}},\n",
              "  'deft-forum': {'nsamples': 450,\n",
              "   'pearson': (0.4131311023805712, 5.616633302754475e-20),\n",
              "   'spearman': SpearmanrResult(correlation=0.41820098489538465, pvalue=1.7727387967153984e-20)},\n",
              "  'deft-news': {'nsamples': 300,\n",
              "   'pearson': (0.7828184194376699, 2.352240769295559e-63),\n",
              "   'spearman': SpearmanrResult(correlation=0.7441719274719357, pvalue=3.7387094461971755e-54)},\n",
              "  'headlines': {'nsamples': 750,\n",
              "   'pearson': (0.6792712096288634, 1.3271332036278305e-102),\n",
              "   'spearman': SpearmanrResult(correlation=0.6305722991422829, pvalue=2.164889668330986e-84)},\n",
              "  'images': {'nsamples': 750,\n",
              "   'pearson': (0.6925137034861261, 3.4806984780758335e-108),\n",
              "   'spearman': SpearmanrResult(correlation=0.6663340629121112, pvalue=1.9864860443619638e-97)},\n",
              "  'tweet-news': {'nsamples': 750,\n",
              "   'pearson': (0.6931323207285138, 1.8772855235856535e-108),\n",
              "   'spearman': SpearmanrResult(correlation=0.6409655679857778, pvalue=5.31233658760473e-88)}},\n",
              " 'STS15': {'all': {'pearson': {'all': 0.7075798630798146,\n",
              "    'mean': 0.7153940350637127,\n",
              "    'wmean': 0.7241892402976655},\n",
              "   'spearman': {'all': 0.7184705163186478,\n",
              "    'mean': 0.7168043796955688,\n",
              "    'wmean': 0.7246820397035076}},\n",
              "  'answers-forums': {'nsamples': 375,\n",
              "   'pearson': (0.6364220660308515, 5.666043095395086e-44),\n",
              "   'spearman': SpearmanrResult(correlation=0.6282546087553881, pvalue=1.4220523934192943e-42)},\n",
              "  'answers-students': {'nsamples': 750,\n",
              "   'pearson': (0.6979711204126108, 1.4205598482070703e-110),\n",
              "   'spearman': SpearmanrResult(correlation=0.699335855585439, pvalue=3.519794601133768e-111)},\n",
              "  'belief': {'nsamples': 375,\n",
              "   'pearson': (0.7240043622249521, 3.959827052169912e-62),\n",
              "   'spearman': SpearmanrResult(correlation=0.74233287057224, pvalue=7.546059575419126e-67)},\n",
              "  'headlines': {'nsamples': 750,\n",
              "   'pearson': (0.7362490049494516, 5.480487327077115e-129),\n",
              "   'spearman': SpearmanrResult(correlation=0.7224713279980465, pvalue=5.290321115239147e-122)},\n",
              "  'images': {'nsamples': 750,\n",
              "   'pearson': (0.7823236217006977, 6.046349640500045e-156),\n",
              "   'spearman': SpearmanrResult(correlation=0.7916272355667308, pvalue=3.3660375500282884e-162)}},\n",
              " 'STSBenchmark': {'all': {'pearson': {'all': 0.6465638650460731,\n",
              "    'mean': 0.646947871652492,\n",
              "    'wmean': 0.6447833857330034},\n",
              "   'spearman': {'all': 0.642011939300257,\n",
              "    'mean': 0.649691488651337,\n",
              "    'wmean': 0.6368549820583527}},\n",
              "  'dev': {'nsamples': 1500,\n",
              "   'pearson': (0.6953448953308116, 3.6176611774898064e-217),\n",
              "   'spearman': SpearmanrResult(correlation=0.7070068117563632, pvalue=1.215876377436612e-227)},\n",
              "  'test': {'nsamples': 1379,\n",
              "   'pearson': (0.6041644004635148, 5.669138920231195e-138),\n",
              "   'spearman': SpearmanrResult(correlation=0.6193071799582047, pvalue=7.741720799461172e-147)},\n",
              "  'train': {'nsamples': 5749,\n",
              "   'pearson': (0.6413343191631499, 0.0),\n",
              "   'spearman': SpearmanrResult(correlation=0.622760474239443, pvalue=0.0)}}}"
            ]
          },
          "metadata": {},
          "execution_count": 25
        }
      ],
      "source": [
        "model.eval()\n",
        "\n",
        "results = evaluate_model()\n",
        "# 5e-05\n",
        "results"
      ]
    },
    {
      "cell_type": "code",
      "source": [
        "model.eval()\n",
        "\n",
        "results = evaluate_model()\n",
        "# 3e-05\n",
        "results"
      ],
      "metadata": {
        "id": "qtQQOs-vuZmx",
        "colab": {
          "base_uri": "https://localhost:8080/"
        },
        "outputId": "03d4f262-14a4-49e6-90d1-4e05f801e7b0"
      },
      "execution_count": null,
      "outputs": [
        {
          "output_type": "stream",
          "name": "stderr",
          "text": [
            "/content/distil_face/SentEval/senteval/sts.py:42: VisibleDeprecationWarning: Creating an ndarray from ragged nested sequences (which is a list-or-tuple of lists-or-tuples-or ndarrays with different lengths or shapes) is deprecated. If you meant to do this, you must specify 'dtype=object' when creating the ndarray.\n",
            "  sent1 = np.array([s.split() for s in sent1])[not_empty_idx]\n",
            "/content/distil_face/SentEval/senteval/sts.py:43: VisibleDeprecationWarning: Creating an ndarray from ragged nested sequences (which is a list-or-tuple of lists-or-tuples-or ndarrays with different lengths or shapes) is deprecated. If you meant to do this, you must specify 'dtype=object' when creating the ndarray.\n",
            "  sent2 = np.array([s.split() for s in sent2])[not_empty_idx]\n"
          ]
        },
        {
          "output_type": "stream",
          "name": "stdout",
          "text": [
            "results:  {'STSBenchmark': {'train': {'pearson': (0.7438214017408256, 0.0), 'spearman': SpearmanrResult(correlation=0.7153129840027083, pvalue=0.0), 'nsamples': 5749}, 'dev': {'pearson': (0.7556052735790904, 1.5563634968643622e-277), 'spearman': SpearmanrResult(correlation=0.7612821730557856, pvalue=3.9263252569098916e-284), 'nsamples': 1500}, 'test': {'pearson': (0.7424669070706221, 7.2743909795608805e-242), 'spearman': SpearmanrResult(correlation=0.7345777391009741, pvalue=3.402979372929511e-234), 'nsamples': 1379}, 'all': {'pearson': {'all': 0.7417080050442152, 'mean': 0.747297860796846, 'wmean': 0.7456535713754091}, 'spearman': {'all': 0.7307545522805707, 'mean': 0.737057632053156, 'wmean': 0.7263839020439837}}}, 'STS12': {'MSRpar': {'pearson': (0.5225283625113606, 8.934225383277799e-54), 'spearman': SpearmanrResult(correlation=0.5530207602070452, pvalue=2.682647894800919e-61), 'nsamples': 750}, 'MSRvid': {'pearson': (0.8216925869772372, 8.033335721568975e-185), 'spearman': SpearmanrResult(correlation=0.8184132989400847, pvalue=3.7501524731480714e-182), 'nsamples': 750}, 'SMTeuroparl': {'pearson': (0.5053420868954367, 4.015780376211538e-31), 'spearman': SpearmanrResult(correlation=0.6078585905890408, pvalue=1.036654205326215e-47), 'nsamples': 459}, 'surprise.OnWN': {'pearson': (0.7192543381065248, 1.9665884582502716e-120), 'spearman': SpearmanrResult(correlation=0.6897325841584372, pvalue=5.479976584694133e-107), 'nsamples': 750}, 'surprise.SMTnews': {'pearson': (0.5974448545534288, 5.7797437334252205e-40), 'spearman': SpearmanrResult(correlation=0.5224198074433865, pvalue=2.541990414178789e-29), 'nsamples': 399}, 'all': {'pearson': {'all': 0.632384955165421, 'mean': 0.6332524458087977, 'wmean': 0.6492725162638885}, 'spearman': {'all': 0.5897539328895788, 'mean': 0.6382890082675989, 'wmean': 0.6542238026800054}}}, 'STS13': {'FNWN': {'pearson': (0.6197546409556313, 1.945756123887608e-21), 'spearman': SpearmanrResult(correlation=0.6532997479929261, pvalue=2.2329589764100994e-24), 'nsamples': 189}, 'headlines': {'pearson': (0.736950118233596, 2.353105010265228e-129), 'spearman': SpearmanrResult(correlation=0.7255916563100107, pvalue=1.5102590938879153e-123), 'nsamples': 750}, 'OnWN': {'pearson': (0.7121793603596713, 5.974473260848713e-88), 'spearman': SpearmanrResult(correlation=0.7195590677332041, pvalue=1.383586745526585e-90), 'nsamples': 561}, 'all': {'pearson': {'all': 0.7047010246059243, 'mean': 0.6896280398496328, 'wmean': 0.7129192246517247}, 'spearman': {'all': 0.7178262104101618, 'mean': 0.6994834906787136, 'wmean': 0.7142266877343324}}}, 'STS14': {'deft-forum': {'pearson': (0.5287348945588278, 8.957766353356044e-34), 'spearman': SpearmanrResult(correlation=0.5248941346232677, pvalue=3.1639112614420736e-33), 'nsamples': 450}, 'deft-news': {'pearson': (0.7728084911513211, 8.481228108945586e-61), 'spearman': SpearmanrResult(correlation=0.7367604692219817, pvalue=1.4108939306819606e-52), 'nsamples': 300}, 'headlines': {'pearson': (0.7024413576388528, 1.4281388924979982e-112), 'spearman': SpearmanrResult(correlation=0.666066668409042, pvalue=2.52525910484298e-97), 'nsamples': 750}, 'images': {'pearson': (0.7706779103486451, 1.5436122969941166e-148), 'spearman': SpearmanrResult(correlation=0.7428436913598858, pvalue=1.729339119925332e-132), 'nsamples': 750}, 'OnWN': {'pearson': (0.7862077306478671, 1.6162611382878528e-158), 'spearman': SpearmanrResult(correlation=0.8038953318010017, pvalue=5.927259575625485e-171), 'nsamples': 750}, 'tweet-news': {'pearson': (0.7696349279175944, 6.768290911770968e-148), 'spearman': SpearmanrResult(correlation=0.7196707832387267, pvalue=1.2350595191530335e-120), 'nsamples': 750}, 'all': {'pearson': {'all': 0.6697625475463524, 'mean': 0.7217508853771847, 'wmean': 0.7310652519497569}, 'spearman': {'all': 0.6452046051660284, 'mean': 0.6990218464423177, 'wmean': 0.708423428654282}}}, 'STS15': {'answers-forums': {'pearson': (0.7244951950157903, 2.994122080799535e-62), 'spearman': SpearmanrResult(correlation=0.718144109808207, pvalue=1.064565102615388e-60), 'nsamples': 375}, 'answers-students': {'pearson': (0.7573200134821441, 1.4523015589165403e-140), 'spearman': SpearmanrResult(correlation=0.7562183647491538, pvalue=6.258892648788392e-140), 'nsamples': 750}, 'belief': {'pearson': (0.794257708379289, 9.989032450147817e-83), 'spearman': SpearmanrResult(correlation=0.7982815073644923, pvalue=3.7932756890182156e-84), 'nsamples': 375}, 'headlines': {'pearson': (0.756291069214563, 5.685012478477721e-140), 'spearman': SpearmanrResult(correlation=0.7518522598698134, pvalue=1.8966423148339085e-137), 'nsamples': 750}, 'images': {'pearson': (0.8371148304764778, 3.736689755540971e-198), 'spearman': SpearmanrResult(correlation=0.8459012062781822, pvalue=2.1685610370515558e-206), 'nsamples': 750}, 'all': {'pearson': {'all': 0.7637562540016893, 'mean': 0.7738957633136528, 'wmean': 0.7775255912176812}, 'spearman': {'all': 0.7670604865289057, 'mean': 0.7740794896139698, 'wmean': 0.7780461598708747}}}}\n",
            "STS12:  0.5897539328895788\n",
            "STS13:  0.7178262104101618\n",
            "STS14:  0.6452046051660284\n",
            "STS15:  0.7670604865289057\n",
            "STSB:  0.7345777391009741\n"
          ]
        },
        {
          "output_type": "execute_result",
          "data": {
            "text/plain": [
              "{'STS12': {'MSRpar': {'nsamples': 750,\n",
              "   'pearson': (0.5225283625113606, 8.934225383277799e-54),\n",
              "   'spearman': SpearmanrResult(correlation=0.5530207602070452, pvalue=2.682647894800919e-61)},\n",
              "  'MSRvid': {'nsamples': 750,\n",
              "   'pearson': (0.8216925869772372, 8.033335721568975e-185),\n",
              "   'spearman': SpearmanrResult(correlation=0.8184132989400847, pvalue=3.7501524731480714e-182)},\n",
              "  'SMTeuroparl': {'nsamples': 459,\n",
              "   'pearson': (0.5053420868954367, 4.015780376211538e-31),\n",
              "   'spearman': SpearmanrResult(correlation=0.6078585905890408, pvalue=1.036654205326215e-47)},\n",
              "  'all': {'pearson': {'all': 0.632384955165421,\n",
              "    'mean': 0.6332524458087977,\n",
              "    'wmean': 0.6492725162638885},\n",
              "   'spearman': {'all': 0.5897539328895788,\n",
              "    'mean': 0.6382890082675989,\n",
              "    'wmean': 0.6542238026800054}},\n",
              "  'surprise.OnWN': {'nsamples': 750,\n",
              "   'pearson': (0.7192543381065248, 1.9665884582502716e-120),\n",
              "   'spearman': SpearmanrResult(correlation=0.6897325841584372, pvalue=5.479976584694133e-107)},\n",
              "  'surprise.SMTnews': {'nsamples': 399,\n",
              "   'pearson': (0.5974448545534288, 5.7797437334252205e-40),\n",
              "   'spearman': SpearmanrResult(correlation=0.5224198074433865, pvalue=2.541990414178789e-29)}},\n",
              " 'STS13': {'FNWN': {'nsamples': 189,\n",
              "   'pearson': (0.6197546409556313, 1.945756123887608e-21),\n",
              "   'spearman': SpearmanrResult(correlation=0.6532997479929261, pvalue=2.2329589764100994e-24)},\n",
              "  'OnWN': {'nsamples': 561,\n",
              "   'pearson': (0.7121793603596713, 5.974473260848713e-88),\n",
              "   'spearman': SpearmanrResult(correlation=0.7195590677332041, pvalue=1.383586745526585e-90)},\n",
              "  'all': {'pearson': {'all': 0.7047010246059243,\n",
              "    'mean': 0.6896280398496328,\n",
              "    'wmean': 0.7129192246517247},\n",
              "   'spearman': {'all': 0.7178262104101618,\n",
              "    'mean': 0.6994834906787136,\n",
              "    'wmean': 0.7142266877343324}},\n",
              "  'headlines': {'nsamples': 750,\n",
              "   'pearson': (0.736950118233596, 2.353105010265228e-129),\n",
              "   'spearman': SpearmanrResult(correlation=0.7255916563100107, pvalue=1.5102590938879153e-123)}},\n",
              " 'STS14': {'OnWN': {'nsamples': 750,\n",
              "   'pearson': (0.7862077306478671, 1.6162611382878528e-158),\n",
              "   'spearman': SpearmanrResult(correlation=0.8038953318010017, pvalue=5.927259575625485e-171)},\n",
              "  'all': {'pearson': {'all': 0.6697625475463524,\n",
              "    'mean': 0.7217508853771847,\n",
              "    'wmean': 0.7310652519497569},\n",
              "   'spearman': {'all': 0.6452046051660284,\n",
              "    'mean': 0.6990218464423177,\n",
              "    'wmean': 0.708423428654282}},\n",
              "  'deft-forum': {'nsamples': 450,\n",
              "   'pearson': (0.5287348945588278, 8.957766353356044e-34),\n",
              "   'spearman': SpearmanrResult(correlation=0.5248941346232677, pvalue=3.1639112614420736e-33)},\n",
              "  'deft-news': {'nsamples': 300,\n",
              "   'pearson': (0.7728084911513211, 8.481228108945586e-61),\n",
              "   'spearman': SpearmanrResult(correlation=0.7367604692219817, pvalue=1.4108939306819606e-52)},\n",
              "  'headlines': {'nsamples': 750,\n",
              "   'pearson': (0.7024413576388528, 1.4281388924979982e-112),\n",
              "   'spearman': SpearmanrResult(correlation=0.666066668409042, pvalue=2.52525910484298e-97)},\n",
              "  'images': {'nsamples': 750,\n",
              "   'pearson': (0.7706779103486451, 1.5436122969941166e-148),\n",
              "   'spearman': SpearmanrResult(correlation=0.7428436913598858, pvalue=1.729339119925332e-132)},\n",
              "  'tweet-news': {'nsamples': 750,\n",
              "   'pearson': (0.7696349279175944, 6.768290911770968e-148),\n",
              "   'spearman': SpearmanrResult(correlation=0.7196707832387267, pvalue=1.2350595191530335e-120)}},\n",
              " 'STS15': {'all': {'pearson': {'all': 0.7637562540016893,\n",
              "    'mean': 0.7738957633136528,\n",
              "    'wmean': 0.7775255912176812},\n",
              "   'spearman': {'all': 0.7670604865289057,\n",
              "    'mean': 0.7740794896139698,\n",
              "    'wmean': 0.7780461598708747}},\n",
              "  'answers-forums': {'nsamples': 375,\n",
              "   'pearson': (0.7244951950157903, 2.994122080799535e-62),\n",
              "   'spearman': SpearmanrResult(correlation=0.718144109808207, pvalue=1.064565102615388e-60)},\n",
              "  'answers-students': {'nsamples': 750,\n",
              "   'pearson': (0.7573200134821441, 1.4523015589165403e-140),\n",
              "   'spearman': SpearmanrResult(correlation=0.7562183647491538, pvalue=6.258892648788392e-140)},\n",
              "  'belief': {'nsamples': 375,\n",
              "   'pearson': (0.794257708379289, 9.989032450147817e-83),\n",
              "   'spearman': SpearmanrResult(correlation=0.7982815073644923, pvalue=3.7932756890182156e-84)},\n",
              "  'headlines': {'nsamples': 750,\n",
              "   'pearson': (0.756291069214563, 5.685012478477721e-140),\n",
              "   'spearman': SpearmanrResult(correlation=0.7518522598698134, pvalue=1.8966423148339085e-137)},\n",
              "  'images': {'nsamples': 750,\n",
              "   'pearson': (0.8371148304764778, 3.736689755540971e-198),\n",
              "   'spearman': SpearmanrResult(correlation=0.8459012062781822, pvalue=2.1685610370515558e-206)}},\n",
              " 'STSBenchmark': {'all': {'pearson': {'all': 0.7417080050442152,\n",
              "    'mean': 0.747297860796846,\n",
              "    'wmean': 0.7456535713754091},\n",
              "   'spearman': {'all': 0.7307545522805707,\n",
              "    'mean': 0.737057632053156,\n",
              "    'wmean': 0.7263839020439837}},\n",
              "  'dev': {'nsamples': 1500,\n",
              "   'pearson': (0.7556052735790904, 1.5563634968643622e-277),\n",
              "   'spearman': SpearmanrResult(correlation=0.7612821730557856, pvalue=3.9263252569098916e-284)},\n",
              "  'test': {'nsamples': 1379,\n",
              "   'pearson': (0.7424669070706221, 7.2743909795608805e-242),\n",
              "   'spearman': SpearmanrResult(correlation=0.7345777391009741, pvalue=3.402979372929511e-234)},\n",
              "  'train': {'nsamples': 5749,\n",
              "   'pearson': (0.7438214017408256, 0.0),\n",
              "   'spearman': SpearmanrResult(correlation=0.7153129840027083, pvalue=0.0)}}}"
            ]
          },
          "metadata": {},
          "execution_count": 24
        }
      ]
    },
    {
      "cell_type": "code",
      "source": [
        "model.eval()\n",
        "\n",
        "results = evaluate_model()\n",
        "# 1e-05\n",
        "results"
      ],
      "metadata": {
        "id": "lpFTGKuvuZpQ",
        "colab": {
          "base_uri": "https://localhost:8080/"
        },
        "outputId": "6e00cd58-04d1-493f-9bd3-c07adf9dba6a"
      },
      "execution_count": null,
      "outputs": [
        {
          "output_type": "stream",
          "name": "stderr",
          "text": [
            "/content/distil_face/SentEval/senteval/sts.py:42: VisibleDeprecationWarning: Creating an ndarray from ragged nested sequences (which is a list-or-tuple of lists-or-tuples-or ndarrays with different lengths or shapes) is deprecated. If you meant to do this, you must specify 'dtype=object' when creating the ndarray.\n",
            "  sent1 = np.array([s.split() for s in sent1])[not_empty_idx]\n",
            "/content/distil_face/SentEval/senteval/sts.py:43: VisibleDeprecationWarning: Creating an ndarray from ragged nested sequences (which is a list-or-tuple of lists-or-tuples-or ndarrays with different lengths or shapes) is deprecated. If you meant to do this, you must specify 'dtype=object' when creating the ndarray.\n",
            "  sent2 = np.array([s.split() for s in sent2])[not_empty_idx]\n"
          ]
        },
        {
          "output_type": "stream",
          "name": "stdout",
          "text": [
            "results:  {'STSBenchmark': {'train': {'pearson': (0.7624856292575045, 0.0), 'spearman': SpearmanrResult(correlation=0.735292352044148, pvalue=0.0), 'nsamples': 5749}, 'dev': {'pearson': (0.7670603397832837, 4.8495110487467785e-291), 'spearman': SpearmanrResult(correlation=0.7733578219587147, pvalue=8.399089838055714e-299), 'nsamples': 1500}, 'test': {'pearson': (0.7590813642973432, 5.610516917261442e-259), 'spearman': SpearmanrResult(correlation=0.7500014513164092, pvalue=1.8577709076615907e-249), 'nsamples': 1379}, 'all': {'pearson': {'all': 0.7594495208635771, 'mean': 0.7628757777793771, 'wmean': 0.7627368560086178}, 'spearman': {'all': 0.748531465934916, 'mean': 0.752883875106424, 'wmean': 0.7442610646969411}}}, 'STS12': {'MSRpar': {'pearson': (0.5145387013058537, 6.288083753340994e-52), 'spearman': SpearmanrResult(correlation=0.5517000882734269, pvalue=5.896786928747554e-61), 'nsamples': 750}, 'MSRvid': {'pearson': (0.8368854218889684, 6.038410451288584e-198), 'spearman': SpearmanrResult(correlation=0.8328335559450619, pvalue=2.5692581602338342e-194), 'nsamples': 750}, 'SMTeuroparl': {'pearson': (0.5167512604470813, 1.0662212541579138e-32), 'spearman': SpearmanrResult(correlation=0.6168089089754981, pvalue=1.8577936743912675e-49), 'nsamples': 459}, 'surprise.OnWN': {'pearson': (0.7320982946175422, 7.739829836414225e-127), 'spearman': SpearmanrResult(correlation=0.7013097410846821, pvalue=4.613192027287151e-112), 'nsamples': 750}, 'surprise.SMTnews': {'pearson': (0.6113655278376848, 2.9250952951261e-42), 'spearman': SpearmanrResult(correlation=0.5360296336217719, pvalue=4.667195775428013e-31), 'nsamples': 399}, 'all': {'pearson': {'all': 0.6620425932915542, 'mean': 0.6423278412194261, 'wmean': 0.657582203189099}, 'spearman': {'all': 0.6107695441625319, 'mean': 0.6477363855800882, 'wmean': 0.6632476357825673}}}, 'STS13': {'FNWN': {'pearson': (0.6364636659403928, 7.410024360294639e-23), 'spearman': SpearmanrResult(correlation=0.6665246304178657, pvalue=1.2152136577959975e-25), 'nsamples': 189}, 'headlines': {'pearson': (0.7717453957465027, 3.3727117460521134e-149), 'spearman': SpearmanrResult(correlation=0.7672797196466341, pvalue=1.8521203732170857e-146), 'nsamples': 750}, 'OnWN': {'pearson': (0.7628391811665544, 6.1094586432354535e-108), 'spearman': SpearmanrResult(correlation=0.7655360487843522, pvalue=3.817685370969072e-109), 'nsamples': 561}, 'all': {'pearson': {'all': 0.7433703555442999, 'mean': 0.7236827476178166, 'wmean': 0.7513689735380321}, 'spearman': {'all': 0.7579902283877692, 'mean': 0.7331134662829507, 'wmean': 0.753932445501316}}}, 'STS14': {'deft-forum': {'pearson': (0.547579099873193, 1.4427200678869658e-36), 'spearman': SpearmanrResult(correlation=0.5430173771125503, pvalue=7.104925005349787e-36), 'nsamples': 450}, 'deft-news': {'pearson': (0.7870299108447771, 1.797653885077244e-64), 'spearman': SpearmanrResult(correlation=0.7534276255807177, pvalue=3.3522573875917348e-56), 'nsamples': 300}, 'headlines': {'pearson': (0.7366365284734233, 3.435705420132001e-129), 'spearman': SpearmanrResult(correlation=0.6994751903996353, pvalue=3.0511187782113133e-111), 'nsamples': 750}, 'images': {'pearson': (0.7793304832953646, 5.350089417923918e-154), 'spearman': SpearmanrResult(correlation=0.7474684050756308, pvalue=5.22354404673973e-135), 'nsamples': 750}, 'OnWN': {'pearson': (0.8185387606460962, 2.9711648871916496e-182), 'spearman': SpearmanrResult(correlation=0.8291065217409499, pvalue=4.5992728779190086e-191), 'nsamples': 750}, 'tweet-news': {'pearson': (0.7883245970190027, 6.07364962772829e-160), 'spearman': SpearmanrResult(correlation=0.728415709006487, pvalue=5.790554520301176e-125), 'nsamples': 750}, 'all': {'pearson': {'all': 0.7029098888111801, 'mean': 0.7429065633586428, 'wmean': 0.7532379587391427}, 'spearman': {'all': 0.6743337566643248, 'mean': 0.7168184714859952, 'wmean': 0.7263294605445042}}}, 'STS15': {'answers-forums': {'pearson': (0.7415553684121517, 1.2191402674029563e-66), 'spearman': SpearmanrResult(correlation=0.7436626931770243, pvalue=3.3085913582435994e-67), 'nsamples': 375}, 'answers-students': {'pearson': (0.7549154021020327, 3.4875025027811465e-139), 'spearman': SpearmanrResult(correlation=0.7544956123508761, pvalue=6.0515699386376135e-139), 'nsamples': 750}, 'belief': {'pearson': (0.8113829305918123, 5.2570294144658494e-89), 'spearman': SpearmanrResult(correlation=0.8181663030866863, pvalue=1.1306282780861096e-91), 'nsamples': 375}, 'headlines': {'pearson': (0.7816251610718237, 1.7320455589445342e-155), 'spearman': SpearmanrResult(correlation=0.7775200518785508, pvalue=7.783373257696003e-153), 'nsamples': 750}, 'images': {'pearson': (0.8456879069926027, 3.484826612163764e-206), 'spearman': SpearmanrResult(correlation=0.8550257408969769, pvalue=1.6532011830171752e-215), 'nsamples': 750}, 'all': {'pearson': {'all': 0.7741184934968817, 'mean': 0.7870333538340846, 'wmean': 0.7896744049171103}, 'spearman': {'all': 0.778426694988232, 'mean': 0.7897740802780229, 'wmean': 0.7919889758145647}}}}\n",
            "STS12:  0.6107695441625319\n",
            "STS13:  0.7579902283877692\n",
            "STS14:  0.6743337566643248\n",
            "STS15:  0.778426694988232\n",
            "STSB:  0.7500014513164092\n"
          ]
        },
        {
          "output_type": "execute_result",
          "data": {
            "text/plain": [
              "{'STS12': {'MSRpar': {'nsamples': 750,\n",
              "   'pearson': (0.5145387013058537, 6.288083753340994e-52),\n",
              "   'spearman': SpearmanrResult(correlation=0.5517000882734269, pvalue=5.896786928747554e-61)},\n",
              "  'MSRvid': {'nsamples': 750,\n",
              "   'pearson': (0.8368854218889684, 6.038410451288584e-198),\n",
              "   'spearman': SpearmanrResult(correlation=0.8328335559450619, pvalue=2.5692581602338342e-194)},\n",
              "  'SMTeuroparl': {'nsamples': 459,\n",
              "   'pearson': (0.5167512604470813, 1.0662212541579138e-32),\n",
              "   'spearman': SpearmanrResult(correlation=0.6168089089754981, pvalue=1.8577936743912675e-49)},\n",
              "  'all': {'pearson': {'all': 0.6620425932915542,\n",
              "    'mean': 0.6423278412194261,\n",
              "    'wmean': 0.657582203189099},\n",
              "   'spearman': {'all': 0.6107695441625319,\n",
              "    'mean': 0.6477363855800882,\n",
              "    'wmean': 0.6632476357825673}},\n",
              "  'surprise.OnWN': {'nsamples': 750,\n",
              "   'pearson': (0.7320982946175422, 7.739829836414225e-127),\n",
              "   'spearman': SpearmanrResult(correlation=0.7013097410846821, pvalue=4.613192027287151e-112)},\n",
              "  'surprise.SMTnews': {'nsamples': 399,\n",
              "   'pearson': (0.6113655278376848, 2.9250952951261e-42),\n",
              "   'spearman': SpearmanrResult(correlation=0.5360296336217719, pvalue=4.667195775428013e-31)}},\n",
              " 'STS13': {'FNWN': {'nsamples': 189,\n",
              "   'pearson': (0.6364636659403928, 7.410024360294639e-23),\n",
              "   'spearman': SpearmanrResult(correlation=0.6665246304178657, pvalue=1.2152136577959975e-25)},\n",
              "  'OnWN': {'nsamples': 561,\n",
              "   'pearson': (0.7628391811665544, 6.1094586432354535e-108),\n",
              "   'spearman': SpearmanrResult(correlation=0.7655360487843522, pvalue=3.817685370969072e-109)},\n",
              "  'all': {'pearson': {'all': 0.7433703555442999,\n",
              "    'mean': 0.7236827476178166,\n",
              "    'wmean': 0.7513689735380321},\n",
              "   'spearman': {'all': 0.7579902283877692,\n",
              "    'mean': 0.7331134662829507,\n",
              "    'wmean': 0.753932445501316}},\n",
              "  'headlines': {'nsamples': 750,\n",
              "   'pearson': (0.7717453957465027, 3.3727117460521134e-149),\n",
              "   'spearman': SpearmanrResult(correlation=0.7672797196466341, pvalue=1.8521203732170857e-146)}},\n",
              " 'STS14': {'OnWN': {'nsamples': 750,\n",
              "   'pearson': (0.8185387606460962, 2.9711648871916496e-182),\n",
              "   'spearman': SpearmanrResult(correlation=0.8291065217409499, pvalue=4.5992728779190086e-191)},\n",
              "  'all': {'pearson': {'all': 0.7029098888111801,\n",
              "    'mean': 0.7429065633586428,\n",
              "    'wmean': 0.7532379587391427},\n",
              "   'spearman': {'all': 0.6743337566643248,\n",
              "    'mean': 0.7168184714859952,\n",
              "    'wmean': 0.7263294605445042}},\n",
              "  'deft-forum': {'nsamples': 450,\n",
              "   'pearson': (0.547579099873193, 1.4427200678869658e-36),\n",
              "   'spearman': SpearmanrResult(correlation=0.5430173771125503, pvalue=7.104925005349787e-36)},\n",
              "  'deft-news': {'nsamples': 300,\n",
              "   'pearson': (0.7870299108447771, 1.797653885077244e-64),\n",
              "   'spearman': SpearmanrResult(correlation=0.7534276255807177, pvalue=3.3522573875917348e-56)},\n",
              "  'headlines': {'nsamples': 750,\n",
              "   'pearson': (0.7366365284734233, 3.435705420132001e-129),\n",
              "   'spearman': SpearmanrResult(correlation=0.6994751903996353, pvalue=3.0511187782113133e-111)},\n",
              "  'images': {'nsamples': 750,\n",
              "   'pearson': (0.7793304832953646, 5.350089417923918e-154),\n",
              "   'spearman': SpearmanrResult(correlation=0.7474684050756308, pvalue=5.22354404673973e-135)},\n",
              "  'tweet-news': {'nsamples': 750,\n",
              "   'pearson': (0.7883245970190027, 6.07364962772829e-160),\n",
              "   'spearman': SpearmanrResult(correlation=0.728415709006487, pvalue=5.790554520301176e-125)}},\n",
              " 'STS15': {'all': {'pearson': {'all': 0.7741184934968817,\n",
              "    'mean': 0.7870333538340846,\n",
              "    'wmean': 0.7896744049171103},\n",
              "   'spearman': {'all': 0.778426694988232,\n",
              "    'mean': 0.7897740802780229,\n",
              "    'wmean': 0.7919889758145647}},\n",
              "  'answers-forums': {'nsamples': 375,\n",
              "   'pearson': (0.7415553684121517, 1.2191402674029563e-66),\n",
              "   'spearman': SpearmanrResult(correlation=0.7436626931770243, pvalue=3.3085913582435994e-67)},\n",
              "  'answers-students': {'nsamples': 750,\n",
              "   'pearson': (0.7549154021020327, 3.4875025027811465e-139),\n",
              "   'spearman': SpearmanrResult(correlation=0.7544956123508761, pvalue=6.0515699386376135e-139)},\n",
              "  'belief': {'nsamples': 375,\n",
              "   'pearson': (0.8113829305918123, 5.2570294144658494e-89),\n",
              "   'spearman': SpearmanrResult(correlation=0.8181663030866863, pvalue=1.1306282780861096e-91)},\n",
              "  'headlines': {'nsamples': 750,\n",
              "   'pearson': (0.7816251610718237, 1.7320455589445342e-155),\n",
              "   'spearman': SpearmanrResult(correlation=0.7775200518785508, pvalue=7.783373257696003e-153)},\n",
              "  'images': {'nsamples': 750,\n",
              "   'pearson': (0.8456879069926027, 3.484826612163764e-206),\n",
              "   'spearman': SpearmanrResult(correlation=0.8550257408969769, pvalue=1.6532011830171752e-215)}},\n",
              " 'STSBenchmark': {'all': {'pearson': {'all': 0.7594495208635771,\n",
              "    'mean': 0.7628757777793771,\n",
              "    'wmean': 0.7627368560086178},\n",
              "   'spearman': {'all': 0.748531465934916,\n",
              "    'mean': 0.752883875106424,\n",
              "    'wmean': 0.7442610646969411}},\n",
              "  'dev': {'nsamples': 1500,\n",
              "   'pearson': (0.7670603397832837, 4.8495110487467785e-291),\n",
              "   'spearman': SpearmanrResult(correlation=0.7733578219587147, pvalue=8.399089838055714e-299)},\n",
              "  'test': {'nsamples': 1379,\n",
              "   'pearson': (0.7590813642973432, 5.610516917261442e-259),\n",
              "   'spearman': SpearmanrResult(correlation=0.7500014513164092, pvalue=1.8577709076615907e-249)},\n",
              "  'train': {'nsamples': 5749,\n",
              "   'pearson': (0.7624856292575045, 0.0),\n",
              "   'spearman': SpearmanrResult(correlation=0.735292352044148, pvalue=0.0)}}}"
            ]
          },
          "metadata": {},
          "execution_count": 27
        }
      ]
    },
    {
      "cell_type": "code",
      "source": [
        "model.eval()\n",
        "\n",
        "results = evaluate_model()\n",
        "# 5e-07\n",
        "results"
      ],
      "metadata": {
        "id": "kbrB8ieVmvLN"
      },
      "execution_count": null,
      "outputs": []
    },
    {
      "cell_type": "code",
      "source": [
        "! nvidia-smi"
      ],
      "metadata": {
        "colab": {
          "base_uri": "https://localhost:8080/"
        },
        "id": "qLAQFZGduZrr",
        "outputId": "cc563137-9927-4233-ba08-365c5b6d9464"
      },
      "execution_count": null,
      "outputs": [
        {
          "output_type": "stream",
          "name": "stdout",
          "text": [
            "Thu Mar 24 11:39:43 2022       \n",
            "+-----------------------------------------------------------------------------+\n",
            "| NVIDIA-SMI 460.32.03    Driver Version: 460.32.03    CUDA Version: 11.2     |\n",
            "|-------------------------------+----------------------+----------------------+\n",
            "| GPU  Name        Persistence-M| Bus-Id        Disp.A | Volatile Uncorr. ECC |\n",
            "| Fan  Temp  Perf  Pwr:Usage/Cap|         Memory-Usage | GPU-Util  Compute M. |\n",
            "|                               |                      |               MIG M. |\n",
            "|===============================+======================+======================|\n",
            "|   0  Tesla T4            Off  | 00000000:00:04.0 Off |                    0 |\n",
            "| N/A   64C    P0    29W /  70W |   2958MiB / 15109MiB |      0%      Default |\n",
            "|                               |                      |                  N/A |\n",
            "+-------------------------------+----------------------+----------------------+\n",
            "                                                                               \n",
            "+-----------------------------------------------------------------------------+\n",
            "| Processes:                                                                  |\n",
            "|  GPU   GI   CI        PID   Type   Process name                  GPU Memory |\n",
            "|        ID   ID                                                   Usage      |\n",
            "|=============================================================================|\n",
            "+-----------------------------------------------------------------------------+\n"
          ]
        }
      ]
    },
    {
      "cell_type": "code",
      "source": [
        ""
      ],
      "metadata": {
        "id": "yYfjQ_VluavQ"
      },
      "execution_count": null,
      "outputs": []
    }
  ],
  "metadata": {
    "kernelspec": {
      "display_name": "Python 3 (ipykernel)",
      "language": "python",
      "name": "python3"
    },
    "language_info": {
      "codemirror_mode": {
        "name": "ipython",
        "version": 3
      },
      "file_extension": ".py",
      "mimetype": "text/x-python",
      "name": "python",
      "nbconvert_exporter": "python",
      "pygments_lexer": "ipython3",
      "version": "3.9.9"
    },
    "colab": {
      "name": "hp_tuning_contrastive_learning_from_scratch_with_distilbert_colab.ipynb",
      "provenance": [],
      "collapsed_sections": []
    },
    "accelerator": "GPU",
    "widgets": {
      "application/vnd.jupyter.widget-state+json": {
        "a2f35e7510334dadad382ef94ff32cff": {
          "model_module": "@jupyter-widgets/controls",
          "model_name": "HBoxModel",
          "model_module_version": "1.5.0",
          "state": {
            "_dom_classes": [],
            "_model_module": "@jupyter-widgets/controls",
            "_model_module_version": "1.5.0",
            "_model_name": "HBoxModel",
            "_view_count": null,
            "_view_module": "@jupyter-widgets/controls",
            "_view_module_version": "1.5.0",
            "_view_name": "HBoxView",
            "box_style": "",
            "children": [
              "IPY_MODEL_d30b9254f6714d7aaa9844251c6c73fc",
              "IPY_MODEL_1a6cdeebdd354d6c9c8282911752d60b",
              "IPY_MODEL_4ce964d8fcf7450082ec2ad7bc607815"
            ],
            "layout": "IPY_MODEL_a659bebaeb74474cb8cb42a6b6e26d73"
          }
        },
        "d30b9254f6714d7aaa9844251c6c73fc": {
          "model_module": "@jupyter-widgets/controls",
          "model_name": "HTMLModel",
          "model_module_version": "1.5.0",
          "state": {
            "_dom_classes": [],
            "_model_module": "@jupyter-widgets/controls",
            "_model_module_version": "1.5.0",
            "_model_name": "HTMLModel",
            "_view_count": null,
            "_view_module": "@jupyter-widgets/controls",
            "_view_module_version": "1.5.0",
            "_view_name": "HTMLView",
            "description": "",
            "description_tooltip": null,
            "layout": "IPY_MODEL_6e5f790f0f624f6a8fce478dfa21f3d2",
            "placeholder": "​",
            "style": "IPY_MODEL_0b9289a72a6e4828a6f17d0dffd83e40",
            "value": "100%"
          }
        },
        "1a6cdeebdd354d6c9c8282911752d60b": {
          "model_module": "@jupyter-widgets/controls",
          "model_name": "FloatProgressModel",
          "model_module_version": "1.5.0",
          "state": {
            "_dom_classes": [],
            "_model_module": "@jupyter-widgets/controls",
            "_model_module_version": "1.5.0",
            "_model_name": "FloatProgressModel",
            "_view_count": null,
            "_view_module": "@jupyter-widgets/controls",
            "_view_module_version": "1.5.0",
            "_view_name": "ProgressView",
            "bar_style": "success",
            "description": "",
            "description_tooltip": null,
            "layout": "IPY_MODEL_d869545b5c874ea881dee18a2384347b",
            "max": 1,
            "min": 0,
            "orientation": "horizontal",
            "style": "IPY_MODEL_468be86d1d7845d2bf1446ee15a9237e",
            "value": 1
          }
        },
        "4ce964d8fcf7450082ec2ad7bc607815": {
          "model_module": "@jupyter-widgets/controls",
          "model_name": "HTMLModel",
          "model_module_version": "1.5.0",
          "state": {
            "_dom_classes": [],
            "_model_module": "@jupyter-widgets/controls",
            "_model_module_version": "1.5.0",
            "_model_name": "HTMLModel",
            "_view_count": null,
            "_view_module": "@jupyter-widgets/controls",
            "_view_module_version": "1.5.0",
            "_view_name": "HTMLView",
            "description": "",
            "description_tooltip": null,
            "layout": "IPY_MODEL_1b66453da4ee49f88da8eb0dc48f3463",
            "placeholder": "​",
            "style": "IPY_MODEL_2537ab38e7e74389b66646f368ffc201",
            "value": " 1/1 [00:00&lt;00:00, 20.95it/s]"
          }
        },
        "a659bebaeb74474cb8cb42a6b6e26d73": {
          "model_module": "@jupyter-widgets/base",
          "model_name": "LayoutModel",
          "model_module_version": "1.2.0",
          "state": {
            "_model_module": "@jupyter-widgets/base",
            "_model_module_version": "1.2.0",
            "_model_name": "LayoutModel",
            "_view_count": null,
            "_view_module": "@jupyter-widgets/base",
            "_view_module_version": "1.2.0",
            "_view_name": "LayoutView",
            "align_content": null,
            "align_items": null,
            "align_self": null,
            "border": null,
            "bottom": null,
            "display": null,
            "flex": null,
            "flex_flow": null,
            "grid_area": null,
            "grid_auto_columns": null,
            "grid_auto_flow": null,
            "grid_auto_rows": null,
            "grid_column": null,
            "grid_gap": null,
            "grid_row": null,
            "grid_template_areas": null,
            "grid_template_columns": null,
            "grid_template_rows": null,
            "height": null,
            "justify_content": null,
            "justify_items": null,
            "left": null,
            "margin": null,
            "max_height": null,
            "max_width": null,
            "min_height": null,
            "min_width": null,
            "object_fit": null,
            "object_position": null,
            "order": null,
            "overflow": null,
            "overflow_x": null,
            "overflow_y": null,
            "padding": null,
            "right": null,
            "top": null,
            "visibility": null,
            "width": null
          }
        },
        "6e5f790f0f624f6a8fce478dfa21f3d2": {
          "model_module": "@jupyter-widgets/base",
          "model_name": "LayoutModel",
          "model_module_version": "1.2.0",
          "state": {
            "_model_module": "@jupyter-widgets/base",
            "_model_module_version": "1.2.0",
            "_model_name": "LayoutModel",
            "_view_count": null,
            "_view_module": "@jupyter-widgets/base",
            "_view_module_version": "1.2.0",
            "_view_name": "LayoutView",
            "align_content": null,
            "align_items": null,
            "align_self": null,
            "border": null,
            "bottom": null,
            "display": null,
            "flex": null,
            "flex_flow": null,
            "grid_area": null,
            "grid_auto_columns": null,
            "grid_auto_flow": null,
            "grid_auto_rows": null,
            "grid_column": null,
            "grid_gap": null,
            "grid_row": null,
            "grid_template_areas": null,
            "grid_template_columns": null,
            "grid_template_rows": null,
            "height": null,
            "justify_content": null,
            "justify_items": null,
            "left": null,
            "margin": null,
            "max_height": null,
            "max_width": null,
            "min_height": null,
            "min_width": null,
            "object_fit": null,
            "object_position": null,
            "order": null,
            "overflow": null,
            "overflow_x": null,
            "overflow_y": null,
            "padding": null,
            "right": null,
            "top": null,
            "visibility": null,
            "width": null
          }
        },
        "0b9289a72a6e4828a6f17d0dffd83e40": {
          "model_module": "@jupyter-widgets/controls",
          "model_name": "DescriptionStyleModel",
          "model_module_version": "1.5.0",
          "state": {
            "_model_module": "@jupyter-widgets/controls",
            "_model_module_version": "1.5.0",
            "_model_name": "DescriptionStyleModel",
            "_view_count": null,
            "_view_module": "@jupyter-widgets/base",
            "_view_module_version": "1.2.0",
            "_view_name": "StyleView",
            "description_width": ""
          }
        },
        "d869545b5c874ea881dee18a2384347b": {
          "model_module": "@jupyter-widgets/base",
          "model_name": "LayoutModel",
          "model_module_version": "1.2.0",
          "state": {
            "_model_module": "@jupyter-widgets/base",
            "_model_module_version": "1.2.0",
            "_model_name": "LayoutModel",
            "_view_count": null,
            "_view_module": "@jupyter-widgets/base",
            "_view_module_version": "1.2.0",
            "_view_name": "LayoutView",
            "align_content": null,
            "align_items": null,
            "align_self": null,
            "border": null,
            "bottom": null,
            "display": null,
            "flex": null,
            "flex_flow": null,
            "grid_area": null,
            "grid_auto_columns": null,
            "grid_auto_flow": null,
            "grid_auto_rows": null,
            "grid_column": null,
            "grid_gap": null,
            "grid_row": null,
            "grid_template_areas": null,
            "grid_template_columns": null,
            "grid_template_rows": null,
            "height": null,
            "justify_content": null,
            "justify_items": null,
            "left": null,
            "margin": null,
            "max_height": null,
            "max_width": null,
            "min_height": null,
            "min_width": null,
            "object_fit": null,
            "object_position": null,
            "order": null,
            "overflow": null,
            "overflow_x": null,
            "overflow_y": null,
            "padding": null,
            "right": null,
            "top": null,
            "visibility": null,
            "width": null
          }
        },
        "468be86d1d7845d2bf1446ee15a9237e": {
          "model_module": "@jupyter-widgets/controls",
          "model_name": "ProgressStyleModel",
          "model_module_version": "1.5.0",
          "state": {
            "_model_module": "@jupyter-widgets/controls",
            "_model_module_version": "1.5.0",
            "_model_name": "ProgressStyleModel",
            "_view_count": null,
            "_view_module": "@jupyter-widgets/base",
            "_view_module_version": "1.2.0",
            "_view_name": "StyleView",
            "bar_color": null,
            "description_width": ""
          }
        },
        "1b66453da4ee49f88da8eb0dc48f3463": {
          "model_module": "@jupyter-widgets/base",
          "model_name": "LayoutModel",
          "model_module_version": "1.2.0",
          "state": {
            "_model_module": "@jupyter-widgets/base",
            "_model_module_version": "1.2.0",
            "_model_name": "LayoutModel",
            "_view_count": null,
            "_view_module": "@jupyter-widgets/base",
            "_view_module_version": "1.2.0",
            "_view_name": "LayoutView",
            "align_content": null,
            "align_items": null,
            "align_self": null,
            "border": null,
            "bottom": null,
            "display": null,
            "flex": null,
            "flex_flow": null,
            "grid_area": null,
            "grid_auto_columns": null,
            "grid_auto_flow": null,
            "grid_auto_rows": null,
            "grid_column": null,
            "grid_gap": null,
            "grid_row": null,
            "grid_template_areas": null,
            "grid_template_columns": null,
            "grid_template_rows": null,
            "height": null,
            "justify_content": null,
            "justify_items": null,
            "left": null,
            "margin": null,
            "max_height": null,
            "max_width": null,
            "min_height": null,
            "min_width": null,
            "object_fit": null,
            "object_position": null,
            "order": null,
            "overflow": null,
            "overflow_x": null,
            "overflow_y": null,
            "padding": null,
            "right": null,
            "top": null,
            "visibility": null,
            "width": null
          }
        },
        "2537ab38e7e74389b66646f368ffc201": {
          "model_module": "@jupyter-widgets/controls",
          "model_name": "DescriptionStyleModel",
          "model_module_version": "1.5.0",
          "state": {
            "_model_module": "@jupyter-widgets/controls",
            "_model_module_version": "1.5.0",
            "_model_name": "DescriptionStyleModel",
            "_view_count": null,
            "_view_module": "@jupyter-widgets/base",
            "_view_module_version": "1.2.0",
            "_view_name": "StyleView",
            "description_width": ""
          }
        }
      }
    }
  },
  "nbformat": 4,
  "nbformat_minor": 0
}