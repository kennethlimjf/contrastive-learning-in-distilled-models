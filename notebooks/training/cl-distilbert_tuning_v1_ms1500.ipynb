{
 "cells": [
  {
   "cell_type": "markdown",
   "id": "748a1a7d",
   "metadata": {
    "papermill": {
     "duration": 0.371187,
     "end_time": "2022-04-15T09:52:42.156447",
     "exception": false,
     "start_time": "2022-04-15T09:52:41.785260",
     "status": "completed"
    },
    "tags": []
   },
   "source": [
    "# Contrastive Learning From Scratch - DistilBERT\n",
    "\n",
    "An attempt to build contrastive learning model from scratch. Parts include:\n",
    "\n",
    "- Loading and preparing Wiki-1M data for model input\n",
    "- Contrastive learning model\n",
    "  - Forward passing using pre-trained model\n",
    "  - Constrastive layer\n",
    "  - Calculate loss\n",
    "- Training procedure\n",
    "  - Default trainer optimizer\n",
    "  - Default trainer hyper-parameters"
   ]
  },
  {
   "cell_type": "code",
   "execution_count": 1,
   "id": "62d0aa12",
   "metadata": {
    "execution": {
     "iopub.execute_input": "2022-04-15T09:52:42.632838Z",
     "iopub.status.busy": "2022-04-15T09:52:42.632157Z",
     "iopub.status.idle": "2022-04-15T09:52:42.652780Z",
     "shell.execute_reply": "2022-04-15T09:52:42.652144Z"
    },
    "papermill": {
     "duration": 0.193821,
     "end_time": "2022-04-15T09:52:42.654139",
     "exception": false,
     "start_time": "2022-04-15T09:52:42.460318",
     "status": "completed"
    },
    "tags": []
   },
   "outputs": [
    {
     "name": "stdout",
     "output_type": "stream",
     "text": [
      "/notebooks/contrastive-learning-in-distilled-models\n"
     ]
    }
   ],
   "source": [
    "import os\n",
    "\n",
    "# Set Project home\n",
    "PROJECT_HOME = os.path.join('/',\n",
    "                            'notebooks',\n",
    "                            'contrastive-learning-in-distilled-models')\n",
    "%cd {PROJECT_HOME}\n",
    "\n",
    "# Load project code\n",
    "%reload_ext autoreload\n",
    "%autoreload 2\n",
    "\n",
    "import sys\n",
    "sys.path.insert(0, f'{PROJECT_HOME}/src')\n",
    "\n",
    "import distilface"
   ]
  },
  {
   "cell_type": "code",
   "execution_count": 2,
   "id": "d11d222d",
   "metadata": {
    "execution": {
     "iopub.execute_input": "2022-04-15T09:52:43.192451Z",
     "iopub.status.busy": "2022-04-15T09:52:43.191835Z",
     "iopub.status.idle": "2022-04-15T09:52:44.120577Z",
     "shell.execute_reply": "2022-04-15T09:52:44.119595Z"
    },
    "papermill": {
     "duration": 1.216303,
     "end_time": "2022-04-15T09:52:44.122470",
     "exception": false,
     "start_time": "2022-04-15T09:52:42.906167",
     "status": "completed"
    },
    "tags": []
   },
   "outputs": [],
   "source": [
    "def seed_everything(seed: int):\n",
    "    import random, os\n",
    "    import numpy as np\n",
    "    import torch\n",
    "    \n",
    "    random.seed(seed)\n",
    "    os.environ['PYTHONHASHSEED'] = str(seed)\n",
    "    np.random.seed(seed)\n",
    "    torch.manual_seed(seed)\n",
    "    torch.cuda.manual_seed(seed)\n",
    "    torch.backends.cudnn.deterministic = True\n",
    "    torch.backends.cudnn.benchmark = True\n",
    "    \n",
    "seed_everything(42)"
   ]
  },
  {
   "cell_type": "code",
   "execution_count": 3,
   "id": "b5df0b21",
   "metadata": {
    "execution": {
     "iopub.execute_input": "2022-04-15T09:52:44.542099Z",
     "iopub.status.busy": "2022-04-15T09:52:44.541859Z",
     "iopub.status.idle": "2022-04-15T09:52:44.560129Z",
     "shell.execute_reply": "2022-04-15T09:52:44.559569Z"
    },
    "papermill": {
     "duration": 0.181272,
     "end_time": "2022-04-15T09:52:44.561431",
     "exception": false,
     "start_time": "2022-04-15T09:52:44.380159",
     "status": "completed"
    },
    "tags": [
     "parameters"
    ]
   },
   "outputs": [],
   "source": [
    "# Hyperparameters\n",
    "\n",
    "pooling_method = 'avg_last4'\n",
    "batch_size = 128\n",
    "learning_rate = 1e-5\n",
    "epochs = 1\n",
    "max_steps = 30_000\n",
    "temperature = 0.05\n",
    "max_len = 32\n",
    "fp16 = False"
   ]
  },
  {
   "cell_type": "code",
   "execution_count": 4,
   "id": "0ffa54d5",
   "metadata": {
    "execution": {
     "iopub.execute_input": "2022-04-15T09:52:44.876913Z",
     "iopub.status.busy": "2022-04-15T09:52:44.876367Z",
     "iopub.status.idle": "2022-04-15T09:52:44.893447Z",
     "shell.execute_reply": "2022-04-15T09:52:44.892826Z"
    },
    "papermill": {
     "duration": 0.166175,
     "end_time": "2022-04-15T09:52:44.894723",
     "exception": false,
     "start_time": "2022-04-15T09:52:44.728548",
     "status": "completed"
    },
    "tags": [
     "injected-parameters"
    ]
   },
   "outputs": [],
   "source": [
    "# Parameters\n",
    "max_steps = 1500\n"
   ]
  },
  {
   "cell_type": "markdown",
   "id": "70d22001",
   "metadata": {
    "papermill": {
     "duration": 0.113804,
     "end_time": "2022-04-15T09:52:45.270600",
     "exception": false,
     "start_time": "2022-04-15T09:52:45.156796",
     "status": "completed"
    },
    "tags": []
   },
   "source": [
    "## 1. Loading and Preparing Wiki-1M data\n",
    "\n",
    "Use huggingface `datasets` library to load local file data."
   ]
  },
  {
   "cell_type": "code",
   "execution_count": 5,
   "id": "3ce3892e",
   "metadata": {
    "execution": {
     "iopub.execute_input": "2022-04-15T09:52:45.716580Z",
     "iopub.status.busy": "2022-04-15T09:52:45.716339Z",
     "iopub.status.idle": "2022-04-15T09:52:46.198750Z",
     "shell.execute_reply": "2022-04-15T09:52:46.197794Z"
    },
    "papermill": {
     "duration": 0.695595,
     "end_time": "2022-04-15T09:52:46.200043",
     "exception": false,
     "start_time": "2022-04-15T09:52:45.504448",
     "status": "completed"
    },
    "tags": []
   },
   "outputs": [
    {
     "name": "stderr",
     "output_type": "stream",
     "text": [
      "Using custom data configuration default-235a9b97f9ebd10e\n"
     ]
    },
    {
     "name": "stderr",
     "output_type": "stream",
     "text": [
      "Reusing dataset text (./data/text/default-235a9b97f9ebd10e/0.0.0/4b86d314f7236db91f0a0f5cda32d4375445e64c5eda2692655dd99c2dac68e8)\n"
     ]
    },
    {
     "data": {
      "application/vnd.jupyter.widget-view+json": {
       "model_id": "99f207fc4be6417e91b74174528368ad",
       "version_major": 2,
       "version_minor": 0
      },
      "text/plain": [
       "  0%|          | 0/1 [00:00<?, ?it/s]"
      ]
     },
     "metadata": {},
     "output_type": "display_data"
    }
   ],
   "source": [
    "import numpy as np\n",
    "\n",
    "from datasets import load_dataset\n",
    "\n",
    "data_files = {'train': 'data/training/wiki1m_for_simcse.txt'}\n",
    "# data_files = {'train': 'data/training/wiki5k.txt'}\n",
    "datasets = load_dataset('text', data_files=data_files, cache_dir='./data/')"
   ]
  },
  {
   "cell_type": "code",
   "execution_count": 6,
   "id": "29522a48",
   "metadata": {
    "execution": {
     "iopub.execute_input": "2022-04-15T09:52:46.653967Z",
     "iopub.status.busy": "2022-04-15T09:52:46.653754Z",
     "iopub.status.idle": "2022-04-15T09:52:46.673925Z",
     "shell.execute_reply": "2022-04-15T09:52:46.673045Z"
    },
    "papermill": {
     "duration": 0.276979,
     "end_time": "2022-04-15T09:52:46.675156",
     "exception": false,
     "start_time": "2022-04-15T09:52:46.398177",
     "status": "completed"
    },
    "tags": []
   },
   "outputs": [],
   "source": [
    "# Unsupervised / Self-supervised dataset\n",
    "\n",
    "column_names = datasets[\"train\"].column_names\n",
    "sent0_cname = column_names[0]\n",
    "sent1_cname = column_names[0]"
   ]
  },
  {
   "cell_type": "code",
   "execution_count": 7,
   "id": "24f61777",
   "metadata": {
    "execution": {
     "iopub.execute_input": "2022-04-15T09:52:47.161175Z",
     "iopub.status.busy": "2022-04-15T09:52:47.157528Z",
     "iopub.status.idle": "2022-04-15T09:52:53.062774Z",
     "shell.execute_reply": "2022-04-15T09:52:53.062122Z"
    },
    "papermill": {
     "duration": 6.084874,
     "end_time": "2022-04-15T09:52:53.064531",
     "exception": false,
     "start_time": "2022-04-15T09:52:46.979657",
     "status": "completed"
    },
    "tags": []
   },
   "outputs": [],
   "source": [
    "from transformers import AutoTokenizer\n",
    "\n",
    "tokenizer = AutoTokenizer.from_pretrained('distilbert-base-uncased')"
   ]
  },
  {
   "cell_type": "code",
   "execution_count": 8,
   "id": "e6571b3b",
   "metadata": {
    "execution": {
     "iopub.execute_input": "2022-04-15T09:52:53.446106Z",
     "iopub.status.busy": "2022-04-15T09:52:53.445865Z",
     "iopub.status.idle": "2022-04-15T09:52:53.469427Z",
     "shell.execute_reply": "2022-04-15T09:52:53.468961Z"
    },
    "papermill": {
     "duration": 0.202742,
     "end_time": "2022-04-15T09:52:53.470664",
     "exception": false,
     "start_time": "2022-04-15T09:52:53.267922",
     "status": "completed"
    },
    "tags": []
   },
   "outputs": [],
   "source": [
    "def prepare_features(examples):\n",
    "    total = len(examples[sent0_cname])\n",
    "\n",
    "    # Avoid \"None\" fields \n",
    "    for idx in range(total):\n",
    "        if examples[sent0_cname][idx] is None:\n",
    "            examples[sent0_cname][idx] = \" \"\n",
    "        if examples[sent1_cname][idx] is None:\n",
    "            examples[sent1_cname][idx] = \" \"\n",
    "\n",
    "    sentences = examples[sent0_cname] + examples[sent1_cname]\n",
    "\n",
    "    sent_features = tokenizer(\n",
    "        sentences,\n",
    "        max_length=max_len,\n",
    "        truncation=True,\n",
    "        padding=True,\n",
    "    )\n",
    "\n",
    "    features = {}\n",
    "    for key in sent_features:\n",
    "        features[key] = [[sent_features[key][i], sent_features[key][i+total]] for i in range(total)]\n",
    "\n",
    "    return features"
   ]
  },
  {
   "cell_type": "code",
   "execution_count": 9,
   "id": "9a213fff",
   "metadata": {
    "execution": {
     "iopub.execute_input": "2022-04-15T09:52:53.924982Z",
     "iopub.status.busy": "2022-04-15T09:52:53.924743Z",
     "iopub.status.idle": "2022-04-15T09:52:53.969271Z",
     "shell.execute_reply": "2022-04-15T09:52:53.968705Z"
    },
    "papermill": {
     "duration": 0.195164,
     "end_time": "2022-04-15T09:52:53.970577",
     "exception": false,
     "start_time": "2022-04-15T09:52:53.775413",
     "status": "completed"
    },
    "tags": []
   },
   "outputs": [
    {
     "name": "stderr",
     "output_type": "stream",
     "text": [
      "Loading cached processed dataset at ./data/text/default-235a9b97f9ebd10e/0.0.0/4b86d314f7236db91f0a0f5cda32d4375445e64c5eda2692655dd99c2dac68e8/cache-305eab4ce3c7d88c.arrow\n"
     ]
    }
   ],
   "source": [
    "train_dataset = datasets[\"train\"].map(prepare_features,\n",
    "                                      batched=True,\n",
    "                                    #   num_proc=24,\n",
    "                                      remove_columns=column_names)"
   ]
  },
  {
   "cell_type": "code",
   "execution_count": 10,
   "id": "26199c11",
   "metadata": {
    "execution": {
     "iopub.execute_input": "2022-04-15T09:52:54.357179Z",
     "iopub.status.busy": "2022-04-15T09:52:54.356281Z",
     "iopub.status.idle": "2022-04-15T09:52:54.382847Z",
     "shell.execute_reply": "2022-04-15T09:52:54.382248Z"
    },
    "papermill": {
     "duration": 0.207018,
     "end_time": "2022-04-15T09:52:54.384431",
     "exception": false,
     "start_time": "2022-04-15T09:52:54.177413",
     "status": "completed"
    },
    "tags": []
   },
   "outputs": [
    {
     "data": {
      "text/plain": [
       "1000000"
      ]
     },
     "execution_count": 10,
     "metadata": {},
     "output_type": "execute_result"
    }
   ],
   "source": [
    "train_dataset.num_rows"
   ]
  },
  {
   "cell_type": "markdown",
   "id": "f76946a0",
   "metadata": {
    "papermill": {
     "duration": 0.341094,
     "end_time": "2022-04-15T09:52:54.840313",
     "exception": false,
     "start_time": "2022-04-15T09:52:54.499219",
     "status": "completed"
    },
    "tags": []
   },
   "source": [
    "## 2. Contrastive Learning Model"
   ]
  },
  {
   "cell_type": "code",
   "execution_count": 11,
   "id": "7c6dcbd1",
   "metadata": {
    "execution": {
     "iopub.execute_input": "2022-04-15T09:52:55.146531Z",
     "iopub.status.busy": "2022-04-15T09:52:55.146338Z",
     "iopub.status.idle": "2022-04-15T09:52:59.650857Z",
     "shell.execute_reply": "2022-04-15T09:52:59.650167Z"
    },
    "papermill": {
     "duration": 4.664986,
     "end_time": "2022-04-15T09:52:59.653115",
     "exception": false,
     "start_time": "2022-04-15T09:52:54.988129",
     "status": "completed"
    },
    "tags": []
   },
   "outputs": [
    {
     "name": "stderr",
     "output_type": "stream",
     "text": [
      "Some weights of the model checkpoint at distilbert-base-uncased were not used when initializing DistilBertCLModel: ['vocab_projector.weight', 'vocab_transform.weight', 'vocab_projector.bias', 'vocab_layer_norm.bias', 'vocab_transform.bias', 'vocab_layer_norm.weight']\n",
      "- This IS expected if you are initializing DistilBertCLModel from the checkpoint of a model trained on another task or with another architecture (e.g. initializing a BertForSequenceClassification model from a BertForPreTraining model).\n",
      "- This IS NOT expected if you are initializing DistilBertCLModel from the checkpoint of a model that you expect to be exactly identical (initializing a BertForSequenceClassification model from a BertForSequenceClassification model).\n"
     ]
    }
   ],
   "source": [
    "import torch\n",
    "import torch.nn as nn\n",
    "\n",
    "from transformers import AutoTokenizer, DistilBertModel, DistilBertPreTrainedModel, AutoConfig\n",
    "from transformers.modeling_outputs import SequenceClassifierOutput, BaseModelOutputWithPooling\n",
    "\n",
    "from distilface.modules.pooler import Pooler\n",
    "from distilface.modules.similarity import Similarity\n",
    "\n",
    "\n",
    "class DistilBertCLModel(DistilBertPreTrainedModel):\n",
    "    def __init__(self, config, pooler_type=pooling_method, temp=temperature):\n",
    "        super().__init__(config)\n",
    "\n",
    "        self.config = config\n",
    "        self.pooler_type = pooler_type\n",
    "        self.temp = temperature\n",
    "\n",
    "        self.distilbert = DistilBertModel(config)\n",
    "        self.pooler = Pooler(pooler_type)\n",
    "        self.sim = Similarity(temp=temp)\n",
    "\n",
    "        self.init_weights()\n",
    "\n",
    "    def forward(self, input_ids=None, attention_mask=None):\n",
    "        if self.training:\n",
    "            return self.cl_forward(self.distilbert, input_ids, attention_mask)\n",
    "        else:\n",
    "            return self.sent_emb(self.distilbert, input_ids, attention_mask)\n",
    "\n",
    "    def cl_forward(self, encoder, input_ids=None, attention_mask=None):\n",
    "        batch_size = input_ids.size(0)\n",
    "        num_sent = input_ids.size(1)  # Number of sentences in one instance: 2 sentences\n",
    "\n",
    "        # Flatten all input tensors\n",
    "        input_ids = input_ids.view((-1, input_ids.size(-1))) # (bs * num_sent, len)\n",
    "        attention_mask = attention_mask.view((-1, attention_mask.size(-1))) # (bs * num_sent len)\n",
    "\n",
    "        # Pre-trained Model Encoder\n",
    "        outputs = encoder(\n",
    "            input_ids,\n",
    "            attention_mask=attention_mask,\n",
    "            output_hidden_states=True,\n",
    "            return_dict=True,\n",
    "        )\n",
    "\n",
    "        # Pooling\n",
    "        pooler_output = self.pooler(attention_mask, outputs)\n",
    "        pooler_output = pooler_output.view((batch_size, num_sent, pooler_output.size(-1)))  # (bs, num_sent, hidden)\n",
    "\n",
    "        # Separate representation\n",
    "        z1, z2 = pooler_output[:, 0], pooler_output[:, 1]\n",
    "\n",
    "        # Cosine similarity\n",
    "        cos_sim = self.sim(z1.unsqueeze(1), z2.unsqueeze(0))\n",
    "\n",
    "        # Calculate contrastive loss\n",
    "        criterion = nn.CrossEntropyLoss()\n",
    "        labels = torch.arange(cos_sim.size(0)).long().to(self.device)\n",
    "        loss = criterion(cos_sim, labels)\n",
    "\n",
    "        return SequenceClassifierOutput(\n",
    "            loss=loss,\n",
    "            logits=cos_sim,\n",
    "            hidden_states=outputs.hidden_states,\n",
    "            attentions=outputs.attentions,\n",
    "        )\n",
    "\n",
    "    def sent_emb(self, encoder, input_ids=None, attention_mask=None):\n",
    "        outputs = encoder(\n",
    "            input_ids,\n",
    "            attention_mask=attention_mask,\n",
    "            output_hidden_states=True,\n",
    "            return_dict=True,\n",
    "        )\n",
    "        pooler_output = self.pooler(attention_mask, outputs)\n",
    "\n",
    "        return BaseModelOutputWithPooling(\n",
    "            pooler_output=pooler_output,\n",
    "            last_hidden_state=outputs.last_hidden_state,\n",
    "            hidden_states=outputs.hidden_states,\n",
    "        )\n",
    "\n",
    "\n",
    "pretrained_model_name = 'distilbert-base-uncased'\n",
    "\n",
    "device = torch.device(\"cuda\" if torch.cuda.is_available() else \"cpu\")\n",
    "config = AutoConfig.from_pretrained(pretrained_model_name)\n",
    "\n",
    "model = DistilBertCLModel.from_pretrained(pretrained_model_name, config=config).to(device)\n",
    "tokenizer = AutoTokenizer.from_pretrained(pretrained_model_name)\n",
    "\n",
    "model.eval();"
   ]
  },
  {
   "cell_type": "markdown",
   "id": "4afe1cb4",
   "metadata": {
    "papermill": {
     "duration": 0.147031,
     "end_time": "2022-04-15T09:53:00.048574",
     "exception": false,
     "start_time": "2022-04-15T09:52:59.901543",
     "status": "completed"
    },
    "tags": []
   },
   "source": [
    "### 2.1 Initial DistilBERT embeddings performance"
   ]
  },
  {
   "cell_type": "code",
   "execution_count": 12,
   "id": "af6bf7d8",
   "metadata": {
    "execution": {
     "iopub.execute_input": "2022-04-15T09:53:00.501414Z",
     "iopub.status.busy": "2022-04-15T09:53:00.501183Z",
     "iopub.status.idle": "2022-04-15T09:53:00.887698Z",
     "shell.execute_reply": "2022-04-15T09:53:00.887205Z"
    },
    "papermill": {
     "duration": 0.622967,
     "end_time": "2022-04-15T09:53:00.889416",
     "exception": false,
     "start_time": "2022-04-15T09:53:00.266449",
     "status": "completed"
    },
    "tags": []
   },
   "outputs": [],
   "source": [
    "import senteval\n",
    "\n",
    "\n",
    "def prepare(params, samples):\n",
    "    return\n",
    "\n",
    "def batcher(params, batch):\n",
    "    sentences = [\" \".join(s) for s in batch]\n",
    "    batch = tokenizer.batch_encode_plus(\n",
    "        sentences,\n",
    "        return_tensors=\"pt\",\n",
    "        padding=True,\n",
    "    )\n",
    "\n",
    "    for k in batch:\n",
    "        batch[k] = batch[k].to(device)\n",
    "\n",
    "    with torch.no_grad():\n",
    "        outputs = model(**batch)\n",
    "\n",
    "    pooled_result = outputs.pooler_output.cpu()\n",
    "\n",
    "    return pooled_result\n",
    "\n",
    "\n",
    "def evaluate_model():\n",
    "    PATH_TO_DATA = \"./data\"\n",
    "\n",
    "    params = {\"task_path\": PATH_TO_DATA, \"usepytorch\": True, \"kfold\": 10}\n",
    "    tasks = [\"STSBenchmark\", 'STS12', 'STS13', 'STS14', 'STS15']\n",
    "\n",
    "    se = senteval.engine.SE(params, batcher, prepare)\n",
    "    results = se.eval(tasks)\n",
    "\n",
    "    print('STS12: ', results[\"STS12\"][\"all\"][\"spearman\"][\"all\"])\n",
    "    print('STS13: ', results[\"STS13\"][\"all\"][\"spearman\"][\"all\"])\n",
    "    print('STS14: ', results[\"STS14\"][\"all\"][\"spearman\"][\"all\"])\n",
    "    print('STS15: ', results[\"STS15\"][\"all\"][\"spearman\"][\"all\"])\n",
    "    print('STSB: ', results[\"STSBenchmark\"][\"test\"][\"spearman\"][0])\n",
    "\n",
    "    return results"
   ]
  },
  {
   "cell_type": "markdown",
   "id": "b5226abe",
   "metadata": {
    "papermill": {
     "duration": 0.261855,
     "end_time": "2022-04-15T09:53:01.376258",
     "exception": false,
     "start_time": "2022-04-15T09:53:01.114403",
     "status": "completed"
    },
    "tags": []
   },
   "source": [
    "## 3. Trainer"
   ]
  },
  {
   "cell_type": "code",
   "execution_count": 13,
   "id": "07ac958a",
   "metadata": {
    "execution": {
     "iopub.execute_input": "2022-04-15T09:53:01.754936Z",
     "iopub.status.busy": "2022-04-15T09:53:01.754715Z",
     "iopub.status.idle": "2022-04-15T09:53:01.887323Z",
     "shell.execute_reply": "2022-04-15T09:53:01.886596Z"
    },
    "papermill": {
     "duration": 0.266645,
     "end_time": "2022-04-15T09:53:01.888695",
     "exception": false,
     "start_time": "2022-04-15T09:53:01.622050",
     "status": "completed"
    },
    "tags": []
   },
   "outputs": [
    {
     "name": "stderr",
     "output_type": "stream",
     "text": [
      "max_steps is given, it will override any value given in num_train_epochs\n"
     ]
    }
   ],
   "source": [
    "# import mlflow\n",
    "\n",
    "from transformers import Trainer, TrainingArguments\n",
    "from transformers import default_data_collator\n",
    "\n",
    "training_args = TrainingArguments(\n",
    "    output_dir='output',\n",
    "    overwrite_output_dir=True,\n",
    "    learning_rate=learning_rate,\n",
    "    num_train_epochs=epochs,\n",
    "    max_steps=max_steps,\n",
    "    per_device_train_batch_size=batch_size,\n",
    "    per_device_eval_batch_size=batch_size,\n",
    "    save_strategy='steps',\n",
    "    save_steps=max_steps,\n",
    "    fp16=fp16,\n",
    ")\n",
    "\n",
    "model.train()\n",
    "\n",
    "trainer = Trainer(\n",
    "    model=model,\n",
    "    args=training_args,\n",
    "    train_dataset=train_dataset,\n",
    "    tokenizer=tokenizer,\n",
    "    data_collator=default_data_collator\n",
    ")"
   ]
  },
  {
   "cell_type": "code",
   "execution_count": 14,
   "id": "702c21ee",
   "metadata": {
    "execution": {
     "iopub.execute_input": "2022-04-15T09:53:02.235792Z",
     "iopub.status.busy": "2022-04-15T09:53:02.235550Z",
     "iopub.status.idle": "2022-04-15T10:03:57.300607Z",
     "shell.execute_reply": "2022-04-15T10:03:57.300107Z"
    },
    "papermill": {
     "duration": 655.276797,
     "end_time": "2022-04-15T10:03:57.302191",
     "exception": false,
     "start_time": "2022-04-15T09:53:02.025394",
     "status": "completed"
    },
    "tags": []
   },
   "outputs": [
    {
     "name": "stderr",
     "output_type": "stream",
     "text": [
      "/opt/conda/lib/python3.8/site-packages/transformers/optimization.py:306: FutureWarning: This implementation of AdamW is deprecated and will be removed in a future version. Use the PyTorch implementation torch.optim.AdamW instead, or set `no_deprecation_warning=True` to disable this warning\n",
      "  warnings.warn(\n",
      "***** Running training *****\n"
     ]
    },
    {
     "name": "stderr",
     "output_type": "stream",
     "text": [
      "  Num examples = 1000000\n"
     ]
    },
    {
     "name": "stderr",
     "output_type": "stream",
     "text": [
      "  Num Epochs = 1\n"
     ]
    },
    {
     "name": "stderr",
     "output_type": "stream",
     "text": [
      "  Instantaneous batch size per device = 128\n"
     ]
    },
    {
     "name": "stderr",
     "output_type": "stream",
     "text": [
      "  Total train batch size (w. parallel, distributed & accumulation) = 128\n"
     ]
    },
    {
     "name": "stderr",
     "output_type": "stream",
     "text": [
      "  Gradient Accumulation steps = 1\n"
     ]
    },
    {
     "name": "stderr",
     "output_type": "stream",
     "text": [
      "  Total optimization steps = 1500\n"
     ]
    },
    {
     "data": {
      "text/html": [
       "\n",
       "    <div>\n",
       "      \n",
       "      <progress value='1500' max='1500' style='width:300px; height:20px; vertical-align: middle;'></progress>\n",
       "      [1500/1500 10:53, Epoch 0/1]\n",
       "    </div>\n",
       "    <table border=\"1\" class=\"dataframe\">\n",
       "  <thead>\n",
       " <tr style=\"text-align: left;\">\n",
       "      <th>Step</th>\n",
       "      <th>Training Loss</th>\n",
       "    </tr>\n",
       "  </thead>\n",
       "  <tbody>\n",
       "    <tr>\n",
       "      <td>500</td>\n",
       "      <td>0.032300</td>\n",
       "    </tr>\n",
       "    <tr>\n",
       "      <td>1000</td>\n",
       "      <td>0.000400</td>\n",
       "    </tr>\n",
       "    <tr>\n",
       "      <td>1500</td>\n",
       "      <td>0.000300</td>\n",
       "    </tr>\n",
       "  </tbody>\n",
       "</table><p>"
      ],
      "text/plain": [
       "<IPython.core.display.HTML object>"
      ]
     },
     "metadata": {},
     "output_type": "display_data"
    },
    {
     "name": "stderr",
     "output_type": "stream",
     "text": [
      "Saving model checkpoint to output/checkpoint-1500\n"
     ]
    },
    {
     "name": "stderr",
     "output_type": "stream",
     "text": [
      "Configuration saved in output/checkpoint-1500/config.json\n"
     ]
    },
    {
     "name": "stderr",
     "output_type": "stream",
     "text": [
      "Model weights saved in output/checkpoint-1500/pytorch_model.bin\n"
     ]
    },
    {
     "name": "stderr",
     "output_type": "stream",
     "text": [
      "tokenizer config file saved in output/checkpoint-1500/tokenizer_config.json\n"
     ]
    },
    {
     "name": "stderr",
     "output_type": "stream",
     "text": [
      "Special tokens file saved in output/checkpoint-1500/special_tokens_map.json\n"
     ]
    },
    {
     "name": "stderr",
     "output_type": "stream",
     "text": [
      "\n",
      "\n",
      "Training completed. Do not forget to share your model on huggingface.co/models =)\n",
      "\n",
      "\n"
     ]
    }
   ],
   "source": [
    "train_result = trainer.train()"
   ]
  },
  {
   "cell_type": "code",
   "execution_count": 15,
   "id": "10c09b74",
   "metadata": {
    "execution": {
     "iopub.execute_input": "2022-04-15T10:03:57.954469Z",
     "iopub.status.busy": "2022-04-15T10:03:57.953785Z",
     "iopub.status.idle": "2022-04-15T10:03:58.247083Z",
     "shell.execute_reply": "2022-04-15T10:03:58.246523Z"
    },
    "papermill": {
     "duration": 0.534307,
     "end_time": "2022-04-15T10:03:58.248621",
     "exception": false,
     "start_time": "2022-04-15T10:03:57.714314",
     "status": "completed"
    },
    "tags": []
   },
   "outputs": [],
   "source": [
    "import pandas as pd\n",
    "\n",
    "pd.DataFrame(trainer.state.log_history).to_csv(f'logs/cl-distilled_tuning_v1_ms{max_steps}_fp16.csv', index=False)"
   ]
  },
  {
   "cell_type": "markdown",
   "id": "3157b4a2",
   "metadata": {
    "papermill": {
     "duration": 0.276289,
     "end_time": "2022-04-15T10:03:58.744308",
     "exception": false,
     "start_time": "2022-04-15T10:03:58.468019",
     "status": "completed"
    },
    "tags": []
   },
   "source": [
    "## 4. Evaluate DistilBert CL Model performance"
   ]
  },
  {
   "cell_type": "code",
   "execution_count": 16,
   "id": "28e814de",
   "metadata": {
    "execution": {
     "iopub.execute_input": "2022-04-15T10:03:59.126663Z",
     "iopub.status.busy": "2022-04-15T10:03:59.126169Z",
     "iopub.status.idle": "2022-04-15T10:04:21.771355Z",
     "shell.execute_reply": "2022-04-15T10:04:21.770830Z"
    },
    "papermill": {
     "duration": 22.780231,
     "end_time": "2022-04-15T10:04:21.772729",
     "exception": false,
     "start_time": "2022-04-15T10:03:58.992498",
     "status": "completed"
    },
    "tags": []
   },
   "outputs": [
    {
     "name": "stderr",
     "output_type": "stream",
     "text": [
      "/opt/conda/lib/python3.8/site-packages/SentEval-0.1.0-py3.8.egg/senteval/sts.py:42: VisibleDeprecationWarning: Creating an ndarray from ragged nested sequences (which is a list-or-tuple of lists-or-tuples-or ndarrays with different lengths or shapes) is deprecated. If you meant to do this, you must specify 'dtype=object' when creating the ndarray.\n",
      "/opt/conda/lib/python3.8/site-packages/SentEval-0.1.0-py3.8.egg/senteval/sts.py:43: VisibleDeprecationWarning: Creating an ndarray from ragged nested sequences (which is a list-or-tuple of lists-or-tuples-or ndarrays with different lengths or shapes) is deprecated. If you meant to do this, you must specify 'dtype=object' when creating the ndarray.\n"
     ]
    },
    {
     "name": "stdout",
     "output_type": "stream",
     "text": [
      "STS12:  0.5590247403757233\n",
      "STS13:  0.6708615589719261\n",
      "STS14:  0.6116797978517076\n",
      "STS15:  0.7218898232760331\n",
      "STSB:  0.6898516918201713\n"
     ]
    },
    {
     "data": {
      "text/plain": [
       "{'STSBenchmark': {'train': {'pearson': (0.7112312786566926, 0.0),\n",
       "   'spearman': SpearmanrResult(correlation=0.6777455059302264, pvalue=0.0),\n",
       "   'nsamples': 5749},\n",
       "  'dev': {'pearson': (0.7227365007995876, 1.286537260649573e-242),\n",
       "   'spearman': SpearmanrResult(correlation=0.7310104130809703, pvalue=6.430760926985425e-251),\n",
       "   'nsamples': 1500},\n",
       "  'test': {'pearson': (0.6994406473440222, 4.0548245279315317e-203),\n",
       "   'spearman': SpearmanrResult(correlation=0.6898516918201713, pvalue=2.0539525904659243e-195),\n",
       "   'nsamples': 1379},\n",
       "  'all': {'pearson': {'all': 0.7084173240457232,\n",
       "    'mean': 0.7111361422667675,\n",
       "    'wmean': 0.7113470126198556},\n",
       "   'spearman': {'all': 0.694062622095722,\n",
       "    'mean': 0.6995358702771227,\n",
       "    'wmean': 0.6889406602033314}}},\n",
       " 'STS12': {'MSRpar': {'pearson': (0.4304100087278125, 3.5564109205321814e-35),\n",
       "   'spearman': SpearmanrResult(correlation=0.4702992397200293, pvalue=1.54042731854987e-42),\n",
       "   'nsamples': 750},\n",
       "  'MSRvid': {'pearson': (0.7702266894142293, 2.9287052289921765e-148),\n",
       "   'spearman': SpearmanrResult(correlation=0.7708847872939035, pvalue=1.1502797606699797e-148),\n",
       "   'nsamples': 750},\n",
       "  'SMTeuroparl': {'pearson': (0.5359163536851815, 1.7480945079580936e-35),\n",
       "   'spearman': SpearmanrResult(correlation=0.6123204508587485, pvalue=1.418712381957801e-48),\n",
       "   'nsamples': 459},\n",
       "  'surprise.OnWN': {'pearson': (0.6983993622248029, 9.176769229906318e-111),\n",
       "   'spearman': SpearmanrResult(correlation=0.6808592412608494, pvalue=2.9458655792766285e-103),\n",
       "   'nsamples': 750},\n",
       "  'surprise.SMTnews': {'pearson': (0.5911328048517039, 5.8396810925435654e-39),\n",
       "   'spearman': SpearmanrResult(correlation=0.5234990008432436, pvalue=1.8636192097596133e-29),\n",
       "   'nsamples': 399},\n",
       "  'all': {'pearson': {'all': 0.5944554540635986,\n",
       "    'mean': 0.605217043780746,\n",
       "    'wmean': 0.613296216458321},\n",
       "   'spearman': {'all': 0.5590247403757233,\n",
       "    'mean': 0.6115725439953549,\n",
       "    'wmean': 0.6214490474538953}}},\n",
       " 'STS13': {'FNWN': {'pearson': (0.5815270047824226, 1.7220665768512522e-18),\n",
       "   'spearman': SpearmanrResult(correlation=0.6008207346300426, pvalue=6.28006738296211e-20),\n",
       "   'nsamples': 189},\n",
       "  'headlines': {'pearson': (0.712226956413559, 4.449832391249865e-117),\n",
       "   'spearman': SpearmanrResult(correlation=0.7044376339092827, pvalue=1.7804466572584092e-113),\n",
       "   'nsamples': 750},\n",
       "  'OnWN': {'pearson': (0.6088704916690516, 3.299567528325268e-58),\n",
       "   'spearman': SpearmanrResult(correlation=0.625359773449554, pvalue=3.283423565834053e-62),\n",
       "   'nsamples': 561},\n",
       "  'all': {'pearson': {'all': 0.654724103373656,\n",
       "    'mean': 0.6342081509550112,\n",
       "    'wmean': 0.65710344469359},\n",
       "   'spearman': {'all': 0.6708615589719261,\n",
       "    'mean': 0.6435393806629598,\n",
       "    'wmean': 0.6618067847881598}}},\n",
       " 'STS14': {'deft-forum': {'pearson': (0.4792165057612221,\n",
       "    3.240958581145509e-27),\n",
       "   'spearman': SpearmanrResult(correlation=0.47521893953687866, pvalue=9.882677674972479e-27),\n",
       "   'nsamples': 450},\n",
       "  'deft-news': {'pearson': (0.7717879359359966, 1.519822645207367e-60),\n",
       "   'spearman': SpearmanrResult(correlation=0.7540007510497598, pvalue=2.4864159362616404e-56),\n",
       "   'nsamples': 300},\n",
       "  'headlines': {'pearson': (0.6808489465443226, 2.974842918174765e-103),\n",
       "   'spearman': SpearmanrResult(correlation=0.6276314041116189, pvalue=2.148519812073831e-83),\n",
       "   'nsamples': 750},\n",
       "  'images': {'pearson': (0.7457380180826545, 4.647539130421711e-134),\n",
       "   'spearman': SpearmanrResult(correlation=0.7111855413151194, pvalue=1.3705459872047848e-116),\n",
       "   'nsamples': 750},\n",
       "  'OnWN': {'pearson': (0.7486448314737029, 1.169934622224839e-135),\n",
       "   'spearman': SpearmanrResult(correlation=0.7718226293565523, pvalue=3.020281788088233e-149),\n",
       "   'nsamples': 750},\n",
       "  'tweet-news': {'pearson': (0.7452165483988419, 8.949130850356353e-134),\n",
       "   'spearman': SpearmanrResult(correlation=0.6630662995586548, pvalue=3.667361987239844e-96),\n",
       "   'nsamples': 750},\n",
       "  'all': {'pearson': {'all': 0.6407758666677562,\n",
       "    'mean': 0.6952421310327902,\n",
       "    'wmean': 0.7033386844661308},\n",
       "   'spearman': {'all': 0.6116797978517076,\n",
       "    'mean': 0.6671542608214307,\n",
       "    'wmean': 0.6720875076967953}}},\n",
       " 'STS15': {'answers-forums': {'pearson': (0.6923781832426138,\n",
       "    8.019847839965621e-55),\n",
       "   'spearman': SpearmanrResult(correlation=0.6912700466679003, pvalue=1.390103173111606e-54),\n",
       "   'nsamples': 375},\n",
       "  'answers-students': {'pearson': (0.6689685010683981, 1.842709151189679e-98),\n",
       "   'spearman': SpearmanrResult(correlation=0.6646447380735094, pvalue=9.00962896610576e-97),\n",
       "   'nsamples': 750},\n",
       "  'belief': {'pearson': (0.7697251130865208, 1.0521724340320706e-74),\n",
       "   'spearman': SpearmanrResult(correlation=0.7808207953205331, pvalue=3.328540006376576e-78),\n",
       "   'nsamples': 375},\n",
       "  'headlines': {'pearson': (0.7447332757106003, 1.6401171209623463e-133),\n",
       "   'spearman': SpearmanrResult(correlation=0.7349600365073988, pvalue=2.5751497237847385e-128),\n",
       "   'nsamples': 750},\n",
       "  'images': {'pearson': (0.8171086118109405, 4.178361742787499e-181),\n",
       "   'spearman': SpearmanrResult(correlation=0.8241778776144487, pvalue=7.001208631223104e-187),\n",
       "   'nsamples': 750},\n",
       "  'all': {'pearson': {'all': 0.7159886293795857,\n",
       "    'mean': 0.7385827369838147,\n",
       "    'wmean': 0.7404655091886264},\n",
       "   'spearman': {'all': 0.7218898232760331,\n",
       "    'mean': 0.7391746988367581,\n",
       "    'wmean': 0.7399570182973934}}}}"
      ]
     },
     "execution_count": 16,
     "metadata": {},
     "output_type": "execute_result"
    }
   ],
   "source": [
    "model.eval()\n",
    "\n",
    "results = evaluate_model()\n",
    "results"
   ]
  }
 ],
 "metadata": {
  "celltoolbar": "Tags",
  "kernelspec": {
   "display_name": "Python 3 (ipykernel)",
   "language": "python",
   "name": "python3"
  },
  "language_info": {
   "codemirror_mode": {
    "name": "ipython",
    "version": 3
   },
   "file_extension": ".py",
   "mimetype": "text/x-python",
   "name": "python",
   "nbconvert_exporter": "python",
   "pygments_lexer": "ipython3",
   "version": "3.8.12"
  },
  "papermill": {
   "default_parameters": {},
   "duration": 703.083736,
   "end_time": "2022-04-15T10:04:23.584641",
   "environment_variables": {},
   "exception": null,
   "input_path": "notebooks/training/cl-distilbert_tuning_v1.ipynb",
   "output_path": "notebooks/training/cl-distilbert_tuning_v1_ms1500.ipynb",
   "parameters": {
    "max_steps": 1500
   },
   "start_time": "2022-04-15T09:52:40.500905",
   "version": "2.3.4"
  },
  "toc": {
   "base_numbering": 1,
   "nav_menu": {},
   "number_sections": false,
   "sideBar": true,
   "skip_h1_title": false,
   "title_cell": "Table of Contents",
   "title_sidebar": "Contents",
   "toc_cell": false,
   "toc_position": {},
   "toc_section_display": true,
   "toc_window_display": false
  },
  "widgets": {
   "application/vnd.jupyter.widget-state+json": {
    "state": {
     "09a01996fef940bd9beaeed6ab48b595": {
      "model_module": "@jupyter-widgets/base",
      "model_module_version": "1.2.0",
      "model_name": "LayoutModel",
      "state": {
       "_model_module": "@jupyter-widgets/base",
       "_model_module_version": "1.2.0",
       "_model_name": "LayoutModel",
       "_view_count": null,
       "_view_module": "@jupyter-widgets/base",
       "_view_module_version": "1.2.0",
       "_view_name": "LayoutView",
       "align_content": null,
       "align_items": null,
       "align_self": null,
       "border": null,
       "bottom": null,
       "display": null,
       "flex": null,
       "flex_flow": null,
       "grid_area": null,
       "grid_auto_columns": null,
       "grid_auto_flow": null,
       "grid_auto_rows": null,
       "grid_column": null,
       "grid_gap": null,
       "grid_row": null,
       "grid_template_areas": null,
       "grid_template_columns": null,
       "grid_template_rows": null,
       "height": null,
       "justify_content": null,
       "justify_items": null,
       "left": null,
       "margin": null,
       "max_height": null,
       "max_width": null,
       "min_height": null,
       "min_width": null,
       "object_fit": null,
       "object_position": null,
       "order": null,
       "overflow": null,
       "overflow_x": null,
       "overflow_y": null,
       "padding": null,
       "right": null,
       "top": null,
       "visibility": null,
       "width": null
      }
     },
     "1ea06d6ad47d48709d77e13f65d45295": {
      "model_module": "@jupyter-widgets/base",
      "model_module_version": "1.2.0",
      "model_name": "LayoutModel",
      "state": {
       "_model_module": "@jupyter-widgets/base",
       "_model_module_version": "1.2.0",
       "_model_name": "LayoutModel",
       "_view_count": null,
       "_view_module": "@jupyter-widgets/base",
       "_view_module_version": "1.2.0",
       "_view_name": "LayoutView",
       "align_content": null,
       "align_items": null,
       "align_self": null,
       "border": null,
       "bottom": null,
       "display": null,
       "flex": null,
       "flex_flow": null,
       "grid_area": null,
       "grid_auto_columns": null,
       "grid_auto_flow": null,
       "grid_auto_rows": null,
       "grid_column": null,
       "grid_gap": null,
       "grid_row": null,
       "grid_template_areas": null,
       "grid_template_columns": null,
       "grid_template_rows": null,
       "height": null,
       "justify_content": null,
       "justify_items": null,
       "left": null,
       "margin": null,
       "max_height": null,
       "max_width": null,
       "min_height": null,
       "min_width": null,
       "object_fit": null,
       "object_position": null,
       "order": null,
       "overflow": null,
       "overflow_x": null,
       "overflow_y": null,
       "padding": null,
       "right": null,
       "top": null,
       "visibility": null,
       "width": null
      }
     },
     "220171435866466a94c8625113a8dee4": {
      "model_module": "@jupyter-widgets/base",
      "model_module_version": "1.2.0",
      "model_name": "LayoutModel",
      "state": {
       "_model_module": "@jupyter-widgets/base",
       "_model_module_version": "1.2.0",
       "_model_name": "LayoutModel",
       "_view_count": null,
       "_view_module": "@jupyter-widgets/base",
       "_view_module_version": "1.2.0",
       "_view_name": "LayoutView",
       "align_content": null,
       "align_items": null,
       "align_self": null,
       "border": null,
       "bottom": null,
       "display": null,
       "flex": null,
       "flex_flow": null,
       "grid_area": null,
       "grid_auto_columns": null,
       "grid_auto_flow": null,
       "grid_auto_rows": null,
       "grid_column": null,
       "grid_gap": null,
       "grid_row": null,
       "grid_template_areas": null,
       "grid_template_columns": null,
       "grid_template_rows": null,
       "height": null,
       "justify_content": null,
       "justify_items": null,
       "left": null,
       "margin": null,
       "max_height": null,
       "max_width": null,
       "min_height": null,
       "min_width": null,
       "object_fit": null,
       "object_position": null,
       "order": null,
       "overflow": null,
       "overflow_x": null,
       "overflow_y": null,
       "padding": null,
       "right": null,
       "top": null,
       "visibility": null,
       "width": null
      }
     },
     "29f075b7c5bb477693506fcb60f615ec": {
      "model_module": "@jupyter-widgets/controls",
      "model_module_version": "1.5.0",
      "model_name": "DescriptionStyleModel",
      "state": {
       "_model_module": "@jupyter-widgets/controls",
       "_model_module_version": "1.5.0",
       "_model_name": "DescriptionStyleModel",
       "_view_count": null,
       "_view_module": "@jupyter-widgets/base",
       "_view_module_version": "1.2.0",
       "_view_name": "StyleView",
       "description_width": ""
      }
     },
     "40b7fef5e78842f99aba6cf16590ebf2": {
      "model_module": "@jupyter-widgets/controls",
      "model_module_version": "1.5.0",
      "model_name": "HTMLModel",
      "state": {
       "_dom_classes": [],
       "_model_module": "@jupyter-widgets/controls",
       "_model_module_version": "1.5.0",
       "_model_name": "HTMLModel",
       "_view_count": null,
       "_view_module": "@jupyter-widgets/controls",
       "_view_module_version": "1.5.0",
       "_view_name": "HTMLView",
       "description": "",
       "description_tooltip": null,
       "layout": "IPY_MODEL_09a01996fef940bd9beaeed6ab48b595",
       "placeholder": "​",
       "style": "IPY_MODEL_29f075b7c5bb477693506fcb60f615ec",
       "value": "100%"
      }
     },
     "5d62760069ac4c3a92db0dea24d6a3eb": {
      "model_module": "@jupyter-widgets/base",
      "model_module_version": "1.2.0",
      "model_name": "LayoutModel",
      "state": {
       "_model_module": "@jupyter-widgets/base",
       "_model_module_version": "1.2.0",
       "_model_name": "LayoutModel",
       "_view_count": null,
       "_view_module": "@jupyter-widgets/base",
       "_view_module_version": "1.2.0",
       "_view_name": "LayoutView",
       "align_content": null,
       "align_items": null,
       "align_self": null,
       "border": null,
       "bottom": null,
       "display": null,
       "flex": null,
       "flex_flow": null,
       "grid_area": null,
       "grid_auto_columns": null,
       "grid_auto_flow": null,
       "grid_auto_rows": null,
       "grid_column": null,
       "grid_gap": null,
       "grid_row": null,
       "grid_template_areas": null,
       "grid_template_columns": null,
       "grid_template_rows": null,
       "height": null,
       "justify_content": null,
       "justify_items": null,
       "left": null,
       "margin": null,
       "max_height": null,
       "max_width": null,
       "min_height": null,
       "min_width": null,
       "object_fit": null,
       "object_position": null,
       "order": null,
       "overflow": null,
       "overflow_x": null,
       "overflow_y": null,
       "padding": null,
       "right": null,
       "top": null,
       "visibility": null,
       "width": null
      }
     },
     "6501bc0db5d940599cd2259625e20e86": {
      "model_module": "@jupyter-widgets/controls",
      "model_module_version": "1.5.0",
      "model_name": "DescriptionStyleModel",
      "state": {
       "_model_module": "@jupyter-widgets/controls",
       "_model_module_version": "1.5.0",
       "_model_name": "DescriptionStyleModel",
       "_view_count": null,
       "_view_module": "@jupyter-widgets/base",
       "_view_module_version": "1.2.0",
       "_view_name": "StyleView",
       "description_width": ""
      }
     },
     "6cba7c8be8cb41d283ba38b855c6db55": {
      "model_module": "@jupyter-widgets/controls",
      "model_module_version": "1.5.0",
      "model_name": "HTMLModel",
      "state": {
       "_dom_classes": [],
       "_model_module": "@jupyter-widgets/controls",
       "_model_module_version": "1.5.0",
       "_model_name": "HTMLModel",
       "_view_count": null,
       "_view_module": "@jupyter-widgets/controls",
       "_view_module_version": "1.5.0",
       "_view_name": "HTMLView",
       "description": "",
       "description_tooltip": null,
       "layout": "IPY_MODEL_220171435866466a94c8625113a8dee4",
       "placeholder": "​",
       "style": "IPY_MODEL_6501bc0db5d940599cd2259625e20e86",
       "value": " 1/1 [00:00&lt;00:00, 51.63it/s]"
      }
     },
     "7f516c75bf034343921eb96164f6453c": {
      "model_module": "@jupyter-widgets/controls",
      "model_module_version": "1.5.0",
      "model_name": "FloatProgressModel",
      "state": {
       "_dom_classes": [],
       "_model_module": "@jupyter-widgets/controls",
       "_model_module_version": "1.5.0",
       "_model_name": "FloatProgressModel",
       "_view_count": null,
       "_view_module": "@jupyter-widgets/controls",
       "_view_module_version": "1.5.0",
       "_view_name": "ProgressView",
       "bar_style": "success",
       "description": "",
       "description_tooltip": null,
       "layout": "IPY_MODEL_1ea06d6ad47d48709d77e13f65d45295",
       "max": 1,
       "min": 0,
       "orientation": "horizontal",
       "style": "IPY_MODEL_a7e301bc4aee4268bc5e8076ffea7bc8",
       "value": 1
      }
     },
     "99f207fc4be6417e91b74174528368ad": {
      "model_module": "@jupyter-widgets/controls",
      "model_module_version": "1.5.0",
      "model_name": "HBoxModel",
      "state": {
       "_dom_classes": [],
       "_model_module": "@jupyter-widgets/controls",
       "_model_module_version": "1.5.0",
       "_model_name": "HBoxModel",
       "_view_count": null,
       "_view_module": "@jupyter-widgets/controls",
       "_view_module_version": "1.5.0",
       "_view_name": "HBoxView",
       "box_style": "",
       "children": [
        "IPY_MODEL_40b7fef5e78842f99aba6cf16590ebf2",
        "IPY_MODEL_7f516c75bf034343921eb96164f6453c",
        "IPY_MODEL_6cba7c8be8cb41d283ba38b855c6db55"
       ],
       "layout": "IPY_MODEL_5d62760069ac4c3a92db0dea24d6a3eb"
      }
     },
     "a7e301bc4aee4268bc5e8076ffea7bc8": {
      "model_module": "@jupyter-widgets/controls",
      "model_module_version": "1.5.0",
      "model_name": "ProgressStyleModel",
      "state": {
       "_model_module": "@jupyter-widgets/controls",
       "_model_module_version": "1.5.0",
       "_model_name": "ProgressStyleModel",
       "_view_count": null,
       "_view_module": "@jupyter-widgets/base",
       "_view_module_version": "1.2.0",
       "_view_name": "StyleView",
       "bar_color": null,
       "description_width": ""
      }
     }
    },
    "version_major": 2,
    "version_minor": 0
   }
  }
 },
 "nbformat": 4,
 "nbformat_minor": 5
}
